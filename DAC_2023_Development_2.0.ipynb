{
  "cells": [
    {
      "cell_type": "markdown",
      "metadata": {},
      "source": [
        "# Consultant of Network Attack Detection"
      ]
    },
    {
      "cell_type": "markdown",
      "metadata": {},
      "source": [
        "\n",
        "deskripsi (ada di pdf).\n",
        "\n",
        "Network Intrusion Detection  System (NIDS)"
      ]
    },
    {
      "cell_type": "markdown",
      "metadata": {},
      "source": [
        "## Goal\n",
        "\n",
        "Untuk menganalisis klasifikasi type of attack berdasarkan variabel kunci.\n",
        "\n",
        "Untuk menemukan model klasifikasi terbaik (objectives) Network Intrusion Detection  System (NIDS)."
      ]
    },
    {
      "cell_type": "markdown",
      "metadata": {},
      "source": [
        "## Source of the dataset\n",
        "\n",
        "GDrive: [click here](https://drive.google.com/drive/folders/1lOz8fx9AI7lWSEN9myIn18RmMrPErq8D?usp=drive_link)"
      ]
    },
    {
      "cell_type": "markdown",
      "metadata": {},
      "source": [
        "## Atribute Information\n",
        "\n",
        "The inputs (Var X/independent var) are as follows\n",
        "\n",
        "- duration\n",
        "- protocol_type\n",
        "- service\n",
        "- flag\n",
        "- src_bytes\n",
        "- dst_bytes\n",
        "- land\n",
        "- wrong_fragment\n",
        "- urgent\n",
        "- hot\n",
        "- num_failed_logins\n",
        "- logged_in\n",
        "- num_compromised\n",
        "- root_shell\n",
        "- su_attempted\n",
        "- num_root\n",
        "- num_file_creations\n",
        "- num_shells\n",
        "- num_access_files\n",
        "- num_outbound_cmds\n",
        "- is_host_login\n",
        "- is_guest_login\n",
        "- count\n",
        "- srv_count\n",
        "- serror_rate\n",
        "- srv_serror_rate\n",
        "- rerror_rate\n",
        "- srv_rerror_rate\n",
        "- same_srv_rate\n",
        "- diff_srv_rate\n",
        "- srv_diff_host_rate\n",
        "- dst_host_count\n",
        "- dst_host_srv_count\n",
        "- dst_host_same_srv_rate\n",
        "- dst_host_diff_srv_rate\n",
        "- dst_host_same_src_port_rate\n",
        "- dst_host_srv_diff_host_rate\n",
        "- dst_host_serror_rate\n",
        "- dst_host_srv_serror_rate\n",
        "- dst_host_rerror_rate\n",
        "- dst_host_srv_rerror_rate\n",
        "- type_of_attack\n",
        "\n",
        "The output (target/Y/dependent var) is as follow:\n",
        "\n",
        "- detect attack"
      ]
    },
    {
      "cell_type": "markdown",
      "metadata": {
        "id": "wbs6-2E_UJWP"
      },
      "source": [
        "# Import Library\n"
      ]
    },
    {
      "cell_type": "code",
      "execution_count": 129,
      "metadata": {
        "colab": {
          "base_uri": "https://localhost:8080/"
        },
        "id": "PJuHBrGdRovg",
        "outputId": "24775c1e-1301-41a4-83af-5160a88ec3f5"
      },
      "outputs": [],
      "source": [
        "import numpy as np\n",
        "import pandas as pd\n",
        "import matplotlib.pyplot as plt\n",
        "import seaborn as sns\n",
        "import matplotlib.pyplot as plt\n",
        "import plotly.express as px\n",
        "\n",
        "from ydata_profiling import ProfileReport\n",
        "from scipy.interpolate import PchipInterpolator\n",
        "from imblearn.combine import SMOTEENN"
      ]
    },
    {
      "cell_type": "markdown",
      "metadata": {},
      "source": [
        "install\n",
        "\n",
        "pip install plotly\n",
        "\n",
        "pip install imbalanced-learn\n"
      ]
    },
    {
      "cell_type": "markdown",
      "metadata": {
        "id": "BD6eFMCkUZKi"
      },
      "source": [
        "# 0. Import Dataset"
      ]
    },
    {
      "cell_type": "code",
      "execution_count": 201,
      "metadata": {
        "id": "Iuo-ubCUW7XI"
      },
      "outputs": [],
      "source": [
        "# Path to training and validation dataset\n",
        "train_PATH = 'D:\\DAC-2023\\Dataset\\DataTrain_Preliminary.csv'"
      ]
    },
    {
      "cell_type": "markdown",
      "metadata": {},
      "source": [
        "As a network attack detection consultant, we have been provided with two datasets: one for training and one for prediction. With these datasets, we can already narrow down the scope of our analysis, which in this case is creating a predictive model. Predictive model will naturally involve machine learning techniques. However, the field of machine learning itself is quite broad.\n",
        "\n",
        "Therefore, we will begin by closely examining the data to refine our analysis to choose the best algorithm to discover the predictive model for effective network attack detection. This process involves exploring the data, identifying relevant features, and iteratively refining our approach until we find the most suitable predictive model."
      ]
    },
    {
      "cell_type": "code",
      "execution_count": 202,
      "metadata": {
        "colab": {
          "base_uri": "https://localhost:8080/",
          "height": 443
        },
        "id": "NR1MlVJOWPJr",
        "outputId": "c07faae0-26f2-4d81-9bae-4cea55c2dc8d"
      },
      "outputs": [
        {
          "data": {
            "text/html": [
              "<div>\n",
              "<style scoped>\n",
              "    .dataframe tbody tr th:only-of-type {\n",
              "        vertical-align: middle;\n",
              "    }\n",
              "\n",
              "    .dataframe tbody tr th {\n",
              "        vertical-align: top;\n",
              "    }\n",
              "\n",
              "    .dataframe thead th {\n",
              "        text-align: right;\n",
              "    }\n",
              "</style>\n",
              "<table border=\"1\" class=\"dataframe\">\n",
              "  <thead>\n",
              "    <tr style=\"text-align: right;\">\n",
              "      <th></th>\n",
              "      <th>duration</th>\n",
              "      <th>protocol_type</th>\n",
              "      <th>service</th>\n",
              "      <th>flag</th>\n",
              "      <th>src_bytes</th>\n",
              "      <th>dst_bytes</th>\n",
              "      <th>land</th>\n",
              "      <th>wrong_fragment</th>\n",
              "      <th>urgent</th>\n",
              "      <th>hot</th>\n",
              "      <th>...</th>\n",
              "      <th>dst_host_srv_count</th>\n",
              "      <th>dst_host_same_srv_rate</th>\n",
              "      <th>dst_host_diff_srv_rate</th>\n",
              "      <th>dst_host_same_src_port_rate</th>\n",
              "      <th>dst_host_srv_diff_host_rate</th>\n",
              "      <th>dst_host_serror_rate</th>\n",
              "      <th>dst_host_srv_serror_rate</th>\n",
              "      <th>dst_host_rerror_rate</th>\n",
              "      <th>dst_host_srv_rerror_rate</th>\n",
              "      <th>type_of_attack</th>\n",
              "    </tr>\n",
              "  </thead>\n",
              "  <tbody>\n",
              "    <tr>\n",
              "      <th>0</th>\n",
              "      <td>0</td>\n",
              "      <td>tcp</td>\n",
              "      <td>private</td>\n",
              "      <td>SH</td>\n",
              "      <td>0</td>\n",
              "      <td>0</td>\n",
              "      <td>0</td>\n",
              "      <td>0</td>\n",
              "      <td>0</td>\n",
              "      <td>0</td>\n",
              "      <td>...</td>\n",
              "      <td>1</td>\n",
              "      <td>0.01</td>\n",
              "      <td>0.94</td>\n",
              "      <td>0.95</td>\n",
              "      <td>0</td>\n",
              "      <td>0.95</td>\n",
              "      <td>1</td>\n",
              "      <td>0</td>\n",
              "      <td>0</td>\n",
              "      <td>nmap</td>\n",
              "    </tr>\n",
              "    <tr>\n",
              "      <th>1</th>\n",
              "      <td>0</td>\n",
              "      <td>tcp</td>\n",
              "      <td>private</td>\n",
              "      <td>S0</td>\n",
              "      <td>0</td>\n",
              "      <td>0</td>\n",
              "      <td>0</td>\n",
              "      <td>0</td>\n",
              "      <td>0</td>\n",
              "      <td>0</td>\n",
              "      <td>...</td>\n",
              "      <td>5</td>\n",
              "      <td>0.02</td>\n",
              "      <td>0.08</td>\n",
              "      <td>0.00</td>\n",
              "      <td>0</td>\n",
              "      <td>1.00</td>\n",
              "      <td>1</td>\n",
              "      <td>0</td>\n",
              "      <td>0</td>\n",
              "      <td>neptune</td>\n",
              "    </tr>\n",
              "    <tr>\n",
              "      <th>2</th>\n",
              "      <td>0</td>\n",
              "      <td>tcp</td>\n",
              "      <td>http</td>\n",
              "      <td>SF</td>\n",
              "      <td>285</td>\n",
              "      <td>3623</td>\n",
              "      <td>0</td>\n",
              "      <td>0</td>\n",
              "      <td>0</td>\n",
              "      <td>0</td>\n",
              "      <td>...</td>\n",
              "      <td>228</td>\n",
              "      <td>1.00</td>\n",
              "      <td>0.00</td>\n",
              "      <td>0.01</td>\n",
              "      <td>*</td>\n",
              "      <td>0.00</td>\n",
              "      <td>0</td>\n",
              "      <td>0</td>\n",
              "      <td>0</td>\n",
              "      <td>normal</td>\n",
              "    </tr>\n",
              "    <tr>\n",
              "      <th>3</th>\n",
              "      <td>0</td>\n",
              "      <td>tcp</td>\n",
              "      <td>http</td>\n",
              "      <td>SF</td>\n",
              "      <td>232</td>\n",
              "      <td>584</td>\n",
              "      <td>0</td>\n",
              "      <td>0</td>\n",
              "      <td>0</td>\n",
              "      <td>0</td>\n",
              "      <td>...</td>\n",
              "      <td>255</td>\n",
              "      <td>1.00</td>\n",
              "      <td>0.00</td>\n",
              "      <td>0.17</td>\n",
              "      <td>*</td>\n",
              "      <td>0.00</td>\n",
              "      <td>0</td>\n",
              "      <td>0</td>\n",
              "      <td>0</td>\n",
              "      <td>normal</td>\n",
              "    </tr>\n",
              "    <tr>\n",
              "      <th>4</th>\n",
              "      <td>1</td>\n",
              "      <td>tcp</td>\n",
              "      <td>smtp</td>\n",
              "      <td>SF</td>\n",
              "      <td>1080</td>\n",
              "      <td>327</td>\n",
              "      <td>0</td>\n",
              "      <td>0</td>\n",
              "      <td>0</td>\n",
              "      <td>0</td>\n",
              "      <td>...</td>\n",
              "      <td>154</td>\n",
              "      <td>0.58</td>\n",
              "      <td>0.02</td>\n",
              "      <td>0.00</td>\n",
              "      <td>*</td>\n",
              "      <td>0.00</td>\n",
              "      <td>0</td>\n",
              "      <td>0</td>\n",
              "      <td>0</td>\n",
              "      <td>normal</td>\n",
              "    </tr>\n",
              "  </tbody>\n",
              "</table>\n",
              "<p>5 rows × 42 columns</p>\n",
              "</div>"
            ],
            "text/plain": [
              "  duration protocol_type  service flag src_bytes dst_bytes land  \\\n",
              "0        0           tcp  private   SH         0         0    0   \n",
              "1        0           tcp  private   S0         0         0    0   \n",
              "2        0           tcp     http   SF       285      3623    0   \n",
              "3        0           tcp     http   SF       232       584    0   \n",
              "4        1           tcp     smtp   SF      1080       327    0   \n",
              "\n",
              "  wrong_fragment urgent hot  ... dst_host_srv_count dst_host_same_srv_rate  \\\n",
              "0              0      0   0  ...                  1                   0.01   \n",
              "1              0      0   0  ...                  5                   0.02   \n",
              "2              0      0   0  ...                228                   1.00   \n",
              "3              0      0   0  ...                255                   1.00   \n",
              "4              0      0   0  ...                154                   0.58   \n",
              "\n",
              "  dst_host_diff_srv_rate dst_host_same_src_port_rate  \\\n",
              "0                   0.94                        0.95   \n",
              "1                   0.08                        0.00   \n",
              "2                   0.00                        0.01   \n",
              "3                   0.00                        0.17   \n",
              "4                   0.02                        0.00   \n",
              "\n",
              "  dst_host_srv_diff_host_rate dst_host_serror_rate dst_host_srv_serror_rate  \\\n",
              "0                           0                 0.95                        1   \n",
              "1                           0                 1.00                        1   \n",
              "2                           *                 0.00                        0   \n",
              "3                           *                 0.00                        0   \n",
              "4                           *                 0.00                        0   \n",
              "\n",
              "  dst_host_rerror_rate dst_host_srv_rerror_rate type_of_attack  \n",
              "0                    0                        0           nmap  \n",
              "1                    0                        0        neptune  \n",
              "2                    0                        0         normal  \n",
              "3                    0                        0         normal  \n",
              "4                    0                        0         normal  \n",
              "\n",
              "[5 rows x 42 columns]"
            ]
          },
          "execution_count": 202,
          "metadata": {},
          "output_type": "execute_result"
        }
      ],
      "source": [
        "df = pd.read_csv(train_PATH, delimiter=';')\n",
        "df.head()"
      ]
    },
    {
      "cell_type": "code",
      "execution_count": null,
      "metadata": {},
      "outputs": [],
      "source": [
        "df.shape"
      ]
    },
    {
      "cell_type": "markdown",
      "metadata": {},
      "source": [
        "## Feature Description"
      ]
    },
    {
      "cell_type": "markdown",
      "metadata": {},
      "source": [
        "- duration : the length of time connection in seconds\n",
        "- protocol_type : the protocol used fot the connection\n",
        "- service : the name of the network service on the target host\n",
        "- flag : the status or state of the connection\n",
        "- src_bytes : the number of bytes transferred from the source to destination\n",
        "- dst_bytes : the number of bytes transferred from the destination to source\n",
        "- land : indicates whether the connection is from/to the same host/port (1 if yes, 0 if no)\n",
        "- wrong_fragment : the number of \"wrong\" fragments in a connection\n",
        "- urgent : the number of urgent packets in a connection\n",
        "- hot : the number of \"hot\" indicators in a connection\n",
        "- num_failed_logins : the number of failed login attempts\n",
        "- logged_in : indicates whether a login was successfully performed (1 if yes, 0 if no)\n",
        "- num_compromised : the number of hosts compromised through the connection\n",
        "- root_shell : indicates whether a root shell was obtained (1 if yes, 0 if no)\n",
        "- su_attempted : indicates whether a \"su root\" command was attempted (1 if yes, 0 if no)\n",
        "- num_root : the number of root access obtained\n",
        "- num_file_creations : the number of file creation operations\n",
        "- num_shells : te number of shell prompts\n",
        "- num_access_files : the number of operations on access control files\n",
        "- num_outbound_cmds : the number of outbound commands in an FTP session\n",
        "- is_host_login : indicates whether the login belongs to the \"hot\" list (1 if yes, 0 if no)\n",
        "- is_guest_login : indicates whether the login is a guest login (1 if yes, 0 if no)\n",
        "- count : the number of connections to the same host as the current connection in the past two seconds\n",
        "- srv_count : the number of connections to the same service as the current connection in the past two seconds\n",
        "- serror_rate : the percentage of connections that had \"SYN\" errors (SYN : SYNCHRONIZE)\n",
        "- srv_serror_rate : the percentage of connections to the same service that had \"SYN\" errors\n",
        "- rerror_rate : the percentage of connections to the same service that had \"REJ\" errors (REJ : REJECTION) \n",
        "- srv_rerror_rate : the percentage of connections to the same \n",
        "service that had \"REJ\" errors\n",
        "- same_srv_rate : the percentage of connections to the same service\n",
        "- diff_srv_rate : the percentage of connections to different services\n",
        "- srv_diff_host_rate : the percentage of connections to different hosts\n",
        "- dst_host_count : the number of connections to the same destination host in the past two seconds\n",
        "- dst_host_srv_count : the number of connections to the same destination service in the past two seconds\n",
        "- dst_host_same_srv_rate : the percentage of connections to the same destination service\n",
        "- dst_host_diff_srv_rate : the percentage of connections to different destination services\n",
        "- dst_host_same_src_port_rate : he percentage of connections to the same destination host that originate from the same source port\n",
        "- dst_host_srv_diff_host_rate : the percentage of connections to the same destination service but originating from different host\n",
        "- dst_host_serror_rate : the percentage of connections to a specific destination host that have a “SYN” error\n",
        "- dst_host_srv_serror_rate : the percentage of connections to a specific destination service that have a “SYN” error\n",
        "- dst_host_rerror_rate : the percentage of connections to a specific destination host that have a “REJ” error\n",
        "- dst_host_srv_rerror_rate : the percentage of connections to a specific destination service that have a “REJ” error\n",
        "- type_of_attack : type of attack"
      ]
    },
    {
      "cell_type": "markdown",
      "metadata": {},
      "source": [
        "# 1 Data Cleaning"
      ]
    },
    {
      "cell_type": "markdown",
      "metadata": {},
      "source": [
        "## 1.1 removing nan values"
      ]
    },
    {
      "cell_type": "code",
      "execution_count": 203,
      "metadata": {},
      "outputs": [
        {
          "data": {
            "text/plain": [
              "protocol_type                   668\n",
              "service                        1020\n",
              "flag                            853\n",
              "dst_host_same_srv_rate          328\n",
              "dst_host_diff_srv_rate          243\n",
              "dst_host_same_src_port_rate     438\n",
              "dst_host_serror_rate            428\n",
              "dtype: int64"
            ]
          },
          "execution_count": 203,
          "metadata": {},
          "output_type": "execute_result"
        }
      ],
      "source": [
        "nan_sum = df.isnull().sum()\n",
        "nan_sum = nan_sum[nan_sum > 0]\n",
        "nan_sum"
      ]
    },
    {
      "cell_type": "code",
      "execution_count": 204,
      "metadata": {},
      "outputs": [
        {
          "name": "stdout",
          "output_type": "stream",
          "text": [
            "Persentage of rows with NaN value/s: 3.36%\n"
          ]
        }
      ],
      "source": [
        "# Count the number of rows with at least one missing value (NaN) or \"*\" values\n",
        "rows_with_missing_values = df[df.isnull().any(axis=1)]\n",
        "\n",
        "# Calculate the percentage of rows with missing values\n",
        "percentage_rows_with_missing = (len(rows_with_missing_values) / len(df)) * 100\n",
        "\n",
        "# Display the result\n",
        "print(f\"Persentage of rows with NaN value/s: {percentage_rows_with_missing:.2f}%\")"
      ]
    },
    {
      "cell_type": "markdown",
      "metadata": {},
      "source": [
        "Presentase row yang memiliki nan value = 3.36%. karena 3.36% < 25% maka row dengan nan value bisa dihapus. adapun caranya adalah sebagai berikut:"
      ]
    },
    {
      "cell_type": "code",
      "execution_count": 205,
      "metadata": {},
      "outputs": [
        {
          "data": {
            "text/plain": [
              "(108666, 42)"
            ]
          },
          "execution_count": 205,
          "metadata": {},
          "output_type": "execute_result"
        }
      ],
      "source": [
        "df.dropna(inplace=True)\n",
        "df.shape"
      ]
    },
    {
      "cell_type": "markdown",
      "metadata": {},
      "source": [
        "## 1.2 Change Type of the Data and Fill Missing Value"
      ]
    },
    {
      "cell_type": "markdown",
      "metadata": {},
      "source": [
        "### bool data type"
      ]
    },
    {
      "cell_type": "code",
      "execution_count": 206,
      "metadata": {},
      "outputs": [],
      "source": [
        "# pick colom that should bool data type\n",
        "bool_df = df.copy()\n",
        "bool_df = bool_df[['land', 'logged_in', 'root_shell', 'su_attempted',\n",
        "                   'is_host_login', 'is_guest_login', 'serror_rate', \n",
        "                   'srv_serror_rate', 'rerror_rate', 'srv_rerror_rate',\n",
        "                   'same_srv_rate', 'diff_srv_rate', 'srv_diff_host_rate',\n",
        "                   'type_of_attack']]"
      ]
    },
    {
      "cell_type": "code",
      "execution_count": 207,
      "metadata": {},
      "outputs": [],
      "source": [
        "# Function to filter df based on type of attack\n",
        "def filtered_by_type_of_attack(df, values):\n",
        "    filtered = df[df['type_of_attack'] == values]\n",
        "    return filtered\n",
        "\n",
        "# List of unique attack types\n",
        "attack_types = bool_df['type_of_attack'].unique()\n",
        "\n",
        "# Initialize a dictionary to store probabilities for each attack type\n",
        "probability_dict = {}\n",
        "\n",
        "# Iterate through each attack type and store probabilities\n",
        "for attack_type in attack_types:\n",
        "    filtered_data = filtered_by_type_of_attack(bool_df, attack_type)\n",
        "\n",
        "    probability_land = filtered_data['land'].value_counts(normalize=True).get('0', 0)\n",
        "    probability_logged_in = filtered_data['logged_in'].value_counts(normalize=True).get('0', 0)\n",
        "    probability_root_shell = filtered_data['root_shell'].value_counts(normalize=True).get('0', 0)\n",
        "    probability_su_attempted = filtered_data['su_attempted'].value_counts(normalize=True).get('0', 0)\n",
        "    probability_is_host_login = filtered_data['is_host_login'].value_counts(normalize=True).get('0', 0)\n",
        "    probability_is_guest_login = filtered_data['is_guest_login'].value_counts(normalize=True).get('0', 0)\n",
        "    probability_serror_rate = filtered_data['serror_rate'].value_counts(normalize=True).get('0', 0)\n",
        "    probability_srv_serror_rate = filtered_data['srv_serror_rate'].value_counts(normalize=True).get('0', 0)\n",
        "    probability_rerror_rate = filtered_data['rerror_rate'].value_counts(normalize=True).get('0', 0)\n",
        "    probability_srv_rerror_rate = filtered_data['srv_rerror_rate'].value_counts(normalize=True).get('0', 0)\n",
        "    probability_same_srv_rate = filtered_data['same_srv_rate'].value_counts(normalize=True).get('0', 0)\n",
        "    probability_diff_srv_rate = filtered_data['diff_srv_rate'].value_counts(normalize=True).get('0', 0)\n",
        "    probability_srv_diff_host_rate = filtered_data['srv_diff_host_rate'].value_counts(normalize=True).get('0', 0)\n",
        "\n",
        "    # Store probabilities in the dictionary\n",
        "    probability_dict[attack_type] = {\n",
        "        'land': probability_land,\n",
        "        'logged_in': probability_logged_in,\n",
        "        'root_shell': probability_root_shell,\n",
        "        'su_attempted': probability_su_attempted,\n",
        "        'is_host_login': probability_is_host_login,\n",
        "        'is_guest_login': probability_is_guest_login,\n",
        "        'serror_rate': probability_serror_rate,\n",
        "        'srv_serror_rate': probability_srv_serror_rate,\n",
        "        'rerror_rate': probability_rerror_rate,\n",
        "        'srv_rerror_rate': probability_srv_rerror_rate,\n",
        "        'same_srv_rate': probability_same_srv_rate,\n",
        "        'diff_srv_rate': probability_diff_srv_rate,\n",
        "        'srv_diff_host_rate': probability_srv_diff_host_rate\n",
        "    }\n",
        "\n",
        "    # Function to convert '*' and '99999' based on probability\n",
        "    def convert_value(value, probability):\n",
        "      if value == '*' or value == '99999':\n",
        "        random_number = np.random.rand()\n",
        "        if random_number <= probability:\n",
        "          return '0'\n",
        "        else:\n",
        "          return '1'\n",
        "      else:\n",
        "        return value\n",
        "\n",
        "    for column in ['land', 'logged_in', 'root_shell', 'su_attempted', 'is_host_login', 'is_guest_login', \n",
        "                   'serror_rate', 'srv_serror_rate', 'rerror_rate', 'srv_rerror_rate', 'same_srv_rate', \n",
        "                   'diff_srv_rate', 'srv_diff_host_rate']:\n",
        "      # Ambil probabilitas yang sesuai dari dictionary\n",
        "      probability = probability_dict[attack_type][column]\n",
        "\n",
        "      # Terapkan konversi ke seluruh kolom dalam DataFrame yang sesuai dengan jenis serangan saat ini\n",
        "      bool_df.loc[bool_df['type_of_attack'] == attack_type, column] = bool_df.loc[bool_df['type_of_attack'] == attack_type, column].apply(lambda x: convert_value(x, probability))"
      ]
    },
    {
      "cell_type": "code",
      "execution_count": 208,
      "metadata": {},
      "outputs": [],
      "source": [
        "# Mengubah tipe data menjadi numerik\n",
        "columns_to_convert = [col for col in bool_df.columns if col != 'type_of_attack']\n",
        "bool_df[columns_to_convert] = bool_df[columns_to_convert].astype(int)"
      ]
    },
    {
      "cell_type": "code",
      "execution_count": 209,
      "metadata": {},
      "outputs": [
        {
          "name": "stdout",
          "output_type": "stream",
          "text": [
            "<class 'pandas.core.frame.DataFrame'>\n",
            "Index: 108666 entries, 0 to 112445\n",
            "Data columns (total 14 columns):\n",
            " #   Column              Non-Null Count   Dtype \n",
            "---  ------              --------------   ----- \n",
            " 0   land                108666 non-null  int32 \n",
            " 1   logged_in           108666 non-null  int32 \n",
            " 2   root_shell          108666 non-null  int32 \n",
            " 3   su_attempted        108666 non-null  int32 \n",
            " 4   is_host_login       108666 non-null  int32 \n",
            " 5   is_guest_login      108666 non-null  int32 \n",
            " 6   serror_rate         108666 non-null  int32 \n",
            " 7   srv_serror_rate     108666 non-null  int32 \n",
            " 8   rerror_rate         108666 non-null  int32 \n",
            " 9   srv_rerror_rate     108666 non-null  int32 \n",
            " 10  same_srv_rate       108666 non-null  int32 \n",
            " 11  diff_srv_rate       108666 non-null  int32 \n",
            " 12  srv_diff_host_rate  108666 non-null  int32 \n",
            " 13  type_of_attack      108666 non-null  object\n",
            "dtypes: int32(13), object(1)\n",
            "memory usage: 7.0+ MB\n"
          ]
        }
      ],
      "source": [
        "bool_df.info()"
      ]
    },
    {
      "cell_type": "markdown",
      "metadata": {},
      "source": [
        "### int data type"
      ]
    },
    {
      "cell_type": "code",
      "execution_count": 210,
      "metadata": {},
      "outputs": [],
      "source": [
        "# pick colom that should int data type\n",
        "int_df = df.copy()\n",
        "int_df = int_df[['duration','src_bytes','dst_bytes','wrong_fragment',\n",
        "                 'urgent','hot','num_failed_logins','num_compromised',\n",
        "                 'num_root','num_file_creations','num_shells','num_access_files',\n",
        "                 'num_outbound_cmds', 'count','srv_count','dst_host_count',\n",
        "                 'dst_host_srv_count','type_of_attack']]"
      ]
    },
    {
      "cell_type": "code",
      "execution_count": 211,
      "metadata": {},
      "outputs": [
        {
          "name": "stderr",
          "output_type": "stream",
          "text": [
            "C:\\Users\\gusti\\AppData\\Local\\Temp\\ipykernel_31376\\2018956271.py:41: SettingWithCopyWarning:\n",
            "\n",
            "\n",
            "A value is trying to be set on a copy of a slice from a DataFrame\n",
            "\n",
            "See the caveats in the documentation: https://pandas.pydata.org/pandas-docs/stable/user_guide/indexing.html#returning-a-view-versus-a-copy\n",
            "\n",
            "C:\\Users\\gusti\\AppData\\Local\\Temp\\ipykernel_31376\\2018956271.py:41: SettingWithCopyWarning:\n",
            "\n",
            "\n",
            "A value is trying to be set on a copy of a slice from a DataFrame\n",
            "\n",
            "See the caveats in the documentation: https://pandas.pydata.org/pandas-docs/stable/user_guide/indexing.html#returning-a-view-versus-a-copy\n",
            "\n",
            "C:\\Users\\gusti\\AppData\\Local\\Temp\\ipykernel_31376\\2018956271.py:41: SettingWithCopyWarning:\n",
            "\n",
            "\n",
            "A value is trying to be set on a copy of a slice from a DataFrame\n",
            "\n",
            "See the caveats in the documentation: https://pandas.pydata.org/pandas-docs/stable/user_guide/indexing.html#returning-a-view-versus-a-copy\n",
            "\n",
            "C:\\Users\\gusti\\AppData\\Local\\Temp\\ipykernel_31376\\2018956271.py:41: SettingWithCopyWarning:\n",
            "\n",
            "\n",
            "A value is trying to be set on a copy of a slice from a DataFrame\n",
            "\n",
            "See the caveats in the documentation: https://pandas.pydata.org/pandas-docs/stable/user_guide/indexing.html#returning-a-view-versus-a-copy\n",
            "\n",
            "C:\\Users\\gusti\\AppData\\Local\\Temp\\ipykernel_31376\\2018956271.py:41: SettingWithCopyWarning:\n",
            "\n",
            "\n",
            "A value is trying to be set on a copy of a slice from a DataFrame\n",
            "\n",
            "See the caveats in the documentation: https://pandas.pydata.org/pandas-docs/stable/user_guide/indexing.html#returning-a-view-versus-a-copy\n",
            "\n",
            "C:\\Users\\gusti\\AppData\\Local\\Temp\\ipykernel_31376\\2018956271.py:41: SettingWithCopyWarning:\n",
            "\n",
            "\n",
            "A value is trying to be set on a copy of a slice from a DataFrame\n",
            "\n",
            "See the caveats in the documentation: https://pandas.pydata.org/pandas-docs/stable/user_guide/indexing.html#returning-a-view-versus-a-copy\n",
            "\n",
            "C:\\Users\\gusti\\AppData\\Local\\Temp\\ipykernel_31376\\2018956271.py:41: SettingWithCopyWarning:\n",
            "\n",
            "\n",
            "A value is trying to be set on a copy of a slice from a DataFrame\n",
            "\n",
            "See the caveats in the documentation: https://pandas.pydata.org/pandas-docs/stable/user_guide/indexing.html#returning-a-view-versus-a-copy\n",
            "\n",
            "C:\\Users\\gusti\\AppData\\Local\\Temp\\ipykernel_31376\\2018956271.py:41: SettingWithCopyWarning:\n",
            "\n",
            "\n",
            "A value is trying to be set on a copy of a slice from a DataFrame\n",
            "\n",
            "See the caveats in the documentation: https://pandas.pydata.org/pandas-docs/stable/user_guide/indexing.html#returning-a-view-versus-a-copy\n",
            "\n",
            "C:\\Users\\gusti\\AppData\\Local\\Temp\\ipykernel_31376\\2018956271.py:41: SettingWithCopyWarning:\n",
            "\n",
            "\n",
            "A value is trying to be set on a copy of a slice from a DataFrame\n",
            "\n",
            "See the caveats in the documentation: https://pandas.pydata.org/pandas-docs/stable/user_guide/indexing.html#returning-a-view-versus-a-copy\n",
            "\n",
            "C:\\Users\\gusti\\AppData\\Local\\Temp\\ipykernel_31376\\2018956271.py:41: SettingWithCopyWarning:\n",
            "\n",
            "\n",
            "A value is trying to be set on a copy of a slice from a DataFrame\n",
            "\n",
            "See the caveats in the documentation: https://pandas.pydata.org/pandas-docs/stable/user_guide/indexing.html#returning-a-view-versus-a-copy\n",
            "\n",
            "C:\\Users\\gusti\\AppData\\Local\\Temp\\ipykernel_31376\\2018956271.py:41: SettingWithCopyWarning:\n",
            "\n",
            "\n",
            "A value is trying to be set on a copy of a slice from a DataFrame\n",
            "\n",
            "See the caveats in the documentation: https://pandas.pydata.org/pandas-docs/stable/user_guide/indexing.html#returning-a-view-versus-a-copy\n",
            "\n",
            "C:\\Users\\gusti\\AppData\\Local\\Temp\\ipykernel_31376\\2018956271.py:41: SettingWithCopyWarning:\n",
            "\n",
            "\n",
            "A value is trying to be set on a copy of a slice from a DataFrame\n",
            "\n",
            "See the caveats in the documentation: https://pandas.pydata.org/pandas-docs/stable/user_guide/indexing.html#returning-a-view-versus-a-copy\n",
            "\n",
            "C:\\Users\\gusti\\AppData\\Local\\Temp\\ipykernel_31376\\2018956271.py:41: SettingWithCopyWarning:\n",
            "\n",
            "\n",
            "A value is trying to be set on a copy of a slice from a DataFrame\n",
            "\n",
            "See the caveats in the documentation: https://pandas.pydata.org/pandas-docs/stable/user_guide/indexing.html#returning-a-view-versus-a-copy\n",
            "\n",
            "C:\\Users\\gusti\\AppData\\Local\\Temp\\ipykernel_31376\\2018956271.py:41: SettingWithCopyWarning:\n",
            "\n",
            "\n",
            "A value is trying to be set on a copy of a slice from a DataFrame\n",
            "\n",
            "See the caveats in the documentation: https://pandas.pydata.org/pandas-docs/stable/user_guide/indexing.html#returning-a-view-versus-a-copy\n",
            "\n",
            "C:\\Users\\gusti\\AppData\\Local\\Temp\\ipykernel_31376\\2018956271.py:41: SettingWithCopyWarning:\n",
            "\n",
            "\n",
            "A value is trying to be set on a copy of a slice from a DataFrame\n",
            "\n",
            "See the caveats in the documentation: https://pandas.pydata.org/pandas-docs/stable/user_guide/indexing.html#returning-a-view-versus-a-copy\n",
            "\n",
            "C:\\Users\\gusti\\AppData\\Local\\Temp\\ipykernel_31376\\2018956271.py:41: SettingWithCopyWarning:\n",
            "\n",
            "\n",
            "A value is trying to be set on a copy of a slice from a DataFrame\n",
            "\n",
            "See the caveats in the documentation: https://pandas.pydata.org/pandas-docs/stable/user_guide/indexing.html#returning-a-view-versus-a-copy\n",
            "\n",
            "C:\\Users\\gusti\\AppData\\Local\\Temp\\ipykernel_31376\\2018956271.py:41: SettingWithCopyWarning:\n",
            "\n",
            "\n",
            "A value is trying to be set on a copy of a slice from a DataFrame\n",
            "\n",
            "See the caveats in the documentation: https://pandas.pydata.org/pandas-docs/stable/user_guide/indexing.html#returning-a-view-versus-a-copy\n",
            "\n",
            "C:\\Users\\gusti\\AppData\\Local\\Temp\\ipykernel_31376\\2018956271.py:41: SettingWithCopyWarning:\n",
            "\n",
            "\n",
            "A value is trying to be set on a copy of a slice from a DataFrame\n",
            "\n",
            "See the caveats in the documentation: https://pandas.pydata.org/pandas-docs/stable/user_guide/indexing.html#returning-a-view-versus-a-copy\n",
            "\n",
            "C:\\Users\\gusti\\AppData\\Local\\Temp\\ipykernel_31376\\2018956271.py:41: SettingWithCopyWarning:\n",
            "\n",
            "\n",
            "A value is trying to be set on a copy of a slice from a DataFrame\n",
            "\n",
            "See the caveats in the documentation: https://pandas.pydata.org/pandas-docs/stable/user_guide/indexing.html#returning-a-view-versus-a-copy\n",
            "\n",
            "C:\\Users\\gusti\\AppData\\Local\\Temp\\ipykernel_31376\\2018956271.py:41: SettingWithCopyWarning:\n",
            "\n",
            "\n",
            "A value is trying to be set on a copy of a slice from a DataFrame\n",
            "\n",
            "See the caveats in the documentation: https://pandas.pydata.org/pandas-docs/stable/user_guide/indexing.html#returning-a-view-versus-a-copy\n",
            "\n",
            "C:\\Users\\gusti\\AppData\\Local\\Temp\\ipykernel_31376\\2018956271.py:41: SettingWithCopyWarning:\n",
            "\n",
            "\n",
            "A value is trying to be set on a copy of a slice from a DataFrame\n",
            "\n",
            "See the caveats in the documentation: https://pandas.pydata.org/pandas-docs/stable/user_guide/indexing.html#returning-a-view-versus-a-copy\n",
            "\n",
            "C:\\Users\\gusti\\AppData\\Local\\Temp\\ipykernel_31376\\2018956271.py:41: SettingWithCopyWarning:\n",
            "\n",
            "\n",
            "A value is trying to be set on a copy of a slice from a DataFrame\n",
            "\n",
            "See the caveats in the documentation: https://pandas.pydata.org/pandas-docs/stable/user_guide/indexing.html#returning-a-view-versus-a-copy\n",
            "\n",
            "C:\\Users\\gusti\\AppData\\Local\\Temp\\ipykernel_31376\\2018956271.py:41: SettingWithCopyWarning:\n",
            "\n",
            "\n",
            "A value is trying to be set on a copy of a slice from a DataFrame\n",
            "\n",
            "See the caveats in the documentation: https://pandas.pydata.org/pandas-docs/stable/user_guide/indexing.html#returning-a-view-versus-a-copy\n",
            "\n",
            "C:\\Users\\gusti\\AppData\\Local\\Temp\\ipykernel_31376\\2018956271.py:41: SettingWithCopyWarning:\n",
            "\n",
            "\n",
            "A value is trying to be set on a copy of a slice from a DataFrame\n",
            "\n",
            "See the caveats in the documentation: https://pandas.pydata.org/pandas-docs/stable/user_guide/indexing.html#returning-a-view-versus-a-copy\n",
            "\n",
            "C:\\Users\\gusti\\AppData\\Local\\Temp\\ipykernel_31376\\2018956271.py:41: SettingWithCopyWarning:\n",
            "\n",
            "\n",
            "A value is trying to be set on a copy of a slice from a DataFrame\n",
            "\n",
            "See the caveats in the documentation: https://pandas.pydata.org/pandas-docs/stable/user_guide/indexing.html#returning-a-view-versus-a-copy\n",
            "\n",
            "C:\\Users\\gusti\\AppData\\Local\\Temp\\ipykernel_31376\\2018956271.py:41: SettingWithCopyWarning:\n",
            "\n",
            "\n",
            "A value is trying to be set on a copy of a slice from a DataFrame\n",
            "\n",
            "See the caveats in the documentation: https://pandas.pydata.org/pandas-docs/stable/user_guide/indexing.html#returning-a-view-versus-a-copy\n",
            "\n",
            "C:\\Users\\gusti\\AppData\\Local\\Temp\\ipykernel_31376\\2018956271.py:41: SettingWithCopyWarning:\n",
            "\n",
            "\n",
            "A value is trying to be set on a copy of a slice from a DataFrame\n",
            "\n",
            "See the caveats in the documentation: https://pandas.pydata.org/pandas-docs/stable/user_guide/indexing.html#returning-a-view-versus-a-copy\n",
            "\n",
            "C:\\Users\\gusti\\AppData\\Local\\Temp\\ipykernel_31376\\2018956271.py:41: SettingWithCopyWarning:\n",
            "\n",
            "\n",
            "A value is trying to be set on a copy of a slice from a DataFrame\n",
            "\n",
            "See the caveats in the documentation: https://pandas.pydata.org/pandas-docs/stable/user_guide/indexing.html#returning-a-view-versus-a-copy\n",
            "\n",
            "C:\\Users\\gusti\\AppData\\Local\\Temp\\ipykernel_31376\\2018956271.py:41: SettingWithCopyWarning:\n",
            "\n",
            "\n",
            "A value is trying to be set on a copy of a slice from a DataFrame\n",
            "\n",
            "See the caveats in the documentation: https://pandas.pydata.org/pandas-docs/stable/user_guide/indexing.html#returning-a-view-versus-a-copy\n",
            "\n",
            "C:\\Users\\gusti\\AppData\\Local\\Temp\\ipykernel_31376\\2018956271.py:41: SettingWithCopyWarning:\n",
            "\n",
            "\n",
            "A value is trying to be set on a copy of a slice from a DataFrame\n",
            "\n",
            "See the caveats in the documentation: https://pandas.pydata.org/pandas-docs/stable/user_guide/indexing.html#returning-a-view-versus-a-copy\n",
            "\n",
            "C:\\Users\\gusti\\AppData\\Local\\Temp\\ipykernel_31376\\2018956271.py:41: SettingWithCopyWarning:\n",
            "\n",
            "\n",
            "A value is trying to be set on a copy of a slice from a DataFrame\n",
            "\n",
            "See the caveats in the documentation: https://pandas.pydata.org/pandas-docs/stable/user_guide/indexing.html#returning-a-view-versus-a-copy\n",
            "\n",
            "C:\\Users\\gusti\\AppData\\Local\\Temp\\ipykernel_31376\\2018956271.py:41: SettingWithCopyWarning:\n",
            "\n",
            "\n",
            "A value is trying to be set on a copy of a slice from a DataFrame\n",
            "\n",
            "See the caveats in the documentation: https://pandas.pydata.org/pandas-docs/stable/user_guide/indexing.html#returning-a-view-versus-a-copy\n",
            "\n",
            "C:\\Users\\gusti\\AppData\\Local\\Temp\\ipykernel_31376\\2018956271.py:41: SettingWithCopyWarning:\n",
            "\n",
            "\n",
            "A value is trying to be set on a copy of a slice from a DataFrame\n",
            "\n",
            "See the caveats in the documentation: https://pandas.pydata.org/pandas-docs/stable/user_guide/indexing.html#returning-a-view-versus-a-copy\n",
            "\n",
            "C:\\Users\\gusti\\AppData\\Local\\Temp\\ipykernel_31376\\2018956271.py:41: SettingWithCopyWarning:\n",
            "\n",
            "\n",
            "A value is trying to be set on a copy of a slice from a DataFrame\n",
            "\n",
            "See the caveats in the documentation: https://pandas.pydata.org/pandas-docs/stable/user_guide/indexing.html#returning-a-view-versus-a-copy\n",
            "\n",
            "C:\\Users\\gusti\\AppData\\Local\\Temp\\ipykernel_31376\\2018956271.py:41: SettingWithCopyWarning:\n",
            "\n",
            "\n",
            "A value is trying to be set on a copy of a slice from a DataFrame\n",
            "\n",
            "See the caveats in the documentation: https://pandas.pydata.org/pandas-docs/stable/user_guide/indexing.html#returning-a-view-versus-a-copy\n",
            "\n",
            "C:\\Users\\gusti\\AppData\\Local\\Temp\\ipykernel_31376\\2018956271.py:41: SettingWithCopyWarning:\n",
            "\n",
            "\n",
            "A value is trying to be set on a copy of a slice from a DataFrame\n",
            "\n",
            "See the caveats in the documentation: https://pandas.pydata.org/pandas-docs/stable/user_guide/indexing.html#returning-a-view-versus-a-copy\n",
            "\n",
            "C:\\Users\\gusti\\AppData\\Local\\Temp\\ipykernel_31376\\2018956271.py:41: SettingWithCopyWarning:\n",
            "\n",
            "\n",
            "A value is trying to be set on a copy of a slice from a DataFrame\n",
            "\n",
            "See the caveats in the documentation: https://pandas.pydata.org/pandas-docs/stable/user_guide/indexing.html#returning-a-view-versus-a-copy\n",
            "\n",
            "C:\\Users\\gusti\\AppData\\Local\\Temp\\ipykernel_31376\\2018956271.py:41: SettingWithCopyWarning:\n",
            "\n",
            "\n",
            "A value is trying to be set on a copy of a slice from a DataFrame\n",
            "\n",
            "See the caveats in the documentation: https://pandas.pydata.org/pandas-docs/stable/user_guide/indexing.html#returning-a-view-versus-a-copy\n",
            "\n",
            "C:\\Users\\gusti\\AppData\\Local\\Temp\\ipykernel_31376\\2018956271.py:41: SettingWithCopyWarning:\n",
            "\n",
            "\n",
            "A value is trying to be set on a copy of a slice from a DataFrame\n",
            "\n",
            "See the caveats in the documentation: https://pandas.pydata.org/pandas-docs/stable/user_guide/indexing.html#returning-a-view-versus-a-copy\n",
            "\n",
            "C:\\Users\\gusti\\AppData\\Local\\Temp\\ipykernel_31376\\2018956271.py:41: SettingWithCopyWarning:\n",
            "\n",
            "\n",
            "A value is trying to be set on a copy of a slice from a DataFrame\n",
            "\n",
            "See the caveats in the documentation: https://pandas.pydata.org/pandas-docs/stable/user_guide/indexing.html#returning-a-view-versus-a-copy\n",
            "\n",
            "C:\\Users\\gusti\\AppData\\Local\\Temp\\ipykernel_31376\\2018956271.py:41: SettingWithCopyWarning:\n",
            "\n",
            "\n",
            "A value is trying to be set on a copy of a slice from a DataFrame\n",
            "\n",
            "See the caveats in the documentation: https://pandas.pydata.org/pandas-docs/stable/user_guide/indexing.html#returning-a-view-versus-a-copy\n",
            "\n",
            "C:\\Users\\gusti\\AppData\\Local\\Temp\\ipykernel_31376\\2018956271.py:41: SettingWithCopyWarning:\n",
            "\n",
            "\n",
            "A value is trying to be set on a copy of a slice from a DataFrame\n",
            "\n",
            "See the caveats in the documentation: https://pandas.pydata.org/pandas-docs/stable/user_guide/indexing.html#returning-a-view-versus-a-copy\n",
            "\n",
            "C:\\Users\\gusti\\AppData\\Local\\Temp\\ipykernel_31376\\2018956271.py:41: SettingWithCopyWarning:\n",
            "\n",
            "\n",
            "A value is trying to be set on a copy of a slice from a DataFrame\n",
            "\n",
            "See the caveats in the documentation: https://pandas.pydata.org/pandas-docs/stable/user_guide/indexing.html#returning-a-view-versus-a-copy\n",
            "\n",
            "C:\\Users\\gusti\\AppData\\Local\\Temp\\ipykernel_31376\\2018956271.py:41: SettingWithCopyWarning:\n",
            "\n",
            "\n",
            "A value is trying to be set on a copy of a slice from a DataFrame\n",
            "\n",
            "See the caveats in the documentation: https://pandas.pydata.org/pandas-docs/stable/user_guide/indexing.html#returning-a-view-versus-a-copy\n",
            "\n",
            "C:\\Users\\gusti\\AppData\\Local\\Temp\\ipykernel_31376\\2018956271.py:41: SettingWithCopyWarning:\n",
            "\n",
            "\n",
            "A value is trying to be set on a copy of a slice from a DataFrame\n",
            "\n",
            "See the caveats in the documentation: https://pandas.pydata.org/pandas-docs/stable/user_guide/indexing.html#returning-a-view-versus-a-copy\n",
            "\n",
            "C:\\Users\\gusti\\AppData\\Local\\Temp\\ipykernel_31376\\2018956271.py:41: SettingWithCopyWarning:\n",
            "\n",
            "\n",
            "A value is trying to be set on a copy of a slice from a DataFrame\n",
            "\n",
            "See the caveats in the documentation: https://pandas.pydata.org/pandas-docs/stable/user_guide/indexing.html#returning-a-view-versus-a-copy\n",
            "\n",
            "C:\\Users\\gusti\\AppData\\Local\\Temp\\ipykernel_31376\\2018956271.py:41: SettingWithCopyWarning:\n",
            "\n",
            "\n",
            "A value is trying to be set on a copy of a slice from a DataFrame\n",
            "\n",
            "See the caveats in the documentation: https://pandas.pydata.org/pandas-docs/stable/user_guide/indexing.html#returning-a-view-versus-a-copy\n",
            "\n",
            "C:\\Users\\gusti\\AppData\\Local\\Temp\\ipykernel_31376\\2018956271.py:41: SettingWithCopyWarning:\n",
            "\n",
            "\n",
            "A value is trying to be set on a copy of a slice from a DataFrame\n",
            "\n",
            "See the caveats in the documentation: https://pandas.pydata.org/pandas-docs/stable/user_guide/indexing.html#returning-a-view-versus-a-copy\n",
            "\n",
            "C:\\Users\\gusti\\AppData\\Local\\Temp\\ipykernel_31376\\2018956271.py:41: SettingWithCopyWarning:\n",
            "\n",
            "\n",
            "A value is trying to be set on a copy of a slice from a DataFrame\n",
            "\n",
            "See the caveats in the documentation: https://pandas.pydata.org/pandas-docs/stable/user_guide/indexing.html#returning-a-view-versus-a-copy\n",
            "\n",
            "C:\\Users\\gusti\\AppData\\Local\\Temp\\ipykernel_31376\\2018956271.py:41: SettingWithCopyWarning:\n",
            "\n",
            "\n",
            "A value is trying to be set on a copy of a slice from a DataFrame\n",
            "\n",
            "See the caveats in the documentation: https://pandas.pydata.org/pandas-docs/stable/user_guide/indexing.html#returning-a-view-versus-a-copy\n",
            "\n",
            "C:\\Users\\gusti\\AppData\\Local\\Temp\\ipykernel_31376\\2018956271.py:41: SettingWithCopyWarning:\n",
            "\n",
            "\n",
            "A value is trying to be set on a copy of a slice from a DataFrame\n",
            "\n",
            "See the caveats in the documentation: https://pandas.pydata.org/pandas-docs/stable/user_guide/indexing.html#returning-a-view-versus-a-copy\n",
            "\n",
            "C:\\Users\\gusti\\AppData\\Local\\Temp\\ipykernel_31376\\2018956271.py:41: SettingWithCopyWarning:\n",
            "\n",
            "\n",
            "A value is trying to be set on a copy of a slice from a DataFrame\n",
            "\n",
            "See the caveats in the documentation: https://pandas.pydata.org/pandas-docs/stable/user_guide/indexing.html#returning-a-view-versus-a-copy\n",
            "\n",
            "C:\\Users\\gusti\\AppData\\Local\\Temp\\ipykernel_31376\\2018956271.py:41: SettingWithCopyWarning:\n",
            "\n",
            "\n",
            "A value is trying to be set on a copy of a slice from a DataFrame\n",
            "\n",
            "See the caveats in the documentation: https://pandas.pydata.org/pandas-docs/stable/user_guide/indexing.html#returning-a-view-versus-a-copy\n",
            "\n",
            "C:\\Users\\gusti\\AppData\\Local\\Temp\\ipykernel_31376\\2018956271.py:41: SettingWithCopyWarning:\n",
            "\n",
            "\n",
            "A value is trying to be set on a copy of a slice from a DataFrame\n",
            "\n",
            "See the caveats in the documentation: https://pandas.pydata.org/pandas-docs/stable/user_guide/indexing.html#returning-a-view-versus-a-copy\n",
            "\n",
            "C:\\Users\\gusti\\AppData\\Local\\Temp\\ipykernel_31376\\2018956271.py:41: SettingWithCopyWarning:\n",
            "\n",
            "\n",
            "A value is trying to be set on a copy of a slice from a DataFrame\n",
            "\n",
            "See the caveats in the documentation: https://pandas.pydata.org/pandas-docs/stable/user_guide/indexing.html#returning-a-view-versus-a-copy\n",
            "\n",
            "C:\\Users\\gusti\\AppData\\Local\\Temp\\ipykernel_31376\\2018956271.py:41: SettingWithCopyWarning:\n",
            "\n",
            "\n",
            "A value is trying to be set on a copy of a slice from a DataFrame\n",
            "\n",
            "See the caveats in the documentation: https://pandas.pydata.org/pandas-docs/stable/user_guide/indexing.html#returning-a-view-versus-a-copy\n",
            "\n",
            "C:\\Users\\gusti\\AppData\\Local\\Temp\\ipykernel_31376\\2018956271.py:41: SettingWithCopyWarning:\n",
            "\n",
            "\n",
            "A value is trying to be set on a copy of a slice from a DataFrame\n",
            "\n",
            "See the caveats in the documentation: https://pandas.pydata.org/pandas-docs/stable/user_guide/indexing.html#returning-a-view-versus-a-copy\n",
            "\n",
            "C:\\Users\\gusti\\AppData\\Local\\Temp\\ipykernel_31376\\2018956271.py:41: SettingWithCopyWarning:\n",
            "\n",
            "\n",
            "A value is trying to be set on a copy of a slice from a DataFrame\n",
            "\n",
            "See the caveats in the documentation: https://pandas.pydata.org/pandas-docs/stable/user_guide/indexing.html#returning-a-view-versus-a-copy\n",
            "\n",
            "C:\\Users\\gusti\\AppData\\Local\\Temp\\ipykernel_31376\\2018956271.py:41: SettingWithCopyWarning:\n",
            "\n",
            "\n",
            "A value is trying to be set on a copy of a slice from a DataFrame\n",
            "\n",
            "See the caveats in the documentation: https://pandas.pydata.org/pandas-docs/stable/user_guide/indexing.html#returning-a-view-versus-a-copy\n",
            "\n",
            "C:\\Users\\gusti\\AppData\\Local\\Temp\\ipykernel_31376\\2018956271.py:41: SettingWithCopyWarning:\n",
            "\n",
            "\n",
            "A value is trying to be set on a copy of a slice from a DataFrame\n",
            "\n",
            "See the caveats in the documentation: https://pandas.pydata.org/pandas-docs/stable/user_guide/indexing.html#returning-a-view-versus-a-copy\n",
            "\n",
            "C:\\Users\\gusti\\AppData\\Local\\Temp\\ipykernel_31376\\2018956271.py:41: SettingWithCopyWarning:\n",
            "\n",
            "\n",
            "A value is trying to be set on a copy of a slice from a DataFrame\n",
            "\n",
            "See the caveats in the documentation: https://pandas.pydata.org/pandas-docs/stable/user_guide/indexing.html#returning-a-view-versus-a-copy\n",
            "\n",
            "C:\\Users\\gusti\\AppData\\Local\\Temp\\ipykernel_31376\\2018956271.py:41: SettingWithCopyWarning:\n",
            "\n",
            "\n",
            "A value is trying to be set on a copy of a slice from a DataFrame\n",
            "\n",
            "See the caveats in the documentation: https://pandas.pydata.org/pandas-docs/stable/user_guide/indexing.html#returning-a-view-versus-a-copy\n",
            "\n"
          ]
        }
      ],
      "source": [
        "# 1. konversi * dan 99999 jadi nan value\n",
        "int_df.replace(['*'], '99999', inplace=True)\n",
        "\n",
        "# 2. ubah tipe data\n",
        "# Mengubah tipe data menjadi numerik\n",
        "columns_to_convert = [col for col in int_df.columns if col != 'type_of_attack']\n",
        "int_df[columns_to_convert] = int_df[columns_to_convert].astype(int)\n",
        "\n",
        "# 3. parting based on type of attack\n",
        "# Function to filter df based on type of attack\n",
        "def filtered_by_type_of_attack(df, values):\n",
        "    filtered = df[df['type_of_attack'] == values]\n",
        "    return filtered\n",
        "\n",
        "nmap = filtered_by_type_of_attack(int_df, 'nmap')\n",
        "neptune = filtered_by_type_of_attack(int_df, 'neptune')\n",
        "normal = filtered_by_type_of_attack(int_df, 'normal')\n",
        "dos = filtered_by_type_of_attack(int_df, 'Denial of Service Attack')\n",
        "portsweep = filtered_by_type_of_attack(int_df, 'portsweep')\n",
        "satan = filtered_by_type_of_attack(int_df, 'satan')\n",
        "ipsweep = filtered_by_type_of_attack(int_df, 'ipsweep')\n",
        "smurf = filtered_by_type_of_attack(int_df, 'smurf')\n",
        "\n",
        "# stored df in list\n",
        "filtered_dfs = [nmap, neptune, normal, dos, portsweep, satan, ipsweep, smurf]\n",
        "\n",
        "# Loop through each filtered DataFrame and its corresponding index in the list\n",
        "for filtered_df, attack_type in zip(filtered_dfs, ['nmap', 'neptune', 'normal', 'Denial of Service Attack', 'portsweep', 'satan', 'ipsweep', 'smurf']):\n",
        "    for column in filtered_df.columns:\n",
        "        if pd.api.types.is_numeric_dtype(filtered_df[column]):\n",
        "            # Check if the column contains numeric data\n",
        "            missing_mask = filtered_df[column] == 99999\n",
        "            if missing_mask.any():\n",
        "                # If there are missing values, interpolate\n",
        "                x = filtered_df.index[~missing_mask]\n",
        "                y = filtered_df[column][~missing_mask]\n",
        "                pchip = PchipInterpolator(x, y, extrapolate='periodic')\n",
        "                # Replace NaN values with interpolated values in the same DataFrame (filtered_df)\n",
        "                interpolated_values = pchip(filtered_df.index)\n",
        "                # Ensure the interpolated values are non-negative\n",
        "                filtered_df[column].loc[missing_mask] = np.maximum(0, interpolated_values[missing_mask])\n",
        "\n",
        "    # Copy the interpolated values back to the corresponding rows in the original int_df\n",
        "    int_df.loc[int_df['type_of_attack'] == attack_type, filtered_df.columns] = filtered_df\n",
        "\n",
        "# Mengubah tipe data menjadi numerik\n",
        "columns_to_convert = [col for col in int_df.columns if col != 'type_of_attack']\n",
        "int_df[columns_to_convert] = int_df[columns_to_convert].astype(int)"
      ]
    },
    {
      "cell_type": "code",
      "execution_count": 212,
      "metadata": {},
      "outputs": [
        {
          "name": "stdout",
          "output_type": "stream",
          "text": [
            "<class 'pandas.core.frame.DataFrame'>\n",
            "Index: 108666 entries, 0 to 112445\n",
            "Data columns (total 18 columns):\n",
            " #   Column              Non-Null Count   Dtype \n",
            "---  ------              --------------   ----- \n",
            " 0   duration            108666 non-null  int32 \n",
            " 1   src_bytes           108666 non-null  int32 \n",
            " 2   dst_bytes           108666 non-null  int32 \n",
            " 3   wrong_fragment      108666 non-null  int32 \n",
            " 4   urgent              108666 non-null  int32 \n",
            " 5   hot                 108666 non-null  int32 \n",
            " 6   num_failed_logins   108666 non-null  int32 \n",
            " 7   num_compromised     108666 non-null  int32 \n",
            " 8   num_root            108666 non-null  int32 \n",
            " 9   num_file_creations  108666 non-null  int32 \n",
            " 10  num_shells          108666 non-null  int32 \n",
            " 11  num_access_files    108666 non-null  int32 \n",
            " 12  num_outbound_cmds   108666 non-null  int32 \n",
            " 13  count               108666 non-null  int32 \n",
            " 14  srv_count           108666 non-null  int32 \n",
            " 15  dst_host_count      108666 non-null  int32 \n",
            " 16  dst_host_srv_count  108666 non-null  int32 \n",
            " 17  type_of_attack      108666 non-null  object\n",
            "dtypes: int32(17), object(1)\n",
            "memory usage: 8.7+ MB\n"
          ]
        }
      ],
      "source": [
        "int_df.info()"
      ]
    },
    {
      "cell_type": "markdown",
      "metadata": {},
      "source": [
        "### float data type"
      ]
    },
    {
      "cell_type": "code",
      "execution_count": 213,
      "metadata": {},
      "outputs": [],
      "source": [
        "# pick colom that should float data type\n",
        "float_df = df.copy()\n",
        "float_df = df[['dst_host_same_srv_rate','dst_host_diff_srv_rate',\n",
        "                 'dst_host_same_src_port_rate','dst_host_srv_diff_host_rate',\n",
        "                 'dst_host_serror_rate','dst_host_srv_serror_rate',\n",
        "                 'dst_host_rerror_rate','dst_host_srv_rerror_rate',\n",
        "                 'type_of_attack']]"
      ]
    },
    {
      "cell_type": "code",
      "execution_count": 214,
      "metadata": {},
      "outputs": [
        {
          "name": "stderr",
          "output_type": "stream",
          "text": [
            "C:\\Users\\gusti\\AppData\\Local\\Temp\\ipykernel_31376\\3168883616.py:2: SettingWithCopyWarning:\n",
            "\n",
            "\n",
            "A value is trying to be set on a copy of a slice from a DataFrame\n",
            "\n",
            "See the caveats in the documentation: https://pandas.pydata.org/pandas-docs/stable/user_guide/indexing.html#returning-a-view-versus-a-copy\n",
            "\n",
            "C:\\Users\\gusti\\AppData\\Local\\Temp\\ipykernel_31376\\3168883616.py:7: SettingWithCopyWarning:\n",
            "\n",
            "\n",
            "A value is trying to be set on a copy of a slice from a DataFrame.\n",
            "Try using .loc[row_indexer,col_indexer] = value instead\n",
            "\n",
            "See the caveats in the documentation: https://pandas.pydata.org/pandas-docs/stable/user_guide/indexing.html#returning-a-view-versus-a-copy\n",
            "\n",
            "C:\\Users\\gusti\\AppData\\Local\\Temp\\ipykernel_31376\\3168883616.py:41: SettingWithCopyWarning:\n",
            "\n",
            "\n",
            "A value is trying to be set on a copy of a slice from a DataFrame\n",
            "\n",
            "See the caveats in the documentation: https://pandas.pydata.org/pandas-docs/stable/user_guide/indexing.html#returning-a-view-versus-a-copy\n",
            "\n",
            "C:\\Users\\gusti\\AppData\\Local\\Temp\\ipykernel_31376\\3168883616.py:41: SettingWithCopyWarning:\n",
            "\n",
            "\n",
            "A value is trying to be set on a copy of a slice from a DataFrame\n",
            "\n",
            "See the caveats in the documentation: https://pandas.pydata.org/pandas-docs/stable/user_guide/indexing.html#returning-a-view-versus-a-copy\n",
            "\n",
            "C:\\Users\\gusti\\AppData\\Local\\Temp\\ipykernel_31376\\3168883616.py:41: SettingWithCopyWarning:\n",
            "\n",
            "\n",
            "A value is trying to be set on a copy of a slice from a DataFrame\n",
            "\n",
            "See the caveats in the documentation: https://pandas.pydata.org/pandas-docs/stable/user_guide/indexing.html#returning-a-view-versus-a-copy\n",
            "\n",
            "C:\\Users\\gusti\\AppData\\Local\\Temp\\ipykernel_31376\\3168883616.py:41: SettingWithCopyWarning:\n",
            "\n",
            "\n",
            "A value is trying to be set on a copy of a slice from a DataFrame\n",
            "\n",
            "See the caveats in the documentation: https://pandas.pydata.org/pandas-docs/stable/user_guide/indexing.html#returning-a-view-versus-a-copy\n",
            "\n",
            "C:\\Users\\gusti\\AppData\\Local\\Temp\\ipykernel_31376\\3168883616.py:41: SettingWithCopyWarning:\n",
            "\n",
            "\n",
            "A value is trying to be set on a copy of a slice from a DataFrame\n",
            "\n",
            "See the caveats in the documentation: https://pandas.pydata.org/pandas-docs/stable/user_guide/indexing.html#returning-a-view-versus-a-copy\n",
            "\n",
            "C:\\Users\\gusti\\AppData\\Local\\Temp\\ipykernel_31376\\3168883616.py:41: SettingWithCopyWarning:\n",
            "\n",
            "\n",
            "A value is trying to be set on a copy of a slice from a DataFrame\n",
            "\n",
            "See the caveats in the documentation: https://pandas.pydata.org/pandas-docs/stable/user_guide/indexing.html#returning-a-view-versus-a-copy\n",
            "\n",
            "C:\\Users\\gusti\\AppData\\Local\\Temp\\ipykernel_31376\\3168883616.py:41: SettingWithCopyWarning:\n",
            "\n",
            "\n",
            "A value is trying to be set on a copy of a slice from a DataFrame\n",
            "\n",
            "See the caveats in the documentation: https://pandas.pydata.org/pandas-docs/stable/user_guide/indexing.html#returning-a-view-versus-a-copy\n",
            "\n",
            "C:\\Users\\gusti\\AppData\\Local\\Temp\\ipykernel_31376\\3168883616.py:41: SettingWithCopyWarning:\n",
            "\n",
            "\n",
            "A value is trying to be set on a copy of a slice from a DataFrame\n",
            "\n",
            "See the caveats in the documentation: https://pandas.pydata.org/pandas-docs/stable/user_guide/indexing.html#returning-a-view-versus-a-copy\n",
            "\n",
            "C:\\Users\\gusti\\AppData\\Local\\Temp\\ipykernel_31376\\3168883616.py:41: SettingWithCopyWarning:\n",
            "\n",
            "\n",
            "A value is trying to be set on a copy of a slice from a DataFrame\n",
            "\n",
            "See the caveats in the documentation: https://pandas.pydata.org/pandas-docs/stable/user_guide/indexing.html#returning-a-view-versus-a-copy\n",
            "\n",
            "C:\\Users\\gusti\\AppData\\Local\\Temp\\ipykernel_31376\\3168883616.py:41: SettingWithCopyWarning:\n",
            "\n",
            "\n",
            "A value is trying to be set on a copy of a slice from a DataFrame\n",
            "\n",
            "See the caveats in the documentation: https://pandas.pydata.org/pandas-docs/stable/user_guide/indexing.html#returning-a-view-versus-a-copy\n",
            "\n",
            "C:\\Users\\gusti\\AppData\\Local\\Temp\\ipykernel_31376\\3168883616.py:41: SettingWithCopyWarning:\n",
            "\n",
            "\n",
            "A value is trying to be set on a copy of a slice from a DataFrame\n",
            "\n",
            "See the caveats in the documentation: https://pandas.pydata.org/pandas-docs/stable/user_guide/indexing.html#returning-a-view-versus-a-copy\n",
            "\n",
            "C:\\Users\\gusti\\AppData\\Local\\Temp\\ipykernel_31376\\3168883616.py:41: SettingWithCopyWarning:\n",
            "\n",
            "\n",
            "A value is trying to be set on a copy of a slice from a DataFrame\n",
            "\n",
            "See the caveats in the documentation: https://pandas.pydata.org/pandas-docs/stable/user_guide/indexing.html#returning-a-view-versus-a-copy\n",
            "\n",
            "C:\\Users\\gusti\\AppData\\Local\\Temp\\ipykernel_31376\\3168883616.py:41: SettingWithCopyWarning:\n",
            "\n",
            "\n",
            "A value is trying to be set on a copy of a slice from a DataFrame\n",
            "\n",
            "See the caveats in the documentation: https://pandas.pydata.org/pandas-docs/stable/user_guide/indexing.html#returning-a-view-versus-a-copy\n",
            "\n",
            "C:\\Users\\gusti\\AppData\\Local\\Temp\\ipykernel_31376\\3168883616.py:41: SettingWithCopyWarning:\n",
            "\n",
            "\n",
            "A value is trying to be set on a copy of a slice from a DataFrame\n",
            "\n",
            "See the caveats in the documentation: https://pandas.pydata.org/pandas-docs/stable/user_guide/indexing.html#returning-a-view-versus-a-copy\n",
            "\n",
            "C:\\Users\\gusti\\AppData\\Local\\Temp\\ipykernel_31376\\3168883616.py:41: SettingWithCopyWarning:\n",
            "\n",
            "\n",
            "A value is trying to be set on a copy of a slice from a DataFrame\n",
            "\n",
            "See the caveats in the documentation: https://pandas.pydata.org/pandas-docs/stable/user_guide/indexing.html#returning-a-view-versus-a-copy\n",
            "\n",
            "C:\\Users\\gusti\\AppData\\Local\\Temp\\ipykernel_31376\\3168883616.py:41: SettingWithCopyWarning:\n",
            "\n",
            "\n",
            "A value is trying to be set on a copy of a slice from a DataFrame\n",
            "\n",
            "See the caveats in the documentation: https://pandas.pydata.org/pandas-docs/stable/user_guide/indexing.html#returning-a-view-versus-a-copy\n",
            "\n",
            "C:\\Users\\gusti\\AppData\\Local\\Temp\\ipykernel_31376\\3168883616.py:41: SettingWithCopyWarning:\n",
            "\n",
            "\n",
            "A value is trying to be set on a copy of a slice from a DataFrame\n",
            "\n",
            "See the caveats in the documentation: https://pandas.pydata.org/pandas-docs/stable/user_guide/indexing.html#returning-a-view-versus-a-copy\n",
            "\n",
            "C:\\Users\\gusti\\AppData\\Local\\Temp\\ipykernel_31376\\3168883616.py:41: SettingWithCopyWarning:\n",
            "\n",
            "\n",
            "A value is trying to be set on a copy of a slice from a DataFrame\n",
            "\n",
            "See the caveats in the documentation: https://pandas.pydata.org/pandas-docs/stable/user_guide/indexing.html#returning-a-view-versus-a-copy\n",
            "\n",
            "C:\\Users\\gusti\\AppData\\Local\\Temp\\ipykernel_31376\\3168883616.py:41: SettingWithCopyWarning:\n",
            "\n",
            "\n",
            "A value is trying to be set on a copy of a slice from a DataFrame\n",
            "\n",
            "See the caveats in the documentation: https://pandas.pydata.org/pandas-docs/stable/user_guide/indexing.html#returning-a-view-versus-a-copy\n",
            "\n",
            "C:\\Users\\gusti\\AppData\\Local\\Temp\\ipykernel_31376\\3168883616.py:41: SettingWithCopyWarning:\n",
            "\n",
            "\n",
            "A value is trying to be set on a copy of a slice from a DataFrame\n",
            "\n",
            "See the caveats in the documentation: https://pandas.pydata.org/pandas-docs/stable/user_guide/indexing.html#returning-a-view-versus-a-copy\n",
            "\n",
            "C:\\Users\\gusti\\AppData\\Local\\Temp\\ipykernel_31376\\3168883616.py:41: SettingWithCopyWarning:\n",
            "\n",
            "\n",
            "A value is trying to be set on a copy of a slice from a DataFrame\n",
            "\n",
            "See the caveats in the documentation: https://pandas.pydata.org/pandas-docs/stable/user_guide/indexing.html#returning-a-view-versus-a-copy\n",
            "\n",
            "C:\\Users\\gusti\\AppData\\Local\\Temp\\ipykernel_31376\\3168883616.py:41: SettingWithCopyWarning:\n",
            "\n",
            "\n",
            "A value is trying to be set on a copy of a slice from a DataFrame\n",
            "\n",
            "See the caveats in the documentation: https://pandas.pydata.org/pandas-docs/stable/user_guide/indexing.html#returning-a-view-versus-a-copy\n",
            "\n",
            "C:\\Users\\gusti\\AppData\\Local\\Temp\\ipykernel_31376\\3168883616.py:41: SettingWithCopyWarning:\n",
            "\n",
            "\n",
            "A value is trying to be set on a copy of a slice from a DataFrame\n",
            "\n",
            "See the caveats in the documentation: https://pandas.pydata.org/pandas-docs/stable/user_guide/indexing.html#returning-a-view-versus-a-copy\n",
            "\n",
            "C:\\Users\\gusti\\AppData\\Local\\Temp\\ipykernel_31376\\3168883616.py:41: SettingWithCopyWarning:\n",
            "\n",
            "\n",
            "A value is trying to be set on a copy of a slice from a DataFrame\n",
            "\n",
            "See the caveats in the documentation: https://pandas.pydata.org/pandas-docs/stable/user_guide/indexing.html#returning-a-view-versus-a-copy\n",
            "\n",
            "C:\\Users\\gusti\\AppData\\Local\\Temp\\ipykernel_31376\\3168883616.py:41: SettingWithCopyWarning:\n",
            "\n",
            "\n",
            "A value is trying to be set on a copy of a slice from a DataFrame\n",
            "\n",
            "See the caveats in the documentation: https://pandas.pydata.org/pandas-docs/stable/user_guide/indexing.html#returning-a-view-versus-a-copy\n",
            "\n",
            "C:\\Users\\gusti\\AppData\\Local\\Temp\\ipykernel_31376\\3168883616.py:41: SettingWithCopyWarning:\n",
            "\n",
            "\n",
            "A value is trying to be set on a copy of a slice from a DataFrame\n",
            "\n",
            "See the caveats in the documentation: https://pandas.pydata.org/pandas-docs/stable/user_guide/indexing.html#returning-a-view-versus-a-copy\n",
            "\n",
            "C:\\Users\\gusti\\AppData\\Local\\Temp\\ipykernel_31376\\3168883616.py:41: SettingWithCopyWarning:\n",
            "\n",
            "\n",
            "A value is trying to be set on a copy of a slice from a DataFrame\n",
            "\n",
            "See the caveats in the documentation: https://pandas.pydata.org/pandas-docs/stable/user_guide/indexing.html#returning-a-view-versus-a-copy\n",
            "\n",
            "C:\\Users\\gusti\\AppData\\Local\\Temp\\ipykernel_31376\\3168883616.py:41: SettingWithCopyWarning:\n",
            "\n",
            "\n",
            "A value is trying to be set on a copy of a slice from a DataFrame\n",
            "\n",
            "See the caveats in the documentation: https://pandas.pydata.org/pandas-docs/stable/user_guide/indexing.html#returning-a-view-versus-a-copy\n",
            "\n",
            "C:\\Users\\gusti\\AppData\\Local\\Temp\\ipykernel_31376\\3168883616.py:41: SettingWithCopyWarning:\n",
            "\n",
            "\n",
            "A value is trying to be set on a copy of a slice from a DataFrame\n",
            "\n",
            "See the caveats in the documentation: https://pandas.pydata.org/pandas-docs/stable/user_guide/indexing.html#returning-a-view-versus-a-copy\n",
            "\n",
            "C:\\Users\\gusti\\AppData\\Local\\Temp\\ipykernel_31376\\3168883616.py:41: SettingWithCopyWarning:\n",
            "\n",
            "\n",
            "A value is trying to be set on a copy of a slice from a DataFrame\n",
            "\n",
            "See the caveats in the documentation: https://pandas.pydata.org/pandas-docs/stable/user_guide/indexing.html#returning-a-view-versus-a-copy\n",
            "\n",
            "C:\\Users\\gusti\\AppData\\Local\\Temp\\ipykernel_31376\\3168883616.py:41: SettingWithCopyWarning:\n",
            "\n",
            "\n",
            "A value is trying to be set on a copy of a slice from a DataFrame\n",
            "\n",
            "See the caveats in the documentation: https://pandas.pydata.org/pandas-docs/stable/user_guide/indexing.html#returning-a-view-versus-a-copy\n",
            "\n",
            "C:\\Users\\gusti\\AppData\\Local\\Temp\\ipykernel_31376\\3168883616.py:41: SettingWithCopyWarning:\n",
            "\n",
            "\n",
            "A value is trying to be set on a copy of a slice from a DataFrame\n",
            "\n",
            "See the caveats in the documentation: https://pandas.pydata.org/pandas-docs/stable/user_guide/indexing.html#returning-a-view-versus-a-copy\n",
            "\n",
            "C:\\Users\\gusti\\AppData\\Local\\Temp\\ipykernel_31376\\3168883616.py:41: SettingWithCopyWarning:\n",
            "\n",
            "\n",
            "A value is trying to be set on a copy of a slice from a DataFrame\n",
            "\n",
            "See the caveats in the documentation: https://pandas.pydata.org/pandas-docs/stable/user_guide/indexing.html#returning-a-view-versus-a-copy\n",
            "\n",
            "C:\\Users\\gusti\\AppData\\Local\\Temp\\ipykernel_31376\\3168883616.py:41: SettingWithCopyWarning:\n",
            "\n",
            "\n",
            "A value is trying to be set on a copy of a slice from a DataFrame\n",
            "\n",
            "See the caveats in the documentation: https://pandas.pydata.org/pandas-docs/stable/user_guide/indexing.html#returning-a-view-versus-a-copy\n",
            "\n"
          ]
        }
      ],
      "source": [
        "# 1. konversi * dan 99999 jadi nan value\n",
        "float_df.replace(['*','99999',99999], np.nan, inplace=True)\n",
        "\n",
        "# 2. ubah tipe data\n",
        "# Mengubah tipe data menjadi numerik\n",
        "columns_to_convert = [col for col in float_df.columns if col != 'type_of_attack']\n",
        "float_df[columns_to_convert] = float_df[columns_to_convert].astype(float)\n",
        "\n",
        "# 3. parting based on type of attack\n",
        "# Function to filter df based on type of attack\n",
        "def filtered_by_type_of_attack(df, values):\n",
        "    filtered = df[df['type_of_attack'] == values]\n",
        "    return filtered\n",
        "\n",
        "nmap = filtered_by_type_of_attack(float_df, 'nmap')\n",
        "neptune = filtered_by_type_of_attack(float_df, 'neptune')\n",
        "normal = filtered_by_type_of_attack(float_df, 'normal')\n",
        "dos = filtered_by_type_of_attack(float_df, 'Denial of Service Attack')\n",
        "portsweep = filtered_by_type_of_attack(float_df, 'portsweep')\n",
        "satan = filtered_by_type_of_attack(float_df, 'satan')\n",
        "ipsweep = filtered_by_type_of_attack(float_df, 'ipsweep')\n",
        "smurf = filtered_by_type_of_attack(float_df, 'smurf')\n",
        "\n",
        "# stored df in list\n",
        "filtered_dfs = [nmap, neptune, normal, dos, portsweep, satan, ipsweep, smurf]\n",
        "\n",
        "# Loop through each filtered DataFrame and its corresponding index in the list\n",
        "for filtered_df, attack_type in zip(filtered_dfs, ['nmap', 'neptune', 'normal', 'Denial of Service Attack', 'portsweep', 'satan', 'ipsweep', 'smurf']):\n",
        "    for column in filtered_df.columns:\n",
        "        if pd.api.types.is_numeric_dtype(filtered_df[column]):\n",
        "            # Check if the column contains numeric data\n",
        "            missing_mask = filtered_df[column].isnull()\n",
        "            if missing_mask.any():\n",
        "                # If there are missing values, interpolate\n",
        "                x = filtered_df.index[~missing_mask]\n",
        "                y = filtered_df[column][~missing_mask]\n",
        "                pchip = PchipInterpolator(x, y, extrapolate='periodic')\n",
        "                # Replace NaN values with interpolated values in the same DataFrame (filtered_df)\n",
        "                interpolated_values = pchip(filtered_df.index)\n",
        "                # Ensure the interpolated values are non-negative\n",
        "                filtered_df[column].loc[missing_mask] = np.maximum(0, interpolated_values[missing_mask])\n",
        "\n",
        "    # Copy the interpolated values back to the corresponding rows in the original float_df\n",
        "    float_df.loc[float_df['type_of_attack'] == attack_type, filtered_df.columns] = filtered_df"
      ]
    },
    {
      "cell_type": "code",
      "execution_count": 215,
      "metadata": {},
      "outputs": [
        {
          "name": "stdout",
          "output_type": "stream",
          "text": [
            "<class 'pandas.core.frame.DataFrame'>\n",
            "Index: 108666 entries, 0 to 112445\n",
            "Data columns (total 9 columns):\n",
            " #   Column                       Non-Null Count   Dtype  \n",
            "---  ------                       --------------   -----  \n",
            " 0   dst_host_same_srv_rate       108666 non-null  float64\n",
            " 1   dst_host_diff_srv_rate       108666 non-null  float64\n",
            " 2   dst_host_same_src_port_rate  108666 non-null  float64\n",
            " 3   dst_host_srv_diff_host_rate  108666 non-null  float64\n",
            " 4   dst_host_serror_rate         108666 non-null  float64\n",
            " 5   dst_host_srv_serror_rate     108666 non-null  float64\n",
            " 6   dst_host_rerror_rate         108666 non-null  float64\n",
            " 7   dst_host_srv_rerror_rate     108666 non-null  float64\n",
            " 8   type_of_attack               108666 non-null  object \n",
            "dtypes: float64(8), object(1)\n",
            "memory usage: 8.3+ MB\n"
          ]
        }
      ],
      "source": [
        "float_df.info()"
      ]
    },
    {
      "cell_type": "markdown",
      "metadata": {},
      "source": [
        "### object (DANGER ZONE, RUN WITH CAUTION)"
      ]
    },
    {
      "cell_type": "code",
      "execution_count": 229,
      "metadata": {},
      "outputs": [],
      "source": [
        "# defaul data pick\n",
        "obj_df = df.copy()\n",
        "obj_df = obj_df[['protocol_type', 'service', 'flag', 'type_of_attack']]"
      ]
    },
    {
      "cell_type": "code",
      "execution_count": 217,
      "metadata": {},
      "outputs": [],
      "source": [
        "# DANGER ZONE, RUN WITH CAUTION\n",
        "\n",
        "# tanpa type_of_attack\n",
        "obj_df = df.copy()\n",
        "obj_df = obj_df[['protocol_type', 'service', 'flag']]"
      ]
    },
    {
      "cell_type": "code",
      "execution_count": 230,
      "metadata": {},
      "outputs": [],
      "source": [
        "def one_hot_encoder(df, col):\n",
        "    df = df.copy()\n",
        "    df = df[[col]]\n",
        "    one_hot_encoded = pd.get_dummies(df)\n",
        "    df = df.drop(columns=col)\n",
        "    df = pd.concat([df, one_hot_encoded], axis=1)  # Replace obj_df with df\n",
        "    return df"
      ]
    },
    {
      "cell_type": "code",
      "execution_count": 231,
      "metadata": {},
      "outputs": [],
      "source": [
        "# 'protocol_type'\n",
        "protocol_type_ohe = one_hot_encoder(df,'protocol_type')"
      ]
    },
    {
      "cell_type": "code",
      "execution_count": 232,
      "metadata": {},
      "outputs": [],
      "source": [
        "# 'service'\n",
        "service_ohe = one_hot_encoder(df,'service')"
      ]
    },
    {
      "cell_type": "code",
      "execution_count": 233,
      "metadata": {},
      "outputs": [],
      "source": [
        "# 'flag'\n",
        "flag_ohe = one_hot_encoder(df,'flag')"
      ]
    },
    {
      "cell_type": "code",
      "execution_count": 234,
      "metadata": {},
      "outputs": [],
      "source": [
        "# 'type_of_attack'\n",
        "type_of_attack_ohe = one_hot_encoder(df, 'type_of_attack')"
      ]
    },
    {
      "cell_type": "code",
      "execution_count": 238,
      "metadata": {},
      "outputs": [],
      "source": [
        "# merge all one hot encoder\n",
        "merge_ohe = pd.concat([protocol_type_ohe, service_ohe, flag_ohe, type_of_attack_ohe], axis=1)"
      ]
    },
    {
      "cell_type": "code",
      "execution_count": 236,
      "metadata": {},
      "outputs": [],
      "source": [
        "# DANGER ZONE, RUN WITH CAUTION\n",
        "# tanpa type_of_attack\n",
        "merge_ohe = pd.concat([protocol_type_ohe, service_ohe, flag_ohe], axis=1)"
      ]
    },
    {
      "cell_type": "code",
      "execution_count": 239,
      "metadata": {},
      "outputs": [],
      "source": [
        "# merubah merge_ohe menjadi int\n",
        "merge_ohe = merge_ohe.astype(int)"
      ]
    },
    {
      "cell_type": "code",
      "execution_count": 240,
      "metadata": {},
      "outputs": [
        {
          "name": "stdout",
          "output_type": "stream",
          "text": [
            "<class 'pandas.core.frame.DataFrame'>\n",
            "Index: 108666 entries, 0 to 112445\n",
            "Data columns (total 92 columns):\n",
            " #   Column                                   Non-Null Count   Dtype\n",
            "---  ------                                   --------------   -----\n",
            " 0   protocol_type_icmp                       108666 non-null  int32\n",
            " 1   protocol_type_tcp                        108666 non-null  int32\n",
            " 2   protocol_type_udp                        108666 non-null  int32\n",
            " 3   service_IRC                              108666 non-null  int32\n",
            " 4   service_X11                              108666 non-null  int32\n",
            " 5   service_Z39_50                           108666 non-null  int32\n",
            " 6   service_aol                              108666 non-null  int32\n",
            " 7   service_auth                             108666 non-null  int32\n",
            " 8   service_bgp                              108666 non-null  int32\n",
            " 9   service_courier                          108666 non-null  int32\n",
            " 10  service_csnet_ns                         108666 non-null  int32\n",
            " 11  service_ctf                              108666 non-null  int32\n",
            " 12  service_daytime                          108666 non-null  int32\n",
            " 13  service_discard                          108666 non-null  int32\n",
            " 14  service_domain                           108666 non-null  int32\n",
            " 15  service_domain_u                         108666 non-null  int32\n",
            " 16  service_echo                             108666 non-null  int32\n",
            " 17  service_eco_i                            108666 non-null  int32\n",
            " 18  service_ecr_i                            108666 non-null  int32\n",
            " 19  service_efs                              108666 non-null  int32\n",
            " 20  service_exec                             108666 non-null  int32\n",
            " 21  service_finger                           108666 non-null  int32\n",
            " 22  service_ftp                              108666 non-null  int32\n",
            " 23  service_ftp_data                         108666 non-null  int32\n",
            " 24  service_gopher                           108666 non-null  int32\n",
            " 25  service_harvest                          108666 non-null  int32\n",
            " 26  service_hostnames                        108666 non-null  int32\n",
            " 27  service_http                             108666 non-null  int32\n",
            " 28  service_http_2784                        108666 non-null  int32\n",
            " 29  service_http_443                         108666 non-null  int32\n",
            " 30  service_http_8001                        108666 non-null  int32\n",
            " 31  service_imap4                            108666 non-null  int32\n",
            " 32  service_iso_tsap                         108666 non-null  int32\n",
            " 33  service_klogin                           108666 non-null  int32\n",
            " 34  service_kshell                           108666 non-null  int32\n",
            " 35  service_ldap                             108666 non-null  int32\n",
            " 36  service_link                             108666 non-null  int32\n",
            " 37  service_login                            108666 non-null  int32\n",
            " 38  service_mtp                              108666 non-null  int32\n",
            " 39  service_name                             108666 non-null  int32\n",
            " 40  service_netbios_dgm                      108666 non-null  int32\n",
            " 41  service_netbios_ns                       108666 non-null  int32\n",
            " 42  service_netbios_ssn                      108666 non-null  int32\n",
            " 43  service_netstat                          108666 non-null  int32\n",
            " 44  service_nnsp                             108666 non-null  int32\n",
            " 45  service_nntp                             108666 non-null  int32\n",
            " 46  service_ntp_u                            108666 non-null  int32\n",
            " 47  service_other                            108666 non-null  int32\n",
            " 48  service_pm_dump                          108666 non-null  int32\n",
            " 49  service_pop_2                            108666 non-null  int32\n",
            " 50  service_pop_3                            108666 non-null  int32\n",
            " 51  service_printer                          108666 non-null  int32\n",
            " 52  service_private                          108666 non-null  int32\n",
            " 53  service_red_i                            108666 non-null  int32\n",
            " 54  service_remote_job                       108666 non-null  int32\n",
            " 55  service_rje                              108666 non-null  int32\n",
            " 56  service_shell                            108666 non-null  int32\n",
            " 57  service_smtp                             108666 non-null  int32\n",
            " 58  service_sql_net                          108666 non-null  int32\n",
            " 59  service_ssh                              108666 non-null  int32\n",
            " 60  service_sunrpc                           108666 non-null  int32\n",
            " 61  service_supdup                           108666 non-null  int32\n",
            " 62  service_systat                           108666 non-null  int32\n",
            " 63  service_telnet                           108666 non-null  int32\n",
            " 64  service_tftp_u                           108666 non-null  int32\n",
            " 65  service_tim_i                            108666 non-null  int32\n",
            " 66  service_time                             108666 non-null  int32\n",
            " 67  service_urh_i                            108666 non-null  int32\n",
            " 68  service_urp_i                            108666 non-null  int32\n",
            " 69  service_uucp                             108666 non-null  int32\n",
            " 70  service_uucp_path                        108666 non-null  int32\n",
            " 71  service_vmnet                            108666 non-null  int32\n",
            " 72  service_whois                            108666 non-null  int32\n",
            " 73  flag_OTH                                 108666 non-null  int32\n",
            " 74  flag_REJ                                 108666 non-null  int32\n",
            " 75  flag_RSTO                                108666 non-null  int32\n",
            " 76  flag_RSTOS0                              108666 non-null  int32\n",
            " 77  flag_RSTR                                108666 non-null  int32\n",
            " 78  flag_S0                                  108666 non-null  int32\n",
            " 79  flag_S1                                  108666 non-null  int32\n",
            " 80  flag_S2                                  108666 non-null  int32\n",
            " 81  flag_S3                                  108666 non-null  int32\n",
            " 82  flag_SF                                  108666 non-null  int32\n",
            " 83  flag_SH                                  108666 non-null  int32\n",
            " 84  type_of_attack_Denial of Service Attack  108666 non-null  int32\n",
            " 85  type_of_attack_ipsweep                   108666 non-null  int32\n",
            " 86  type_of_attack_neptune                   108666 non-null  int32\n",
            " 87  type_of_attack_nmap                      108666 non-null  int32\n",
            " 88  type_of_attack_normal                    108666 non-null  int32\n",
            " 89  type_of_attack_portsweep                 108666 non-null  int32\n",
            " 90  type_of_attack_satan                     108666 non-null  int32\n",
            " 91  type_of_attack_smurf                     108666 non-null  int32\n",
            "dtypes: int32(92)\n",
            "memory usage: 39.0 MB\n"
          ]
        }
      ],
      "source": [
        "# merge_ohe.info()\n",
        "merge_ohe.info()"
      ]
    },
    {
      "cell_type": "code",
      "execution_count": 241,
      "metadata": {},
      "outputs": [
        {
          "data": {
            "text/plain": [
              "(108666, 92)"
            ]
          },
          "execution_count": 241,
          "metadata": {},
          "output_type": "execute_result"
        }
      ],
      "source": [
        "# shape of merge_ohe\n",
        "merge_ohe.shape"
      ]
    },
    {
      "cell_type": "markdown",
      "metadata": {},
      "source": [
        "### merge column (DANGER ZONE, RUN WITH CAUTION)"
      ]
    },
    {
      "cell_type": "code",
      "execution_count": 242,
      "metadata": {},
      "outputs": [],
      "source": [
        "# mengambil nilai int_df yang sudah di interpolasi\n",
        "int_df_mc = int_df[['duration','src_bytes','dst_bytes','wrong_fragment',\n",
        "                 'urgent','hot','num_failed_logins','num_compromised',\n",
        "                 'num_root','num_file_creations','num_shells','num_access_files',\n",
        "                 'num_outbound_cmds', 'count','srv_count','dst_host_count',\n",
        "                 'dst_host_srv_count']]"
      ]
    },
    {
      "cell_type": "code",
      "execution_count": 243,
      "metadata": {},
      "outputs": [],
      "source": [
        "# mengambil nilai bool_df yang sudah di interpolasi\n",
        "bool_df_mc = bool_df[['land', 'logged_in', 'root_shell', 'su_attempted',\n",
        "                   'is_host_login', 'is_guest_login',\n",
        "                   'serror_rate', 'srv_serror_rate', 'rerror_rate', 'srv_rerror_rate',\n",
        "                   'same_srv_rate', 'diff_srv_rate', 'srv_diff_host_rate']]"
      ]
    },
    {
      "cell_type": "code",
      "execution_count": 244,
      "metadata": {},
      "outputs": [],
      "source": [
        "# mengambil nilai float_df yang sudah di interpolasi\n",
        "float_df_mc = float_df[['dst_host_same_srv_rate','dst_host_diff_srv_rate',\n",
        "                 'dst_host_same_src_port_rate','dst_host_srv_diff_host_rate',\n",
        "                 'dst_host_serror_rate','dst_host_srv_serror_rate',\n",
        "                 'dst_host_rerror_rate','dst_host_srv_rerror_rate']]"
      ]
    },
    {
      "cell_type": "code",
      "execution_count": 245,
      "metadata": {},
      "outputs": [],
      "source": [
        "# Gabungkan DataFrames yang sudah di urutkan\n",
        "df_imp = pd.concat([int_df_mc, bool_df_mc, float_df_mc, merge_ohe], axis=1)"
      ]
    },
    {
      "cell_type": "code",
      "execution_count": 159,
      "metadata": {},
      "outputs": [],
      "source": [
        "# DANGER ZONE, RUN WITH CAUTION\n",
        "# tambahkan type_of_attack\n",
        "df_imp = pd.concat([df_imp, df['type_of_attack']], axis=1)"
      ]
    },
    {
      "cell_type": "code",
      "execution_count": 246,
      "metadata": {},
      "outputs": [
        {
          "data": {
            "text/html": [
              "<div>\n",
              "<style scoped>\n",
              "    .dataframe tbody tr th:only-of-type {\n",
              "        vertical-align: middle;\n",
              "    }\n",
              "\n",
              "    .dataframe tbody tr th {\n",
              "        vertical-align: top;\n",
              "    }\n",
              "\n",
              "    .dataframe thead th {\n",
              "        text-align: right;\n",
              "    }\n",
              "</style>\n",
              "<table border=\"1\" class=\"dataframe\">\n",
              "  <thead>\n",
              "    <tr style=\"text-align: right;\">\n",
              "      <th></th>\n",
              "      <th>duration</th>\n",
              "      <th>src_bytes</th>\n",
              "      <th>dst_bytes</th>\n",
              "      <th>wrong_fragment</th>\n",
              "      <th>urgent</th>\n",
              "      <th>hot</th>\n",
              "      <th>num_failed_logins</th>\n",
              "      <th>num_compromised</th>\n",
              "      <th>num_root</th>\n",
              "      <th>num_file_creations</th>\n",
              "      <th>...</th>\n",
              "      <th>flag_SF</th>\n",
              "      <th>flag_SH</th>\n",
              "      <th>type_of_attack_Denial of Service Attack</th>\n",
              "      <th>type_of_attack_ipsweep</th>\n",
              "      <th>type_of_attack_neptune</th>\n",
              "      <th>type_of_attack_nmap</th>\n",
              "      <th>type_of_attack_normal</th>\n",
              "      <th>type_of_attack_portsweep</th>\n",
              "      <th>type_of_attack_satan</th>\n",
              "      <th>type_of_attack_smurf</th>\n",
              "    </tr>\n",
              "  </thead>\n",
              "  <tbody>\n",
              "    <tr>\n",
              "      <th>0</th>\n",
              "      <td>0</td>\n",
              "      <td>0</td>\n",
              "      <td>0</td>\n",
              "      <td>0</td>\n",
              "      <td>0</td>\n",
              "      <td>0</td>\n",
              "      <td>0</td>\n",
              "      <td>0</td>\n",
              "      <td>0</td>\n",
              "      <td>0</td>\n",
              "      <td>...</td>\n",
              "      <td>0</td>\n",
              "      <td>1</td>\n",
              "      <td>0</td>\n",
              "      <td>0</td>\n",
              "      <td>0</td>\n",
              "      <td>1</td>\n",
              "      <td>0</td>\n",
              "      <td>0</td>\n",
              "      <td>0</td>\n",
              "      <td>0</td>\n",
              "    </tr>\n",
              "    <tr>\n",
              "      <th>1</th>\n",
              "      <td>0</td>\n",
              "      <td>0</td>\n",
              "      <td>0</td>\n",
              "      <td>0</td>\n",
              "      <td>0</td>\n",
              "      <td>0</td>\n",
              "      <td>0</td>\n",
              "      <td>0</td>\n",
              "      <td>0</td>\n",
              "      <td>0</td>\n",
              "      <td>...</td>\n",
              "      <td>0</td>\n",
              "      <td>0</td>\n",
              "      <td>0</td>\n",
              "      <td>0</td>\n",
              "      <td>1</td>\n",
              "      <td>0</td>\n",
              "      <td>0</td>\n",
              "      <td>0</td>\n",
              "      <td>0</td>\n",
              "      <td>0</td>\n",
              "    </tr>\n",
              "    <tr>\n",
              "      <th>2</th>\n",
              "      <td>0</td>\n",
              "      <td>285</td>\n",
              "      <td>3623</td>\n",
              "      <td>0</td>\n",
              "      <td>0</td>\n",
              "      <td>0</td>\n",
              "      <td>0</td>\n",
              "      <td>0</td>\n",
              "      <td>0</td>\n",
              "      <td>0</td>\n",
              "      <td>...</td>\n",
              "      <td>1</td>\n",
              "      <td>0</td>\n",
              "      <td>0</td>\n",
              "      <td>0</td>\n",
              "      <td>0</td>\n",
              "      <td>0</td>\n",
              "      <td>1</td>\n",
              "      <td>0</td>\n",
              "      <td>0</td>\n",
              "      <td>0</td>\n",
              "    </tr>\n",
              "    <tr>\n",
              "      <th>3</th>\n",
              "      <td>0</td>\n",
              "      <td>232</td>\n",
              "      <td>584</td>\n",
              "      <td>0</td>\n",
              "      <td>0</td>\n",
              "      <td>0</td>\n",
              "      <td>0</td>\n",
              "      <td>0</td>\n",
              "      <td>0</td>\n",
              "      <td>0</td>\n",
              "      <td>...</td>\n",
              "      <td>1</td>\n",
              "      <td>0</td>\n",
              "      <td>0</td>\n",
              "      <td>0</td>\n",
              "      <td>0</td>\n",
              "      <td>0</td>\n",
              "      <td>1</td>\n",
              "      <td>0</td>\n",
              "      <td>0</td>\n",
              "      <td>0</td>\n",
              "    </tr>\n",
              "    <tr>\n",
              "      <th>4</th>\n",
              "      <td>1</td>\n",
              "      <td>1080</td>\n",
              "      <td>327</td>\n",
              "      <td>0</td>\n",
              "      <td>0</td>\n",
              "      <td>0</td>\n",
              "      <td>0</td>\n",
              "      <td>0</td>\n",
              "      <td>0</td>\n",
              "      <td>0</td>\n",
              "      <td>...</td>\n",
              "      <td>1</td>\n",
              "      <td>0</td>\n",
              "      <td>0</td>\n",
              "      <td>0</td>\n",
              "      <td>0</td>\n",
              "      <td>0</td>\n",
              "      <td>1</td>\n",
              "      <td>0</td>\n",
              "      <td>0</td>\n",
              "      <td>0</td>\n",
              "    </tr>\n",
              "  </tbody>\n",
              "</table>\n",
              "<p>5 rows × 130 columns</p>\n",
              "</div>"
            ],
            "text/plain": [
              "   duration  src_bytes  dst_bytes  wrong_fragment  urgent  hot  \\\n",
              "0         0          0          0               0       0    0   \n",
              "1         0          0          0               0       0    0   \n",
              "2         0        285       3623               0       0    0   \n",
              "3         0        232        584               0       0    0   \n",
              "4         1       1080        327               0       0    0   \n",
              "\n",
              "   num_failed_logins  num_compromised  num_root  num_file_creations  ...  \\\n",
              "0                  0                0         0                   0  ...   \n",
              "1                  0                0         0                   0  ...   \n",
              "2                  0                0         0                   0  ...   \n",
              "3                  0                0         0                   0  ...   \n",
              "4                  0                0         0                   0  ...   \n",
              "\n",
              "   flag_SF  flag_SH  type_of_attack_Denial of Service Attack  \\\n",
              "0        0        1                                        0   \n",
              "1        0        0                                        0   \n",
              "2        1        0                                        0   \n",
              "3        1        0                                        0   \n",
              "4        1        0                                        0   \n",
              "\n",
              "   type_of_attack_ipsweep  type_of_attack_neptune  type_of_attack_nmap  \\\n",
              "0                       0                       0                    1   \n",
              "1                       0                       1                    0   \n",
              "2                       0                       0                    0   \n",
              "3                       0                       0                    0   \n",
              "4                       0                       0                    0   \n",
              "\n",
              "   type_of_attack_normal  type_of_attack_portsweep  type_of_attack_satan  \\\n",
              "0                      0                         0                     0   \n",
              "1                      0                         0                     0   \n",
              "2                      1                         0                     0   \n",
              "3                      1                         0                     0   \n",
              "4                      1                         0                     0   \n",
              "\n",
              "   type_of_attack_smurf  \n",
              "0                     0  \n",
              "1                     0  \n",
              "2                     0  \n",
              "3                     0  \n",
              "4                     0  \n",
              "\n",
              "[5 rows x 130 columns]"
            ]
          },
          "execution_count": 246,
          "metadata": {},
          "output_type": "execute_result"
        }
      ],
      "source": [
        "df_imp.head()"
      ]
    },
    {
      "cell_type": "code",
      "execution_count": 247,
      "metadata": {},
      "outputs": [
        {
          "data": {
            "text/plain": [
              "(108666, 130)"
            ]
          },
          "execution_count": 247,
          "metadata": {},
          "output_type": "execute_result"
        }
      ],
      "source": [
        "df_imp.shape"
      ]
    },
    {
      "cell_type": "code",
      "execution_count": 248,
      "metadata": {},
      "outputs": [
        {
          "name": "stdout",
          "output_type": "stream",
          "text": [
            "<class 'pandas.core.frame.DataFrame'>\n",
            "Index: 108666 entries, 0 to 112445\n",
            "Columns: 130 entries, duration to type_of_attack_smurf\n",
            "dtypes: float64(8), int32(122)\n",
            "memory usage: 58.0 MB\n"
          ]
        }
      ],
      "source": [
        "df_imp.info()"
      ]
    },
    {
      "cell_type": "markdown",
      "metadata": {},
      "source": [
        "## 1.3 Drop Column with 0 Variance"
      ]
    },
    {
      "cell_type": "code",
      "execution_count": 249,
      "metadata": {},
      "outputs": [
        {
          "name": "stdout",
          "output_type": "stream",
          "text": [
            "Index(['num_outbound_cmds'], dtype='object')\n"
          ]
        }
      ],
      "source": [
        "# features with 0 variance\n",
        "zero_variance_features = df_imp.columns[df_imp.var() == 0]\n",
        "print(zero_variance_features)"
      ]
    },
    {
      "cell_type": "code",
      "execution_count": 250,
      "metadata": {},
      "outputs": [
        {
          "data": {
            "text/plain": [
              "(108666, 129)"
            ]
          },
          "execution_count": 250,
          "metadata": {},
          "output_type": "execute_result"
        }
      ],
      "source": [
        "# drop features with 0 variance\n",
        "df_imp.drop(zero_variance_features, axis=1, inplace=True)\n",
        "df_imp.shape"
      ]
    },
    {
      "cell_type": "code",
      "execution_count": 251,
      "metadata": {},
      "outputs": [],
      "source": [
        "# merge df_imp and df type_of_attack\n",
        "df_imp = pd.concat([df_imp, df['type_of_attack']], axis=1)"
      ]
    },
    {
      "cell_type": "code",
      "execution_count": 252,
      "metadata": {},
      "outputs": [
        {
          "data": {
            "text/html": [
              "<div>\n",
              "<style scoped>\n",
              "    .dataframe tbody tr th:only-of-type {\n",
              "        vertical-align: middle;\n",
              "    }\n",
              "\n",
              "    .dataframe tbody tr th {\n",
              "        vertical-align: top;\n",
              "    }\n",
              "\n",
              "    .dataframe thead th {\n",
              "        text-align: right;\n",
              "    }\n",
              "</style>\n",
              "<table border=\"1\" class=\"dataframe\">\n",
              "  <thead>\n",
              "    <tr style=\"text-align: right;\">\n",
              "      <th></th>\n",
              "      <th>duration</th>\n",
              "      <th>src_bytes</th>\n",
              "      <th>dst_bytes</th>\n",
              "      <th>wrong_fragment</th>\n",
              "      <th>urgent</th>\n",
              "      <th>hot</th>\n",
              "      <th>num_failed_logins</th>\n",
              "      <th>num_compromised</th>\n",
              "      <th>num_root</th>\n",
              "      <th>num_file_creations</th>\n",
              "      <th>...</th>\n",
              "      <th>flag_SH</th>\n",
              "      <th>type_of_attack_Denial of Service Attack</th>\n",
              "      <th>type_of_attack_ipsweep</th>\n",
              "      <th>type_of_attack_neptune</th>\n",
              "      <th>type_of_attack_nmap</th>\n",
              "      <th>type_of_attack_normal</th>\n",
              "      <th>type_of_attack_portsweep</th>\n",
              "      <th>type_of_attack_satan</th>\n",
              "      <th>type_of_attack_smurf</th>\n",
              "      <th>type_of_attack</th>\n",
              "    </tr>\n",
              "  </thead>\n",
              "  <tbody>\n",
              "    <tr>\n",
              "      <th>0</th>\n",
              "      <td>0</td>\n",
              "      <td>0</td>\n",
              "      <td>0</td>\n",
              "      <td>0</td>\n",
              "      <td>0</td>\n",
              "      <td>0</td>\n",
              "      <td>0</td>\n",
              "      <td>0</td>\n",
              "      <td>0</td>\n",
              "      <td>0</td>\n",
              "      <td>...</td>\n",
              "      <td>1</td>\n",
              "      <td>0</td>\n",
              "      <td>0</td>\n",
              "      <td>0</td>\n",
              "      <td>1</td>\n",
              "      <td>0</td>\n",
              "      <td>0</td>\n",
              "      <td>0</td>\n",
              "      <td>0</td>\n",
              "      <td>nmap</td>\n",
              "    </tr>\n",
              "    <tr>\n",
              "      <th>1</th>\n",
              "      <td>0</td>\n",
              "      <td>0</td>\n",
              "      <td>0</td>\n",
              "      <td>0</td>\n",
              "      <td>0</td>\n",
              "      <td>0</td>\n",
              "      <td>0</td>\n",
              "      <td>0</td>\n",
              "      <td>0</td>\n",
              "      <td>0</td>\n",
              "      <td>...</td>\n",
              "      <td>0</td>\n",
              "      <td>0</td>\n",
              "      <td>0</td>\n",
              "      <td>1</td>\n",
              "      <td>0</td>\n",
              "      <td>0</td>\n",
              "      <td>0</td>\n",
              "      <td>0</td>\n",
              "      <td>0</td>\n",
              "      <td>neptune</td>\n",
              "    </tr>\n",
              "    <tr>\n",
              "      <th>2</th>\n",
              "      <td>0</td>\n",
              "      <td>285</td>\n",
              "      <td>3623</td>\n",
              "      <td>0</td>\n",
              "      <td>0</td>\n",
              "      <td>0</td>\n",
              "      <td>0</td>\n",
              "      <td>0</td>\n",
              "      <td>0</td>\n",
              "      <td>0</td>\n",
              "      <td>...</td>\n",
              "      <td>0</td>\n",
              "      <td>0</td>\n",
              "      <td>0</td>\n",
              "      <td>0</td>\n",
              "      <td>0</td>\n",
              "      <td>1</td>\n",
              "      <td>0</td>\n",
              "      <td>0</td>\n",
              "      <td>0</td>\n",
              "      <td>normal</td>\n",
              "    </tr>\n",
              "    <tr>\n",
              "      <th>3</th>\n",
              "      <td>0</td>\n",
              "      <td>232</td>\n",
              "      <td>584</td>\n",
              "      <td>0</td>\n",
              "      <td>0</td>\n",
              "      <td>0</td>\n",
              "      <td>0</td>\n",
              "      <td>0</td>\n",
              "      <td>0</td>\n",
              "      <td>0</td>\n",
              "      <td>...</td>\n",
              "      <td>0</td>\n",
              "      <td>0</td>\n",
              "      <td>0</td>\n",
              "      <td>0</td>\n",
              "      <td>0</td>\n",
              "      <td>1</td>\n",
              "      <td>0</td>\n",
              "      <td>0</td>\n",
              "      <td>0</td>\n",
              "      <td>normal</td>\n",
              "    </tr>\n",
              "    <tr>\n",
              "      <th>4</th>\n",
              "      <td>1</td>\n",
              "      <td>1080</td>\n",
              "      <td>327</td>\n",
              "      <td>0</td>\n",
              "      <td>0</td>\n",
              "      <td>0</td>\n",
              "      <td>0</td>\n",
              "      <td>0</td>\n",
              "      <td>0</td>\n",
              "      <td>0</td>\n",
              "      <td>...</td>\n",
              "      <td>0</td>\n",
              "      <td>0</td>\n",
              "      <td>0</td>\n",
              "      <td>0</td>\n",
              "      <td>0</td>\n",
              "      <td>1</td>\n",
              "      <td>0</td>\n",
              "      <td>0</td>\n",
              "      <td>0</td>\n",
              "      <td>normal</td>\n",
              "    </tr>\n",
              "  </tbody>\n",
              "</table>\n",
              "<p>5 rows × 130 columns</p>\n",
              "</div>"
            ],
            "text/plain": [
              "   duration  src_bytes  dst_bytes  wrong_fragment  urgent  hot  \\\n",
              "0         0          0          0               0       0    0   \n",
              "1         0          0          0               0       0    0   \n",
              "2         0        285       3623               0       0    0   \n",
              "3         0        232        584               0       0    0   \n",
              "4         1       1080        327               0       0    0   \n",
              "\n",
              "   num_failed_logins  num_compromised  num_root  num_file_creations  ...  \\\n",
              "0                  0                0         0                   0  ...   \n",
              "1                  0                0         0                   0  ...   \n",
              "2                  0                0         0                   0  ...   \n",
              "3                  0                0         0                   0  ...   \n",
              "4                  0                0         0                   0  ...   \n",
              "\n",
              "   flag_SH  type_of_attack_Denial of Service Attack  type_of_attack_ipsweep  \\\n",
              "0        1                                        0                       0   \n",
              "1        0                                        0                       0   \n",
              "2        0                                        0                       0   \n",
              "3        0                                        0                       0   \n",
              "4        0                                        0                       0   \n",
              "\n",
              "   type_of_attack_neptune  type_of_attack_nmap  type_of_attack_normal  \\\n",
              "0                       0                    1                      0   \n",
              "1                       1                    0                      0   \n",
              "2                       0                    0                      1   \n",
              "3                       0                    0                      1   \n",
              "4                       0                    0                      1   \n",
              "\n",
              "   type_of_attack_portsweep  type_of_attack_satan  type_of_attack_smurf  \\\n",
              "0                         0                     0                     0   \n",
              "1                         0                     0                     0   \n",
              "2                         0                     0                     0   \n",
              "3                         0                     0                     0   \n",
              "4                         0                     0                     0   \n",
              "\n",
              "   type_of_attack  \n",
              "0            nmap  \n",
              "1         neptune  \n",
              "2          normal  \n",
              "3          normal  \n",
              "4          normal  \n",
              "\n",
              "[5 rows x 130 columns]"
            ]
          },
          "execution_count": 252,
          "metadata": {},
          "output_type": "execute_result"
        }
      ],
      "source": [
        "df_imp.head()"
      ]
    },
    {
      "cell_type": "markdown",
      "metadata": {},
      "source": [
        "## 1.4 Correlation"
      ]
    },
    {
      "cell_type": "markdown",
      "metadata": {},
      "source": [
        "### 1.4.1 Spearman's Rank Correlation Coefficient (rho)"
      ]
    },
    {
      "cell_type": "code",
      "execution_count": 253,
      "metadata": {},
      "outputs": [],
      "source": [
        "# drop type_of_attack\n",
        "df_imp.drop(['type_of_attack'], axis=1, inplace=True)"
      ]
    },
    {
      "cell_type": "code",
      "execution_count": 254,
      "metadata": {},
      "outputs": [],
      "source": [
        "from scipy.stats import spearmanr\n",
        "\n",
        "# Misalnya Anda memiliki DataFrame df_imp\n",
        "# df_imp adalah DataFrame yang berisi variabel-variabel yang ingin Anda hitung rho-nya\n",
        "\n",
        "# Menggunakan metode .corr() dengan metode 'spearman' untuk menghitung rho\n",
        "rho_corr_matrix = df_imp.corr(method='spearman')\n"
      ]
    },
    {
      "cell_type": "code",
      "execution_count": 255,
      "metadata": {},
      "outputs": [
        {
          "name": "stdout",
          "output_type": "stream",
          "text": [
            "Matriks Korelasi Rho (Spearman's Rank Correlation Coefficient):\n"
          ]
        },
        {
          "data": {
            "text/html": [
              "<div>\n",
              "<style scoped>\n",
              "    .dataframe tbody tr th:only-of-type {\n",
              "        vertical-align: middle;\n",
              "    }\n",
              "\n",
              "    .dataframe tbody tr th {\n",
              "        vertical-align: top;\n",
              "    }\n",
              "\n",
              "    .dataframe thead th {\n",
              "        text-align: right;\n",
              "    }\n",
              "</style>\n",
              "<table border=\"1\" class=\"dataframe\">\n",
              "  <thead>\n",
              "    <tr style=\"text-align: right;\">\n",
              "      <th></th>\n",
              "      <th>duration</th>\n",
              "      <th>src_bytes</th>\n",
              "      <th>dst_bytes</th>\n",
              "      <th>wrong_fragment</th>\n",
              "      <th>urgent</th>\n",
              "      <th>hot</th>\n",
              "      <th>num_failed_logins</th>\n",
              "      <th>num_compromised</th>\n",
              "      <th>num_root</th>\n",
              "      <th>num_file_creations</th>\n",
              "      <th>...</th>\n",
              "      <th>flag_SF</th>\n",
              "      <th>flag_SH</th>\n",
              "      <th>type_of_attack_Denial of Service Attack</th>\n",
              "      <th>type_of_attack_ipsweep</th>\n",
              "      <th>type_of_attack_neptune</th>\n",
              "      <th>type_of_attack_nmap</th>\n",
              "      <th>type_of_attack_normal</th>\n",
              "      <th>type_of_attack_portsweep</th>\n",
              "      <th>type_of_attack_satan</th>\n",
              "      <th>type_of_attack_smurf</th>\n",
              "    </tr>\n",
              "  </thead>\n",
              "  <tbody>\n",
              "    <tr>\n",
              "      <th>duration</th>\n",
              "      <td>1.000000</td>\n",
              "      <td>0.217873</td>\n",
              "      <td>0.145808</td>\n",
              "      <td>-0.027010</td>\n",
              "      <td>0.024402</td>\n",
              "      <td>0.189476</td>\n",
              "      <td>0.076360</td>\n",
              "      <td>0.073320</td>\n",
              "      <td>0.037439</td>\n",
              "      <td>0.072660</td>\n",
              "      <td>...</td>\n",
              "      <td>0.131336</td>\n",
              "      <td>-0.012824</td>\n",
              "      <td>-0.028973</td>\n",
              "      <td>-0.039368</td>\n",
              "      <td>-0.205743</td>\n",
              "      <td>-0.030660</td>\n",
              "      <td>0.168324</td>\n",
              "      <td>0.247056</td>\n",
              "      <td>-0.028896</td>\n",
              "      <td>-0.042224</td>\n",
              "    </tr>\n",
              "    <tr>\n",
              "      <th>src_bytes</th>\n",
              "      <td>0.217873</td>\n",
              "      <td>1.000000</td>\n",
              "      <td>0.714034</td>\n",
              "      <td>0.017858</td>\n",
              "      <td>0.008554</td>\n",
              "      <td>0.185890</td>\n",
              "      <td>0.013964</td>\n",
              "      <td>0.153913</td>\n",
              "      <td>0.080623</td>\n",
              "      <td>0.072502</td>\n",
              "      <td>...</td>\n",
              "      <td>0.860018</td>\n",
              "      <td>-0.046618</td>\n",
              "      <td>0.116061</td>\n",
              "      <td>-0.055759</td>\n",
              "      <td>-0.765181</td>\n",
              "      <td>-0.028201</td>\n",
              "      <td>0.736756</td>\n",
              "      <td>-0.125960</td>\n",
              "      <td>-0.123429</td>\n",
              "      <td>0.216110</td>\n",
              "    </tr>\n",
              "    <tr>\n",
              "      <th>dst_bytes</th>\n",
              "      <td>0.145808</td>\n",
              "      <td>0.714034</td>\n",
              "      <td>1.000000</td>\n",
              "      <td>-0.080838</td>\n",
              "      <td>0.011384</td>\n",
              "      <td>0.188684</td>\n",
              "      <td>0.023706</td>\n",
              "      <td>0.168639</td>\n",
              "      <td>-0.014344</td>\n",
              "      <td>0.036824</td>\n",
              "      <td>...</td>\n",
              "      <td>0.698495</td>\n",
              "      <td>-0.038429</td>\n",
              "      <td>0.039314</td>\n",
              "      <td>-0.144737</td>\n",
              "      <td>-0.616724</td>\n",
              "      <td>-0.091649</td>\n",
              "      <td>0.763377</td>\n",
              "      <td>-0.133681</td>\n",
              "      <td>-0.136053</td>\n",
              "      <td>-0.126534</td>\n",
              "    </tr>\n",
              "    <tr>\n",
              "      <th>wrong_fragment</th>\n",
              "      <td>-0.027010</td>\n",
              "      <td>0.017858</td>\n",
              "      <td>-0.080838</td>\n",
              "      <td>1.000000</td>\n",
              "      <td>-0.000635</td>\n",
              "      <td>-0.001399</td>\n",
              "      <td>-0.002181</td>\n",
              "      <td>-0.009335</td>\n",
              "      <td>-0.006606</td>\n",
              "      <td>-0.004243</td>\n",
              "      <td>...</td>\n",
              "      <td>0.078557</td>\n",
              "      <td>-0.004156</td>\n",
              "      <td>0.726057</td>\n",
              "      <td>-0.015977</td>\n",
              "      <td>-0.066703</td>\n",
              "      <td>-0.009937</td>\n",
              "      <td>-0.100439</td>\n",
              "      <td>-0.014536</td>\n",
              "      <td>-0.015667</td>\n",
              "      <td>-0.013685</td>\n",
              "    </tr>\n",
              "    <tr>\n",
              "      <th>urgent</th>\n",
              "      <td>0.024402</td>\n",
              "      <td>0.008554</td>\n",
              "      <td>0.011384</td>\n",
              "      <td>-0.000635</td>\n",
              "      <td>1.000000</td>\n",
              "      <td>0.019380</td>\n",
              "      <td>0.116361</td>\n",
              "      <td>0.054760</td>\n",
              "      <td>0.077095</td>\n",
              "      <td>0.059656</td>\n",
              "      <td>...</td>\n",
              "      <td>0.005696</td>\n",
              "      <td>-0.000301</td>\n",
              "      <td>-0.000874</td>\n",
              "      <td>-0.001158</td>\n",
              "      <td>-0.004836</td>\n",
              "      <td>-0.000720</td>\n",
              "      <td>0.006319</td>\n",
              "      <td>-0.001054</td>\n",
              "      <td>-0.001136</td>\n",
              "      <td>-0.000992</td>\n",
              "    </tr>\n",
              "    <tr>\n",
              "      <th>...</th>\n",
              "      <td>...</td>\n",
              "      <td>...</td>\n",
              "      <td>...</td>\n",
              "      <td>...</td>\n",
              "      <td>...</td>\n",
              "      <td>...</td>\n",
              "      <td>...</td>\n",
              "      <td>...</td>\n",
              "      <td>...</td>\n",
              "      <td>...</td>\n",
              "      <td>...</td>\n",
              "      <td>...</td>\n",
              "      <td>...</td>\n",
              "      <td>...</td>\n",
              "      <td>...</td>\n",
              "      <td>...</td>\n",
              "      <td>...</td>\n",
              "      <td>...</td>\n",
              "      <td>...</td>\n",
              "      <td>...</td>\n",
              "      <td>...</td>\n",
              "    </tr>\n",
              "    <tr>\n",
              "      <th>type_of_attack_nmap</th>\n",
              "      <td>-0.030660</td>\n",
              "      <td>-0.028201</td>\n",
              "      <td>-0.091649</td>\n",
              "      <td>-0.009937</td>\n",
              "      <td>-0.000720</td>\n",
              "      <td>-0.014239</td>\n",
              "      <td>-0.002475</td>\n",
              "      <td>-0.010596</td>\n",
              "      <td>-0.007498</td>\n",
              "      <td>-0.004816</td>\n",
              "      <td>...</td>\n",
              "      <td>0.051448</td>\n",
              "      <td>0.414309</td>\n",
              "      <td>-0.013686</td>\n",
              "      <td>-0.018136</td>\n",
              "      <td>-0.075716</td>\n",
              "      <td>1.000000</td>\n",
              "      <td>-0.114010</td>\n",
              "      <td>-0.016500</td>\n",
              "      <td>-0.017784</td>\n",
              "      <td>-0.015534</td>\n",
              "    </tr>\n",
              "    <tr>\n",
              "      <th>type_of_attack_normal</th>\n",
              "      <td>0.168324</td>\n",
              "      <td>0.736756</td>\n",
              "      <td>0.763377</td>\n",
              "      <td>-0.100439</td>\n",
              "      <td>0.006319</td>\n",
              "      <td>0.010257</td>\n",
              "      <td>0.020919</td>\n",
              "      <td>-0.047579</td>\n",
              "      <td>0.064721</td>\n",
              "      <td>0.041426</td>\n",
              "      <td>...</td>\n",
              "      <td>0.774167</td>\n",
              "      <td>-0.046853</td>\n",
              "      <td>-0.138334</td>\n",
              "      <td>-0.183316</td>\n",
              "      <td>-0.765326</td>\n",
              "      <td>-0.114010</td>\n",
              "      <td>1.000000</td>\n",
              "      <td>-0.166778</td>\n",
              "      <td>-0.179762</td>\n",
              "      <td>-0.157014</td>\n",
              "    </tr>\n",
              "    <tr>\n",
              "      <th>type_of_attack_portsweep</th>\n",
              "      <td>0.247056</td>\n",
              "      <td>-0.125960</td>\n",
              "      <td>-0.133681</td>\n",
              "      <td>-0.014536</td>\n",
              "      <td>-0.001054</td>\n",
              "      <td>-0.018108</td>\n",
              "      <td>-0.003621</td>\n",
              "      <td>-0.015500</td>\n",
              "      <td>-0.010969</td>\n",
              "      <td>-0.007045</td>\n",
              "      <td>...</td>\n",
              "      <td>-0.184295</td>\n",
              "      <td>-0.006901</td>\n",
              "      <td>-0.020020</td>\n",
              "      <td>-0.026530</td>\n",
              "      <td>-0.110760</td>\n",
              "      <td>-0.016500</td>\n",
              "      <td>-0.166778</td>\n",
              "      <td>1.000000</td>\n",
              "      <td>-0.026016</td>\n",
              "      <td>-0.022723</td>\n",
              "    </tr>\n",
              "    <tr>\n",
              "      <th>type_of_attack_satan</th>\n",
              "      <td>-0.028896</td>\n",
              "      <td>-0.123429</td>\n",
              "      <td>-0.136053</td>\n",
              "      <td>-0.015667</td>\n",
              "      <td>-0.001136</td>\n",
              "      <td>-0.019486</td>\n",
              "      <td>-0.001476</td>\n",
              "      <td>-0.014995</td>\n",
              "      <td>-0.009417</td>\n",
              "      <td>-0.006345</td>\n",
              "      <td>...</td>\n",
              "      <td>-0.052136</td>\n",
              "      <td>-0.007439</td>\n",
              "      <td>-0.021579</td>\n",
              "      <td>-0.028595</td>\n",
              "      <td>-0.119383</td>\n",
              "      <td>-0.017784</td>\n",
              "      <td>-0.179762</td>\n",
              "      <td>-0.026016</td>\n",
              "      <td>1.000000</td>\n",
              "      <td>-0.024493</td>\n",
              "    </tr>\n",
              "    <tr>\n",
              "      <th>type_of_attack_smurf</th>\n",
              "      <td>-0.042224</td>\n",
              "      <td>0.216110</td>\n",
              "      <td>-0.126534</td>\n",
              "      <td>-0.013685</td>\n",
              "      <td>-0.000992</td>\n",
              "      <td>-0.019610</td>\n",
              "      <td>-0.003409</td>\n",
              "      <td>-0.014593</td>\n",
              "      <td>-0.010327</td>\n",
              "      <td>-0.006633</td>\n",
              "      <td>...</td>\n",
              "      <td>0.122806</td>\n",
              "      <td>-0.006497</td>\n",
              "      <td>-0.018848</td>\n",
              "      <td>-0.024977</td>\n",
              "      <td>-0.104275</td>\n",
              "      <td>-0.015534</td>\n",
              "      <td>-0.157014</td>\n",
              "      <td>-0.022723</td>\n",
              "      <td>-0.024493</td>\n",
              "      <td>1.000000</td>\n",
              "    </tr>\n",
              "  </tbody>\n",
              "</table>\n",
              "<p>129 rows × 129 columns</p>\n",
              "</div>"
            ],
            "text/plain": [
              "                          duration  src_bytes  dst_bytes  wrong_fragment  \\\n",
              "duration                  1.000000   0.217873   0.145808       -0.027010   \n",
              "src_bytes                 0.217873   1.000000   0.714034        0.017858   \n",
              "dst_bytes                 0.145808   0.714034   1.000000       -0.080838   \n",
              "wrong_fragment           -0.027010   0.017858  -0.080838        1.000000   \n",
              "urgent                    0.024402   0.008554   0.011384       -0.000635   \n",
              "...                            ...        ...        ...             ...   \n",
              "type_of_attack_nmap      -0.030660  -0.028201  -0.091649       -0.009937   \n",
              "type_of_attack_normal     0.168324   0.736756   0.763377       -0.100439   \n",
              "type_of_attack_portsweep  0.247056  -0.125960  -0.133681       -0.014536   \n",
              "type_of_attack_satan     -0.028896  -0.123429  -0.136053       -0.015667   \n",
              "type_of_attack_smurf     -0.042224   0.216110  -0.126534       -0.013685   \n",
              "\n",
              "                            urgent       hot  num_failed_logins  \\\n",
              "duration                  0.024402  0.189476           0.076360   \n",
              "src_bytes                 0.008554  0.185890           0.013964   \n",
              "dst_bytes                 0.011384  0.188684           0.023706   \n",
              "wrong_fragment           -0.000635 -0.001399          -0.002181   \n",
              "urgent                    1.000000  0.019380           0.116361   \n",
              "...                            ...       ...                ...   \n",
              "type_of_attack_nmap      -0.000720 -0.014239          -0.002475   \n",
              "type_of_attack_normal     0.006319  0.010257           0.020919   \n",
              "type_of_attack_portsweep -0.001054 -0.018108          -0.003621   \n",
              "type_of_attack_satan     -0.001136 -0.019486          -0.001476   \n",
              "type_of_attack_smurf     -0.000992 -0.019610          -0.003409   \n",
              "\n",
              "                          num_compromised  num_root  num_file_creations  ...  \\\n",
              "duration                         0.073320  0.037439            0.072660  ...   \n",
              "src_bytes                        0.153913  0.080623            0.072502  ...   \n",
              "dst_bytes                        0.168639 -0.014344            0.036824  ...   \n",
              "wrong_fragment                  -0.009335 -0.006606           -0.004243  ...   \n",
              "urgent                           0.054760  0.077095            0.059656  ...   \n",
              "...                                   ...       ...                 ...  ...   \n",
              "type_of_attack_nmap             -0.010596 -0.007498           -0.004816  ...   \n",
              "type_of_attack_normal           -0.047579  0.064721            0.041426  ...   \n",
              "type_of_attack_portsweep        -0.015500 -0.010969           -0.007045  ...   \n",
              "type_of_attack_satan            -0.014995 -0.009417           -0.006345  ...   \n",
              "type_of_attack_smurf            -0.014593 -0.010327           -0.006633  ...   \n",
              "\n",
              "                           flag_SF   flag_SH  \\\n",
              "duration                  0.131336 -0.012824   \n",
              "src_bytes                 0.860018 -0.046618   \n",
              "dst_bytes                 0.698495 -0.038429   \n",
              "wrong_fragment            0.078557 -0.004156   \n",
              "urgent                    0.005696 -0.000301   \n",
              "...                            ...       ...   \n",
              "type_of_attack_nmap       0.051448  0.414309   \n",
              "type_of_attack_normal     0.774167 -0.046853   \n",
              "type_of_attack_portsweep -0.184295 -0.006901   \n",
              "type_of_attack_satan     -0.052136 -0.007439   \n",
              "type_of_attack_smurf      0.122806 -0.006497   \n",
              "\n",
              "                          type_of_attack_Denial of Service Attack  \\\n",
              "duration                                                -0.028973   \n",
              "src_bytes                                                0.116061   \n",
              "dst_bytes                                                0.039314   \n",
              "wrong_fragment                                           0.726057   \n",
              "urgent                                                  -0.000874   \n",
              "...                                                           ...   \n",
              "type_of_attack_nmap                                     -0.013686   \n",
              "type_of_attack_normal                                   -0.138334   \n",
              "type_of_attack_portsweep                                -0.020020   \n",
              "type_of_attack_satan                                    -0.021579   \n",
              "type_of_attack_smurf                                    -0.018848   \n",
              "\n",
              "                          type_of_attack_ipsweep  type_of_attack_neptune  \\\n",
              "duration                               -0.039368               -0.205743   \n",
              "src_bytes                              -0.055759               -0.765181   \n",
              "dst_bytes                              -0.144737               -0.616724   \n",
              "wrong_fragment                         -0.015977               -0.066703   \n",
              "urgent                                 -0.001158               -0.004836   \n",
              "...                                          ...                     ...   \n",
              "type_of_attack_nmap                    -0.018136               -0.075716   \n",
              "type_of_attack_normal                  -0.183316               -0.765326   \n",
              "type_of_attack_portsweep               -0.026530               -0.110760   \n",
              "type_of_attack_satan                   -0.028595               -0.119383   \n",
              "type_of_attack_smurf                   -0.024977               -0.104275   \n",
              "\n",
              "                          type_of_attack_nmap  type_of_attack_normal  \\\n",
              "duration                            -0.030660               0.168324   \n",
              "src_bytes                           -0.028201               0.736756   \n",
              "dst_bytes                           -0.091649               0.763377   \n",
              "wrong_fragment                      -0.009937              -0.100439   \n",
              "urgent                              -0.000720               0.006319   \n",
              "...                                       ...                    ...   \n",
              "type_of_attack_nmap                  1.000000              -0.114010   \n",
              "type_of_attack_normal               -0.114010               1.000000   \n",
              "type_of_attack_portsweep            -0.016500              -0.166778   \n",
              "type_of_attack_satan                -0.017784              -0.179762   \n",
              "type_of_attack_smurf                -0.015534              -0.157014   \n",
              "\n",
              "                          type_of_attack_portsweep  type_of_attack_satan  \\\n",
              "duration                                  0.247056             -0.028896   \n",
              "src_bytes                                -0.125960             -0.123429   \n",
              "dst_bytes                                -0.133681             -0.136053   \n",
              "wrong_fragment                           -0.014536             -0.015667   \n",
              "urgent                                   -0.001054             -0.001136   \n",
              "...                                            ...                   ...   \n",
              "type_of_attack_nmap                      -0.016500             -0.017784   \n",
              "type_of_attack_normal                    -0.166778             -0.179762   \n",
              "type_of_attack_portsweep                  1.000000             -0.026016   \n",
              "type_of_attack_satan                     -0.026016              1.000000   \n",
              "type_of_attack_smurf                     -0.022723             -0.024493   \n",
              "\n",
              "                          type_of_attack_smurf  \n",
              "duration                             -0.042224  \n",
              "src_bytes                             0.216110  \n",
              "dst_bytes                            -0.126534  \n",
              "wrong_fragment                       -0.013685  \n",
              "urgent                               -0.000992  \n",
              "...                                        ...  \n",
              "type_of_attack_nmap                  -0.015534  \n",
              "type_of_attack_normal                -0.157014  \n",
              "type_of_attack_portsweep             -0.022723  \n",
              "type_of_attack_satan                 -0.024493  \n",
              "type_of_attack_smurf                  1.000000  \n",
              "\n",
              "[129 rows x 129 columns]"
            ]
          },
          "execution_count": 255,
          "metadata": {},
          "output_type": "execute_result"
        }
      ],
      "source": [
        "# Menampilkan matriks korelasi rho\n",
        "print(\"Matriks Korelasi Rho (Spearman's Rank Correlation Coefficient):\")\n",
        "rho_corr_matrix"
      ]
    },
    {
      "cell_type": "code",
      "execution_count": null,
      "metadata": {},
      "outputs": [],
      "source": [
        "# DANGER ZONE, RUN WITH CAUTION\n",
        "# Jika Anda ingin mengambil nilai korelasi antar dua variabel tertentu, misalnya var1 dan var2\n",
        "var1 = 'nama_variabel_1'\n",
        "var2 = 'nama_variabel_2'\n",
        "\n",
        "rho, _ = spearmanr(df_imp[var1], df_imp[var2])\n",
        "print(f\"Korelasi Rho antara {var1} dan {var2}: {rho:.4f}\")"
      ]
    },
    {
      "cell_type": "code",
      "execution_count": 256,
      "metadata": {},
      "outputs": [
        {
          "data": {
            "text/plain": [
              "(108666, 129)"
            ]
          },
          "execution_count": 256,
          "metadata": {},
          "output_type": "execute_result"
        }
      ],
      "source": [
        "# show shape of df_imp\n",
        "df_imp.shape"
      ]
    },
    {
      "cell_type": "code",
      "execution_count": 257,
      "metadata": {},
      "outputs": [
        {
          "data": {
            "image/png": "[encoded data removed]",
            "text/plain": [
              "<Figure size 1200x900 with 2 Axes>"
            ]
          },
          "metadata": {},
          "output_type": "display_data"
        }
      ],
      "source": [
        "# Check heat map with blue colormap\n",
        "corr_mat = df_imp.corr(method='spearman') # change df\n",
        "f, ax = plt.subplots(figsize=(12, 9))\n",
        "sns.heatmap(corr_mat, vmax=.8, square=True, cmap='Blues', ax=ax)\n",
        "plt.show()"
      ]
    },
    {
      "cell_type": "markdown",
      "metadata": {},
      "source": [
        "### Abil's Corr"
      ]
    },
    {
      "cell_type": "code",
      "execution_count": null,
      "metadata": {},
      "outputs": [],
      "source": [
        "# Menghasilkan matriks korelasi\n",
        "corr = df_imp.corr()\n",
        "\n",
        "# Mengubah diagonal utama (korelasi kolom dengan diri sendiri) menjadi NaN\n",
        "for i in range(corr.shape[0]):\n",
        "    corr.iloc[i, i] = np.nan\n",
        "\n",
        "# Mencari kolom yang memiliki korelasi > 0.95 atau < -0.95\n",
        "high_corr_cols = (corr.abs() > 0.95).any()\n",
        "\n",
        "# Menampilkan nama kolom yang memiliki korelasi tinggi dan nilai korelasinya\n",
        "high_corr_columns = df_imp.columns[high_corr_cols]\n",
        "\n",
        "# Menampilkan kolom mana yang berkorelasi dengan kolom dalam output\n",
        "for col in high_corr_columns:\n",
        "    correlated_cols = corr.index[corr[col].abs() > 0.95].tolist()\n",
        "    if col in correlated_cols:\n",
        "        correlated_cols.remove(col)  # Hapus diri sendiri dari daftar jika ada\n",
        "    print(f\"Kolom '{col}' berkorelasi dengan kolom-kolom berikut:\")\n",
        "    print(correlated_cols)\n",
        "    print(\"Nilai Korelasi:\")\n",
        "    for correlated_col in correlated_cols:\n",
        "        correlation_value = corr.loc[col, correlated_col]\n",
        "        print(f\"{correlated_col}: {correlation_value:.2f}\")\n",
        "    print()"
      ]
    },
    {
      "cell_type": "code",
      "execution_count": null,
      "metadata": {},
      "outputs": [],
      "source": [
        "with open('output.txt', 'w') as f:\n",
        "    for col in high_corr_columns:\n",
        "        correlated_cols = corr.index[corr[col].abs() > 0.95].tolist()\n",
        "        if col in correlated_cols:\n",
        "            correlated_cols.remove(col)  # Hapus diri sendiri dari daftar jika ada\n",
        "        f.write(f\"Kolom '{col}' berkorelasi dengan kolom-kolom berikut:\\n\")\n",
        "        f.write(str(correlated_cols) + \"\\n\")\n",
        "        f.write(\"Nilai Korelasi:\\n\")\n",
        "        for correlated_col in correlated_cols:\n",
        "            correlation_value = corr.loc[col, correlated_col]\n",
        "            f.write(f\"{correlated_col}: {correlation_value:.2f}\\n\")\n",
        "        f.write(\"\\n\")"
      ]
    },
    {
      "cell_type": "code",
      "execution_count": null,
      "metadata": {},
      "outputs": [],
      "source": [
        "high_corr_columns = ['num_root','serror_rate','srv_serror_rate','dst_host_serror_rate','flag_S0']\n",
        "# drop features with high correlation\n",
        "df_imp.drop(high_corr_columns, axis=1, inplace=True)"
      ]
    },
    {
      "cell_type": "code",
      "execution_count": null,
      "metadata": {},
      "outputs": [],
      "source": [
        "df_imp.shape"
      ]
    },
    {
      "cell_type": "markdown",
      "metadata": {},
      "source": [
        "### Mark Down"
      ]
    },
    {
      "cell_type": "code",
      "execution_count": null,
      "metadata": {},
      "outputs": [],
      "source": [
        "# # Menghasilkan matriks korelasi\n",
        "# corr = df_imp.corr()\n",
        "\n",
        "# # Mengubah diagonal utama (korelasi kolom dengan diri sendiri) menjadi NaN\n",
        "# for i in range(corr.shape[0]):\n",
        "#     corr.iloc[i, i] = np.nan\n",
        "\n",
        "# # Mencari kolom yang memiliki korelasi > 0.95 atau < -0.95\n",
        "# high_corr_cols = (corr.abs() > 0.95).any()\n",
        "\n",
        "# # Menampilkan nama kolom yang memiliki korelasi tinggi\n",
        "# high_corr_columns = df_imp.columns[high_corr_cols]\n",
        "# print(high_corr_columns)"
      ]
    },
    {
      "cell_type": "code",
      "execution_count": null,
      "metadata": {},
      "outputs": [],
      "source": [
        "# # Menghasilkan matriks korelasi\n",
        "# corr = df_imp.corr()\n",
        "\n",
        "# # Mengubah diagonal utama (korelasi kolom dengan diri sendiri) menjadi NaN\n",
        "# for i in range(corr.shape[0]):\n",
        "#     corr.iloc[i, i] = np.nan\n",
        "\n",
        "# # Mencari kolom yang memiliki korelasi > 0.95 atau < -0.95\n",
        "# high_corr_cols = (corr.abs() > 0.95).any()\n",
        "\n",
        "# # Menampilkan nama kolom yang memiliki korelasi tinggi dan nilai korelasinya\n",
        "# high_corr_columns = df_imp.columns[high_corr_cols]\n",
        "\n",
        "# # Menampilkan kolom mana yang berkorelasi dengan kolom dalam output\n",
        "# for col in high_corr_columns:\n",
        "#     correlated_cols = corr.index[corr[col].abs() > 0.95].tolist()\n",
        "#     if col in correlated_cols:\n",
        "#         correlated_cols.remove(col)  # Hapus diri sendiri dari daftar jika ada\n",
        "#     print(f\"Kolom '{col}' berkorelasi dengan kolom-kolom berikut:\")\n",
        "#     print(correlated_cols)\n",
        "#     print(\"Nilai Korelasi:\")\n",
        "#     for correlated_col in correlated_cols:\n",
        "#         correlation_value = corr.loc[col, correlated_col]\n",
        "#         print(f\"{correlated_col}: {correlation_value:.2f}\")\n",
        "#     print()"
      ]
    },
    {
      "cell_type": "code",
      "execution_count": null,
      "metadata": {},
      "outputs": [],
      "source": [
        "# # drop features with high correlation\n",
        "# df_imp.drop(high_corr_columns, axis=1, inplace=True)"
      ]
    },
    {
      "cell_type": "code",
      "execution_count": null,
      "metadata": {},
      "outputs": [],
      "source": [
        "# df_imp.shape"
      ]
    },
    {
      "cell_type": "markdown",
      "metadata": {},
      "source": [
        "## 1.5 Duplicate Data"
      ]
    },
    {
      "cell_type": "code",
      "execution_count": 184,
      "metadata": {},
      "outputs": [],
      "source": [
        "# merge df_imp and df type_of_attack\n",
        "df_imp = pd.concat([df_imp, df['type_of_attack']], axis=1)"
      ]
    },
    {
      "cell_type": "code",
      "execution_count": 258,
      "metadata": {},
      "outputs": [
        {
          "data": {
            "text/html": [
              "<div>\n",
              "<style scoped>\n",
              "    .dataframe tbody tr th:only-of-type {\n",
              "        vertical-align: middle;\n",
              "    }\n",
              "\n",
              "    .dataframe tbody tr th {\n",
              "        vertical-align: top;\n",
              "    }\n",
              "\n",
              "    .dataframe thead th {\n",
              "        text-align: right;\n",
              "    }\n",
              "</style>\n",
              "<table border=\"1\" class=\"dataframe\">\n",
              "  <thead>\n",
              "    <tr style=\"text-align: right;\">\n",
              "      <th></th>\n",
              "      <th>duration</th>\n",
              "      <th>src_bytes</th>\n",
              "      <th>dst_bytes</th>\n",
              "      <th>wrong_fragment</th>\n",
              "      <th>urgent</th>\n",
              "      <th>hot</th>\n",
              "      <th>num_failed_logins</th>\n",
              "      <th>num_compromised</th>\n",
              "      <th>num_root</th>\n",
              "      <th>num_file_creations</th>\n",
              "      <th>...</th>\n",
              "      <th>flag_SF</th>\n",
              "      <th>flag_SH</th>\n",
              "      <th>type_of_attack_Denial of Service Attack</th>\n",
              "      <th>type_of_attack_ipsweep</th>\n",
              "      <th>type_of_attack_neptune</th>\n",
              "      <th>type_of_attack_nmap</th>\n",
              "      <th>type_of_attack_normal</th>\n",
              "      <th>type_of_attack_portsweep</th>\n",
              "      <th>type_of_attack_satan</th>\n",
              "      <th>type_of_attack_smurf</th>\n",
              "    </tr>\n",
              "  </thead>\n",
              "  <tbody>\n",
              "    <tr>\n",
              "      <th>0</th>\n",
              "      <td>0</td>\n",
              "      <td>0</td>\n",
              "      <td>0</td>\n",
              "      <td>0</td>\n",
              "      <td>0</td>\n",
              "      <td>0</td>\n",
              "      <td>0</td>\n",
              "      <td>0</td>\n",
              "      <td>0</td>\n",
              "      <td>0</td>\n",
              "      <td>...</td>\n",
              "      <td>0</td>\n",
              "      <td>1</td>\n",
              "      <td>0</td>\n",
              "      <td>0</td>\n",
              "      <td>0</td>\n",
              "      <td>1</td>\n",
              "      <td>0</td>\n",
              "      <td>0</td>\n",
              "      <td>0</td>\n",
              "      <td>0</td>\n",
              "    </tr>\n",
              "    <tr>\n",
              "      <th>1</th>\n",
              "      <td>0</td>\n",
              "      <td>0</td>\n",
              "      <td>0</td>\n",
              "      <td>0</td>\n",
              "      <td>0</td>\n",
              "      <td>0</td>\n",
              "      <td>0</td>\n",
              "      <td>0</td>\n",
              "      <td>0</td>\n",
              "      <td>0</td>\n",
              "      <td>...</td>\n",
              "      <td>0</td>\n",
              "      <td>0</td>\n",
              "      <td>0</td>\n",
              "      <td>0</td>\n",
              "      <td>1</td>\n",
              "      <td>0</td>\n",
              "      <td>0</td>\n",
              "      <td>0</td>\n",
              "      <td>0</td>\n",
              "      <td>0</td>\n",
              "    </tr>\n",
              "    <tr>\n",
              "      <th>2</th>\n",
              "      <td>0</td>\n",
              "      <td>285</td>\n",
              "      <td>3623</td>\n",
              "      <td>0</td>\n",
              "      <td>0</td>\n",
              "      <td>0</td>\n",
              "      <td>0</td>\n",
              "      <td>0</td>\n",
              "      <td>0</td>\n",
              "      <td>0</td>\n",
              "      <td>...</td>\n",
              "      <td>1</td>\n",
              "      <td>0</td>\n",
              "      <td>0</td>\n",
              "      <td>0</td>\n",
              "      <td>0</td>\n",
              "      <td>0</td>\n",
              "      <td>1</td>\n",
              "      <td>0</td>\n",
              "      <td>0</td>\n",
              "      <td>0</td>\n",
              "    </tr>\n",
              "    <tr>\n",
              "      <th>3</th>\n",
              "      <td>0</td>\n",
              "      <td>232</td>\n",
              "      <td>584</td>\n",
              "      <td>0</td>\n",
              "      <td>0</td>\n",
              "      <td>0</td>\n",
              "      <td>0</td>\n",
              "      <td>0</td>\n",
              "      <td>0</td>\n",
              "      <td>0</td>\n",
              "      <td>...</td>\n",
              "      <td>1</td>\n",
              "      <td>0</td>\n",
              "      <td>0</td>\n",
              "      <td>0</td>\n",
              "      <td>0</td>\n",
              "      <td>0</td>\n",
              "      <td>1</td>\n",
              "      <td>0</td>\n",
              "      <td>0</td>\n",
              "      <td>0</td>\n",
              "    </tr>\n",
              "    <tr>\n",
              "      <th>4</th>\n",
              "      <td>1</td>\n",
              "      <td>1080</td>\n",
              "      <td>327</td>\n",
              "      <td>0</td>\n",
              "      <td>0</td>\n",
              "      <td>0</td>\n",
              "      <td>0</td>\n",
              "      <td>0</td>\n",
              "      <td>0</td>\n",
              "      <td>0</td>\n",
              "      <td>...</td>\n",
              "      <td>1</td>\n",
              "      <td>0</td>\n",
              "      <td>0</td>\n",
              "      <td>0</td>\n",
              "      <td>0</td>\n",
              "      <td>0</td>\n",
              "      <td>1</td>\n",
              "      <td>0</td>\n",
              "      <td>0</td>\n",
              "      <td>0</td>\n",
              "    </tr>\n",
              "  </tbody>\n",
              "</table>\n",
              "<p>5 rows × 129 columns</p>\n",
              "</div>"
            ],
            "text/plain": [
              "   duration  src_bytes  dst_bytes  wrong_fragment  urgent  hot  \\\n",
              "0         0          0          0               0       0    0   \n",
              "1         0          0          0               0       0    0   \n",
              "2         0        285       3623               0       0    0   \n",
              "3         0        232        584               0       0    0   \n",
              "4         1       1080        327               0       0    0   \n",
              "\n",
              "   num_failed_logins  num_compromised  num_root  num_file_creations  ...  \\\n",
              "0                  0                0         0                   0  ...   \n",
              "1                  0                0         0                   0  ...   \n",
              "2                  0                0         0                   0  ...   \n",
              "3                  0                0         0                   0  ...   \n",
              "4                  0                0         0                   0  ...   \n",
              "\n",
              "   flag_SF  flag_SH  type_of_attack_Denial of Service Attack  \\\n",
              "0        0        1                                        0   \n",
              "1        0        0                                        0   \n",
              "2        1        0                                        0   \n",
              "3        1        0                                        0   \n",
              "4        1        0                                        0   \n",
              "\n",
              "   type_of_attack_ipsweep  type_of_attack_neptune  type_of_attack_nmap  \\\n",
              "0                       0                       0                    1   \n",
              "1                       0                       1                    0   \n",
              "2                       0                       0                    0   \n",
              "3                       0                       0                    0   \n",
              "4                       0                       0                    0   \n",
              "\n",
              "   type_of_attack_normal  type_of_attack_portsweep  type_of_attack_satan  \\\n",
              "0                      0                         0                     0   \n",
              "1                      0                         0                     0   \n",
              "2                      1                         0                     0   \n",
              "3                      1                         0                     0   \n",
              "4                      1                         0                     0   \n",
              "\n",
              "   type_of_attack_smurf  \n",
              "0                     0  \n",
              "1                     0  \n",
              "2                     0  \n",
              "3                     0  \n",
              "4                     0  \n",
              "\n",
              "[5 rows x 129 columns]"
            ]
          },
          "execution_count": 258,
          "metadata": {},
          "output_type": "execute_result"
        }
      ],
      "source": [
        "df_imp.head()"
      ]
    },
    {
      "cell_type": "code",
      "execution_count": 259,
      "metadata": {},
      "outputs": [
        {
          "data": {
            "application/vnd.jupyter.widget-view+json": {
              "model_id": "852af8aa3be14b6dba5f85f7e479fbef",
              "version_major": 2,
              "version_minor": 0
            },
            "text/plain": [
              "Summarize dataset:   0%|          | 0/5 [00:00<?, ?it/s]"
            ]
          },
          "metadata": {},
          "output_type": "display_data"
        },
        {
          "name": "stderr",
          "output_type": "stream",
          "text": [
            "c:\\Users\\gusti\\AppData\\Local\\Programs\\Python\\Python39\\lib\\site-packages\\ydata_profiling\\model\\pandas\\duplicates_pandas.py:37: PerformanceWarning:\n",
            "\n",
            "DataFrame is highly fragmented.  This is usually the result of calling `frame.insert` many times, which has poor performance.  Consider joining all columns at once using pd.concat(axis=1) instead. To get a de-fragmented frame, use `newframe = frame.copy()`\n",
            "\n",
            "c:\\Users\\gusti\\AppData\\Local\\Programs\\Python\\Python39\\lib\\site-packages\\ydata_profiling\\model\\pandas\\duplicates_pandas.py:37: PerformanceWarning:\n",
            "\n",
            "DataFrame is highly fragmented.  This is usually the result of calling `frame.insert` many times, which has poor performance.  Consider joining all columns at once using pd.concat(axis=1) instead. To get a de-fragmented frame, use `newframe = frame.copy()`\n",
            "\n",
            "c:\\Users\\gusti\\AppData\\Local\\Programs\\Python\\Python39\\lib\\site-packages\\ydata_profiling\\model\\pandas\\duplicates_pandas.py:37: PerformanceWarning:\n",
            "\n",
            "DataFrame is highly fragmented.  This is usually the result of calling `frame.insert` many times, which has poor performance.  Consider joining all columns at once using pd.concat(axis=1) instead. To get a de-fragmented frame, use `newframe = frame.copy()`\n",
            "\n",
            "c:\\Users\\gusti\\AppData\\Local\\Programs\\Python\\Python39\\lib\\site-packages\\ydata_profiling\\model\\pandas\\duplicates_pandas.py:37: PerformanceWarning:\n",
            "\n",
            "DataFrame is highly fragmented.  This is usually the result of calling `frame.insert` many times, which has poor performance.  Consider joining all columns at once using pd.concat(axis=1) instead. To get a de-fragmented frame, use `newframe = frame.copy()`\n",
            "\n",
            "c:\\Users\\gusti\\AppData\\Local\\Programs\\Python\\Python39\\lib\\site-packages\\ydata_profiling\\model\\pandas\\duplicates_pandas.py:37: PerformanceWarning:\n",
            "\n",
            "DataFrame is highly fragmented.  This is usually the result of calling `frame.insert` many times, which has poor performance.  Consider joining all columns at once using pd.concat(axis=1) instead. To get a de-fragmented frame, use `newframe = frame.copy()`\n",
            "\n",
            "c:\\Users\\gusti\\AppData\\Local\\Programs\\Python\\Python39\\lib\\site-packages\\ydata_profiling\\model\\pandas\\duplicates_pandas.py:37: PerformanceWarning:\n",
            "\n",
            "DataFrame is highly fragmented.  This is usually the result of calling `frame.insert` many times, which has poor performance.  Consider joining all columns at once using pd.concat(axis=1) instead. To get a de-fragmented frame, use `newframe = frame.copy()`\n",
            "\n",
            "c:\\Users\\gusti\\AppData\\Local\\Programs\\Python\\Python39\\lib\\site-packages\\ydata_profiling\\model\\pandas\\duplicates_pandas.py:37: PerformanceWarning:\n",
            "\n",
            "DataFrame is highly fragmented.  This is usually the result of calling `frame.insert` many times, which has poor performance.  Consider joining all columns at once using pd.concat(axis=1) instead. To get a de-fragmented frame, use `newframe = frame.copy()`\n",
            "\n",
            "c:\\Users\\gusti\\AppData\\Local\\Programs\\Python\\Python39\\lib\\site-packages\\ydata_profiling\\model\\pandas\\duplicates_pandas.py:37: PerformanceWarning:\n",
            "\n",
            "DataFrame is highly fragmented.  This is usually the result of calling `frame.insert` many times, which has poor performance.  Consider joining all columns at once using pd.concat(axis=1) instead. To get a de-fragmented frame, use `newframe = frame.copy()`\n",
            "\n",
            "c:\\Users\\gusti\\AppData\\Local\\Programs\\Python\\Python39\\lib\\site-packages\\ydata_profiling\\model\\pandas\\duplicates_pandas.py:37: PerformanceWarning:\n",
            "\n",
            "DataFrame is highly fragmented.  This is usually the result of calling `frame.insert` many times, which has poor performance.  Consider joining all columns at once using pd.concat(axis=1) instead. To get a de-fragmented frame, use `newframe = frame.copy()`\n",
            "\n",
            "c:\\Users\\gusti\\AppData\\Local\\Programs\\Python\\Python39\\lib\\site-packages\\ydata_profiling\\model\\pandas\\duplicates_pandas.py:37: PerformanceWarning:\n",
            "\n",
            "DataFrame is highly fragmented.  This is usually the result of calling `frame.insert` many times, which has poor performance.  Consider joining all columns at once using pd.concat(axis=1) instead. To get a de-fragmented frame, use `newframe = frame.copy()`\n",
            "\n",
            "c:\\Users\\gusti\\AppData\\Local\\Programs\\Python\\Python39\\lib\\site-packages\\ydata_profiling\\model\\pandas\\duplicates_pandas.py:37: PerformanceWarning:\n",
            "\n",
            "DataFrame is highly fragmented.  This is usually the result of calling `frame.insert` many times, which has poor performance.  Consider joining all columns at once using pd.concat(axis=1) instead. To get a de-fragmented frame, use `newframe = frame.copy()`\n",
            "\n",
            "c:\\Users\\gusti\\AppData\\Local\\Programs\\Python\\Python39\\lib\\site-packages\\ydata_profiling\\model\\pandas\\duplicates_pandas.py:37: PerformanceWarning:\n",
            "\n",
            "DataFrame is highly fragmented.  This is usually the result of calling `frame.insert` many times, which has poor performance.  Consider joining all columns at once using pd.concat(axis=1) instead. To get a de-fragmented frame, use `newframe = frame.copy()`\n",
            "\n",
            "c:\\Users\\gusti\\AppData\\Local\\Programs\\Python\\Python39\\lib\\site-packages\\ydata_profiling\\model\\pandas\\duplicates_pandas.py:37: PerformanceWarning:\n",
            "\n",
            "DataFrame is highly fragmented.  This is usually the result of calling `frame.insert` many times, which has poor performance.  Consider joining all columns at once using pd.concat(axis=1) instead. To get a de-fragmented frame, use `newframe = frame.copy()`\n",
            "\n",
            "c:\\Users\\gusti\\AppData\\Local\\Programs\\Python\\Python39\\lib\\site-packages\\ydata_profiling\\model\\pandas\\duplicates_pandas.py:37: PerformanceWarning:\n",
            "\n",
            "DataFrame is highly fragmented.  This is usually the result of calling `frame.insert` many times, which has poor performance.  Consider joining all columns at once using pd.concat(axis=1) instead. To get a de-fragmented frame, use `newframe = frame.copy()`\n",
            "\n",
            "c:\\Users\\gusti\\AppData\\Local\\Programs\\Python\\Python39\\lib\\site-packages\\ydata_profiling\\model\\pandas\\duplicates_pandas.py:37: PerformanceWarning:\n",
            "\n",
            "DataFrame is highly fragmented.  This is usually the result of calling `frame.insert` many times, which has poor performance.  Consider joining all columns at once using pd.concat(axis=1) instead. To get a de-fragmented frame, use `newframe = frame.copy()`\n",
            "\n",
            "c:\\Users\\gusti\\AppData\\Local\\Programs\\Python\\Python39\\lib\\site-packages\\ydata_profiling\\model\\pandas\\duplicates_pandas.py:37: PerformanceWarning:\n",
            "\n",
            "DataFrame is highly fragmented.  This is usually the result of calling `frame.insert` many times, which has poor performance.  Consider joining all columns at once using pd.concat(axis=1) instead. To get a de-fragmented frame, use `newframe = frame.copy()`\n",
            "\n",
            "c:\\Users\\gusti\\AppData\\Local\\Programs\\Python\\Python39\\lib\\site-packages\\ydata_profiling\\model\\pandas\\duplicates_pandas.py:37: PerformanceWarning:\n",
            "\n",
            "DataFrame is highly fragmented.  This is usually the result of calling `frame.insert` many times, which has poor performance.  Consider joining all columns at once using pd.concat(axis=1) instead. To get a de-fragmented frame, use `newframe = frame.copy()`\n",
            "\n",
            "c:\\Users\\gusti\\AppData\\Local\\Programs\\Python\\Python39\\lib\\site-packages\\ydata_profiling\\model\\pandas\\duplicates_pandas.py:37: PerformanceWarning:\n",
            "\n",
            "DataFrame is highly fragmented.  This is usually the result of calling `frame.insert` many times, which has poor performance.  Consider joining all columns at once using pd.concat(axis=1) instead. To get a de-fragmented frame, use `newframe = frame.copy()`\n",
            "\n",
            "c:\\Users\\gusti\\AppData\\Local\\Programs\\Python\\Python39\\lib\\site-packages\\ydata_profiling\\model\\pandas\\duplicates_pandas.py:37: PerformanceWarning:\n",
            "\n",
            "DataFrame is highly fragmented.  This is usually the result of calling `frame.insert` many times, which has poor performance.  Consider joining all columns at once using pd.concat(axis=1) instead. To get a de-fragmented frame, use `newframe = frame.copy()`\n",
            "\n",
            "c:\\Users\\gusti\\AppData\\Local\\Programs\\Python\\Python39\\lib\\site-packages\\ydata_profiling\\model\\pandas\\duplicates_pandas.py:37: PerformanceWarning:\n",
            "\n",
            "DataFrame is highly fragmented.  This is usually the result of calling `frame.insert` many times, which has poor performance.  Consider joining all columns at once using pd.concat(axis=1) instead. To get a de-fragmented frame, use `newframe = frame.copy()`\n",
            "\n",
            "c:\\Users\\gusti\\AppData\\Local\\Programs\\Python\\Python39\\lib\\site-packages\\ydata_profiling\\model\\pandas\\duplicates_pandas.py:37: PerformanceWarning:\n",
            "\n",
            "DataFrame is highly fragmented.  This is usually the result of calling `frame.insert` many times, which has poor performance.  Consider joining all columns at once using pd.concat(axis=1) instead. To get a de-fragmented frame, use `newframe = frame.copy()`\n",
            "\n",
            "c:\\Users\\gusti\\AppData\\Local\\Programs\\Python\\Python39\\lib\\site-packages\\ydata_profiling\\model\\pandas\\duplicates_pandas.py:37: PerformanceWarning:\n",
            "\n",
            "DataFrame is highly fragmented.  This is usually the result of calling `frame.insert` many times, which has poor performance.  Consider joining all columns at once using pd.concat(axis=1) instead. To get a de-fragmented frame, use `newframe = frame.copy()`\n",
            "\n",
            "c:\\Users\\gusti\\AppData\\Local\\Programs\\Python\\Python39\\lib\\site-packages\\ydata_profiling\\model\\pandas\\duplicates_pandas.py:37: PerformanceWarning:\n",
            "\n",
            "DataFrame is highly fragmented.  This is usually the result of calling `frame.insert` many times, which has poor performance.  Consider joining all columns at once using pd.concat(axis=1) instead. To get a de-fragmented frame, use `newframe = frame.copy()`\n",
            "\n",
            "c:\\Users\\gusti\\AppData\\Local\\Programs\\Python\\Python39\\lib\\site-packages\\ydata_profiling\\model\\pandas\\duplicates_pandas.py:37: PerformanceWarning:\n",
            "\n",
            "DataFrame is highly fragmented.  This is usually the result of calling `frame.insert` many times, which has poor performance.  Consider joining all columns at once using pd.concat(axis=1) instead. To get a de-fragmented frame, use `newframe = frame.copy()`\n",
            "\n",
            "c:\\Users\\gusti\\AppData\\Local\\Programs\\Python\\Python39\\lib\\site-packages\\ydata_profiling\\model\\pandas\\duplicates_pandas.py:37: PerformanceWarning:\n",
            "\n",
            "DataFrame is highly fragmented.  This is usually the result of calling `frame.insert` many times, which has poor performance.  Consider joining all columns at once using pd.concat(axis=1) instead. To get a de-fragmented frame, use `newframe = frame.copy()`\n",
            "\n",
            "c:\\Users\\gusti\\AppData\\Local\\Programs\\Python\\Python39\\lib\\site-packages\\ydata_profiling\\model\\pandas\\duplicates_pandas.py:37: PerformanceWarning:\n",
            "\n",
            "DataFrame is highly fragmented.  This is usually the result of calling `frame.insert` many times, which has poor performance.  Consider joining all columns at once using pd.concat(axis=1) instead. To get a de-fragmented frame, use `newframe = frame.copy()`\n",
            "\n",
            "c:\\Users\\gusti\\AppData\\Local\\Programs\\Python\\Python39\\lib\\site-packages\\ydata_profiling\\model\\pandas\\duplicates_pandas.py:37: PerformanceWarning:\n",
            "\n",
            "DataFrame is highly fragmented.  This is usually the result of calling `frame.insert` many times, which has poor performance.  Consider joining all columns at once using pd.concat(axis=1) instead. To get a de-fragmented frame, use `newframe = frame.copy()`\n",
            "\n",
            "c:\\Users\\gusti\\AppData\\Local\\Programs\\Python\\Python39\\lib\\site-packages\\ydata_profiling\\model\\pandas\\duplicates_pandas.py:37: PerformanceWarning:\n",
            "\n",
            "DataFrame is highly fragmented.  This is usually the result of calling `frame.insert` many times, which has poor performance.  Consider joining all columns at once using pd.concat(axis=1) instead. To get a de-fragmented frame, use `newframe = frame.copy()`\n",
            "\n",
            "c:\\Users\\gusti\\AppData\\Local\\Programs\\Python\\Python39\\lib\\site-packages\\ydata_profiling\\model\\pandas\\duplicates_pandas.py:37: PerformanceWarning:\n",
            "\n",
            "DataFrame is highly fragmented.  This is usually the result of calling `frame.insert` many times, which has poor performance.  Consider joining all columns at once using pd.concat(axis=1) instead. To get a de-fragmented frame, use `newframe = frame.copy()`\n",
            "\n",
            "c:\\Users\\gusti\\AppData\\Local\\Programs\\Python\\Python39\\lib\\site-packages\\ydata_profiling\\model\\pandas\\duplicates_pandas.py:37: PerformanceWarning:\n",
            "\n",
            "DataFrame is highly fragmented.  This is usually the result of calling `frame.insert` many times, which has poor performance.  Consider joining all columns at once using pd.concat(axis=1) instead. To get a de-fragmented frame, use `newframe = frame.copy()`\n",
            "\n"
          ]
        },
        {
          "data": {
            "text/html": [
              "<div>\n",
              "<style scoped>\n",
              "    .dataframe tbody tr th:only-of-type {\n",
              "        vertical-align: middle;\n",
              "    }\n",
              "\n",
              "    .dataframe tbody tr th {\n",
              "        vertical-align: top;\n",
              "    }\n",
              "\n",
              "    .dataframe thead th {\n",
              "        text-align: right;\n",
              "    }\n",
              "</style>\n",
              "<table border=\"1\" class=\"dataframe\">\n",
              "  <thead>\n",
              "    <tr style=\"text-align: right;\">\n",
              "      <th></th>\n",
              "      <th>duration</th>\n",
              "      <th>src_bytes</th>\n",
              "      <th>dst_bytes</th>\n",
              "      <th>wrong_fragment</th>\n",
              "      <th>urgent</th>\n",
              "      <th>hot</th>\n",
              "      <th>num_failed_logins</th>\n",
              "      <th>num_compromised</th>\n",
              "      <th>num_root</th>\n",
              "      <th>num_file_creations</th>\n",
              "      <th>...</th>\n",
              "      <th>flag_SH</th>\n",
              "      <th>type_of_attack_Denial of Service Attack</th>\n",
              "      <th>type_of_attack_ipsweep</th>\n",
              "      <th>type_of_attack_neptune</th>\n",
              "      <th>type_of_attack_nmap</th>\n",
              "      <th>type_of_attack_normal</th>\n",
              "      <th>type_of_attack_portsweep</th>\n",
              "      <th>type_of_attack_satan</th>\n",
              "      <th>type_of_attack_smurf</th>\n",
              "      <th># duplicates</th>\n",
              "    </tr>\n",
              "  </thead>\n",
              "  <tbody>\n",
              "    <tr>\n",
              "      <th>25</th>\n",
              "      <td>0</td>\n",
              "      <td>0</td>\n",
              "      <td>0</td>\n",
              "      <td>0</td>\n",
              "      <td>0</td>\n",
              "      <td>0</td>\n",
              "      <td>0</td>\n",
              "      <td>0</td>\n",
              "      <td>0</td>\n",
              "      <td>0</td>\n",
              "      <td>...</td>\n",
              "      <td>0</td>\n",
              "      <td>0</td>\n",
              "      <td>0</td>\n",
              "      <td>0</td>\n",
              "      <td>0</td>\n",
              "      <td>1</td>\n",
              "      <td>0</td>\n",
              "      <td>0</td>\n",
              "      <td>0</td>\n",
              "      <td>32</td>\n",
              "    </tr>\n",
              "    <tr>\n",
              "      <th>10</th>\n",
              "      <td>0</td>\n",
              "      <td>0</td>\n",
              "      <td>0</td>\n",
              "      <td>0</td>\n",
              "      <td>0</td>\n",
              "      <td>0</td>\n",
              "      <td>0</td>\n",
              "      <td>0</td>\n",
              "      <td>0</td>\n",
              "      <td>0</td>\n",
              "      <td>...</td>\n",
              "      <td>0</td>\n",
              "      <td>0</td>\n",
              "      <td>0</td>\n",
              "      <td>0</td>\n",
              "      <td>0</td>\n",
              "      <td>1</td>\n",
              "      <td>0</td>\n",
              "      <td>0</td>\n",
              "      <td>0</td>\n",
              "      <td>29</td>\n",
              "    </tr>\n",
              "    <tr>\n",
              "      <th>65</th>\n",
              "      <td>0</td>\n",
              "      <td>0</td>\n",
              "      <td>0</td>\n",
              "      <td>0</td>\n",
              "      <td>0</td>\n",
              "      <td>0</td>\n",
              "      <td>0</td>\n",
              "      <td>0</td>\n",
              "      <td>0</td>\n",
              "      <td>0</td>\n",
              "      <td>...</td>\n",
              "      <td>0</td>\n",
              "      <td>0</td>\n",
              "      <td>0</td>\n",
              "      <td>0</td>\n",
              "      <td>0</td>\n",
              "      <td>1</td>\n",
              "      <td>0</td>\n",
              "      <td>0</td>\n",
              "      <td>0</td>\n",
              "      <td>20</td>\n",
              "    </tr>\n",
              "    <tr>\n",
              "      <th>44</th>\n",
              "      <td>0</td>\n",
              "      <td>0</td>\n",
              "      <td>0</td>\n",
              "      <td>0</td>\n",
              "      <td>0</td>\n",
              "      <td>0</td>\n",
              "      <td>0</td>\n",
              "      <td>0</td>\n",
              "      <td>0</td>\n",
              "      <td>0</td>\n",
              "      <td>...</td>\n",
              "      <td>0</td>\n",
              "      <td>0</td>\n",
              "      <td>0</td>\n",
              "      <td>0</td>\n",
              "      <td>0</td>\n",
              "      <td>1</td>\n",
              "      <td>0</td>\n",
              "      <td>0</td>\n",
              "      <td>0</td>\n",
              "      <td>17</td>\n",
              "    </tr>\n",
              "    <tr>\n",
              "      <th>35</th>\n",
              "      <td>0</td>\n",
              "      <td>0</td>\n",
              "      <td>0</td>\n",
              "      <td>0</td>\n",
              "      <td>0</td>\n",
              "      <td>0</td>\n",
              "      <td>0</td>\n",
              "      <td>0</td>\n",
              "      <td>0</td>\n",
              "      <td>0</td>\n",
              "      <td>...</td>\n",
              "      <td>0</td>\n",
              "      <td>0</td>\n",
              "      <td>0</td>\n",
              "      <td>0</td>\n",
              "      <td>0</td>\n",
              "      <td>1</td>\n",
              "      <td>0</td>\n",
              "      <td>0</td>\n",
              "      <td>0</td>\n",
              "      <td>14</td>\n",
              "    </tr>\n",
              "    <tr>\n",
              "      <th>60</th>\n",
              "      <td>0</td>\n",
              "      <td>0</td>\n",
              "      <td>0</td>\n",
              "      <td>0</td>\n",
              "      <td>0</td>\n",
              "      <td>0</td>\n",
              "      <td>0</td>\n",
              "      <td>0</td>\n",
              "      <td>0</td>\n",
              "      <td>0</td>\n",
              "      <td>...</td>\n",
              "      <td>0</td>\n",
              "      <td>0</td>\n",
              "      <td>0</td>\n",
              "      <td>0</td>\n",
              "      <td>0</td>\n",
              "      <td>1</td>\n",
              "      <td>0</td>\n",
              "      <td>0</td>\n",
              "      <td>0</td>\n",
              "      <td>14</td>\n",
              "    </tr>\n",
              "    <tr>\n",
              "      <th>56</th>\n",
              "      <td>0</td>\n",
              "      <td>0</td>\n",
              "      <td>0</td>\n",
              "      <td>0</td>\n",
              "      <td>0</td>\n",
              "      <td>0</td>\n",
              "      <td>0</td>\n",
              "      <td>0</td>\n",
              "      <td>0</td>\n",
              "      <td>0</td>\n",
              "      <td>...</td>\n",
              "      <td>0</td>\n",
              "      <td>0</td>\n",
              "      <td>0</td>\n",
              "      <td>0</td>\n",
              "      <td>0</td>\n",
              "      <td>1</td>\n",
              "      <td>0</td>\n",
              "      <td>0</td>\n",
              "      <td>0</td>\n",
              "      <td>13</td>\n",
              "    </tr>\n",
              "    <tr>\n",
              "      <th>260</th>\n",
              "      <td>0</td>\n",
              "      <td>0</td>\n",
              "      <td>0</td>\n",
              "      <td>0</td>\n",
              "      <td>0</td>\n",
              "      <td>0</td>\n",
              "      <td>0</td>\n",
              "      <td>0</td>\n",
              "      <td>0</td>\n",
              "      <td>0</td>\n",
              "      <td>...</td>\n",
              "      <td>0</td>\n",
              "      <td>0</td>\n",
              "      <td>0</td>\n",
              "      <td>0</td>\n",
              "      <td>0</td>\n",
              "      <td>1</td>\n",
              "      <td>0</td>\n",
              "      <td>0</td>\n",
              "      <td>0</td>\n",
              "      <td>13</td>\n",
              "    </tr>\n",
              "    <tr>\n",
              "      <th>70</th>\n",
              "      <td>0</td>\n",
              "      <td>0</td>\n",
              "      <td>0</td>\n",
              "      <td>0</td>\n",
              "      <td>0</td>\n",
              "      <td>0</td>\n",
              "      <td>0</td>\n",
              "      <td>0</td>\n",
              "      <td>0</td>\n",
              "      <td>0</td>\n",
              "      <td>...</td>\n",
              "      <td>0</td>\n",
              "      <td>0</td>\n",
              "      <td>0</td>\n",
              "      <td>0</td>\n",
              "      <td>0</td>\n",
              "      <td>1</td>\n",
              "      <td>0</td>\n",
              "      <td>0</td>\n",
              "      <td>0</td>\n",
              "      <td>12</td>\n",
              "    </tr>\n",
              "    <tr>\n",
              "      <th>262</th>\n",
              "      <td>0</td>\n",
              "      <td>0</td>\n",
              "      <td>0</td>\n",
              "      <td>0</td>\n",
              "      <td>0</td>\n",
              "      <td>0</td>\n",
              "      <td>0</td>\n",
              "      <td>0</td>\n",
              "      <td>0</td>\n",
              "      <td>0</td>\n",
              "      <td>...</td>\n",
              "      <td>0</td>\n",
              "      <td>0</td>\n",
              "      <td>0</td>\n",
              "      <td>0</td>\n",
              "      <td>0</td>\n",
              "      <td>1</td>\n",
              "      <td>0</td>\n",
              "      <td>0</td>\n",
              "      <td>0</td>\n",
              "      <td>11</td>\n",
              "    </tr>\n",
              "  </tbody>\n",
              "</table>\n",
              "<p>10 rows × 130 columns</p>\n",
              "</div>"
            ],
            "text/plain": [
              "     duration  src_bytes  dst_bytes  wrong_fragment  urgent  hot  \\\n",
              "25          0          0          0               0       0    0   \n",
              "10          0          0          0               0       0    0   \n",
              "65          0          0          0               0       0    0   \n",
              "44          0          0          0               0       0    0   \n",
              "35          0          0          0               0       0    0   \n",
              "60          0          0          0               0       0    0   \n",
              "56          0          0          0               0       0    0   \n",
              "260         0          0          0               0       0    0   \n",
              "70          0          0          0               0       0    0   \n",
              "262         0          0          0               0       0    0   \n",
              "\n",
              "     num_failed_logins  num_compromised  num_root  num_file_creations  ...  \\\n",
              "25                   0                0         0                   0  ...   \n",
              "10                   0                0         0                   0  ...   \n",
              "65                   0                0         0                   0  ...   \n",
              "44                   0                0         0                   0  ...   \n",
              "35                   0                0         0                   0  ...   \n",
              "60                   0                0         0                   0  ...   \n",
              "56                   0                0         0                   0  ...   \n",
              "260                  0                0         0                   0  ...   \n",
              "70                   0                0         0                   0  ...   \n",
              "262                  0                0         0                   0  ...   \n",
              "\n",
              "     flag_SH  type_of_attack_Denial of Service Attack  type_of_attack_ipsweep  \\\n",
              "25         0                                        0                       0   \n",
              "10         0                                        0                       0   \n",
              "65         0                                        0                       0   \n",
              "44         0                                        0                       0   \n",
              "35         0                                        0                       0   \n",
              "60         0                                        0                       0   \n",
              "56         0                                        0                       0   \n",
              "260        0                                        0                       0   \n",
              "70         0                                        0                       0   \n",
              "262        0                                        0                       0   \n",
              "\n",
              "     type_of_attack_neptune  type_of_attack_nmap  type_of_attack_normal  \\\n",
              "25                        0                    0                      1   \n",
              "10                        0                    0                      1   \n",
              "65                        0                    0                      1   \n",
              "44                        0                    0                      1   \n",
              "35                        0                    0                      1   \n",
              "60                        0                    0                      1   \n",
              "56                        0                    0                      1   \n",
              "260                       0                    0                      1   \n",
              "70                        0                    0                      1   \n",
              "262                       0                    0                      1   \n",
              "\n",
              "     type_of_attack_portsweep  type_of_attack_satan  type_of_attack_smurf  \\\n",
              "25                          0                     0                     0   \n",
              "10                          0                     0                     0   \n",
              "65                          0                     0                     0   \n",
              "44                          0                     0                     0   \n",
              "35                          0                     0                     0   \n",
              "60                          0                     0                     0   \n",
              "56                          0                     0                     0   \n",
              "260                         0                     0                     0   \n",
              "70                          0                     0                     0   \n",
              "262                         0                     0                     0   \n",
              "\n",
              "     # duplicates  \n",
              "25             32  \n",
              "10             29  \n",
              "65             20  \n",
              "44             17  \n",
              "35             14  \n",
              "60             14  \n",
              "56             13  \n",
              "260            13  \n",
              "70             12  \n",
              "262            11  \n",
              "\n",
              "[10 rows x 130 columns]"
            ]
          },
          "execution_count": 259,
          "metadata": {},
          "output_type": "execute_result"
        }
      ],
      "source": [
        "ProfileReport(df_imp).get_duplicates()"
      ]
    },
    {
      "cell_type": "code",
      "execution_count": 260,
      "metadata": {},
      "outputs": [
        {
          "data": {
            "text/html": [
              "<div>\n",
              "<style scoped>\n",
              "    .dataframe tbody tr th:only-of-type {\n",
              "        vertical-align: middle;\n",
              "    }\n",
              "\n",
              "    .dataframe tbody tr th {\n",
              "        vertical-align: top;\n",
              "    }\n",
              "\n",
              "    .dataframe thead th {\n",
              "        text-align: right;\n",
              "    }\n",
              "</style>\n",
              "<table border=\"1\" class=\"dataframe\">\n",
              "  <thead>\n",
              "    <tr style=\"text-align: right;\">\n",
              "      <th></th>\n",
              "      <th>duration</th>\n",
              "      <th>src_bytes</th>\n",
              "      <th>dst_bytes</th>\n",
              "      <th>wrong_fragment</th>\n",
              "      <th>urgent</th>\n",
              "      <th>hot</th>\n",
              "      <th>num_failed_logins</th>\n",
              "      <th>num_compromised</th>\n",
              "      <th>num_root</th>\n",
              "      <th>num_file_creations</th>\n",
              "      <th>...</th>\n",
              "      <th>flag_SF</th>\n",
              "      <th>flag_SH</th>\n",
              "      <th>type_of_attack_Denial of Service Attack</th>\n",
              "      <th>type_of_attack_ipsweep</th>\n",
              "      <th>type_of_attack_neptune</th>\n",
              "      <th>type_of_attack_nmap</th>\n",
              "      <th>type_of_attack_normal</th>\n",
              "      <th>type_of_attack_portsweep</th>\n",
              "      <th>type_of_attack_satan</th>\n",
              "      <th>type_of_attack_smurf</th>\n",
              "    </tr>\n",
              "  </thead>\n",
              "  <tbody>\n",
              "    <tr>\n",
              "      <th>0</th>\n",
              "      <td>0</td>\n",
              "      <td>0</td>\n",
              "      <td>0</td>\n",
              "      <td>0</td>\n",
              "      <td>0</td>\n",
              "      <td>0</td>\n",
              "      <td>0</td>\n",
              "      <td>0</td>\n",
              "      <td>0</td>\n",
              "      <td>0</td>\n",
              "      <td>...</td>\n",
              "      <td>0</td>\n",
              "      <td>1</td>\n",
              "      <td>0</td>\n",
              "      <td>0</td>\n",
              "      <td>0</td>\n",
              "      <td>1</td>\n",
              "      <td>0</td>\n",
              "      <td>0</td>\n",
              "      <td>0</td>\n",
              "      <td>0</td>\n",
              "    </tr>\n",
              "    <tr>\n",
              "      <th>1</th>\n",
              "      <td>0</td>\n",
              "      <td>0</td>\n",
              "      <td>0</td>\n",
              "      <td>0</td>\n",
              "      <td>0</td>\n",
              "      <td>0</td>\n",
              "      <td>0</td>\n",
              "      <td>0</td>\n",
              "      <td>0</td>\n",
              "      <td>0</td>\n",
              "      <td>...</td>\n",
              "      <td>0</td>\n",
              "      <td>0</td>\n",
              "      <td>0</td>\n",
              "      <td>0</td>\n",
              "      <td>1</td>\n",
              "      <td>0</td>\n",
              "      <td>0</td>\n",
              "      <td>0</td>\n",
              "      <td>0</td>\n",
              "      <td>0</td>\n",
              "    </tr>\n",
              "    <tr>\n",
              "      <th>2</th>\n",
              "      <td>0</td>\n",
              "      <td>285</td>\n",
              "      <td>3623</td>\n",
              "      <td>0</td>\n",
              "      <td>0</td>\n",
              "      <td>0</td>\n",
              "      <td>0</td>\n",
              "      <td>0</td>\n",
              "      <td>0</td>\n",
              "      <td>0</td>\n",
              "      <td>...</td>\n",
              "      <td>1</td>\n",
              "      <td>0</td>\n",
              "      <td>0</td>\n",
              "      <td>0</td>\n",
              "      <td>0</td>\n",
              "      <td>0</td>\n",
              "      <td>1</td>\n",
              "      <td>0</td>\n",
              "      <td>0</td>\n",
              "      <td>0</td>\n",
              "    </tr>\n",
              "    <tr>\n",
              "      <th>3</th>\n",
              "      <td>0</td>\n",
              "      <td>232</td>\n",
              "      <td>584</td>\n",
              "      <td>0</td>\n",
              "      <td>0</td>\n",
              "      <td>0</td>\n",
              "      <td>0</td>\n",
              "      <td>0</td>\n",
              "      <td>0</td>\n",
              "      <td>0</td>\n",
              "      <td>...</td>\n",
              "      <td>1</td>\n",
              "      <td>0</td>\n",
              "      <td>0</td>\n",
              "      <td>0</td>\n",
              "      <td>0</td>\n",
              "      <td>0</td>\n",
              "      <td>1</td>\n",
              "      <td>0</td>\n",
              "      <td>0</td>\n",
              "      <td>0</td>\n",
              "    </tr>\n",
              "    <tr>\n",
              "      <th>4</th>\n",
              "      <td>1</td>\n",
              "      <td>1080</td>\n",
              "      <td>327</td>\n",
              "      <td>0</td>\n",
              "      <td>0</td>\n",
              "      <td>0</td>\n",
              "      <td>0</td>\n",
              "      <td>0</td>\n",
              "      <td>0</td>\n",
              "      <td>0</td>\n",
              "      <td>...</td>\n",
              "      <td>1</td>\n",
              "      <td>0</td>\n",
              "      <td>0</td>\n",
              "      <td>0</td>\n",
              "      <td>0</td>\n",
              "      <td>0</td>\n",
              "      <td>1</td>\n",
              "      <td>0</td>\n",
              "      <td>0</td>\n",
              "      <td>0</td>\n",
              "    </tr>\n",
              "    <tr>\n",
              "      <th>...</th>\n",
              "      <td>...</td>\n",
              "      <td>...</td>\n",
              "      <td>...</td>\n",
              "      <td>...</td>\n",
              "      <td>...</td>\n",
              "      <td>...</td>\n",
              "      <td>...</td>\n",
              "      <td>...</td>\n",
              "      <td>...</td>\n",
              "      <td>...</td>\n",
              "      <td>...</td>\n",
              "      <td>...</td>\n",
              "      <td>...</td>\n",
              "      <td>...</td>\n",
              "      <td>...</td>\n",
              "      <td>...</td>\n",
              "      <td>...</td>\n",
              "      <td>...</td>\n",
              "      <td>...</td>\n",
              "      <td>...</td>\n",
              "      <td>...</td>\n",
              "    </tr>\n",
              "    <tr>\n",
              "      <th>112440</th>\n",
              "      <td>5</td>\n",
              "      <td>1377</td>\n",
              "      <td>328</td>\n",
              "      <td>0</td>\n",
              "      <td>0</td>\n",
              "      <td>0</td>\n",
              "      <td>0</td>\n",
              "      <td>0</td>\n",
              "      <td>0</td>\n",
              "      <td>0</td>\n",
              "      <td>...</td>\n",
              "      <td>1</td>\n",
              "      <td>0</td>\n",
              "      <td>0</td>\n",
              "      <td>0</td>\n",
              "      <td>0</td>\n",
              "      <td>0</td>\n",
              "      <td>1</td>\n",
              "      <td>0</td>\n",
              "      <td>0</td>\n",
              "      <td>0</td>\n",
              "    </tr>\n",
              "    <tr>\n",
              "      <th>112442</th>\n",
              "      <td>0</td>\n",
              "      <td>309</td>\n",
              "      <td>758</td>\n",
              "      <td>0</td>\n",
              "      <td>0</td>\n",
              "      <td>0</td>\n",
              "      <td>0</td>\n",
              "      <td>0</td>\n",
              "      <td>0</td>\n",
              "      <td>0</td>\n",
              "      <td>...</td>\n",
              "      <td>1</td>\n",
              "      <td>0</td>\n",
              "      <td>0</td>\n",
              "      <td>0</td>\n",
              "      <td>0</td>\n",
              "      <td>0</td>\n",
              "      <td>1</td>\n",
              "      <td>0</td>\n",
              "      <td>0</td>\n",
              "      <td>0</td>\n",
              "    </tr>\n",
              "    <tr>\n",
              "      <th>112443</th>\n",
              "      <td>0</td>\n",
              "      <td>363</td>\n",
              "      <td>721</td>\n",
              "      <td>0</td>\n",
              "      <td>0</td>\n",
              "      <td>0</td>\n",
              "      <td>0</td>\n",
              "      <td>0</td>\n",
              "      <td>0</td>\n",
              "      <td>0</td>\n",
              "      <td>...</td>\n",
              "      <td>1</td>\n",
              "      <td>0</td>\n",
              "      <td>0</td>\n",
              "      <td>0</td>\n",
              "      <td>0</td>\n",
              "      <td>0</td>\n",
              "      <td>1</td>\n",
              "      <td>0</td>\n",
              "      <td>0</td>\n",
              "      <td>0</td>\n",
              "    </tr>\n",
              "    <tr>\n",
              "      <th>112444</th>\n",
              "      <td>0</td>\n",
              "      <td>0</td>\n",
              "      <td>0</td>\n",
              "      <td>0</td>\n",
              "      <td>0</td>\n",
              "      <td>0</td>\n",
              "      <td>0</td>\n",
              "      <td>0</td>\n",
              "      <td>0</td>\n",
              "      <td>0</td>\n",
              "      <td>...</td>\n",
              "      <td>0</td>\n",
              "      <td>0</td>\n",
              "      <td>0</td>\n",
              "      <td>0</td>\n",
              "      <td>1</td>\n",
              "      <td>0</td>\n",
              "      <td>0</td>\n",
              "      <td>0</td>\n",
              "      <td>0</td>\n",
              "      <td>0</td>\n",
              "    </tr>\n",
              "    <tr>\n",
              "      <th>112445</th>\n",
              "      <td>0</td>\n",
              "      <td>233</td>\n",
              "      <td>2538</td>\n",
              "      <td>0</td>\n",
              "      <td>0</td>\n",
              "      <td>0</td>\n",
              "      <td>0</td>\n",
              "      <td>0</td>\n",
              "      <td>0</td>\n",
              "      <td>0</td>\n",
              "      <td>...</td>\n",
              "      <td>1</td>\n",
              "      <td>0</td>\n",
              "      <td>0</td>\n",
              "      <td>0</td>\n",
              "      <td>0</td>\n",
              "      <td>0</td>\n",
              "      <td>1</td>\n",
              "      <td>0</td>\n",
              "      <td>0</td>\n",
              "      <td>0</td>\n",
              "    </tr>\n",
              "  </tbody>\n",
              "</table>\n",
              "<p>107159 rows × 129 columns</p>\n",
              "</div>"
            ],
            "text/plain": [
              "        duration  src_bytes  dst_bytes  wrong_fragment  urgent  hot  \\\n",
              "0              0          0          0               0       0    0   \n",
              "1              0          0          0               0       0    0   \n",
              "2              0        285       3623               0       0    0   \n",
              "3              0        232        584               0       0    0   \n",
              "4              1       1080        327               0       0    0   \n",
              "...          ...        ...        ...             ...     ...  ...   \n",
              "112440         5       1377        328               0       0    0   \n",
              "112442         0        309        758               0       0    0   \n",
              "112443         0        363        721               0       0    0   \n",
              "112444         0          0          0               0       0    0   \n",
              "112445         0        233       2538               0       0    0   \n",
              "\n",
              "        num_failed_logins  num_compromised  num_root  num_file_creations  ...  \\\n",
              "0                       0                0         0                   0  ...   \n",
              "1                       0                0         0                   0  ...   \n",
              "2                       0                0         0                   0  ...   \n",
              "3                       0                0         0                   0  ...   \n",
              "4                       0                0         0                   0  ...   \n",
              "...                   ...              ...       ...                 ...  ...   \n",
              "112440                  0                0         0                   0  ...   \n",
              "112442                  0                0         0                   0  ...   \n",
              "112443                  0                0         0                   0  ...   \n",
              "112444                  0                0         0                   0  ...   \n",
              "112445                  0                0         0                   0  ...   \n",
              "\n",
              "        flag_SF  flag_SH  type_of_attack_Denial of Service Attack  \\\n",
              "0             0        1                                        0   \n",
              "1             0        0                                        0   \n",
              "2             1        0                                        0   \n",
              "3             1        0                                        0   \n",
              "4             1        0                                        0   \n",
              "...         ...      ...                                      ...   \n",
              "112440        1        0                                        0   \n",
              "112442        1        0                                        0   \n",
              "112443        1        0                                        0   \n",
              "112444        0        0                                        0   \n",
              "112445        1        0                                        0   \n",
              "\n",
              "        type_of_attack_ipsweep  type_of_attack_neptune  type_of_attack_nmap  \\\n",
              "0                            0                       0                    1   \n",
              "1                            0                       1                    0   \n",
              "2                            0                       0                    0   \n",
              "3                            0                       0                    0   \n",
              "4                            0                       0                    0   \n",
              "...                        ...                     ...                  ...   \n",
              "112440                       0                       0                    0   \n",
              "112442                       0                       0                    0   \n",
              "112443                       0                       0                    0   \n",
              "112444                       0                       1                    0   \n",
              "112445                       0                       0                    0   \n",
              "\n",
              "        type_of_attack_normal  type_of_attack_portsweep  type_of_attack_satan  \\\n",
              "0                           0                         0                     0   \n",
              "1                           0                         0                     0   \n",
              "2                           1                         0                     0   \n",
              "3                           1                         0                     0   \n",
              "4                           1                         0                     0   \n",
              "...                       ...                       ...                   ...   \n",
              "112440                      1                         0                     0   \n",
              "112442                      1                         0                     0   \n",
              "112443                      1                         0                     0   \n",
              "112444                      0                         0                     0   \n",
              "112445                      1                         0                     0   \n",
              "\n",
              "        type_of_attack_smurf  \n",
              "0                          0  \n",
              "1                          0  \n",
              "2                          0  \n",
              "3                          0  \n",
              "4                          0  \n",
              "...                      ...  \n",
              "112440                     0  \n",
              "112442                     0  \n",
              "112443                     0  \n",
              "112444                     0  \n",
              "112445                     0  \n",
              "\n",
              "[107159 rows x 129 columns]"
            ]
          },
          "execution_count": 260,
          "metadata": {},
          "output_type": "execute_result"
        }
      ],
      "source": [
        "df_imp.drop_duplicates(inplace=True)\n",
        "df_imp"
      ]
    },
    {
      "cell_type": "markdown",
      "metadata": {},
      "source": [
        "## 1.6 Save Cleaned Data in CSV"
      ]
    },
    {
      "cell_type": "code",
      "execution_count": null,
      "metadata": {},
      "outputs": [],
      "source": [
        "# save data df_imp to csv\n",
        "df_imp.to_csv('D:\\DAC-2023\\Dataset\\df_imp_toa.csv', index=False)"
      ]
    },
    {
      "cell_type": "code",
      "execution_count": null,
      "metadata": {},
      "outputs": [],
      "source": [
        "# save data df_imp to csv\n",
        "df_imp.to_csv('D:\\DAC-2023\\Dataset\\df_imp2.csv', index=False)"
      ]
    },
    {
      "cell_type": "markdown",
      "metadata": {},
      "source": [
        "## 1.7 SMOOTEENN Method data df_imp"
      ]
    },
    {
      "cell_type": "code",
      "execution_count": 261,
      "metadata": {},
      "outputs": [],
      "source": [
        "df_imp_cat = df_imp.copy()"
      ]
    },
    {
      "cell_type": "code",
      "execution_count": 262,
      "metadata": {},
      "outputs": [
        {
          "ename": "KeyError",
          "evalue": "'type_of_attack'",
          "output_type": "error",
          "traceback": [
            "\u001b[1;31m---------------------------------------------------------------------------\u001b[0m",
            "\u001b[1;31mKeyError\u001b[0m                                  Traceback (most recent call last)",
            "File \u001b[1;32mc:\\Users\\gusti\\AppData\\Local\\Programs\\Python\\Python39\\lib\\site-packages\\pandas\\core\\indexes\\base.py:3653\u001b[0m, in \u001b[0;36mIndex.get_loc\u001b[1;34m(self, key)\u001b[0m\n\u001b[0;32m   3652\u001b[0m \u001b[39mtry\u001b[39;00m:\n\u001b[1;32m-> 3653\u001b[0m     \u001b[39mreturn\u001b[39;00m \u001b[39mself\u001b[39;49m\u001b[39m.\u001b[39;49m_engine\u001b[39m.\u001b[39;49mget_loc(casted_key)\n\u001b[0;32m   3654\u001b[0m \u001b[39mexcept\u001b[39;00m \u001b[39mKeyError\u001b[39;00m \u001b[39mas\u001b[39;00m err:\n",
            "File \u001b[1;32mc:\\Users\\gusti\\AppData\\Local\\Programs\\Python\\Python39\\lib\\site-packages\\pandas\\_libs\\index.pyx:147\u001b[0m, in \u001b[0;36mpandas._libs.index.IndexEngine.get_loc\u001b[1;34m()\u001b[0m\n",
            "File \u001b[1;32mc:\\Users\\gusti\\AppData\\Local\\Programs\\Python\\Python39\\lib\\site-packages\\pandas\\_libs\\index.pyx:176\u001b[0m, in \u001b[0;36mpandas._libs.index.IndexEngine.get_loc\u001b[1;34m()\u001b[0m\n",
            "File \u001b[1;32mpandas\\_libs\\hashtable_class_helper.pxi:7080\u001b[0m, in \u001b[0;36mpandas._libs.hashtable.PyObjectHashTable.get_item\u001b[1;34m()\u001b[0m\n",
            "File \u001b[1;32mpandas\\_libs\\hashtable_class_helper.pxi:7088\u001b[0m, in \u001b[0;36mpandas._libs.hashtable.PyObjectHashTable.get_item\u001b[1;34m()\u001b[0m\n",
            "\u001b[1;31mKeyError\u001b[0m: 'type_of_attack'",
            "\nThe above exception was the direct cause of the following exception:\n",
            "\u001b[1;31mKeyError\u001b[0m                                  Traceback (most recent call last)",
            "\u001b[1;32md:\\DAC-2023\\DAC_2023_Development_2.0.ipynb Cell 91\u001b[0m line \u001b[0;36m2\n\u001b[0;32m      <a href='vscode-notebook-cell:/d%3A/DAC-2023/DAC_2023_Development_2.0.ipynb#Y462sZmlsZQ%3D%3D?line=0'>1</a>\u001b[0m \u001b[39m# percentage based on 'type_of_attack' in df\u001b[39;00m\n\u001b[1;32m----> <a href='vscode-notebook-cell:/d%3A/DAC-2023/DAC_2023_Development_2.0.ipynb#Y462sZmlsZQ%3D%3D?line=1'>2</a>\u001b[0m df_imp_cat[\u001b[39m'\u001b[39;49m\u001b[39mtype_of_attack\u001b[39;49m\u001b[39m'\u001b[39;49m]\u001b[39m.\u001b[39mvalue_counts(normalize\u001b[39m=\u001b[39m\u001b[39mTrue\u001b[39;00m) \u001b[39m*\u001b[39m \u001b[39m100\u001b[39m\n",
            "File \u001b[1;32mc:\\Users\\gusti\\AppData\\Local\\Programs\\Python\\Python39\\lib\\site-packages\\pandas\\core\\frame.py:3761\u001b[0m, in \u001b[0;36mDataFrame.__getitem__\u001b[1;34m(self, key)\u001b[0m\n\u001b[0;32m   3759\u001b[0m \u001b[39mif\u001b[39;00m \u001b[39mself\u001b[39m\u001b[39m.\u001b[39mcolumns\u001b[39m.\u001b[39mnlevels \u001b[39m>\u001b[39m \u001b[39m1\u001b[39m:\n\u001b[0;32m   3760\u001b[0m     \u001b[39mreturn\u001b[39;00m \u001b[39mself\u001b[39m\u001b[39m.\u001b[39m_getitem_multilevel(key)\n\u001b[1;32m-> 3761\u001b[0m indexer \u001b[39m=\u001b[39m \u001b[39mself\u001b[39;49m\u001b[39m.\u001b[39;49mcolumns\u001b[39m.\u001b[39;49mget_loc(key)\n\u001b[0;32m   3762\u001b[0m \u001b[39mif\u001b[39;00m is_integer(indexer):\n\u001b[0;32m   3763\u001b[0m     indexer \u001b[39m=\u001b[39m [indexer]\n",
            "File \u001b[1;32mc:\\Users\\gusti\\AppData\\Local\\Programs\\Python\\Python39\\lib\\site-packages\\pandas\\core\\indexes\\base.py:3655\u001b[0m, in \u001b[0;36mIndex.get_loc\u001b[1;34m(self, key)\u001b[0m\n\u001b[0;32m   3653\u001b[0m     \u001b[39mreturn\u001b[39;00m \u001b[39mself\u001b[39m\u001b[39m.\u001b[39m_engine\u001b[39m.\u001b[39mget_loc(casted_key)\n\u001b[0;32m   3654\u001b[0m \u001b[39mexcept\u001b[39;00m \u001b[39mKeyError\u001b[39;00m \u001b[39mas\u001b[39;00m err:\n\u001b[1;32m-> 3655\u001b[0m     \u001b[39mraise\u001b[39;00m \u001b[39mKeyError\u001b[39;00m(key) \u001b[39mfrom\u001b[39;00m \u001b[39merr\u001b[39;00m\n\u001b[0;32m   3656\u001b[0m \u001b[39mexcept\u001b[39;00m \u001b[39mTypeError\u001b[39;00m:\n\u001b[0;32m   3657\u001b[0m     \u001b[39m# If we have a listlike key, _check_indexing_error will raise\u001b[39;00m\n\u001b[0;32m   3658\u001b[0m     \u001b[39m#  InvalidIndexError. Otherwise we fall through and re-raise\u001b[39;00m\n\u001b[0;32m   3659\u001b[0m     \u001b[39m#  the TypeError.\u001b[39;00m\n\u001b[0;32m   3660\u001b[0m     \u001b[39mself\u001b[39m\u001b[39m.\u001b[39m_check_indexing_error(key)\n",
            "\u001b[1;31mKeyError\u001b[0m: 'type_of_attack'"
          ]
        }
      ],
      "source": [
        "# percentage based on 'type_of_attack' in df\n",
        "df_imp_cat['type_of_attack'].value_counts(normalize=True) * 100"
      ]
    },
    {
      "cell_type": "code",
      "execution_count": 190,
      "metadata": {},
      "outputs": [],
      "source": [
        "# Menghitung jumlah baris dengan type_of_attack 'normal'\n",
        "normal_count = (df_imp_cat['type_of_attack'] == 'normal').sum()\n",
        "\n",
        "# Menghitung jumlah baris dengan type_of_attack lainnya (attack)\n",
        "attack_count = (df_imp_cat['type_of_attack'] != 'normal').sum()"
      ]
    },
    {
      "cell_type": "code",
      "execution_count": 191,
      "metadata": {},
      "outputs": [
        {
          "data": {
            "application/vnd.plotly.v1+json": {
              "config": {
                "plotlyServerURL": "https://plot.ly"
              },
              "data": [
                {
                  "branchvalues": "total",
                  "domain": {
                    "x": [
                      0,
                      1
                    ],
                    "y": [
                      0,
                      1
                    ]
                  },
                  "hovertemplate": "labels=%{label}<br>count=%{value}<br>parent=%{parent}<br>id=%{id}<extra></extra>",
                  "ids": [
                    "attack",
                    "normal"
                  ],
                  "labels": [
                    "attack",
                    "normal"
                  ],
                  "name": "",
                  "parents": [
                    "",
                    ""
                  ],
                  "textinfo": "value+percent parent",
                  "type": "treemap",
                  "values": [
                    49452,
                    57718
                  ]
                }
              ],
              "layout": {
                "legend": {
                  "tracegroupgap": 0
                },
                "template": {
                  "data": {
                    "bar": [
                      {
                        "error_x": {
                          "color": "#2a3f5f"
                        },
                        "error_y": {
                          "color": "#2a3f5f"
                        },
                        "marker": {
                          "line": {
                            "color": "#E5ECF6",
                            "width": 0.5
                          },
                          "pattern": {
                            "fillmode": "overlay",
                            "size": 10,
                            "solidity": 0.2
                          }
                        },
                        "type": "bar"
                      }
                    ],
                    "barpolar": [
                      {
                        "marker": {
                          "line": {
                            "color": "#E5ECF6",
                            "width": 0.5
                          },
                          "pattern": {
                            "fillmode": "overlay",
                            "size": 10,
                            "solidity": 0.2
                          }
                        },
                        "type": "barpolar"
                      }
                    ],
                    "carpet": [
                      {
                        "aaxis": {
                          "endlinecolor": "#2a3f5f",
                          "gridcolor": "white",
                          "linecolor": "white",
                          "minorgridcolor": "white",
                          "startlinecolor": "#2a3f5f"
                        },
                        "baxis": {
                          "endlinecolor": "#2a3f5f",
                          "gridcolor": "white",
                          "linecolor": "white",
                          "minorgridcolor": "white",
                          "startlinecolor": "#2a3f5f"
                        },
                        "type": "carpet"
                      }
                    ],
                    "choropleth": [
                      {
                        "colorbar": {
                          "outlinewidth": 0,
                          "ticks": ""
                        },
                        "type": "choropleth"
                      }
                    ],
                    "contour": [
                      {
                        "colorbar": {
                          "outlinewidth": 0,
                          "ticks": ""
                        },
                        "colorscale": [
                          [
                            0,
                            "#0d0887"
                          ],
                          [
                            0.1111111111111111,
                            "#46039f"
                          ],
                          [
                            0.2222222222222222,
                            "#7201a8"
                          ],
                          [
                            0.3333333333333333,
                            "#9c179e"
                          ],
                          [
                            0.4444444444444444,
                            "#bd3786"
                          ],
                          [
                            0.5555555555555556,
                            "#d8576b"
                          ],
                          [
                            0.6666666666666666,
                            "#ed7953"
                          ],
                          [
                            0.7777777777777778,
                            "#fb9f3a"
                          ],
                          [
                            0.8888888888888888,
                            "#fdca26"
                          ],
                          [
                            1,
                            "#f0f921"
                          ]
                        ],
                        "type": "contour"
                      }
                    ],
                    "contourcarpet": [
                      {
                        "colorbar": {
                          "outlinewidth": 0,
                          "ticks": ""
                        },
                        "type": "contourcarpet"
                      }
                    ],
                    "heatmap": [
                      {
                        "colorbar": {
                          "outlinewidth": 0,
                          "ticks": ""
                        },
                        "colorscale": [
                          [
                            0,
                            "#0d0887"
                          ],
                          [
                            0.1111111111111111,
                            "#46039f"
                          ],
                          [
                            0.2222222222222222,
                            "#7201a8"
                          ],
                          [
                            0.3333333333333333,
                            "#9c179e"
                          ],
                          [
                            0.4444444444444444,
                            "#bd3786"
                          ],
                          [
                            0.5555555555555556,
                            "#d8576b"
                          ],
                          [
                            0.6666666666666666,
                            "#ed7953"
                          ],
                          [
                            0.7777777777777778,
                            "#fb9f3a"
                          ],
                          [
                            0.8888888888888888,
                            "#fdca26"
                          ],
                          [
                            1,
                            "#f0f921"
                          ]
                        ],
                        "type": "heatmap"
                      }
                    ],
                    "heatmapgl": [
                      {
                        "colorbar": {
                          "outlinewidth": 0,
                          "ticks": ""
                        },
                        "colorscale": [
                          [
                            0,
                            "#0d0887"
                          ],
                          [
                            0.1111111111111111,
                            "#46039f"
                          ],
                          [
                            0.2222222222222222,
                            "#7201a8"
                          ],
                          [
                            0.3333333333333333,
                            "#9c179e"
                          ],
                          [
                            0.4444444444444444,
                            "#bd3786"
                          ],
                          [
                            0.5555555555555556,
                            "#d8576b"
                          ],
                          [
                            0.6666666666666666,
                            "#ed7953"
                          ],
                          [
                            0.7777777777777778,
                            "#fb9f3a"
                          ],
                          [
                            0.8888888888888888,
                            "#fdca26"
                          ],
                          [
                            1,
                            "#f0f921"
                          ]
                        ],
                        "type": "heatmapgl"
                      }
                    ],
                    "histogram": [
                      {
                        "marker": {
                          "pattern": {
                            "fillmode": "overlay",
                            "size": 10,
                            "solidity": 0.2
                          }
                        },
                        "type": "histogram"
                      }
                    ],
                    "histogram2d": [
                      {
                        "colorbar": {
                          "outlinewidth": 0,
                          "ticks": ""
                        },
                        "colorscale": [
                          [
                            0,
                            "#0d0887"
                          ],
                          [
                            0.1111111111111111,
                            "#46039f"
                          ],
                          [
                            0.2222222222222222,
                            "#7201a8"
                          ],
                          [
                            0.3333333333333333,
                            "#9c179e"
                          ],
                          [
                            0.4444444444444444,
                            "#bd3786"
                          ],
                          [
                            0.5555555555555556,
                            "#d8576b"
                          ],
                          [
                            0.6666666666666666,
                            "#ed7953"
                          ],
                          [
                            0.7777777777777778,
                            "#fb9f3a"
                          ],
                          [
                            0.8888888888888888,
                            "#fdca26"
                          ],
                          [
                            1,
                            "#f0f921"
                          ]
                        ],
                        "type": "histogram2d"
                      }
                    ],
                    "histogram2dcontour": [
                      {
                        "colorbar": {
                          "outlinewidth": 0,
                          "ticks": ""
                        },
                        "colorscale": [
                          [
                            0,
                            "#0d0887"
                          ],
                          [
                            0.1111111111111111,
                            "#46039f"
                          ],
                          [
                            0.2222222222222222,
                            "#7201a8"
                          ],
                          [
                            0.3333333333333333,
                            "#9c179e"
                          ],
                          [
                            0.4444444444444444,
                            "#bd3786"
                          ],
                          [
                            0.5555555555555556,
                            "#d8576b"
                          ],
                          [
                            0.6666666666666666,
                            "#ed7953"
                          ],
                          [
                            0.7777777777777778,
                            "#fb9f3a"
                          ],
                          [
                            0.8888888888888888,
                            "#fdca26"
                          ],
                          [
                            1,
                            "#f0f921"
                          ]
                        ],
                        "type": "histogram2dcontour"
                      }
                    ],
                    "mesh3d": [
                      {
                        "colorbar": {
                          "outlinewidth": 0,
                          "ticks": ""
                        },
                        "type": "mesh3d"
                      }
                    ],
                    "parcoords": [
                      {
                        "line": {
                          "colorbar": {
                            "outlinewidth": 0,
                            "ticks": ""
                          }
                        },
                        "type": "parcoords"
                      }
                    ],
                    "pie": [
                      {
                        "automargin": true,
                        "type": "pie"
                      }
                    ],
                    "scatter": [
                      {
                        "fillpattern": {
                          "fillmode": "overlay",
                          "size": 10,
                          "solidity": 0.2
                        },
                        "type": "scatter"
                      }
                    ],
                    "scatter3d": [
                      {
                        "line": {
                          "colorbar": {
                            "outlinewidth": 0,
                            "ticks": ""
                          }
                        },
                        "marker": {
                          "colorbar": {
                            "outlinewidth": 0,
                            "ticks": ""
                          }
                        },
                        "type": "scatter3d"
                      }
                    ],
                    "scattercarpet": [
                      {
                        "marker": {
                          "colorbar": {
                            "outlinewidth": 0,
                            "ticks": ""
                          }
                        },
                        "type": "scattercarpet"
                      }
                    ],
                    "scattergeo": [
                      {
                        "marker": {
                          "colorbar": {
                            "outlinewidth": 0,
                            "ticks": ""
                          }
                        },
                        "type": "scattergeo"
                      }
                    ],
                    "scattergl": [
                      {
                        "marker": {
                          "colorbar": {
                            "outlinewidth": 0,
                            "ticks": ""
                          }
                        },
                        "type": "scattergl"
                      }
                    ],
                    "scattermapbox": [
                      {
                        "marker": {
                          "colorbar": {
                            "outlinewidth": 0,
                            "ticks": ""
                          }
                        },
                        "type": "scattermapbox"
                      }
                    ],
                    "scatterpolar": [
                      {
                        "marker": {
                          "colorbar": {
                            "outlinewidth": 0,
                            "ticks": ""
                          }
                        },
                        "type": "scatterpolar"
                      }
                    ],
                    "scatterpolargl": [
                      {
                        "marker": {
                          "colorbar": {
                            "outlinewidth": 0,
                            "ticks": ""
                          }
                        },
                        "type": "scatterpolargl"
                      }
                    ],
                    "scatterternary": [
                      {
                        "marker": {
                          "colorbar": {
                            "outlinewidth": 0,
                            "ticks": ""
                          }
                        },
                        "type": "scatterternary"
                      }
                    ],
                    "surface": [
                      {
                        "colorbar": {
                          "outlinewidth": 0,
                          "ticks": ""
                        },
                        "colorscale": [
                          [
                            0,
                            "#0d0887"
                          ],
                          [
                            0.1111111111111111,
                            "#46039f"
                          ],
                          [
                            0.2222222222222222,
                            "#7201a8"
                          ],
                          [
                            0.3333333333333333,
                            "#9c179e"
                          ],
                          [
                            0.4444444444444444,
                            "#bd3786"
                          ],
                          [
                            0.5555555555555556,
                            "#d8576b"
                          ],
                          [
                            0.6666666666666666,
                            "#ed7953"
                          ],
                          [
                            0.7777777777777778,
                            "#fb9f3a"
                          ],
                          [
                            0.8888888888888888,
                            "#fdca26"
                          ],
                          [
                            1,
                            "#f0f921"
                          ]
                        ],
                        "type": "surface"
                      }
                    ],
                    "table": [
                      {
                        "cells": {
                          "fill": {
                            "color": "#EBF0F8"
                          },
                          "line": {
                            "color": "white"
                          }
                        },
                        "header": {
                          "fill": {
                            "color": "#C8D4E3"
                          },
                          "line": {
                            "color": "white"
                          }
                        },
                        "type": "table"
                      }
                    ]
                  },
                  "layout": {
                    "annotationdefaults": {
                      "arrowcolor": "#2a3f5f",
                      "arrowhead": 0,
                      "arrowwidth": 1
                    },
                    "autotypenumbers": "strict",
                    "coloraxis": {
                      "colorbar": {
                        "outlinewidth": 0,
                        "ticks": ""
                      }
                    },
                    "colorscale": {
                      "diverging": [
                        [
                          0,
                          "#8e0152"
                        ],
                        [
                          0.1,
                          "#c51b7d"
                        ],
                        [
                          0.2,
                          "#de77ae"
                        ],
                        [
                          0.3,
                          "#f1b6da"
                        ],
                        [
                          0.4,
                          "#fde0ef"
                        ],
                        [
                          0.5,
                          "#f7f7f7"
                        ],
                        [
                          0.6,
                          "#e6f5d0"
                        ],
                        [
                          0.7,
                          "#b8e186"
                        ],
                        [
                          0.8,
                          "#7fbc41"
                        ],
                        [
                          0.9,
                          "#4d9221"
                        ],
                        [
                          1,
                          "#276419"
                        ]
                      ],
                      "sequential": [
                        [
                          0,
                          "#0d0887"
                        ],
                        [
                          0.1111111111111111,
                          "#46039f"
                        ],
                        [
                          0.2222222222222222,
                          "#7201a8"
                        ],
                        [
                          0.3333333333333333,
                          "#9c179e"
                        ],
                        [
                          0.4444444444444444,
                          "#bd3786"
                        ],
                        [
                          0.5555555555555556,
                          "#d8576b"
                        ],
                        [
                          0.6666666666666666,
                          "#ed7953"
                        ],
                        [
                          0.7777777777777778,
                          "#fb9f3a"
                        ],
                        [
                          0.8888888888888888,
                          "#fdca26"
                        ],
                        [
                          1,
                          "#f0f921"
                        ]
                      ],
                      "sequentialminus": [
                        [
                          0,
                          "#0d0887"
                        ],
                        [
                          0.1111111111111111,
                          "#46039f"
                        ],
                        [
                          0.2222222222222222,
                          "#7201a8"
                        ],
                        [
                          0.3333333333333333,
                          "#9c179e"
                        ],
                        [
                          0.4444444444444444,
                          "#bd3786"
                        ],
                        [
                          0.5555555555555556,
                          "#d8576b"
                        ],
                        [
                          0.6666666666666666,
                          "#ed7953"
                        ],
                        [
                          0.7777777777777778,
                          "#fb9f3a"
                        ],
                        [
                          0.8888888888888888,
                          "#fdca26"
                        ],
                        [
                          1,
                          "#f0f921"
                        ]
                      ]
                    },
                    "colorway": [
                      "#636efa",
                      "#EF553B",
                      "#00cc96",
                      "#ab63fa",
                      "#FFA15A",
                      "#19d3f3",
                      "#FF6692",
                      "#B6E880",
                      "#FF97FF",
                      "#FECB52"
                    ],
                    "font": {
                      "color": "#2a3f5f"
                    },
                    "geo": {
                      "bgcolor": "white",
                      "lakecolor": "white",
                      "landcolor": "#E5ECF6",
                      "showlakes": true,
                      "showland": true,
                      "subunitcolor": "white"
                    },
                    "hoverlabel": {
                      "align": "left"
                    },
                    "hovermode": "closest",
                    "mapbox": {
                      "style": "light"
                    },
                    "paper_bgcolor": "white",
                    "plot_bgcolor": "#E5ECF6",
                    "polar": {
                      "angularaxis": {
                        "gridcolor": "white",
                        "linecolor": "white",
                        "ticks": ""
                      },
                      "bgcolor": "#E5ECF6",
                      "radialaxis": {
                        "gridcolor": "white",
                        "linecolor": "white",
                        "ticks": ""
                      }
                    },
                    "scene": {
                      "xaxis": {
                        "backgroundcolor": "#E5ECF6",
                        "gridcolor": "white",
                        "gridwidth": 2,
                        "linecolor": "white",
                        "showbackground": true,
                        "ticks": "",
                        "zerolinecolor": "white"
                      },
                      "yaxis": {
                        "backgroundcolor": "#E5ECF6",
                        "gridcolor": "white",
                        "gridwidth": 2,
                        "linecolor": "white",
                        "showbackground": true,
                        "ticks": "",
                        "zerolinecolor": "white"
                      },
                      "zaxis": {
                        "backgroundcolor": "#E5ECF6",
                        "gridcolor": "white",
                        "gridwidth": 2,
                        "linecolor": "white",
                        "showbackground": true,
                        "ticks": "",
                        "zerolinecolor": "white"
                      }
                    },
                    "shapedefaults": {
                      "line": {
                        "color": "#2a3f5f"
                      }
                    },
                    "ternary": {
                      "aaxis": {
                        "gridcolor": "white",
                        "linecolor": "white",
                        "ticks": ""
                      },
                      "baxis": {
                        "gridcolor": "white",
                        "linecolor": "white",
                        "ticks": ""
                      },
                      "bgcolor": "#E5ECF6",
                      "caxis": {
                        "gridcolor": "white",
                        "linecolor": "white",
                        "ticks": ""
                      }
                    },
                    "title": {
                      "x": 0.05
                    },
                    "xaxis": {
                      "automargin": true,
                      "gridcolor": "white",
                      "linecolor": "white",
                      "ticks": "",
                      "title": {
                        "standoff": 15
                      },
                      "zerolinecolor": "white",
                      "zerolinewidth": 2
                    },
                    "yaxis": {
                      "automargin": true,
                      "gridcolor": "white",
                      "linecolor": "white",
                      "ticks": "",
                      "title": {
                        "standoff": 15
                      },
                      "zerolinecolor": "white",
                      "zerolinewidth": 2
                    }
                  }
                },
                "title": {
                  "text": "Normal & Intrusion"
                }
              }
            }
          },
          "metadata": {},
          "output_type": "display_data"
        }
      ],
      "source": [
        "# Sample data (replace this with your actual data)\n",
        "data = {'type_of_attack': ['normal', 'attack'],\n",
        "        'count': [normal_count, attack_count]}\n",
        "\n",
        "df_count = pd.DataFrame(data)\n",
        "\n",
        "fig = px.treemap(df_count, \n",
        "                 path=['type_of_attack'], \n",
        "                 values='count', \n",
        "                 title='Normal & Intrusion')\n",
        "\n",
        "fig.update_traces(textinfo='value+percent parent')\n",
        "fig.show()"
      ]
    },
    {
      "cell_type": "code",
      "execution_count": 192,
      "metadata": {},
      "outputs": [],
      "source": [
        "# count based on 'type_of_attack'\n",
        "count = df_imp_cat[df_imp_cat['type_of_attack'] != 'normal']['type_of_attack'].value_counts()"
      ]
    },
    {
      "cell_type": "code",
      "execution_count": 193,
      "metadata": {},
      "outputs": [
        {
          "data": {
            "application/vnd.plotly.v1+json": {
              "config": {
                "plotlyServerURL": "https://plot.ly"
              },
              "data": [
                {
                  "branchvalues": "total",
                  "domain": {
                    "x": [
                      0,
                      1
                    ],
                    "y": [
                      0,
                      1
                    ]
                  },
                  "hovertemplate": "labels=%{label}<br>count=%{value}<br>parent=%{parent}<br>id=%{id}<extra></extra>",
                  "ids": [
                    "Denial of Service Attack",
                    "ipsweep",
                    "neptune",
                    "nmap",
                    "portsweep",
                    "satan",
                    "smurf"
                  ],
                  "labels": [
                    "Denial of Service Attack",
                    "ipsweep",
                    "neptune",
                    "nmap",
                    "portsweep",
                    "satan",
                    "smurf"
                  ],
                  "name": "",
                  "parents": [
                    "",
                    "",
                    "",
                    "",
                    "",
                    "",
                    ""
                  ],
                  "type": "treemap",
                  "values": [
                    1643,
                    2855,
                    36279,
                    1212,
                    2511,
                    2764,
                    2188
                  ]
                }
              ],
              "layout": {
                "legend": {
                  "tracegroupgap": 0
                },
                "margin": {
                  "t": 60
                },
                "template": {
                  "data": {
                    "bar": [
                      {
                        "error_x": {
                          "color": "#2a3f5f"
                        },
                        "error_y": {
                          "color": "#2a3f5f"
                        },
                        "marker": {
                          "line": {
                            "color": "#E5ECF6",
                            "width": 0.5
                          },
                          "pattern": {
                            "fillmode": "overlay",
                            "size": 10,
                            "solidity": 0.2
                          }
                        },
                        "type": "bar"
                      }
                    ],
                    "barpolar": [
                      {
                        "marker": {
                          "line": {
                            "color": "#E5ECF6",
                            "width": 0.5
                          },
                          "pattern": {
                            "fillmode": "overlay",
                            "size": 10,
                            "solidity": 0.2
                          }
                        },
                        "type": "barpolar"
                      }
                    ],
                    "carpet": [
                      {
                        "aaxis": {
                          "endlinecolor": "#2a3f5f",
                          "gridcolor": "white",
                          "linecolor": "white",
                          "minorgridcolor": "white",
                          "startlinecolor": "#2a3f5f"
                        },
                        "baxis": {
                          "endlinecolor": "#2a3f5f",
                          "gridcolor": "white",
                          "linecolor": "white",
                          "minorgridcolor": "white",
                          "startlinecolor": "#2a3f5f"
                        },
                        "type": "carpet"
                      }
                    ],
                    "choropleth": [
                      {
                        "colorbar": {
                          "outlinewidth": 0,
                          "ticks": ""
                        },
                        "type": "choropleth"
                      }
                    ],
                    "contour": [
                      {
                        "colorbar": {
                          "outlinewidth": 0,
                          "ticks": ""
                        },
                        "colorscale": [
                          [
                            0,
                            "#0d0887"
                          ],
                          [
                            0.1111111111111111,
                            "#46039f"
                          ],
                          [
                            0.2222222222222222,
                            "#7201a8"
                          ],
                          [
                            0.3333333333333333,
                            "#9c179e"
                          ],
                          [
                            0.4444444444444444,
                            "#bd3786"
                          ],
                          [
                            0.5555555555555556,
                            "#d8576b"
                          ],
                          [
                            0.6666666666666666,
                            "#ed7953"
                          ],
                          [
                            0.7777777777777778,
                            "#fb9f3a"
                          ],
                          [
                            0.8888888888888888,
                            "#fdca26"
                          ],
                          [
                            1,
                            "#f0f921"
                          ]
                        ],
                        "type": "contour"
                      }
                    ],
                    "contourcarpet": [
                      {
                        "colorbar": {
                          "outlinewidth": 0,
                          "ticks": ""
                        },
                        "type": "contourcarpet"
                      }
                    ],
                    "heatmap": [
                      {
                        "colorbar": {
                          "outlinewidth": 0,
                          "ticks": ""
                        },
                        "colorscale": [
                          [
                            0,
                            "#0d0887"
                          ],
                          [
                            0.1111111111111111,
                            "#46039f"
                          ],
                          [
                            0.2222222222222222,
                            "#7201a8"
                          ],
                          [
                            0.3333333333333333,
                            "#9c179e"
                          ],
                          [
                            0.4444444444444444,
                            "#bd3786"
                          ],
                          [
                            0.5555555555555556,
                            "#d8576b"
                          ],
                          [
                            0.6666666666666666,
                            "#ed7953"
                          ],
                          [
                            0.7777777777777778,
                            "#fb9f3a"
                          ],
                          [
                            0.8888888888888888,
                            "#fdca26"
                          ],
                          [
                            1,
                            "#f0f921"
                          ]
                        ],
                        "type": "heatmap"
                      }
                    ],
                    "heatmapgl": [
                      {
                        "colorbar": {
                          "outlinewidth": 0,
                          "ticks": ""
                        },
                        "colorscale": [
                          [
                            0,
                            "#0d0887"
                          ],
                          [
                            0.1111111111111111,
                            "#46039f"
                          ],
                          [
                            0.2222222222222222,
                            "#7201a8"
                          ],
                          [
                            0.3333333333333333,
                            "#9c179e"
                          ],
                          [
                            0.4444444444444444,
                            "#bd3786"
                          ],
                          [
                            0.5555555555555556,
                            "#d8576b"
                          ],
                          [
                            0.6666666666666666,
                            "#ed7953"
                          ],
                          [
                            0.7777777777777778,
                            "#fb9f3a"
                          ],
                          [
                            0.8888888888888888,
                            "#fdca26"
                          ],
                          [
                            1,
                            "#f0f921"
                          ]
                        ],
                        "type": "heatmapgl"
                      }
                    ],
                    "histogram": [
                      {
                        "marker": {
                          "pattern": {
                            "fillmode": "overlay",
                            "size": 10,
                            "solidity": 0.2
                          }
                        },
                        "type": "histogram"
                      }
                    ],
                    "histogram2d": [
                      {
                        "colorbar": {
                          "outlinewidth": 0,
                          "ticks": ""
                        },
                        "colorscale": [
                          [
                            0,
                            "#0d0887"
                          ],
                          [
                            0.1111111111111111,
                            "#46039f"
                          ],
                          [
                            0.2222222222222222,
                            "#7201a8"
                          ],
                          [
                            0.3333333333333333,
                            "#9c179e"
                          ],
                          [
                            0.4444444444444444,
                            "#bd3786"
                          ],
                          [
                            0.5555555555555556,
                            "#d8576b"
                          ],
                          [
                            0.6666666666666666,
                            "#ed7953"
                          ],
                          [
                            0.7777777777777778,
                            "#fb9f3a"
                          ],
                          [
                            0.8888888888888888,
                            "#fdca26"
                          ],
                          [
                            1,
                            "#f0f921"
                          ]
                        ],
                        "type": "histogram2d"
                      }
                    ],
                    "histogram2dcontour": [
                      {
                        "colorbar": {
                          "outlinewidth": 0,
                          "ticks": ""
                        },
                        "colorscale": [
                          [
                            0,
                            "#0d0887"
                          ],
                          [
                            0.1111111111111111,
                            "#46039f"
                          ],
                          [
                            0.2222222222222222,
                            "#7201a8"
                          ],
                          [
                            0.3333333333333333,
                            "#9c179e"
                          ],
                          [
                            0.4444444444444444,
                            "#bd3786"
                          ],
                          [
                            0.5555555555555556,
                            "#d8576b"
                          ],
                          [
                            0.6666666666666666,
                            "#ed7953"
                          ],
                          [
                            0.7777777777777778,
                            "#fb9f3a"
                          ],
                          [
                            0.8888888888888888,
                            "#fdca26"
                          ],
                          [
                            1,
                            "#f0f921"
                          ]
                        ],
                        "type": "histogram2dcontour"
                      }
                    ],
                    "mesh3d": [
                      {
                        "colorbar": {
                          "outlinewidth": 0,
                          "ticks": ""
                        },
                        "type": "mesh3d"
                      }
                    ],
                    "parcoords": [
                      {
                        "line": {
                          "colorbar": {
                            "outlinewidth": 0,
                            "ticks": ""
                          }
                        },
                        "type": "parcoords"
                      }
                    ],
                    "pie": [
                      {
                        "automargin": true,
                        "type": "pie"
                      }
                    ],
                    "scatter": [
                      {
                        "fillpattern": {
                          "fillmode": "overlay",
                          "size": 10,
                          "solidity": 0.2
                        },
                        "type": "scatter"
                      }
                    ],
                    "scatter3d": [
                      {
                        "line": {
                          "colorbar": {
                            "outlinewidth": 0,
                            "ticks": ""
                          }
                        },
                        "marker": {
                          "colorbar": {
                            "outlinewidth": 0,
                            "ticks": ""
                          }
                        },
                        "type": "scatter3d"
                      }
                    ],
                    "scattercarpet": [
                      {
                        "marker": {
                          "colorbar": {
                            "outlinewidth": 0,
                            "ticks": ""
                          }
                        },
                        "type": "scattercarpet"
                      }
                    ],
                    "scattergeo": [
                      {
                        "marker": {
                          "colorbar": {
                            "outlinewidth": 0,
                            "ticks": ""
                          }
                        },
                        "type": "scattergeo"
                      }
                    ],
                    "scattergl": [
                      {
                        "marker": {
                          "colorbar": {
                            "outlinewidth": 0,
                            "ticks": ""
                          }
                        },
                        "type": "scattergl"
                      }
                    ],
                    "scattermapbox": [
                      {
                        "marker": {
                          "colorbar": {
                            "outlinewidth": 0,
                            "ticks": ""
                          }
                        },
                        "type": "scattermapbox"
                      }
                    ],
                    "scatterpolar": [
                      {
                        "marker": {
                          "colorbar": {
                            "outlinewidth": 0,
                            "ticks": ""
                          }
                        },
                        "type": "scatterpolar"
                      }
                    ],
                    "scatterpolargl": [
                      {
                        "marker": {
                          "colorbar": {
                            "outlinewidth": 0,
                            "ticks": ""
                          }
                        },
                        "type": "scatterpolargl"
                      }
                    ],
                    "scatterternary": [
                      {
                        "marker": {
                          "colorbar": {
                            "outlinewidth": 0,
                            "ticks": ""
                          }
                        },
                        "type": "scatterternary"
                      }
                    ],
                    "surface": [
                      {
                        "colorbar": {
                          "outlinewidth": 0,
                          "ticks": ""
                        },
                        "colorscale": [
                          [
                            0,
                            "#0d0887"
                          ],
                          [
                            0.1111111111111111,
                            "#46039f"
                          ],
                          [
                            0.2222222222222222,
                            "#7201a8"
                          ],
                          [
                            0.3333333333333333,
                            "#9c179e"
                          ],
                          [
                            0.4444444444444444,
                            "#bd3786"
                          ],
                          [
                            0.5555555555555556,
                            "#d8576b"
                          ],
                          [
                            0.6666666666666666,
                            "#ed7953"
                          ],
                          [
                            0.7777777777777778,
                            "#fb9f3a"
                          ],
                          [
                            0.8888888888888888,
                            "#fdca26"
                          ],
                          [
                            1,
                            "#f0f921"
                          ]
                        ],
                        "type": "surface"
                      }
                    ],
                    "table": [
                      {
                        "cells": {
                          "fill": {
                            "color": "#EBF0F8"
                          },
                          "line": {
                            "color": "white"
                          }
                        },
                        "header": {
                          "fill": {
                            "color": "#C8D4E3"
                          },
                          "line": {
                            "color": "white"
                          }
                        },
                        "type": "table"
                      }
                    ]
                  },
                  "layout": {
                    "annotationdefaults": {
                      "arrowcolor": "#2a3f5f",
                      "arrowhead": 0,
                      "arrowwidth": 1
                    },
                    "autotypenumbers": "strict",
                    "coloraxis": {
                      "colorbar": {
                        "outlinewidth": 0,
                        "ticks": ""
                      }
                    },
                    "colorscale": {
                      "diverging": [
                        [
                          0,
                          "#8e0152"
                        ],
                        [
                          0.1,
                          "#c51b7d"
                        ],
                        [
                          0.2,
                          "#de77ae"
                        ],
                        [
                          0.3,
                          "#f1b6da"
                        ],
                        [
                          0.4,
                          "#fde0ef"
                        ],
                        [
                          0.5,
                          "#f7f7f7"
                        ],
                        [
                          0.6,
                          "#e6f5d0"
                        ],
                        [
                          0.7,
                          "#b8e186"
                        ],
                        [
                          0.8,
                          "#7fbc41"
                        ],
                        [
                          0.9,
                          "#4d9221"
                        ],
                        [
                          1,
                          "#276419"
                        ]
                      ],
                      "sequential": [
                        [
                          0,
                          "#0d0887"
                        ],
                        [
                          0.1111111111111111,
                          "#46039f"
                        ],
                        [
                          0.2222222222222222,
                          "#7201a8"
                        ],
                        [
                          0.3333333333333333,
                          "#9c179e"
                        ],
                        [
                          0.4444444444444444,
                          "#bd3786"
                        ],
                        [
                          0.5555555555555556,
                          "#d8576b"
                        ],
                        [
                          0.6666666666666666,
                          "#ed7953"
                        ],
                        [
                          0.7777777777777778,
                          "#fb9f3a"
                        ],
                        [
                          0.8888888888888888,
                          "#fdca26"
                        ],
                        [
                          1,
                          "#f0f921"
                        ]
                      ],
                      "sequentialminus": [
                        [
                          0,
                          "#0d0887"
                        ],
                        [
                          0.1111111111111111,
                          "#46039f"
                        ],
                        [
                          0.2222222222222222,
                          "#7201a8"
                        ],
                        [
                          0.3333333333333333,
                          "#9c179e"
                        ],
                        [
                          0.4444444444444444,
                          "#bd3786"
                        ],
                        [
                          0.5555555555555556,
                          "#d8576b"
                        ],
                        [
                          0.6666666666666666,
                          "#ed7953"
                        ],
                        [
                          0.7777777777777778,
                          "#fb9f3a"
                        ],
                        [
                          0.8888888888888888,
                          "#fdca26"
                        ],
                        [
                          1,
                          "#f0f921"
                        ]
                      ]
                    },
                    "colorway": [
                      "#636efa",
                      "#EF553B",
                      "#00cc96",
                      "#ab63fa",
                      "#FFA15A",
                      "#19d3f3",
                      "#FF6692",
                      "#B6E880",
                      "#FF97FF",
                      "#FECB52"
                    ],
                    "font": {
                      "color": "#2a3f5f"
                    },
                    "geo": {
                      "bgcolor": "white",
                      "lakecolor": "white",
                      "landcolor": "#E5ECF6",
                      "showlakes": true,
                      "showland": true,
                      "subunitcolor": "white"
                    },
                    "hoverlabel": {
                      "align": "left"
                    },
                    "hovermode": "closest",
                    "mapbox": {
                      "style": "light"
                    },
                    "paper_bgcolor": "white",
                    "plot_bgcolor": "#E5ECF6",
                    "polar": {
                      "angularaxis": {
                        "gridcolor": "white",
                        "linecolor": "white",
                        "ticks": ""
                      },
                      "bgcolor": "#E5ECF6",
                      "radialaxis": {
                        "gridcolor": "white",
                        "linecolor": "white",
                        "ticks": ""
                      }
                    },
                    "scene": {
                      "xaxis": {
                        "backgroundcolor": "#E5ECF6",
                        "gridcolor": "white",
                        "gridwidth": 2,
                        "linecolor": "white",
                        "showbackground": true,
                        "ticks": "",
                        "zerolinecolor": "white"
                      },
                      "yaxis": {
                        "backgroundcolor": "#E5ECF6",
                        "gridcolor": "white",
                        "gridwidth": 2,
                        "linecolor": "white",
                        "showbackground": true,
                        "ticks": "",
                        "zerolinecolor": "white"
                      },
                      "zaxis": {
                        "backgroundcolor": "#E5ECF6",
                        "gridcolor": "white",
                        "gridwidth": 2,
                        "linecolor": "white",
                        "showbackground": true,
                        "ticks": "",
                        "zerolinecolor": "white"
                      }
                    },
                    "shapedefaults": {
                      "line": {
                        "color": "#2a3f5f"
                      }
                    },
                    "ternary": {
                      "aaxis": {
                        "gridcolor": "white",
                        "linecolor": "white",
                        "ticks": ""
                      },
                      "baxis": {
                        "gridcolor": "white",
                        "linecolor": "white",
                        "ticks": ""
                      },
                      "bgcolor": "#E5ECF6",
                      "caxis": {
                        "gridcolor": "white",
                        "linecolor": "white",
                        "ticks": ""
                      }
                    },
                    "title": {
                      "x": 0.05
                    },
                    "xaxis": {
                      "automargin": true,
                      "gridcolor": "white",
                      "linecolor": "white",
                      "ticks": "",
                      "title": {
                        "standoff": 15
                      },
                      "zerolinecolor": "white",
                      "zerolinewidth": 2
                    },
                    "yaxis": {
                      "automargin": true,
                      "gridcolor": "white",
                      "linecolor": "white",
                      "ticks": "",
                      "title": {
                        "standoff": 15
                      },
                      "zerolinecolor": "white",
                      "zerolinewidth": 2
                    }
                  }
                }
              }
            }
          },
          "metadata": {},
          "output_type": "display_data"
        }
      ],
      "source": [
        "# Filter data frame to exclude 'normal'\n",
        "filtered_df = df_imp_cat[df_imp_cat['type_of_attack'] != 'normal']\n",
        "\n",
        "# Count the occurrences of each type of attack\n",
        "count = filtered_df['type_of_attack'].value_counts().reset_index()\n",
        "count.columns = ['type_of_attack', 'count']\n",
        "\n",
        "# Create the TreeMap\n",
        "fig = px.treemap(data_frame=count, path=['type_of_attack'], values='count')\n",
        "\n",
        "# Show the plot\n",
        "fig.show()"
      ]
    },
    {
      "cell_type": "code",
      "execution_count": 194,
      "metadata": {},
      "outputs": [],
      "source": [
        "# Membuat DataFrame yang hanya berisi baris dengan 'type_of_attack' sama dengan 'normal'\n",
        "normal_df = df_imp_cat[df_imp_cat['type_of_attack'] == 'normal']"
      ]
    },
    {
      "cell_type": "code",
      "execution_count": 195,
      "metadata": {},
      "outputs": [],
      "source": [
        "# intrusion_df \n",
        "# Membuat DataFrame yang hanya berisi baris dengan 'type_of_attack' != 'normal'\n",
        "intrusion_df = df_imp_cat[df_imp_cat['type_of_attack'] != 'normal']"
      ]
    },
    {
      "cell_type": "code",
      "execution_count": 196,
      "metadata": {},
      "outputs": [],
      "source": [
        "X = intrusion_df.iloc[:, :-1]\n",
        "y = intrusion_df['type_of_attack']\n",
        "\n",
        "smote_enn = SMOTEENN(sampling_strategy='auto', random_state=42)\n",
        "\n",
        "X_resampled, y_resampled = smote_enn.fit_resample(X, y)"
      ]
    },
    {
      "cell_type": "code",
      "execution_count": 197,
      "metadata": {},
      "outputs": [
        {
          "name": "stderr",
          "output_type": "stream",
          "text": [
            "C:\\Users\\gusti\\AppData\\Local\\Temp\\ipykernel_31376\\2018835135.py:3: PerformanceWarning:\n",
            "\n",
            "DataFrame is highly fragmented.  This is usually the result of calling `frame.insert` many times, which has poor performance.  Consider joining all columns at once using pd.concat(axis=1) instead. To get a de-fragmented frame, use `newframe = frame.copy()`\n",
            "\n"
          ]
        },
        {
          "data": {
            "application/vnd.plotly.v1+json": {
              "config": {
                "plotlyServerURL": "https://plot.ly"
              },
              "data": [
                {
                  "branchvalues": "total",
                  "domain": {
                    "x": [
                      0,
                      1
                    ],
                    "y": [
                      0,
                      1
                    ]
                  },
                  "hovertemplate": "labels=%{label}<br>count=%{value}<br>parent=%{parent}<br>id=%{id}<extra></extra>",
                  "ids": [
                    "Denial of Service Attack",
                    "ipsweep",
                    "neptune",
                    "nmap",
                    "portsweep",
                    "satan",
                    "smurf"
                  ],
                  "labels": [
                    "Denial of Service Attack",
                    "ipsweep",
                    "neptune",
                    "nmap",
                    "portsweep",
                    "satan",
                    "smurf"
                  ],
                  "name": "",
                  "parents": [
                    "",
                    "",
                    "",
                    "",
                    "",
                    "",
                    ""
                  ],
                  "type": "treemap",
                  "values": [
                    36274,
                    35818,
                    36005,
                    35646,
                    36198,
                    36271,
                    36277
                  ]
                }
              ],
              "layout": {
                "legend": {
                  "tracegroupgap": 0
                },
                "margin": {
                  "t": 60
                },
                "template": {
                  "data": {
                    "bar": [
                      {
                        "error_x": {
                          "color": "#2a3f5f"
                        },
                        "error_y": {
                          "color": "#2a3f5f"
                        },
                        "marker": {
                          "line": {
                            "color": "#E5ECF6",
                            "width": 0.5
                          },
                          "pattern": {
                            "fillmode": "overlay",
                            "size": 10,
                            "solidity": 0.2
                          }
                        },
                        "type": "bar"
                      }
                    ],
                    "barpolar": [
                      {
                        "marker": {
                          "line": {
                            "color": "#E5ECF6",
                            "width": 0.5
                          },
                          "pattern": {
                            "fillmode": "overlay",
                            "size": 10,
                            "solidity": 0.2
                          }
                        },
                        "type": "barpolar"
                      }
                    ],
                    "carpet": [
                      {
                        "aaxis": {
                          "endlinecolor": "#2a3f5f",
                          "gridcolor": "white",
                          "linecolor": "white",
                          "minorgridcolor": "white",
                          "startlinecolor": "#2a3f5f"
                        },
                        "baxis": {
                          "endlinecolor": "#2a3f5f",
                          "gridcolor": "white",
                          "linecolor": "white",
                          "minorgridcolor": "white",
                          "startlinecolor": "#2a3f5f"
                        },
                        "type": "carpet"
                      }
                    ],
                    "choropleth": [
                      {
                        "colorbar": {
                          "outlinewidth": 0,
                          "ticks": ""
                        },
                        "type": "choropleth"
                      }
                    ],
                    "contour": [
                      {
                        "colorbar": {
                          "outlinewidth": 0,
                          "ticks": ""
                        },
                        "colorscale": [
                          [
                            0,
                            "#0d0887"
                          ],
                          [
                            0.1111111111111111,
                            "#46039f"
                          ],
                          [
                            0.2222222222222222,
                            "#7201a8"
                          ],
                          [
                            0.3333333333333333,
                            "#9c179e"
                          ],
                          [
                            0.4444444444444444,
                            "#bd3786"
                          ],
                          [
                            0.5555555555555556,
                            "#d8576b"
                          ],
                          [
                            0.6666666666666666,
                            "#ed7953"
                          ],
                          [
                            0.7777777777777778,
                            "#fb9f3a"
                          ],
                          [
                            0.8888888888888888,
                            "#fdca26"
                          ],
                          [
                            1,
                            "#f0f921"
                          ]
                        ],
                        "type": "contour"
                      }
                    ],
                    "contourcarpet": [
                      {
                        "colorbar": {
                          "outlinewidth": 0,
                          "ticks": ""
                        },
                        "type": "contourcarpet"
                      }
                    ],
                    "heatmap": [
                      {
                        "colorbar": {
                          "outlinewidth": 0,
                          "ticks": ""
                        },
                        "colorscale": [
                          [
                            0,
                            "#0d0887"
                          ],
                          [
                            0.1111111111111111,
                            "#46039f"
                          ],
                          [
                            0.2222222222222222,
                            "#7201a8"
                          ],
                          [
                            0.3333333333333333,
                            "#9c179e"
                          ],
                          [
                            0.4444444444444444,
                            "#bd3786"
                          ],
                          [
                            0.5555555555555556,
                            "#d8576b"
                          ],
                          [
                            0.6666666666666666,
                            "#ed7953"
                          ],
                          [
                            0.7777777777777778,
                            "#fb9f3a"
                          ],
                          [
                            0.8888888888888888,
                            "#fdca26"
                          ],
                          [
                            1,
                            "#f0f921"
                          ]
                        ],
                        "type": "heatmap"
                      }
                    ],
                    "heatmapgl": [
                      {
                        "colorbar": {
                          "outlinewidth": 0,
                          "ticks": ""
                        },
                        "colorscale": [
                          [
                            0,
                            "#0d0887"
                          ],
                          [
                            0.1111111111111111,
                            "#46039f"
                          ],
                          [
                            0.2222222222222222,
                            "#7201a8"
                          ],
                          [
                            0.3333333333333333,
                            "#9c179e"
                          ],
                          [
                            0.4444444444444444,
                            "#bd3786"
                          ],
                          [
                            0.5555555555555556,
                            "#d8576b"
                          ],
                          [
                            0.6666666666666666,
                            "#ed7953"
                          ],
                          [
                            0.7777777777777778,
                            "#fb9f3a"
                          ],
                          [
                            0.8888888888888888,
                            "#fdca26"
                          ],
                          [
                            1,
                            "#f0f921"
                          ]
                        ],
                        "type": "heatmapgl"
                      }
                    ],
                    "histogram": [
                      {
                        "marker": {
                          "pattern": {
                            "fillmode": "overlay",
                            "size": 10,
                            "solidity": 0.2
                          }
                        },
                        "type": "histogram"
                      }
                    ],
                    "histogram2d": [
                      {
                        "colorbar": {
                          "outlinewidth": 0,
                          "ticks": ""
                        },
                        "colorscale": [
                          [
                            0,
                            "#0d0887"
                          ],
                          [
                            0.1111111111111111,
                            "#46039f"
                          ],
                          [
                            0.2222222222222222,
                            "#7201a8"
                          ],
                          [
                            0.3333333333333333,
                            "#9c179e"
                          ],
                          [
                            0.4444444444444444,
                            "#bd3786"
                          ],
                          [
                            0.5555555555555556,
                            "#d8576b"
                          ],
                          [
                            0.6666666666666666,
                            "#ed7953"
                          ],
                          [
                            0.7777777777777778,
                            "#fb9f3a"
                          ],
                          [
                            0.8888888888888888,
                            "#fdca26"
                          ],
                          [
                            1,
                            "#f0f921"
                          ]
                        ],
                        "type": "histogram2d"
                      }
                    ],
                    "histogram2dcontour": [
                      {
                        "colorbar": {
                          "outlinewidth": 0,
                          "ticks": ""
                        },
                        "colorscale": [
                          [
                            0,
                            "#0d0887"
                          ],
                          [
                            0.1111111111111111,
                            "#46039f"
                          ],
                          [
                            0.2222222222222222,
                            "#7201a8"
                          ],
                          [
                            0.3333333333333333,
                            "#9c179e"
                          ],
                          [
                            0.4444444444444444,
                            "#bd3786"
                          ],
                          [
                            0.5555555555555556,
                            "#d8576b"
                          ],
                          [
                            0.6666666666666666,
                            "#ed7953"
                          ],
                          [
                            0.7777777777777778,
                            "#fb9f3a"
                          ],
                          [
                            0.8888888888888888,
                            "#fdca26"
                          ],
                          [
                            1,
                            "#f0f921"
                          ]
                        ],
                        "type": "histogram2dcontour"
                      }
                    ],
                    "mesh3d": [
                      {
                        "colorbar": {
                          "outlinewidth": 0,
                          "ticks": ""
                        },
                        "type": "mesh3d"
                      }
                    ],
                    "parcoords": [
                      {
                        "line": {
                          "colorbar": {
                            "outlinewidth": 0,
                            "ticks": ""
                          }
                        },
                        "type": "parcoords"
                      }
                    ],
                    "pie": [
                      {
                        "automargin": true,
                        "type": "pie"
                      }
                    ],
                    "scatter": [
                      {
                        "fillpattern": {
                          "fillmode": "overlay",
                          "size": 10,
                          "solidity": 0.2
                        },
                        "type": "scatter"
                      }
                    ],
                    "scatter3d": [
                      {
                        "line": {
                          "colorbar": {
                            "outlinewidth": 0,
                            "ticks": ""
                          }
                        },
                        "marker": {
                          "colorbar": {
                            "outlinewidth": 0,
                            "ticks": ""
                          }
                        },
                        "type": "scatter3d"
                      }
                    ],
                    "scattercarpet": [
                      {
                        "marker": {
                          "colorbar": {
                            "outlinewidth": 0,
                            "ticks": ""
                          }
                        },
                        "type": "scattercarpet"
                      }
                    ],
                    "scattergeo": [
                      {
                        "marker": {
                          "colorbar": {
                            "outlinewidth": 0,
                            "ticks": ""
                          }
                        },
                        "type": "scattergeo"
                      }
                    ],
                    "scattergl": [
                      {
                        "marker": {
                          "colorbar": {
                            "outlinewidth": 0,
                            "ticks": ""
                          }
                        },
                        "type": "scattergl"
                      }
                    ],
                    "scattermapbox": [
                      {
                        "marker": {
                          "colorbar": {
                            "outlinewidth": 0,
                            "ticks": ""
                          }
                        },
                        "type": "scattermapbox"
                      }
                    ],
                    "scatterpolar": [
                      {
                        "marker": {
                          "colorbar": {
                            "outlinewidth": 0,
                            "ticks": ""
                          }
                        },
                        "type": "scatterpolar"
                      }
                    ],
                    "scatterpolargl": [
                      {
                        "marker": {
                          "colorbar": {
                            "outlinewidth": 0,
                            "ticks": ""
                          }
                        },
                        "type": "scatterpolargl"
                      }
                    ],
                    "scatterternary": [
                      {
                        "marker": {
                          "colorbar": {
                            "outlinewidth": 0,
                            "ticks": ""
                          }
                        },
                        "type": "scatterternary"
                      }
                    ],
                    "surface": [
                      {
                        "colorbar": {
                          "outlinewidth": 0,
                          "ticks": ""
                        },
                        "colorscale": [
                          [
                            0,
                            "#0d0887"
                          ],
                          [
                            0.1111111111111111,
                            "#46039f"
                          ],
                          [
                            0.2222222222222222,
                            "#7201a8"
                          ],
                          [
                            0.3333333333333333,
                            "#9c179e"
                          ],
                          [
                            0.4444444444444444,
                            "#bd3786"
                          ],
                          [
                            0.5555555555555556,
                            "#d8576b"
                          ],
                          [
                            0.6666666666666666,
                            "#ed7953"
                          ],
                          [
                            0.7777777777777778,
                            "#fb9f3a"
                          ],
                          [
                            0.8888888888888888,
                            "#fdca26"
                          ],
                          [
                            1,
                            "#f0f921"
                          ]
                        ],
                        "type": "surface"
                      }
                    ],
                    "table": [
                      {
                        "cells": {
                          "fill": {
                            "color": "#EBF0F8"
                          },
                          "line": {
                            "color": "white"
                          }
                        },
                        "header": {
                          "fill": {
                            "color": "#C8D4E3"
                          },
                          "line": {
                            "color": "white"
                          }
                        },
                        "type": "table"
                      }
                    ]
                  },
                  "layout": {
                    "annotationdefaults": {
                      "arrowcolor": "#2a3f5f",
                      "arrowhead": 0,
                      "arrowwidth": 1
                    },
                    "autotypenumbers": "strict",
                    "coloraxis": {
                      "colorbar": {
                        "outlinewidth": 0,
                        "ticks": ""
                      }
                    },
                    "colorscale": {
                      "diverging": [
                        [
                          0,
                          "#8e0152"
                        ],
                        [
                          0.1,
                          "#c51b7d"
                        ],
                        [
                          0.2,
                          "#de77ae"
                        ],
                        [
                          0.3,
                          "#f1b6da"
                        ],
                        [
                          0.4,
                          "#fde0ef"
                        ],
                        [
                          0.5,
                          "#f7f7f7"
                        ],
                        [
                          0.6,
                          "#e6f5d0"
                        ],
                        [
                          0.7,
                          "#b8e186"
                        ],
                        [
                          0.8,
                          "#7fbc41"
                        ],
                        [
                          0.9,
                          "#4d9221"
                        ],
                        [
                          1,
                          "#276419"
                        ]
                      ],
                      "sequential": [
                        [
                          0,
                          "#0d0887"
                        ],
                        [
                          0.1111111111111111,
                          "#46039f"
                        ],
                        [
                          0.2222222222222222,
                          "#7201a8"
                        ],
                        [
                          0.3333333333333333,
                          "#9c179e"
                        ],
                        [
                          0.4444444444444444,
                          "#bd3786"
                        ],
                        [
                          0.5555555555555556,
                          "#d8576b"
                        ],
                        [
                          0.6666666666666666,
                          "#ed7953"
                        ],
                        [
                          0.7777777777777778,
                          "#fb9f3a"
                        ],
                        [
                          0.8888888888888888,
                          "#fdca26"
                        ],
                        [
                          1,
                          "#f0f921"
                        ]
                      ],
                      "sequentialminus": [
                        [
                          0,
                          "#0d0887"
                        ],
                        [
                          0.1111111111111111,
                          "#46039f"
                        ],
                        [
                          0.2222222222222222,
                          "#7201a8"
                        ],
                        [
                          0.3333333333333333,
                          "#9c179e"
                        ],
                        [
                          0.4444444444444444,
                          "#bd3786"
                        ],
                        [
                          0.5555555555555556,
                          "#d8576b"
                        ],
                        [
                          0.6666666666666666,
                          "#ed7953"
                        ],
                        [
                          0.7777777777777778,
                          "#fb9f3a"
                        ],
                        [
                          0.8888888888888888,
                          "#fdca26"
                        ],
                        [
                          1,
                          "#f0f921"
                        ]
                      ]
                    },
                    "colorway": [
                      "#636efa",
                      "#EF553B",
                      "#00cc96",
                      "#ab63fa",
                      "#FFA15A",
                      "#19d3f3",
                      "#FF6692",
                      "#B6E880",
                      "#FF97FF",
                      "#FECB52"
                    ],
                    "font": {
                      "color": "#2a3f5f"
                    },
                    "geo": {
                      "bgcolor": "white",
                      "lakecolor": "white",
                      "landcolor": "#E5ECF6",
                      "showlakes": true,
                      "showland": true,
                      "subunitcolor": "white"
                    },
                    "hoverlabel": {
                      "align": "left"
                    },
                    "hovermode": "closest",
                    "mapbox": {
                      "style": "light"
                    },
                    "paper_bgcolor": "white",
                    "plot_bgcolor": "#E5ECF6",
                    "polar": {
                      "angularaxis": {
                        "gridcolor": "white",
                        "linecolor": "white",
                        "ticks": ""
                      },
                      "bgcolor": "#E5ECF6",
                      "radialaxis": {
                        "gridcolor": "white",
                        "linecolor": "white",
                        "ticks": ""
                      }
                    },
                    "scene": {
                      "xaxis": {
                        "backgroundcolor": "#E5ECF6",
                        "gridcolor": "white",
                        "gridwidth": 2,
                        "linecolor": "white",
                        "showbackground": true,
                        "ticks": "",
                        "zerolinecolor": "white"
                      },
                      "yaxis": {
                        "backgroundcolor": "#E5ECF6",
                        "gridcolor": "white",
                        "gridwidth": 2,
                        "linecolor": "white",
                        "showbackground": true,
                        "ticks": "",
                        "zerolinecolor": "white"
                      },
                      "zaxis": {
                        "backgroundcolor": "#E5ECF6",
                        "gridcolor": "white",
                        "gridwidth": 2,
                        "linecolor": "white",
                        "showbackground": true,
                        "ticks": "",
                        "zerolinecolor": "white"
                      }
                    },
                    "shapedefaults": {
                      "line": {
                        "color": "#2a3f5f"
                      }
                    },
                    "ternary": {
                      "aaxis": {
                        "gridcolor": "white",
                        "linecolor": "white",
                        "ticks": ""
                      },
                      "baxis": {
                        "gridcolor": "white",
                        "linecolor": "white",
                        "ticks": ""
                      },
                      "bgcolor": "#E5ECF6",
                      "caxis": {
                        "gridcolor": "white",
                        "linecolor": "white",
                        "ticks": ""
                      }
                    },
                    "title": {
                      "x": 0.05
                    },
                    "xaxis": {
                      "automargin": true,
                      "gridcolor": "white",
                      "linecolor": "white",
                      "ticks": "",
                      "title": {
                        "standoff": 15
                      },
                      "zerolinecolor": "white",
                      "zerolinewidth": 2
                    },
                    "yaxis": {
                      "automargin": true,
                      "gridcolor": "white",
                      "linecolor": "white",
                      "ticks": "",
                      "title": {
                        "standoff": 15
                      },
                      "zerolinecolor": "white",
                      "zerolinewidth": 2
                    }
                  }
                }
              }
            }
          },
          "metadata": {},
          "output_type": "display_data"
        }
      ],
      "source": [
        "\n",
        "# Combine X_resampled and y_resampled into a DataFrame\n",
        "intrusion_df_resampled = pd.DataFrame(X_resampled, columns=X.columns)\n",
        "intrusion_df_resampled['type_of_attack'] = y_resampled\n",
        "\n",
        "# Filter data frame to exclude 'normal'\n",
        "filtered_df = intrusion_df_resampled[intrusion_df_resampled['type_of_attack'] != 'normal']\n",
        "\n",
        "# Count the occurrences of each type of attack\n",
        "count = filtered_df['type_of_attack'].value_counts().reset_index()\n",
        "count.columns = ['type_of_attack', 'count']\n",
        "\n",
        "# Create the TreeMap\n",
        "fig = px.treemap(data_frame=count, path=['type_of_attack'], values='count')\n",
        "\n",
        "# Show the plot\n",
        "fig.show()\n"
      ]
    },
    {
      "cell_type": "code",
      "execution_count": 198,
      "metadata": {},
      "outputs": [
        {
          "data": {
            "text/plain": [
              "(252489, 122)"
            ]
          },
          "execution_count": 198,
          "metadata": {},
          "output_type": "execute_result"
        }
      ],
      "source": [
        "# show shape of intrusion_df_resampled\n",
        "intrusion_df_resampled.shape"
      ]
    },
    {
      "cell_type": "code",
      "execution_count": 199,
      "metadata": {},
      "outputs": [
        {
          "data": {
            "text/html": [
              "<div>\n",
              "<style scoped>\n",
              "    .dataframe tbody tr th:only-of-type {\n",
              "        vertical-align: middle;\n",
              "    }\n",
              "\n",
              "    .dataframe tbody tr th {\n",
              "        vertical-align: top;\n",
              "    }\n",
              "\n",
              "    .dataframe thead th {\n",
              "        text-align: right;\n",
              "    }\n",
              "</style>\n",
              "<table border=\"1\" class=\"dataframe\">\n",
              "  <thead>\n",
              "    <tr style=\"text-align: right;\">\n",
              "      <th></th>\n",
              "      <th>duration</th>\n",
              "      <th>src_bytes</th>\n",
              "      <th>dst_bytes</th>\n",
              "      <th>wrong_fragment</th>\n",
              "      <th>urgent</th>\n",
              "      <th>hot</th>\n",
              "      <th>num_failed_logins</th>\n",
              "      <th>num_compromised</th>\n",
              "      <th>num_root</th>\n",
              "      <th>num_file_creations</th>\n",
              "      <th>...</th>\n",
              "      <th>flag_RSTO</th>\n",
              "      <th>flag_RSTOS0</th>\n",
              "      <th>flag_RSTR</th>\n",
              "      <th>flag_S0</th>\n",
              "      <th>flag_S1</th>\n",
              "      <th>flag_S2</th>\n",
              "      <th>flag_S3</th>\n",
              "      <th>flag_SF</th>\n",
              "      <th>flag_SH</th>\n",
              "      <th>type_of_attack</th>\n",
              "    </tr>\n",
              "  </thead>\n",
              "  <tbody>\n",
              "    <tr>\n",
              "      <th>0</th>\n",
              "      <td>0</td>\n",
              "      <td>54540</td>\n",
              "      <td>8314</td>\n",
              "      <td>0</td>\n",
              "      <td>0</td>\n",
              "      <td>2</td>\n",
              "      <td>0</td>\n",
              "      <td>1</td>\n",
              "      <td>0</td>\n",
              "      <td>0</td>\n",
              "      <td>...</td>\n",
              "      <td>0</td>\n",
              "      <td>0</td>\n",
              "      <td>0</td>\n",
              "      <td>0</td>\n",
              "      <td>0</td>\n",
              "      <td>0</td>\n",
              "      <td>0</td>\n",
              "      <td>1</td>\n",
              "      <td>0</td>\n",
              "      <td>Denial of Service Attack</td>\n",
              "    </tr>\n",
              "    <tr>\n",
              "      <th>1</th>\n",
              "      <td>0</td>\n",
              "      <td>28</td>\n",
              "      <td>0</td>\n",
              "      <td>3</td>\n",
              "      <td>0</td>\n",
              "      <td>0</td>\n",
              "      <td>0</td>\n",
              "      <td>0</td>\n",
              "      <td>0</td>\n",
              "      <td>0</td>\n",
              "      <td>...</td>\n",
              "      <td>0</td>\n",
              "      <td>0</td>\n",
              "      <td>0</td>\n",
              "      <td>0</td>\n",
              "      <td>0</td>\n",
              "      <td>0</td>\n",
              "      <td>0</td>\n",
              "      <td>1</td>\n",
              "      <td>0</td>\n",
              "      <td>Denial of Service Attack</td>\n",
              "    </tr>\n",
              "    <tr>\n",
              "      <th>2</th>\n",
              "      <td>9</td>\n",
              "      <td>54540</td>\n",
              "      <td>8314</td>\n",
              "      <td>0</td>\n",
              "      <td>0</td>\n",
              "      <td>2</td>\n",
              "      <td>0</td>\n",
              "      <td>1</td>\n",
              "      <td>0</td>\n",
              "      <td>0</td>\n",
              "      <td>...</td>\n",
              "      <td>0</td>\n",
              "      <td>0</td>\n",
              "      <td>0</td>\n",
              "      <td>0</td>\n",
              "      <td>0</td>\n",
              "      <td>0</td>\n",
              "      <td>0</td>\n",
              "      <td>1</td>\n",
              "      <td>0</td>\n",
              "      <td>Denial of Service Attack</td>\n",
              "    </tr>\n",
              "    <tr>\n",
              "      <th>3</th>\n",
              "      <td>1</td>\n",
              "      <td>54540</td>\n",
              "      <td>8314</td>\n",
              "      <td>0</td>\n",
              "      <td>0</td>\n",
              "      <td>2</td>\n",
              "      <td>0</td>\n",
              "      <td>1</td>\n",
              "      <td>0</td>\n",
              "      <td>0</td>\n",
              "      <td>...</td>\n",
              "      <td>0</td>\n",
              "      <td>0</td>\n",
              "      <td>0</td>\n",
              "      <td>0</td>\n",
              "      <td>0</td>\n",
              "      <td>0</td>\n",
              "      <td>0</td>\n",
              "      <td>1</td>\n",
              "      <td>0</td>\n",
              "      <td>Denial of Service Attack</td>\n",
              "    </tr>\n",
              "    <tr>\n",
              "      <th>4</th>\n",
              "      <td>0</td>\n",
              "      <td>1480</td>\n",
              "      <td>0</td>\n",
              "      <td>1</td>\n",
              "      <td>0</td>\n",
              "      <td>0</td>\n",
              "      <td>0</td>\n",
              "      <td>0</td>\n",
              "      <td>0</td>\n",
              "      <td>0</td>\n",
              "      <td>...</td>\n",
              "      <td>0</td>\n",
              "      <td>0</td>\n",
              "      <td>0</td>\n",
              "      <td>0</td>\n",
              "      <td>0</td>\n",
              "      <td>0</td>\n",
              "      <td>0</td>\n",
              "      <td>1</td>\n",
              "      <td>0</td>\n",
              "      <td>Denial of Service Attack</td>\n",
              "    </tr>\n",
              "    <tr>\n",
              "      <th>...</th>\n",
              "      <td>...</td>\n",
              "      <td>...</td>\n",
              "      <td>...</td>\n",
              "      <td>...</td>\n",
              "      <td>...</td>\n",
              "      <td>...</td>\n",
              "      <td>...</td>\n",
              "      <td>...</td>\n",
              "      <td>...</td>\n",
              "      <td>...</td>\n",
              "      <td>...</td>\n",
              "      <td>...</td>\n",
              "      <td>...</td>\n",
              "      <td>...</td>\n",
              "      <td>...</td>\n",
              "      <td>...</td>\n",
              "      <td>...</td>\n",
              "      <td>...</td>\n",
              "      <td>...</td>\n",
              "      <td>...</td>\n",
              "      <td>...</td>\n",
              "    </tr>\n",
              "    <tr>\n",
              "      <th>252484</th>\n",
              "      <td>0</td>\n",
              "      <td>1032</td>\n",
              "      <td>0</td>\n",
              "      <td>0</td>\n",
              "      <td>0</td>\n",
              "      <td>0</td>\n",
              "      <td>0</td>\n",
              "      <td>0</td>\n",
              "      <td>0</td>\n",
              "      <td>0</td>\n",
              "      <td>...</td>\n",
              "      <td>0</td>\n",
              "      <td>0</td>\n",
              "      <td>0</td>\n",
              "      <td>0</td>\n",
              "      <td>0</td>\n",
              "      <td>0</td>\n",
              "      <td>0</td>\n",
              "      <td>1</td>\n",
              "      <td>0</td>\n",
              "      <td>smurf</td>\n",
              "    </tr>\n",
              "    <tr>\n",
              "      <th>252485</th>\n",
              "      <td>0</td>\n",
              "      <td>520</td>\n",
              "      <td>0</td>\n",
              "      <td>0</td>\n",
              "      <td>0</td>\n",
              "      <td>0</td>\n",
              "      <td>0</td>\n",
              "      <td>0</td>\n",
              "      <td>0</td>\n",
              "      <td>0</td>\n",
              "      <td>...</td>\n",
              "      <td>0</td>\n",
              "      <td>0</td>\n",
              "      <td>0</td>\n",
              "      <td>0</td>\n",
              "      <td>0</td>\n",
              "      <td>0</td>\n",
              "      <td>0</td>\n",
              "      <td>1</td>\n",
              "      <td>0</td>\n",
              "      <td>smurf</td>\n",
              "    </tr>\n",
              "    <tr>\n",
              "      <th>252486</th>\n",
              "      <td>0</td>\n",
              "      <td>1032</td>\n",
              "      <td>0</td>\n",
              "      <td>0</td>\n",
              "      <td>0</td>\n",
              "      <td>0</td>\n",
              "      <td>0</td>\n",
              "      <td>0</td>\n",
              "      <td>0</td>\n",
              "      <td>0</td>\n",
              "      <td>...</td>\n",
              "      <td>0</td>\n",
              "      <td>0</td>\n",
              "      <td>0</td>\n",
              "      <td>0</td>\n",
              "      <td>0</td>\n",
              "      <td>0</td>\n",
              "      <td>0</td>\n",
              "      <td>1</td>\n",
              "      <td>0</td>\n",
              "      <td>smurf</td>\n",
              "    </tr>\n",
              "    <tr>\n",
              "      <th>252487</th>\n",
              "      <td>0</td>\n",
              "      <td>1032</td>\n",
              "      <td>0</td>\n",
              "      <td>0</td>\n",
              "      <td>0</td>\n",
              "      <td>0</td>\n",
              "      <td>0</td>\n",
              "      <td>0</td>\n",
              "      <td>0</td>\n",
              "      <td>0</td>\n",
              "      <td>...</td>\n",
              "      <td>0</td>\n",
              "      <td>0</td>\n",
              "      <td>0</td>\n",
              "      <td>0</td>\n",
              "      <td>0</td>\n",
              "      <td>0</td>\n",
              "      <td>0</td>\n",
              "      <td>1</td>\n",
              "      <td>0</td>\n",
              "      <td>smurf</td>\n",
              "    </tr>\n",
              "    <tr>\n",
              "      <th>252488</th>\n",
              "      <td>0</td>\n",
              "      <td>1032</td>\n",
              "      <td>0</td>\n",
              "      <td>0</td>\n",
              "      <td>0</td>\n",
              "      <td>0</td>\n",
              "      <td>0</td>\n",
              "      <td>0</td>\n",
              "      <td>0</td>\n",
              "      <td>0</td>\n",
              "      <td>...</td>\n",
              "      <td>0</td>\n",
              "      <td>0</td>\n",
              "      <td>0</td>\n",
              "      <td>0</td>\n",
              "      <td>0</td>\n",
              "      <td>0</td>\n",
              "      <td>0</td>\n",
              "      <td>1</td>\n",
              "      <td>0</td>\n",
              "      <td>smurf</td>\n",
              "    </tr>\n",
              "  </tbody>\n",
              "</table>\n",
              "<p>252489 rows × 122 columns</p>\n",
              "</div>"
            ],
            "text/plain": [
              "        duration  src_bytes  dst_bytes  wrong_fragment  urgent  hot  \\\n",
              "0              0      54540       8314               0       0    2   \n",
              "1              0         28          0               3       0    0   \n",
              "2              9      54540       8314               0       0    2   \n",
              "3              1      54540       8314               0       0    2   \n",
              "4              0       1480          0               1       0    0   \n",
              "...          ...        ...        ...             ...     ...  ...   \n",
              "252484         0       1032          0               0       0    0   \n",
              "252485         0        520          0               0       0    0   \n",
              "252486         0       1032          0               0       0    0   \n",
              "252487         0       1032          0               0       0    0   \n",
              "252488         0       1032          0               0       0    0   \n",
              "\n",
              "        num_failed_logins  num_compromised  num_root  num_file_creations  ...  \\\n",
              "0                       0                1         0                   0  ...   \n",
              "1                       0                0         0                   0  ...   \n",
              "2                       0                1         0                   0  ...   \n",
              "3                       0                1         0                   0  ...   \n",
              "4                       0                0         0                   0  ...   \n",
              "...                   ...              ...       ...                 ...  ...   \n",
              "252484                  0                0         0                   0  ...   \n",
              "252485                  0                0         0                   0  ...   \n",
              "252486                  0                0         0                   0  ...   \n",
              "252487                  0                0         0                   0  ...   \n",
              "252488                  0                0         0                   0  ...   \n",
              "\n",
              "        flag_RSTO  flag_RSTOS0  flag_RSTR  flag_S0  flag_S1  flag_S2  flag_S3  \\\n",
              "0               0            0          0        0        0        0        0   \n",
              "1               0            0          0        0        0        0        0   \n",
              "2               0            0          0        0        0        0        0   \n",
              "3               0            0          0        0        0        0        0   \n",
              "4               0            0          0        0        0        0        0   \n",
              "...           ...          ...        ...      ...      ...      ...      ...   \n",
              "252484          0            0          0        0        0        0        0   \n",
              "252485          0            0          0        0        0        0        0   \n",
              "252486          0            0          0        0        0        0        0   \n",
              "252487          0            0          0        0        0        0        0   \n",
              "252488          0            0          0        0        0        0        0   \n",
              "\n",
              "        flag_SF  flag_SH            type_of_attack  \n",
              "0             1        0  Denial of Service Attack  \n",
              "1             1        0  Denial of Service Attack  \n",
              "2             1        0  Denial of Service Attack  \n",
              "3             1        0  Denial of Service Attack  \n",
              "4             1        0  Denial of Service Attack  \n",
              "...         ...      ...                       ...  \n",
              "252484        1        0                     smurf  \n",
              "252485        1        0                     smurf  \n",
              "252486        1        0                     smurf  \n",
              "252487        1        0                     smurf  \n",
              "252488        1        0                     smurf  \n",
              "\n",
              "[252489 rows x 122 columns]"
            ]
          },
          "execution_count": 199,
          "metadata": {},
          "output_type": "execute_result"
        }
      ],
      "source": [
        "# show data intrusion_df_resampled\n",
        "intrusion_df_resampled"
      ]
    },
    {
      "cell_type": "code",
      "execution_count": 200,
      "metadata": {},
      "outputs": [],
      "source": [
        "# save data intrusion_df_resampled to csv\n",
        "intrusion_df_resampled.to_csv('D:\\DAC-2023\\Dataset\\intrusion_df_resampled.csv', index=False)"
      ]
    },
    {
      "cell_type": "markdown",
      "metadata": {},
      "source": [
        "## 1.7 SMOOTEENN Method"
      ]
    },
    {
      "cell_type": "code",
      "execution_count": 124,
      "metadata": {},
      "outputs": [],
      "source": [
        "df_imp_cat = pd.read_csv('D:\\DAC-2023\\Dataset\\df_imp_cat.csv')"
      ]
    },
    {
      "cell_type": "code",
      "execution_count": 125,
      "metadata": {},
      "outputs": [
        {
          "data": {
            "text/plain": [
              "type_of_attack\n",
              "normal                      54.068569\n",
              "neptune                     33.994714\n",
              "ipsweep                      2.675827\n",
              "portsweep                    2.329047\n",
              "satan                        2.278436\n",
              "smurf                        2.022569\n",
              "Denial of Service Attack     1.494901\n",
              "nmap                         1.135938\n",
              "Name: proportion, dtype: float64"
            ]
          },
          "execution_count": 125,
          "metadata": {},
          "output_type": "execute_result"
        }
      ],
      "source": [
        "# percentage based on 'type_of_attack' in df\n",
        "df_imp_cat['type_of_attack'].value_counts(normalize=True) * 100"
      ]
    },
    {
      "cell_type": "code",
      "execution_count": 126,
      "metadata": {},
      "outputs": [],
      "source": [
        "# Menghitung jumlah baris dengan type_of_attack 'normal'\n",
        "normal_count = (df_imp_cat['type_of_attack'] == 'normal').sum()\n",
        "\n",
        "# Menghitung jumlah baris dengan type_of_attack lainnya (attack)\n",
        "attack_count = (df_imp_cat['type_of_attack'] != 'normal').sum()"
      ]
    },
    {
      "cell_type": "code",
      "execution_count": 128,
      "metadata": {},
      "outputs": [
        {
          "data": {
            "application/vnd.plotly.v1+json": {
              "config": {
                "plotlyServerURL": "https://plot.ly"
              },
              "data": [
                {
                  "branchvalues": "total",
                  "domain": {
                    "x": [
                      0,
                      1
                    ],
                    "y": [
                      0,
                      1
                    ]
                  },
                  "hovertemplate": "labels=%{label}<br>count=%{value}<br>parent=%{parent}<br>id=%{id}<extra></extra>",
                  "ids": [
                    "attack",
                    "normal"
                  ],
                  "labels": [
                    "attack",
                    "normal"
                  ],
                  "name": "",
                  "parents": [
                    "",
                    ""
                  ],
                  "textinfo": "value+percent parent",
                  "type": "treemap",
                  "values": [
                    49007,
                    57689
                  ]
                }
              ],
              "layout": {
                "legend": {
                  "tracegroupgap": 0
                },
                "template": {
                  "data": {
                    "bar": [
                      {
                        "error_x": {
                          "color": "#2a3f5f"
                        },
                        "error_y": {
                          "color": "#2a3f5f"
                        },
                        "marker": {
                          "line": {
                            "color": "#E5ECF6",
                            "width": 0.5
                          },
                          "pattern": {
                            "fillmode": "overlay",
                            "size": 10,
                            "solidity": 0.2
                          }
                        },
                        "type": "bar"
                      }
                    ],
                    "barpolar": [
                      {
                        "marker": {
                          "line": {
                            "color": "#E5ECF6",
                            "width": 0.5
                          },
                          "pattern": {
                            "fillmode": "overlay",
                            "size": 10,
                            "solidity": 0.2
                          }
                        },
                        "type": "barpolar"
                      }
                    ],
                    "carpet": [
                      {
                        "aaxis": {
                          "endlinecolor": "#2a3f5f",
                          "gridcolor": "white",
                          "linecolor": "white",
                          "minorgridcolor": "white",
                          "startlinecolor": "#2a3f5f"
                        },
                        "baxis": {
                          "endlinecolor": "#2a3f5f",
                          "gridcolor": "white",
                          "linecolor": "white",
                          "minorgridcolor": "white",
                          "startlinecolor": "#2a3f5f"
                        },
                        "type": "carpet"
                      }
                    ],
                    "choropleth": [
                      {
                        "colorbar": {
                          "outlinewidth": 0,
                          "ticks": ""
                        },
                        "type": "choropleth"
                      }
                    ],
                    "contour": [
                      {
                        "colorbar": {
                          "outlinewidth": 0,
                          "ticks": ""
                        },
                        "colorscale": [
                          [
                            0,
                            "#0d0887"
                          ],
                          [
                            0.1111111111111111,
                            "#46039f"
                          ],
                          [
                            0.2222222222222222,
                            "#7201a8"
                          ],
                          [
                            0.3333333333333333,
                            "#9c179e"
                          ],
                          [
                            0.4444444444444444,
                            "#bd3786"
                          ],
                          [
                            0.5555555555555556,
                            "#d8576b"
                          ],
                          [
                            0.6666666666666666,
                            "#ed7953"
                          ],
                          [
                            0.7777777777777778,
                            "#fb9f3a"
                          ],
                          [
                            0.8888888888888888,
                            "#fdca26"
                          ],
                          [
                            1,
                            "#f0f921"
                          ]
                        ],
                        "type": "contour"
                      }
                    ],
                    "contourcarpet": [
                      {
                        "colorbar": {
                          "outlinewidth": 0,
                          "ticks": ""
                        },
                        "type": "contourcarpet"
                      }
                    ],
                    "heatmap": [
                      {
                        "colorbar": {
                          "outlinewidth": 0,
                          "ticks": ""
                        },
                        "colorscale": [
                          [
                            0,
                            "#0d0887"
                          ],
                          [
                            0.1111111111111111,
                            "#46039f"
                          ],
                          [
                            0.2222222222222222,
                            "#7201a8"
                          ],
                          [
                            0.3333333333333333,
                            "#9c179e"
                          ],
                          [
                            0.4444444444444444,
                            "#bd3786"
                          ],
                          [
                            0.5555555555555556,
                            "#d8576b"
                          ],
                          [
                            0.6666666666666666,
                            "#ed7953"
                          ],
                          [
                            0.7777777777777778,
                            "#fb9f3a"
                          ],
                          [
                            0.8888888888888888,
                            "#fdca26"
                          ],
                          [
                            1,
                            "#f0f921"
                          ]
                        ],
                        "type": "heatmap"
                      }
                    ],
                    "heatmapgl": [
                      {
                        "colorbar": {
                          "outlinewidth": 0,
                          "ticks": ""
                        },
                        "colorscale": [
                          [
                            0,
                            "#0d0887"
                          ],
                          [
                            0.1111111111111111,
                            "#46039f"
                          ],
                          [
                            0.2222222222222222,
                            "#7201a8"
                          ],
                          [
                            0.3333333333333333,
                            "#9c179e"
                          ],
                          [
                            0.4444444444444444,
                            "#bd3786"
                          ],
                          [
                            0.5555555555555556,
                            "#d8576b"
                          ],
                          [
                            0.6666666666666666,
                            "#ed7953"
                          ],
                          [
                            0.7777777777777778,
                            "#fb9f3a"
                          ],
                          [
                            0.8888888888888888,
                            "#fdca26"
                          ],
                          [
                            1,
                            "#f0f921"
                          ]
                        ],
                        "type": "heatmapgl"
                      }
                    ],
                    "histogram": [
                      {
                        "marker": {
                          "pattern": {
                            "fillmode": "overlay",
                            "size": 10,
                            "solidity": 0.2
                          }
                        },
                        "type": "histogram"
                      }
                    ],
                    "histogram2d": [
                      {
                        "colorbar": {
                          "outlinewidth": 0,
                          "ticks": ""
                        },
                        "colorscale": [
                          [
                            0,
                            "#0d0887"
                          ],
                          [
                            0.1111111111111111,
                            "#46039f"
                          ],
                          [
                            0.2222222222222222,
                            "#7201a8"
                          ],
                          [
                            0.3333333333333333,
                            "#9c179e"
                          ],
                          [
                            0.4444444444444444,
                            "#bd3786"
                          ],
                          [
                            0.5555555555555556,
                            "#d8576b"
                          ],
                          [
                            0.6666666666666666,
                            "#ed7953"
                          ],
                          [
                            0.7777777777777778,
                            "#fb9f3a"
                          ],
                          [
                            0.8888888888888888,
                            "#fdca26"
                          ],
                          [
                            1,
                            "#f0f921"
                          ]
                        ],
                        "type": "histogram2d"
                      }
                    ],
                    "histogram2dcontour": [
                      {
                        "colorbar": {
                          "outlinewidth": 0,
                          "ticks": ""
                        },
                        "colorscale": [
                          [
                            0,
                            "#0d0887"
                          ],
                          [
                            0.1111111111111111,
                            "#46039f"
                          ],
                          [
                            0.2222222222222222,
                            "#7201a8"
                          ],
                          [
                            0.3333333333333333,
                            "#9c179e"
                          ],
                          [
                            0.4444444444444444,
                            "#bd3786"
                          ],
                          [
                            0.5555555555555556,
                            "#d8576b"
                          ],
                          [
                            0.6666666666666666,
                            "#ed7953"
                          ],
                          [
                            0.7777777777777778,
                            "#fb9f3a"
                          ],
                          [
                            0.8888888888888888,
                            "#fdca26"
                          ],
                          [
                            1,
                            "#f0f921"
                          ]
                        ],
                        "type": "histogram2dcontour"
                      }
                    ],
                    "mesh3d": [
                      {
                        "colorbar": {
                          "outlinewidth": 0,
                          "ticks": ""
                        },
                        "type": "mesh3d"
                      }
                    ],
                    "parcoords": [
                      {
                        "line": {
                          "colorbar": {
                            "outlinewidth": 0,
                            "ticks": ""
                          }
                        },
                        "type": "parcoords"
                      }
                    ],
                    "pie": [
                      {
                        "automargin": true,
                        "type": "pie"
                      }
                    ],
                    "scatter": [
                      {
                        "fillpattern": {
                          "fillmode": "overlay",
                          "size": 10,
                          "solidity": 0.2
                        },
                        "type": "scatter"
                      }
                    ],
                    "scatter3d": [
                      {
                        "line": {
                          "colorbar": {
                            "outlinewidth": 0,
                            "ticks": ""
                          }
                        },
                        "marker": {
                          "colorbar": {
                            "outlinewidth": 0,
                            "ticks": ""
                          }
                        },
                        "type": "scatter3d"
                      }
                    ],
                    "scattercarpet": [
                      {
                        "marker": {
                          "colorbar": {
                            "outlinewidth": 0,
                            "ticks": ""
                          }
                        },
                        "type": "scattercarpet"
                      }
                    ],
                    "scattergeo": [
                      {
                        "marker": {
                          "colorbar": {
                            "outlinewidth": 0,
                            "ticks": ""
                          }
                        },
                        "type": "scattergeo"
                      }
                    ],
                    "scattergl": [
                      {
                        "marker": {
                          "colorbar": {
                            "outlinewidth": 0,
                            "ticks": ""
                          }
                        },
                        "type": "scattergl"
                      }
                    ],
                    "scattermapbox": [
                      {
                        "marker": {
                          "colorbar": {
                            "outlinewidth": 0,
                            "ticks": ""
                          }
                        },
                        "type": "scattermapbox"
                      }
                    ],
                    "scatterpolar": [
                      {
                        "marker": {
                          "colorbar": {
                            "outlinewidth": 0,
                            "ticks": ""
                          }
                        },
                        "type": "scatterpolar"
                      }
                    ],
                    "scatterpolargl": [
                      {
                        "marker": {
                          "colorbar": {
                            "outlinewidth": 0,
                            "ticks": ""
                          }
                        },
                        "type": "scatterpolargl"
                      }
                    ],
                    "scatterternary": [
                      {
                        "marker": {
                          "colorbar": {
                            "outlinewidth": 0,
                            "ticks": ""
                          }
                        },
                        "type": "scatterternary"
                      }
                    ],
                    "surface": [
                      {
                        "colorbar": {
                          "outlinewidth": 0,
                          "ticks": ""
                        },
                        "colorscale": [
                          [
                            0,
                            "#0d0887"
                          ],
                          [
                            0.1111111111111111,
                            "#46039f"
                          ],
                          [
                            0.2222222222222222,
                            "#7201a8"
                          ],
                          [
                            0.3333333333333333,
                            "#9c179e"
                          ],
                          [
                            0.4444444444444444,
                            "#bd3786"
                          ],
                          [
                            0.5555555555555556,
                            "#d8576b"
                          ],
                          [
                            0.6666666666666666,
                            "#ed7953"
                          ],
                          [
                            0.7777777777777778,
                            "#fb9f3a"
                          ],
                          [
                            0.8888888888888888,
                            "#fdca26"
                          ],
                          [
                            1,
                            "#f0f921"
                          ]
                        ],
                        "type": "surface"
                      }
                    ],
                    "table": [
                      {
                        "cells": {
                          "fill": {
                            "color": "#EBF0F8"
                          },
                          "line": {
                            "color": "white"
                          }
                        },
                        "header": {
                          "fill": {
                            "color": "#C8D4E3"
                          },
                          "line": {
                            "color": "white"
                          }
                        },
                        "type": "table"
                      }
                    ]
                  },
                  "layout": {
                    "annotationdefaults": {
                      "arrowcolor": "#2a3f5f",
                      "arrowhead": 0,
                      "arrowwidth": 1
                    },
                    "autotypenumbers": "strict",
                    "coloraxis": {
                      "colorbar": {
                        "outlinewidth": 0,
                        "ticks": ""
                      }
                    },
                    "colorscale": {
                      "diverging": [
                        [
                          0,
                          "#8e0152"
                        ],
                        [
                          0.1,
                          "#c51b7d"
                        ],
                        [
                          0.2,
                          "#de77ae"
                        ],
                        [
                          0.3,
                          "#f1b6da"
                        ],
                        [
                          0.4,
                          "#fde0ef"
                        ],
                        [
                          0.5,
                          "#f7f7f7"
                        ],
                        [
                          0.6,
                          "#e6f5d0"
                        ],
                        [
                          0.7,
                          "#b8e186"
                        ],
                        [
                          0.8,
                          "#7fbc41"
                        ],
                        [
                          0.9,
                          "#4d9221"
                        ],
                        [
                          1,
                          "#276419"
                        ]
                      ],
                      "sequential": [
                        [
                          0,
                          "#0d0887"
                        ],
                        [
                          0.1111111111111111,
                          "#46039f"
                        ],
                        [
                          0.2222222222222222,
                          "#7201a8"
                        ],
                        [
                          0.3333333333333333,
                          "#9c179e"
                        ],
                        [
                          0.4444444444444444,
                          "#bd3786"
                        ],
                        [
                          0.5555555555555556,
                          "#d8576b"
                        ],
                        [
                          0.6666666666666666,
                          "#ed7953"
                        ],
                        [
                          0.7777777777777778,
                          "#fb9f3a"
                        ],
                        [
                          0.8888888888888888,
                          "#fdca26"
                        ],
                        [
                          1,
                          "#f0f921"
                        ]
                      ],
                      "sequentialminus": [
                        [
                          0,
                          "#0d0887"
                        ],
                        [
                          0.1111111111111111,
                          "#46039f"
                        ],
                        [
                          0.2222222222222222,
                          "#7201a8"
                        ],
                        [
                          0.3333333333333333,
                          "#9c179e"
                        ],
                        [
                          0.4444444444444444,
                          "#bd3786"
                        ],
                        [
                          0.5555555555555556,
                          "#d8576b"
                        ],
                        [
                          0.6666666666666666,
                          "#ed7953"
                        ],
                        [
                          0.7777777777777778,
                          "#fb9f3a"
                        ],
                        [
                          0.8888888888888888,
                          "#fdca26"
                        ],
                        [
                          1,
                          "#f0f921"
                        ]
                      ]
                    },
                    "colorway": [
                      "#636efa",
                      "#EF553B",
                      "#00cc96",
                      "#ab63fa",
                      "#FFA15A",
                      "#19d3f3",
                      "#FF6692",
                      "#B6E880",
                      "#FF97FF",
                      "#FECB52"
                    ],
                    "font": {
                      "color": "#2a3f5f"
                    },
                    "geo": {
                      "bgcolor": "white",
                      "lakecolor": "white",
                      "landcolor": "#E5ECF6",
                      "showlakes": true,
                      "showland": true,
                      "subunitcolor": "white"
                    },
                    "hoverlabel": {
                      "align": "left"
                    },
                    "hovermode": "closest",
                    "mapbox": {
                      "style": "light"
                    },
                    "paper_bgcolor": "white",
                    "plot_bgcolor": "#E5ECF6",
                    "polar": {
                      "angularaxis": {
                        "gridcolor": "white",
                        "linecolor": "white",
                        "ticks": ""
                      },
                      "bgcolor": "#E5ECF6",
                      "radialaxis": {
                        "gridcolor": "white",
                        "linecolor": "white",
                        "ticks": ""
                      }
                    },
                    "scene": {
                      "xaxis": {
                        "backgroundcolor": "#E5ECF6",
                        "gridcolor": "white",
                        "gridwidth": 2,
                        "linecolor": "white",
                        "showbackground": true,
                        "ticks": "",
                        "zerolinecolor": "white"
                      },
                      "yaxis": {
                        "backgroundcolor": "#E5ECF6",
                        "gridcolor": "white",
                        "gridwidth": 2,
                        "linecolor": "white",
                        "showbackground": true,
                        "ticks": "",
                        "zerolinecolor": "white"
                      },
                      "zaxis": {
                        "backgroundcolor": "#E5ECF6",
                        "gridcolor": "white",
                        "gridwidth": 2,
                        "linecolor": "white",
                        "showbackground": true,
                        "ticks": "",
                        "zerolinecolor": "white"
                      }
                    },
                    "shapedefaults": {
                      "line": {
                        "color": "#2a3f5f"
                      }
                    },
                    "ternary": {
                      "aaxis": {
                        "gridcolor": "white",
                        "linecolor": "white",
                        "ticks": ""
                      },
                      "baxis": {
                        "gridcolor": "white",
                        "linecolor": "white",
                        "ticks": ""
                      },
                      "bgcolor": "#E5ECF6",
                      "caxis": {
                        "gridcolor": "white",
                        "linecolor": "white",
                        "ticks": ""
                      }
                    },
                    "title": {
                      "x": 0.05
                    },
                    "xaxis": {
                      "automargin": true,
                      "gridcolor": "white",
                      "linecolor": "white",
                      "ticks": "",
                      "title": {
                        "standoff": 15
                      },
                      "zerolinecolor": "white",
                      "zerolinewidth": 2
                    },
                    "yaxis": {
                      "automargin": true,
                      "gridcolor": "white",
                      "linecolor": "white",
                      "ticks": "",
                      "title": {
                        "standoff": 15
                      },
                      "zerolinecolor": "white",
                      "zerolinewidth": 2
                    }
                  }
                },
                "title": {
                  "text": "Normal & Intrusion"
                }
              }
            }
          },
          "metadata": {},
          "output_type": "display_data"
        }
      ],
      "source": [
        "# Sample data (replace this with your actual data)\n",
        "data = {'type_of_attack': ['normal', 'attack'],\n",
        "        'count': [normal_count, attack_count]}\n",
        "\n",
        "df_count = pd.DataFrame(data)\n",
        "\n",
        "fig = px.treemap(df_count, \n",
        "                 path=['type_of_attack'], \n",
        "                 values='count', \n",
        "                 title='Normal & Intrusion')\n",
        "\n",
        "fig.update_traces(textinfo='value+percent parent')\n",
        "fig.show()"
      ]
    },
    {
      "cell_type": "code",
      "execution_count": null,
      "metadata": {},
      "outputs": [],
      "source": [
        "# count based on 'type_of_attack'\n",
        "count = df_imp_cat[df_imp_cat['type_of_attack'] != 'normal']['type_of_attack'].value_counts()"
      ]
    },
    {
      "cell_type": "code",
      "execution_count": null,
      "metadata": {},
      "outputs": [],
      "source": [
        "# Filter data frame to exclude 'normal'\n",
        "filtered_df = df_imp_cat[df_imp_cat['type_of_attack'] != 'normal']\n",
        "\n",
        "# Count the occurrences of each type of attack\n",
        "count = filtered_df['type_of_attack'].value_counts().reset_index()\n",
        "count.columns = ['type_of_attack', 'count']\n",
        "\n",
        "# Create the TreeMap\n",
        "fig = px.treemap(data_frame=count, path=['type_of_attack'], values='count')\n",
        "\n",
        "# Show the plot\n",
        "fig.show()"
      ]
    },
    {
      "cell_type": "code",
      "execution_count": null,
      "metadata": {},
      "outputs": [],
      "source": [
        "# Membuat DataFrame yang hanya berisi baris dengan 'type_of_attack' sama dengan 'normal'\n",
        "normal_df = df_imp_cat[df_imp_cat['type_of_attack'] == 'normal']"
      ]
    },
    {
      "cell_type": "code",
      "execution_count": null,
      "metadata": {},
      "outputs": [],
      "source": [
        "# intrusion_df \n",
        "# Membuat DataFrame yang hanya berisi baris dengan 'type_of_attack' != 'normal'\n",
        "intrusion_df = df_imp_cat[df_imp_cat['type_of_attack'] != 'normal']"
      ]
    },
    {
      "cell_type": "code",
      "execution_count": null,
      "metadata": {},
      "outputs": [],
      "source": [
        "X = intrusion_df.iloc[:, :-1]\n",
        "y = intrusion_df['type_of_attack']\n",
        "\n",
        "smote_enn = SMOTEENN(sampling_strategy='auto', random_state=42)\n",
        "\n",
        "X_resampled, y_resampled = smote_enn.fit_resample(X, y)"
      ]
    },
    {
      "cell_type": "code",
      "execution_count": null,
      "metadata": {},
      "outputs": [],
      "source": [
        "\n",
        "# Combine X_resampled and y_resampled into a DataFrame\n",
        "intrusion_df_resampled = pd.DataFrame(X_resampled, columns=X.columns)\n",
        "intrusion_df_resampled['type_of_attack'] = y_resampled\n",
        "\n",
        "# Filter data frame to exclude 'normal'\n",
        "filtered_df = intrusion_df_resampled[intrusion_df_resampled['type_of_attack'] != 'normal']\n",
        "\n",
        "# Count the occurrences of each type of attack\n",
        "count = filtered_df['type_of_attack'].value_counts().reset_index()\n",
        "count.columns = ['type_of_attack', 'count']\n",
        "\n",
        "# Create the TreeMap\n",
        "fig = px.treemap(data_frame=count, path=['type_of_attack'], values='count')\n",
        "\n",
        "# Show the plot\n",
        "fig.show()\n"
      ]
    },
    {
      "cell_type": "code",
      "execution_count": null,
      "metadata": {},
      "outputs": [],
      "source": []
    },
    {
      "cell_type": "markdown",
      "metadata": {},
      "source": [
        "## Ga paham serius"
      ]
    },
    {
      "cell_type": "code",
      "execution_count": null,
      "metadata": {},
      "outputs": [],
      "source": []
    },
    {
      "cell_type": "markdown",
      "metadata": {},
      "source": [
        "# 2 Uji Asumsi Klasik"
      ]
    },
    {
      "cell_type": "code",
      "execution_count": null,
      "metadata": {},
      "outputs": [],
      "source": [
        "# uji normalitas\n",
        "from scipy.stats import shapiro\n",
        "from scipy.stats import normaltest\n",
        "from scipy.stats import anderson\n",
        "from scipy.stats import kstest"
      ]
    },
    {
      "cell_type": "code",
      "execution_count": null,
      "metadata": {},
      "outputs": [],
      "source": [
        "# normality test\n",
        "def normality_test(data):\n",
        "    stat, p = shapiro(data)\n",
        "    print('Statistics=%.3f, p=%.3f' % (stat, p))\n",
        "    alpha = 0.05\n",
        "    if p > alpha:\n",
        "        print('Sample looks Gaussian (fail to reject H0)')\n",
        "    else:\n",
        "        print('Sample does not look Gaussian (reject H0)')"
      ]
    },
    {
      "cell_type": "code",
      "execution_count": null,
      "metadata": {},
      "outputs": [],
      "source": [
        "normality_test(df_imp)"
      ]
    },
    {
      "cell_type": "code",
      "execution_count": null,
      "metadata": {},
      "outputs": [],
      "source": [
        "# uji multikolinearitas\n",
        "from statsmodels.stats.outliers_influence import variance_inflation_factor\n",
        "\n",
        "# VIF dataframe\n",
        "vif_data = pd.DataFrame()\n",
        "vif_data[\"feature\"] = df_imp.columns\n",
        "\n",
        "# calculating VIF for each feature\n",
        "vif_data[\"VIF\"] = [variance_inflation_factor(df_imp.values, i)\n",
        "                          for i in range(len(df_imp.columns))]\n",
        "\n",
        "print(vif_data)"
      ]
    },
    {
      "cell_type": "markdown",
      "metadata": {},
      "source": [
        "# 2 Exploratory Data Analysis (EDA)"
      ]
    },
    {
      "cell_type": "markdown",
      "metadata": {},
      "source": [
        "## Statistika umum"
      ]
    },
    {
      "cell_type": "code",
      "execution_count": null,
      "metadata": {},
      "outputs": [],
      "source": [
        "ProfileReport(df_imp)"
      ]
    },
    {
      "cell_type": "markdown",
      "metadata": {},
      "source": [
        "## duration, src, dst"
      ]
    },
    {
      "cell_type": "code",
      "execution_count": null,
      "metadata": {},
      "outputs": [],
      "source": [
        "def filtered_by_type_of_attack(df, values):\n",
        "    filtered = df[df['type_of_attack'] == values]\n",
        "    return filtered"
      ]
    },
    {
      "cell_type": "code",
      "execution_count": null,
      "metadata": {},
      "outputs": [],
      "source": [
        "dos = filtered_by_type_of_attack(df, 'Denial of Service Attack')"
      ]
    },
    {
      "cell_type": "code",
      "execution_count": null,
      "metadata": {},
      "outputs": [],
      "source": [
        "dsd = dos[['duration', 'src_bytes', 'dst_bytes', 'type_of_attack']]\n",
        "dsd.head()"
      ]
    },
    {
      "cell_type": "code",
      "execution_count": null,
      "metadata": {},
      "outputs": [],
      "source": [
        "dsd.src_bytes.unique()"
      ]
    },
    {
      "cell_type": "code",
      "execution_count": null,
      "metadata": {},
      "outputs": [],
      "source": [
        "dsd.dst_bytes.unique()"
      ]
    },
    {
      "cell_type": "code",
      "execution_count": null,
      "metadata": {},
      "outputs": [],
      "source": [
        "# Create a boolean mask to identify rows with NaN values\n",
        "nan_mask = dsd.isna().any(axis=1)\n",
        "\n",
        "# Filter the DataFrame to show only rows with NaN values\n",
        "rows_with_nan = dsd[nan_mask]\n",
        "\n",
        "# Print the rows with NaNs\n",
        "rows_with_nan"
      ]
    },
    {
      "cell_type": "code",
      "execution_count": null,
      "metadata": {},
      "outputs": [],
      "source": [
        "# show index 52524\n",
        "dsd.loc[52524]"
      ]
    },
    {
      "cell_type": "code",
      "execution_count": null,
      "metadata": {},
      "outputs": [],
      "source": [
        "dsd.info()"
      ]
    },
    {
      "cell_type": "code",
      "execution_count": null,
      "metadata": {},
      "outputs": [],
      "source": [
        "dsd.duration.unique()"
      ]
    },
    {
      "cell_type": "code",
      "execution_count": null,
      "metadata": {},
      "outputs": [],
      "source": [
        "dsd.info()"
      ]
    },
    {
      "cell_type": "code",
      "execution_count": null,
      "metadata": {},
      "outputs": [],
      "source": [
        "# Replace the '*'s with NaNs\n",
        "dsd = dsd.replace('*', np.nan)"
      ]
    },
    {
      "cell_type": "code",
      "execution_count": null,
      "metadata": {},
      "outputs": [],
      "source": [
        "# Mengganti nilai \"*\" dengan  pada kolom 'duration', 'src_bytes', dan 'dst_bytes'\n",
        "dsd['duration'] = dsd['duration'].replace('*', np.nan)\n",
        "dsd['src_bytes'] = dsd['src_bytes'].replace('*', np.nan)\n",
        "dsd['dst_bytes'] = dsd['dst_bytes'].replace('*', np.nan)"
      ]
    },
    {
      "cell_type": "code",
      "execution_count": null,
      "metadata": {},
      "outputs": [],
      "source": [
        "# Mengubah tipe data menjadi numerik\n",
        "dsd['duration'] = pd.to_numeric(dsd['duration'])\n",
        "dsd['src_bytes'] = pd.to_numeric(dsd['src_bytes'])\n",
        "dsd['dst_bytes'] = pd.to_numeric(dsd['dst_bytes'])"
      ]
    },
    {
      "cell_type": "code",
      "execution_count": null,
      "metadata": {},
      "outputs": [],
      "source": [
        "# merubah tipe data menjadi integer\n",
        "dsd['duration'] = dsd['duration'].astype(int)\n",
        "dsd['src_bytes'] = dsd['src_bytes'].astype(int)\n",
        "dsd['dst_bytes'] = dsd['dst_bytes'].astype(int)"
      ]
    },
    {
      "cell_type": "code",
      "execution_count": null,
      "metadata": {},
      "outputs": [],
      "source": [
        "# Menampilkan informasi DataFrame\n",
        "dsd.info()"
      ]
    },
    {
      "cell_type": "code",
      "execution_count": null,
      "metadata": {},
      "outputs": [],
      "source": [
        "dsd.src_bytes.unique()"
      ]
    },
    {
      "cell_type": "code",
      "execution_count": null,
      "metadata": {},
      "outputs": [],
      "source": [
        "# spline interpolation\n",
        "dsd['duration'].interpolate(method= 'linear')\n",
        "dsd['src_bytes'].interpolate(method='linear')\n",
        "dsd['dst_bytes'].interpolate(method='linear')"
      ]
    },
    {
      "cell_type": "code",
      "execution_count": null,
      "metadata": {},
      "outputs": [],
      "source": [
        "# fill missing value with spline interpolation\n",
        "dsd['duration'].interpolate(inplace=True)\n",
        "dsd['src_bytes'].interpolate(inplace=True)\n",
        "dsd['dst_bytes'].interpolate(inplace=True)"
      ]
    },
    {
      "cell_type": "code",
      "execution_count": null,
      "metadata": {},
      "outputs": [],
      "source": [
        "# check missing value\n",
        "dsd.isnull().sum()"
      ]
    },
    {
      "cell_type": "code",
      "execution_count": null,
      "metadata": {},
      "outputs": [],
      "source": [
        "dsd.describe()"
      ]
    },
    {
      "cell_type": "code",
      "execution_count": null,
      "metadata": {},
      "outputs": [],
      "source": [
        "# boxplot\n",
        "sns.boxplot(data=dsd)"
      ]
    },
    {
      "cell_type": "code",
      "execution_count": null,
      "metadata": {},
      "outputs": [],
      "source": []
    },
    {
      "cell_type": "markdown",
      "metadata": {},
      "source": [
        "## Checking data type"
      ]
    },
    {
      "cell_type": "code",
      "execution_count": null,
      "metadata": {},
      "outputs": [],
      "source": [
        "# is_host_login type and unique value\n",
        "unique_values_host_login = df['is_host_login'].unique()\n",
        "print(unique_values_host_login)\n",
        "\n",
        "# change to data type bool"
      ]
    },
    {
      "cell_type": "code",
      "execution_count": null,
      "metadata": {},
      "outputs": [],
      "source": [
        "# is_guest_login type and unique value\n",
        "unique_values_guest_login = df['is_guest_login'].unique()\n",
        "print(unique_values_guest_login)\n",
        "\n",
        "# change to data type bool"
      ]
    },
    {
      "cell_type": "code",
      "execution_count": null,
      "metadata": {},
      "outputs": [],
      "source": [
        "# count data type and unique values\n",
        "unique_values_count = df['count'].unique()\n",
        "unique_values_count\n",
        "\n",
        "# change to data type to int"
      ]
    },
    {
      "cell_type": "code",
      "execution_count": null,
      "metadata": {},
      "outputs": [],
      "source": [
        "# srv_count data type and unique values\n",
        "unique_values_srv_count = df['srv_count'].unique()\n",
        "unique_values_srv_count\n",
        "\n",
        "# change to data type to int"
      ]
    },
    {
      "cell_type": "code",
      "execution_count": null,
      "metadata": {},
      "outputs": [],
      "source": [
        "# serror_rate data type and unique values\n",
        "unique_values_serror_rate = df['serror_rate'].unique()\n",
        "unique_values_serror_rate\n",
        "\n",
        "# change to data type to float"
      ]
    },
    {
      "cell_type": "code",
      "execution_count": null,
      "metadata": {},
      "outputs": [],
      "source": [
        "# srv_serror_rate data type and unique values\n",
        "unique_values_srv_serror_rate = df['srv_serror_rate'].unique()\n",
        "unique_values_srv_serror_rate\n",
        "\n",
        "# change to data type to float"
      ]
    },
    {
      "cell_type": "code",
      "execution_count": null,
      "metadata": {},
      "outputs": [],
      "source": [
        "# rerror_rate data type and unique values\n",
        "unique_values_rerror_rate = df['rerror_rate'].unique()\n",
        "unique_values_rerror_rate\n",
        "\n",
        "# change to data type to float"
      ]
    },
    {
      "cell_type": "code",
      "execution_count": null,
      "metadata": {},
      "outputs": [],
      "source": [
        "# srv_rerror_rate data type and unique values\n",
        "unique_values_srv_rerror_rate = df['srv_rerror_rate'].unique()\n",
        "unique_values_srv_rerror_rate\n",
        "\n",
        "# change to data type to float"
      ]
    },
    {
      "cell_type": "code",
      "execution_count": null,
      "metadata": {},
      "outputs": [],
      "source": [
        "# same_srv_rate data type and unique values\n",
        "unique_values_same_srv_rate = df['same_srv_rate'].unique()\n",
        "unique_values_same_srv_rate\n",
        "\n",
        "# change to data type to float"
      ]
    },
    {
      "cell_type": "code",
      "execution_count": null,
      "metadata": {},
      "outputs": [],
      "source": [
        "# diff_srv_rate data type and unique values\n",
        "unique_values_diff_srv_rate = df['diff_srv_rate'].unique()\n",
        "unique_values_diff_srv_rate\n",
        "\n",
        "# change to data type to float"
      ]
    },
    {
      "cell_type": "code",
      "execution_count": null,
      "metadata": {},
      "outputs": [],
      "source": [
        "# srv_diff_host_rate data type and unique values\n",
        "unique_values_srv_diff_host_rate = df['srv_diff_host_rate'].unique()\n",
        "unique_values_srv_diff_host_rate\n",
        "\n",
        "# change to data type to float"
      ]
    },
    {
      "cell_type": "code",
      "execution_count": null,
      "metadata": {},
      "outputs": [],
      "source": [
        "# dst_host_count data type and unique values\n",
        "unique_values_dst_host_count = df['dst_host_count'].unique()\n",
        "unique_values_dst_host_count\n",
        "\n",
        "# change to data type to int"
      ]
    },
    {
      "cell_type": "code",
      "execution_count": null,
      "metadata": {},
      "outputs": [],
      "source": [
        "# dst_host_srv_count data type and unique values\n",
        "unique_values_dst_host_srv_count = df['dst_host_srv_count'].unique()\n",
        "unique_values_dst_host_srv_count\n",
        "\n",
        "# change to data type to int"
      ]
    },
    {
      "cell_type": "code",
      "execution_count": null,
      "metadata": {},
      "outputs": [],
      "source": [
        "# dst_host_same_srv_rate data type and unique values\n",
        "unique_values_dst_host_same_srv_rate = df['dst_host_same_srv_rate'].unique()\n",
        "unique_values_dst_host_same_srv_rate\n",
        "\n",
        "# change to data type to float"
      ]
    },
    {
      "cell_type": "code",
      "execution_count": null,
      "metadata": {},
      "outputs": [],
      "source": [
        "# dst_host_diff_srv_rate data type and unique values\n",
        "unique_values_dst_host_diff_srv_rate = df['dst_host_diff_srv_rate'].unique()\n",
        "unique_values_dst_host_diff_srv_rate\n",
        "\n",
        "# change to data type to float"
      ]
    },
    {
      "cell_type": "code",
      "execution_count": null,
      "metadata": {},
      "outputs": [],
      "source": [
        "# dst_host_same_src_port_rate data type and unique values\n",
        "unique_values_dst_host_same_src_port_rate = df['dst_host_same_src_port_rate'].unique()\n",
        "unique_values_dst_host_same_src_port_rate\n",
        "\n",
        "# change to data type to float"
      ]
    },
    {
      "cell_type": "code",
      "execution_count": null,
      "metadata": {},
      "outputs": [],
      "source": [
        "# dst_host_srv_diff_host_rate data type and unique values\n",
        "unique_values_dst_host_srv_diff_host_rate = df['dst_host_srv_diff_host_rate'].unique()\n",
        "unique_values_dst_host_srv_diff_host_rate\n",
        "\n",
        "# change to data type to float"
      ]
    },
    {
      "cell_type": "code",
      "execution_count": null,
      "metadata": {},
      "outputs": [],
      "source": [
        "# dst_host_serror_rate data type and unique values\n",
        "unique_values_dst_host_serror_rate = df['dst_host_serror_rate'].unique()\n",
        "unique_values_dst_host_serror_rate\n",
        "\n",
        "# change to data type to float"
      ]
    },
    {
      "cell_type": "code",
      "execution_count": null,
      "metadata": {},
      "outputs": [],
      "source": [
        "# dst_host_srv_serror_rate data type and unique values\n",
        "unique_values_dst_host_srv_serror_rate = df['dst_host_srv_serror_rate'].unique()\n",
        "unique_values_dst_host_srv_serror_rate\n",
        "\n",
        "# change to data type to float"
      ]
    },
    {
      "cell_type": "code",
      "execution_count": null,
      "metadata": {},
      "outputs": [],
      "source": [
        "# dst_host_rerror_rate data type and unique values\n",
        "unique_values_dst_host_rerror_rate = df['dst_host_rerror_rate'].unique()\n",
        "unique_values_dst_host_rerror_rate\n",
        "\n",
        "# change to data type to float"
      ]
    },
    {
      "cell_type": "code",
      "execution_count": null,
      "metadata": {},
      "outputs": [],
      "source": [
        "# dst_host_srv_rerror_rate data type and unique values\n",
        "unique_values_dst_host_srv_rerror_rate = df['dst_host_srv_rerror_rate'].unique()\n",
        "unique_values_dst_host_srv_rerror_rate\n",
        "\n",
        "# change to data type to float"
      ]
    },
    {
      "cell_type": "code",
      "execution_count": null,
      "metadata": {},
      "outputs": [],
      "source": [
        "# type_of_attack data type and unique values\n",
        "unique_values_type_of_attack = df['type_of_attack'].unique()\n",
        "unique_values_type_of_attack\n",
        "\n",
        "# change to data type to category"
      ]
    },
    {
      "cell_type": "markdown",
      "metadata": {},
      "source": [
        "## Nilai 999 dan 99999"
      ]
    },
    {
      "cell_type": "code",
      "execution_count": null,
      "metadata": {},
      "outputs": [],
      "source": [
        "# Mencari kolom-kolom yang mengandung nilai 999 atau 99999\n",
        "kolom_dengan_999 = df.columns[df.eq(999).any()]\n",
        "kolom_dengan_99999 = df.columns[df.eq(99999).any()]\n",
        "\n",
        "# Menampilkan hasil\n",
        "print(\"Kolom dengan nilai 999:\")\n",
        "print(kolom_dengan_999)\n",
        "\n",
        "print(\"\\nKolom dengan nilai 99999:\")\n",
        "print(kolom_dengan_99999)\n"
      ]
    },
    {
      "cell_type": "code",
      "execution_count": null,
      "metadata": {},
      "outputs": [],
      "source": [
        "# Mencari kolom-kolom yang mengandung nilai 999 atau 99999\n",
        "kolom_dengan_999 = df_p.columns[df_p.eq(999).any()]\n"
      ]
    },
    {
      "cell_type": "markdown",
      "metadata": {},
      "source": [
        "## Perbandingan Persentase type of attack"
      ]
    },
    {
      "cell_type": "code",
      "execution_count": null,
      "metadata": {},
      "outputs": [],
      "source": [
        "persentase = df.type_of_attack.value_counts(normalize=True) * 100\n",
        "persentase"
      ]
    },
    {
      "cell_type": "code",
      "execution_count": null,
      "metadata": {},
      "outputs": [],
      "source": [
        "# Mengelompokkan hasil berdasarkan aturan yang diberikan\n",
        "grouped_results = {\n",
        "    \"Normal\": persentase[\"normal\"],\n",
        "    \"DoS\": persentase[\"Denial of Service Attack\"] + persentase[\"neptune\"] + persentase[\"smurf\"],\n",
        "    \"Probe\": persentase[\"nmap\"] + persentase[\"portsweep\"] + persentase[\"satan\"] + persentase[\"ipsweep\"]\n",
        "}\n",
        "\n",
        "# Menampilkan hasil\n",
        "for group, percentage in grouped_results.items():\n",
        "    print(f\"{group}: {percentage:.2f}%\")\n"
      ]
    },
    {
      "cell_type": "code",
      "execution_count": null,
      "metadata": {},
      "outputs": [],
      "source": [
        "# Menghitung jumlah Normal, DoS, dan Probe\n",
        "jumlah_normal = df[df['type_of_attack'] == 'normal'].shape[0]\n",
        "jumlah_dos = df[df['type_of_attack'].isin(['Denial of Service Attack', 'neptune', 'smurf'])].shape[0]\n",
        "jumlah_probe = df[df['type_of_attack'].isin(['nmap', 'portsweep', 'satan', 'ipsweep'])].shape[0]\n",
        "\n",
        "# Menampilkan hasil\n",
        "print(f\"Jumlah Normal: {jumlah_normal}\")\n",
        "print(f\"Jumlah DoS: {jumlah_dos}\")\n",
        "print(f\"Jumlah Probe: {jumlah_probe}\")\n"
      ]
    },
    {
      "cell_type": "markdown",
      "metadata": {},
      "source": [
        "## NaN and * value"
      ]
    },
    {
      "cell_type": "code",
      "execution_count": null,
      "metadata": {},
      "outputs": [],
      "source": [
        "\n",
        "# Menghitung jumlah nilai NaN dalam DataFrame\n",
        "jumlah_nan = df.isna().sum().sum()\n",
        "\n",
        "# Menghitung jumlah nilai \"*\" dalam DataFrame\n",
        "jumlah_asterisk = (df == '*').sum().sum()\n",
        "\n",
        "# Menghitung total elemen dalam DataFrame\n",
        "total_elemen = df.size\n",
        "\n",
        "# Menghitung persentase NaN dan \"*\" dalam DataFrame\n",
        "persentase_nan = (jumlah_nan / total_elemen) * 100\n",
        "persentase_asterisk = (jumlah_asterisk / total_elemen) * 100\n",
        "\n",
        "# Menampilkan hasil\n",
        "print(f\"Jumlah NaN: {jumlah_nan}\")\n",
        "print(f\"Jumlah '*': {jumlah_asterisk}\")\n",
        "print(f\"Persentase NaN: {persentase_nan:.2f}%\")\n",
        "print(f\"Persentase '*': {persentase_asterisk:.2f}%\")"
      ]
    },
    {
      "cell_type": "markdown",
      "metadata": {},
      "source": [
        "## Fitur terkait keamanan"
      ]
    },
    {
      "cell_type": "code",
      "execution_count": null,
      "metadata": {},
      "outputs": [],
      "source": [
        "k_secure = df[['num_failed_logins', 'num_access_files', \n",
        "                 'num_compromised', 'root_shell', \n",
        "                 'su_attempted', 'type_of_attack']]\n",
        "k_secure.head()"
      ]
    },
    {
      "cell_type": "code",
      "execution_count": null,
      "metadata": {},
      "outputs": [],
      "source": [
        "k_secure.info()"
      ]
    },
    {
      "cell_type": "code",
      "execution_count": null,
      "metadata": {},
      "outputs": [],
      "source": [
        "k_secure_sorted1 = k_secure.sort_values(by='num_failed_logins', ascending=False)\n",
        "k_secure_sorted1.head()"
      ]
    },
    {
      "cell_type": "code",
      "execution_count": null,
      "metadata": {},
      "outputs": [],
      "source": [
        "k_secure_sorted2 = k_secure.sort_values(by='num_access_files', ascending=False)\n",
        "k_secure_sorted2.head()"
      ]
    },
    {
      "cell_type": "code",
      "execution_count": null,
      "metadata": {},
      "outputs": [],
      "source": [
        "k_secure_sorted3 = k_secure.sort_values(by='num_compromised', ascending=False)\n",
        "k_secure_sorted3.head()"
      ]
    },
    {
      "cell_type": "code",
      "execution_count": null,
      "metadata": {},
      "outputs": [],
      "source": [
        "k_secure_sorted4 = k_secure.sort_values(by='root_shell', ascending=False)\n",
        "k_secure_sorted4.head()"
      ]
    },
    {
      "cell_type": "code",
      "execution_count": null,
      "metadata": {},
      "outputs": [],
      "source": [
        "k_secure_sorted5 = k_secure.sort_values(by='su_attempted', ascending=False)\n",
        "k_secure_sorted5.head()"
      ]
    },
    {
      "cell_type": "code",
      "execution_count": null,
      "metadata": {},
      "outputs": [],
      "source": [
        "k_secure.describe()"
      ]
    },
    {
      "cell_type": "code",
      "execution_count": null,
      "metadata": {},
      "outputs": [],
      "source": [
        "k_secure['num_failed_logins'].value_counts().sort_index()"
      ]
    },
    {
      "cell_type": "markdown",
      "metadata": {},
      "source": [
        "## FItur Terkait koneksi"
      ]
    },
    {
      "cell_type": "code",
      "execution_count": null,
      "metadata": {},
      "outputs": [],
      "source": [
        "c_conection = df[['duration', 'protocol_type', 'service', 'flag', 'src_bytes', 'dst_bytes', 'type_of_attack']]\n",
        "c_conection.head()"
      ]
    },
    {
      "cell_type": "code",
      "execution_count": null,
      "metadata": {},
      "outputs": [],
      "source": [
        "c_conection.describe()"
      ]
    },
    {
      "cell_type": "code",
      "execution_count": null,
      "metadata": {},
      "outputs": [],
      "source": [
        "c_conection.info()"
      ]
    },
    {
      "cell_type": "markdown",
      "metadata": {},
      "source": [
        "## Fitur Error Rate"
      ]
    },
    {
      "cell_type": "code",
      "execution_count": null,
      "metadata": {},
      "outputs": [],
      "source": [
        "r_error = df[['serror_rate', 'rerror_rate', \n",
        "                'srv_serror_rate', 'srv_rerror_rate', \n",
        "                'dst_host_serror_rate', 'dst_host_rerror_rate', 'type_of_attack']]\n",
        "r_error.head() "
      ]
    },
    {
      "cell_type": "code",
      "execution_count": null,
      "metadata": {},
      "outputs": [],
      "source": [
        "r_error.describe()"
      ]
    },
    {
      "cell_type": "code",
      "execution_count": null,
      "metadata": {},
      "outputs": [],
      "source": [
        "r_error.info()"
      ]
    },
    {
      "cell_type": "code",
      "execution_count": null,
      "metadata": {},
      "outputs": [],
      "source": [
        "r_error_g = r_error.groupby(by='type_of_attack')['serror_rate'].count().sort_values(ascending=False)\n",
        "r_error_g"
      ]
    },
    {
      "cell_type": "markdown",
      "metadata": {},
      "source": [
        "## Fitur Terkait Host (BERANTAKAN)\n",
        "\n",
        "Clean wkwk hapus \"*\" value dan hapus \"99999\" value"
      ]
    },
    {
      "cell_type": "code",
      "execution_count": null,
      "metadata": {},
      "outputs": [],
      "source": [
        "host = df[['dst_host_count', 'dst_host_srv_count', \n",
        "             'dst_host_same_srv_rate', 'dst_host_diff_srv_rate', 'type_of_attack']]\n",
        "host.head()"
      ]
    },
    {
      "cell_type": "code",
      "execution_count": null,
      "metadata": {},
      "outputs": [],
      "source": [
        "# Membuat bubble plot hanya untuk data yang memiliki dst_host_count dan dst_host_srv_count == '99999'\n",
        "filtered_host = host[(host['dst_host_srv_count'] == '99999')]"
      ]
    },
    {
      "cell_type": "code",
      "execution_count": null,
      "metadata": {},
      "outputs": [],
      "source": [
        "filtered_host"
      ]
    },
    {
      "cell_type": "code",
      "execution_count": null,
      "metadata": {},
      "outputs": [],
      "source": [
        "fgrup = filtered_host.groupby(by='type_of_attack')['dst_host_srv_count'].count().sort_values(ascending=False)\n",
        "fgrup"
      ]
    },
    {
      "cell_type": "code",
      "execution_count": null,
      "metadata": {},
      "outputs": [],
      "source": [
        "host.head().sort_values(by='dst_host_count', ascending=False)"
      ]
    },
    {
      "cell_type": "code",
      "execution_count": null,
      "metadata": {},
      "outputs": [],
      "source": [
        "host.head().sort_values(by='dst_host_srv_count', ascending=False)  "
      ]
    },
    {
      "cell_type": "code",
      "execution_count": null,
      "metadata": {},
      "outputs": [],
      "source": [
        "host.head().sort_values(by='dst_host_same_srv_rate', ascending=False)"
      ]
    },
    {
      "cell_type": "code",
      "execution_count": null,
      "metadata": {},
      "outputs": [],
      "source": [
        "host.sort_values(by='type_of_attack', ascending=True)"
      ]
    },
    {
      "cell_type": "code",
      "execution_count": null,
      "metadata": {},
      "outputs": [],
      "source": [
        "host.info()"
      ]
    },
    {
      "cell_type": "code",
      "execution_count": null,
      "metadata": {},
      "outputs": [],
      "source": [
        "host['dst_host_count'] = pd.to_numeric(host['dst_host_count'])\n",
        "host['dst_host_srv_count'] = pd.to_numeric(host['dst_host_srv_count'])"
      ]
    },
    {
      "cell_type": "code",
      "execution_count": null,
      "metadata": {},
      "outputs": [],
      "source": [
        "host.describe()"
      ]
    },
    {
      "cell_type": "code",
      "execution_count": null,
      "metadata": {},
      "outputs": [],
      "source": [
        "invalid_values = host[host['dst_host_count'] == '*'].count()\n",
        "invalid_values"
      ]
    },
    {
      "cell_type": "code",
      "execution_count": null,
      "metadata": {},
      "outputs": [],
      "source": [
        "invalid_values2 = host[host['dst_host_count'] == '99999'].count()\n",
        "invalid_values2"
      ]
    },
    {
      "cell_type": "code",
      "execution_count": null,
      "metadata": {},
      "outputs": [],
      "source": [
        "host = host[host['dst_host_count'] != '*']\n",
        "host = host[host['dst_host_srv_count'] != '*']"
      ]
    },
    {
      "cell_type": "code",
      "execution_count": null,
      "metadata": {},
      "outputs": [],
      "source": [
        "host = host[host['dst_host_count'] != '99999']\n",
        "host = host[host['dst_host_srv_count'] != '99999']"
      ]
    },
    {
      "cell_type": "code",
      "execution_count": null,
      "metadata": {},
      "outputs": [],
      "source": [
        "host = host[host['type_of_attack'] != 'Normal']"
      ]
    },
    {
      "cell_type": "code",
      "execution_count": null,
      "metadata": {},
      "outputs": [],
      "source": [
        "login = df[['dst_host_same_src_port_rate', 'dst_host_srv_diff_host_rate',]]\n",
        "login.head()"
      ]
    },
    {
      "cell_type": "code",
      "execution_count": null,
      "metadata": {},
      "outputs": [],
      "source": [
        "# Hitung Q1, Q3, dan IQR\n",
        "Q1 = host['dst_host_count'].quantile(0.25)\n",
        "Q3 = host['dst_host_count'].quantile(0.75)\n",
        "IQR = Q3 - Q1\n",
        "\n",
        "# Hitung Batas Atas dan Batas Bawah\n",
        "Upper_Bound = Q3 + 1.5 * IQR\n",
        "Lower_Bound = Q1 - 1.5 * IQR\n",
        "\n",
        "# Mengecualikan data outlier\n",
        "filtered_host = host[(host['dst_host_count'] >= Lower_Bound) & (host['dst_host_count'] <= Upper_Bound)]"
      ]
    },
    {
      "cell_type": "code",
      "execution_count": null,
      "metadata": {},
      "outputs": [],
      "source": [
        "# Membuat sebuah figure dengan subplots\n",
        "fig, axes = plt.subplots(nrows=2, ncols=2, figsize=(12, 8))\n",
        "\n",
        "# Membuat violin plot untuk kolom dst_host_count\n",
        "sns.violinplot(x='dst_host_count', data=host, ax=axes[0, 0])\n",
        "axes[0, 0].set_title('Violin Plot - dst_host_count')\n",
        "\n",
        "# Membuat violin plot untuk kolom dst_host_srv_count\n",
        "sns.violinplot(x='dst_host_srv_count', data=host, ax=axes[0, 1])\n",
        "axes[0, 1].set_title('Violin Plot - dst_host_srv_count')\n",
        "\n",
        "# Membuat violin plot untuk kolom dst_host_same_srv_rate\n",
        "sns.violinplot(x='dst_host_same_srv_rate', data=host, ax=axes[1, 0])\n",
        "axes[1, 0].set_title('Violin Plot - dst_host_same_srv_rate')\n",
        "\n",
        "# Membuat violin plot untuk kolom dst_host_diff_srv_rate\n",
        "sns.violinplot(x='dst_host_diff_srv_rate', data=host, ax=axes[1, 1])\n",
        "axes[1, 1].set_title('Violin Plot - dst_host_diff_srv_rate')\n",
        "\n",
        "# Mengatur tata letak subplot\n",
        "plt.tight_layout()\n",
        "\n",
        "# Menampilkan plot\n",
        "plt.show()\n"
      ]
    },
    {
      "cell_type": "code",
      "execution_count": null,
      "metadata": {},
      "outputs": [],
      "source": [
        "# Konversi kolom dst_host_count menjadi tipe data numerik\n",
        "host['dst_host_count'] = pd.to_numeric(host['dst_host_count'], errors='coerce')\n",
        "\n",
        "# Membuat sebuah figure\n",
        "plt.figure(figsize=(8, 6))\n",
        "\n",
        "# Membuat boxplot untuk kolom dst_host_count\n",
        "sns.boxplot(x='dst_host_count', data=host)\n",
        "plt.title('Box Plot - dst_host_count')\n",
        "\n",
        "# Menampilkan plot\n",
        "plt.show()"
      ]
    },
    {
      "cell_type": "code",
      "execution_count": null,
      "metadata": {},
      "outputs": [],
      "source": [
        "# Membuat sebuah figure\n",
        "plt.figure(figsize=(8, 6))\n",
        "\n",
        "# Membuat scatter plot untuk kolom dst_host_count dan dst_host_srv_count\n",
        "sns.scatterplot(x='dst_host_count', y='dst_host_srv_count', data=host)\n",
        "plt.title('Scatter Plot - dst_host_count vs dst_host_srv_count')\n",
        "\n",
        "# Menampilkan plot\n",
        "plt.show()"
      ]
    },
    {
      "cell_type": "code",
      "execution_count": null,
      "metadata": {},
      "outputs": [],
      "source": [
        "# Membuat bubble plot\n",
        "plt.figure(figsize=(10, 8))\n",
        "sns.scatterplot(x='dst_host_count', y='dst_host_srv_count', size='dst_host_same_srv_rate', data=host, sizes=(50, 500))\n",
        "plt.title('Bubble Plot - dst_host_count vs dst_host_srv_count')\n",
        "plt.xlabel('dst_host_count')\n",
        "plt.ylabel('dst_host_srv_count')\n",
        "\n",
        "# Menampilkan plot\n",
        "plt.show()"
      ]
    },
    {
      "cell_type": "markdown",
      "metadata": {},
      "source": [
        "## Fitur Terkait Distribusi Port"
      ]
    },
    {
      "cell_type": "code",
      "execution_count": null,
      "metadata": {},
      "outputs": [],
      "source": [
        "port = df[['dst_host_same_src_port_rate', 'dst_host_srv_diff_host_rate', 'service', 'type_of_attack']]"
      ]
    },
    {
      "cell_type": "code",
      "execution_count": null,
      "metadata": {},
      "outputs": [],
      "source": [
        "port.head()"
      ]
    },
    {
      "cell_type": "code",
      "execution_count": null,
      "metadata": {},
      "outputs": [],
      "source": [
        "port.info()"
      ]
    },
    {
      "cell_type": "code",
      "execution_count": null,
      "metadata": {},
      "outputs": [],
      "source": [
        "# grupby dst_host_srv_diff_host_rate\n",
        "p_g1 = port.groupby(by='dst_host_srv_diff_host_rate')['dst_host_same_src_port_rate'].count().sort_values(ascending=False)\n",
        "p_g1"
      ]
    },
    {
      "cell_type": "code",
      "execution_count": null,
      "metadata": {},
      "outputs": [],
      "source": [
        "# grupby dst_host_srv_diff_host_rate\n",
        "p_g2 = port.groupby(by='dst_host_srv_diff_host_rate')['dst_host_srv_diff_host_rate'].count().sort_values(ascending=False)\n",
        "p_g2"
      ]
    },
    {
      "cell_type": "code",
      "execution_count": null,
      "metadata": {},
      "outputs": [],
      "source": [
        "# menghapus nilai * pada kolom dst_host_same_src_port_rate dan dst_host_srv_diff_host_rate\n",
        "port = port[port['dst_host_same_src_port_rate'] != '*']\n",
        "port = port[port['dst_host_srv_diff_host_rate'] != '*']"
      ]
    },
    {
      "cell_type": "code",
      "execution_count": null,
      "metadata": {},
      "outputs": [],
      "source": [
        "# menghapus nilai 99999 pada kolom dst_host_same_src_port_rate dan dst_host_srv_diff_host_rate\n",
        "port = port[port['dst_host_same_src_port_rate'] != '99999']\n",
        "port = port[port['dst_host_srv_diff_host_rate'] != '99999']"
      ]
    },
    {
      "cell_type": "code",
      "execution_count": null,
      "metadata": {},
      "outputs": [],
      "source": [
        "# merubah tipe data dst_host_same_src_port_rate dan dst_host_srv_diff_host_rate menjadi numerik\n",
        "port['dst_host_same_src_port_rate'] = pd.to_numeric(port['dst_host_same_src_port_rate'])\n",
        "port['dst_host_srv_diff_host_rate'] = pd.to_numeric(port['dst_host_srv_diff_host_rate'])"
      ]
    },
    {
      "cell_type": "code",
      "execution_count": null,
      "metadata": {},
      "outputs": [],
      "source": [
        "port_x = port"
      ]
    },
    {
      "cell_type": "code",
      "execution_count": null,
      "metadata": {},
      "outputs": [],
      "source": [
        "# Specify a list of markers for each unique type_of_attack\n",
        "markers = [\"o\", \"s\", \"D\", \"X\", \"P\", \"*\", \"^\", \"v\"]\n",
        "\n",
        "# Create a pair plot\n",
        "sns.pairplot(port_x, hue='type_of_attack', diag_kind='kde', markers=markers, palette='Set1')\n",
        "plt.suptitle('Pair Plot - Persebaran dan Korelasi Data', y=1.02)\n",
        "\n",
        "# Show the plot\n",
        "plt.show()"
      ]
    },
    {
      "cell_type": "markdown",
      "metadata": {},
      "source": [
        "# *Danger Area*"
      ]
    },
    {
      "cell_type": "markdown",
      "metadata": {},
      "source": [
        "## X ***Kategori Variabel***"
      ]
    },
    {
      "cell_type": "code",
      "execution_count": null,
      "metadata": {},
      "outputs": [],
      "source": [
        "k_vars = df[['protocol_type', 'service', 'flag']]\n",
        "k_vars.head()"
      ]
    },
    {
      "cell_type": "markdown",
      "metadata": {},
      "source": [
        "## **Looking at Type of Attack**"
      ]
    },
    {
      "cell_type": "markdown",
      "metadata": {
        "id": "urzlsUsYYgyK"
      },
      "source": [
        "label column : type of attack"
      ]
    },
    {
      "cell_type": "code",
      "execution_count": null,
      "metadata": {
        "colab": {
          "base_uri": "https://localhost:8080/"
        },
        "id": "bigY5YH1kXNg",
        "outputId": "4650b08d-5035-4c89-8115-75e5a68a1d57"
      },
      "outputs": [],
      "source": [
        "attack_type = dfrain['type_of_attack'].unique()\n",
        "\n",
        "print(\"Nilai yang ada dalam kolom x3:\")\n",
        "print(attack_type)"
      ]
    },
    {
      "cell_type": "markdown",
      "metadata": {
        "id": "1WjcxLiftgPg"
      },
      "source": [
        "TYPE OF ATTACK :\n",
        "- nmap\n",
        "- neptune\n",
        "- normal\n",
        "- Denial of Service Attack\n",
        "- portsweep\n",
        "- satan\n",
        "- ipsweep\n",
        "- smurf"
      ]
    },
    {
      "cell_type": "markdown",
      "metadata": {},
      "source": [
        "Normal\n",
        "\n",
        "DOS ATTACK: \n",
        "neptune -> working to SYN flood Denial of Service on one or more ports, Neptune attack make the memory resources busy by sending TCP packet requesting to initiate a TCP session,\n",
        "DOS ->  makes the computer system to be hectic by sending many ping, \n",
        "Smurf -> Denial of Service ICMP echo reply flood. \n",
        "\n",
        "PROBE: nmap, portsweep, satan, ipsweep, "
      ]
    },
    {
      "cell_type": "markdown",
      "metadata": {},
      "source": [
        "This paper focused on Neptune and Smurf types of attack. Those attack characterized as DoS Attack. Dos Attack makes the computer system to be hectic by sending many ping. Neptune attack working to SYN flood Denial of Service on one or more ports while the function of Smurf attack is Denial of Service ICMP echo reply flood. Neptune attack make the memory resources busy by sending TCP packet requesting to initiate a TCP session.  After many TCP packet sent, the computer system finally runs out of memory resources. Smurf attack is the popular type of attack sending ICMP echo request packet to middle device. ICMP packets have source address name as victim’s IP address and middle device address as destination address. DoS attack reduces the performance of server by overflowing the ICMP traffic as discussed above in the Neptune and Smurf attack. So, detection of DoS attack is very significant to protect the system. "
      ]
    },
    {
      "cell_type": "markdown",
      "metadata": {},
      "source": [
        "KOLOM KUNCI:\n",
        "- protocol type\n",
        "- port\n",
        "- "
      ]
    },
    {
      "cell_type": "code",
      "execution_count": null,
      "metadata": {},
      "outputs": [],
      "source": [
        "def filtered_by_type_of_attack(df, values):\n",
        "    filtered = df[df['type_of_attack'] == values]\n",
        "    return filtered"
      ]
    },
    {
      "cell_type": "code",
      "execution_count": null,
      "metadata": {},
      "outputs": [],
      "source": [
        "filtered_by_type_of_attack(dfrain, 'nmap')"
      ]
    },
    {
      "cell_type": "code",
      "execution_count": null,
      "metadata": {},
      "outputs": [],
      "source": [
        "ProfileReport(filtered_by_type_of_attack(dfrain, 'nmap'))"
      ]
    },
    {
      "cell_type": "code",
      "execution_count": null,
      "metadata": {},
      "outputs": [],
      "source": [
        "filtered_by_type_of_attack(dfrain, 'neptune')"
      ]
    },
    {
      "cell_type": "code",
      "execution_count": null,
      "metadata": {},
      "outputs": [],
      "source": [
        "filtered_by_type_of_attack(dfrain, 'normal')"
      ]
    },
    {
      "cell_type": "code",
      "execution_count": null,
      "metadata": {},
      "outputs": [],
      "source": [
        "filtered_by_type_of_attack(dfrain, 'Denial of Service Attack')"
      ]
    },
    {
      "cell_type": "code",
      "execution_count": null,
      "metadata": {},
      "outputs": [],
      "source": [
        "filtered_by_type_of_attack(dfrain, 'portsweep')"
      ]
    },
    {
      "cell_type": "code",
      "execution_count": null,
      "metadata": {},
      "outputs": [],
      "source": [
        "filtered_by_type_of_attack(dfrain, 'satan')"
      ]
    },
    {
      "cell_type": "code",
      "execution_count": null,
      "metadata": {},
      "outputs": [],
      "source": [
        "filtered_by_type_of_attack(dfrain, 'ipsweep')"
      ]
    },
    {
      "cell_type": "code",
      "execution_count": null,
      "metadata": {},
      "outputs": [],
      "source": [
        "filtered_by_type_of_attack(dfrain, 'smurf')"
      ]
    },
    {
      "cell_type": "markdown",
      "metadata": {
        "id": "HJRQm5pMvI7t"
      },
      "source": [
        "## **Duplicate Data**"
      ]
    },
    {
      "cell_type": "code",
      "execution_count": null,
      "metadata": {
        "id": "Db4ET8b-tfdn"
      },
      "outputs": [],
      "source": [
        "duplicates = dfrain[df.duplicated()]"
      ]
    },
    {
      "cell_type": "code",
      "execution_count": null,
      "metadata": {
        "colab": {
          "base_uri": "https://localhost:8080/",
          "height": 443
        },
        "id": "8nkK3YBVu_6T",
        "outputId": "39474846-bef6-4722-dd4b-85f6efe00a5b"
      },
      "outputs": [],
      "source": [
        "duplicates"
      ]
    },
    {
      "cell_type": "markdown",
      "metadata": {
        "id": "tgpOaA0AvMmB"
      },
      "source": [
        "is it really duplicate? harus nemu variabel kunci yg menentukan itu row duplicate or no. atau jangan jangan nilai duplicate ini bisa jadi kunci network attack (karena patternnya sama)"
      ]
    },
    {
      "cell_type": "code",
      "execution_count": null,
      "metadata": {
        "id": "Gzm5LjDtvZQP"
      },
      "outputs": [],
      "source": []
    }
  ],
  "metadata": {
    "colab": {
      "provenance": []
    },
    "kernelspec": {
      "display_name": "Python 3",
      "name": "python3"
    },
    "language_info": {
      "codemirror_mode": {
        "name": "ipython",
        "version": 3
      },
      "file_extension": ".py",
      "mimetype": "text/x-python",
      "name": "python",
      "nbconvert_exporter": "python",
      "pygments_lexer": "ipython3",
      "version": "3.9.0"
    },
    "widgets": {
      "application/vnd.jupyter.widget-state+json": {
        "025701a70abe4f91a5aaba66ac0633cb": {
          "model_module": "@jupyter-widgets/controls",
          "model_module_version": "1.5.0",
          "model_name": "DescriptionStyleModel",
          "state": {
            "_model_module": "@jupyter-widgets/controls",
            "_model_module_version": "1.5.0",
            "_model_name": "DescriptionStyleModel",
            "_view_count": null,
            "_view_module": "@jupyter-widgets/base",
            "_view_module_version": "1.2.0",
            "_view_name": "StyleView",
            "description_width": ""
          }
        },
        "0b8290ab44e04e1eb529cef9e303feaa": {
          "model_module": "@jupyter-widgets/base",
          "model_module_version": "1.2.0",
          "model_name": "LayoutModel",
          "state": {
            "_model_module": "@jupyter-widgets/base",
            "_model_module_version": "1.2.0",
            "_model_name": "LayoutModel",
            "_view_count": null,
            "_view_module": "@jupyter-widgets/base",
            "_view_module_version": "1.2.0",
            "_view_name": "LayoutView",
            "align_content": null,
            "align_items": null,
            "align_self": null,
            "border": null,
            "bottom": null,
            "display": null,
            "flex": null,
            "flex_flow": null,
            "grid_area": null,
            "grid_auto_columns": null,
            "grid_auto_flow": null,
            "grid_auto_rows": null,
            "grid_column": null,
            "grid_gap": null,
            "grid_row": null,
            "grid_template_areas": null,
            "grid_template_columns": null,
            "grid_template_rows": null,
            "height": null,
            "justify_content": null,
            "justify_items": null,
            "left": null,
            "margin": null,
            "max_height": null,
            "max_width": null,
            "min_height": null,
            "min_width": null,
            "object_fit": null,
            "object_position": null,
            "order": null,
            "overflow": null,
            "overflow_x": null,
            "overflow_y": null,
            "padding": null,
            "right": null,
            "top": null,
            "visibility": null,
            "width": null
          }
        },
        "1a53c4b30cdf4fa3a2646068032fc387": {
          "model_module": "@jupyter-widgets/base",
          "model_module_version": "1.2.0",
          "model_name": "LayoutModel",
          "state": {
            "_model_module": "@jupyter-widgets/base",
            "_model_module_version": "1.2.0",
            "_model_name": "LayoutModel",
            "_view_count": null,
            "_view_module": "@jupyter-widgets/base",
            "_view_module_version": "1.2.0",
            "_view_name": "LayoutView",
            "align_content": null,
            "align_items": null,
            "align_self": null,
            "border": null,
            "bottom": null,
            "display": null,
            "flex": null,
            "flex_flow": null,
            "grid_area": null,
            "grid_auto_columns": null,
            "grid_auto_flow": null,
            "grid_auto_rows": null,
            "grid_column": null,
            "grid_gap": null,
            "grid_row": null,
            "grid_template_areas": null,
            "grid_template_columns": null,
            "grid_template_rows": null,
            "height": null,
            "justify_content": null,
            "justify_items": null,
            "left": null,
            "margin": null,
            "max_height": null,
            "max_width": null,
            "min_height": null,
            "min_width": null,
            "object_fit": null,
            "object_position": null,
            "order": null,
            "overflow": null,
            "overflow_x": null,
            "overflow_y": null,
            "padding": null,
            "right": null,
            "top": null,
            "visibility": null,
            "width": null
          }
        },
        "1d38a7a3fe2c49a68029903a3ebcfb75": {
          "model_module": "@jupyter-widgets/controls",
          "model_module_version": "1.5.0",
          "model_name": "DescriptionStyleModel",
          "state": {
            "_model_module": "@jupyter-widgets/controls",
            "_model_module_version": "1.5.0",
            "_model_name": "DescriptionStyleModel",
            "_view_count": null,
            "_view_module": "@jupyter-widgets/base",
            "_view_module_version": "1.2.0",
            "_view_name": "StyleView",
            "description_width": ""
          }
        },
        "1ecb0903502d4aec9f2fd889814281c4": {
          "model_module": "@jupyter-widgets/controls",
          "model_module_version": "1.5.0",
          "model_name": "HTMLModel",
          "state": {
            "_dom_classes": [],
            "_model_module": "@jupyter-widgets/controls",
            "_model_module_version": "1.5.0",
            "_model_name": "HTMLModel",
            "_view_count": null,
            "_view_module": "@jupyter-widgets/controls",
            "_view_module_version": "1.5.0",
            "_view_name": "HTMLView",
            "description": "",
            "description_tooltip": null,
            "layout": "IPY_MODEL_0b8290ab44e04e1eb529cef9e303feaa",
            "placeholder": "​",
            "style": "IPY_MODEL_1d38a7a3fe2c49a68029903a3ebcfb75",
            "value": " 1/1 [00:02&lt;00:00,  2.14s/it]"
          }
        },
        "1f9ab2d505f047139e74e2df20c78d32": {
          "model_module": "@jupyter-widgets/controls",
          "model_module_version": "1.5.0",
          "model_name": "HTMLModel",
          "state": {
            "_dom_classes": [],
            "_model_module": "@jupyter-widgets/controls",
            "_model_module_version": "1.5.0",
            "_model_name": "HTMLModel",
            "_view_count": null,
            "_view_module": "@jupyter-widgets/controls",
            "_view_module_version": "1.5.0",
            "_view_name": "HTMLView",
            "description": "",
            "description_tooltip": null,
            "layout": "IPY_MODEL_f030d05a6cce42bda653bf8e3406e15b",
            "placeholder": "​",
            "style": "IPY_MODEL_433d1529688a4f43a1000f4630e4a5dd",
            "value": "Render HTML: 100%"
          }
        },
        "249689861bcb483abdd4e2974929dfbc": {
          "model_module": "@jupyter-widgets/base",
          "model_module_version": "1.2.0",
          "model_name": "LayoutModel",
          "state": {
            "_model_module": "@jupyter-widgets/base",
            "_model_module_version": "1.2.0",
            "_model_name": "LayoutModel",
            "_view_count": null,
            "_view_module": "@jupyter-widgets/base",
            "_view_module_version": "1.2.0",
            "_view_name": "LayoutView",
            "align_content": null,
            "align_items": null,
            "align_self": null,
            "border": null,
            "bottom": null,
            "display": null,
            "flex": null,
            "flex_flow": null,
            "grid_area": null,
            "grid_auto_columns": null,
            "grid_auto_flow": null,
            "grid_auto_rows": null,
            "grid_column": null,
            "grid_gap": null,
            "grid_row": null,
            "grid_template_areas": null,
            "grid_template_columns": null,
            "grid_template_rows": null,
            "height": null,
            "justify_content": null,
            "justify_items": null,
            "left": null,
            "margin": null,
            "max_height": null,
            "max_width": null,
            "min_height": null,
            "min_width": null,
            "object_fit": null,
            "object_position": null,
            "order": null,
            "overflow": null,
            "overflow_x": null,
            "overflow_y": null,
            "padding": null,
            "right": null,
            "top": null,
            "visibility": null,
            "width": null
          }
        },
        "29ce7f41c92f48a1b8b18f6a1fad6270": {
          "model_module": "@jupyter-widgets/controls",
          "model_module_version": "1.5.0",
          "model_name": "HBoxModel",
          "state": {
            "_dom_classes": [],
            "_model_module": "@jupyter-widgets/controls",
            "_model_module_version": "1.5.0",
            "_model_name": "HBoxModel",
            "_view_count": null,
            "_view_module": "@jupyter-widgets/controls",
            "_view_module_version": "1.5.0",
            "_view_name": "HBoxView",
            "box_style": "",
            "children": [
              "IPY_MODEL_67aa0589c67f4decb0b26da6cc7c0560",
              "IPY_MODEL_b325ac4fe8b94f84ab5f4bb458bdf0b7",
              "IPY_MODEL_6c296ede1b5a453f814eefb8e113598f"
            ],
            "layout": "IPY_MODEL_1a53c4b30cdf4fa3a2646068032fc387"
          }
        },
        "2cbebc52d2384aa99af66f3746776612": {
          "model_module": "@jupyter-widgets/controls",
          "model_module_version": "1.5.0",
          "model_name": "HTMLModel",
          "state": {
            "_dom_classes": [],
            "_model_module": "@jupyter-widgets/controls",
            "_model_module_version": "1.5.0",
            "_model_name": "HTMLModel",
            "_view_count": null,
            "_view_module": "@jupyter-widgets/controls",
            "_view_module_version": "1.5.0",
            "_view_name": "HTMLView",
            "description": "",
            "description_tooltip": null,
            "layout": "IPY_MODEL_e41cc8a3f8ea41b28ea1e5b6078cabb3",
            "placeholder": "​",
            "style": "IPY_MODEL_6c4a64f50917480aa969ba42d4c6fc65",
            "value": " 1/1 [00:24&lt;00:00, 24.22s/it]"
          }
        },
        "2d6775e7443f41a08057a2f0a51e61ed": {
          "model_module": "@jupyter-widgets/base",
          "model_module_version": "1.2.0",
          "model_name": "LayoutModel",
          "state": {
            "_model_module": "@jupyter-widgets/base",
            "_model_module_version": "1.2.0",
            "_model_name": "LayoutModel",
            "_view_count": null,
            "_view_module": "@jupyter-widgets/base",
            "_view_module_version": "1.2.0",
            "_view_name": "LayoutView",
            "align_content": null,
            "align_items": null,
            "align_self": null,
            "border": null,
            "bottom": null,
            "display": null,
            "flex": null,
            "flex_flow": null,
            "grid_area": null,
            "grid_auto_columns": null,
            "grid_auto_flow": null,
            "grid_auto_rows": null,
            "grid_column": null,
            "grid_gap": null,
            "grid_row": null,
            "grid_template_areas": null,
            "grid_template_columns": null,
            "grid_template_rows": null,
            "height": null,
            "justify_content": null,
            "justify_items": null,
            "left": null,
            "margin": null,
            "max_height": null,
            "max_width": null,
            "min_height": null,
            "min_width": null,
            "object_fit": null,
            "object_position": null,
            "order": null,
            "overflow": null,
            "overflow_x": null,
            "overflow_y": null,
            "padding": null,
            "right": null,
            "top": null,
            "visibility": null,
            "width": null
          }
        },
        "433d1529688a4f43a1000f4630e4a5dd": {
          "model_module": "@jupyter-widgets/controls",
          "model_module_version": "1.5.0",
          "model_name": "DescriptionStyleModel",
          "state": {
            "_model_module": "@jupyter-widgets/controls",
            "_model_module_version": "1.5.0",
            "_model_name": "DescriptionStyleModel",
            "_view_count": null,
            "_view_module": "@jupyter-widgets/base",
            "_view_module_version": "1.2.0",
            "_view_name": "StyleView",
            "description_width": ""
          }
        },
        "67aa0589c67f4decb0b26da6cc7c0560": {
          "model_module": "@jupyter-widgets/controls",
          "model_module_version": "1.5.0",
          "model_name": "HTMLModel",
          "state": {
            "_dom_classes": [],
            "_model_module": "@jupyter-widgets/controls",
            "_model_module_version": "1.5.0",
            "_model_name": "HTMLModel",
            "_view_count": null,
            "_view_module": "@jupyter-widgets/controls",
            "_view_module_version": "1.5.0",
            "_view_name": "HTMLView",
            "description": "",
            "description_tooltip": null,
            "layout": "IPY_MODEL_e6c161a8659740acb87ce2b92c232f66",
            "placeholder": "​",
            "style": "IPY_MODEL_025701a70abe4f91a5aaba66ac0633cb",
            "value": "Summarize dataset: 100%"
          }
        },
        "6c296ede1b5a453f814eefb8e113598f": {
          "model_module": "@jupyter-widgets/controls",
          "model_module_version": "1.5.0",
          "model_name": "HTMLModel",
          "state": {
            "_dom_classes": [],
            "_model_module": "@jupyter-widgets/controls",
            "_model_module_version": "1.5.0",
            "_model_name": "HTMLModel",
            "_view_count": null,
            "_view_module": "@jupyter-widgets/controls",
            "_view_module_version": "1.5.0",
            "_view_name": "HTMLView",
            "description": "",
            "description_tooltip": null,
            "layout": "IPY_MODEL_bc53c1d46adc468dbd2da61b6e66413d",
            "placeholder": "​",
            "style": "IPY_MODEL_d0e3243901ca442588cf925126e9f294",
            "value": " 68/68 [00:45&lt;00:00,  1.53it/s, Completed]"
          }
        },
        "6c4a64f50917480aa969ba42d4c6fc65": {
          "model_module": "@jupyter-widgets/controls",
          "model_module_version": "1.5.0",
          "model_name": "DescriptionStyleModel",
          "state": {
            "_model_module": "@jupyter-widgets/controls",
            "_model_module_version": "1.5.0",
            "_model_name": "DescriptionStyleModel",
            "_view_count": null,
            "_view_module": "@jupyter-widgets/base",
            "_view_module_version": "1.2.0",
            "_view_name": "StyleView",
            "description_width": ""
          }
        },
        "821f59b2afdd418196ed0c1558aed714": {
          "model_module": "@jupyter-widgets/base",
          "model_module_version": "1.2.0",
          "model_name": "LayoutModel",
          "state": {
            "_model_module": "@jupyter-widgets/base",
            "_model_module_version": "1.2.0",
            "_model_name": "LayoutModel",
            "_view_count": null,
            "_view_module": "@jupyter-widgets/base",
            "_view_module_version": "1.2.0",
            "_view_name": "LayoutView",
            "align_content": null,
            "align_items": null,
            "align_self": null,
            "border": null,
            "bottom": null,
            "display": null,
            "flex": null,
            "flex_flow": null,
            "grid_area": null,
            "grid_auto_columns": null,
            "grid_auto_flow": null,
            "grid_auto_rows": null,
            "grid_column": null,
            "grid_gap": null,
            "grid_row": null,
            "grid_template_areas": null,
            "grid_template_columns": null,
            "grid_template_rows": null,
            "height": null,
            "justify_content": null,
            "justify_items": null,
            "left": null,
            "margin": null,
            "max_height": null,
            "max_width": null,
            "min_height": null,
            "min_width": null,
            "object_fit": null,
            "object_position": null,
            "order": null,
            "overflow": null,
            "overflow_x": null,
            "overflow_y": null,
            "padding": null,
            "right": null,
            "top": null,
            "visibility": null,
            "width": null
          }
        },
        "831f30f76dcd4283949c44ee7e29614a": {
          "model_module": "@jupyter-widgets/controls",
          "model_module_version": "1.5.0",
          "model_name": "HBoxModel",
          "state": {
            "_dom_classes": [],
            "_model_module": "@jupyter-widgets/controls",
            "_model_module_version": "1.5.0",
            "_model_name": "HBoxModel",
            "_view_count": null,
            "_view_module": "@jupyter-widgets/controls",
            "_view_module_version": "1.5.0",
            "_view_name": "HBoxView",
            "box_style": "",
            "children": [
              "IPY_MODEL_1f9ab2d505f047139e74e2df20c78d32",
              "IPY_MODEL_d090c59f6393472caf7d6eb7b2028e13",
              "IPY_MODEL_1ecb0903502d4aec9f2fd889814281c4"
            ],
            "layout": "IPY_MODEL_b80744b4d58546879ddebae7f25b0ba9"
          }
        },
        "907fea40811b4f519578f8d0b4811c06": {
          "model_module": "@jupyter-widgets/controls",
          "model_module_version": "1.5.0",
          "model_name": "ProgressStyleModel",
          "state": {
            "_model_module": "@jupyter-widgets/controls",
            "_model_module_version": "1.5.0",
            "_model_name": "ProgressStyleModel",
            "_view_count": null,
            "_view_module": "@jupyter-widgets/base",
            "_view_module_version": "1.2.0",
            "_view_name": "StyleView",
            "bar_color": null,
            "description_width": ""
          }
        },
        "90ebcdbf960d4b58a948cb7ea4c6787c": {
          "model_module": "@jupyter-widgets/controls",
          "model_module_version": "1.5.0",
          "model_name": "ProgressStyleModel",
          "state": {
            "_model_module": "@jupyter-widgets/controls",
            "_model_module_version": "1.5.0",
            "_model_name": "ProgressStyleModel",
            "_view_count": null,
            "_view_module": "@jupyter-widgets/base",
            "_view_module_version": "1.2.0",
            "_view_name": "StyleView",
            "bar_color": null,
            "description_width": ""
          }
        },
        "91943565dceb4e0b8f4648f46739372f": {
          "model_module": "@jupyter-widgets/controls",
          "model_module_version": "1.5.0",
          "model_name": "HBoxModel",
          "state": {
            "_dom_classes": [],
            "_model_module": "@jupyter-widgets/controls",
            "_model_module_version": "1.5.0",
            "_model_name": "HBoxModel",
            "_view_count": null,
            "_view_module": "@jupyter-widgets/controls",
            "_view_module_version": "1.5.0",
            "_view_name": "HBoxView",
            "box_style": "",
            "children": [
              "IPY_MODEL_d517cc24b3de44dfb85db916877609cb",
              "IPY_MODEL_9ab3ac34ca9c46439aef116e2244c326",
              "IPY_MODEL_2cbebc52d2384aa99af66f3746776612"
            ],
            "layout": "IPY_MODEL_f2fbe962759046bca2bff4912ce8f8bb"
          }
        },
        "9ab3ac34ca9c46439aef116e2244c326": {
          "model_module": "@jupyter-widgets/controls",
          "model_module_version": "1.5.0",
          "model_name": "FloatProgressModel",
          "state": {
            "_dom_classes": [],
            "_model_module": "@jupyter-widgets/controls",
            "_model_module_version": "1.5.0",
            "_model_name": "FloatProgressModel",
            "_view_count": null,
            "_view_module": "@jupyter-widgets/controls",
            "_view_module_version": "1.5.0",
            "_view_name": "ProgressView",
            "bar_style": "success",
            "description": "",
            "description_tooltip": null,
            "layout": "IPY_MODEL_249689861bcb483abdd4e2974929dfbc",
            "max": 1,
            "min": 0,
            "orientation": "horizontal",
            "style": "IPY_MODEL_90ebcdbf960d4b58a948cb7ea4c6787c",
            "value": 1
          }
        },
        "a8a1338f370c4c608b6e0afebea59e0a": {
          "model_module": "@jupyter-widgets/controls",
          "model_module_version": "1.5.0",
          "model_name": "DescriptionStyleModel",
          "state": {
            "_model_module": "@jupyter-widgets/controls",
            "_model_module_version": "1.5.0",
            "_model_name": "DescriptionStyleModel",
            "_view_count": null,
            "_view_module": "@jupyter-widgets/base",
            "_view_module_version": "1.2.0",
            "_view_name": "StyleView",
            "description_width": ""
          }
        },
        "b325ac4fe8b94f84ab5f4bb458bdf0b7": {
          "model_module": "@jupyter-widgets/controls",
          "model_module_version": "1.5.0",
          "model_name": "FloatProgressModel",
          "state": {
            "_dom_classes": [],
            "_model_module": "@jupyter-widgets/controls",
            "_model_module_version": "1.5.0",
            "_model_name": "FloatProgressModel",
            "_view_count": null,
            "_view_module": "@jupyter-widgets/controls",
            "_view_module_version": "1.5.0",
            "_view_name": "ProgressView",
            "bar_style": "success",
            "description": "",
            "description_tooltip": null,
            "layout": "IPY_MODEL_2d6775e7443f41a08057a2f0a51e61ed",
            "max": 5,
            "min": 0,
            "orientation": "horizontal",
            "style": "IPY_MODEL_dd8310faa3624b0f86ab26ab68feae0f",
            "value": 5
          }
        },
        "b80744b4d58546879ddebae7f25b0ba9": {
          "model_module": "@jupyter-widgets/base",
          "model_module_version": "1.2.0",
          "model_name": "LayoutModel",
          "state": {
            "_model_module": "@jupyter-widgets/base",
            "_model_module_version": "1.2.0",
            "_model_name": "LayoutModel",
            "_view_count": null,
            "_view_module": "@jupyter-widgets/base",
            "_view_module_version": "1.2.0",
            "_view_name": "LayoutView",
            "align_content": null,
            "align_items": null,
            "align_self": null,
            "border": null,
            "bottom": null,
            "display": null,
            "flex": null,
            "flex_flow": null,
            "grid_area": null,
            "grid_auto_columns": null,
            "grid_auto_flow": null,
            "grid_auto_rows": null,
            "grid_column": null,
            "grid_gap": null,
            "grid_row": null,
            "grid_template_areas": null,
            "grid_template_columns": null,
            "grid_template_rows": null,
            "height": null,
            "justify_content": null,
            "justify_items": null,
            "left": null,
            "margin": null,
            "max_height": null,
            "max_width": null,
            "min_height": null,
            "min_width": null,
            "object_fit": null,
            "object_position": null,
            "order": null,
            "overflow": null,
            "overflow_x": null,
            "overflow_y": null,
            "padding": null,
            "right": null,
            "top": null,
            "visibility": null,
            "width": null
          }
        },
        "bc53c1d46adc468dbd2da61b6e66413d": {
          "model_module": "@jupyter-widgets/base",
          "model_module_version": "1.2.0",
          "model_name": "LayoutModel",
          "state": {
            "_model_module": "@jupyter-widgets/base",
            "_model_module_version": "1.2.0",
            "_model_name": "LayoutModel",
            "_view_count": null,
            "_view_module": "@jupyter-widgets/base",
            "_view_module_version": "1.2.0",
            "_view_name": "LayoutView",
            "align_content": null,
            "align_items": null,
            "align_self": null,
            "border": null,
            "bottom": null,
            "display": null,
            "flex": null,
            "flex_flow": null,
            "grid_area": null,
            "grid_auto_columns": null,
            "grid_auto_flow": null,
            "grid_auto_rows": null,
            "grid_column": null,
            "grid_gap": null,
            "grid_row": null,
            "grid_template_areas": null,
            "grid_template_columns": null,
            "grid_template_rows": null,
            "height": null,
            "justify_content": null,
            "justify_items": null,
            "left": null,
            "margin": null,
            "max_height": null,
            "max_width": null,
            "min_height": null,
            "min_width": null,
            "object_fit": null,
            "object_position": null,
            "order": null,
            "overflow": null,
            "overflow_x": null,
            "overflow_y": null,
            "padding": null,
            "right": null,
            "top": null,
            "visibility": null,
            "width": null
          }
        },
        "d090c59f6393472caf7d6eb7b2028e13": {
          "model_module": "@jupyter-widgets/controls",
          "model_module_version": "1.5.0",
          "model_name": "FloatProgressModel",
          "state": {
            "_dom_classes": [],
            "_model_module": "@jupyter-widgets/controls",
            "_model_module_version": "1.5.0",
            "_model_name": "FloatProgressModel",
            "_view_count": null,
            "_view_module": "@jupyter-widgets/controls",
            "_view_module_version": "1.5.0",
            "_view_name": "ProgressView",
            "bar_style": "success",
            "description": "",
            "description_tooltip": null,
            "layout": "IPY_MODEL_fda34753755446c191175e66118471aa",
            "max": 1,
            "min": 0,
            "orientation": "horizontal",
            "style": "IPY_MODEL_907fea40811b4f519578f8d0b4811c06",
            "value": 1
          }
        },
        "d0e3243901ca442588cf925126e9f294": {
          "model_module": "@jupyter-widgets/controls",
          "model_module_version": "1.5.0",
          "model_name": "DescriptionStyleModel",
          "state": {
            "_model_module": "@jupyter-widgets/controls",
            "_model_module_version": "1.5.0",
            "_model_name": "DescriptionStyleModel",
            "_view_count": null,
            "_view_module": "@jupyter-widgets/base",
            "_view_module_version": "1.2.0",
            "_view_name": "StyleView",
            "description_width": ""
          }
        },
        "d517cc24b3de44dfb85db916877609cb": {
          "model_module": "@jupyter-widgets/controls",
          "model_module_version": "1.5.0",
          "model_name": "HTMLModel",
          "state": {
            "_dom_classes": [],
            "_model_module": "@jupyter-widgets/controls",
            "_model_module_version": "1.5.0",
            "_model_name": "HTMLModel",
            "_view_count": null,
            "_view_module": "@jupyter-widgets/controls",
            "_view_module_version": "1.5.0",
            "_view_name": "HTMLView",
            "description": "",
            "description_tooltip": null,
            "layout": "IPY_MODEL_821f59b2afdd418196ed0c1558aed714",
            "placeholder": "​",
            "style": "IPY_MODEL_a8a1338f370c4c608b6e0afebea59e0a",
            "value": "Generate report structure: 100%"
          }
        },
        "dd8310faa3624b0f86ab26ab68feae0f": {
          "model_module": "@jupyter-widgets/controls",
          "model_module_version": "1.5.0",
          "model_name": "ProgressStyleModel",
          "state": {
            "_model_module": "@jupyter-widgets/controls",
            "_model_module_version": "1.5.0",
            "_model_name": "ProgressStyleModel",
            "_view_count": null,
            "_view_module": "@jupyter-widgets/base",
            "_view_module_version": "1.2.0",
            "_view_name": "StyleView",
            "bar_color": null,
            "description_width": ""
          }
        },
        "e41cc8a3f8ea41b28ea1e5b6078cabb3": {
          "model_module": "@jupyter-widgets/base",
          "model_module_version": "1.2.0",
          "model_name": "LayoutModel",
          "state": {
            "_model_module": "@jupyter-widgets/base",
            "_model_module_version": "1.2.0",
            "_model_name": "LayoutModel",
            "_view_count": null,
            "_view_module": "@jupyter-widgets/base",
            "_view_module_version": "1.2.0",
            "_view_name": "LayoutView",
            "align_content": null,
            "align_items": null,
            "align_self": null,
            "border": null,
            "bottom": null,
            "display": null,
            "flex": null,
            "flex_flow": null,
            "grid_area": null,
            "grid_auto_columns": null,
            "grid_auto_flow": null,
            "grid_auto_rows": null,
            "grid_column": null,
            "grid_gap": null,
            "grid_row": null,
            "grid_template_areas": null,
            "grid_template_columns": null,
            "grid_template_rows": null,
            "height": null,
            "justify_content": null,
            "justify_items": null,
            "left": null,
            "margin": null,
            "max_height": null,
            "max_width": null,
            "min_height": null,
            "min_width": null,
            "object_fit": null,
            "object_position": null,
            "order": null,
            "overflow": null,
            "overflow_x": null,
            "overflow_y": null,
            "padding": null,
            "right": null,
            "top": null,
            "visibility": null,
            "width": null
          }
        },
        "e6c161a8659740acb87ce2b92c232f66": {
          "model_module": "@jupyter-widgets/base",
          "model_module_version": "1.2.0",
          "model_name": "LayoutModel",
          "state": {
            "_model_module": "@jupyter-widgets/base",
            "_model_module_version": "1.2.0",
            "_model_name": "LayoutModel",
            "_view_count": null,
            "_view_module": "@jupyter-widgets/base",
            "_view_module_version": "1.2.0",
            "_view_name": "LayoutView",
            "align_content": null,
            "align_items": null,
            "align_self": null,
            "border": null,
            "bottom": null,
            "display": null,
            "flex": null,
            "flex_flow": null,
            "grid_area": null,
            "grid_auto_columns": null,
            "grid_auto_flow": null,
            "grid_auto_rows": null,
            "grid_column": null,
            "grid_gap": null,
            "grid_row": null,
            "grid_template_areas": null,
            "grid_template_columns": null,
            "grid_template_rows": null,
            "height": null,
            "justify_content": null,
            "justify_items": null,
            "left": null,
            "margin": null,
            "max_height": null,
            "max_width": null,
            "min_height": null,
            "min_width": null,
            "object_fit": null,
            "object_position": null,
            "order": null,
            "overflow": null,
            "overflow_x": null,
            "overflow_y": null,
            "padding": null,
            "right": null,
            "top": null,
            "visibility": null,
            "width": null
          }
        },
        "f030d05a6cce42bda653bf8e3406e15b": {
          "model_module": "@jupyter-widgets/base",
          "model_module_version": "1.2.0",
          "model_name": "LayoutModel",
          "state": {
            "_model_module": "@jupyter-widgets/base",
            "_model_module_version": "1.2.0",
            "_model_name": "LayoutModel",
            "_view_count": null,
            "_view_module": "@jupyter-widgets/base",
            "_view_module_version": "1.2.0",
            "_view_name": "LayoutView",
            "align_content": null,
            "align_items": null,
            "align_self": null,
            "border": null,
            "bottom": null,
            "display": null,
            "flex": null,
            "flex_flow": null,
            "grid_area": null,
            "grid_auto_columns": null,
            "grid_auto_flow": null,
            "grid_auto_rows": null,
            "grid_column": null,
            "grid_gap": null,
            "grid_row": null,
            "grid_template_areas": null,
            "grid_template_columns": null,
            "grid_template_rows": null,
            "height": null,
            "justify_content": null,
            "justify_items": null,
            "left": null,
            "margin": null,
            "max_height": null,
            "max_width": null,
            "min_height": null,
            "min_width": null,
            "object_fit": null,
            "object_position": null,
            "order": null,
            "overflow": null,
            "overflow_x": null,
            "overflow_y": null,
            "padding": null,
            "right": null,
            "top": null,
            "visibility": null,
            "width": null
          }
        },
        "f2fbe962759046bca2bff4912ce8f8bb": {
          "model_module": "@jupyter-widgets/base",
          "model_module_version": "1.2.0",
          "model_name": "LayoutModel",
          "state": {
            "_model_module": "@jupyter-widgets/base",
            "_model_module_version": "1.2.0",
            "_model_name": "LayoutModel",
            "_view_count": null,
            "_view_module": "@jupyter-widgets/base",
            "_view_module_version": "1.2.0",
            "_view_name": "LayoutView",
            "align_content": null,
            "align_items": null,
            "align_self": null,
            "border": null,
            "bottom": null,
            "display": null,
            "flex": null,
            "flex_flow": null,
            "grid_area": null,
            "grid_auto_columns": null,
            "grid_auto_flow": null,
            "grid_auto_rows": null,
            "grid_column": null,
            "grid_gap": null,
            "grid_row": null,
            "grid_template_areas": null,
            "grid_template_columns": null,
            "grid_template_rows": null,
            "height": null,
            "justify_content": null,
            "justify_items": null,
            "left": null,
            "margin": null,
            "max_height": null,
            "max_width": null,
            "min_height": null,
            "min_width": null,
            "object_fit": null,
            "object_position": null,
            "order": null,
            "overflow": null,
            "overflow_x": null,
            "overflow_y": null,
            "padding": null,
            "right": null,
            "top": null,
            "visibility": null,
            "width": null
          }
        },
        "fda34753755446c191175e66118471aa": {
          "model_module": "@jupyter-widgets/base",
          "model_module_version": "1.2.0",
          "model_name": "LayoutModel",
          "state": {
            "_model_module": "@jupyter-widgets/base",
            "_model_module_version": "1.2.0",
            "_model_name": "LayoutModel",
            "_view_count": null,
            "_view_module": "@jupyter-widgets/base",
            "_view_module_version": "1.2.0",
            "_view_name": "LayoutView",
            "align_content": null,
            "align_items": null,
            "align_self": null,
            "border": null,
            "bottom": null,
            "display": null,
            "flex": null,
            "flex_flow": null,
            "grid_area": null,
            "grid_auto_columns": null,
            "grid_auto_flow": null,
            "grid_auto_rows": null,
            "grid_column": null,
            "grid_gap": null,
            "grid_row": null,
            "grid_template_areas": null,
            "grid_template_columns": null,
            "grid_template_rows": null,
            "height": null,
            "justify_content": null,
            "justify_items": null,
            "left": null,
            "margin": null,
            "max_height": null,
            "max_width": null,
            "min_height": null,
            "min_width": null,
            "object_fit": null,
            "object_position": null,
            "order": null,
            "overflow": null,
            "overflow_x": null,
            "overflow_y": null,
            "padding": null,
            "right": null,
            "top": null,
            "visibility": null,
            "width": null
          }
        }
      }
    }
  },
  "nbformat": 4,
  "nbformat_minor": 0
}

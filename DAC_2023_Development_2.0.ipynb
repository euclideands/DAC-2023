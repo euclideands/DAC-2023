{
  "cells": [
    {
      "cell_type": "markdown",
      "metadata": {},
      "source": [
        "# Consultant of Network Attack Detection"
      ]
    },
    {
      "cell_type": "markdown",
      "metadata": {},
      "source": [
        "\n",
        "deskripsi (ada di pdf).\n",
        "\n",
        "Network Intrusion Detection  System (NIDS)"
      ]
    },
    {
      "cell_type": "markdown",
      "metadata": {},
      "source": [
        "## Goal\n",
        "\n",
        "Untuk menganalisis klasifikasi type of attack berdasarkan variabel kunci.\n",
        "\n",
        "Untuk menemukan model klasifikasi terbaik (objectives) Network Intrusion Detection  System (NIDS)."
      ]
    },
    {
      "cell_type": "markdown",
      "metadata": {},
      "source": [
        "## Source of the dataset\n",
        "\n",
        "GDrive: [click here](https://drive.google.com/drive/folders/1lOz8fx9AI7lWSEN9myIn18RmMrPErq8D?usp=drive_link)"
      ]
    },
    {
      "cell_type": "markdown",
      "metadata": {},
      "source": [
        "## Atribute Information\n",
        "\n",
        "The inputs (Var X/independent var) are as follows\n",
        "\n",
        "- duration\n",
        "- protocol_type\n",
        "- service\n",
        "- flag\n",
        "- src_bytes\n",
        "- dst_bytes\n",
        "- land\n",
        "- wrong_fragment\n",
        "- urgent\n",
        "- hot\n",
        "- num_failed_logins\n",
        "- logged_in\n",
        "- num_compromised\n",
        "- root_shell\n",
        "- su_attempted\n",
        "- num_root\n",
        "- num_file_creations\n",
        "- num_shells\n",
        "- num_access_files\n",
        "- num_outbound_cmds\n",
        "- is_host_login\n",
        "- is_guest_login\n",
        "- count\n",
        "- srv_count\n",
        "- serror_rate\n",
        "- srv_serror_rate\n",
        "- rerror_rate\n",
        "- srv_rerror_rate\n",
        "- same_srv_rate\n",
        "- diff_srv_rate\n",
        "- srv_diff_host_rate\n",
        "- dst_host_count\n",
        "- dst_host_srv_count\n",
        "- dst_host_same_srv_rate\n",
        "- dst_host_diff_srv_rate\n",
        "- dst_host_same_src_port_rate\n",
        "- dst_host_srv_diff_host_rate\n",
        "- dst_host_serror_rate\n",
        "- dst_host_srv_serror_rate\n",
        "- dst_host_rerror_rate\n",
        "- dst_host_srv_rerror_rate\n",
        "- type_of_attack\n",
        "\n",
        "The output (target/Y/dependent var) is as follow:\n",
        "\n",
        "- deteck attack"
      ]
    },
    {
      "cell_type": "markdown",
      "metadata": {
        "id": "wbs6-2E_UJWP"
      },
      "source": [
        "# Import Library\n"
      ]
    },
    {
      "cell_type": "code",
      "execution_count": null,
      "metadata": {
        "colab": {
          "base_uri": "https://localhost:8080/"
        },
        "id": "PJuHBrGdRovg",
        "outputId": "24775c1e-1301-41a4-83af-5160a88ec3f5"
      },
      "outputs": [],
      "source": [
        "import numpy as np\n",
        "import pandas as pd\n",
        "import matplotlib.pyplot as plt\n",
        "import seaborn as sns\n",
        "import matplotlib.pyplot as plt\n",
        "\n",
        "# from ydata_profiling import ProfileReport"
      ]
    },
    {
      "cell_type": "markdown",
      "metadata": {
        "id": "BD6eFMCkUZKi"
      },
      "source": [
        "# 1. Import Dataset"
      ]
    },
    {
      "cell_type": "code",
      "execution_count": null,
      "metadata": {
        "id": "Iuo-ubCUW7XI"
      },
      "outputs": [],
      "source": [
        "# Path to training and validation dataset\n",
        "train_PATH = 'D:\\DAC-2023\\Dataset\\DataTrain_Preliminary.csv'\n",
        "pred_PATH = 'D:\\DAC-2023\\Dataset\\Data_Prediction.csv'"
      ]
    },
    {
      "cell_type": "markdown",
      "metadata": {},
      "source": [
        "As a network attack detection consultant, we have been provided with two datasets: one for training and one for prediction. With these datasets, we can already narrow down the scope of our analysis, which in this case is creating a predictive model. Predictive model will naturally involve machine learning techniques. However, the field of machine learning itself is quite broad.\n",
        "\n",
        "Therefore, we will begin by closely examining the data to refine our analysis to choose the best algorithm to discover the predictive model for effective network attack detection. This process involves exploring the data, identifying relevant features, and iteratively refining our approach until we find the most suitable predictive model."
      ]
    },
    {
      "cell_type": "code",
      "execution_count": null,
      "metadata": {
        "colab": {
          "base_uri": "https://localhost:8080/",
          "height": 443
        },
        "id": "NR1MlVJOWPJr",
        "outputId": "c07faae0-26f2-4d81-9bae-4cea55c2dc8d"
      },
      "outputs": [],
      "source": [
        "df_t = pd.read_csv(train_PATH, delimiter=';')\n",
        "df_p = pd.read_csv(pred_PATH, delimiter=';')\n",
        "df_t.head()"
      ]
    },
    {
      "cell_type": "code",
      "execution_count": null,
      "metadata": {},
      "outputs": [],
      "source": [
        "df_t.shape"
      ]
    },
    {
      "cell_type": "code",
      "execution_count": null,
      "metadata": {},
      "outputs": [],
      "source": [
        "train_cols = set(df_t.columns)\n",
        "pred_cols = set(df_p.columns)\n",
        "\n",
        "print(\"Columns in df_train but not in df_pred:\", train_cols - pred_cols)\n",
        "print(\"Columns in df_pred but not in df_train:\", pred_cols - train_cols)"
      ]
    },
    {
      "cell_type": "markdown",
      "metadata": {},
      "source": [
        "## Feature Description"
      ]
    },
    {
      "cell_type": "markdown",
      "metadata": {},
      "source": [
        "- duration : the length of time connection in seconds\n",
        "- protocol_type : the protocol used fot the connection\n",
        "- service : the name of the network service on the target host\n",
        "- flag : the status or state of the connection\n",
        "- src_bytes : the number of bytes transferred from the source to destination\n",
        "- dst_bytes : the number of bytes transferred from the destination to source\n",
        "- land : indicates whether the connection is from/to the same host/port (1 if yes, 0 if no)\n",
        "- wrong_fragment : the number of \"wrong\" fragments in a connection\n",
        "- urgent : the number of urgent packets in a connection\n",
        "- hot : the number of \"hot\" indicators in a connection\n",
        "- num_failed_logins : the number of failed login attempts\n",
        "- logged_in : indicates whether a login was successfully performed (1 if yes, 0 if no)\n",
        "- num_compromised : the number of hosts compromised through the connection\n",
        "- root_shell : indicates whether a root shell was obtained (1 if yes, 0 if no)\n",
        "- su_attempted : indicates whether a \"su root\" command was attempted (1 if yes, 0 if no)\n",
        "- num_root : the number of root access obtained\n",
        "- num_file_creations : the number of file creation operations\n",
        "- num_shells : te number of shell prompts\n",
        "- num_access_files : the number of operations on access control files\n",
        "- num_outbound_cmds : the number of outbound commands in an FTP session\n",
        "- is_host_login : indicates whether the login belongs to the \"hot\" list (1 if yes, 0 if no)\n",
        "- is_guest_login : indicates whether the login is a guest login (1 if yes, 0 if no)\n",
        "- count : the number of connections to the same host as the current connection in the past two seconds\n",
        "- srv_count : the number of connections to the same service as the current connection in the past two seconds\n",
        "- serror_rate : the percentage of connections that had \"SYN\" errors (SYN : SYNCHRONIZE)\n",
        "- srv_serror_rate : the percentage of connections to the same service that had \"SYN\" errors\n",
        "- rerror_rate : the percentage of connections to the same service that had \"REJ\" errors (REJ : REJECTION) \n",
        "- srv_rerror_rate : the percentage of connections to the same \n",
        "service that had \"REJ\" errors\n",
        "- same_srv_rate : the percentage of connections to the same service\n",
        "- diff_srv_rate : the percentage of connections to different services\n",
        "- srv_diff_host_rate : the percentage of connections to different hosts\n",
        "- dst_host_count : the number of connections to the same destination host in the past two seconds\n",
        "- dst_host_srv_count : the number of connections to the same destination service in the past two seconds\n",
        "- dst_host_same_srv_rate : the percentage of connections to the same destination service\n",
        "- dst_host_diff_srv_rate : the percentage of connections to different destination services\n",
        "- dst_host_same_src_port_rate : he percentage of connections to the same destination host that originate from the same source port\n",
        "- dst_host_srv_diff_host_rate : the percentage of connections to the same destination service but originating from different host\n",
        "- dst_host_serror_rate : the percentage of connections to a specific destination host that have a “SYN” error\n",
        "- dst_host_srv_serror_rate : the percentage of connections to a specific destination service that have a “SYN” error\n",
        "- dst_host_rerror_rate : the percentage of connections to a specific destination host that have a “REJ” error\n",
        "- dst_host_srv_rerror_rate : the percentage of connections to a specific destination service that have a “REJ” error\n",
        "- type_of_attack : type of attack"
      ]
    },
    {
      "cell_type": "markdown",
      "metadata": {},
      "source": [
        "# 2. Exploratory Data Analysis (EDA)"
      ]
    },
    {
      "cell_type": "markdown",
      "metadata": {},
      "source": [
        "## Statistika umum"
      ]
    },
    {
      "cell_type": "code",
      "execution_count": null,
      "metadata": {},
      "outputs": [],
      "source": [
        "df_t.describe()"
      ]
    },
    {
      "cell_type": "markdown",
      "metadata": {},
      "source": [
        "## duration, src, dst"
      ]
    },
    {
      "cell_type": "code",
      "execution_count": 227,
      "metadata": {},
      "outputs": [],
      "source": [
        "def filtered_by_type_of_attack(df, values):\n",
        "    filtered = df[df['type_of_attack'] == values]\n",
        "    return filtered"
      ]
    },
    {
      "cell_type": "code",
      "execution_count": 228,
      "metadata": {},
      "outputs": [],
      "source": [
        "dos = filtered_by_type_of_attack(df_t, 'Denial of Service Attack')"
      ]
    },
    {
      "cell_type": "code",
      "execution_count": 229,
      "metadata": {},
      "outputs": [
        {
          "data": {
            "text/html": [
              "<div>\n",
              "<style scoped>\n",
              "    .dataframe tbody tr th:only-of-type {\n",
              "        vertical-align: middle;\n",
              "    }\n",
              "\n",
              "    .dataframe tbody tr th {\n",
              "        vertical-align: top;\n",
              "    }\n",
              "\n",
              "    .dataframe thead th {\n",
              "        text-align: right;\n",
              "    }\n",
              "</style>\n",
              "<table border=\"1\" class=\"dataframe\">\n",
              "  <thead>\n",
              "    <tr style=\"text-align: right;\">\n",
              "      <th></th>\n",
              "      <th>duration</th>\n",
              "      <th>src_bytes</th>\n",
              "      <th>dst_bytes</th>\n",
              "      <th>type_of_attack</th>\n",
              "    </tr>\n",
              "  </thead>\n",
              "  <tbody>\n",
              "    <tr>\n",
              "      <th>10</th>\n",
              "      <td>0</td>\n",
              "      <td>54540</td>\n",
              "      <td>8314</td>\n",
              "      <td>Denial of Service Attack</td>\n",
              "    </tr>\n",
              "    <tr>\n",
              "      <th>14</th>\n",
              "      <td>0</td>\n",
              "      <td>28</td>\n",
              "      <td>0</td>\n",
              "      <td>Denial of Service Attack</td>\n",
              "    </tr>\n",
              "    <tr>\n",
              "      <th>56</th>\n",
              "      <td>9</td>\n",
              "      <td>54540</td>\n",
              "      <td>8314</td>\n",
              "      <td>Denial of Service Attack</td>\n",
              "    </tr>\n",
              "    <tr>\n",
              "      <th>91</th>\n",
              "      <td>1</td>\n",
              "      <td>54540</td>\n",
              "      <td>8314</td>\n",
              "      <td>Denial of Service Attack</td>\n",
              "    </tr>\n",
              "    <tr>\n",
              "      <th>258</th>\n",
              "      <td>0</td>\n",
              "      <td>1480</td>\n",
              "      <td>0</td>\n",
              "      <td>Denial of Service Attack</td>\n",
              "    </tr>\n",
              "  </tbody>\n",
              "</table>\n",
              "</div>"
            ],
            "text/plain": [
              "    duration src_bytes dst_bytes            type_of_attack\n",
              "10         0     54540      8314  Denial of Service Attack\n",
              "14         0        28         0  Denial of Service Attack\n",
              "56         9     54540      8314  Denial of Service Attack\n",
              "91         1     54540      8314  Denial of Service Attack\n",
              "258        0      1480         0  Denial of Service Attack"
            ]
          },
          "execution_count": 229,
          "metadata": {},
          "output_type": "execute_result"
        }
      ],
      "source": [
        "dsd = dos[['duration', 'src_bytes', 'dst_bytes', 'type_of_attack']]\n",
        "dsd.head()"
      ]
    },
    {
      "cell_type": "code",
      "execution_count": null,
      "metadata": {},
      "outputs": [],
      "source": [
        "dsd."
      ]
    },
    {
      "cell_type": "code",
      "execution_count": 223,
      "metadata": {},
      "outputs": [
        {
          "data": {
            "text/plain": [
              "array(['54540', '28', '1480', '41772', '15492', '53452', '0', '51992',\n",
              "       '22224', '53168', '50004', '46152', '45260', '47612', '564',\n",
              "       '54020', '54060', '43232', '46720', '40636', '38284', '20440',\n",
              "       '36256', '21048', '53208', '50816', '36500', '*', '18980', '45908',\n",
              "       '33580', '16952', '52560', '13140', '50248', '13748', '51180',\n",
              "       '24252', '29200', '38568', '49640', '37960', '53776', '51100',\n",
              "       '16384'], dtype=object)"
            ]
          },
          "execution_count": 223,
          "metadata": {},
          "output_type": "execute_result"
        }
      ],
      "source": [
        "dsd.src_bytes.unique()"
      ]
    },
    {
      "cell_type": "code",
      "execution_count": 224,
      "metadata": {},
      "outputs": [
        {
          "data": {
            "text/plain": [
              "array(['8314', '0', '2920', '7300', '8315', '4380', '1460', '28', '5840'],\n",
              "      dtype=object)"
            ]
          },
          "execution_count": 224,
          "metadata": {},
          "output_type": "execute_result"
        }
      ],
      "source": [
        "dsd.dst_bytes.unique()"
      ]
    },
    {
      "cell_type": "code",
      "execution_count": 232,
      "metadata": {},
      "outputs": [
        {
          "data": {
            "text/html": [
              "<div>\n",
              "<style scoped>\n",
              "    .dataframe tbody tr th:only-of-type {\n",
              "        vertical-align: middle;\n",
              "    }\n",
              "\n",
              "    .dataframe tbody tr th {\n",
              "        vertical-align: top;\n",
              "    }\n",
              "\n",
              "    .dataframe thead th {\n",
              "        text-align: right;\n",
              "    }\n",
              "</style>\n",
              "<table border=\"1\" class=\"dataframe\">\n",
              "  <thead>\n",
              "    <tr style=\"text-align: right;\">\n",
              "      <th></th>\n",
              "      <th>duration</th>\n",
              "      <th>src_bytes</th>\n",
              "      <th>dst_bytes</th>\n",
              "      <th>type_of_attack</th>\n",
              "    </tr>\n",
              "  </thead>\n",
              "  <tbody>\n",
              "    <tr>\n",
              "      <th>52524</th>\n",
              "      <td>0</td>\n",
              "      <td>NaN</td>\n",
              "      <td>8314</td>\n",
              "      <td>Denial of Service Attack</td>\n",
              "    </tr>\n",
              "  </tbody>\n",
              "</table>\n",
              "</div>"
            ],
            "text/plain": [
              "      duration src_bytes dst_bytes            type_of_attack\n",
              "52524        0       NaN      8314  Denial of Service Attack"
            ]
          },
          "execution_count": 232,
          "metadata": {},
          "output_type": "execute_result"
        }
      ],
      "source": [
        "# Create a boolean mask to identify rows with NaN values\n",
        "nan_mask = dsd.isna().any(axis=1)\n",
        "\n",
        "# Filter the DataFrame to show only rows with NaN values\n",
        "rows_with_nan = dsd[nan_mask]\n",
        "\n",
        "# Print the rows with NaNs\n",
        "rows_with_nan"
      ]
    },
    {
      "cell_type": "code",
      "execution_count": 237,
      "metadata": {},
      "outputs": [
        {
          "data": {
            "text/plain": [
              "duration                                 0\n",
              "src_bytes                              NaN\n",
              "dst_bytes                             8314\n",
              "type_of_attack    Denial of Service Attack\n",
              "Name: 52524, dtype: object"
            ]
          },
          "execution_count": 237,
          "metadata": {},
          "output_type": "execute_result"
        }
      ],
      "source": [
        "# show index 52524\n",
        "dsd.loc[52524]"
      ]
    },
    {
      "cell_type": "code",
      "execution_count": null,
      "metadata": {},
      "outputs": [],
      "source": [
        "dsd.info()"
      ]
    },
    {
      "cell_type": "code",
      "execution_count": null,
      "metadata": {},
      "outputs": [],
      "source": [
        "dsd.duration.unique()"
      ]
    },
    {
      "cell_type": "code",
      "execution_count": null,
      "metadata": {},
      "outputs": [],
      "source": [
        "dsd.info()"
      ]
    },
    {
      "cell_type": "code",
      "execution_count": 239,
      "metadata": {},
      "outputs": [],
      "source": [
        "# Replace the '*'s with NaNs\n",
        "dsd = dsd.replace('*', np.nan)"
      ]
    },
    {
      "cell_type": "code",
      "execution_count": null,
      "metadata": {},
      "outputs": [],
      "source": [
        "# Mengganti nilai \"*\" dengan  pada kolom 'duration', 'src_bytes', dan 'dst_bytes'\n",
        "dsd['duration'] = dsd['duration'].replace('*', np.nan)\n",
        "dsd['src_bytes'] = dsd['src_bytes'].replace('*', np.nan)\n",
        "dsd['dst_bytes'] = dsd['dst_bytes'].replace('*', np.nan)"
      ]
    },
    {
      "cell_type": "code",
      "execution_count": null,
      "metadata": {},
      "outputs": [],
      "source": [
        "# Mengubah tipe data menjadi numerik\n",
        "dsd['duration'] = pd.to_numeric(dsd['duration'])\n",
        "dsd['src_bytes'] = pd.to_numeric(dsd['src_bytes'])\n",
        "dsd['dst_bytes'] = pd.to_numeric(dsd['dst_bytes'])"
      ]
    },
    {
      "cell_type": "code",
      "execution_count": 240,
      "metadata": {},
      "outputs": [
        {
          "ename": "ValueError",
          "evalue": "cannot convert float NaN to integer",
          "output_type": "error",
          "traceback": [
            "\u001b[1;31m---------------------------------------------------------------------------\u001b[0m",
            "\u001b[1;31mValueError\u001b[0m                                Traceback (most recent call last)",
            "\u001b[1;32md:\\DAC-2023\\DAC_2023_Development_2.0.ipynb Cell 34\u001b[0m line \u001b[0;36m3\n\u001b[0;32m      <a href='vscode-notebook-cell:/d%3A/DAC-2023/DAC_2023_Development_2.0.ipynb#Y333sZmlsZQ%3D%3D?line=0'>1</a>\u001b[0m \u001b[39m# merubah tipe data menjadi integer\u001b[39;00m\n\u001b[0;32m      <a href='vscode-notebook-cell:/d%3A/DAC-2023/DAC_2023_Development_2.0.ipynb#Y333sZmlsZQ%3D%3D?line=1'>2</a>\u001b[0m dsd[\u001b[39m'\u001b[39m\u001b[39mduration\u001b[39m\u001b[39m'\u001b[39m] \u001b[39m=\u001b[39m dsd[\u001b[39m'\u001b[39m\u001b[39mduration\u001b[39m\u001b[39m'\u001b[39m]\u001b[39m.\u001b[39mastype(\u001b[39mint\u001b[39m)\n\u001b[1;32m----> <a href='vscode-notebook-cell:/d%3A/DAC-2023/DAC_2023_Development_2.0.ipynb#Y333sZmlsZQ%3D%3D?line=2'>3</a>\u001b[0m dsd[\u001b[39m'\u001b[39m\u001b[39msrc_bytes\u001b[39m\u001b[39m'\u001b[39m] \u001b[39m=\u001b[39m dsd[\u001b[39m'\u001b[39;49m\u001b[39msrc_bytes\u001b[39;49m\u001b[39m'\u001b[39;49m]\u001b[39m.\u001b[39;49mastype(\u001b[39mint\u001b[39;49m)\n\u001b[0;32m      <a href='vscode-notebook-cell:/d%3A/DAC-2023/DAC_2023_Development_2.0.ipynb#Y333sZmlsZQ%3D%3D?line=3'>4</a>\u001b[0m dsd[\u001b[39m'\u001b[39m\u001b[39mdst_bytes\u001b[39m\u001b[39m'\u001b[39m] \u001b[39m=\u001b[39m dsd[\u001b[39m'\u001b[39m\u001b[39mdst_bytes\u001b[39m\u001b[39m'\u001b[39m]\u001b[39m.\u001b[39mastype(\u001b[39mint\u001b[39m)\n",
            "File \u001b[1;32mc:\\Users\\gusti\\AppData\\Local\\Programs\\Python\\Python39\\lib\\site-packages\\pandas\\core\\generic.py:6324\u001b[0m, in \u001b[0;36mNDFrame.astype\u001b[1;34m(self, dtype, copy, errors)\u001b[0m\n\u001b[0;32m   6317\u001b[0m     results \u001b[39m=\u001b[39m [\n\u001b[0;32m   6318\u001b[0m         \u001b[39mself\u001b[39m\u001b[39m.\u001b[39miloc[:, i]\u001b[39m.\u001b[39mastype(dtype, copy\u001b[39m=\u001b[39mcopy)\n\u001b[0;32m   6319\u001b[0m         \u001b[39mfor\u001b[39;00m i \u001b[39min\u001b[39;00m \u001b[39mrange\u001b[39m(\u001b[39mlen\u001b[39m(\u001b[39mself\u001b[39m\u001b[39m.\u001b[39mcolumns))\n\u001b[0;32m   6320\u001b[0m     ]\n\u001b[0;32m   6322\u001b[0m \u001b[39melse\u001b[39;00m:\n\u001b[0;32m   6323\u001b[0m     \u001b[39m# else, only a single dtype is given\u001b[39;00m\n\u001b[1;32m-> 6324\u001b[0m     new_data \u001b[39m=\u001b[39m \u001b[39mself\u001b[39;49m\u001b[39m.\u001b[39;49m_mgr\u001b[39m.\u001b[39;49mastype(dtype\u001b[39m=\u001b[39;49mdtype, copy\u001b[39m=\u001b[39;49mcopy, errors\u001b[39m=\u001b[39;49merrors)\n\u001b[0;32m   6325\u001b[0m     \u001b[39mreturn\u001b[39;00m \u001b[39mself\u001b[39m\u001b[39m.\u001b[39m_constructor(new_data)\u001b[39m.\u001b[39m__finalize__(\u001b[39mself\u001b[39m, method\u001b[39m=\u001b[39m\u001b[39m\"\u001b[39m\u001b[39mastype\u001b[39m\u001b[39m\"\u001b[39m)\n\u001b[0;32m   6327\u001b[0m \u001b[39m# GH 33113: handle empty frame or series\u001b[39;00m\n",
            "File \u001b[1;32mc:\\Users\\gusti\\AppData\\Local\\Programs\\Python\\Python39\\lib\\site-packages\\pandas\\core\\internals\\managers.py:451\u001b[0m, in \u001b[0;36mBaseBlockManager.astype\u001b[1;34m(self, dtype, copy, errors)\u001b[0m\n\u001b[0;32m    448\u001b[0m \u001b[39melif\u001b[39;00m using_copy_on_write():\n\u001b[0;32m    449\u001b[0m     copy \u001b[39m=\u001b[39m \u001b[39mFalse\u001b[39;00m\n\u001b[1;32m--> 451\u001b[0m \u001b[39mreturn\u001b[39;00m \u001b[39mself\u001b[39;49m\u001b[39m.\u001b[39;49mapply(\n\u001b[0;32m    452\u001b[0m     \u001b[39m\"\u001b[39;49m\u001b[39mastype\u001b[39;49m\u001b[39m\"\u001b[39;49m,\n\u001b[0;32m    453\u001b[0m     dtype\u001b[39m=\u001b[39;49mdtype,\n\u001b[0;32m    454\u001b[0m     copy\u001b[39m=\u001b[39;49mcopy,\n\u001b[0;32m    455\u001b[0m     errors\u001b[39m=\u001b[39;49merrors,\n\u001b[0;32m    456\u001b[0m     using_cow\u001b[39m=\u001b[39;49musing_copy_on_write(),\n\u001b[0;32m    457\u001b[0m )\n",
            "File \u001b[1;32mc:\\Users\\gusti\\AppData\\Local\\Programs\\Python\\Python39\\lib\\site-packages\\pandas\\core\\internals\\managers.py:352\u001b[0m, in \u001b[0;36mBaseBlockManager.apply\u001b[1;34m(self, f, align_keys, **kwargs)\u001b[0m\n\u001b[0;32m    350\u001b[0m         applied \u001b[39m=\u001b[39m b\u001b[39m.\u001b[39mapply(f, \u001b[39m*\u001b[39m\u001b[39m*\u001b[39mkwargs)\n\u001b[0;32m    351\u001b[0m     \u001b[39melse\u001b[39;00m:\n\u001b[1;32m--> 352\u001b[0m         applied \u001b[39m=\u001b[39m \u001b[39mgetattr\u001b[39m(b, f)(\u001b[39m*\u001b[39m\u001b[39m*\u001b[39mkwargs)\n\u001b[0;32m    353\u001b[0m     result_blocks \u001b[39m=\u001b[39m extend_blocks(applied, result_blocks)\n\u001b[0;32m    355\u001b[0m out \u001b[39m=\u001b[39m \u001b[39mtype\u001b[39m(\u001b[39mself\u001b[39m)\u001b[39m.\u001b[39mfrom_blocks(result_blocks, \u001b[39mself\u001b[39m\u001b[39m.\u001b[39maxes)\n",
            "File \u001b[1;32mc:\\Users\\gusti\\AppData\\Local\\Programs\\Python\\Python39\\lib\\site-packages\\pandas\\core\\internals\\blocks.py:511\u001b[0m, in \u001b[0;36mBlock.astype\u001b[1;34m(self, dtype, copy, errors, using_cow)\u001b[0m\n\u001b[0;32m    491\u001b[0m \u001b[39m\u001b[39m\u001b[39m\"\"\"\u001b[39;00m\n\u001b[0;32m    492\u001b[0m \u001b[39mCoerce to the new dtype.\u001b[39;00m\n\u001b[0;32m    493\u001b[0m \n\u001b[1;32m   (...)\u001b[0m\n\u001b[0;32m    507\u001b[0m \u001b[39mBlock\u001b[39;00m\n\u001b[0;32m    508\u001b[0m \u001b[39m\"\"\"\u001b[39;00m\n\u001b[0;32m    509\u001b[0m values \u001b[39m=\u001b[39m \u001b[39mself\u001b[39m\u001b[39m.\u001b[39mvalues\n\u001b[1;32m--> 511\u001b[0m new_values \u001b[39m=\u001b[39m astype_array_safe(values, dtype, copy\u001b[39m=\u001b[39;49mcopy, errors\u001b[39m=\u001b[39;49merrors)\n\u001b[0;32m    513\u001b[0m new_values \u001b[39m=\u001b[39m maybe_coerce_values(new_values)\n\u001b[0;32m    515\u001b[0m refs \u001b[39m=\u001b[39m \u001b[39mNone\u001b[39;00m\n",
            "File \u001b[1;32mc:\\Users\\gusti\\AppData\\Local\\Programs\\Python\\Python39\\lib\\site-packages\\pandas\\core\\dtypes\\astype.py:242\u001b[0m, in \u001b[0;36mastype_array_safe\u001b[1;34m(values, dtype, copy, errors)\u001b[0m\n\u001b[0;32m    239\u001b[0m     dtype \u001b[39m=\u001b[39m dtype\u001b[39m.\u001b[39mnumpy_dtype\n\u001b[0;32m    241\u001b[0m \u001b[39mtry\u001b[39;00m:\n\u001b[1;32m--> 242\u001b[0m     new_values \u001b[39m=\u001b[39m astype_array(values, dtype, copy\u001b[39m=\u001b[39;49mcopy)\n\u001b[0;32m    243\u001b[0m \u001b[39mexcept\u001b[39;00m (\u001b[39mValueError\u001b[39;00m, \u001b[39mTypeError\u001b[39;00m):\n\u001b[0;32m    244\u001b[0m     \u001b[39m# e.g. _astype_nansafe can fail on object-dtype of strings\u001b[39;00m\n\u001b[0;32m    245\u001b[0m     \u001b[39m#  trying to convert to float\u001b[39;00m\n\u001b[0;32m    246\u001b[0m     \u001b[39mif\u001b[39;00m errors \u001b[39m==\u001b[39m \u001b[39m\"\u001b[39m\u001b[39mignore\u001b[39m\u001b[39m\"\u001b[39m:\n",
            "File \u001b[1;32mc:\\Users\\gusti\\AppData\\Local\\Programs\\Python\\Python39\\lib\\site-packages\\pandas\\core\\dtypes\\astype.py:187\u001b[0m, in \u001b[0;36mastype_array\u001b[1;34m(values, dtype, copy)\u001b[0m\n\u001b[0;32m    184\u001b[0m     values \u001b[39m=\u001b[39m values\u001b[39m.\u001b[39mastype(dtype, copy\u001b[39m=\u001b[39mcopy)\n\u001b[0;32m    186\u001b[0m \u001b[39melse\u001b[39;00m:\n\u001b[1;32m--> 187\u001b[0m     values \u001b[39m=\u001b[39m _astype_nansafe(values, dtype, copy\u001b[39m=\u001b[39;49mcopy)\n\u001b[0;32m    189\u001b[0m \u001b[39m# in pandas we don't store numpy str dtypes, so convert to object\u001b[39;00m\n\u001b[0;32m    190\u001b[0m \u001b[39mif\u001b[39;00m \u001b[39misinstance\u001b[39m(dtype, np\u001b[39m.\u001b[39mdtype) \u001b[39mand\u001b[39;00m \u001b[39missubclass\u001b[39m(values\u001b[39m.\u001b[39mdtype\u001b[39m.\u001b[39mtype, \u001b[39mstr\u001b[39m):\n",
            "File \u001b[1;32mc:\\Users\\gusti\\AppData\\Local\\Programs\\Python\\Python39\\lib\\site-packages\\pandas\\core\\dtypes\\astype.py:138\u001b[0m, in \u001b[0;36m_astype_nansafe\u001b[1;34m(arr, dtype, copy, skipna)\u001b[0m\n\u001b[0;32m    134\u001b[0m     \u001b[39mraise\u001b[39;00m \u001b[39mValueError\u001b[39;00m(msg)\n\u001b[0;32m    136\u001b[0m \u001b[39mif\u001b[39;00m copy \u001b[39mor\u001b[39;00m is_object_dtype(arr\u001b[39m.\u001b[39mdtype) \u001b[39mor\u001b[39;00m is_object_dtype(dtype):\n\u001b[0;32m    137\u001b[0m     \u001b[39m# Explicit copy, or required since NumPy can't view from / to object.\u001b[39;00m\n\u001b[1;32m--> 138\u001b[0m     \u001b[39mreturn\u001b[39;00m arr\u001b[39m.\u001b[39;49mastype(dtype, copy\u001b[39m=\u001b[39;49m\u001b[39mTrue\u001b[39;49;00m)\n\u001b[0;32m    140\u001b[0m \u001b[39mreturn\u001b[39;00m arr\u001b[39m.\u001b[39mastype(dtype, copy\u001b[39m=\u001b[39mcopy)\n",
            "\u001b[1;31mValueError\u001b[0m: cannot convert float NaN to integer"
          ]
        }
      ],
      "source": [
        "# merubah tipe data menjadi integer\n",
        "dsd['duration'] = dsd['duration'].astype(int)\n",
        "dsd['src_bytes'] = dsd['src_bytes'].astype(int)\n",
        "dsd['dst_bytes'] = dsd['dst_bytes'].astype(int)"
      ]
    },
    {
      "cell_type": "code",
      "execution_count": null,
      "metadata": {},
      "outputs": [],
      "source": [
        "# Menampilkan informasi DataFrame\n",
        "dsd.info()"
      ]
    },
    {
      "cell_type": "code",
      "execution_count": null,
      "metadata": {},
      "outputs": [],
      "source": [
        "dsd.src_bytes.unique()"
      ]
    },
    {
      "cell_type": "code",
      "execution_count": 233,
      "metadata": {},
      "outputs": [
        {
          "data": {
            "text/plain": [
              "10        8314\n",
              "14           0\n",
              "56        8314\n",
              "91        8314\n",
              "258          0\n",
              "          ... \n",
              "112276    8314\n",
              "112284       0\n",
              "112355       0\n",
              "112403       0\n",
              "112411       0\n",
              "Name: dst_bytes, Length: 1861, dtype: object"
            ]
          },
          "execution_count": 233,
          "metadata": {},
          "output_type": "execute_result"
        }
      ],
      "source": [
        "# spline interpolation\n",
        "dsd['duration'].interpolate(method= 'linear')\n",
        "dsd['src_bytes'].interpolate(method='linear')\n",
        "dsd['dst_bytes'].interpolate(method='linear')"
      ]
    },
    {
      "cell_type": "code",
      "execution_count": 235,
      "metadata": {},
      "outputs": [
        {
          "name": "stderr",
          "output_type": "stream",
          "text": [
            "C:\\Users\\gusti\\AppData\\Local\\Temp\\ipykernel_17980\\210939014.py:2: SettingWithCopyWarning: \n",
            "A value is trying to be set on a copy of a slice from a DataFrame\n",
            "\n",
            "See the caveats in the documentation: https://pandas.pydata.org/pandas-docs/stable/user_guide/indexing.html#returning-a-view-versus-a-copy\n",
            "  dsd['duration'].interpolate(inplace=True)\n",
            "C:\\Users\\gusti\\AppData\\Local\\Temp\\ipykernel_17980\\210939014.py:3: SettingWithCopyWarning: \n",
            "A value is trying to be set on a copy of a slice from a DataFrame\n",
            "\n",
            "See the caveats in the documentation: https://pandas.pydata.org/pandas-docs/stable/user_guide/indexing.html#returning-a-view-versus-a-copy\n",
            "  dsd['src_bytes'].interpolate(inplace=True)\n",
            "C:\\Users\\gusti\\AppData\\Local\\Temp\\ipykernel_17980\\210939014.py:4: SettingWithCopyWarning: \n",
            "A value is trying to be set on a copy of a slice from a DataFrame\n",
            "\n",
            "See the caveats in the documentation: https://pandas.pydata.org/pandas-docs/stable/user_guide/indexing.html#returning-a-view-versus-a-copy\n",
            "  dsd['dst_bytes'].interpolate(inplace=True)\n"
          ]
        }
      ],
      "source": [
        "# fill missing value with spline interpolation\n",
        "dsd['duration'].interpolate(inplace=True)\n",
        "dsd['src_bytes'].interpolate(inplace=True)\n",
        "dsd['dst_bytes'].interpolate(inplace=True)"
      ]
    },
    {
      "cell_type": "code",
      "execution_count": null,
      "metadata": {},
      "outputs": [],
      "source": [
        "# check missing value\n",
        "dsd.isnull().sum()"
      ]
    },
    {
      "cell_type": "code",
      "execution_count": null,
      "metadata": {},
      "outputs": [],
      "source": [
        "dsd.describe()"
      ]
    },
    {
      "cell_type": "code",
      "execution_count": null,
      "metadata": {},
      "outputs": [],
      "source": [
        "# boxplot\n",
        "sns.boxplot(data=dsd)"
      ]
    },
    {
      "cell_type": "code",
      "execution_count": null,
      "metadata": {},
      "outputs": [],
      "source": []
    },
    {
      "cell_type": "markdown",
      "metadata": {},
      "source": [
        "## Checking data type"
      ]
    },
    {
      "cell_type": "code",
      "execution_count": null,
      "metadata": {},
      "outputs": [],
      "source": [
        "# is_host_login type and unique value\n",
        "unique_values_host_login = df_t['is_host_login'].unique()\n",
        "print(unique_values_host_login)\n",
        "\n",
        "# change to data type bool"
      ]
    },
    {
      "cell_type": "code",
      "execution_count": null,
      "metadata": {},
      "outputs": [],
      "source": [
        "# is_guest_login type and unique value\n",
        "unique_values_guest_login = df_t['is_guest_login'].unique()\n",
        "print(unique_values_guest_login)\n",
        "\n",
        "# change to data type bool"
      ]
    },
    {
      "cell_type": "code",
      "execution_count": null,
      "metadata": {},
      "outputs": [],
      "source": [
        "# count data type and unique values\n",
        "unique_values_count = df_t['count'].unique()\n",
        "unique_values_count\n",
        "\n",
        "# change to data type to int"
      ]
    },
    {
      "cell_type": "code",
      "execution_count": null,
      "metadata": {},
      "outputs": [],
      "source": [
        "# srv_count data type and unique values\n",
        "unique_values_srv_count = df_t['srv_count'].unique()\n",
        "unique_values_srv_count\n",
        "\n",
        "# change to data type to int"
      ]
    },
    {
      "cell_type": "code",
      "execution_count": null,
      "metadata": {},
      "outputs": [],
      "source": [
        "# serror_rate data type and unique values\n",
        "unique_values_serror_rate = df_t['serror_rate'].unique()\n",
        "unique_values_serror_rate\n",
        "\n",
        "# change to data type to float"
      ]
    },
    {
      "cell_type": "code",
      "execution_count": null,
      "metadata": {},
      "outputs": [],
      "source": [
        "# srv_serror_rate data type and unique values\n",
        "unique_values_srv_serror_rate = df_t['srv_serror_rate'].unique()\n",
        "unique_values_srv_serror_rate\n",
        "\n",
        "# change to data type to float"
      ]
    },
    {
      "cell_type": "code",
      "execution_count": null,
      "metadata": {},
      "outputs": [],
      "source": [
        "# rerror_rate data type and unique values\n",
        "unique_values_rerror_rate = df_t['rerror_rate'].unique()\n",
        "unique_values_rerror_rate\n",
        "\n",
        "# change to data type to float"
      ]
    },
    {
      "cell_type": "code",
      "execution_count": null,
      "metadata": {},
      "outputs": [],
      "source": [
        "# srv_rerror_rate data type and unique values\n",
        "unique_values_srv_rerror_rate = df_t['srv_rerror_rate'].unique()\n",
        "unique_values_srv_rerror_rate\n",
        "\n",
        "# change to data type to float"
      ]
    },
    {
      "cell_type": "code",
      "execution_count": null,
      "metadata": {},
      "outputs": [],
      "source": [
        "# same_srv_rate data type and unique values\n",
        "unique_values_same_srv_rate = df_t['same_srv_rate'].unique()\n",
        "unique_values_same_srv_rate\n",
        "\n",
        "# change to data type to float"
      ]
    },
    {
      "cell_type": "code",
      "execution_count": null,
      "metadata": {},
      "outputs": [],
      "source": [
        "# diff_srv_rate data type and unique values\n",
        "unique_values_diff_srv_rate = df_t['diff_srv_rate'].unique()\n",
        "unique_values_diff_srv_rate\n",
        "\n",
        "# change to data type to float"
      ]
    },
    {
      "cell_type": "code",
      "execution_count": null,
      "metadata": {},
      "outputs": [],
      "source": [
        "# srv_diff_host_rate data type and unique values\n",
        "unique_values_srv_diff_host_rate = df_t['srv_diff_host_rate'].unique()\n",
        "unique_values_srv_diff_host_rate\n",
        "\n",
        "# change to data type to float"
      ]
    },
    {
      "cell_type": "code",
      "execution_count": null,
      "metadata": {},
      "outputs": [],
      "source": [
        "# dst_host_count data type and unique values\n",
        "unique_values_dst_host_count = df_t['dst_host_count'].unique()\n",
        "unique_values_dst_host_count\n",
        "\n",
        "# change to data type to int"
      ]
    },
    {
      "cell_type": "code",
      "execution_count": null,
      "metadata": {},
      "outputs": [],
      "source": [
        "# dst_host_srv_count data type and unique values\n",
        "unique_values_dst_host_srv_count = df_t['dst_host_srv_count'].unique()\n",
        "unique_values_dst_host_srv_count\n",
        "\n",
        "# change to data type to int"
      ]
    },
    {
      "cell_type": "code",
      "execution_count": null,
      "metadata": {},
      "outputs": [],
      "source": [
        "# dst_host_same_srv_rate data type and unique values\n",
        "unique_values_dst_host_same_srv_rate = df_t['dst_host_same_srv_rate'].unique()\n",
        "unique_values_dst_host_same_srv_rate\n",
        "\n",
        "# change to data type to float"
      ]
    },
    {
      "cell_type": "code",
      "execution_count": null,
      "metadata": {},
      "outputs": [],
      "source": [
        "# dst_host_diff_srv_rate data type and unique values\n",
        "unique_values_dst_host_diff_srv_rate = df_t['dst_host_diff_srv_rate'].unique()\n",
        "unique_values_dst_host_diff_srv_rate\n",
        "\n",
        "# change to data type to float"
      ]
    },
    {
      "cell_type": "code",
      "execution_count": null,
      "metadata": {},
      "outputs": [],
      "source": [
        "# dst_host_same_src_port_rate data type and unique values\n",
        "unique_values_dst_host_same_src_port_rate = df_t['dst_host_same_src_port_rate'].unique()\n",
        "unique_values_dst_host_same_src_port_rate\n",
        "\n",
        "# change to data type to float"
      ]
    },
    {
      "cell_type": "code",
      "execution_count": null,
      "metadata": {},
      "outputs": [],
      "source": [
        "# dst_host_srv_diff_host_rate data type and unique values\n",
        "unique_values_dst_host_srv_diff_host_rate = df_t['dst_host_srv_diff_host_rate'].unique()\n",
        "unique_values_dst_host_srv_diff_host_rate\n",
        "\n",
        "# change to data type to float"
      ]
    },
    {
      "cell_type": "code",
      "execution_count": null,
      "metadata": {},
      "outputs": [],
      "source": [
        "# dst_host_serror_rate data type and unique values\n",
        "unique_values_dst_host_serror_rate = df_t['dst_host_serror_rate'].unique()\n",
        "unique_values_dst_host_serror_rate\n",
        "\n",
        "# change to data type to float"
      ]
    },
    {
      "cell_type": "code",
      "execution_count": null,
      "metadata": {},
      "outputs": [],
      "source": [
        "# dst_host_srv_serror_rate data type and unique values\n",
        "unique_values_dst_host_srv_serror_rate = df_t['dst_host_srv_serror_rate'].unique()\n",
        "unique_values_dst_host_srv_serror_rate\n",
        "\n",
        "# change to data type to float"
      ]
    },
    {
      "cell_type": "code",
      "execution_count": null,
      "metadata": {},
      "outputs": [],
      "source": [
        "# dst_host_rerror_rate data type and unique values\n",
        "unique_values_dst_host_rerror_rate = df_t['dst_host_rerror_rate'].unique()\n",
        "unique_values_dst_host_rerror_rate\n",
        "\n",
        "# change to data type to float"
      ]
    },
    {
      "cell_type": "code",
      "execution_count": null,
      "metadata": {},
      "outputs": [],
      "source": [
        "# dst_host_srv_rerror_rate data type and unique values\n",
        "unique_values_dst_host_srv_rerror_rate = df_t['dst_host_srv_rerror_rate'].unique()\n",
        "unique_values_dst_host_srv_rerror_rate\n",
        "\n",
        "# change to data type to float"
      ]
    },
    {
      "cell_type": "code",
      "execution_count": null,
      "metadata": {},
      "outputs": [],
      "source": [
        "# type_of_attack data type and unique values\n",
        "unique_values_type_of_attack = df_t['type_of_attack'].unique()\n",
        "unique_values_type_of_attack\n",
        "\n",
        "# change to data type to category"
      ]
    },
    {
      "cell_type": "markdown",
      "metadata": {},
      "source": [
        "## Nilai 999 dan 99999"
      ]
    },
    {
      "cell_type": "code",
      "execution_count": null,
      "metadata": {},
      "outputs": [],
      "source": [
        "# Mencari kolom-kolom yang mengandung nilai 999 atau 99999\n",
        "kolom_dengan_999 = df_t.columns[df_t.eq(999).any()]\n",
        "kolom_dengan_99999 = df_t.columns[df_t.eq(99999).any()]\n",
        "\n",
        "# Menampilkan hasil\n",
        "print(\"Kolom dengan nilai 999:\")\n",
        "print(kolom_dengan_999)\n",
        "\n",
        "print(\"\\nKolom dengan nilai 99999:\")\n",
        "print(kolom_dengan_99999)\n"
      ]
    },
    {
      "cell_type": "code",
      "execution_count": null,
      "metadata": {},
      "outputs": [],
      "source": [
        "# Mencari kolom-kolom yang mengandung nilai 999 atau 99999\n",
        "kolom_dengan_999 = df_p.columns[df_p.eq(999).any()]\n"
      ]
    },
    {
      "cell_type": "markdown",
      "metadata": {},
      "source": [
        "## Perbandingan Persentase type of attack"
      ]
    },
    {
      "cell_type": "code",
      "execution_count": null,
      "metadata": {},
      "outputs": [],
      "source": [
        "persentase = df_t.type_of_attack.value_counts(normalize=True) * 100\n",
        "persentase"
      ]
    },
    {
      "cell_type": "code",
      "execution_count": null,
      "metadata": {},
      "outputs": [],
      "source": [
        "# Mengelompokkan hasil berdasarkan aturan yang diberikan\n",
        "grouped_results = {\n",
        "    \"Normal\": persentase[\"normal\"],\n",
        "    \"DoS\": persentase[\"Denial of Service Attack\"] + persentase[\"neptune\"] + persentase[\"smurf\"],\n",
        "    \"Probe\": persentase[\"nmap\"] + persentase[\"portsweep\"] + persentase[\"satan\"] + persentase[\"ipsweep\"]\n",
        "}\n",
        "\n",
        "# Menampilkan hasil\n",
        "for group, percentage in grouped_results.items():\n",
        "    print(f\"{group}: {percentage:.2f}%\")\n"
      ]
    },
    {
      "cell_type": "code",
      "execution_count": null,
      "metadata": {},
      "outputs": [],
      "source": [
        "# Menghitung jumlah Normal, DoS, dan Probe\n",
        "jumlah_normal = df_t[df_t['type_of_attack'] == 'normal'].shape[0]\n",
        "jumlah_dos = df_t[df_t['type_of_attack'].isin(['Denial of Service Attack', 'neptune', 'smurf'])].shape[0]\n",
        "jumlah_probe = df_t[df_t['type_of_attack'].isin(['nmap', 'portsweep', 'satan', 'ipsweep'])].shape[0]\n",
        "\n",
        "# Menampilkan hasil\n",
        "print(f\"Jumlah Normal: {jumlah_normal}\")\n",
        "print(f\"Jumlah DoS: {jumlah_dos}\")\n",
        "print(f\"Jumlah Probe: {jumlah_probe}\")\n"
      ]
    },
    {
      "cell_type": "markdown",
      "metadata": {},
      "source": [
        "## NaN and * value"
      ]
    },
    {
      "cell_type": "code",
      "execution_count": null,
      "metadata": {},
      "outputs": [],
      "source": [
        "\n",
        "# Menghitung jumlah nilai NaN dalam DataFrame\n",
        "jumlah_nan = df_t.isna().sum().sum()\n",
        "\n",
        "# Menghitung jumlah nilai \"*\" dalam DataFrame\n",
        "jumlah_asterisk = (df_t == '*').sum().sum()\n",
        "\n",
        "# Menghitung total elemen dalam DataFrame\n",
        "total_elemen = df_t.size\n",
        "\n",
        "# Menghitung persentase NaN dan \"*\" dalam DataFrame\n",
        "persentase_nan = (jumlah_nan / total_elemen) * 100\n",
        "persentase_asterisk = (jumlah_asterisk / total_elemen) * 100\n",
        "\n",
        "# Menampilkan hasil\n",
        "print(f\"Jumlah NaN: {jumlah_nan}\")\n",
        "print(f\"Jumlah '*': {jumlah_asterisk}\")\n",
        "print(f\"Persentase NaN: {persentase_nan:.2f}%\")\n",
        "print(f\"Persentase '*': {persentase_asterisk:.2f}%\")"
      ]
    },
    {
      "cell_type": "markdown",
      "metadata": {},
      "source": [
        "## Fitur terkait keamanan"
      ]
    },
    {
      "cell_type": "code",
      "execution_count": null,
      "metadata": {},
      "outputs": [],
      "source": [
        "k_secure = df_t[['num_failed_logins', 'num_access_files', \n",
        "                 'num_compromised', 'root_shell', \n",
        "                 'su_attempted', 'type_of_attack']]\n",
        "k_secure.head()"
      ]
    },
    {
      "cell_type": "code",
      "execution_count": null,
      "metadata": {},
      "outputs": [],
      "source": [
        "k_secure.info()"
      ]
    },
    {
      "cell_type": "code",
      "execution_count": null,
      "metadata": {},
      "outputs": [],
      "source": [
        "k_secure_sorted1 = k_secure.sort_values(by='num_failed_logins', ascending=False)\n",
        "k_secure_sorted1.head()"
      ]
    },
    {
      "cell_type": "code",
      "execution_count": null,
      "metadata": {},
      "outputs": [],
      "source": [
        "k_secure_sorted2 = k_secure.sort_values(by='num_access_files', ascending=False)\n",
        "k_secure_sorted2.head()"
      ]
    },
    {
      "cell_type": "code",
      "execution_count": null,
      "metadata": {},
      "outputs": [],
      "source": [
        "k_secure_sorted3 = k_secure.sort_values(by='num_compromised', ascending=False)\n",
        "k_secure_sorted3.head()"
      ]
    },
    {
      "cell_type": "code",
      "execution_count": null,
      "metadata": {},
      "outputs": [],
      "source": [
        "k_secure_sorted4 = k_secure.sort_values(by='root_shell', ascending=False)\n",
        "k_secure_sorted4.head()"
      ]
    },
    {
      "cell_type": "code",
      "execution_count": null,
      "metadata": {},
      "outputs": [],
      "source": [
        "k_secure_sorted5 = k_secure.sort_values(by='su_attempted', ascending=False)\n",
        "k_secure_sorted5.head()"
      ]
    },
    {
      "cell_type": "code",
      "execution_count": null,
      "metadata": {},
      "outputs": [],
      "source": [
        "k_secure.describe()"
      ]
    },
    {
      "cell_type": "code",
      "execution_count": null,
      "metadata": {},
      "outputs": [],
      "source": [
        "k_secure['num_failed_logins'].value_counts().sort_index()"
      ]
    },
    {
      "cell_type": "markdown",
      "metadata": {},
      "source": [
        "## FItur Terkait koneksi"
      ]
    },
    {
      "cell_type": "code",
      "execution_count": null,
      "metadata": {},
      "outputs": [],
      "source": [
        "c_conection = df_t[['duration', 'protocol_type', 'service', 'flag', 'src_bytes', 'dst_bytes', 'type_of_attack']]\n",
        "c_conection.head()"
      ]
    },
    {
      "cell_type": "code",
      "execution_count": null,
      "metadata": {},
      "outputs": [],
      "source": [
        "c_conection.describe()"
      ]
    },
    {
      "cell_type": "code",
      "execution_count": null,
      "metadata": {},
      "outputs": [],
      "source": [
        "c_conection.info()"
      ]
    },
    {
      "cell_type": "markdown",
      "metadata": {},
      "source": [
        "## Fitur Error Rate"
      ]
    },
    {
      "cell_type": "code",
      "execution_count": null,
      "metadata": {},
      "outputs": [],
      "source": [
        "r_error = df_t[['serror_rate', 'rerror_rate', \n",
        "                'srv_serror_rate', 'srv_rerror_rate', \n",
        "                'dst_host_serror_rate', 'dst_host_rerror_rate', 'type_of_attack']]\n",
        "r_error.head() "
      ]
    },
    {
      "cell_type": "code",
      "execution_count": null,
      "metadata": {},
      "outputs": [],
      "source": [
        "r_error.describe()"
      ]
    },
    {
      "cell_type": "code",
      "execution_count": null,
      "metadata": {},
      "outputs": [],
      "source": [
        "r_error.info()"
      ]
    },
    {
      "cell_type": "code",
      "execution_count": null,
      "metadata": {},
      "outputs": [],
      "source": [
        "r_error_g = r_error.groupby(by='type_of_attack')['serror_rate'].count().sort_values(ascending=False)\n",
        "r_error_g"
      ]
    },
    {
      "cell_type": "markdown",
      "metadata": {},
      "source": [
        "## Fitur Terkait Host (BERANTAKAN)\n",
        "\n",
        "Clean wkwk hapus \"*\" value dan hapus \"99999\" value"
      ]
    },
    {
      "cell_type": "code",
      "execution_count": null,
      "metadata": {},
      "outputs": [],
      "source": [
        "host = df_t[['dst_host_count', 'dst_host_srv_count', \n",
        "             'dst_host_same_srv_rate', 'dst_host_diff_srv_rate', 'type_of_attack']]\n",
        "host.head()"
      ]
    },
    {
      "cell_type": "code",
      "execution_count": null,
      "metadata": {},
      "outputs": [],
      "source": [
        "# Membuat bubble plot hanya untuk data yang memiliki dst_host_count dan dst_host_srv_count == '99999'\n",
        "filtered_host = host[(host['dst_host_srv_count'] == '99999')]"
      ]
    },
    {
      "cell_type": "code",
      "execution_count": null,
      "metadata": {},
      "outputs": [],
      "source": [
        "filtered_host"
      ]
    },
    {
      "cell_type": "code",
      "execution_count": null,
      "metadata": {},
      "outputs": [],
      "source": [
        "fgrup = filtered_host.groupby(by='type_of_attack')['dst_host_srv_count'].count().sort_values(ascending=False)\n",
        "fgrup"
      ]
    },
    {
      "cell_type": "code",
      "execution_count": null,
      "metadata": {},
      "outputs": [],
      "source": [
        "host.head().sort_values(by='dst_host_count', ascending=False)"
      ]
    },
    {
      "cell_type": "code",
      "execution_count": null,
      "metadata": {},
      "outputs": [],
      "source": [
        "host.head().sort_values(by='dst_host_srv_count', ascending=False)  "
      ]
    },
    {
      "cell_type": "code",
      "execution_count": null,
      "metadata": {},
      "outputs": [],
      "source": [
        "host.head().sort_values(by='dst_host_same_srv_rate', ascending=False)"
      ]
    },
    {
      "cell_type": "code",
      "execution_count": null,
      "metadata": {},
      "outputs": [],
      "source": [
        "host.sort_values(by='type_of_attack', ascending=True)"
      ]
    },
    {
      "cell_type": "code",
      "execution_count": null,
      "metadata": {},
      "outputs": [],
      "source": [
        "host.info()"
      ]
    },
    {
      "cell_type": "code",
      "execution_count": null,
      "metadata": {},
      "outputs": [],
      "source": [
        "host['dst_host_count'] = pd.to_numeric(host['dst_host_count'])\n",
        "host['dst_host_srv_count'] = pd.to_numeric(host['dst_host_srv_count'])"
      ]
    },
    {
      "cell_type": "code",
      "execution_count": null,
      "metadata": {},
      "outputs": [],
      "source": [
        "host.describe()"
      ]
    },
    {
      "cell_type": "code",
      "execution_count": null,
      "metadata": {},
      "outputs": [],
      "source": [
        "invalid_values = host[host['dst_host_count'] == '*'].count()\n",
        "invalid_values"
      ]
    },
    {
      "cell_type": "code",
      "execution_count": null,
      "metadata": {},
      "outputs": [],
      "source": [
        "invalid_values2 = host[host['dst_host_count'] == '99999'].count()\n",
        "invalid_values2"
      ]
    },
    {
      "cell_type": "code",
      "execution_count": null,
      "metadata": {},
      "outputs": [],
      "source": [
        "host = host[host['dst_host_count'] != '*']\n",
        "host = host[host['dst_host_srv_count'] != '*']"
      ]
    },
    {
      "cell_type": "code",
      "execution_count": null,
      "metadata": {},
      "outputs": [],
      "source": [
        "host = host[host['dst_host_count'] != '99999']\n",
        "host = host[host['dst_host_srv_count'] != '99999']"
      ]
    },
    {
      "cell_type": "code",
      "execution_count": null,
      "metadata": {},
      "outputs": [],
      "source": [
        "host = host[host['type_of_attack'] != 'Normal']"
      ]
    },
    {
      "cell_type": "code",
      "execution_count": null,
      "metadata": {},
      "outputs": [],
      "source": [
        "login = df_t[['dst_host_same_src_port_rate', 'dst_host_srv_diff_host_rate',]]\n",
        "login.head()"
      ]
    },
    {
      "cell_type": "code",
      "execution_count": null,
      "metadata": {},
      "outputs": [],
      "source": [
        "# Hitung Q1, Q3, dan IQR\n",
        "Q1 = host['dst_host_count'].quantile(0.25)\n",
        "Q3 = host['dst_host_count'].quantile(0.75)\n",
        "IQR = Q3 - Q1\n",
        "\n",
        "# Hitung Batas Atas dan Batas Bawah\n",
        "Upper_Bound = Q3 + 1.5 * IQR\n",
        "Lower_Bound = Q1 - 1.5 * IQR\n",
        "\n",
        "# Mengecualikan data outlier\n",
        "filtered_host = host[(host['dst_host_count'] >= Lower_Bound) & (host['dst_host_count'] <= Upper_Bound)]"
      ]
    },
    {
      "cell_type": "code",
      "execution_count": null,
      "metadata": {},
      "outputs": [],
      "source": [
        "# Membuat sebuah figure dengan subplots\n",
        "fig, axes = plt.subplots(nrows=2, ncols=2, figsize=(12, 8))\n",
        "\n",
        "# Membuat violin plot untuk kolom dst_host_count\n",
        "sns.violinplot(x='dst_host_count', data=host, ax=axes[0, 0])\n",
        "axes[0, 0].set_title('Violin Plot - dst_host_count')\n",
        "\n",
        "# Membuat violin plot untuk kolom dst_host_srv_count\n",
        "sns.violinplot(x='dst_host_srv_count', data=host, ax=axes[0, 1])\n",
        "axes[0, 1].set_title('Violin Plot - dst_host_srv_count')\n",
        "\n",
        "# Membuat violin plot untuk kolom dst_host_same_srv_rate\n",
        "sns.violinplot(x='dst_host_same_srv_rate', data=host, ax=axes[1, 0])\n",
        "axes[1, 0].set_title('Violin Plot - dst_host_same_srv_rate')\n",
        "\n",
        "# Membuat violin plot untuk kolom dst_host_diff_srv_rate\n",
        "sns.violinplot(x='dst_host_diff_srv_rate', data=host, ax=axes[1, 1])\n",
        "axes[1, 1].set_title('Violin Plot - dst_host_diff_srv_rate')\n",
        "\n",
        "# Mengatur tata letak subplot\n",
        "plt.tight_layout()\n",
        "\n",
        "# Menampilkan plot\n",
        "plt.show()\n"
      ]
    },
    {
      "cell_type": "code",
      "execution_count": null,
      "metadata": {},
      "outputs": [],
      "source": [
        "# Konversi kolom dst_host_count menjadi tipe data numerik\n",
        "host['dst_host_count'] = pd.to_numeric(host['dst_host_count'], errors='coerce')\n",
        "\n",
        "# Membuat sebuah figure\n",
        "plt.figure(figsize=(8, 6))\n",
        "\n",
        "# Membuat boxplot untuk kolom dst_host_count\n",
        "sns.boxplot(x='dst_host_count', data=host)\n",
        "plt.title('Box Plot - dst_host_count')\n",
        "\n",
        "# Menampilkan plot\n",
        "plt.show()"
      ]
    },
    {
      "cell_type": "code",
      "execution_count": null,
      "metadata": {},
      "outputs": [],
      "source": [
        "# Membuat sebuah figure\n",
        "plt.figure(figsize=(8, 6))\n",
        "\n",
        "# Membuat scatter plot untuk kolom dst_host_count dan dst_host_srv_count\n",
        "sns.scatterplot(x='dst_host_count', y='dst_host_srv_count', data=host)\n",
        "plt.title('Scatter Plot - dst_host_count vs dst_host_srv_count')\n",
        "\n",
        "# Menampilkan plot\n",
        "plt.show()"
      ]
    },
    {
      "cell_type": "code",
      "execution_count": null,
      "metadata": {},
      "outputs": [],
      "source": [
        "# Membuat bubble plot\n",
        "plt.figure(figsize=(10, 8))\n",
        "sns.scatterplot(x='dst_host_count', y='dst_host_srv_count', size='dst_host_same_srv_rate', data=host, sizes=(50, 500))\n",
        "plt.title('Bubble Plot - dst_host_count vs dst_host_srv_count')\n",
        "plt.xlabel('dst_host_count')\n",
        "plt.ylabel('dst_host_srv_count')\n",
        "\n",
        "# Menampilkan plot\n",
        "plt.show()"
      ]
    },
    {
      "cell_type": "markdown",
      "metadata": {},
      "source": [
        "## Fitur Terkait Distribusi Port"
      ]
    },
    {
      "cell_type": "code",
      "execution_count": null,
      "metadata": {},
      "outputs": [],
      "source": [
        "port = df_t[['dst_host_same_src_port_rate', 'dst_host_srv_diff_host_rate', 'service', 'type_of_attack']]"
      ]
    },
    {
      "cell_type": "code",
      "execution_count": null,
      "metadata": {},
      "outputs": [],
      "source": [
        "port.head()"
      ]
    },
    {
      "cell_type": "code",
      "execution_count": null,
      "metadata": {},
      "outputs": [],
      "source": [
        "port.info()"
      ]
    },
    {
      "cell_type": "code",
      "execution_count": null,
      "metadata": {},
      "outputs": [],
      "source": [
        "# grupby dst_host_srv_diff_host_rate\n",
        "p_g1 = port.groupby(by='dst_host_srv_diff_host_rate')['dst_host_same_src_port_rate'].count().sort_values(ascending=False)\n",
        "p_g1"
      ]
    },
    {
      "cell_type": "code",
      "execution_count": null,
      "metadata": {},
      "outputs": [],
      "source": [
        "# grupby dst_host_srv_diff_host_rate\n",
        "p_g2 = port.groupby(by='dst_host_srv_diff_host_rate')['dst_host_srv_diff_host_rate'].count().sort_values(ascending=False)\n",
        "p_g2"
      ]
    },
    {
      "cell_type": "code",
      "execution_count": null,
      "metadata": {},
      "outputs": [],
      "source": [
        "# menghapus nilai * pada kolom dst_host_same_src_port_rate dan dst_host_srv_diff_host_rate\n",
        "port = port[port['dst_host_same_src_port_rate'] != '*']\n",
        "port = port[port['dst_host_srv_diff_host_rate'] != '*']"
      ]
    },
    {
      "cell_type": "code",
      "execution_count": null,
      "metadata": {},
      "outputs": [],
      "source": [
        "# menghapus nilai 99999 pada kolom dst_host_same_src_port_rate dan dst_host_srv_diff_host_rate\n",
        "port = port[port['dst_host_same_src_port_rate'] != '99999']\n",
        "port = port[port['dst_host_srv_diff_host_rate'] != '99999']"
      ]
    },
    {
      "cell_type": "code",
      "execution_count": null,
      "metadata": {},
      "outputs": [],
      "source": [
        "# merubah tipe data dst_host_same_src_port_rate dan dst_host_srv_diff_host_rate menjadi numerik\n",
        "port['dst_host_same_src_port_rate'] = pd.to_numeric(port['dst_host_same_src_port_rate'])\n",
        "port['dst_host_srv_diff_host_rate'] = pd.to_numeric(port['dst_host_srv_diff_host_rate'])"
      ]
    },
    {
      "cell_type": "code",
      "execution_count": null,
      "metadata": {},
      "outputs": [],
      "source": [
        "port_x = port"
      ]
    },
    {
      "cell_type": "code",
      "execution_count": null,
      "metadata": {},
      "outputs": [],
      "source": [
        "# Specify a list of markers for each unique type_of_attack\n",
        "markers = [\"o\", \"s\", \"D\", \"X\", \"P\", \"*\", \"^\", \"v\"]\n",
        "\n",
        "# Create a pair plot\n",
        "sns.pairplot(port_x, hue='type_of_attack', diag_kind='kde', markers=markers, palette='Set1')\n",
        "plt.suptitle('Pair Plot - Persebaran dan Korelasi Data', y=1.02)\n",
        "\n",
        "# Show the plot\n",
        "plt.show()"
      ]
    },
    {
      "cell_type": "markdown",
      "metadata": {},
      "source": [
        "# X ***Kategori Variabel***"
      ]
    },
    {
      "cell_type": "code",
      "execution_count": null,
      "metadata": {},
      "outputs": [],
      "source": [
        "k_vars = df_t[['protocol_type', 'service', 'flag']]\n",
        "k_vars.head()"
      ]
    },
    {
      "cell_type": "markdown",
      "metadata": {},
      "source": [
        "## **Looking at Type of Attack**"
      ]
    },
    {
      "cell_type": "markdown",
      "metadata": {
        "id": "urzlsUsYYgyK"
      },
      "source": [
        "label column : type of attack"
      ]
    },
    {
      "cell_type": "code",
      "execution_count": null,
      "metadata": {
        "colab": {
          "base_uri": "https://localhost:8080/"
        },
        "id": "bigY5YH1kXNg",
        "outputId": "4650b08d-5035-4c89-8115-75e5a68a1d57"
      },
      "outputs": [],
      "source": [
        "attack_type = df_train['type_of_attack'].unique()\n",
        "\n",
        "print(\"Nilai yang ada dalam kolom x3:\")\n",
        "print(attack_type)"
      ]
    },
    {
      "cell_type": "markdown",
      "metadata": {
        "id": "1WjcxLiftgPg"
      },
      "source": [
        "TYPE OF ATTACK :\n",
        "- nmap\n",
        "- neptune\n",
        "- normal\n",
        "- Denial of Service Attack\n",
        "- portsweep\n",
        "- satan\n",
        "- ipsweep\n",
        "- smurf"
      ]
    },
    {
      "cell_type": "markdown",
      "metadata": {},
      "source": [
        "Normal\n",
        "\n",
        "DOS ATTACK: \n",
        "neptune -> working to SYN flood Denial of Service on one or more ports, Neptune attack make the memory resources busy by sending TCP packet requesting to initiate a TCP session,\n",
        "DOS ->  makes the computer system to be hectic by sending many ping, \n",
        "Smurf -> Denial of Service ICMP echo reply flood. \n",
        "\n",
        "PROBE: nmap, portsweep, satan, ipsweep, "
      ]
    },
    {
      "cell_type": "markdown",
      "metadata": {},
      "source": [
        "This paper focused on Neptune and Smurf types of attack. Those attack characterized as DoS Attack. Dos Attack makes the computer system to be hectic by sending many ping. Neptune attack working to SYN flood Denial of Service on one or more ports while the function of Smurf attack is Denial of Service ICMP echo reply flood. Neptune attack make the memory resources busy by sending TCP packet requesting to initiate a TCP session.  After many TCP packet sent, the computer system finally runs out of memory resources. Smurf attack is the popular type of attack sending ICMP echo request packet to middle device. ICMP packets have source address name as victim’s IP address and middle device address as destination address. DoS attack reduces the performance of server by overflowing the ICMP traffic as discussed above in the Neptune and Smurf attack. So, detection of DoS attack is very significant to protect the system. "
      ]
    },
    {
      "cell_type": "markdown",
      "metadata": {},
      "source": [
        "KOLOM KUNCI:\n",
        "- protocol type\n",
        "- port\n",
        "- "
      ]
    },
    {
      "cell_type": "code",
      "execution_count": null,
      "metadata": {},
      "outputs": [],
      "source": [
        "def filtered_by_type_of_attack(df, values):\n",
        "    filtered = df[df['type_of_attack'] == values]\n",
        "    return filtered"
      ]
    },
    {
      "cell_type": "code",
      "execution_count": null,
      "metadata": {},
      "outputs": [],
      "source": [
        "filtered_by_type_of_attack(df_train, 'nmap')"
      ]
    },
    {
      "cell_type": "code",
      "execution_count": null,
      "metadata": {},
      "outputs": [],
      "source": [
        "ProfileReport(filtered_by_type_of_attack(df_train, 'nmap'))"
      ]
    },
    {
      "cell_type": "code",
      "execution_count": null,
      "metadata": {},
      "outputs": [],
      "source": [
        "filtered_by_type_of_attack(df_train, 'neptune')"
      ]
    },
    {
      "cell_type": "code",
      "execution_count": null,
      "metadata": {},
      "outputs": [],
      "source": [
        "filtered_by_type_of_attack(df_train, 'normal')"
      ]
    },
    {
      "cell_type": "code",
      "execution_count": null,
      "metadata": {},
      "outputs": [],
      "source": [
        "filtered_by_type_of_attack(df_train, 'Denial of Service Attack')"
      ]
    },
    {
      "cell_type": "code",
      "execution_count": null,
      "metadata": {},
      "outputs": [],
      "source": [
        "filtered_by_type_of_attack(df_train, 'portsweep')"
      ]
    },
    {
      "cell_type": "code",
      "execution_count": null,
      "metadata": {},
      "outputs": [],
      "source": [
        "filtered_by_type_of_attack(df_train, 'satan')"
      ]
    },
    {
      "cell_type": "code",
      "execution_count": null,
      "metadata": {},
      "outputs": [],
      "source": [
        "filtered_by_type_of_attack(df_train, 'ipsweep')"
      ]
    },
    {
      "cell_type": "code",
      "execution_count": null,
      "metadata": {},
      "outputs": [],
      "source": [
        "filtered_by_type_of_attack(df_train, 'smurf')"
      ]
    },
    {
      "cell_type": "markdown",
      "metadata": {
        "id": "HJRQm5pMvI7t"
      },
      "source": [
        "## **Duplicate Data**"
      ]
    },
    {
      "cell_type": "code",
      "execution_count": null,
      "metadata": {
        "id": "Db4ET8b-tfdn"
      },
      "outputs": [],
      "source": [
        "duplicates = df_train[df_train.duplicated()]"
      ]
    },
    {
      "cell_type": "code",
      "execution_count": null,
      "metadata": {
        "colab": {
          "base_uri": "https://localhost:8080/",
          "height": 443
        },
        "id": "8nkK3YBVu_6T",
        "outputId": "39474846-bef6-4722-dd4b-85f6efe00a5b"
      },
      "outputs": [],
      "source": [
        "duplicates"
      ]
    },
    {
      "cell_type": "markdown",
      "metadata": {
        "id": "tgpOaA0AvMmB"
      },
      "source": [
        "is it really duplicate? harus nemu variabel kunci yg menentukan itu row duplicate or no. atau jangan jangan nilai duplicate ini bisa jadi kunci network attack (karena patternnya sama)"
      ]
    },
    {
      "cell_type": "code",
      "execution_count": null,
      "metadata": {
        "id": "Gzm5LjDtvZQP"
      },
      "outputs": [],
      "source": []
    }
  ],
  "metadata": {
    "colab": {
      "provenance": []
    },
    "kernelspec": {
      "display_name": "Python 3",
      "name": "python3"
    },
    "language_info": {
      "codemirror_mode": {
        "name": "ipython",
        "version": 3
      },
      "file_extension": ".py",
      "mimetype": "text/x-python",
      "name": "python",
      "nbconvert_exporter": "python",
      "pygments_lexer": "ipython3",
      "version": "3.9.0"
    },
    "widgets": {
      "application/vnd.jupyter.widget-state+json": {
        "025701a70abe4f91a5aaba66ac0633cb": {
          "model_module": "@jupyter-widgets/controls",
          "model_module_version": "1.5.0",
          "model_name": "DescriptionStyleModel",
          "state": {
            "_model_module": "@jupyter-widgets/controls",
            "_model_module_version": "1.5.0",
            "_model_name": "DescriptionStyleModel",
            "_view_count": null,
            "_view_module": "@jupyter-widgets/base",
            "_view_module_version": "1.2.0",
            "_view_name": "StyleView",
            "description_width": ""
          }
        },
        "0b8290ab44e04e1eb529cef9e303feaa": {
          "model_module": "@jupyter-widgets/base",
          "model_module_version": "1.2.0",
          "model_name": "LayoutModel",
          "state": {
            "_model_module": "@jupyter-widgets/base",
            "_model_module_version": "1.2.0",
            "_model_name": "LayoutModel",
            "_view_count": null,
            "_view_module": "@jupyter-widgets/base",
            "_view_module_version": "1.2.0",
            "_view_name": "LayoutView",
            "align_content": null,
            "align_items": null,
            "align_self": null,
            "border": null,
            "bottom": null,
            "display": null,
            "flex": null,
            "flex_flow": null,
            "grid_area": null,
            "grid_auto_columns": null,
            "grid_auto_flow": null,
            "grid_auto_rows": null,
            "grid_column": null,
            "grid_gap": null,
            "grid_row": null,
            "grid_template_areas": null,
            "grid_template_columns": null,
            "grid_template_rows": null,
            "height": null,
            "justify_content": null,
            "justify_items": null,
            "left": null,
            "margin": null,
            "max_height": null,
            "max_width": null,
            "min_height": null,
            "min_width": null,
            "object_fit": null,
            "object_position": null,
            "order": null,
            "overflow": null,
            "overflow_x": null,
            "overflow_y": null,
            "padding": null,
            "right": null,
            "top": null,
            "visibility": null,
            "width": null
          }
        },
        "1a53c4b30cdf4fa3a2646068032fc387": {
          "model_module": "@jupyter-widgets/base",
          "model_module_version": "1.2.0",
          "model_name": "LayoutModel",
          "state": {
            "_model_module": "@jupyter-widgets/base",
            "_model_module_version": "1.2.0",
            "_model_name": "LayoutModel",
            "_view_count": null,
            "_view_module": "@jupyter-widgets/base",
            "_view_module_version": "1.2.0",
            "_view_name": "LayoutView",
            "align_content": null,
            "align_items": null,
            "align_self": null,
            "border": null,
            "bottom": null,
            "display": null,
            "flex": null,
            "flex_flow": null,
            "grid_area": null,
            "grid_auto_columns": null,
            "grid_auto_flow": null,
            "grid_auto_rows": null,
            "grid_column": null,
            "grid_gap": null,
            "grid_row": null,
            "grid_template_areas": null,
            "grid_template_columns": null,
            "grid_template_rows": null,
            "height": null,
            "justify_content": null,
            "justify_items": null,
            "left": null,
            "margin": null,
            "max_height": null,
            "max_width": null,
            "min_height": null,
            "min_width": null,
            "object_fit": null,
            "object_position": null,
            "order": null,
            "overflow": null,
            "overflow_x": null,
            "overflow_y": null,
            "padding": null,
            "right": null,
            "top": null,
            "visibility": null,
            "width": null
          }
        },
        "1d38a7a3fe2c49a68029903a3ebcfb75": {
          "model_module": "@jupyter-widgets/controls",
          "model_module_version": "1.5.0",
          "model_name": "DescriptionStyleModel",
          "state": {
            "_model_module": "@jupyter-widgets/controls",
            "_model_module_version": "1.5.0",
            "_model_name": "DescriptionStyleModel",
            "_view_count": null,
            "_view_module": "@jupyter-widgets/base",
            "_view_module_version": "1.2.0",
            "_view_name": "StyleView",
            "description_width": ""
          }
        },
        "1ecb0903502d4aec9f2fd889814281c4": {
          "model_module": "@jupyter-widgets/controls",
          "model_module_version": "1.5.0",
          "model_name": "HTMLModel",
          "state": {
            "_dom_classes": [],
            "_model_module": "@jupyter-widgets/controls",
            "_model_module_version": "1.5.0",
            "_model_name": "HTMLModel",
            "_view_count": null,
            "_view_module": "@jupyter-widgets/controls",
            "_view_module_version": "1.5.0",
            "_view_name": "HTMLView",
            "description": "",
            "description_tooltip": null,
            "layout": "IPY_MODEL_0b8290ab44e04e1eb529cef9e303feaa",
            "placeholder": "​",
            "style": "IPY_MODEL_1d38a7a3fe2c49a68029903a3ebcfb75",
            "value": " 1/1 [00:02&lt;00:00,  2.14s/it]"
          }
        },
        "1f9ab2d505f047139e74e2df20c78d32": {
          "model_module": "@jupyter-widgets/controls",
          "model_module_version": "1.5.0",
          "model_name": "HTMLModel",
          "state": {
            "_dom_classes": [],
            "_model_module": "@jupyter-widgets/controls",
            "_model_module_version": "1.5.0",
            "_model_name": "HTMLModel",
            "_view_count": null,
            "_view_module": "@jupyter-widgets/controls",
            "_view_module_version": "1.5.0",
            "_view_name": "HTMLView",
            "description": "",
            "description_tooltip": null,
            "layout": "IPY_MODEL_f030d05a6cce42bda653bf8e3406e15b",
            "placeholder": "​",
            "style": "IPY_MODEL_433d1529688a4f43a1000f4630e4a5dd",
            "value": "Render HTML: 100%"
          }
        },
        "249689861bcb483abdd4e2974929dfbc": {
          "model_module": "@jupyter-widgets/base",
          "model_module_version": "1.2.0",
          "model_name": "LayoutModel",
          "state": {
            "_model_module": "@jupyter-widgets/base",
            "_model_module_version": "1.2.0",
            "_model_name": "LayoutModel",
            "_view_count": null,
            "_view_module": "@jupyter-widgets/base",
            "_view_module_version": "1.2.0",
            "_view_name": "LayoutView",
            "align_content": null,
            "align_items": null,
            "align_self": null,
            "border": null,
            "bottom": null,
            "display": null,
            "flex": null,
            "flex_flow": null,
            "grid_area": null,
            "grid_auto_columns": null,
            "grid_auto_flow": null,
            "grid_auto_rows": null,
            "grid_column": null,
            "grid_gap": null,
            "grid_row": null,
            "grid_template_areas": null,
            "grid_template_columns": null,
            "grid_template_rows": null,
            "height": null,
            "justify_content": null,
            "justify_items": null,
            "left": null,
            "margin": null,
            "max_height": null,
            "max_width": null,
            "min_height": null,
            "min_width": null,
            "object_fit": null,
            "object_position": null,
            "order": null,
            "overflow": null,
            "overflow_x": null,
            "overflow_y": null,
            "padding": null,
            "right": null,
            "top": null,
            "visibility": null,
            "width": null
          }
        },
        "29ce7f41c92f48a1b8b18f6a1fad6270": {
          "model_module": "@jupyter-widgets/controls",
          "model_module_version": "1.5.0",
          "model_name": "HBoxModel",
          "state": {
            "_dom_classes": [],
            "_model_module": "@jupyter-widgets/controls",
            "_model_module_version": "1.5.0",
            "_model_name": "HBoxModel",
            "_view_count": null,
            "_view_module": "@jupyter-widgets/controls",
            "_view_module_version": "1.5.0",
            "_view_name": "HBoxView",
            "box_style": "",
            "children": [
              "IPY_MODEL_67aa0589c67f4decb0b26da6cc7c0560",
              "IPY_MODEL_b325ac4fe8b94f84ab5f4bb458bdf0b7",
              "IPY_MODEL_6c296ede1b5a453f814eefb8e113598f"
            ],
            "layout": "IPY_MODEL_1a53c4b30cdf4fa3a2646068032fc387"
          }
        },
        "2cbebc52d2384aa99af66f3746776612": {
          "model_module": "@jupyter-widgets/controls",
          "model_module_version": "1.5.0",
          "model_name": "HTMLModel",
          "state": {
            "_dom_classes": [],
            "_model_module": "@jupyter-widgets/controls",
            "_model_module_version": "1.5.0",
            "_model_name": "HTMLModel",
            "_view_count": null,
            "_view_module": "@jupyter-widgets/controls",
            "_view_module_version": "1.5.0",
            "_view_name": "HTMLView",
            "description": "",
            "description_tooltip": null,
            "layout": "IPY_MODEL_e41cc8a3f8ea41b28ea1e5b6078cabb3",
            "placeholder": "​",
            "style": "IPY_MODEL_6c4a64f50917480aa969ba42d4c6fc65",
            "value": " 1/1 [00:24&lt;00:00, 24.22s/it]"
          }
        },
        "2d6775e7443f41a08057a2f0a51e61ed": {
          "model_module": "@jupyter-widgets/base",
          "model_module_version": "1.2.0",
          "model_name": "LayoutModel",
          "state": {
            "_model_module": "@jupyter-widgets/base",
            "_model_module_version": "1.2.0",
            "_model_name": "LayoutModel",
            "_view_count": null,
            "_view_module": "@jupyter-widgets/base",
            "_view_module_version": "1.2.0",
            "_view_name": "LayoutView",
            "align_content": null,
            "align_items": null,
            "align_self": null,
            "border": null,
            "bottom": null,
            "display": null,
            "flex": null,
            "flex_flow": null,
            "grid_area": null,
            "grid_auto_columns": null,
            "grid_auto_flow": null,
            "grid_auto_rows": null,
            "grid_column": null,
            "grid_gap": null,
            "grid_row": null,
            "grid_template_areas": null,
            "grid_template_columns": null,
            "grid_template_rows": null,
            "height": null,
            "justify_content": null,
            "justify_items": null,
            "left": null,
            "margin": null,
            "max_height": null,
            "max_width": null,
            "min_height": null,
            "min_width": null,
            "object_fit": null,
            "object_position": null,
            "order": null,
            "overflow": null,
            "overflow_x": null,
            "overflow_y": null,
            "padding": null,
            "right": null,
            "top": null,
            "visibility": null,
            "width": null
          }
        },
        "433d1529688a4f43a1000f4630e4a5dd": {
          "model_module": "@jupyter-widgets/controls",
          "model_module_version": "1.5.0",
          "model_name": "DescriptionStyleModel",
          "state": {
            "_model_module": "@jupyter-widgets/controls",
            "_model_module_version": "1.5.0",
            "_model_name": "DescriptionStyleModel",
            "_view_count": null,
            "_view_module": "@jupyter-widgets/base",
            "_view_module_version": "1.2.0",
            "_view_name": "StyleView",
            "description_width": ""
          }
        },
        "67aa0589c67f4decb0b26da6cc7c0560": {
          "model_module": "@jupyter-widgets/controls",
          "model_module_version": "1.5.0",
          "model_name": "HTMLModel",
          "state": {
            "_dom_classes": [],
            "_model_module": "@jupyter-widgets/controls",
            "_model_module_version": "1.5.0",
            "_model_name": "HTMLModel",
            "_view_count": null,
            "_view_module": "@jupyter-widgets/controls",
            "_view_module_version": "1.5.0",
            "_view_name": "HTMLView",
            "description": "",
            "description_tooltip": null,
            "layout": "IPY_MODEL_e6c161a8659740acb87ce2b92c232f66",
            "placeholder": "​",
            "style": "IPY_MODEL_025701a70abe4f91a5aaba66ac0633cb",
            "value": "Summarize dataset: 100%"
          }
        },
        "6c296ede1b5a453f814eefb8e113598f": {
          "model_module": "@jupyter-widgets/controls",
          "model_module_version": "1.5.0",
          "model_name": "HTMLModel",
          "state": {
            "_dom_classes": [],
            "_model_module": "@jupyter-widgets/controls",
            "_model_module_version": "1.5.0",
            "_model_name": "HTMLModel",
            "_view_count": null,
            "_view_module": "@jupyter-widgets/controls",
            "_view_module_version": "1.5.0",
            "_view_name": "HTMLView",
            "description": "",
            "description_tooltip": null,
            "layout": "IPY_MODEL_bc53c1d46adc468dbd2da61b6e66413d",
            "placeholder": "​",
            "style": "IPY_MODEL_d0e3243901ca442588cf925126e9f294",
            "value": " 68/68 [00:45&lt;00:00,  1.53it/s, Completed]"
          }
        },
        "6c4a64f50917480aa969ba42d4c6fc65": {
          "model_module": "@jupyter-widgets/controls",
          "model_module_version": "1.5.0",
          "model_name": "DescriptionStyleModel",
          "state": {
            "_model_module": "@jupyter-widgets/controls",
            "_model_module_version": "1.5.0",
            "_model_name": "DescriptionStyleModel",
            "_view_count": null,
            "_view_module": "@jupyter-widgets/base",
            "_view_module_version": "1.2.0",
            "_view_name": "StyleView",
            "description_width": ""
          }
        },
        "821f59b2afdd418196ed0c1558aed714": {
          "model_module": "@jupyter-widgets/base",
          "model_module_version": "1.2.0",
          "model_name": "LayoutModel",
          "state": {
            "_model_module": "@jupyter-widgets/base",
            "_model_module_version": "1.2.0",
            "_model_name": "LayoutModel",
            "_view_count": null,
            "_view_module": "@jupyter-widgets/base",
            "_view_module_version": "1.2.0",
            "_view_name": "LayoutView",
            "align_content": null,
            "align_items": null,
            "align_self": null,
            "border": null,
            "bottom": null,
            "display": null,
            "flex": null,
            "flex_flow": null,
            "grid_area": null,
            "grid_auto_columns": null,
            "grid_auto_flow": null,
            "grid_auto_rows": null,
            "grid_column": null,
            "grid_gap": null,
            "grid_row": null,
            "grid_template_areas": null,
            "grid_template_columns": null,
            "grid_template_rows": null,
            "height": null,
            "justify_content": null,
            "justify_items": null,
            "left": null,
            "margin": null,
            "max_height": null,
            "max_width": null,
            "min_height": null,
            "min_width": null,
            "object_fit": null,
            "object_position": null,
            "order": null,
            "overflow": null,
            "overflow_x": null,
            "overflow_y": null,
            "padding": null,
            "right": null,
            "top": null,
            "visibility": null,
            "width": null
          }
        },
        "831f30f76dcd4283949c44ee7e29614a": {
          "model_module": "@jupyter-widgets/controls",
          "model_module_version": "1.5.0",
          "model_name": "HBoxModel",
          "state": {
            "_dom_classes": [],
            "_model_module": "@jupyter-widgets/controls",
            "_model_module_version": "1.5.0",
            "_model_name": "HBoxModel",
            "_view_count": null,
            "_view_module": "@jupyter-widgets/controls",
            "_view_module_version": "1.5.0",
            "_view_name": "HBoxView",
            "box_style": "",
            "children": [
              "IPY_MODEL_1f9ab2d505f047139e74e2df20c78d32",
              "IPY_MODEL_d090c59f6393472caf7d6eb7b2028e13",
              "IPY_MODEL_1ecb0903502d4aec9f2fd889814281c4"
            ],
            "layout": "IPY_MODEL_b80744b4d58546879ddebae7f25b0ba9"
          }
        },
        "907fea40811b4f519578f8d0b4811c06": {
          "model_module": "@jupyter-widgets/controls",
          "model_module_version": "1.5.0",
          "model_name": "ProgressStyleModel",
          "state": {
            "_model_module": "@jupyter-widgets/controls",
            "_model_module_version": "1.5.0",
            "_model_name": "ProgressStyleModel",
            "_view_count": null,
            "_view_module": "@jupyter-widgets/base",
            "_view_module_version": "1.2.0",
            "_view_name": "StyleView",
            "bar_color": null,
            "description_width": ""
          }
        },
        "90ebcdbf960d4b58a948cb7ea4c6787c": {
          "model_module": "@jupyter-widgets/controls",
          "model_module_version": "1.5.0",
          "model_name": "ProgressStyleModel",
          "state": {
            "_model_module": "@jupyter-widgets/controls",
            "_model_module_version": "1.5.0",
            "_model_name": "ProgressStyleModel",
            "_view_count": null,
            "_view_module": "@jupyter-widgets/base",
            "_view_module_version": "1.2.0",
            "_view_name": "StyleView",
            "bar_color": null,
            "description_width": ""
          }
        },
        "91943565dceb4e0b8f4648f46739372f": {
          "model_module": "@jupyter-widgets/controls",
          "model_module_version": "1.5.0",
          "model_name": "HBoxModel",
          "state": {
            "_dom_classes": [],
            "_model_module": "@jupyter-widgets/controls",
            "_model_module_version": "1.5.0",
            "_model_name": "HBoxModel",
            "_view_count": null,
            "_view_module": "@jupyter-widgets/controls",
            "_view_module_version": "1.5.0",
            "_view_name": "HBoxView",
            "box_style": "",
            "children": [
              "IPY_MODEL_d517cc24b3de44dfb85db916877609cb",
              "IPY_MODEL_9ab3ac34ca9c46439aef116e2244c326",
              "IPY_MODEL_2cbebc52d2384aa99af66f3746776612"
            ],
            "layout": "IPY_MODEL_f2fbe962759046bca2bff4912ce8f8bb"
          }
        },
        "9ab3ac34ca9c46439aef116e2244c326": {
          "model_module": "@jupyter-widgets/controls",
          "model_module_version": "1.5.0",
          "model_name": "FloatProgressModel",
          "state": {
            "_dom_classes": [],
            "_model_module": "@jupyter-widgets/controls",
            "_model_module_version": "1.5.0",
            "_model_name": "FloatProgressModel",
            "_view_count": null,
            "_view_module": "@jupyter-widgets/controls",
            "_view_module_version": "1.5.0",
            "_view_name": "ProgressView",
            "bar_style": "success",
            "description": "",
            "description_tooltip": null,
            "layout": "IPY_MODEL_249689861bcb483abdd4e2974929dfbc",
            "max": 1,
            "min": 0,
            "orientation": "horizontal",
            "style": "IPY_MODEL_90ebcdbf960d4b58a948cb7ea4c6787c",
            "value": 1
          }
        },
        "a8a1338f370c4c608b6e0afebea59e0a": {
          "model_module": "@jupyter-widgets/controls",
          "model_module_version": "1.5.0",
          "model_name": "DescriptionStyleModel",
          "state": {
            "_model_module": "@jupyter-widgets/controls",
            "_model_module_version": "1.5.0",
            "_model_name": "DescriptionStyleModel",
            "_view_count": null,
            "_view_module": "@jupyter-widgets/base",
            "_view_module_version": "1.2.0",
            "_view_name": "StyleView",
            "description_width": ""
          }
        },
        "b325ac4fe8b94f84ab5f4bb458bdf0b7": {
          "model_module": "@jupyter-widgets/controls",
          "model_module_version": "1.5.0",
          "model_name": "FloatProgressModel",
          "state": {
            "_dom_classes": [],
            "_model_module": "@jupyter-widgets/controls",
            "_model_module_version": "1.5.0",
            "_model_name": "FloatProgressModel",
            "_view_count": null,
            "_view_module": "@jupyter-widgets/controls",
            "_view_module_version": "1.5.0",
            "_view_name": "ProgressView",
            "bar_style": "success",
            "description": "",
            "description_tooltip": null,
            "layout": "IPY_MODEL_2d6775e7443f41a08057a2f0a51e61ed",
            "max": 5,
            "min": 0,
            "orientation": "horizontal",
            "style": "IPY_MODEL_dd8310faa3624b0f86ab26ab68feae0f",
            "value": 5
          }
        },
        "b80744b4d58546879ddebae7f25b0ba9": {
          "model_module": "@jupyter-widgets/base",
          "model_module_version": "1.2.0",
          "model_name": "LayoutModel",
          "state": {
            "_model_module": "@jupyter-widgets/base",
            "_model_module_version": "1.2.0",
            "_model_name": "LayoutModel",
            "_view_count": null,
            "_view_module": "@jupyter-widgets/base",
            "_view_module_version": "1.2.0",
            "_view_name": "LayoutView",
            "align_content": null,
            "align_items": null,
            "align_self": null,
            "border": null,
            "bottom": null,
            "display": null,
            "flex": null,
            "flex_flow": null,
            "grid_area": null,
            "grid_auto_columns": null,
            "grid_auto_flow": null,
            "grid_auto_rows": null,
            "grid_column": null,
            "grid_gap": null,
            "grid_row": null,
            "grid_template_areas": null,
            "grid_template_columns": null,
            "grid_template_rows": null,
            "height": null,
            "justify_content": null,
            "justify_items": null,
            "left": null,
            "margin": null,
            "max_height": null,
            "max_width": null,
            "min_height": null,
            "min_width": null,
            "object_fit": null,
            "object_position": null,
            "order": null,
            "overflow": null,
            "overflow_x": null,
            "overflow_y": null,
            "padding": null,
            "right": null,
            "top": null,
            "visibility": null,
            "width": null
          }
        },
        "bc53c1d46adc468dbd2da61b6e66413d": {
          "model_module": "@jupyter-widgets/base",
          "model_module_version": "1.2.0",
          "model_name": "LayoutModel",
          "state": {
            "_model_module": "@jupyter-widgets/base",
            "_model_module_version": "1.2.0",
            "_model_name": "LayoutModel",
            "_view_count": null,
            "_view_module": "@jupyter-widgets/base",
            "_view_module_version": "1.2.0",
            "_view_name": "LayoutView",
            "align_content": null,
            "align_items": null,
            "align_self": null,
            "border": null,
            "bottom": null,
            "display": null,
            "flex": null,
            "flex_flow": null,
            "grid_area": null,
            "grid_auto_columns": null,
            "grid_auto_flow": null,
            "grid_auto_rows": null,
            "grid_column": null,
            "grid_gap": null,
            "grid_row": null,
            "grid_template_areas": null,
            "grid_template_columns": null,
            "grid_template_rows": null,
            "height": null,
            "justify_content": null,
            "justify_items": null,
            "left": null,
            "margin": null,
            "max_height": null,
            "max_width": null,
            "min_height": null,
            "min_width": null,
            "object_fit": null,
            "object_position": null,
            "order": null,
            "overflow": null,
            "overflow_x": null,
            "overflow_y": null,
            "padding": null,
            "right": null,
            "top": null,
            "visibility": null,
            "width": null
          }
        },
        "d090c59f6393472caf7d6eb7b2028e13": {
          "model_module": "@jupyter-widgets/controls",
          "model_module_version": "1.5.0",
          "model_name": "FloatProgressModel",
          "state": {
            "_dom_classes": [],
            "_model_module": "@jupyter-widgets/controls",
            "_model_module_version": "1.5.0",
            "_model_name": "FloatProgressModel",
            "_view_count": null,
            "_view_module": "@jupyter-widgets/controls",
            "_view_module_version": "1.5.0",
            "_view_name": "ProgressView",
            "bar_style": "success",
            "description": "",
            "description_tooltip": null,
            "layout": "IPY_MODEL_fda34753755446c191175e66118471aa",
            "max": 1,
            "min": 0,
            "orientation": "horizontal",
            "style": "IPY_MODEL_907fea40811b4f519578f8d0b4811c06",
            "value": 1
          }
        },
        "d0e3243901ca442588cf925126e9f294": {
          "model_module": "@jupyter-widgets/controls",
          "model_module_version": "1.5.0",
          "model_name": "DescriptionStyleModel",
          "state": {
            "_model_module": "@jupyter-widgets/controls",
            "_model_module_version": "1.5.0",
            "_model_name": "DescriptionStyleModel",
            "_view_count": null,
            "_view_module": "@jupyter-widgets/base",
            "_view_module_version": "1.2.0",
            "_view_name": "StyleView",
            "description_width": ""
          }
        },
        "d517cc24b3de44dfb85db916877609cb": {
          "model_module": "@jupyter-widgets/controls",
          "model_module_version": "1.5.0",
          "model_name": "HTMLModel",
          "state": {
            "_dom_classes": [],
            "_model_module": "@jupyter-widgets/controls",
            "_model_module_version": "1.5.0",
            "_model_name": "HTMLModel",
            "_view_count": null,
            "_view_module": "@jupyter-widgets/controls",
            "_view_module_version": "1.5.0",
            "_view_name": "HTMLView",
            "description": "",
            "description_tooltip": null,
            "layout": "IPY_MODEL_821f59b2afdd418196ed0c1558aed714",
            "placeholder": "​",
            "style": "IPY_MODEL_a8a1338f370c4c608b6e0afebea59e0a",
            "value": "Generate report structure: 100%"
          }
        },
        "dd8310faa3624b0f86ab26ab68feae0f": {
          "model_module": "@jupyter-widgets/controls",
          "model_module_version": "1.5.0",
          "model_name": "ProgressStyleModel",
          "state": {
            "_model_module": "@jupyter-widgets/controls",
            "_model_module_version": "1.5.0",
            "_model_name": "ProgressStyleModel",
            "_view_count": null,
            "_view_module": "@jupyter-widgets/base",
            "_view_module_version": "1.2.0",
            "_view_name": "StyleView",
            "bar_color": null,
            "description_width": ""
          }
        },
        "e41cc8a3f8ea41b28ea1e5b6078cabb3": {
          "model_module": "@jupyter-widgets/base",
          "model_module_version": "1.2.0",
          "model_name": "LayoutModel",
          "state": {
            "_model_module": "@jupyter-widgets/base",
            "_model_module_version": "1.2.0",
            "_model_name": "LayoutModel",
            "_view_count": null,
            "_view_module": "@jupyter-widgets/base",
            "_view_module_version": "1.2.0",
            "_view_name": "LayoutView",
            "align_content": null,
            "align_items": null,
            "align_self": null,
            "border": null,
            "bottom": null,
            "display": null,
            "flex": null,
            "flex_flow": null,
            "grid_area": null,
            "grid_auto_columns": null,
            "grid_auto_flow": null,
            "grid_auto_rows": null,
            "grid_column": null,
            "grid_gap": null,
            "grid_row": null,
            "grid_template_areas": null,
            "grid_template_columns": null,
            "grid_template_rows": null,
            "height": null,
            "justify_content": null,
            "justify_items": null,
            "left": null,
            "margin": null,
            "max_height": null,
            "max_width": null,
            "min_height": null,
            "min_width": null,
            "object_fit": null,
            "object_position": null,
            "order": null,
            "overflow": null,
            "overflow_x": null,
            "overflow_y": null,
            "padding": null,
            "right": null,
            "top": null,
            "visibility": null,
            "width": null
          }
        },
        "e6c161a8659740acb87ce2b92c232f66": {
          "model_module": "@jupyter-widgets/base",
          "model_module_version": "1.2.0",
          "model_name": "LayoutModel",
          "state": {
            "_model_module": "@jupyter-widgets/base",
            "_model_module_version": "1.2.0",
            "_model_name": "LayoutModel",
            "_view_count": null,
            "_view_module": "@jupyter-widgets/base",
            "_view_module_version": "1.2.0",
            "_view_name": "LayoutView",
            "align_content": null,
            "align_items": null,
            "align_self": null,
            "border": null,
            "bottom": null,
            "display": null,
            "flex": null,
            "flex_flow": null,
            "grid_area": null,
            "grid_auto_columns": null,
            "grid_auto_flow": null,
            "grid_auto_rows": null,
            "grid_column": null,
            "grid_gap": null,
            "grid_row": null,
            "grid_template_areas": null,
            "grid_template_columns": null,
            "grid_template_rows": null,
            "height": null,
            "justify_content": null,
            "justify_items": null,
            "left": null,
            "margin": null,
            "max_height": null,
            "max_width": null,
            "min_height": null,
            "min_width": null,
            "object_fit": null,
            "object_position": null,
            "order": null,
            "overflow": null,
            "overflow_x": null,
            "overflow_y": null,
            "padding": null,
            "right": null,
            "top": null,
            "visibility": null,
            "width": null
          }
        },
        "f030d05a6cce42bda653bf8e3406e15b": {
          "model_module": "@jupyter-widgets/base",
          "model_module_version": "1.2.0",
          "model_name": "LayoutModel",
          "state": {
            "_model_module": "@jupyter-widgets/base",
            "_model_module_version": "1.2.0",
            "_model_name": "LayoutModel",
            "_view_count": null,
            "_view_module": "@jupyter-widgets/base",
            "_view_module_version": "1.2.0",
            "_view_name": "LayoutView",
            "align_content": null,
            "align_items": null,
            "align_self": null,
            "border": null,
            "bottom": null,
            "display": null,
            "flex": null,
            "flex_flow": null,
            "grid_area": null,
            "grid_auto_columns": null,
            "grid_auto_flow": null,
            "grid_auto_rows": null,
            "grid_column": null,
            "grid_gap": null,
            "grid_row": null,
            "grid_template_areas": null,
            "grid_template_columns": null,
            "grid_template_rows": null,
            "height": null,
            "justify_content": null,
            "justify_items": null,
            "left": null,
            "margin": null,
            "max_height": null,
            "max_width": null,
            "min_height": null,
            "min_width": null,
            "object_fit": null,
            "object_position": null,
            "order": null,
            "overflow": null,
            "overflow_x": null,
            "overflow_y": null,
            "padding": null,
            "right": null,
            "top": null,
            "visibility": null,
            "width": null
          }
        },
        "f2fbe962759046bca2bff4912ce8f8bb": {
          "model_module": "@jupyter-widgets/base",
          "model_module_version": "1.2.0",
          "model_name": "LayoutModel",
          "state": {
            "_model_module": "@jupyter-widgets/base",
            "_model_module_version": "1.2.0",
            "_model_name": "LayoutModel",
            "_view_count": null,
            "_view_module": "@jupyter-widgets/base",
            "_view_module_version": "1.2.0",
            "_view_name": "LayoutView",
            "align_content": null,
            "align_items": null,
            "align_self": null,
            "border": null,
            "bottom": null,
            "display": null,
            "flex": null,
            "flex_flow": null,
            "grid_area": null,
            "grid_auto_columns": null,
            "grid_auto_flow": null,
            "grid_auto_rows": null,
            "grid_column": null,
            "grid_gap": null,
            "grid_row": null,
            "grid_template_areas": null,
            "grid_template_columns": null,
            "grid_template_rows": null,
            "height": null,
            "justify_content": null,
            "justify_items": null,
            "left": null,
            "margin": null,
            "max_height": null,
            "max_width": null,
            "min_height": null,
            "min_width": null,
            "object_fit": null,
            "object_position": null,
            "order": null,
            "overflow": null,
            "overflow_x": null,
            "overflow_y": null,
            "padding": null,
            "right": null,
            "top": null,
            "visibility": null,
            "width": null
          }
        },
        "fda34753755446c191175e66118471aa": {
          "model_module": "@jupyter-widgets/base",
          "model_module_version": "1.2.0",
          "model_name": "LayoutModel",
          "state": {
            "_model_module": "@jupyter-widgets/base",
            "_model_module_version": "1.2.0",
            "_model_name": "LayoutModel",
            "_view_count": null,
            "_view_module": "@jupyter-widgets/base",
            "_view_module_version": "1.2.0",
            "_view_name": "LayoutView",
            "align_content": null,
            "align_items": null,
            "align_self": null,
            "border": null,
            "bottom": null,
            "display": null,
            "flex": null,
            "flex_flow": null,
            "grid_area": null,
            "grid_auto_columns": null,
            "grid_auto_flow": null,
            "grid_auto_rows": null,
            "grid_column": null,
            "grid_gap": null,
            "grid_row": null,
            "grid_template_areas": null,
            "grid_template_columns": null,
            "grid_template_rows": null,
            "height": null,
            "justify_content": null,
            "justify_items": null,
            "left": null,
            "margin": null,
            "max_height": null,
            "max_width": null,
            "min_height": null,
            "min_width": null,
            "object_fit": null,
            "object_position": null,
            "order": null,
            "overflow": null,
            "overflow_x": null,
            "overflow_y": null,
            "padding": null,
            "right": null,
            "top": null,
            "visibility": null,
            "width": null
          }
        }
      }
    }
  },
  "nbformat": 4,
  "nbformat_minor": 0
}

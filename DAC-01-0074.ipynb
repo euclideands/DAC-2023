{
 "cells": [
  {
   "cell_type": "markdown",
   "metadata": {},
   "source": [
    "# **Notebook Purpose**"
   ]
  },
  {
   "cell_type": "markdown",
   "metadata": {},
   "source": [
    "*The purpose of this notebook is to create a predictive model for attacks as part of a Network Intrusion Detection System (NIDS). The prediction is performed using a multi-layer classification approach.*"
   ]
  },
  {
   "cell_type": "markdown",
   "metadata": {},
   "source": [
    "# **Import Library**"
   ]
  },
  {
   "cell_type": "code",
   "execution_count": 77,
   "metadata": {},
   "outputs": [],
   "source": [
    "import numpy as np\n",
    "import pandas as pd\n",
    "import matplotlib.pyplot as plt\n",
    "import seaborn as sns\n",
    "import plotly.express as px\n",
    "import sklearn\n",
    "\n",
    "from sklearn import preprocessing\n",
    "from scipy.interpolate import PchipInterpolator\n",
    "from imblearn.combine import SMOTEENN\n",
    "from scipy.stats import spearmanr\n",
    "from sklearn.model_selection import train_test_split\n",
    "\n",
    "from sklearn.feature_selection import RFE\n",
    "from sklearn.ensemble import RandomForestClassifier\n",
    "import itertools\n",
    "\n",
    "from sklearn.ensemble import GradientBoostingClassifier, GradientBoostingRegressor\n",
    "from sklearn.metrics import roc_auc_score, r2_score\n",
    "from sklearn.pipeline import Pipeline\n",
    "from sklearn.preprocessing import LabelEncoder\n",
    "\n",
    "\n",
    "from feature_engine.selection import (\n",
    "    RecursiveFeatureElimination,\n",
    "    RecursiveFeatureAddition\n",
    ")"
   ]
  },
  {
   "cell_type": "markdown",
   "metadata": {},
   "source": [
    "# **Load Dataset**"
   ]
  },
  {
   "cell_type": "code",
   "execution_count": 78,
   "metadata": {},
   "outputs": [],
   "source": [
    "# Path to training dataset\n",
    "train_PATH = 'D:\\DAC-2023\\Dataset\\DataTrain_Preliminary.csv'\n",
    "pred_PATH = 'D:\\DAC-2023\\Dataset\\Data_Prediction.csv'"
   ]
  },
  {
   "cell_type": "code",
   "execution_count": 79,
   "metadata": {},
   "outputs": [
    {
     "data": {
      "text/html": [
       "<div>\n",
       "<style scoped>\n",
       "    .dataframe tbody tr th:only-of-type {\n",
       "        vertical-align: middle;\n",
       "    }\n",
       "\n",
       "    .dataframe tbody tr th {\n",
       "        vertical-align: top;\n",
       "    }\n",
       "\n",
       "    .dataframe thead th {\n",
       "        text-align: right;\n",
       "    }\n",
       "</style>\n",
       "<table border=\"1\" class=\"dataframe\">\n",
       "  <thead>\n",
       "    <tr style=\"text-align: right;\">\n",
       "      <th></th>\n",
       "      <th>duration</th>\n",
       "      <th>protocol_type</th>\n",
       "      <th>service</th>\n",
       "      <th>flag</th>\n",
       "      <th>src_bytes</th>\n",
       "      <th>dst_bytes</th>\n",
       "      <th>land</th>\n",
       "      <th>wrong_fragment</th>\n",
       "      <th>urgent</th>\n",
       "      <th>hot</th>\n",
       "      <th>...</th>\n",
       "      <th>dst_host_srv_count</th>\n",
       "      <th>dst_host_same_srv_rate</th>\n",
       "      <th>dst_host_diff_srv_rate</th>\n",
       "      <th>dst_host_same_src_port_rate</th>\n",
       "      <th>dst_host_srv_diff_host_rate</th>\n",
       "      <th>dst_host_serror_rate</th>\n",
       "      <th>dst_host_srv_serror_rate</th>\n",
       "      <th>dst_host_rerror_rate</th>\n",
       "      <th>dst_host_srv_rerror_rate</th>\n",
       "      <th>type_of_attack</th>\n",
       "    </tr>\n",
       "  </thead>\n",
       "  <tbody>\n",
       "    <tr>\n",
       "      <th>0</th>\n",
       "      <td>0</td>\n",
       "      <td>tcp</td>\n",
       "      <td>private</td>\n",
       "      <td>SH</td>\n",
       "      <td>0</td>\n",
       "      <td>0</td>\n",
       "      <td>0</td>\n",
       "      <td>0</td>\n",
       "      <td>0</td>\n",
       "      <td>0</td>\n",
       "      <td>...</td>\n",
       "      <td>1</td>\n",
       "      <td>0.01</td>\n",
       "      <td>0.94</td>\n",
       "      <td>0.95</td>\n",
       "      <td>0</td>\n",
       "      <td>0.95</td>\n",
       "      <td>1</td>\n",
       "      <td>0</td>\n",
       "      <td>0</td>\n",
       "      <td>nmap</td>\n",
       "    </tr>\n",
       "    <tr>\n",
       "      <th>1</th>\n",
       "      <td>0</td>\n",
       "      <td>tcp</td>\n",
       "      <td>private</td>\n",
       "      <td>S0</td>\n",
       "      <td>0</td>\n",
       "      <td>0</td>\n",
       "      <td>0</td>\n",
       "      <td>0</td>\n",
       "      <td>0</td>\n",
       "      <td>0</td>\n",
       "      <td>...</td>\n",
       "      <td>5</td>\n",
       "      <td>0.02</td>\n",
       "      <td>0.08</td>\n",
       "      <td>0.00</td>\n",
       "      <td>0</td>\n",
       "      <td>1.00</td>\n",
       "      <td>1</td>\n",
       "      <td>0</td>\n",
       "      <td>0</td>\n",
       "      <td>neptune</td>\n",
       "    </tr>\n",
       "    <tr>\n",
       "      <th>2</th>\n",
       "      <td>0</td>\n",
       "      <td>tcp</td>\n",
       "      <td>http</td>\n",
       "      <td>SF</td>\n",
       "      <td>285</td>\n",
       "      <td>3623</td>\n",
       "      <td>0</td>\n",
       "      <td>0</td>\n",
       "      <td>0</td>\n",
       "      <td>0</td>\n",
       "      <td>...</td>\n",
       "      <td>228</td>\n",
       "      <td>1.00</td>\n",
       "      <td>0.00</td>\n",
       "      <td>0.01</td>\n",
       "      <td>*</td>\n",
       "      <td>0.00</td>\n",
       "      <td>0</td>\n",
       "      <td>0</td>\n",
       "      <td>0</td>\n",
       "      <td>normal</td>\n",
       "    </tr>\n",
       "    <tr>\n",
       "      <th>3</th>\n",
       "      <td>0</td>\n",
       "      <td>tcp</td>\n",
       "      <td>http</td>\n",
       "      <td>SF</td>\n",
       "      <td>232</td>\n",
       "      <td>584</td>\n",
       "      <td>0</td>\n",
       "      <td>0</td>\n",
       "      <td>0</td>\n",
       "      <td>0</td>\n",
       "      <td>...</td>\n",
       "      <td>255</td>\n",
       "      <td>1.00</td>\n",
       "      <td>0.00</td>\n",
       "      <td>0.17</td>\n",
       "      <td>*</td>\n",
       "      <td>0.00</td>\n",
       "      <td>0</td>\n",
       "      <td>0</td>\n",
       "      <td>0</td>\n",
       "      <td>normal</td>\n",
       "    </tr>\n",
       "    <tr>\n",
       "      <th>4</th>\n",
       "      <td>1</td>\n",
       "      <td>tcp</td>\n",
       "      <td>smtp</td>\n",
       "      <td>SF</td>\n",
       "      <td>1080</td>\n",
       "      <td>327</td>\n",
       "      <td>0</td>\n",
       "      <td>0</td>\n",
       "      <td>0</td>\n",
       "      <td>0</td>\n",
       "      <td>...</td>\n",
       "      <td>154</td>\n",
       "      <td>0.58</td>\n",
       "      <td>0.02</td>\n",
       "      <td>0.00</td>\n",
       "      <td>*</td>\n",
       "      <td>0.00</td>\n",
       "      <td>0</td>\n",
       "      <td>0</td>\n",
       "      <td>0</td>\n",
       "      <td>normal</td>\n",
       "    </tr>\n",
       "  </tbody>\n",
       "</table>\n",
       "<p>5 rows × 42 columns</p>\n",
       "</div>"
      ],
      "text/plain": [
       "  duration protocol_type  service flag src_bytes dst_bytes land  \\\n",
       "0        0           tcp  private   SH         0         0    0   \n",
       "1        0           tcp  private   S0         0         0    0   \n",
       "2        0           tcp     http   SF       285      3623    0   \n",
       "3        0           tcp     http   SF       232       584    0   \n",
       "4        1           tcp     smtp   SF      1080       327    0   \n",
       "\n",
       "  wrong_fragment urgent hot  ... dst_host_srv_count dst_host_same_srv_rate  \\\n",
       "0              0      0   0  ...                  1                   0.01   \n",
       "1              0      0   0  ...                  5                   0.02   \n",
       "2              0      0   0  ...                228                   1.00   \n",
       "3              0      0   0  ...                255                   1.00   \n",
       "4              0      0   0  ...                154                   0.58   \n",
       "\n",
       "  dst_host_diff_srv_rate dst_host_same_src_port_rate  \\\n",
       "0                   0.94                        0.95   \n",
       "1                   0.08                        0.00   \n",
       "2                   0.00                        0.01   \n",
       "3                   0.00                        0.17   \n",
       "4                   0.02                        0.00   \n",
       "\n",
       "  dst_host_srv_diff_host_rate dst_host_serror_rate dst_host_srv_serror_rate  \\\n",
       "0                           0                 0.95                        1   \n",
       "1                           0                 1.00                        1   \n",
       "2                           *                 0.00                        0   \n",
       "3                           *                 0.00                        0   \n",
       "4                           *                 0.00                        0   \n",
       "\n",
       "  dst_host_rerror_rate dst_host_srv_rerror_rate type_of_attack  \n",
       "0                    0                        0           nmap  \n",
       "1                    0                        0        neptune  \n",
       "2                    0                        0         normal  \n",
       "3                    0                        0         normal  \n",
       "4                    0                        0         normal  \n",
       "\n",
       "[5 rows x 42 columns]"
      ]
     },
     "execution_count": 79,
     "metadata": {},
     "output_type": "execute_result"
    }
   ],
   "source": [
    "# Load dataset\n",
    "df = pd.read_csv(train_PATH, delimiter=';')\n",
    "df_pred = pd.read_csv(pred_PATH, delimiter=';')\n",
    "df.head()"
   ]
  },
  {
   "cell_type": "code",
   "execution_count": 80,
   "metadata": {},
   "outputs": [
    {
     "name": "stdout",
     "output_type": "stream",
     "text": [
      "<class 'pandas.core.frame.DataFrame'>\n",
      "RangeIndex: 112446 entries, 0 to 112445\n",
      "Data columns (total 42 columns):\n",
      " #   Column                       Non-Null Count   Dtype  \n",
      "---  ------                       --------------   -----  \n",
      " 0   duration                     112446 non-null  object \n",
      " 1   protocol_type                111778 non-null  object \n",
      " 2   service                      111426 non-null  object \n",
      " 3   flag                         111593 non-null  object \n",
      " 4   src_bytes                    112446 non-null  object \n",
      " 5   dst_bytes                    112446 non-null  object \n",
      " 6   land                         112446 non-null  object \n",
      " 7   wrong_fragment               112446 non-null  object \n",
      " 8   urgent                       112446 non-null  object \n",
      " 9   hot                          112446 non-null  object \n",
      " 10  num_failed_logins            112446 non-null  object \n",
      " 11  logged_in                    112446 non-null  object \n",
      " 12  num_compromised              112446 non-null  object \n",
      " 13  root_shell                   112446 non-null  object \n",
      " 14  su_attempted                 112446 non-null  object \n",
      " 15  num_root                     112446 non-null  object \n",
      " 16  num_file_creations           112446 non-null  object \n",
      " 17  num_shells                   112446 non-null  object \n",
      " 18  num_access_files             112446 non-null  object \n",
      " 19  num_outbound_cmds            112446 non-null  object \n",
      " 20  is_host_login                112446 non-null  object \n",
      " 21  is_guest_login               112446 non-null  object \n",
      " 22  count                        112446 non-null  object \n",
      " 23  srv_count                    112446 non-null  object \n",
      " 24  serror_rate                  112446 non-null  object \n",
      " 25  srv_serror_rate              112446 non-null  object \n",
      " 26  rerror_rate                  112446 non-null  object \n",
      " 27  srv_rerror_rate              112446 non-null  object \n",
      " 28  same_srv_rate                112446 non-null  object \n",
      " 29  diff_srv_rate                112446 non-null  object \n",
      " 30  srv_diff_host_rate           112446 non-null  object \n",
      " 31  dst_host_count               112446 non-null  object \n",
      " 32  dst_host_srv_count           112446 non-null  object \n",
      " 33  dst_host_same_srv_rate       112118 non-null  float64\n",
      " 34  dst_host_diff_srv_rate       112203 non-null  float64\n",
      " 35  dst_host_same_src_port_rate  112008 non-null  float64\n",
      " 36  dst_host_srv_diff_host_rate  112446 non-null  object \n",
      " 37  dst_host_serror_rate         112018 non-null  float64\n",
      " 38  dst_host_srv_serror_rate     112446 non-null  object \n",
      " 39  dst_host_rerror_rate         112446 non-null  object \n",
      " 40  dst_host_srv_rerror_rate     112446 non-null  object \n",
      " 41  type_of_attack               112446 non-null  object \n",
      "dtypes: float64(4), object(38)\n",
      "memory usage: 36.0+ MB\n"
     ]
    }
   ],
   "source": [
    "df.info()"
   ]
  },
  {
   "cell_type": "markdown",
   "metadata": {},
   "source": [
    "Here we could see that the data type of every column is 'object' so we need to change the data type based on the value the column has."
   ]
  },
  {
   "cell_type": "code",
   "execution_count": 81,
   "metadata": {},
   "outputs": [
    {
     "name": "stdout",
     "output_type": "stream",
     "text": [
      "Label distribution Training set:\n",
      "type_of_attack\n",
      "normal                      60538\n",
      "neptune                     37142\n",
      "ipsweep                      3254\n",
      "satan                        3248\n",
      "portsweep                    2687\n",
      "smurf                        2394\n",
      "Denial of Service Attack     1861\n",
      "nmap                         1322\n",
      "Name: count, dtype: int64\n"
     ]
    }
   ],
   "source": [
    "print('Label distribution Training set:')\n",
    "print(df['type_of_attack'].value_counts())"
   ]
  },
  {
   "cell_type": "markdown",
   "metadata": {},
   "source": [
    "We will use multi-layer classification to predict attacks.\n",
    "\n",
    "1. If the network activity is classified as an anomaly:\n",
    "   - If it's a Denial-of-Service (DoS) attack:\n",
    "     - Perform multiclass classification to determine if it's a DoS, Neptune, or Smurf attack.\n",
    "   - If it's a probe attack:\n",
    "     - Perform multiclass classification to determine if it's Nmap, Portscan, Satan, or Ipsweep.\n",
    "  \n",
    "2. If the network activity is not classified as an anomaly, it is considered normal."
   ]
  },
  {
   "cell_type": "code",
   "execution_count": 82,
   "metadata": {},
   "outputs": [],
   "source": [
    "# Membuat kolom 'target' dengan nilai awal 'anomaly'\n",
    "df['target'] = 'anomaly'\n",
    "\n",
    "# Mengganti nilai kolom 'target' berdasarkan nilai kolom 'type_of_attack'\n",
    "df.loc[df['type_of_attack'] == 'normal', 'target'] = 'normal'\n",
    "\n",
    "# Sisipkan kolom 'target' tepat sebelum kolom terakhir\n",
    "df.insert(df.columns.get_loc('type_of_attack'), 'target', df.pop('target'))"
   ]
  },
  {
   "cell_type": "code",
   "execution_count": 83,
   "metadata": {},
   "outputs": [],
   "source": [
    "# Fungsi untuk menentukan nilai di kolom \"attack\"\n",
    "def determine_attack_type(row):\n",
    "    if row['type_of_attack'] == 'normal':\n",
    "        return 'normal'\n",
    "    elif row['type_of_attack'] in ['nmap', 'portsweep', 'satan', 'ipsweep']:\n",
    "        return 'probe'\n",
    "    elif row['type_of_attack'] in ['neptune', 'smurf', 'Denial of Service Attack']:\n",
    "        return 'dos'\n",
    "    else:\n",
    "        return 'unknown'  # Jika jenis serangan tidak dikenali\n",
    "\n",
    "# Buat kolom baru 'attack'\n",
    "df['attack'] = df.apply(determine_attack_type, axis=1)\n",
    "\n",
    "# Sisipkan kolom 'attack' tepat sebelum kolom terakhir\n",
    "df.insert(len(df.columns) - 2, 'attack', df.pop('attack'))"
   ]
  },
  {
   "cell_type": "code",
   "execution_count": 84,
   "metadata": {},
   "outputs": [
    {
     "data": {
      "text/html": [
       "<div>\n",
       "<style scoped>\n",
       "    .dataframe tbody tr th:only-of-type {\n",
       "        vertical-align: middle;\n",
       "    }\n",
       "\n",
       "    .dataframe tbody tr th {\n",
       "        vertical-align: top;\n",
       "    }\n",
       "\n",
       "    .dataframe thead th {\n",
       "        text-align: right;\n",
       "    }\n",
       "</style>\n",
       "<table border=\"1\" class=\"dataframe\">\n",
       "  <thead>\n",
       "    <tr style=\"text-align: right;\">\n",
       "      <th></th>\n",
       "      <th>duration</th>\n",
       "      <th>protocol_type</th>\n",
       "      <th>service</th>\n",
       "      <th>flag</th>\n",
       "      <th>src_bytes</th>\n",
       "      <th>dst_bytes</th>\n",
       "      <th>land</th>\n",
       "      <th>wrong_fragment</th>\n",
       "      <th>urgent</th>\n",
       "      <th>hot</th>\n",
       "      <th>...</th>\n",
       "      <th>dst_host_diff_srv_rate</th>\n",
       "      <th>dst_host_same_src_port_rate</th>\n",
       "      <th>dst_host_srv_diff_host_rate</th>\n",
       "      <th>dst_host_serror_rate</th>\n",
       "      <th>dst_host_srv_serror_rate</th>\n",
       "      <th>dst_host_rerror_rate</th>\n",
       "      <th>dst_host_srv_rerror_rate</th>\n",
       "      <th>target</th>\n",
       "      <th>attack</th>\n",
       "      <th>type_of_attack</th>\n",
       "    </tr>\n",
       "  </thead>\n",
       "  <tbody>\n",
       "    <tr>\n",
       "      <th>0</th>\n",
       "      <td>0</td>\n",
       "      <td>tcp</td>\n",
       "      <td>private</td>\n",
       "      <td>SH</td>\n",
       "      <td>0</td>\n",
       "      <td>0</td>\n",
       "      <td>0</td>\n",
       "      <td>0</td>\n",
       "      <td>0</td>\n",
       "      <td>0</td>\n",
       "      <td>...</td>\n",
       "      <td>0.94</td>\n",
       "      <td>0.95</td>\n",
       "      <td>0</td>\n",
       "      <td>0.95</td>\n",
       "      <td>1</td>\n",
       "      <td>0</td>\n",
       "      <td>0</td>\n",
       "      <td>anomaly</td>\n",
       "      <td>probe</td>\n",
       "      <td>nmap</td>\n",
       "    </tr>\n",
       "    <tr>\n",
       "      <th>1</th>\n",
       "      <td>0</td>\n",
       "      <td>tcp</td>\n",
       "      <td>private</td>\n",
       "      <td>S0</td>\n",
       "      <td>0</td>\n",
       "      <td>0</td>\n",
       "      <td>0</td>\n",
       "      <td>0</td>\n",
       "      <td>0</td>\n",
       "      <td>0</td>\n",
       "      <td>...</td>\n",
       "      <td>0.08</td>\n",
       "      <td>0.00</td>\n",
       "      <td>0</td>\n",
       "      <td>1.00</td>\n",
       "      <td>1</td>\n",
       "      <td>0</td>\n",
       "      <td>0</td>\n",
       "      <td>anomaly</td>\n",
       "      <td>dos</td>\n",
       "      <td>neptune</td>\n",
       "    </tr>\n",
       "    <tr>\n",
       "      <th>2</th>\n",
       "      <td>0</td>\n",
       "      <td>tcp</td>\n",
       "      <td>http</td>\n",
       "      <td>SF</td>\n",
       "      <td>285</td>\n",
       "      <td>3623</td>\n",
       "      <td>0</td>\n",
       "      <td>0</td>\n",
       "      <td>0</td>\n",
       "      <td>0</td>\n",
       "      <td>...</td>\n",
       "      <td>0.00</td>\n",
       "      <td>0.01</td>\n",
       "      <td>*</td>\n",
       "      <td>0.00</td>\n",
       "      <td>0</td>\n",
       "      <td>0</td>\n",
       "      <td>0</td>\n",
       "      <td>normal</td>\n",
       "      <td>normal</td>\n",
       "      <td>normal</td>\n",
       "    </tr>\n",
       "    <tr>\n",
       "      <th>3</th>\n",
       "      <td>0</td>\n",
       "      <td>tcp</td>\n",
       "      <td>http</td>\n",
       "      <td>SF</td>\n",
       "      <td>232</td>\n",
       "      <td>584</td>\n",
       "      <td>0</td>\n",
       "      <td>0</td>\n",
       "      <td>0</td>\n",
       "      <td>0</td>\n",
       "      <td>...</td>\n",
       "      <td>0.00</td>\n",
       "      <td>0.17</td>\n",
       "      <td>*</td>\n",
       "      <td>0.00</td>\n",
       "      <td>0</td>\n",
       "      <td>0</td>\n",
       "      <td>0</td>\n",
       "      <td>normal</td>\n",
       "      <td>normal</td>\n",
       "      <td>normal</td>\n",
       "    </tr>\n",
       "    <tr>\n",
       "      <th>4</th>\n",
       "      <td>1</td>\n",
       "      <td>tcp</td>\n",
       "      <td>smtp</td>\n",
       "      <td>SF</td>\n",
       "      <td>1080</td>\n",
       "      <td>327</td>\n",
       "      <td>0</td>\n",
       "      <td>0</td>\n",
       "      <td>0</td>\n",
       "      <td>0</td>\n",
       "      <td>...</td>\n",
       "      <td>0.02</td>\n",
       "      <td>0.00</td>\n",
       "      <td>*</td>\n",
       "      <td>0.00</td>\n",
       "      <td>0</td>\n",
       "      <td>0</td>\n",
       "      <td>0</td>\n",
       "      <td>normal</td>\n",
       "      <td>normal</td>\n",
       "      <td>normal</td>\n",
       "    </tr>\n",
       "  </tbody>\n",
       "</table>\n",
       "<p>5 rows × 44 columns</p>\n",
       "</div>"
      ],
      "text/plain": [
       "  duration protocol_type  service flag src_bytes dst_bytes land  \\\n",
       "0        0           tcp  private   SH         0         0    0   \n",
       "1        0           tcp  private   S0         0         0    0   \n",
       "2        0           tcp     http   SF       285      3623    0   \n",
       "3        0           tcp     http   SF       232       584    0   \n",
       "4        1           tcp     smtp   SF      1080       327    0   \n",
       "\n",
       "  wrong_fragment urgent hot  ... dst_host_diff_srv_rate  \\\n",
       "0              0      0   0  ...                   0.94   \n",
       "1              0      0   0  ...                   0.08   \n",
       "2              0      0   0  ...                   0.00   \n",
       "3              0      0   0  ...                   0.00   \n",
       "4              0      0   0  ...                   0.02   \n",
       "\n",
       "  dst_host_same_src_port_rate dst_host_srv_diff_host_rate  \\\n",
       "0                        0.95                           0   \n",
       "1                        0.00                           0   \n",
       "2                        0.01                           *   \n",
       "3                        0.17                           *   \n",
       "4                        0.00                           *   \n",
       "\n",
       "  dst_host_serror_rate dst_host_srv_serror_rate dst_host_rerror_rate  \\\n",
       "0                 0.95                        1                    0   \n",
       "1                 1.00                        1                    0   \n",
       "2                 0.00                        0                    0   \n",
       "3                 0.00                        0                    0   \n",
       "4                 0.00                        0                    0   \n",
       "\n",
       "  dst_host_srv_rerror_rate   target  attack type_of_attack  \n",
       "0                        0  anomaly   probe           nmap  \n",
       "1                        0  anomaly     dos        neptune  \n",
       "2                        0   normal  normal         normal  \n",
       "3                        0   normal  normal         normal  \n",
       "4                        0   normal  normal         normal  \n",
       "\n",
       "[5 rows x 44 columns]"
      ]
     },
     "execution_count": 84,
     "metadata": {},
     "output_type": "execute_result"
    }
   ],
   "source": [
    "df.head()"
   ]
  },
  {
   "cell_type": "code",
   "execution_count": 85,
   "metadata": {},
   "outputs": [
    {
     "data": {
      "text/plain": [
       "(112446, 44)"
      ]
     },
     "execution_count": 85,
     "metadata": {},
     "output_type": "execute_result"
    }
   ],
   "source": [
    "df.shape"
   ]
  },
  {
   "cell_type": "markdown",
   "metadata": {},
   "source": [
    "# **Data Preprocessing**"
   ]
  },
  {
   "cell_type": "markdown",
   "metadata": {},
   "source": [
    "## 1. Investigate Unique Value"
   ]
  },
  {
   "cell_type": "code",
   "execution_count": 86,
   "metadata": {},
   "outputs": [
    {
     "name": "stdout",
     "output_type": "stream",
     "text": [
      "Unique types of missing values found in the DataFrame:\n",
      "{nan, '*', '999', '99999', 99999.0}\n",
      "Rows containing unique missing value types:\n"
     ]
    },
    {
     "data": {
      "text/html": [
       "<div>\n",
       "<style scoped>\n",
       "    .dataframe tbody tr th:only-of-type {\n",
       "        vertical-align: middle;\n",
       "    }\n",
       "\n",
       "    .dataframe tbody tr th {\n",
       "        vertical-align: top;\n",
       "    }\n",
       "\n",
       "    .dataframe thead th {\n",
       "        text-align: right;\n",
       "    }\n",
       "</style>\n",
       "<table border=\"1\" class=\"dataframe\">\n",
       "  <thead>\n",
       "    <tr style=\"text-align: right;\">\n",
       "      <th></th>\n",
       "      <th>duration</th>\n",
       "      <th>protocol_type</th>\n",
       "      <th>service</th>\n",
       "      <th>flag</th>\n",
       "      <th>src_bytes</th>\n",
       "      <th>dst_bytes</th>\n",
       "      <th>land</th>\n",
       "      <th>wrong_fragment</th>\n",
       "      <th>urgent</th>\n",
       "      <th>hot</th>\n",
       "      <th>...</th>\n",
       "      <th>dst_host_diff_srv_rate</th>\n",
       "      <th>dst_host_same_src_port_rate</th>\n",
       "      <th>dst_host_srv_diff_host_rate</th>\n",
       "      <th>dst_host_serror_rate</th>\n",
       "      <th>dst_host_srv_serror_rate</th>\n",
       "      <th>dst_host_rerror_rate</th>\n",
       "      <th>dst_host_srv_rerror_rate</th>\n",
       "      <th>target</th>\n",
       "      <th>attack</th>\n",
       "      <th>type_of_attack</th>\n",
       "    </tr>\n",
       "  </thead>\n",
       "  <tbody>\n",
       "    <tr>\n",
       "      <th>1</th>\n",
       "      <td>0</td>\n",
       "      <td>tcp</td>\n",
       "      <td>private</td>\n",
       "      <td>S0</td>\n",
       "      <td>0</td>\n",
       "      <td>0</td>\n",
       "      <td>0</td>\n",
       "      <td>0</td>\n",
       "      <td>0</td>\n",
       "      <td>0</td>\n",
       "      <td>...</td>\n",
       "      <td>0.08</td>\n",
       "      <td>0.00</td>\n",
       "      <td>0</td>\n",
       "      <td>1.00</td>\n",
       "      <td>1</td>\n",
       "      <td>0</td>\n",
       "      <td>0</td>\n",
       "      <td>anomaly</td>\n",
       "      <td>dos</td>\n",
       "      <td>neptune</td>\n",
       "    </tr>\n",
       "    <tr>\n",
       "      <th>2</th>\n",
       "      <td>0</td>\n",
       "      <td>tcp</td>\n",
       "      <td>http</td>\n",
       "      <td>SF</td>\n",
       "      <td>285</td>\n",
       "      <td>3623</td>\n",
       "      <td>0</td>\n",
       "      <td>0</td>\n",
       "      <td>0</td>\n",
       "      <td>0</td>\n",
       "      <td>...</td>\n",
       "      <td>0.00</td>\n",
       "      <td>0.01</td>\n",
       "      <td>*</td>\n",
       "      <td>0.00</td>\n",
       "      <td>0</td>\n",
       "      <td>0</td>\n",
       "      <td>0</td>\n",
       "      <td>normal</td>\n",
       "      <td>normal</td>\n",
       "      <td>normal</td>\n",
       "    </tr>\n",
       "    <tr>\n",
       "      <th>3</th>\n",
       "      <td>0</td>\n",
       "      <td>tcp</td>\n",
       "      <td>http</td>\n",
       "      <td>SF</td>\n",
       "      <td>232</td>\n",
       "      <td>584</td>\n",
       "      <td>0</td>\n",
       "      <td>0</td>\n",
       "      <td>0</td>\n",
       "      <td>0</td>\n",
       "      <td>...</td>\n",
       "      <td>0.00</td>\n",
       "      <td>0.17</td>\n",
       "      <td>*</td>\n",
       "      <td>0.00</td>\n",
       "      <td>0</td>\n",
       "      <td>0</td>\n",
       "      <td>0</td>\n",
       "      <td>normal</td>\n",
       "      <td>normal</td>\n",
       "      <td>normal</td>\n",
       "    </tr>\n",
       "    <tr>\n",
       "      <th>4</th>\n",
       "      <td>1</td>\n",
       "      <td>tcp</td>\n",
       "      <td>smtp</td>\n",
       "      <td>SF</td>\n",
       "      <td>1080</td>\n",
       "      <td>327</td>\n",
       "      <td>0</td>\n",
       "      <td>0</td>\n",
       "      <td>0</td>\n",
       "      <td>0</td>\n",
       "      <td>...</td>\n",
       "      <td>0.02</td>\n",
       "      <td>0.00</td>\n",
       "      <td>*</td>\n",
       "      <td>0.00</td>\n",
       "      <td>0</td>\n",
       "      <td>0</td>\n",
       "      <td>0</td>\n",
       "      <td>normal</td>\n",
       "      <td>normal</td>\n",
       "      <td>normal</td>\n",
       "    </tr>\n",
       "    <tr>\n",
       "      <th>5</th>\n",
       "      <td>0</td>\n",
       "      <td>tcp</td>\n",
       "      <td>discard</td>\n",
       "      <td>S0</td>\n",
       "      <td>0</td>\n",
       "      <td>0</td>\n",
       "      <td>0</td>\n",
       "      <td>0</td>\n",
       "      <td>0</td>\n",
       "      <td>0</td>\n",
       "      <td>...</td>\n",
       "      <td>0.05</td>\n",
       "      <td>0.00</td>\n",
       "      <td>0</td>\n",
       "      <td>1.00</td>\n",
       "      <td>1</td>\n",
       "      <td>0</td>\n",
       "      <td>0</td>\n",
       "      <td>anomaly</td>\n",
       "      <td>dos</td>\n",
       "      <td>neptune</td>\n",
       "    </tr>\n",
       "    <tr>\n",
       "      <th>...</th>\n",
       "      <td>...</td>\n",
       "      <td>...</td>\n",
       "      <td>...</td>\n",
       "      <td>...</td>\n",
       "      <td>...</td>\n",
       "      <td>...</td>\n",
       "      <td>...</td>\n",
       "      <td>...</td>\n",
       "      <td>...</td>\n",
       "      <td>...</td>\n",
       "      <td>...</td>\n",
       "      <td>...</td>\n",
       "      <td>...</td>\n",
       "      <td>...</td>\n",
       "      <td>...</td>\n",
       "      <td>...</td>\n",
       "      <td>...</td>\n",
       "      <td>...</td>\n",
       "      <td>...</td>\n",
       "      <td>...</td>\n",
       "      <td>...</td>\n",
       "    </tr>\n",
       "    <tr>\n",
       "      <th>112441</th>\n",
       "      <td>0</td>\n",
       "      <td>tcp</td>\n",
       "      <td>http</td>\n",
       "      <td>REJ</td>\n",
       "      <td>0</td>\n",
       "      <td>0</td>\n",
       "      <td>0</td>\n",
       "      <td>0</td>\n",
       "      <td>0</td>\n",
       "      <td>0</td>\n",
       "      <td>...</td>\n",
       "      <td>0.00</td>\n",
       "      <td>0.14</td>\n",
       "      <td>*</td>\n",
       "      <td>0.00</td>\n",
       "      <td>0</td>\n",
       "      <td>*</td>\n",
       "      <td>*</td>\n",
       "      <td>normal</td>\n",
       "      <td>normal</td>\n",
       "      <td>normal</td>\n",
       "    </tr>\n",
       "    <tr>\n",
       "      <th>112442</th>\n",
       "      <td>0</td>\n",
       "      <td>tcp</td>\n",
       "      <td>http</td>\n",
       "      <td>SF</td>\n",
       "      <td>309</td>\n",
       "      <td>758</td>\n",
       "      <td>0</td>\n",
       "      <td>0</td>\n",
       "      <td>0</td>\n",
       "      <td>0</td>\n",
       "      <td>...</td>\n",
       "      <td>0.00</td>\n",
       "      <td>0.02</td>\n",
       "      <td>*</td>\n",
       "      <td>0.02</td>\n",
       "      <td>*</td>\n",
       "      <td>0</td>\n",
       "      <td>0</td>\n",
       "      <td>normal</td>\n",
       "      <td>normal</td>\n",
       "      <td>normal</td>\n",
       "    </tr>\n",
       "    <tr>\n",
       "      <th>112443</th>\n",
       "      <td>0</td>\n",
       "      <td>tcp</td>\n",
       "      <td>http</td>\n",
       "      <td>SF</td>\n",
       "      <td>363</td>\n",
       "      <td>721</td>\n",
       "      <td>0</td>\n",
       "      <td>0</td>\n",
       "      <td>0</td>\n",
       "      <td>0</td>\n",
       "      <td>...</td>\n",
       "      <td>0.00</td>\n",
       "      <td>0.00</td>\n",
       "      <td>0</td>\n",
       "      <td>0.00</td>\n",
       "      <td>0</td>\n",
       "      <td>0</td>\n",
       "      <td>0</td>\n",
       "      <td>normal</td>\n",
       "      <td>normal</td>\n",
       "      <td>normal</td>\n",
       "    </tr>\n",
       "    <tr>\n",
       "      <th>112444</th>\n",
       "      <td>0</td>\n",
       "      <td>tcp</td>\n",
       "      <td>discard</td>\n",
       "      <td>RSTO</td>\n",
       "      <td>0</td>\n",
       "      <td>0</td>\n",
       "      <td>0</td>\n",
       "      <td>0</td>\n",
       "      <td>0</td>\n",
       "      <td>0</td>\n",
       "      <td>...</td>\n",
       "      <td>0.06</td>\n",
       "      <td>0.00</td>\n",
       "      <td>0</td>\n",
       "      <td>0.00</td>\n",
       "      <td>0</td>\n",
       "      <td>1</td>\n",
       "      <td>1</td>\n",
       "      <td>anomaly</td>\n",
       "      <td>dos</td>\n",
       "      <td>neptune</td>\n",
       "    </tr>\n",
       "    <tr>\n",
       "      <th>112445</th>\n",
       "      <td>0</td>\n",
       "      <td>tcp</td>\n",
       "      <td>http</td>\n",
       "      <td>SF</td>\n",
       "      <td>233</td>\n",
       "      <td>2538</td>\n",
       "      <td>0</td>\n",
       "      <td>0</td>\n",
       "      <td>0</td>\n",
       "      <td>0</td>\n",
       "      <td>...</td>\n",
       "      <td>0.00</td>\n",
       "      <td>0.02</td>\n",
       "      <td>*</td>\n",
       "      <td>0.00</td>\n",
       "      <td>0</td>\n",
       "      <td>0</td>\n",
       "      <td>0</td>\n",
       "      <td>normal</td>\n",
       "      <td>normal</td>\n",
       "      <td>normal</td>\n",
       "    </tr>\n",
       "  </tbody>\n",
       "</table>\n",
       "<p>96394 rows × 44 columns</p>\n",
       "</div>"
      ],
      "text/plain": [
       "       duration protocol_type  service  flag src_bytes dst_bytes land  \\\n",
       "1             0           tcp  private    S0         0         0    0   \n",
       "2             0           tcp     http    SF       285      3623    0   \n",
       "3             0           tcp     http    SF       232       584    0   \n",
       "4             1           tcp     smtp    SF      1080       327    0   \n",
       "5             0           tcp  discard    S0         0         0    0   \n",
       "...         ...           ...      ...   ...       ...       ...  ...   \n",
       "112441        0           tcp     http   REJ         0         0    0   \n",
       "112442        0           tcp     http    SF       309       758    0   \n",
       "112443        0           tcp     http    SF       363       721    0   \n",
       "112444        0           tcp  discard  RSTO         0         0    0   \n",
       "112445        0           tcp     http    SF       233      2538    0   \n",
       "\n",
       "       wrong_fragment urgent hot  ... dst_host_diff_srv_rate  \\\n",
       "1                   0      0   0  ...                   0.08   \n",
       "2                   0      0   0  ...                   0.00   \n",
       "3                   0      0   0  ...                   0.00   \n",
       "4                   0      0   0  ...                   0.02   \n",
       "5                   0      0   0  ...                   0.05   \n",
       "...               ...    ...  ..  ...                    ...   \n",
       "112441              0      0   0  ...                   0.00   \n",
       "112442              0      0   0  ...                   0.00   \n",
       "112443              0      0   0  ...                   0.00   \n",
       "112444              0      0   0  ...                   0.06   \n",
       "112445              0      0   0  ...                   0.00   \n",
       "\n",
       "       dst_host_same_src_port_rate dst_host_srv_diff_host_rate  \\\n",
       "1                             0.00                           0   \n",
       "2                             0.01                           *   \n",
       "3                             0.17                           *   \n",
       "4                             0.00                           *   \n",
       "5                             0.00                           0   \n",
       "...                            ...                         ...   \n",
       "112441                        0.14                           *   \n",
       "112442                        0.02                           *   \n",
       "112443                        0.00                           0   \n",
       "112444                        0.00                           0   \n",
       "112445                        0.02                           *   \n",
       "\n",
       "       dst_host_serror_rate dst_host_srv_serror_rate dst_host_rerror_rate  \\\n",
       "1                      1.00                        1                    0   \n",
       "2                      0.00                        0                    0   \n",
       "3                      0.00                        0                    0   \n",
       "4                      0.00                        0                    0   \n",
       "5                      1.00                        1                    0   \n",
       "...                     ...                      ...                  ...   \n",
       "112441                 0.00                        0                    *   \n",
       "112442                 0.02                        *                    0   \n",
       "112443                 0.00                        0                    0   \n",
       "112444                 0.00                        0                    1   \n",
       "112445                 0.00                        0                    0   \n",
       "\n",
       "       dst_host_srv_rerror_rate   target  attack type_of_attack  \n",
       "1                             0  anomaly     dos        neptune  \n",
       "2                             0   normal  normal         normal  \n",
       "3                             0   normal  normal         normal  \n",
       "4                             0   normal  normal         normal  \n",
       "5                             0  anomaly     dos        neptune  \n",
       "...                         ...      ...     ...            ...  \n",
       "112441                        *   normal  normal         normal  \n",
       "112442                        0   normal  normal         normal  \n",
       "112443                        0   normal  normal         normal  \n",
       "112444                        1  anomaly     dos        neptune  \n",
       "112445                        0   normal  normal         normal  \n",
       "\n",
       "[96394 rows x 44 columns]"
      ]
     },
     "execution_count": 86,
     "metadata": {},
     "output_type": "execute_result"
    }
   ],
   "source": [
    "# Initialize a dictionary to store missing value representations\n",
    "missing_value_representations = ['', ' ', '-', 'NA', 'N/A', '999', '-999', None, \n",
    "                                 np.nan, '*', '9999', '-9999', '99999', '-99999',\n",
    "                                 99999]\n",
    "\n",
    "# Initialize a set to store unique types of missing values\n",
    "unique_missing_value_types = set()\n",
    "\n",
    "# Iterate through columns and check for missing value representations\n",
    "for column in df.columns:\n",
    "    for value in df[column]:\n",
    "        if value in missing_value_representations:\n",
    "            unique_missing_value_types.add(value)\n",
    "\n",
    "# Boolean indexing to filter rows with unique missing value types\n",
    "filtered_df = df[df.apply(lambda row: any(val in unique_missing_value_types for val in row), axis=1)]\n",
    "\n",
    "# Display the filtered DataFrame\n",
    "print(\"Unique types of missing values found in the DataFrame:\")\n",
    "print(unique_missing_value_types)\n",
    "print(\"Rows containing unique missing value types:\")\n",
    "filtered_df"
   ]
  },
  {
   "cell_type": "markdown",
   "metadata": {},
   "source": [
    "## 2. Remove NaN Values"
   ]
  },
  {
   "cell_type": "markdown",
   "metadata": {},
   "source": [
    "We will apply an imputation method to handle missing values in numeric columns. However, since imputation cannot be applied to object-type columns, we will remove rows where missing values exist in those object-type columns."
   ]
  },
  {
   "cell_type": "code",
   "execution_count": 87,
   "metadata": {},
   "outputs": [
    {
     "name": "stdout",
     "output_type": "stream",
     "text": [
      "Number of rows with NaN values in the specified columns: 2442\n"
     ]
    }
   ],
   "source": [
    "# Count rows with NaN values in specific columns\n",
    "columns_to_check = ['protocol_type', 'service', 'flag', 'type_of_attack']\n",
    "nan_rows_count = df[columns_to_check].isnull().any(axis=1).sum()\n",
    "\n",
    "print(\"Number of rows with NaN values in the specified columns:\", nan_rows_count)"
   ]
  },
  {
   "cell_type": "code",
   "execution_count": 88,
   "metadata": {},
   "outputs": [
    {
     "name": "stdout",
     "output_type": "stream",
     "text": [
      "Persentage of rows with NaN value/s: 2.17%\n"
     ]
    }
   ],
   "source": [
    "# Calculate the percentage of rows with missing values in column 'protocol_type', 'service', 'flag', 'type_of_attack'\n",
    "percentage_rows_with_missing = (nan_rows_count / len(df)) * 100\n",
    "print(f\"Persentage of rows with NaN value/s: {percentage_rows_with_missing:.2f}%\")"
   ]
  },
  {
   "cell_type": "markdown",
   "metadata": {},
   "source": [
    "Because it is less then 5%, so we could delete it."
   ]
  },
  {
   "cell_type": "code",
   "execution_count": 89,
   "metadata": {},
   "outputs": [
    {
     "data": {
      "text/plain": [
       "(110004, 44)"
      ]
     },
     "execution_count": 89,
     "metadata": {},
     "output_type": "execute_result"
    }
   ],
   "source": [
    "df = df.dropna(subset=columns_to_check)\n",
    "df.shape"
   ]
  },
  {
   "cell_type": "markdown",
   "metadata": {},
   "source": [
    "## 3. Imputation"
   ]
  },
  {
   "cell_type": "markdown",
   "metadata": {},
   "source": [
    "### 3.1. Binary Imputation"
   ]
  },
  {
   "cell_type": "code",
   "execution_count": 90,
   "metadata": {},
   "outputs": [],
   "source": [
    "# column that is binary (0=no, 1=yes)\n",
    "bin_df = df.copy()\n",
    "bin_df = bin_df[['land','logged_in','root_shell','su_attempted',\n",
    "                'is_host_login','is_guest_login','type_of_attack']]"
   ]
  },
  {
   "cell_type": "code",
   "execution_count": 91,
   "metadata": {},
   "outputs": [],
   "source": [
    "# Function to filter df based on type of attack\n",
    "def filtered_by_type_of_attack(df, values):\n",
    "    filtered = df[df['type_of_attack'] == values]\n",
    "    return filtered"
   ]
  },
  {
   "cell_type": "code",
   "execution_count": 92,
   "metadata": {},
   "outputs": [],
   "source": [
    "# List of unique attack types\n",
    "attack_types = bin_df['type_of_attack'].unique()\n",
    "\n",
    "# Initialize a dictionary to store probabilities for each attack type\n",
    "probability_dict = {}\n",
    "\n",
    "# Iterate through each attack type and store probabilities\n",
    "for attack_type in attack_types:\n",
    "    filtered_data = filtered_by_type_of_attack(bin_df, attack_type)\n",
    "\n",
    "    probability_land = filtered_data['land'].value_counts(normalize=True).get('0', 0)\n",
    "    probability_logged_in = filtered_data['logged_in'].value_counts(normalize=True).get('0', 0)\n",
    "    probability_root_shell = filtered_data['root_shell'].value_counts(normalize=True).get('0', 0)\n",
    "    probability_su_attempted = filtered_data['su_attempted'].value_counts(normalize=True).get('0', 0)\n",
    "    probability_is_host_login = filtered_data['is_host_login'].value_counts(normalize=True).get('0', 0)\n",
    "    probability_is_guest_login = filtered_data['is_guest_login'].value_counts(normalize=True).get('0', 0)\n",
    "\n",
    "    # Store probabilities in the dictionary\n",
    "    probability_dict[attack_type] = {\n",
    "        'land': probability_land,\n",
    "        'logged_in': probability_logged_in,\n",
    "        'root_shell': probability_root_shell,\n",
    "        'su_attempted': probability_su_attempted,\n",
    "        'is_host_login': probability_is_host_login,\n",
    "        'is_guest_login': probability_is_guest_login,\n",
    "    }\n",
    "\n",
    "    # Function to convert '*' and '99999' based on probability\n",
    "    def convert_value(value, probability):\n",
    "      if value == '*' or value == '99999':\n",
    "        random_number = np.random.rand()\n",
    "        if random_number <= probability:\n",
    "          return '0'\n",
    "        else:\n",
    "          return '1'\n",
    "      else:\n",
    "        return value\n",
    "\n",
    "    for column in ['land', 'logged_in', 'root_shell', 'su_attempted', 'is_host_login', 'is_guest_login']:\n",
    "      # Ambil probabilitas yang sesuai dari dictionary\n",
    "      probability = probability_dict[attack_type][column]\n",
    "\n",
    "      # Terapkan konversi ke seluruh kolom dalam DataFrame yang sesuai dengan jenis serangan saat ini\n",
    "      bin_df.loc[bin_df['type_of_attack'] == attack_type, column] = bin_df.loc[bin_df['type_of_attack'] == attack_type, column].apply(lambda x: convert_value(x, probability))\n",
    "\n",
    "# Delete 'type_of_attack' column\n",
    "bin_df = bin_df.drop('type_of_attack', axis=1)\n",
    "      \n",
    "# Mengubah tipe data menjadi numerik\n",
    "bin_df = bin_df.astype(int)"
   ]
  },
  {
   "cell_type": "markdown",
   "metadata": {},
   "source": [
    "### 3.2. Integer Imputation"
   ]
  },
  {
   "cell_type": "code",
   "execution_count": 93,
   "metadata": {},
   "outputs": [],
   "source": [
    "# column that has int value\n",
    "int_df = df.copy()\n",
    "int_df = int_df[['duration','src_bytes','dst_bytes','wrong_fragment',\n",
    "                 'urgent','hot','num_failed_logins','num_compromised',\n",
    "                 'num_root','num_file_creations','num_shells','num_access_files',\n",
    "                 'num_outbound_cmds','count','srv_count','dst_host_count',\n",
    "                 'dst_host_srv_count','type_of_attack']]"
   ]
  },
  {
   "cell_type": "code",
   "execution_count": 94,
   "metadata": {},
   "outputs": [
    {
     "name": "stderr",
     "output_type": "stream",
     "text": [
      "C:\\Users\\nabha\\AppData\\Local\\Temp\\ipykernel_7692\\459921881.py:36: SettingWithCopyWarning:\n",
      "\n",
      "\n",
      "A value is trying to be set on a copy of a slice from a DataFrame\n",
      "\n",
      "See the caveats in the documentation: https://pandas.pydata.org/pandas-docs/stable/user_guide/indexing.html#returning-a-view-versus-a-copy\n",
      "\n",
      "C:\\Users\\nabha\\AppData\\Local\\Temp\\ipykernel_7692\\459921881.py:36: SettingWithCopyWarning:\n",
      "\n",
      "\n",
      "A value is trying to be set on a copy of a slice from a DataFrame\n",
      "\n",
      "See the caveats in the documentation: https://pandas.pydata.org/pandas-docs/stable/user_guide/indexing.html#returning-a-view-versus-a-copy\n",
      "\n",
      "C:\\Users\\nabha\\AppData\\Local\\Temp\\ipykernel_7692\\459921881.py:36: SettingWithCopyWarning:\n",
      "\n",
      "\n",
      "A value is trying to be set on a copy of a slice from a DataFrame\n",
      "\n",
      "See the caveats in the documentation: https://pandas.pydata.org/pandas-docs/stable/user_guide/indexing.html#returning-a-view-versus-a-copy\n",
      "\n",
      "C:\\Users\\nabha\\AppData\\Local\\Temp\\ipykernel_7692\\459921881.py:36: SettingWithCopyWarning:\n",
      "\n",
      "\n",
      "A value is trying to be set on a copy of a slice from a DataFrame\n",
      "\n",
      "See the caveats in the documentation: https://pandas.pydata.org/pandas-docs/stable/user_guide/indexing.html#returning-a-view-versus-a-copy\n",
      "\n",
      "C:\\Users\\nabha\\AppData\\Local\\Temp\\ipykernel_7692\\459921881.py:36: SettingWithCopyWarning:\n",
      "\n",
      "\n",
      "A value is trying to be set on a copy of a slice from a DataFrame\n",
      "\n",
      "See the caveats in the documentation: https://pandas.pydata.org/pandas-docs/stable/user_guide/indexing.html#returning-a-view-versus-a-copy\n",
      "\n",
      "C:\\Users\\nabha\\AppData\\Local\\Temp\\ipykernel_7692\\459921881.py:36: SettingWithCopyWarning:\n",
      "\n",
      "\n",
      "A value is trying to be set on a copy of a slice from a DataFrame\n",
      "\n",
      "See the caveats in the documentation: https://pandas.pydata.org/pandas-docs/stable/user_guide/indexing.html#returning-a-view-versus-a-copy\n",
      "\n",
      "C:\\Users\\nabha\\AppData\\Local\\Temp\\ipykernel_7692\\459921881.py:36: SettingWithCopyWarning:\n",
      "\n",
      "\n",
      "A value is trying to be set on a copy of a slice from a DataFrame\n",
      "\n",
      "See the caveats in the documentation: https://pandas.pydata.org/pandas-docs/stable/user_guide/indexing.html#returning-a-view-versus-a-copy\n",
      "\n",
      "C:\\Users\\nabha\\AppData\\Local\\Temp\\ipykernel_7692\\459921881.py:36: SettingWithCopyWarning:\n",
      "\n",
      "\n",
      "A value is trying to be set on a copy of a slice from a DataFrame\n",
      "\n",
      "See the caveats in the documentation: https://pandas.pydata.org/pandas-docs/stable/user_guide/indexing.html#returning-a-view-versus-a-copy\n",
      "\n",
      "C:\\Users\\nabha\\AppData\\Local\\Temp\\ipykernel_7692\\459921881.py:36: SettingWithCopyWarning:\n",
      "\n",
      "\n",
      "A value is trying to be set on a copy of a slice from a DataFrame\n",
      "\n",
      "See the caveats in the documentation: https://pandas.pydata.org/pandas-docs/stable/user_guide/indexing.html#returning-a-view-versus-a-copy\n",
      "\n",
      "C:\\Users\\nabha\\AppData\\Local\\Temp\\ipykernel_7692\\459921881.py:36: SettingWithCopyWarning:\n",
      "\n",
      "\n",
      "A value is trying to be set on a copy of a slice from a DataFrame\n",
      "\n",
      "See the caveats in the documentation: https://pandas.pydata.org/pandas-docs/stable/user_guide/indexing.html#returning-a-view-versus-a-copy\n",
      "\n",
      "C:\\Users\\nabha\\AppData\\Local\\Temp\\ipykernel_7692\\459921881.py:36: SettingWithCopyWarning:\n",
      "\n",
      "\n",
      "A value is trying to be set on a copy of a slice from a DataFrame\n",
      "\n",
      "See the caveats in the documentation: https://pandas.pydata.org/pandas-docs/stable/user_guide/indexing.html#returning-a-view-versus-a-copy\n",
      "\n",
      "C:\\Users\\nabha\\AppData\\Local\\Temp\\ipykernel_7692\\459921881.py:36: SettingWithCopyWarning:\n",
      "\n",
      "\n",
      "A value is trying to be set on a copy of a slice from a DataFrame\n",
      "\n",
      "See the caveats in the documentation: https://pandas.pydata.org/pandas-docs/stable/user_guide/indexing.html#returning-a-view-versus-a-copy\n",
      "\n",
      "C:\\Users\\nabha\\AppData\\Local\\Temp\\ipykernel_7692\\459921881.py:36: SettingWithCopyWarning:\n",
      "\n",
      "\n",
      "A value is trying to be set on a copy of a slice from a DataFrame\n",
      "\n",
      "See the caveats in the documentation: https://pandas.pydata.org/pandas-docs/stable/user_guide/indexing.html#returning-a-view-versus-a-copy\n",
      "\n",
      "C:\\Users\\nabha\\AppData\\Local\\Temp\\ipykernel_7692\\459921881.py:36: SettingWithCopyWarning:\n",
      "\n",
      "\n",
      "A value is trying to be set on a copy of a slice from a DataFrame\n",
      "\n",
      "See the caveats in the documentation: https://pandas.pydata.org/pandas-docs/stable/user_guide/indexing.html#returning-a-view-versus-a-copy\n",
      "\n",
      "C:\\Users\\nabha\\AppData\\Local\\Temp\\ipykernel_7692\\459921881.py:36: SettingWithCopyWarning:\n",
      "\n",
      "\n",
      "A value is trying to be set on a copy of a slice from a DataFrame\n",
      "\n",
      "See the caveats in the documentation: https://pandas.pydata.org/pandas-docs/stable/user_guide/indexing.html#returning-a-view-versus-a-copy\n",
      "\n",
      "C:\\Users\\nabha\\AppData\\Local\\Temp\\ipykernel_7692\\459921881.py:36: SettingWithCopyWarning:\n",
      "\n",
      "\n",
      "A value is trying to be set on a copy of a slice from a DataFrame\n",
      "\n",
      "See the caveats in the documentation: https://pandas.pydata.org/pandas-docs/stable/user_guide/indexing.html#returning-a-view-versus-a-copy\n",
      "\n",
      "C:\\Users\\nabha\\AppData\\Local\\Temp\\ipykernel_7692\\459921881.py:36: SettingWithCopyWarning:\n",
      "\n",
      "\n",
      "A value is trying to be set on a copy of a slice from a DataFrame\n",
      "\n",
      "See the caveats in the documentation: https://pandas.pydata.org/pandas-docs/stable/user_guide/indexing.html#returning-a-view-versus-a-copy\n",
      "\n",
      "C:\\Users\\nabha\\AppData\\Local\\Temp\\ipykernel_7692\\459921881.py:36: SettingWithCopyWarning:\n",
      "\n",
      "\n",
      "A value is trying to be set on a copy of a slice from a DataFrame\n",
      "\n",
      "See the caveats in the documentation: https://pandas.pydata.org/pandas-docs/stable/user_guide/indexing.html#returning-a-view-versus-a-copy\n",
      "\n",
      "C:\\Users\\nabha\\AppData\\Local\\Temp\\ipykernel_7692\\459921881.py:36: SettingWithCopyWarning:\n",
      "\n",
      "\n",
      "A value is trying to be set on a copy of a slice from a DataFrame\n",
      "\n",
      "See the caveats in the documentation: https://pandas.pydata.org/pandas-docs/stable/user_guide/indexing.html#returning-a-view-versus-a-copy\n",
      "\n",
      "C:\\Users\\nabha\\AppData\\Local\\Temp\\ipykernel_7692\\459921881.py:36: SettingWithCopyWarning:\n",
      "\n",
      "\n",
      "A value is trying to be set on a copy of a slice from a DataFrame\n",
      "\n",
      "See the caveats in the documentation: https://pandas.pydata.org/pandas-docs/stable/user_guide/indexing.html#returning-a-view-versus-a-copy\n",
      "\n",
      "C:\\Users\\nabha\\AppData\\Local\\Temp\\ipykernel_7692\\459921881.py:36: SettingWithCopyWarning:\n",
      "\n",
      "\n",
      "A value is trying to be set on a copy of a slice from a DataFrame\n",
      "\n",
      "See the caveats in the documentation: https://pandas.pydata.org/pandas-docs/stable/user_guide/indexing.html#returning-a-view-versus-a-copy\n",
      "\n",
      "C:\\Users\\nabha\\AppData\\Local\\Temp\\ipykernel_7692\\459921881.py:36: SettingWithCopyWarning:\n",
      "\n",
      "\n",
      "A value is trying to be set on a copy of a slice from a DataFrame\n",
      "\n",
      "See the caveats in the documentation: https://pandas.pydata.org/pandas-docs/stable/user_guide/indexing.html#returning-a-view-versus-a-copy\n",
      "\n",
      "C:\\Users\\nabha\\AppData\\Local\\Temp\\ipykernel_7692\\459921881.py:36: SettingWithCopyWarning:\n",
      "\n",
      "\n",
      "A value is trying to be set on a copy of a slice from a DataFrame\n",
      "\n",
      "See the caveats in the documentation: https://pandas.pydata.org/pandas-docs/stable/user_guide/indexing.html#returning-a-view-versus-a-copy\n",
      "\n",
      "C:\\Users\\nabha\\AppData\\Local\\Temp\\ipykernel_7692\\459921881.py:36: SettingWithCopyWarning:\n",
      "\n",
      "\n",
      "A value is trying to be set on a copy of a slice from a DataFrame\n",
      "\n",
      "See the caveats in the documentation: https://pandas.pydata.org/pandas-docs/stable/user_guide/indexing.html#returning-a-view-versus-a-copy\n",
      "\n",
      "C:\\Users\\nabha\\AppData\\Local\\Temp\\ipykernel_7692\\459921881.py:36: SettingWithCopyWarning:\n",
      "\n",
      "\n",
      "A value is trying to be set on a copy of a slice from a DataFrame\n",
      "\n",
      "See the caveats in the documentation: https://pandas.pydata.org/pandas-docs/stable/user_guide/indexing.html#returning-a-view-versus-a-copy\n",
      "\n",
      "C:\\Users\\nabha\\AppData\\Local\\Temp\\ipykernel_7692\\459921881.py:36: SettingWithCopyWarning:\n",
      "\n",
      "\n",
      "A value is trying to be set on a copy of a slice from a DataFrame\n",
      "\n",
      "See the caveats in the documentation: https://pandas.pydata.org/pandas-docs/stable/user_guide/indexing.html#returning-a-view-versus-a-copy\n",
      "\n",
      "C:\\Users\\nabha\\AppData\\Local\\Temp\\ipykernel_7692\\459921881.py:36: SettingWithCopyWarning:\n",
      "\n",
      "\n",
      "A value is trying to be set on a copy of a slice from a DataFrame\n",
      "\n",
      "See the caveats in the documentation: https://pandas.pydata.org/pandas-docs/stable/user_guide/indexing.html#returning-a-view-versus-a-copy\n",
      "\n",
      "C:\\Users\\nabha\\AppData\\Local\\Temp\\ipykernel_7692\\459921881.py:36: SettingWithCopyWarning:\n",
      "\n",
      "\n",
      "A value is trying to be set on a copy of a slice from a DataFrame\n",
      "\n",
      "See the caveats in the documentation: https://pandas.pydata.org/pandas-docs/stable/user_guide/indexing.html#returning-a-view-versus-a-copy\n",
      "\n",
      "C:\\Users\\nabha\\AppData\\Local\\Temp\\ipykernel_7692\\459921881.py:36: SettingWithCopyWarning:\n",
      "\n",
      "\n",
      "A value is trying to be set on a copy of a slice from a DataFrame\n",
      "\n",
      "See the caveats in the documentation: https://pandas.pydata.org/pandas-docs/stable/user_guide/indexing.html#returning-a-view-versus-a-copy\n",
      "\n",
      "C:\\Users\\nabha\\AppData\\Local\\Temp\\ipykernel_7692\\459921881.py:36: SettingWithCopyWarning:\n",
      "\n",
      "\n",
      "A value is trying to be set on a copy of a slice from a DataFrame\n",
      "\n",
      "See the caveats in the documentation: https://pandas.pydata.org/pandas-docs/stable/user_guide/indexing.html#returning-a-view-versus-a-copy\n",
      "\n",
      "C:\\Users\\nabha\\AppData\\Local\\Temp\\ipykernel_7692\\459921881.py:36: SettingWithCopyWarning:\n",
      "\n",
      "\n",
      "A value is trying to be set on a copy of a slice from a DataFrame\n",
      "\n",
      "See the caveats in the documentation: https://pandas.pydata.org/pandas-docs/stable/user_guide/indexing.html#returning-a-view-versus-a-copy\n",
      "\n",
      "C:\\Users\\nabha\\AppData\\Local\\Temp\\ipykernel_7692\\459921881.py:36: SettingWithCopyWarning:\n",
      "\n",
      "\n",
      "A value is trying to be set on a copy of a slice from a DataFrame\n",
      "\n",
      "See the caveats in the documentation: https://pandas.pydata.org/pandas-docs/stable/user_guide/indexing.html#returning-a-view-versus-a-copy\n",
      "\n",
      "C:\\Users\\nabha\\AppData\\Local\\Temp\\ipykernel_7692\\459921881.py:36: SettingWithCopyWarning:\n",
      "\n",
      "\n",
      "A value is trying to be set on a copy of a slice from a DataFrame\n",
      "\n",
      "See the caveats in the documentation: https://pandas.pydata.org/pandas-docs/stable/user_guide/indexing.html#returning-a-view-versus-a-copy\n",
      "\n",
      "C:\\Users\\nabha\\AppData\\Local\\Temp\\ipykernel_7692\\459921881.py:36: SettingWithCopyWarning:\n",
      "\n",
      "\n",
      "A value is trying to be set on a copy of a slice from a DataFrame\n",
      "\n",
      "See the caveats in the documentation: https://pandas.pydata.org/pandas-docs/stable/user_guide/indexing.html#returning-a-view-versus-a-copy\n",
      "\n",
      "C:\\Users\\nabha\\AppData\\Local\\Temp\\ipykernel_7692\\459921881.py:36: SettingWithCopyWarning:\n",
      "\n",
      "\n",
      "A value is trying to be set on a copy of a slice from a DataFrame\n",
      "\n",
      "See the caveats in the documentation: https://pandas.pydata.org/pandas-docs/stable/user_guide/indexing.html#returning-a-view-versus-a-copy\n",
      "\n",
      "C:\\Users\\nabha\\AppData\\Local\\Temp\\ipykernel_7692\\459921881.py:36: SettingWithCopyWarning:\n",
      "\n",
      "\n",
      "A value is trying to be set on a copy of a slice from a DataFrame\n",
      "\n",
      "See the caveats in the documentation: https://pandas.pydata.org/pandas-docs/stable/user_guide/indexing.html#returning-a-view-versus-a-copy\n",
      "\n",
      "C:\\Users\\nabha\\AppData\\Local\\Temp\\ipykernel_7692\\459921881.py:36: SettingWithCopyWarning:\n",
      "\n",
      "\n",
      "A value is trying to be set on a copy of a slice from a DataFrame\n",
      "\n",
      "See the caveats in the documentation: https://pandas.pydata.org/pandas-docs/stable/user_guide/indexing.html#returning-a-view-versus-a-copy\n",
      "\n",
      "C:\\Users\\nabha\\AppData\\Local\\Temp\\ipykernel_7692\\459921881.py:36: SettingWithCopyWarning:\n",
      "\n",
      "\n",
      "A value is trying to be set on a copy of a slice from a DataFrame\n",
      "\n",
      "See the caveats in the documentation: https://pandas.pydata.org/pandas-docs/stable/user_guide/indexing.html#returning-a-view-versus-a-copy\n",
      "\n",
      "C:\\Users\\nabha\\AppData\\Local\\Temp\\ipykernel_7692\\459921881.py:36: SettingWithCopyWarning:\n",
      "\n",
      "\n",
      "A value is trying to be set on a copy of a slice from a DataFrame\n",
      "\n",
      "See the caveats in the documentation: https://pandas.pydata.org/pandas-docs/stable/user_guide/indexing.html#returning-a-view-versus-a-copy\n",
      "\n",
      "C:\\Users\\nabha\\AppData\\Local\\Temp\\ipykernel_7692\\459921881.py:36: SettingWithCopyWarning:\n",
      "\n",
      "\n",
      "A value is trying to be set on a copy of a slice from a DataFrame\n",
      "\n",
      "See the caveats in the documentation: https://pandas.pydata.org/pandas-docs/stable/user_guide/indexing.html#returning-a-view-versus-a-copy\n",
      "\n",
      "C:\\Users\\nabha\\AppData\\Local\\Temp\\ipykernel_7692\\459921881.py:36: SettingWithCopyWarning:\n",
      "\n",
      "\n",
      "A value is trying to be set on a copy of a slice from a DataFrame\n",
      "\n",
      "See the caveats in the documentation: https://pandas.pydata.org/pandas-docs/stable/user_guide/indexing.html#returning-a-view-versus-a-copy\n",
      "\n",
      "C:\\Users\\nabha\\AppData\\Local\\Temp\\ipykernel_7692\\459921881.py:36: SettingWithCopyWarning:\n",
      "\n",
      "\n",
      "A value is trying to be set on a copy of a slice from a DataFrame\n",
      "\n",
      "See the caveats in the documentation: https://pandas.pydata.org/pandas-docs/stable/user_guide/indexing.html#returning-a-view-versus-a-copy\n",
      "\n",
      "C:\\Users\\nabha\\AppData\\Local\\Temp\\ipykernel_7692\\459921881.py:36: SettingWithCopyWarning:\n",
      "\n",
      "\n",
      "A value is trying to be set on a copy of a slice from a DataFrame\n",
      "\n",
      "See the caveats in the documentation: https://pandas.pydata.org/pandas-docs/stable/user_guide/indexing.html#returning-a-view-versus-a-copy\n",
      "\n",
      "C:\\Users\\nabha\\AppData\\Local\\Temp\\ipykernel_7692\\459921881.py:36: SettingWithCopyWarning:\n",
      "\n",
      "\n",
      "A value is trying to be set on a copy of a slice from a DataFrame\n",
      "\n",
      "See the caveats in the documentation: https://pandas.pydata.org/pandas-docs/stable/user_guide/indexing.html#returning-a-view-versus-a-copy\n",
      "\n",
      "C:\\Users\\nabha\\AppData\\Local\\Temp\\ipykernel_7692\\459921881.py:36: SettingWithCopyWarning:\n",
      "\n",
      "\n",
      "A value is trying to be set on a copy of a slice from a DataFrame\n",
      "\n",
      "See the caveats in the documentation: https://pandas.pydata.org/pandas-docs/stable/user_guide/indexing.html#returning-a-view-versus-a-copy\n",
      "\n",
      "C:\\Users\\nabha\\AppData\\Local\\Temp\\ipykernel_7692\\459921881.py:36: SettingWithCopyWarning:\n",
      "\n",
      "\n",
      "A value is trying to be set on a copy of a slice from a DataFrame\n",
      "\n",
      "See the caveats in the documentation: https://pandas.pydata.org/pandas-docs/stable/user_guide/indexing.html#returning-a-view-versus-a-copy\n",
      "\n",
      "C:\\Users\\nabha\\AppData\\Local\\Temp\\ipykernel_7692\\459921881.py:36: SettingWithCopyWarning:\n",
      "\n",
      "\n",
      "A value is trying to be set on a copy of a slice from a DataFrame\n",
      "\n",
      "See the caveats in the documentation: https://pandas.pydata.org/pandas-docs/stable/user_guide/indexing.html#returning-a-view-versus-a-copy\n",
      "\n",
      "C:\\Users\\nabha\\AppData\\Local\\Temp\\ipykernel_7692\\459921881.py:36: SettingWithCopyWarning:\n",
      "\n",
      "\n",
      "A value is trying to be set on a copy of a slice from a DataFrame\n",
      "\n",
      "See the caveats in the documentation: https://pandas.pydata.org/pandas-docs/stable/user_guide/indexing.html#returning-a-view-versus-a-copy\n",
      "\n",
      "C:\\Users\\nabha\\AppData\\Local\\Temp\\ipykernel_7692\\459921881.py:36: SettingWithCopyWarning:\n",
      "\n",
      "\n",
      "A value is trying to be set on a copy of a slice from a DataFrame\n",
      "\n",
      "See the caveats in the documentation: https://pandas.pydata.org/pandas-docs/stable/user_guide/indexing.html#returning-a-view-versus-a-copy\n",
      "\n",
      "C:\\Users\\nabha\\AppData\\Local\\Temp\\ipykernel_7692\\459921881.py:36: SettingWithCopyWarning:\n",
      "\n",
      "\n",
      "A value is trying to be set on a copy of a slice from a DataFrame\n",
      "\n",
      "See the caveats in the documentation: https://pandas.pydata.org/pandas-docs/stable/user_guide/indexing.html#returning-a-view-versus-a-copy\n",
      "\n",
      "C:\\Users\\nabha\\AppData\\Local\\Temp\\ipykernel_7692\\459921881.py:36: SettingWithCopyWarning:\n",
      "\n",
      "\n",
      "A value is trying to be set on a copy of a slice from a DataFrame\n",
      "\n",
      "See the caveats in the documentation: https://pandas.pydata.org/pandas-docs/stable/user_guide/indexing.html#returning-a-view-versus-a-copy\n",
      "\n",
      "C:\\Users\\nabha\\AppData\\Local\\Temp\\ipykernel_7692\\459921881.py:36: SettingWithCopyWarning:\n",
      "\n",
      "\n",
      "A value is trying to be set on a copy of a slice from a DataFrame\n",
      "\n",
      "See the caveats in the documentation: https://pandas.pydata.org/pandas-docs/stable/user_guide/indexing.html#returning-a-view-versus-a-copy\n",
      "\n",
      "C:\\Users\\nabha\\AppData\\Local\\Temp\\ipykernel_7692\\459921881.py:36: SettingWithCopyWarning:\n",
      "\n",
      "\n",
      "A value is trying to be set on a copy of a slice from a DataFrame\n",
      "\n",
      "See the caveats in the documentation: https://pandas.pydata.org/pandas-docs/stable/user_guide/indexing.html#returning-a-view-versus-a-copy\n",
      "\n",
      "C:\\Users\\nabha\\AppData\\Local\\Temp\\ipykernel_7692\\459921881.py:36: SettingWithCopyWarning:\n",
      "\n",
      "\n",
      "A value is trying to be set on a copy of a slice from a DataFrame\n",
      "\n",
      "See the caveats in the documentation: https://pandas.pydata.org/pandas-docs/stable/user_guide/indexing.html#returning-a-view-versus-a-copy\n",
      "\n",
      "C:\\Users\\nabha\\AppData\\Local\\Temp\\ipykernel_7692\\459921881.py:36: SettingWithCopyWarning:\n",
      "\n",
      "\n",
      "A value is trying to be set on a copy of a slice from a DataFrame\n",
      "\n",
      "See the caveats in the documentation: https://pandas.pydata.org/pandas-docs/stable/user_guide/indexing.html#returning-a-view-versus-a-copy\n",
      "\n",
      "C:\\Users\\nabha\\AppData\\Local\\Temp\\ipykernel_7692\\459921881.py:36: SettingWithCopyWarning:\n",
      "\n",
      "\n",
      "A value is trying to be set on a copy of a slice from a DataFrame\n",
      "\n",
      "See the caveats in the documentation: https://pandas.pydata.org/pandas-docs/stable/user_guide/indexing.html#returning-a-view-versus-a-copy\n",
      "\n",
      "C:\\Users\\nabha\\AppData\\Local\\Temp\\ipykernel_7692\\459921881.py:36: SettingWithCopyWarning:\n",
      "\n",
      "\n",
      "A value is trying to be set on a copy of a slice from a DataFrame\n",
      "\n",
      "See the caveats in the documentation: https://pandas.pydata.org/pandas-docs/stable/user_guide/indexing.html#returning-a-view-versus-a-copy\n",
      "\n",
      "C:\\Users\\nabha\\AppData\\Local\\Temp\\ipykernel_7692\\459921881.py:36: SettingWithCopyWarning:\n",
      "\n",
      "\n",
      "A value is trying to be set on a copy of a slice from a DataFrame\n",
      "\n",
      "See the caveats in the documentation: https://pandas.pydata.org/pandas-docs/stable/user_guide/indexing.html#returning-a-view-versus-a-copy\n",
      "\n",
      "C:\\Users\\nabha\\AppData\\Local\\Temp\\ipykernel_7692\\459921881.py:36: SettingWithCopyWarning:\n",
      "\n",
      "\n",
      "A value is trying to be set on a copy of a slice from a DataFrame\n",
      "\n",
      "See the caveats in the documentation: https://pandas.pydata.org/pandas-docs/stable/user_guide/indexing.html#returning-a-view-versus-a-copy\n",
      "\n",
      "C:\\Users\\nabha\\AppData\\Local\\Temp\\ipykernel_7692\\459921881.py:36: SettingWithCopyWarning:\n",
      "\n",
      "\n",
      "A value is trying to be set on a copy of a slice from a DataFrame\n",
      "\n",
      "See the caveats in the documentation: https://pandas.pydata.org/pandas-docs/stable/user_guide/indexing.html#returning-a-view-versus-a-copy\n",
      "\n",
      "C:\\Users\\nabha\\AppData\\Local\\Temp\\ipykernel_7692\\459921881.py:36: SettingWithCopyWarning:\n",
      "\n",
      "\n",
      "A value is trying to be set on a copy of a slice from a DataFrame\n",
      "\n",
      "See the caveats in the documentation: https://pandas.pydata.org/pandas-docs/stable/user_guide/indexing.html#returning-a-view-versus-a-copy\n",
      "\n",
      "C:\\Users\\nabha\\AppData\\Local\\Temp\\ipykernel_7692\\459921881.py:36: SettingWithCopyWarning:\n",
      "\n",
      "\n",
      "A value is trying to be set on a copy of a slice from a DataFrame\n",
      "\n",
      "See the caveats in the documentation: https://pandas.pydata.org/pandas-docs/stable/user_guide/indexing.html#returning-a-view-versus-a-copy\n",
      "\n"
     ]
    }
   ],
   "source": [
    "# 1. konversi * dan 99999 jadi nan value\n",
    "int_df.replace(['*'], '99999', inplace=True)\n",
    "\n",
    "# 2. ubah tipe data\n",
    "# Mengubah tipe data menjadi numerik\n",
    "columns_to_convert = [col for col in int_df.columns if col != 'type_of_attack']\n",
    "int_df[columns_to_convert] = int_df[columns_to_convert].astype(int)\n",
    "\n",
    "# 3. parting based on type of attack\n",
    "nmap = filtered_by_type_of_attack(int_df, 'nmap')\n",
    "neptune = filtered_by_type_of_attack(int_df, 'neptune')\n",
    "normal = filtered_by_type_of_attack(int_df, 'normal')\n",
    "dos = filtered_by_type_of_attack(int_df, 'Denial of Service Attack')\n",
    "portsweep = filtered_by_type_of_attack(int_df, 'portsweep')\n",
    "satan = filtered_by_type_of_attack(int_df, 'satan')\n",
    "ipsweep = filtered_by_type_of_attack(int_df, 'ipsweep')\n",
    "smurf = filtered_by_type_of_attack(int_df, 'smurf')\n",
    "\n",
    "# stored df in list\n",
    "filtered_dfs = [nmap, neptune, normal, dos, portsweep, satan, ipsweep, smurf]\n",
    "\n",
    "# Loop through each filtered DataFrame and its corresponding index in the list\n",
    "for filtered_df, attack_type in zip(filtered_dfs, ['nmap', 'neptune', 'normal', 'Denial of Service Attack', 'portsweep', 'satan', 'ipsweep', 'smurf']):\n",
    "    for column in filtered_df.columns:\n",
    "        if pd.api.types.is_numeric_dtype(filtered_df[column]):\n",
    "            # Check if the column contains numeric data\n",
    "            missing_mask = filtered_df[column] == 99999\n",
    "            if missing_mask.any():\n",
    "                # If there are missing values, interpolate\n",
    "                x = filtered_df.index[~missing_mask]\n",
    "                y = filtered_df[column][~missing_mask]\n",
    "                pchip = PchipInterpolator(x, y, extrapolate='periodic')\n",
    "                # Replace NaN values with interpolated values in the same DataFrame (filtered_df)\n",
    "                interpolated_values = pchip(filtered_df.index)\n",
    "                # Ensure the interpolated values are non-negative\n",
    "                filtered_df[column].loc[missing_mask] = np.maximum(0, interpolated_values[missing_mask])\n",
    "\n",
    "    # Copy the interpolated values back to the corresponding rows in the original int_df\n",
    "    int_df.loc[int_df['type_of_attack'] == attack_type, filtered_df.columns] = filtered_df\n",
    "\n",
    "# Mengubah tipe data menjadi numerik\n",
    "columns_to_convert = [col for col in int_df.columns if col != 'type_of_attack']\n",
    "int_df[columns_to_convert] = int_df[columns_to_convert].astype(int)\n",
    "\n",
    "# Delete 'type_of_attack' column\n",
    "int_df = int_df.drop('type_of_attack', axis=1)"
   ]
  },
  {
   "cell_type": "markdown",
   "metadata": {},
   "source": [
    "### 3.3. Float Imputation"
   ]
  },
  {
   "cell_type": "code",
   "execution_count": 95,
   "metadata": {},
   "outputs": [],
   "source": [
    "# column that has float value\n",
    "float_df = df.copy()\n",
    "float_df = float_df[['serror_rate','srv_serror_rate','rerror_rate',\n",
    "                      'srv_rerror_rate','same_srv_rate','diff_srv_rate',\n",
    "                      'srv_diff_host_rate','dst_host_same_srv_rate',\n",
    "                      'dst_host_diff_srv_rate','dst_host_same_src_port_rate',\n",
    "                      'dst_host_srv_diff_host_rate','dst_host_serror_rate',\n",
    "                      'dst_host_srv_serror_rate','dst_host_rerror_rate',\n",
    "                      'dst_host_srv_rerror_rate','type_of_attack']]"
   ]
  },
  {
   "cell_type": "code",
   "execution_count": 96,
   "metadata": {},
   "outputs": [
    {
     "name": "stderr",
     "output_type": "stream",
     "text": [
      "C:\\Users\\nabha\\AppData\\Local\\Temp\\ipykernel_7692\\856646535.py:36: SettingWithCopyWarning:\n",
      "\n",
      "\n",
      "A value is trying to be set on a copy of a slice from a DataFrame\n",
      "\n",
      "See the caveats in the documentation: https://pandas.pydata.org/pandas-docs/stable/user_guide/indexing.html#returning-a-view-versus-a-copy\n",
      "\n",
      "C:\\Users\\nabha\\AppData\\Local\\Temp\\ipykernel_7692\\856646535.py:36: SettingWithCopyWarning:\n",
      "\n",
      "\n",
      "A value is trying to be set on a copy of a slice from a DataFrame\n",
      "\n",
      "See the caveats in the documentation: https://pandas.pydata.org/pandas-docs/stable/user_guide/indexing.html#returning-a-view-versus-a-copy\n",
      "\n",
      "C:\\Users\\nabha\\AppData\\Local\\Temp\\ipykernel_7692\\856646535.py:36: SettingWithCopyWarning:\n",
      "\n",
      "\n",
      "A value is trying to be set on a copy of a slice from a DataFrame\n",
      "\n",
      "See the caveats in the documentation: https://pandas.pydata.org/pandas-docs/stable/user_guide/indexing.html#returning-a-view-versus-a-copy\n",
      "\n",
      "C:\\Users\\nabha\\AppData\\Local\\Temp\\ipykernel_7692\\856646535.py:36: SettingWithCopyWarning:\n",
      "\n",
      "\n",
      "A value is trying to be set on a copy of a slice from a DataFrame\n",
      "\n",
      "See the caveats in the documentation: https://pandas.pydata.org/pandas-docs/stable/user_guide/indexing.html#returning-a-view-versus-a-copy\n",
      "\n",
      "C:\\Users\\nabha\\AppData\\Local\\Temp\\ipykernel_7692\\856646535.py:36: SettingWithCopyWarning:\n",
      "\n",
      "\n",
      "A value is trying to be set on a copy of a slice from a DataFrame\n",
      "\n",
      "See the caveats in the documentation: https://pandas.pydata.org/pandas-docs/stable/user_guide/indexing.html#returning-a-view-versus-a-copy\n",
      "\n",
      "C:\\Users\\nabha\\AppData\\Local\\Temp\\ipykernel_7692\\856646535.py:36: SettingWithCopyWarning:\n",
      "\n",
      "\n",
      "A value is trying to be set on a copy of a slice from a DataFrame\n",
      "\n",
      "See the caveats in the documentation: https://pandas.pydata.org/pandas-docs/stable/user_guide/indexing.html#returning-a-view-versus-a-copy\n",
      "\n",
      "C:\\Users\\nabha\\AppData\\Local\\Temp\\ipykernel_7692\\856646535.py:36: SettingWithCopyWarning:\n",
      "\n",
      "\n",
      "A value is trying to be set on a copy of a slice from a DataFrame\n",
      "\n",
      "See the caveats in the documentation: https://pandas.pydata.org/pandas-docs/stable/user_guide/indexing.html#returning-a-view-versus-a-copy\n",
      "\n",
      "C:\\Users\\nabha\\AppData\\Local\\Temp\\ipykernel_7692\\856646535.py:36: SettingWithCopyWarning:\n",
      "\n",
      "\n",
      "A value is trying to be set on a copy of a slice from a DataFrame\n",
      "\n",
      "See the caveats in the documentation: https://pandas.pydata.org/pandas-docs/stable/user_guide/indexing.html#returning-a-view-versus-a-copy\n",
      "\n",
      "C:\\Users\\nabha\\AppData\\Local\\Temp\\ipykernel_7692\\856646535.py:36: SettingWithCopyWarning:\n",
      "\n",
      "\n",
      "A value is trying to be set on a copy of a slice from a DataFrame\n",
      "\n",
      "See the caveats in the documentation: https://pandas.pydata.org/pandas-docs/stable/user_guide/indexing.html#returning-a-view-versus-a-copy\n",
      "\n",
      "C:\\Users\\nabha\\AppData\\Local\\Temp\\ipykernel_7692\\856646535.py:36: SettingWithCopyWarning:\n",
      "\n",
      "\n",
      "A value is trying to be set on a copy of a slice from a DataFrame\n",
      "\n",
      "See the caveats in the documentation: https://pandas.pydata.org/pandas-docs/stable/user_guide/indexing.html#returning-a-view-versus-a-copy\n",
      "\n",
      "C:\\Users\\nabha\\AppData\\Local\\Temp\\ipykernel_7692\\856646535.py:36: SettingWithCopyWarning:\n",
      "\n",
      "\n",
      "A value is trying to be set on a copy of a slice from a DataFrame\n",
      "\n",
      "See the caveats in the documentation: https://pandas.pydata.org/pandas-docs/stable/user_guide/indexing.html#returning-a-view-versus-a-copy\n",
      "\n",
      "C:\\Users\\nabha\\AppData\\Local\\Temp\\ipykernel_7692\\856646535.py:36: SettingWithCopyWarning:\n",
      "\n",
      "\n",
      "A value is trying to be set on a copy of a slice from a DataFrame\n",
      "\n",
      "See the caveats in the documentation: https://pandas.pydata.org/pandas-docs/stable/user_guide/indexing.html#returning-a-view-versus-a-copy\n",
      "\n",
      "C:\\Users\\nabha\\AppData\\Local\\Temp\\ipykernel_7692\\856646535.py:36: SettingWithCopyWarning:\n",
      "\n",
      "\n",
      "A value is trying to be set on a copy of a slice from a DataFrame\n",
      "\n",
      "See the caveats in the documentation: https://pandas.pydata.org/pandas-docs/stable/user_guide/indexing.html#returning-a-view-versus-a-copy\n",
      "\n",
      "C:\\Users\\nabha\\AppData\\Local\\Temp\\ipykernel_7692\\856646535.py:36: SettingWithCopyWarning:\n",
      "\n",
      "\n",
      "A value is trying to be set on a copy of a slice from a DataFrame\n",
      "\n",
      "See the caveats in the documentation: https://pandas.pydata.org/pandas-docs/stable/user_guide/indexing.html#returning-a-view-versus-a-copy\n",
      "\n",
      "C:\\Users\\nabha\\AppData\\Local\\Temp\\ipykernel_7692\\856646535.py:36: SettingWithCopyWarning:\n",
      "\n",
      "\n",
      "A value is trying to be set on a copy of a slice from a DataFrame\n",
      "\n",
      "See the caveats in the documentation: https://pandas.pydata.org/pandas-docs/stable/user_guide/indexing.html#returning-a-view-versus-a-copy\n",
      "\n",
      "C:\\Users\\nabha\\AppData\\Local\\Temp\\ipykernel_7692\\856646535.py:36: SettingWithCopyWarning:\n",
      "\n",
      "\n",
      "A value is trying to be set on a copy of a slice from a DataFrame\n",
      "\n",
      "See the caveats in the documentation: https://pandas.pydata.org/pandas-docs/stable/user_guide/indexing.html#returning-a-view-versus-a-copy\n",
      "\n",
      "C:\\Users\\nabha\\AppData\\Local\\Temp\\ipykernel_7692\\856646535.py:36: SettingWithCopyWarning:\n",
      "\n",
      "\n",
      "A value is trying to be set on a copy of a slice from a DataFrame\n",
      "\n",
      "See the caveats in the documentation: https://pandas.pydata.org/pandas-docs/stable/user_guide/indexing.html#returning-a-view-versus-a-copy\n",
      "\n",
      "C:\\Users\\nabha\\AppData\\Local\\Temp\\ipykernel_7692\\856646535.py:36: SettingWithCopyWarning:\n",
      "\n",
      "\n",
      "A value is trying to be set on a copy of a slice from a DataFrame\n",
      "\n",
      "See the caveats in the documentation: https://pandas.pydata.org/pandas-docs/stable/user_guide/indexing.html#returning-a-view-versus-a-copy\n",
      "\n",
      "C:\\Users\\nabha\\AppData\\Local\\Temp\\ipykernel_7692\\856646535.py:36: SettingWithCopyWarning:\n",
      "\n",
      "\n",
      "A value is trying to be set on a copy of a slice from a DataFrame\n",
      "\n",
      "See the caveats in the documentation: https://pandas.pydata.org/pandas-docs/stable/user_guide/indexing.html#returning-a-view-versus-a-copy\n",
      "\n",
      "C:\\Users\\nabha\\AppData\\Local\\Temp\\ipykernel_7692\\856646535.py:36: SettingWithCopyWarning:\n",
      "\n",
      "\n",
      "A value is trying to be set on a copy of a slice from a DataFrame\n",
      "\n",
      "See the caveats in the documentation: https://pandas.pydata.org/pandas-docs/stable/user_guide/indexing.html#returning-a-view-versus-a-copy\n",
      "\n",
      "C:\\Users\\nabha\\AppData\\Local\\Temp\\ipykernel_7692\\856646535.py:36: SettingWithCopyWarning:\n",
      "\n",
      "\n",
      "A value is trying to be set on a copy of a slice from a DataFrame\n",
      "\n",
      "See the caveats in the documentation: https://pandas.pydata.org/pandas-docs/stable/user_guide/indexing.html#returning-a-view-versus-a-copy\n",
      "\n",
      "C:\\Users\\nabha\\AppData\\Local\\Temp\\ipykernel_7692\\856646535.py:36: SettingWithCopyWarning:\n",
      "\n",
      "\n",
      "A value is trying to be set on a copy of a slice from a DataFrame\n",
      "\n",
      "See the caveats in the documentation: https://pandas.pydata.org/pandas-docs/stable/user_guide/indexing.html#returning-a-view-versus-a-copy\n",
      "\n",
      "C:\\Users\\nabha\\AppData\\Local\\Temp\\ipykernel_7692\\856646535.py:36: SettingWithCopyWarning:\n",
      "\n",
      "\n",
      "A value is trying to be set on a copy of a slice from a DataFrame\n",
      "\n",
      "See the caveats in the documentation: https://pandas.pydata.org/pandas-docs/stable/user_guide/indexing.html#returning-a-view-versus-a-copy\n",
      "\n",
      "C:\\Users\\nabha\\AppData\\Local\\Temp\\ipykernel_7692\\856646535.py:36: SettingWithCopyWarning:\n",
      "\n",
      "\n",
      "A value is trying to be set on a copy of a slice from a DataFrame\n",
      "\n",
      "See the caveats in the documentation: https://pandas.pydata.org/pandas-docs/stable/user_guide/indexing.html#returning-a-view-versus-a-copy\n",
      "\n",
      "C:\\Users\\nabha\\AppData\\Local\\Temp\\ipykernel_7692\\856646535.py:36: SettingWithCopyWarning:\n",
      "\n",
      "\n",
      "A value is trying to be set on a copy of a slice from a DataFrame\n",
      "\n",
      "See the caveats in the documentation: https://pandas.pydata.org/pandas-docs/stable/user_guide/indexing.html#returning-a-view-versus-a-copy\n",
      "\n",
      "C:\\Users\\nabha\\AppData\\Local\\Temp\\ipykernel_7692\\856646535.py:36: SettingWithCopyWarning:\n",
      "\n",
      "\n",
      "A value is trying to be set on a copy of a slice from a DataFrame\n",
      "\n",
      "See the caveats in the documentation: https://pandas.pydata.org/pandas-docs/stable/user_guide/indexing.html#returning-a-view-versus-a-copy\n",
      "\n",
      "C:\\Users\\nabha\\AppData\\Local\\Temp\\ipykernel_7692\\856646535.py:36: SettingWithCopyWarning:\n",
      "\n",
      "\n",
      "A value is trying to be set on a copy of a slice from a DataFrame\n",
      "\n",
      "See the caveats in the documentation: https://pandas.pydata.org/pandas-docs/stable/user_guide/indexing.html#returning-a-view-versus-a-copy\n",
      "\n",
      "C:\\Users\\nabha\\AppData\\Local\\Temp\\ipykernel_7692\\856646535.py:36: SettingWithCopyWarning:\n",
      "\n",
      "\n",
      "A value is trying to be set on a copy of a slice from a DataFrame\n",
      "\n",
      "See the caveats in the documentation: https://pandas.pydata.org/pandas-docs/stable/user_guide/indexing.html#returning-a-view-versus-a-copy\n",
      "\n",
      "C:\\Users\\nabha\\AppData\\Local\\Temp\\ipykernel_7692\\856646535.py:36: SettingWithCopyWarning:\n",
      "\n",
      "\n",
      "A value is trying to be set on a copy of a slice from a DataFrame\n",
      "\n",
      "See the caveats in the documentation: https://pandas.pydata.org/pandas-docs/stable/user_guide/indexing.html#returning-a-view-versus-a-copy\n",
      "\n",
      "C:\\Users\\nabha\\AppData\\Local\\Temp\\ipykernel_7692\\856646535.py:36: SettingWithCopyWarning:\n",
      "\n",
      "\n",
      "A value is trying to be set on a copy of a slice from a DataFrame\n",
      "\n",
      "See the caveats in the documentation: https://pandas.pydata.org/pandas-docs/stable/user_guide/indexing.html#returning-a-view-versus-a-copy\n",
      "\n",
      "C:\\Users\\nabha\\AppData\\Local\\Temp\\ipykernel_7692\\856646535.py:36: SettingWithCopyWarning:\n",
      "\n",
      "\n",
      "A value is trying to be set on a copy of a slice from a DataFrame\n",
      "\n",
      "See the caveats in the documentation: https://pandas.pydata.org/pandas-docs/stable/user_guide/indexing.html#returning-a-view-versus-a-copy\n",
      "\n",
      "C:\\Users\\nabha\\AppData\\Local\\Temp\\ipykernel_7692\\856646535.py:36: SettingWithCopyWarning:\n",
      "\n",
      "\n",
      "A value is trying to be set on a copy of a slice from a DataFrame\n",
      "\n",
      "See the caveats in the documentation: https://pandas.pydata.org/pandas-docs/stable/user_guide/indexing.html#returning-a-view-versus-a-copy\n",
      "\n",
      "C:\\Users\\nabha\\AppData\\Local\\Temp\\ipykernel_7692\\856646535.py:36: SettingWithCopyWarning:\n",
      "\n",
      "\n",
      "A value is trying to be set on a copy of a slice from a DataFrame\n",
      "\n",
      "See the caveats in the documentation: https://pandas.pydata.org/pandas-docs/stable/user_guide/indexing.html#returning-a-view-versus-a-copy\n",
      "\n",
      "C:\\Users\\nabha\\AppData\\Local\\Temp\\ipykernel_7692\\856646535.py:36: SettingWithCopyWarning:\n",
      "\n",
      "\n",
      "A value is trying to be set on a copy of a slice from a DataFrame\n",
      "\n",
      "See the caveats in the documentation: https://pandas.pydata.org/pandas-docs/stable/user_guide/indexing.html#returning-a-view-versus-a-copy\n",
      "\n",
      "C:\\Users\\nabha\\AppData\\Local\\Temp\\ipykernel_7692\\856646535.py:36: SettingWithCopyWarning:\n",
      "\n",
      "\n",
      "A value is trying to be set on a copy of a slice from a DataFrame\n",
      "\n",
      "See the caveats in the documentation: https://pandas.pydata.org/pandas-docs/stable/user_guide/indexing.html#returning-a-view-versus-a-copy\n",
      "\n",
      "C:\\Users\\nabha\\AppData\\Local\\Temp\\ipykernel_7692\\856646535.py:36: SettingWithCopyWarning:\n",
      "\n",
      "\n",
      "A value is trying to be set on a copy of a slice from a DataFrame\n",
      "\n",
      "See the caveats in the documentation: https://pandas.pydata.org/pandas-docs/stable/user_guide/indexing.html#returning-a-view-versus-a-copy\n",
      "\n",
      "C:\\Users\\nabha\\AppData\\Local\\Temp\\ipykernel_7692\\856646535.py:36: SettingWithCopyWarning:\n",
      "\n",
      "\n",
      "A value is trying to be set on a copy of a slice from a DataFrame\n",
      "\n",
      "See the caveats in the documentation: https://pandas.pydata.org/pandas-docs/stable/user_guide/indexing.html#returning-a-view-versus-a-copy\n",
      "\n",
      "C:\\Users\\nabha\\AppData\\Local\\Temp\\ipykernel_7692\\856646535.py:36: SettingWithCopyWarning:\n",
      "\n",
      "\n",
      "A value is trying to be set on a copy of a slice from a DataFrame\n",
      "\n",
      "See the caveats in the documentation: https://pandas.pydata.org/pandas-docs/stable/user_guide/indexing.html#returning-a-view-versus-a-copy\n",
      "\n",
      "C:\\Users\\nabha\\AppData\\Local\\Temp\\ipykernel_7692\\856646535.py:36: SettingWithCopyWarning:\n",
      "\n",
      "\n",
      "A value is trying to be set on a copy of a slice from a DataFrame\n",
      "\n",
      "See the caveats in the documentation: https://pandas.pydata.org/pandas-docs/stable/user_guide/indexing.html#returning-a-view-versus-a-copy\n",
      "\n",
      "C:\\Users\\nabha\\AppData\\Local\\Temp\\ipykernel_7692\\856646535.py:36: SettingWithCopyWarning:\n",
      "\n",
      "\n",
      "A value is trying to be set on a copy of a slice from a DataFrame\n",
      "\n",
      "See the caveats in the documentation: https://pandas.pydata.org/pandas-docs/stable/user_guide/indexing.html#returning-a-view-versus-a-copy\n",
      "\n",
      "C:\\Users\\nabha\\AppData\\Local\\Temp\\ipykernel_7692\\856646535.py:36: SettingWithCopyWarning:\n",
      "\n",
      "\n",
      "A value is trying to be set on a copy of a slice from a DataFrame\n",
      "\n",
      "See the caveats in the documentation: https://pandas.pydata.org/pandas-docs/stable/user_guide/indexing.html#returning-a-view-versus-a-copy\n",
      "\n",
      "C:\\Users\\nabha\\AppData\\Local\\Temp\\ipykernel_7692\\856646535.py:36: SettingWithCopyWarning:\n",
      "\n",
      "\n",
      "A value is trying to be set on a copy of a slice from a DataFrame\n",
      "\n",
      "See the caveats in the documentation: https://pandas.pydata.org/pandas-docs/stable/user_guide/indexing.html#returning-a-view-versus-a-copy\n",
      "\n",
      "C:\\Users\\nabha\\AppData\\Local\\Temp\\ipykernel_7692\\856646535.py:36: SettingWithCopyWarning:\n",
      "\n",
      "\n",
      "A value is trying to be set on a copy of a slice from a DataFrame\n",
      "\n",
      "See the caveats in the documentation: https://pandas.pydata.org/pandas-docs/stable/user_guide/indexing.html#returning-a-view-versus-a-copy\n",
      "\n",
      "C:\\Users\\nabha\\AppData\\Local\\Temp\\ipykernel_7692\\856646535.py:36: SettingWithCopyWarning:\n",
      "\n",
      "\n",
      "A value is trying to be set on a copy of a slice from a DataFrame\n",
      "\n",
      "See the caveats in the documentation: https://pandas.pydata.org/pandas-docs/stable/user_guide/indexing.html#returning-a-view-versus-a-copy\n",
      "\n",
      "C:\\Users\\nabha\\AppData\\Local\\Temp\\ipykernel_7692\\856646535.py:36: SettingWithCopyWarning:\n",
      "\n",
      "\n",
      "A value is trying to be set on a copy of a slice from a DataFrame\n",
      "\n",
      "See the caveats in the documentation: https://pandas.pydata.org/pandas-docs/stable/user_guide/indexing.html#returning-a-view-versus-a-copy\n",
      "\n",
      "C:\\Users\\nabha\\AppData\\Local\\Temp\\ipykernel_7692\\856646535.py:36: SettingWithCopyWarning:\n",
      "\n",
      "\n",
      "A value is trying to be set on a copy of a slice from a DataFrame\n",
      "\n",
      "See the caveats in the documentation: https://pandas.pydata.org/pandas-docs/stable/user_guide/indexing.html#returning-a-view-versus-a-copy\n",
      "\n",
      "C:\\Users\\nabha\\AppData\\Local\\Temp\\ipykernel_7692\\856646535.py:36: SettingWithCopyWarning:\n",
      "\n",
      "\n",
      "A value is trying to be set on a copy of a slice from a DataFrame\n",
      "\n",
      "See the caveats in the documentation: https://pandas.pydata.org/pandas-docs/stable/user_guide/indexing.html#returning-a-view-versus-a-copy\n",
      "\n",
      "C:\\Users\\nabha\\AppData\\Local\\Temp\\ipykernel_7692\\856646535.py:36: SettingWithCopyWarning:\n",
      "\n",
      "\n",
      "A value is trying to be set on a copy of a slice from a DataFrame\n",
      "\n",
      "See the caveats in the documentation: https://pandas.pydata.org/pandas-docs/stable/user_guide/indexing.html#returning-a-view-versus-a-copy\n",
      "\n",
      "C:\\Users\\nabha\\AppData\\Local\\Temp\\ipykernel_7692\\856646535.py:36: SettingWithCopyWarning:\n",
      "\n",
      "\n",
      "A value is trying to be set on a copy of a slice from a DataFrame\n",
      "\n",
      "See the caveats in the documentation: https://pandas.pydata.org/pandas-docs/stable/user_guide/indexing.html#returning-a-view-versus-a-copy\n",
      "\n",
      "C:\\Users\\nabha\\AppData\\Local\\Temp\\ipykernel_7692\\856646535.py:36: SettingWithCopyWarning:\n",
      "\n",
      "\n",
      "A value is trying to be set on a copy of a slice from a DataFrame\n",
      "\n",
      "See the caveats in the documentation: https://pandas.pydata.org/pandas-docs/stable/user_guide/indexing.html#returning-a-view-versus-a-copy\n",
      "\n",
      "C:\\Users\\nabha\\AppData\\Local\\Temp\\ipykernel_7692\\856646535.py:36: SettingWithCopyWarning:\n",
      "\n",
      "\n",
      "A value is trying to be set on a copy of a slice from a DataFrame\n",
      "\n",
      "See the caveats in the documentation: https://pandas.pydata.org/pandas-docs/stable/user_guide/indexing.html#returning-a-view-versus-a-copy\n",
      "\n",
      "C:\\Users\\nabha\\AppData\\Local\\Temp\\ipykernel_7692\\856646535.py:36: SettingWithCopyWarning:\n",
      "\n",
      "\n",
      "A value is trying to be set on a copy of a slice from a DataFrame\n",
      "\n",
      "See the caveats in the documentation: https://pandas.pydata.org/pandas-docs/stable/user_guide/indexing.html#returning-a-view-versus-a-copy\n",
      "\n",
      "C:\\Users\\nabha\\AppData\\Local\\Temp\\ipykernel_7692\\856646535.py:36: SettingWithCopyWarning:\n",
      "\n",
      "\n",
      "A value is trying to be set on a copy of a slice from a DataFrame\n",
      "\n",
      "See the caveats in the documentation: https://pandas.pydata.org/pandas-docs/stable/user_guide/indexing.html#returning-a-view-versus-a-copy\n",
      "\n",
      "C:\\Users\\nabha\\AppData\\Local\\Temp\\ipykernel_7692\\856646535.py:36: SettingWithCopyWarning:\n",
      "\n",
      "\n",
      "A value is trying to be set on a copy of a slice from a DataFrame\n",
      "\n",
      "See the caveats in the documentation: https://pandas.pydata.org/pandas-docs/stable/user_guide/indexing.html#returning-a-view-versus-a-copy\n",
      "\n",
      "C:\\Users\\nabha\\AppData\\Local\\Temp\\ipykernel_7692\\856646535.py:36: SettingWithCopyWarning:\n",
      "\n",
      "\n",
      "A value is trying to be set on a copy of a slice from a DataFrame\n",
      "\n",
      "See the caveats in the documentation: https://pandas.pydata.org/pandas-docs/stable/user_guide/indexing.html#returning-a-view-versus-a-copy\n",
      "\n",
      "C:\\Users\\nabha\\AppData\\Local\\Temp\\ipykernel_7692\\856646535.py:36: SettingWithCopyWarning:\n",
      "\n",
      "\n",
      "A value is trying to be set on a copy of a slice from a DataFrame\n",
      "\n",
      "See the caveats in the documentation: https://pandas.pydata.org/pandas-docs/stable/user_guide/indexing.html#returning-a-view-versus-a-copy\n",
      "\n",
      "C:\\Users\\nabha\\AppData\\Local\\Temp\\ipykernel_7692\\856646535.py:36: SettingWithCopyWarning:\n",
      "\n",
      "\n",
      "A value is trying to be set on a copy of a slice from a DataFrame\n",
      "\n",
      "See the caveats in the documentation: https://pandas.pydata.org/pandas-docs/stable/user_guide/indexing.html#returning-a-view-versus-a-copy\n",
      "\n",
      "C:\\Users\\nabha\\AppData\\Local\\Temp\\ipykernel_7692\\856646535.py:36: SettingWithCopyWarning:\n",
      "\n",
      "\n",
      "A value is trying to be set on a copy of a slice from a DataFrame\n",
      "\n",
      "See the caveats in the documentation: https://pandas.pydata.org/pandas-docs/stable/user_guide/indexing.html#returning-a-view-versus-a-copy\n",
      "\n",
      "C:\\Users\\nabha\\AppData\\Local\\Temp\\ipykernel_7692\\856646535.py:36: SettingWithCopyWarning:\n",
      "\n",
      "\n",
      "A value is trying to be set on a copy of a slice from a DataFrame\n",
      "\n",
      "See the caveats in the documentation: https://pandas.pydata.org/pandas-docs/stable/user_guide/indexing.html#returning-a-view-versus-a-copy\n",
      "\n",
      "C:\\Users\\nabha\\AppData\\Local\\Temp\\ipykernel_7692\\856646535.py:36: SettingWithCopyWarning:\n",
      "\n",
      "\n",
      "A value is trying to be set on a copy of a slice from a DataFrame\n",
      "\n",
      "See the caveats in the documentation: https://pandas.pydata.org/pandas-docs/stable/user_guide/indexing.html#returning-a-view-versus-a-copy\n",
      "\n",
      "C:\\Users\\nabha\\AppData\\Local\\Temp\\ipykernel_7692\\856646535.py:36: SettingWithCopyWarning:\n",
      "\n",
      "\n",
      "A value is trying to be set on a copy of a slice from a DataFrame\n",
      "\n",
      "See the caveats in the documentation: https://pandas.pydata.org/pandas-docs/stable/user_guide/indexing.html#returning-a-view-versus-a-copy\n",
      "\n",
      "C:\\Users\\nabha\\AppData\\Local\\Temp\\ipykernel_7692\\856646535.py:36: SettingWithCopyWarning:\n",
      "\n",
      "\n",
      "A value is trying to be set on a copy of a slice from a DataFrame\n",
      "\n",
      "See the caveats in the documentation: https://pandas.pydata.org/pandas-docs/stable/user_guide/indexing.html#returning-a-view-versus-a-copy\n",
      "\n",
      "C:\\Users\\nabha\\AppData\\Local\\Temp\\ipykernel_7692\\856646535.py:36: SettingWithCopyWarning:\n",
      "\n",
      "\n",
      "A value is trying to be set on a copy of a slice from a DataFrame\n",
      "\n",
      "See the caveats in the documentation: https://pandas.pydata.org/pandas-docs/stable/user_guide/indexing.html#returning-a-view-versus-a-copy\n",
      "\n",
      "C:\\Users\\nabha\\AppData\\Local\\Temp\\ipykernel_7692\\856646535.py:36: SettingWithCopyWarning:\n",
      "\n",
      "\n",
      "A value is trying to be set on a copy of a slice from a DataFrame\n",
      "\n",
      "See the caveats in the documentation: https://pandas.pydata.org/pandas-docs/stable/user_guide/indexing.html#returning-a-view-versus-a-copy\n",
      "\n",
      "C:\\Users\\nabha\\AppData\\Local\\Temp\\ipykernel_7692\\856646535.py:36: SettingWithCopyWarning:\n",
      "\n",
      "\n",
      "A value is trying to be set on a copy of a slice from a DataFrame\n",
      "\n",
      "See the caveats in the documentation: https://pandas.pydata.org/pandas-docs/stable/user_guide/indexing.html#returning-a-view-versus-a-copy\n",
      "\n",
      "C:\\Users\\nabha\\AppData\\Local\\Temp\\ipykernel_7692\\856646535.py:36: SettingWithCopyWarning:\n",
      "\n",
      "\n",
      "A value is trying to be set on a copy of a slice from a DataFrame\n",
      "\n",
      "See the caveats in the documentation: https://pandas.pydata.org/pandas-docs/stable/user_guide/indexing.html#returning-a-view-versus-a-copy\n",
      "\n",
      "C:\\Users\\nabha\\AppData\\Local\\Temp\\ipykernel_7692\\856646535.py:36: SettingWithCopyWarning:\n",
      "\n",
      "\n",
      "A value is trying to be set on a copy of a slice from a DataFrame\n",
      "\n",
      "See the caveats in the documentation: https://pandas.pydata.org/pandas-docs/stable/user_guide/indexing.html#returning-a-view-versus-a-copy\n",
      "\n",
      "C:\\Users\\nabha\\AppData\\Local\\Temp\\ipykernel_7692\\856646535.py:36: SettingWithCopyWarning:\n",
      "\n",
      "\n",
      "A value is trying to be set on a copy of a slice from a DataFrame\n",
      "\n",
      "See the caveats in the documentation: https://pandas.pydata.org/pandas-docs/stable/user_guide/indexing.html#returning-a-view-versus-a-copy\n",
      "\n",
      "C:\\Users\\nabha\\AppData\\Local\\Temp\\ipykernel_7692\\856646535.py:36: SettingWithCopyWarning:\n",
      "\n",
      "\n",
      "A value is trying to be set on a copy of a slice from a DataFrame\n",
      "\n",
      "See the caveats in the documentation: https://pandas.pydata.org/pandas-docs/stable/user_guide/indexing.html#returning-a-view-versus-a-copy\n",
      "\n",
      "C:\\Users\\nabha\\AppData\\Local\\Temp\\ipykernel_7692\\856646535.py:36: SettingWithCopyWarning:\n",
      "\n",
      "\n",
      "A value is trying to be set on a copy of a slice from a DataFrame\n",
      "\n",
      "See the caveats in the documentation: https://pandas.pydata.org/pandas-docs/stable/user_guide/indexing.html#returning-a-view-versus-a-copy\n",
      "\n",
      "C:\\Users\\nabha\\AppData\\Local\\Temp\\ipykernel_7692\\856646535.py:36: SettingWithCopyWarning:\n",
      "\n",
      "\n",
      "A value is trying to be set on a copy of a slice from a DataFrame\n",
      "\n",
      "See the caveats in the documentation: https://pandas.pydata.org/pandas-docs/stable/user_guide/indexing.html#returning-a-view-versus-a-copy\n",
      "\n",
      "C:\\Users\\nabha\\AppData\\Local\\Temp\\ipykernel_7692\\856646535.py:36: SettingWithCopyWarning:\n",
      "\n",
      "\n",
      "A value is trying to be set on a copy of a slice from a DataFrame\n",
      "\n",
      "See the caveats in the documentation: https://pandas.pydata.org/pandas-docs/stable/user_guide/indexing.html#returning-a-view-versus-a-copy\n",
      "\n",
      "C:\\Users\\nabha\\AppData\\Local\\Temp\\ipykernel_7692\\856646535.py:36: SettingWithCopyWarning:\n",
      "\n",
      "\n",
      "A value is trying to be set on a copy of a slice from a DataFrame\n",
      "\n",
      "See the caveats in the documentation: https://pandas.pydata.org/pandas-docs/stable/user_guide/indexing.html#returning-a-view-versus-a-copy\n",
      "\n",
      "C:\\Users\\nabha\\AppData\\Local\\Temp\\ipykernel_7692\\856646535.py:36: SettingWithCopyWarning:\n",
      "\n",
      "\n",
      "A value is trying to be set on a copy of a slice from a DataFrame\n",
      "\n",
      "See the caveats in the documentation: https://pandas.pydata.org/pandas-docs/stable/user_guide/indexing.html#returning-a-view-versus-a-copy\n",
      "\n",
      "C:\\Users\\nabha\\AppData\\Local\\Temp\\ipykernel_7692\\856646535.py:36: SettingWithCopyWarning:\n",
      "\n",
      "\n",
      "A value is trying to be set on a copy of a slice from a DataFrame\n",
      "\n",
      "See the caveats in the documentation: https://pandas.pydata.org/pandas-docs/stable/user_guide/indexing.html#returning-a-view-versus-a-copy\n",
      "\n",
      "C:\\Users\\nabha\\AppData\\Local\\Temp\\ipykernel_7692\\856646535.py:36: SettingWithCopyWarning:\n",
      "\n",
      "\n",
      "A value is trying to be set on a copy of a slice from a DataFrame\n",
      "\n",
      "See the caveats in the documentation: https://pandas.pydata.org/pandas-docs/stable/user_guide/indexing.html#returning-a-view-versus-a-copy\n",
      "\n",
      "C:\\Users\\nabha\\AppData\\Local\\Temp\\ipykernel_7692\\856646535.py:36: SettingWithCopyWarning:\n",
      "\n",
      "\n",
      "A value is trying to be set on a copy of a slice from a DataFrame\n",
      "\n",
      "See the caveats in the documentation: https://pandas.pydata.org/pandas-docs/stable/user_guide/indexing.html#returning-a-view-versus-a-copy\n",
      "\n",
      "C:\\Users\\nabha\\AppData\\Local\\Temp\\ipykernel_7692\\856646535.py:36: SettingWithCopyWarning:\n",
      "\n",
      "\n",
      "A value is trying to be set on a copy of a slice from a DataFrame\n",
      "\n",
      "See the caveats in the documentation: https://pandas.pydata.org/pandas-docs/stable/user_guide/indexing.html#returning-a-view-versus-a-copy\n",
      "\n",
      "C:\\Users\\nabha\\AppData\\Local\\Temp\\ipykernel_7692\\856646535.py:36: SettingWithCopyWarning:\n",
      "\n",
      "\n",
      "A value is trying to be set on a copy of a slice from a DataFrame\n",
      "\n",
      "See the caveats in the documentation: https://pandas.pydata.org/pandas-docs/stable/user_guide/indexing.html#returning-a-view-versus-a-copy\n",
      "\n",
      "C:\\Users\\nabha\\AppData\\Local\\Temp\\ipykernel_7692\\856646535.py:36: SettingWithCopyWarning:\n",
      "\n",
      "\n",
      "A value is trying to be set on a copy of a slice from a DataFrame\n",
      "\n",
      "See the caveats in the documentation: https://pandas.pydata.org/pandas-docs/stable/user_guide/indexing.html#returning-a-view-versus-a-copy\n",
      "\n",
      "C:\\Users\\nabha\\AppData\\Local\\Temp\\ipykernel_7692\\856646535.py:36: SettingWithCopyWarning:\n",
      "\n",
      "\n",
      "A value is trying to be set on a copy of a slice from a DataFrame\n",
      "\n",
      "See the caveats in the documentation: https://pandas.pydata.org/pandas-docs/stable/user_guide/indexing.html#returning-a-view-versus-a-copy\n",
      "\n",
      "C:\\Users\\nabha\\AppData\\Local\\Temp\\ipykernel_7692\\856646535.py:36: SettingWithCopyWarning:\n",
      "\n",
      "\n",
      "A value is trying to be set on a copy of a slice from a DataFrame\n",
      "\n",
      "See the caveats in the documentation: https://pandas.pydata.org/pandas-docs/stable/user_guide/indexing.html#returning-a-view-versus-a-copy\n",
      "\n",
      "C:\\Users\\nabha\\AppData\\Local\\Temp\\ipykernel_7692\\856646535.py:36: SettingWithCopyWarning:\n",
      "\n",
      "\n",
      "A value is trying to be set on a copy of a slice from a DataFrame\n",
      "\n",
      "See the caveats in the documentation: https://pandas.pydata.org/pandas-docs/stable/user_guide/indexing.html#returning-a-view-versus-a-copy\n",
      "\n",
      "C:\\Users\\nabha\\AppData\\Local\\Temp\\ipykernel_7692\\856646535.py:36: SettingWithCopyWarning:\n",
      "\n",
      "\n",
      "A value is trying to be set on a copy of a slice from a DataFrame\n",
      "\n",
      "See the caveats in the documentation: https://pandas.pydata.org/pandas-docs/stable/user_guide/indexing.html#returning-a-view-versus-a-copy\n",
      "\n"
     ]
    }
   ],
   "source": [
    "# 1. konversi * dan 99999 jadi nan value\n",
    "float_df.replace(['*','99999',99999], np.nan, inplace=True)\n",
    "\n",
    "# 2. ubah tipe data\n",
    "# Mengubah tipe data menjadi numerik\n",
    "columns_to_convert = [col for col in float_df.columns if col != 'type_of_attack']\n",
    "float_df[columns_to_convert] = float_df[columns_to_convert].astype(float)\n",
    "\n",
    "# 3. parting based on type of attack\n",
    "nmap = filtered_by_type_of_attack(float_df, 'nmap')\n",
    "neptune = filtered_by_type_of_attack(float_df, 'neptune')\n",
    "normal = filtered_by_type_of_attack(float_df, 'normal')\n",
    "dos = filtered_by_type_of_attack(float_df, 'Denial of Service Attack')\n",
    "portsweep = filtered_by_type_of_attack(float_df, 'portsweep')\n",
    "satan = filtered_by_type_of_attack(float_df, 'satan')\n",
    "ipsweep = filtered_by_type_of_attack(float_df, 'ipsweep')\n",
    "smurf = filtered_by_type_of_attack(float_df, 'smurf')\n",
    "\n",
    "# stored df in list\n",
    "filtered_dfs = [nmap, neptune, normal, dos, portsweep, satan, ipsweep, smurf]\n",
    "\n",
    "# Loop through each filtered DataFrame and its corresponding index in the list\n",
    "for filtered_df, attack_type in zip(filtered_dfs, ['nmap', 'neptune', 'normal', 'Denial of Service Attack', 'portsweep', 'satan', 'ipsweep', 'smurf']):\n",
    "    for column in filtered_df.columns:\n",
    "        if pd.api.types.is_numeric_dtype(filtered_df[column]):\n",
    "            # Check if the column contains numeric data\n",
    "            missing_mask = filtered_df[column].isnull()\n",
    "            if missing_mask.any():\n",
    "                # If there are missing values, interpolate\n",
    "                x = filtered_df.index[~missing_mask]\n",
    "                y = filtered_df[column][~missing_mask]\n",
    "                pchip = PchipInterpolator(x, y, extrapolate='periodic')\n",
    "                # Replace NaN values with interpolated values in the same DataFrame (filtered_df)\n",
    "                interpolated_values = pchip(filtered_df.index)\n",
    "                # Ensure the interpolated values are non-negative\n",
    "                filtered_df[column].loc[missing_mask] = np.maximum(0, interpolated_values[missing_mask])\n",
    "\n",
    "    # Copy the interpolated values back to the corresponding rows in the original float_df\n",
    "    float_df.loc[float_df['type_of_attack'] == attack_type, filtered_df.columns] = filtered_df\n",
    "\n",
    "# Delete 'type_of_attack' column\n",
    "float_df = float_df.drop('type_of_attack', axis=1)"
   ]
  },
  {
   "cell_type": "markdown",
   "metadata": {},
   "source": [
    "### 3.4. Numeric Data Replacement"
   ]
  },
  {
   "cell_type": "code",
   "execution_count": 97,
   "metadata": {},
   "outputs": [],
   "source": [
    "# Create a dictionary where keys are column names and values are corresponding DataFrames\n",
    "replacement_data = {\n",
    "    'land': bin_df,\n",
    "    'logged_in': bin_df,\n",
    "    'root_shell': bin_df,\n",
    "    'su_attempted': bin_df,\n",
    "    'is_host_login': bin_df,\n",
    "    'is_guest_login': bin_df,\n",
    "    'serror_rate': float_df,\n",
    "    'srv_serror_rate': float_df,\n",
    "    'rerror_rate': float_df,\n",
    "    'srv_rerror_rate': float_df,\n",
    "    'same_srv_rate': float_df,\n",
    "    'diff_srv_rate': float_df,\n",
    "    'srv_diff_host_rate': float_df,\n",
    "    'duration': int_df,\n",
    "    'src_bytes': int_df,\n",
    "    'dst_bytes': int_df,\n",
    "    'wrong_fragment': int_df,\n",
    "    'urgent': int_df,\n",
    "    'hot': int_df,\n",
    "    'num_failed_logins': int_df,\n",
    "    'num_compromised': int_df,\n",
    "    'num_root': int_df,\n",
    "    'num_file_creations': int_df,\n",
    "    'num_shells': int_df,\n",
    "    'num_access_files': int_df,\n",
    "    'num_outbound_cmds': int_df,\n",
    "    'count': int_df,\n",
    "    'srv_count': int_df,\n",
    "    'dst_host_count': int_df,\n",
    "    'dst_host_srv_count': int_df,\n",
    "    'dst_host_same_srv_rate': float_df,\n",
    "    'dst_host_diff_srv_rate': float_df,\n",
    "    'dst_host_same_src_port_rate': float_df,\n",
    "    'dst_host_srv_diff_host_rate': float_df,\n",
    "    'dst_host_serror_rate': float_df,\n",
    "    'dst_host_srv_serror_rate': float_df,\n",
    "    'dst_host_rerror_rate': float_df,\n",
    "    'dst_host_srv_rerror_rate': float_df,\n",
    "}\n",
    "\n",
    "# Iterate over the columns and replace data in 'df'\n",
    "for column_name, source_df in replacement_data.items():\n",
    "    df[column_name] = source_df[column_name]"
   ]
  },
  {
   "cell_type": "code",
   "execution_count": 98,
   "metadata": {},
   "outputs": [
    {
     "data": {
      "text/plain": [
       "duration                         int32\n",
       "protocol_type                   object\n",
       "service                         object\n",
       "flag                            object\n",
       "src_bytes                        int32\n",
       "dst_bytes                        int32\n",
       "land                             int32\n",
       "wrong_fragment                   int32\n",
       "urgent                           int32\n",
       "hot                              int32\n",
       "num_failed_logins                int32\n",
       "logged_in                        int32\n",
       "num_compromised                  int32\n",
       "root_shell                       int32\n",
       "su_attempted                     int32\n",
       "num_root                         int32\n",
       "num_file_creations               int32\n",
       "num_shells                       int32\n",
       "num_access_files                 int32\n",
       "num_outbound_cmds                int32\n",
       "is_host_login                    int32\n",
       "is_guest_login                   int32\n",
       "count                            int32\n",
       "srv_count                        int32\n",
       "serror_rate                    float64\n",
       "srv_serror_rate                float64\n",
       "rerror_rate                    float64\n",
       "srv_rerror_rate                float64\n",
       "same_srv_rate                  float64\n",
       "diff_srv_rate                  float64\n",
       "srv_diff_host_rate             float64\n",
       "dst_host_count                   int32\n",
       "dst_host_srv_count               int32\n",
       "dst_host_same_srv_rate         float64\n",
       "dst_host_diff_srv_rate         float64\n",
       "dst_host_same_src_port_rate    float64\n",
       "dst_host_srv_diff_host_rate    float64\n",
       "dst_host_serror_rate           float64\n",
       "dst_host_srv_serror_rate       float64\n",
       "dst_host_rerror_rate           float64\n",
       "dst_host_srv_rerror_rate       float64\n",
       "target                          object\n",
       "attack                          object\n",
       "type_of_attack                  object\n",
       "dtype: object"
      ]
     },
     "execution_count": 98,
     "metadata": {},
     "output_type": "execute_result"
    }
   ],
   "source": [
    "df.dtypes"
   ]
  },
  {
   "cell_type": "markdown",
   "metadata": {},
   "source": [
    "## 4. Remove Constant, Quasi-Constand and Duplicated Features"
   ]
  },
  {
   "cell_type": "code",
   "execution_count": 99,
   "metadata": {},
   "outputs": [
    {
     "data": {
      "text/plain": [
       "(110004, 36)"
      ]
     },
     "execution_count": 99,
     "metadata": {},
     "output_type": "execute_result"
    }
   ],
   "source": [
    "# remove constant, quasi-constand and duplicated features\n",
    "quasi_constant_feat = []\n",
    "\n",
    "# iterate over every feature\n",
    "for feature in df.columns:\n",
    "\n",
    "    # find the predominant value, that is the value that is shared\n",
    "    # by most observations\n",
    "    predominant = df[feature].value_counts(\n",
    "        normalize=True).sort_values(ascending=False).values[0]\n",
    "\n",
    "    # evaluate the predominant feature: do more than 99% of the observations\n",
    "    # show 1 value?\n",
    "    if predominant > 0.998:\n",
    "\n",
    "        # if yes, add the variable to the list\n",
    "        quasi_constant_feat.append(feature)\n",
    "\n",
    "df.drop(labels=quasi_constant_feat, axis=1, inplace=True)\n",
    "\n",
    "df.shape"
   ]
  },
  {
   "cell_type": "code",
   "execution_count": 100,
   "metadata": {},
   "outputs": [
    {
     "data": {
      "text/plain": [
       "['land',\n",
       " 'urgent',\n",
       " 'num_failed_logins',\n",
       " 'root_shell',\n",
       " 'su_attempted',\n",
       " 'num_shells',\n",
       " 'num_outbound_cmds',\n",
       " 'is_host_login']"
      ]
     },
     "execution_count": 100,
     "metadata": {},
     "output_type": "execute_result"
    }
   ],
   "source": [
    "quasi_constant_feat"
   ]
  },
  {
   "cell_type": "markdown",
   "metadata": {},
   "source": [
    "## 5. Remove Duplicate Rows"
   ]
  },
  {
   "cell_type": "code",
   "execution_count": 101,
   "metadata": {},
   "outputs": [
    {
     "data": {
      "text/plain": [
       "(108616, 36)"
      ]
     },
     "execution_count": 101,
     "metadata": {},
     "output_type": "execute_result"
    }
   ],
   "source": [
    "df = df.drop_duplicates()\n",
    "df.shape"
   ]
  },
  {
   "cell_type": "markdown",
   "metadata": {},
   "source": [
    "# **Exploratory Data Analysis**"
   ]
  },
  {
   "cell_type": "markdown",
   "metadata": {},
   "source": [
    "## 1. Statistical Measure"
   ]
  },
  {
   "cell_type": "code",
   "execution_count": 103,
   "metadata": {},
   "outputs": [
    {
     "data": {
      "text/html": [
       "<div>\n",
       "<style scoped>\n",
       "    .dataframe tbody tr th:only-of-type {\n",
       "        vertical-align: middle;\n",
       "    }\n",
       "\n",
       "    .dataframe tbody tr th {\n",
       "        vertical-align: top;\n",
       "    }\n",
       "\n",
       "    .dataframe thead th {\n",
       "        text-align: right;\n",
       "    }\n",
       "</style>\n",
       "<table border=\"1\" class=\"dataframe\">\n",
       "  <thead>\n",
       "    <tr style=\"text-align: right;\">\n",
       "      <th></th>\n",
       "      <th>duration</th>\n",
       "      <th>src_bytes</th>\n",
       "      <th>dst_bytes</th>\n",
       "      <th>wrong_fragment</th>\n",
       "      <th>hot</th>\n",
       "      <th>logged_in</th>\n",
       "      <th>num_compromised</th>\n",
       "      <th>num_root</th>\n",
       "      <th>num_file_creations</th>\n",
       "      <th>num_access_files</th>\n",
       "      <th>...</th>\n",
       "      <th>dst_host_count</th>\n",
       "      <th>dst_host_srv_count</th>\n",
       "      <th>dst_host_same_srv_rate</th>\n",
       "      <th>dst_host_diff_srv_rate</th>\n",
       "      <th>dst_host_same_src_port_rate</th>\n",
       "      <th>dst_host_srv_diff_host_rate</th>\n",
       "      <th>dst_host_serror_rate</th>\n",
       "      <th>dst_host_srv_serror_rate</th>\n",
       "      <th>dst_host_rerror_rate</th>\n",
       "      <th>dst_host_srv_rerror_rate</th>\n",
       "    </tr>\n",
       "  </thead>\n",
       "  <tbody>\n",
       "    <tr>\n",
       "      <th>count</th>\n",
       "      <td>108616.000000</td>\n",
       "      <td>1.086160e+05</td>\n",
       "      <td>1.086160e+05</td>\n",
       "      <td>108616.000000</td>\n",
       "      <td>108616.000000</td>\n",
       "      <td>108616.000000</td>\n",
       "      <td>108616.000000</td>\n",
       "      <td>108616.000000</td>\n",
       "      <td>108616.000000</td>\n",
       "      <td>108616.000000</td>\n",
       "      <td>...</td>\n",
       "      <td>108616.000000</td>\n",
       "      <td>108616.000000</td>\n",
       "      <td>108616.000000</td>\n",
       "      <td>108616.000000</td>\n",
       "      <td>108616.000000</td>\n",
       "      <td>108616.000000</td>\n",
       "      <td>108616.000000</td>\n",
       "      <td>108616.000000</td>\n",
       "      <td>108616.000000</td>\n",
       "      <td>108616.000000</td>\n",
       "    </tr>\n",
       "    <tr>\n",
       "      <th>mean</th>\n",
       "      <td>290.058693</td>\n",
       "      <td>3.441441e+04</td>\n",
       "      <td>2.178286e+04</td>\n",
       "      <td>0.022087</td>\n",
       "      <td>0.138368</td>\n",
       "      <td>0.394620</td>\n",
       "      <td>0.272391</td>\n",
       "      <td>0.296089</td>\n",
       "      <td>0.012319</td>\n",
       "      <td>0.004023</td>\n",
       "      <td>...</td>\n",
       "      <td>184.069953</td>\n",
       "      <td>115.958432</td>\n",
       "      <td>0.517613</td>\n",
       "      <td>0.077830</td>\n",
       "      <td>0.141355</td>\n",
       "      <td>0.022615</td>\n",
       "      <td>0.293577</td>\n",
       "      <td>0.285192</td>\n",
       "      <td>0.094733</td>\n",
       "      <td>0.102138</td>\n",
       "    </tr>\n",
       "    <tr>\n",
       "      <th>std</th>\n",
       "      <td>2638.758594</td>\n",
       "      <td>5.104010e+06</td>\n",
       "      <td>4.330190e+06</td>\n",
       "      <td>0.250875</td>\n",
       "      <td>1.721655</td>\n",
       "      <td>0.488771</td>\n",
       "      <td>24.872608</td>\n",
       "      <td>25.292838</td>\n",
       "      <td>0.484416</td>\n",
       "      <td>0.098847</td>\n",
       "      <td>...</td>\n",
       "      <td>97.908941</td>\n",
       "      <td>110.682810</td>\n",
       "      <td>0.448381</td>\n",
       "      <td>0.175375</td>\n",
       "      <td>0.301322</td>\n",
       "      <td>0.144114</td>\n",
       "      <td>0.449615</td>\n",
       "      <td>0.451180</td>\n",
       "      <td>0.291420</td>\n",
       "      <td>0.302158</td>\n",
       "    </tr>\n",
       "    <tr>\n",
       "      <th>min</th>\n",
       "      <td>0.000000</td>\n",
       "      <td>0.000000e+00</td>\n",
       "      <td>0.000000e+00</td>\n",
       "      <td>0.000000</td>\n",
       "      <td>0.000000</td>\n",
       "      <td>0.000000</td>\n",
       "      <td>0.000000</td>\n",
       "      <td>0.000000</td>\n",
       "      <td>0.000000</td>\n",
       "      <td>0.000000</td>\n",
       "      <td>...</td>\n",
       "      <td>0.000000</td>\n",
       "      <td>0.000000</td>\n",
       "      <td>0.000000</td>\n",
       "      <td>0.000000</td>\n",
       "      <td>0.000000</td>\n",
       "      <td>0.000000</td>\n",
       "      <td>0.000000</td>\n",
       "      <td>0.000000</td>\n",
       "      <td>0.000000</td>\n",
       "      <td>0.000000</td>\n",
       "    </tr>\n",
       "    <tr>\n",
       "      <th>25%</th>\n",
       "      <td>0.000000</td>\n",
       "      <td>0.000000e+00</td>\n",
       "      <td>0.000000e+00</td>\n",
       "      <td>0.000000</td>\n",
       "      <td>0.000000</td>\n",
       "      <td>0.000000</td>\n",
       "      <td>0.000000</td>\n",
       "      <td>0.000000</td>\n",
       "      <td>0.000000</td>\n",
       "      <td>0.000000</td>\n",
       "      <td>...</td>\n",
       "      <td>88.000000</td>\n",
       "      <td>11.000000</td>\n",
       "      <td>0.050000</td>\n",
       "      <td>0.000000</td>\n",
       "      <td>0.000000</td>\n",
       "      <td>0.000000</td>\n",
       "      <td>0.000000</td>\n",
       "      <td>0.000000</td>\n",
       "      <td>0.000000</td>\n",
       "      <td>0.000000</td>\n",
       "    </tr>\n",
       "    <tr>\n",
       "      <th>50%</th>\n",
       "      <td>0.000000</td>\n",
       "      <td>4.400000e+01</td>\n",
       "      <td>0.000000e+00</td>\n",
       "      <td>0.000000</td>\n",
       "      <td>0.000000</td>\n",
       "      <td>0.000000</td>\n",
       "      <td>0.000000</td>\n",
       "      <td>0.000000</td>\n",
       "      <td>0.000000</td>\n",
       "      <td>0.000000</td>\n",
       "      <td>...</td>\n",
       "      <td>255.000000</td>\n",
       "      <td>63.000000</td>\n",
       "      <td>0.500000</td>\n",
       "      <td>0.030000</td>\n",
       "      <td>0.000000</td>\n",
       "      <td>0.000000</td>\n",
       "      <td>0.000000</td>\n",
       "      <td>0.000000</td>\n",
       "      <td>0.000000</td>\n",
       "      <td>0.000000</td>\n",
       "    </tr>\n",
       "    <tr>\n",
       "      <th>75%</th>\n",
       "      <td>0.000000</td>\n",
       "      <td>2.690000e+02</td>\n",
       "      <td>5.250000e+02</td>\n",
       "      <td>0.000000</td>\n",
       "      <td>0.000000</td>\n",
       "      <td>1.000000</td>\n",
       "      <td>0.000000</td>\n",
       "      <td>0.000000</td>\n",
       "      <td>0.000000</td>\n",
       "      <td>0.000000</td>\n",
       "      <td>...</td>\n",
       "      <td>255.000000</td>\n",
       "      <td>255.000000</td>\n",
       "      <td>1.000000</td>\n",
       "      <td>0.070000</td>\n",
       "      <td>0.050000</td>\n",
       "      <td>0.000000</td>\n",
       "      <td>1.000000</td>\n",
       "      <td>1.000000</td>\n",
       "      <td>0.000000</td>\n",
       "      <td>0.000000</td>\n",
       "    </tr>\n",
       "    <tr>\n",
       "      <th>max</th>\n",
       "      <td>42908.000000</td>\n",
       "      <td>1.379964e+09</td>\n",
       "      <td>1.309937e+09</td>\n",
       "      <td>3.000000</td>\n",
       "      <td>77.000000</td>\n",
       "      <td>1.000000</td>\n",
       "      <td>7479.000000</td>\n",
       "      <td>7468.000000</td>\n",
       "      <td>43.000000</td>\n",
       "      <td>9.000000</td>\n",
       "      <td>...</td>\n",
       "      <td>255.000000</td>\n",
       "      <td>255.000000</td>\n",
       "      <td>1.000000</td>\n",
       "      <td>1.000000</td>\n",
       "      <td>1.000000</td>\n",
       "      <td>1.000000</td>\n",
       "      <td>1.000000</td>\n",
       "      <td>1.000000</td>\n",
       "      <td>1.000000</td>\n",
       "      <td>1.000000</td>\n",
       "    </tr>\n",
       "  </tbody>\n",
       "</table>\n",
       "<p>8 rows × 30 columns</p>\n",
       "</div>"
      ],
      "text/plain": [
       "            duration     src_bytes     dst_bytes  wrong_fragment  \\\n",
       "count  108616.000000  1.086160e+05  1.086160e+05   108616.000000   \n",
       "mean      290.058693  3.441441e+04  2.178286e+04        0.022087   \n",
       "std      2638.758594  5.104010e+06  4.330190e+06        0.250875   \n",
       "min         0.000000  0.000000e+00  0.000000e+00        0.000000   \n",
       "25%         0.000000  0.000000e+00  0.000000e+00        0.000000   \n",
       "50%         0.000000  4.400000e+01  0.000000e+00        0.000000   \n",
       "75%         0.000000  2.690000e+02  5.250000e+02        0.000000   \n",
       "max     42908.000000  1.379964e+09  1.309937e+09        3.000000   \n",
       "\n",
       "                 hot      logged_in  num_compromised       num_root  \\\n",
       "count  108616.000000  108616.000000    108616.000000  108616.000000   \n",
       "mean        0.138368       0.394620         0.272391       0.296089   \n",
       "std         1.721655       0.488771        24.872608      25.292838   \n",
       "min         0.000000       0.000000         0.000000       0.000000   \n",
       "25%         0.000000       0.000000         0.000000       0.000000   \n",
       "50%         0.000000       0.000000         0.000000       0.000000   \n",
       "75%         0.000000       1.000000         0.000000       0.000000   \n",
       "max        77.000000       1.000000      7479.000000    7468.000000   \n",
       "\n",
       "       num_file_creations  num_access_files  ...  dst_host_count  \\\n",
       "count       108616.000000     108616.000000  ...   108616.000000   \n",
       "mean             0.012319          0.004023  ...      184.069953   \n",
       "std              0.484416          0.098847  ...       97.908941   \n",
       "min              0.000000          0.000000  ...        0.000000   \n",
       "25%              0.000000          0.000000  ...       88.000000   \n",
       "50%              0.000000          0.000000  ...      255.000000   \n",
       "75%              0.000000          0.000000  ...      255.000000   \n",
       "max             43.000000          9.000000  ...      255.000000   \n",
       "\n",
       "       dst_host_srv_count  dst_host_same_srv_rate  dst_host_diff_srv_rate  \\\n",
       "count       108616.000000           108616.000000           108616.000000   \n",
       "mean           115.958432                0.517613                0.077830   \n",
       "std            110.682810                0.448381                0.175375   \n",
       "min              0.000000                0.000000                0.000000   \n",
       "25%             11.000000                0.050000                0.000000   \n",
       "50%             63.000000                0.500000                0.030000   \n",
       "75%            255.000000                1.000000                0.070000   \n",
       "max            255.000000                1.000000                1.000000   \n",
       "\n",
       "       dst_host_same_src_port_rate  dst_host_srv_diff_host_rate  \\\n",
       "count                108616.000000                108616.000000   \n",
       "mean                      0.141355                     0.022615   \n",
       "std                       0.301322                     0.144114   \n",
       "min                       0.000000                     0.000000   \n",
       "25%                       0.000000                     0.000000   \n",
       "50%                       0.000000                     0.000000   \n",
       "75%                       0.050000                     0.000000   \n",
       "max                       1.000000                     1.000000   \n",
       "\n",
       "       dst_host_serror_rate  dst_host_srv_serror_rate  dst_host_rerror_rate  \\\n",
       "count         108616.000000             108616.000000         108616.000000   \n",
       "mean               0.293577                  0.285192              0.094733   \n",
       "std                0.449615                  0.451180              0.291420   \n",
       "min                0.000000                  0.000000              0.000000   \n",
       "25%                0.000000                  0.000000              0.000000   \n",
       "50%                0.000000                  0.000000              0.000000   \n",
       "75%                1.000000                  1.000000              0.000000   \n",
       "max                1.000000                  1.000000              1.000000   \n",
       "\n",
       "       dst_host_srv_rerror_rate  \n",
       "count             108616.000000  \n",
       "mean                   0.102138  \n",
       "std                    0.302158  \n",
       "min                    0.000000  \n",
       "25%                    0.000000  \n",
       "50%                    0.000000  \n",
       "75%                    0.000000  \n",
       "max                    1.000000  \n",
       "\n",
       "[8 rows x 30 columns]"
      ]
     },
     "execution_count": 103,
     "metadata": {},
     "output_type": "execute_result"
    }
   ],
   "source": [
    "df.describe()"
   ]
  },
  {
   "cell_type": "code",
   "execution_count": 104,
   "metadata": {},
   "outputs": [
    {
     "data": {
      "text/html": [
       "<div>\n",
       "<style scoped>\n",
       "    .dataframe tbody tr th:only-of-type {\n",
       "        vertical-align: middle;\n",
       "    }\n",
       "\n",
       "    .dataframe tbody tr th {\n",
       "        vertical-align: top;\n",
       "    }\n",
       "\n",
       "    .dataframe thead th {\n",
       "        text-align: right;\n",
       "    }\n",
       "</style>\n",
       "<table border=\"1\" class=\"dataframe\">\n",
       "  <thead>\n",
       "    <tr style=\"text-align: right;\">\n",
       "      <th></th>\n",
       "      <th>protocol_type</th>\n",
       "      <th>service</th>\n",
       "      <th>flag</th>\n",
       "      <th>target</th>\n",
       "      <th>attack</th>\n",
       "      <th>type_of_attack</th>\n",
       "    </tr>\n",
       "  </thead>\n",
       "  <tbody>\n",
       "    <tr>\n",
       "      <th>count</th>\n",
       "      <td>108616</td>\n",
       "      <td>108616</td>\n",
       "      <td>108616</td>\n",
       "      <td>108616</td>\n",
       "      <td>108616</td>\n",
       "      <td>108616</td>\n",
       "    </tr>\n",
       "    <tr>\n",
       "      <th>unique</th>\n",
       "      <td>3</td>\n",
       "      <td>70</td>\n",
       "      <td>11</td>\n",
       "      <td>2</td>\n",
       "      <td>3</td>\n",
       "      <td>8</td>\n",
       "    </tr>\n",
       "    <tr>\n",
       "      <th>top</th>\n",
       "      <td>tcp</td>\n",
       "      <td>http</td>\n",
       "      <td>SF</td>\n",
       "      <td>normal</td>\n",
       "      <td>normal</td>\n",
       "      <td>normal</td>\n",
       "    </tr>\n",
       "    <tr>\n",
       "      <th>freq</th>\n",
       "      <td>88554</td>\n",
       "      <td>34839</td>\n",
       "      <td>64482</td>\n",
       "      <td>58750</td>\n",
       "      <td>58750</td>\n",
       "      <td>58750</td>\n",
       "    </tr>\n",
       "  </tbody>\n",
       "</table>\n",
       "</div>"
      ],
      "text/plain": [
       "       protocol_type service    flag  target  attack type_of_attack\n",
       "count         108616  108616  108616  108616  108616         108616\n",
       "unique             3      70      11       2       3              8\n",
       "top              tcp    http      SF  normal  normal         normal\n",
       "freq           88554   34839   64482   58750   58750          58750"
      ]
     },
     "execution_count": 104,
     "metadata": {},
     "output_type": "execute_result"
    }
   ],
   "source": [
    "df.describe(include='object')"
   ]
  },
  {
   "cell_type": "markdown",
   "metadata": {},
   "source": [
    "## 2. Label Distribution"
   ]
  },
  {
   "cell_type": "code",
   "execution_count": 105,
   "metadata": {},
   "outputs": [
    {
     "data": {
      "application/vnd.plotly.v1+json": {
       "config": {
        "plotlyServerURL": "https://plot.ly"
       },
       "data": [
        {
         "branchvalues": "total",
         "domain": {
          "x": [
           0,
           1
          ],
          "y": [
           0,
           1
          ]
         },
         "hovertemplate": "labels=%{label}<br>count=%{value}<br>parent=%{parent}<br>id=%{id}<extra></extra>",
         "ids": [
          "anomaly",
          "normal"
         ],
         "labels": [
          "anomaly",
          "normal"
         ],
         "name": "",
         "parents": [
          "",
          ""
         ],
         "type": "treemap",
         "values": [
          49866,
          58750
         ]
        }
       ],
       "layout": {
        "legend": {
         "tracegroupgap": 0
        },
        "template": {
         "data": {
          "bar": [
           {
            "error_x": {
             "color": "#2a3f5f"
            },
            "error_y": {
             "color": "#2a3f5f"
            },
            "marker": {
             "line": {
              "color": "#E5ECF6",
              "width": 0.5
             },
             "pattern": {
              "fillmode": "overlay",
              "size": 10,
              "solidity": 0.2
             }
            },
            "type": "bar"
           }
          ],
          "barpolar": [
           {
            "marker": {
             "line": {
              "color": "#E5ECF6",
              "width": 0.5
             },
             "pattern": {
              "fillmode": "overlay",
              "size": 10,
              "solidity": 0.2
             }
            },
            "type": "barpolar"
           }
          ],
          "carpet": [
           {
            "aaxis": {
             "endlinecolor": "#2a3f5f",
             "gridcolor": "white",
             "linecolor": "white",
             "minorgridcolor": "white",
             "startlinecolor": "#2a3f5f"
            },
            "baxis": {
             "endlinecolor": "#2a3f5f",
             "gridcolor": "white",
             "linecolor": "white",
             "minorgridcolor": "white",
             "startlinecolor": "#2a3f5f"
            },
            "type": "carpet"
           }
          ],
          "choropleth": [
           {
            "colorbar": {
             "outlinewidth": 0,
             "ticks": ""
            },
            "type": "choropleth"
           }
          ],
          "contour": [
           {
            "colorbar": {
             "outlinewidth": 0,
             "ticks": ""
            },
            "colorscale": [
             [
              0,
              "#0d0887"
             ],
             [
              0.1111111111111111,
              "#46039f"
             ],
             [
              0.2222222222222222,
              "#7201a8"
             ],
             [
              0.3333333333333333,
              "#9c179e"
             ],
             [
              0.4444444444444444,
              "#bd3786"
             ],
             [
              0.5555555555555556,
              "#d8576b"
             ],
             [
              0.6666666666666666,
              "#ed7953"
             ],
             [
              0.7777777777777778,
              "#fb9f3a"
             ],
             [
              0.8888888888888888,
              "#fdca26"
             ],
             [
              1,
              "#f0f921"
             ]
            ],
            "type": "contour"
           }
          ],
          "contourcarpet": [
           {
            "colorbar": {
             "outlinewidth": 0,
             "ticks": ""
            },
            "type": "contourcarpet"
           }
          ],
          "heatmap": [
           {
            "colorbar": {
             "outlinewidth": 0,
             "ticks": ""
            },
            "colorscale": [
             [
              0,
              "#0d0887"
             ],
             [
              0.1111111111111111,
              "#46039f"
             ],
             [
              0.2222222222222222,
              "#7201a8"
             ],
             [
              0.3333333333333333,
              "#9c179e"
             ],
             [
              0.4444444444444444,
              "#bd3786"
             ],
             [
              0.5555555555555556,
              "#d8576b"
             ],
             [
              0.6666666666666666,
              "#ed7953"
             ],
             [
              0.7777777777777778,
              "#fb9f3a"
             ],
             [
              0.8888888888888888,
              "#fdca26"
             ],
             [
              1,
              "#f0f921"
             ]
            ],
            "type": "heatmap"
           }
          ],
          "heatmapgl": [
           {
            "colorbar": {
             "outlinewidth": 0,
             "ticks": ""
            },
            "colorscale": [
             [
              0,
              "#0d0887"
             ],
             [
              0.1111111111111111,
              "#46039f"
             ],
             [
              0.2222222222222222,
              "#7201a8"
             ],
             [
              0.3333333333333333,
              "#9c179e"
             ],
             [
              0.4444444444444444,
              "#bd3786"
             ],
             [
              0.5555555555555556,
              "#d8576b"
             ],
             [
              0.6666666666666666,
              "#ed7953"
             ],
             [
              0.7777777777777778,
              "#fb9f3a"
             ],
             [
              0.8888888888888888,
              "#fdca26"
             ],
             [
              1,
              "#f0f921"
             ]
            ],
            "type": "heatmapgl"
           }
          ],
          "histogram": [
           {
            "marker": {
             "pattern": {
              "fillmode": "overlay",
              "size": 10,
              "solidity": 0.2
             }
            },
            "type": "histogram"
           }
          ],
          "histogram2d": [
           {
            "colorbar": {
             "outlinewidth": 0,
             "ticks": ""
            },
            "colorscale": [
             [
              0,
              "#0d0887"
             ],
             [
              0.1111111111111111,
              "#46039f"
             ],
             [
              0.2222222222222222,
              "#7201a8"
             ],
             [
              0.3333333333333333,
              "#9c179e"
             ],
             [
              0.4444444444444444,
              "#bd3786"
             ],
             [
              0.5555555555555556,
              "#d8576b"
             ],
             [
              0.6666666666666666,
              "#ed7953"
             ],
             [
              0.7777777777777778,
              "#fb9f3a"
             ],
             [
              0.8888888888888888,
              "#fdca26"
             ],
             [
              1,
              "#f0f921"
             ]
            ],
            "type": "histogram2d"
           }
          ],
          "histogram2dcontour": [
           {
            "colorbar": {
             "outlinewidth": 0,
             "ticks": ""
            },
            "colorscale": [
             [
              0,
              "#0d0887"
             ],
             [
              0.1111111111111111,
              "#46039f"
             ],
             [
              0.2222222222222222,
              "#7201a8"
             ],
             [
              0.3333333333333333,
              "#9c179e"
             ],
             [
              0.4444444444444444,
              "#bd3786"
             ],
             [
              0.5555555555555556,
              "#d8576b"
             ],
             [
              0.6666666666666666,
              "#ed7953"
             ],
             [
              0.7777777777777778,
              "#fb9f3a"
             ],
             [
              0.8888888888888888,
              "#fdca26"
             ],
             [
              1,
              "#f0f921"
             ]
            ],
            "type": "histogram2dcontour"
           }
          ],
          "mesh3d": [
           {
            "colorbar": {
             "outlinewidth": 0,
             "ticks": ""
            },
            "type": "mesh3d"
           }
          ],
          "parcoords": [
           {
            "line": {
             "colorbar": {
              "outlinewidth": 0,
              "ticks": ""
             }
            },
            "type": "parcoords"
           }
          ],
          "pie": [
           {
            "automargin": true,
            "type": "pie"
           }
          ],
          "scatter": [
           {
            "fillpattern": {
             "fillmode": "overlay",
             "size": 10,
             "solidity": 0.2
            },
            "type": "scatter"
           }
          ],
          "scatter3d": [
           {
            "line": {
             "colorbar": {
              "outlinewidth": 0,
              "ticks": ""
             }
            },
            "marker": {
             "colorbar": {
              "outlinewidth": 0,
              "ticks": ""
             }
            },
            "type": "scatter3d"
           }
          ],
          "scattercarpet": [
           {
            "marker": {
             "colorbar": {
              "outlinewidth": 0,
              "ticks": ""
             }
            },
            "type": "scattercarpet"
           }
          ],
          "scattergeo": [
           {
            "marker": {
             "colorbar": {
              "outlinewidth": 0,
              "ticks": ""
             }
            },
            "type": "scattergeo"
           }
          ],
          "scattergl": [
           {
            "marker": {
             "colorbar": {
              "outlinewidth": 0,
              "ticks": ""
             }
            },
            "type": "scattergl"
           }
          ],
          "scattermapbox": [
           {
            "marker": {
             "colorbar": {
              "outlinewidth": 0,
              "ticks": ""
             }
            },
            "type": "scattermapbox"
           }
          ],
          "scatterpolar": [
           {
            "marker": {
             "colorbar": {
              "outlinewidth": 0,
              "ticks": ""
             }
            },
            "type": "scatterpolar"
           }
          ],
          "scatterpolargl": [
           {
            "marker": {
             "colorbar": {
              "outlinewidth": 0,
              "ticks": ""
             }
            },
            "type": "scatterpolargl"
           }
          ],
          "scatterternary": [
           {
            "marker": {
             "colorbar": {
              "outlinewidth": 0,
              "ticks": ""
             }
            },
            "type": "scatterternary"
           }
          ],
          "surface": [
           {
            "colorbar": {
             "outlinewidth": 0,
             "ticks": ""
            },
            "colorscale": [
             [
              0,
              "#0d0887"
             ],
             [
              0.1111111111111111,
              "#46039f"
             ],
             [
              0.2222222222222222,
              "#7201a8"
             ],
             [
              0.3333333333333333,
              "#9c179e"
             ],
             [
              0.4444444444444444,
              "#bd3786"
             ],
             [
              0.5555555555555556,
              "#d8576b"
             ],
             [
              0.6666666666666666,
              "#ed7953"
             ],
             [
              0.7777777777777778,
              "#fb9f3a"
             ],
             [
              0.8888888888888888,
              "#fdca26"
             ],
             [
              1,
              "#f0f921"
             ]
            ],
            "type": "surface"
           }
          ],
          "table": [
           {
            "cells": {
             "fill": {
              "color": "#EBF0F8"
             },
             "line": {
              "color": "white"
             }
            },
            "header": {
             "fill": {
              "color": "#C8D4E3"
             },
             "line": {
              "color": "white"
             }
            },
            "type": "table"
           }
          ]
         },
         "layout": {
          "annotationdefaults": {
           "arrowcolor": "#2a3f5f",
           "arrowhead": 0,
           "arrowwidth": 1
          },
          "autotypenumbers": "strict",
          "coloraxis": {
           "colorbar": {
            "outlinewidth": 0,
            "ticks": ""
           }
          },
          "colorscale": {
           "diverging": [
            [
             0,
             "#8e0152"
            ],
            [
             0.1,
             "#c51b7d"
            ],
            [
             0.2,
             "#de77ae"
            ],
            [
             0.3,
             "#f1b6da"
            ],
            [
             0.4,
             "#fde0ef"
            ],
            [
             0.5,
             "#f7f7f7"
            ],
            [
             0.6,
             "#e6f5d0"
            ],
            [
             0.7,
             "#b8e186"
            ],
            [
             0.8,
             "#7fbc41"
            ],
            [
             0.9,
             "#4d9221"
            ],
            [
             1,
             "#276419"
            ]
           ],
           "sequential": [
            [
             0,
             "#0d0887"
            ],
            [
             0.1111111111111111,
             "#46039f"
            ],
            [
             0.2222222222222222,
             "#7201a8"
            ],
            [
             0.3333333333333333,
             "#9c179e"
            ],
            [
             0.4444444444444444,
             "#bd3786"
            ],
            [
             0.5555555555555556,
             "#d8576b"
            ],
            [
             0.6666666666666666,
             "#ed7953"
            ],
            [
             0.7777777777777778,
             "#fb9f3a"
            ],
            [
             0.8888888888888888,
             "#fdca26"
            ],
            [
             1,
             "#f0f921"
            ]
           ],
           "sequentialminus": [
            [
             0,
             "#0d0887"
            ],
            [
             0.1111111111111111,
             "#46039f"
            ],
            [
             0.2222222222222222,
             "#7201a8"
            ],
            [
             0.3333333333333333,
             "#9c179e"
            ],
            [
             0.4444444444444444,
             "#bd3786"
            ],
            [
             0.5555555555555556,
             "#d8576b"
            ],
            [
             0.6666666666666666,
             "#ed7953"
            ],
            [
             0.7777777777777778,
             "#fb9f3a"
            ],
            [
             0.8888888888888888,
             "#fdca26"
            ],
            [
             1,
             "#f0f921"
            ]
           ]
          },
          "colorway": [
           "#636efa",
           "#EF553B",
           "#00cc96",
           "#ab63fa",
           "#FFA15A",
           "#19d3f3",
           "#FF6692",
           "#B6E880",
           "#FF97FF",
           "#FECB52"
          ],
          "font": {
           "color": "#2a3f5f"
          },
          "geo": {
           "bgcolor": "white",
           "lakecolor": "white",
           "landcolor": "#E5ECF6",
           "showlakes": true,
           "showland": true,
           "subunitcolor": "white"
          },
          "hoverlabel": {
           "align": "left"
          },
          "hovermode": "closest",
          "mapbox": {
           "style": "light"
          },
          "paper_bgcolor": "white",
          "plot_bgcolor": "#E5ECF6",
          "polar": {
           "angularaxis": {
            "gridcolor": "white",
            "linecolor": "white",
            "ticks": ""
           },
           "bgcolor": "#E5ECF6",
           "radialaxis": {
            "gridcolor": "white",
            "linecolor": "white",
            "ticks": ""
           }
          },
          "scene": {
           "xaxis": {
            "backgroundcolor": "#E5ECF6",
            "gridcolor": "white",
            "gridwidth": 2,
            "linecolor": "white",
            "showbackground": true,
            "ticks": "",
            "zerolinecolor": "white"
           },
           "yaxis": {
            "backgroundcolor": "#E5ECF6",
            "gridcolor": "white",
            "gridwidth": 2,
            "linecolor": "white",
            "showbackground": true,
            "ticks": "",
            "zerolinecolor": "white"
           },
           "zaxis": {
            "backgroundcolor": "#E5ECF6",
            "gridcolor": "white",
            "gridwidth": 2,
            "linecolor": "white",
            "showbackground": true,
            "ticks": "",
            "zerolinecolor": "white"
           }
          },
          "shapedefaults": {
           "line": {
            "color": "#2a3f5f"
           }
          },
          "ternary": {
           "aaxis": {
            "gridcolor": "white",
            "linecolor": "white",
            "ticks": ""
           },
           "baxis": {
            "gridcolor": "white",
            "linecolor": "white",
            "ticks": ""
           },
           "bgcolor": "#E5ECF6",
           "caxis": {
            "gridcolor": "white",
            "linecolor": "white",
            "ticks": ""
           }
          },
          "title": {
           "x": 0.05
          },
          "xaxis": {
           "automargin": true,
           "gridcolor": "white",
           "linecolor": "white",
           "ticks": "",
           "title": {
            "standoff": 15
           },
           "zerolinecolor": "white",
           "zerolinewidth": 2
          },
          "yaxis": {
           "automargin": true,
           "gridcolor": "white",
           "linecolor": "white",
           "ticks": "",
           "title": {
            "standoff": 15
           },
           "zerolinecolor": "white",
           "zerolinewidth": 2
          }
         }
        },
        "title": {
         "text": "Distribution of Target"
        }
       }
      }
     },
     "metadata": {},
     "output_type": "display_data"
    }
   ],
   "source": [
    "class_distribution = df['target'].value_counts().reset_index()\n",
    "class_distribution.columns = ['target', 'count']\n",
    "\n",
    "fig = px.treemap(class_distribution, \n",
    "                 path=['target'], \n",
    "                 values='count', \n",
    "                 title='Distribution of Target')\n",
    "fig.show()"
   ]
  },
  {
   "cell_type": "code",
   "execution_count": 106,
   "metadata": {},
   "outputs": [
    {
     "data": {
      "application/vnd.plotly.v1+json": {
       "config": {
        "plotlyServerURL": "https://plot.ly"
       },
       "data": [
        {
         "branchvalues": "total",
         "domain": {
          "x": [
           0,
           1
          ],
          "y": [
           0,
           1
          ]
         },
         "hovertemplate": "labels=%{label}<br>count=%{value}<br>parent=%{parent}<br>id=%{id}<extra></extra>",
         "ids": [
          "dos",
          "normal",
          "probe"
         ],
         "labels": [
          "dos",
          "normal",
          "probe"
         ],
         "name": "",
         "parents": [
          "",
          "",
          ""
         ],
         "type": "treemap",
         "values": [
          40629,
          58750,
          9237
         ]
        }
       ],
       "layout": {
        "legend": {
         "tracegroupgap": 0
        },
        "template": {
         "data": {
          "bar": [
           {
            "error_x": {
             "color": "#2a3f5f"
            },
            "error_y": {
             "color": "#2a3f5f"
            },
            "marker": {
             "line": {
              "color": "#E5ECF6",
              "width": 0.5
             },
             "pattern": {
              "fillmode": "overlay",
              "size": 10,
              "solidity": 0.2
             }
            },
            "type": "bar"
           }
          ],
          "barpolar": [
           {
            "marker": {
             "line": {
              "color": "#E5ECF6",
              "width": 0.5
             },
             "pattern": {
              "fillmode": "overlay",
              "size": 10,
              "solidity": 0.2
             }
            },
            "type": "barpolar"
           }
          ],
          "carpet": [
           {
            "aaxis": {
             "endlinecolor": "#2a3f5f",
             "gridcolor": "white",
             "linecolor": "white",
             "minorgridcolor": "white",
             "startlinecolor": "#2a3f5f"
            },
            "baxis": {
             "endlinecolor": "#2a3f5f",
             "gridcolor": "white",
             "linecolor": "white",
             "minorgridcolor": "white",
             "startlinecolor": "#2a3f5f"
            },
            "type": "carpet"
           }
          ],
          "choropleth": [
           {
            "colorbar": {
             "outlinewidth": 0,
             "ticks": ""
            },
            "type": "choropleth"
           }
          ],
          "contour": [
           {
            "colorbar": {
             "outlinewidth": 0,
             "ticks": ""
            },
            "colorscale": [
             [
              0,
              "#0d0887"
             ],
             [
              0.1111111111111111,
              "#46039f"
             ],
             [
              0.2222222222222222,
              "#7201a8"
             ],
             [
              0.3333333333333333,
              "#9c179e"
             ],
             [
              0.4444444444444444,
              "#bd3786"
             ],
             [
              0.5555555555555556,
              "#d8576b"
             ],
             [
              0.6666666666666666,
              "#ed7953"
             ],
             [
              0.7777777777777778,
              "#fb9f3a"
             ],
             [
              0.8888888888888888,
              "#fdca26"
             ],
             [
              1,
              "#f0f921"
             ]
            ],
            "type": "contour"
           }
          ],
          "contourcarpet": [
           {
            "colorbar": {
             "outlinewidth": 0,
             "ticks": ""
            },
            "type": "contourcarpet"
           }
          ],
          "heatmap": [
           {
            "colorbar": {
             "outlinewidth": 0,
             "ticks": ""
            },
            "colorscale": [
             [
              0,
              "#0d0887"
             ],
             [
              0.1111111111111111,
              "#46039f"
             ],
             [
              0.2222222222222222,
              "#7201a8"
             ],
             [
              0.3333333333333333,
              "#9c179e"
             ],
             [
              0.4444444444444444,
              "#bd3786"
             ],
             [
              0.5555555555555556,
              "#d8576b"
             ],
             [
              0.6666666666666666,
              "#ed7953"
             ],
             [
              0.7777777777777778,
              "#fb9f3a"
             ],
             [
              0.8888888888888888,
              "#fdca26"
             ],
             [
              1,
              "#f0f921"
             ]
            ],
            "type": "heatmap"
           }
          ],
          "heatmapgl": [
           {
            "colorbar": {
             "outlinewidth": 0,
             "ticks": ""
            },
            "colorscale": [
             [
              0,
              "#0d0887"
             ],
             [
              0.1111111111111111,
              "#46039f"
             ],
             [
              0.2222222222222222,
              "#7201a8"
             ],
             [
              0.3333333333333333,
              "#9c179e"
             ],
             [
              0.4444444444444444,
              "#bd3786"
             ],
             [
              0.5555555555555556,
              "#d8576b"
             ],
             [
              0.6666666666666666,
              "#ed7953"
             ],
             [
              0.7777777777777778,
              "#fb9f3a"
             ],
             [
              0.8888888888888888,
              "#fdca26"
             ],
             [
              1,
              "#f0f921"
             ]
            ],
            "type": "heatmapgl"
           }
          ],
          "histogram": [
           {
            "marker": {
             "pattern": {
              "fillmode": "overlay",
              "size": 10,
              "solidity": 0.2
             }
            },
            "type": "histogram"
           }
          ],
          "histogram2d": [
           {
            "colorbar": {
             "outlinewidth": 0,
             "ticks": ""
            },
            "colorscale": [
             [
              0,
              "#0d0887"
             ],
             [
              0.1111111111111111,
              "#46039f"
             ],
             [
              0.2222222222222222,
              "#7201a8"
             ],
             [
              0.3333333333333333,
              "#9c179e"
             ],
             [
              0.4444444444444444,
              "#bd3786"
             ],
             [
              0.5555555555555556,
              "#d8576b"
             ],
             [
              0.6666666666666666,
              "#ed7953"
             ],
             [
              0.7777777777777778,
              "#fb9f3a"
             ],
             [
              0.8888888888888888,
              "#fdca26"
             ],
             [
              1,
              "#f0f921"
             ]
            ],
            "type": "histogram2d"
           }
          ],
          "histogram2dcontour": [
           {
            "colorbar": {
             "outlinewidth": 0,
             "ticks": ""
            },
            "colorscale": [
             [
              0,
              "#0d0887"
             ],
             [
              0.1111111111111111,
              "#46039f"
             ],
             [
              0.2222222222222222,
              "#7201a8"
             ],
             [
              0.3333333333333333,
              "#9c179e"
             ],
             [
              0.4444444444444444,
              "#bd3786"
             ],
             [
              0.5555555555555556,
              "#d8576b"
             ],
             [
              0.6666666666666666,
              "#ed7953"
             ],
             [
              0.7777777777777778,
              "#fb9f3a"
             ],
             [
              0.8888888888888888,
              "#fdca26"
             ],
             [
              1,
              "#f0f921"
             ]
            ],
            "type": "histogram2dcontour"
           }
          ],
          "mesh3d": [
           {
            "colorbar": {
             "outlinewidth": 0,
             "ticks": ""
            },
            "type": "mesh3d"
           }
          ],
          "parcoords": [
           {
            "line": {
             "colorbar": {
              "outlinewidth": 0,
              "ticks": ""
             }
            },
            "type": "parcoords"
           }
          ],
          "pie": [
           {
            "automargin": true,
            "type": "pie"
           }
          ],
          "scatter": [
           {
            "fillpattern": {
             "fillmode": "overlay",
             "size": 10,
             "solidity": 0.2
            },
            "type": "scatter"
           }
          ],
          "scatter3d": [
           {
            "line": {
             "colorbar": {
              "outlinewidth": 0,
              "ticks": ""
             }
            },
            "marker": {
             "colorbar": {
              "outlinewidth": 0,
              "ticks": ""
             }
            },
            "type": "scatter3d"
           }
          ],
          "scattercarpet": [
           {
            "marker": {
             "colorbar": {
              "outlinewidth": 0,
              "ticks": ""
             }
            },
            "type": "scattercarpet"
           }
          ],
          "scattergeo": [
           {
            "marker": {
             "colorbar": {
              "outlinewidth": 0,
              "ticks": ""
             }
            },
            "type": "scattergeo"
           }
          ],
          "scattergl": [
           {
            "marker": {
             "colorbar": {
              "outlinewidth": 0,
              "ticks": ""
             }
            },
            "type": "scattergl"
           }
          ],
          "scattermapbox": [
           {
            "marker": {
             "colorbar": {
              "outlinewidth": 0,
              "ticks": ""
             }
            },
            "type": "scattermapbox"
           }
          ],
          "scatterpolar": [
           {
            "marker": {
             "colorbar": {
              "outlinewidth": 0,
              "ticks": ""
             }
            },
            "type": "scatterpolar"
           }
          ],
          "scatterpolargl": [
           {
            "marker": {
             "colorbar": {
              "outlinewidth": 0,
              "ticks": ""
             }
            },
            "type": "scatterpolargl"
           }
          ],
          "scatterternary": [
           {
            "marker": {
             "colorbar": {
              "outlinewidth": 0,
              "ticks": ""
             }
            },
            "type": "scatterternary"
           }
          ],
          "surface": [
           {
            "colorbar": {
             "outlinewidth": 0,
             "ticks": ""
            },
            "colorscale": [
             [
              0,
              "#0d0887"
             ],
             [
              0.1111111111111111,
              "#46039f"
             ],
             [
              0.2222222222222222,
              "#7201a8"
             ],
             [
              0.3333333333333333,
              "#9c179e"
             ],
             [
              0.4444444444444444,
              "#bd3786"
             ],
             [
              0.5555555555555556,
              "#d8576b"
             ],
             [
              0.6666666666666666,
              "#ed7953"
             ],
             [
              0.7777777777777778,
              "#fb9f3a"
             ],
             [
              0.8888888888888888,
              "#fdca26"
             ],
             [
              1,
              "#f0f921"
             ]
            ],
            "type": "surface"
           }
          ],
          "table": [
           {
            "cells": {
             "fill": {
              "color": "#EBF0F8"
             },
             "line": {
              "color": "white"
             }
            },
            "header": {
             "fill": {
              "color": "#C8D4E3"
             },
             "line": {
              "color": "white"
             }
            },
            "type": "table"
           }
          ]
         },
         "layout": {
          "annotationdefaults": {
           "arrowcolor": "#2a3f5f",
           "arrowhead": 0,
           "arrowwidth": 1
          },
          "autotypenumbers": "strict",
          "coloraxis": {
           "colorbar": {
            "outlinewidth": 0,
            "ticks": ""
           }
          },
          "colorscale": {
           "diverging": [
            [
             0,
             "#8e0152"
            ],
            [
             0.1,
             "#c51b7d"
            ],
            [
             0.2,
             "#de77ae"
            ],
            [
             0.3,
             "#f1b6da"
            ],
            [
             0.4,
             "#fde0ef"
            ],
            [
             0.5,
             "#f7f7f7"
            ],
            [
             0.6,
             "#e6f5d0"
            ],
            [
             0.7,
             "#b8e186"
            ],
            [
             0.8,
             "#7fbc41"
            ],
            [
             0.9,
             "#4d9221"
            ],
            [
             1,
             "#276419"
            ]
           ],
           "sequential": [
            [
             0,
             "#0d0887"
            ],
            [
             0.1111111111111111,
             "#46039f"
            ],
            [
             0.2222222222222222,
             "#7201a8"
            ],
            [
             0.3333333333333333,
             "#9c179e"
            ],
            [
             0.4444444444444444,
             "#bd3786"
            ],
            [
             0.5555555555555556,
             "#d8576b"
            ],
            [
             0.6666666666666666,
             "#ed7953"
            ],
            [
             0.7777777777777778,
             "#fb9f3a"
            ],
            [
             0.8888888888888888,
             "#fdca26"
            ],
            [
             1,
             "#f0f921"
            ]
           ],
           "sequentialminus": [
            [
             0,
             "#0d0887"
            ],
            [
             0.1111111111111111,
             "#46039f"
            ],
            [
             0.2222222222222222,
             "#7201a8"
            ],
            [
             0.3333333333333333,
             "#9c179e"
            ],
            [
             0.4444444444444444,
             "#bd3786"
            ],
            [
             0.5555555555555556,
             "#d8576b"
            ],
            [
             0.6666666666666666,
             "#ed7953"
            ],
            [
             0.7777777777777778,
             "#fb9f3a"
            ],
            [
             0.8888888888888888,
             "#fdca26"
            ],
            [
             1,
             "#f0f921"
            ]
           ]
          },
          "colorway": [
           "#636efa",
           "#EF553B",
           "#00cc96",
           "#ab63fa",
           "#FFA15A",
           "#19d3f3",
           "#FF6692",
           "#B6E880",
           "#FF97FF",
           "#FECB52"
          ],
          "font": {
           "color": "#2a3f5f"
          },
          "geo": {
           "bgcolor": "white",
           "lakecolor": "white",
           "landcolor": "#E5ECF6",
           "showlakes": true,
           "showland": true,
           "subunitcolor": "white"
          },
          "hoverlabel": {
           "align": "left"
          },
          "hovermode": "closest",
          "mapbox": {
           "style": "light"
          },
          "paper_bgcolor": "white",
          "plot_bgcolor": "#E5ECF6",
          "polar": {
           "angularaxis": {
            "gridcolor": "white",
            "linecolor": "white",
            "ticks": ""
           },
           "bgcolor": "#E5ECF6",
           "radialaxis": {
            "gridcolor": "white",
            "linecolor": "white",
            "ticks": ""
           }
          },
          "scene": {
           "xaxis": {
            "backgroundcolor": "#E5ECF6",
            "gridcolor": "white",
            "gridwidth": 2,
            "linecolor": "white",
            "showbackground": true,
            "ticks": "",
            "zerolinecolor": "white"
           },
           "yaxis": {
            "backgroundcolor": "#E5ECF6",
            "gridcolor": "white",
            "gridwidth": 2,
            "linecolor": "white",
            "showbackground": true,
            "ticks": "",
            "zerolinecolor": "white"
           },
           "zaxis": {
            "backgroundcolor": "#E5ECF6",
            "gridcolor": "white",
            "gridwidth": 2,
            "linecolor": "white",
            "showbackground": true,
            "ticks": "",
            "zerolinecolor": "white"
           }
          },
          "shapedefaults": {
           "line": {
            "color": "#2a3f5f"
           }
          },
          "ternary": {
           "aaxis": {
            "gridcolor": "white",
            "linecolor": "white",
            "ticks": ""
           },
           "baxis": {
            "gridcolor": "white",
            "linecolor": "white",
            "ticks": ""
           },
           "bgcolor": "#E5ECF6",
           "caxis": {
            "gridcolor": "white",
            "linecolor": "white",
            "ticks": ""
           }
          },
          "title": {
           "x": 0.05
          },
          "xaxis": {
           "automargin": true,
           "gridcolor": "white",
           "linecolor": "white",
           "ticks": "",
           "title": {
            "standoff": 15
           },
           "zerolinecolor": "white",
           "zerolinewidth": 2
          },
          "yaxis": {
           "automargin": true,
           "gridcolor": "white",
           "linecolor": "white",
           "ticks": "",
           "title": {
            "standoff": 15
           },
           "zerolinecolor": "white",
           "zerolinewidth": 2
          }
         }
        },
        "title": {
         "text": "Distribution of Attack"
        }
       }
      }
     },
     "metadata": {},
     "output_type": "display_data"
    }
   ],
   "source": [
    "class_distribution = df['attack'].value_counts().reset_index()\n",
    "class_distribution.columns = ['attack', 'count']\n",
    "\n",
    "fig = px.treemap(class_distribution, \n",
    "                 path=['attack'], \n",
    "                 values='count', \n",
    "                 title='Distribution of Attack')\n",
    "fig.show()"
   ]
  },
  {
   "cell_type": "code",
   "execution_count": 107,
   "metadata": {},
   "outputs": [
    {
     "data": {
      "application/vnd.plotly.v1+json": {
       "config": {
        "plotlyServerURL": "https://plot.ly"
       },
       "data": [
        {
         "branchvalues": "total",
         "domain": {
          "x": [
           0,
           1
          ],
          "y": [
           0,
           1
          ]
         },
         "hovertemplate": "labels=%{label}<br>count=%{value}<br>parent=%{parent}<br>id=%{id}<extra></extra>",
         "ids": [
          "Denial of Service Attack",
          "ipsweep",
          "neptune",
          "nmap",
          "normal",
          "portsweep",
          "satan",
          "smurf"
         ],
         "labels": [
          "Denial of Service Attack",
          "ipsweep",
          "neptune",
          "nmap",
          "normal",
          "portsweep",
          "satan",
          "smurf"
         ],
         "name": "",
         "parents": [
          "",
          "",
          "",
          "",
          "",
          "",
          "",
          ""
         ],
         "type": "treemap",
         "values": [
          1613,
          2894,
          36767,
          1212,
          58750,
          2510,
          2621,
          2249
         ]
        }
       ],
       "layout": {
        "legend": {
         "tracegroupgap": 0
        },
        "template": {
         "data": {
          "bar": [
           {
            "error_x": {
             "color": "#2a3f5f"
            },
            "error_y": {
             "color": "#2a3f5f"
            },
            "marker": {
             "line": {
              "color": "#E5ECF6",
              "width": 0.5
             },
             "pattern": {
              "fillmode": "overlay",
              "size": 10,
              "solidity": 0.2
             }
            },
            "type": "bar"
           }
          ],
          "barpolar": [
           {
            "marker": {
             "line": {
              "color": "#E5ECF6",
              "width": 0.5
             },
             "pattern": {
              "fillmode": "overlay",
              "size": 10,
              "solidity": 0.2
             }
            },
            "type": "barpolar"
           }
          ],
          "carpet": [
           {
            "aaxis": {
             "endlinecolor": "#2a3f5f",
             "gridcolor": "white",
             "linecolor": "white",
             "minorgridcolor": "white",
             "startlinecolor": "#2a3f5f"
            },
            "baxis": {
             "endlinecolor": "#2a3f5f",
             "gridcolor": "white",
             "linecolor": "white",
             "minorgridcolor": "white",
             "startlinecolor": "#2a3f5f"
            },
            "type": "carpet"
           }
          ],
          "choropleth": [
           {
            "colorbar": {
             "outlinewidth": 0,
             "ticks": ""
            },
            "type": "choropleth"
           }
          ],
          "contour": [
           {
            "colorbar": {
             "outlinewidth": 0,
             "ticks": ""
            },
            "colorscale": [
             [
              0,
              "#0d0887"
             ],
             [
              0.1111111111111111,
              "#46039f"
             ],
             [
              0.2222222222222222,
              "#7201a8"
             ],
             [
              0.3333333333333333,
              "#9c179e"
             ],
             [
              0.4444444444444444,
              "#bd3786"
             ],
             [
              0.5555555555555556,
              "#d8576b"
             ],
             [
              0.6666666666666666,
              "#ed7953"
             ],
             [
              0.7777777777777778,
              "#fb9f3a"
             ],
             [
              0.8888888888888888,
              "#fdca26"
             ],
             [
              1,
              "#f0f921"
             ]
            ],
            "type": "contour"
           }
          ],
          "contourcarpet": [
           {
            "colorbar": {
             "outlinewidth": 0,
             "ticks": ""
            },
            "type": "contourcarpet"
           }
          ],
          "heatmap": [
           {
            "colorbar": {
             "outlinewidth": 0,
             "ticks": ""
            },
            "colorscale": [
             [
              0,
              "#0d0887"
             ],
             [
              0.1111111111111111,
              "#46039f"
             ],
             [
              0.2222222222222222,
              "#7201a8"
             ],
             [
              0.3333333333333333,
              "#9c179e"
             ],
             [
              0.4444444444444444,
              "#bd3786"
             ],
             [
              0.5555555555555556,
              "#d8576b"
             ],
             [
              0.6666666666666666,
              "#ed7953"
             ],
             [
              0.7777777777777778,
              "#fb9f3a"
             ],
             [
              0.8888888888888888,
              "#fdca26"
             ],
             [
              1,
              "#f0f921"
             ]
            ],
            "type": "heatmap"
           }
          ],
          "heatmapgl": [
           {
            "colorbar": {
             "outlinewidth": 0,
             "ticks": ""
            },
            "colorscale": [
             [
              0,
              "#0d0887"
             ],
             [
              0.1111111111111111,
              "#46039f"
             ],
             [
              0.2222222222222222,
              "#7201a8"
             ],
             [
              0.3333333333333333,
              "#9c179e"
             ],
             [
              0.4444444444444444,
              "#bd3786"
             ],
             [
              0.5555555555555556,
              "#d8576b"
             ],
             [
              0.6666666666666666,
              "#ed7953"
             ],
             [
              0.7777777777777778,
              "#fb9f3a"
             ],
             [
              0.8888888888888888,
              "#fdca26"
             ],
             [
              1,
              "#f0f921"
             ]
            ],
            "type": "heatmapgl"
           }
          ],
          "histogram": [
           {
            "marker": {
             "pattern": {
              "fillmode": "overlay",
              "size": 10,
              "solidity": 0.2
             }
            },
            "type": "histogram"
           }
          ],
          "histogram2d": [
           {
            "colorbar": {
             "outlinewidth": 0,
             "ticks": ""
            },
            "colorscale": [
             [
              0,
              "#0d0887"
             ],
             [
              0.1111111111111111,
              "#46039f"
             ],
             [
              0.2222222222222222,
              "#7201a8"
             ],
             [
              0.3333333333333333,
              "#9c179e"
             ],
             [
              0.4444444444444444,
              "#bd3786"
             ],
             [
              0.5555555555555556,
              "#d8576b"
             ],
             [
              0.6666666666666666,
              "#ed7953"
             ],
             [
              0.7777777777777778,
              "#fb9f3a"
             ],
             [
              0.8888888888888888,
              "#fdca26"
             ],
             [
              1,
              "#f0f921"
             ]
            ],
            "type": "histogram2d"
           }
          ],
          "histogram2dcontour": [
           {
            "colorbar": {
             "outlinewidth": 0,
             "ticks": ""
            },
            "colorscale": [
             [
              0,
              "#0d0887"
             ],
             [
              0.1111111111111111,
              "#46039f"
             ],
             [
              0.2222222222222222,
              "#7201a8"
             ],
             [
              0.3333333333333333,
              "#9c179e"
             ],
             [
              0.4444444444444444,
              "#bd3786"
             ],
             [
              0.5555555555555556,
              "#d8576b"
             ],
             [
              0.6666666666666666,
              "#ed7953"
             ],
             [
              0.7777777777777778,
              "#fb9f3a"
             ],
             [
              0.8888888888888888,
              "#fdca26"
             ],
             [
              1,
              "#f0f921"
             ]
            ],
            "type": "histogram2dcontour"
           }
          ],
          "mesh3d": [
           {
            "colorbar": {
             "outlinewidth": 0,
             "ticks": ""
            },
            "type": "mesh3d"
           }
          ],
          "parcoords": [
           {
            "line": {
             "colorbar": {
              "outlinewidth": 0,
              "ticks": ""
             }
            },
            "type": "parcoords"
           }
          ],
          "pie": [
           {
            "automargin": true,
            "type": "pie"
           }
          ],
          "scatter": [
           {
            "fillpattern": {
             "fillmode": "overlay",
             "size": 10,
             "solidity": 0.2
            },
            "type": "scatter"
           }
          ],
          "scatter3d": [
           {
            "line": {
             "colorbar": {
              "outlinewidth": 0,
              "ticks": ""
             }
            },
            "marker": {
             "colorbar": {
              "outlinewidth": 0,
              "ticks": ""
             }
            },
            "type": "scatter3d"
           }
          ],
          "scattercarpet": [
           {
            "marker": {
             "colorbar": {
              "outlinewidth": 0,
              "ticks": ""
             }
            },
            "type": "scattercarpet"
           }
          ],
          "scattergeo": [
           {
            "marker": {
             "colorbar": {
              "outlinewidth": 0,
              "ticks": ""
             }
            },
            "type": "scattergeo"
           }
          ],
          "scattergl": [
           {
            "marker": {
             "colorbar": {
              "outlinewidth": 0,
              "ticks": ""
             }
            },
            "type": "scattergl"
           }
          ],
          "scattermapbox": [
           {
            "marker": {
             "colorbar": {
              "outlinewidth": 0,
              "ticks": ""
             }
            },
            "type": "scattermapbox"
           }
          ],
          "scatterpolar": [
           {
            "marker": {
             "colorbar": {
              "outlinewidth": 0,
              "ticks": ""
             }
            },
            "type": "scatterpolar"
           }
          ],
          "scatterpolargl": [
           {
            "marker": {
             "colorbar": {
              "outlinewidth": 0,
              "ticks": ""
             }
            },
            "type": "scatterpolargl"
           }
          ],
          "scatterternary": [
           {
            "marker": {
             "colorbar": {
              "outlinewidth": 0,
              "ticks": ""
             }
            },
            "type": "scatterternary"
           }
          ],
          "surface": [
           {
            "colorbar": {
             "outlinewidth": 0,
             "ticks": ""
            },
            "colorscale": [
             [
              0,
              "#0d0887"
             ],
             [
              0.1111111111111111,
              "#46039f"
             ],
             [
              0.2222222222222222,
              "#7201a8"
             ],
             [
              0.3333333333333333,
              "#9c179e"
             ],
             [
              0.4444444444444444,
              "#bd3786"
             ],
             [
              0.5555555555555556,
              "#d8576b"
             ],
             [
              0.6666666666666666,
              "#ed7953"
             ],
             [
              0.7777777777777778,
              "#fb9f3a"
             ],
             [
              0.8888888888888888,
              "#fdca26"
             ],
             [
              1,
              "#f0f921"
             ]
            ],
            "type": "surface"
           }
          ],
          "table": [
           {
            "cells": {
             "fill": {
              "color": "#EBF0F8"
             },
             "line": {
              "color": "white"
             }
            },
            "header": {
             "fill": {
              "color": "#C8D4E3"
             },
             "line": {
              "color": "white"
             }
            },
            "type": "table"
           }
          ]
         },
         "layout": {
          "annotationdefaults": {
           "arrowcolor": "#2a3f5f",
           "arrowhead": 0,
           "arrowwidth": 1
          },
          "autotypenumbers": "strict",
          "coloraxis": {
           "colorbar": {
            "outlinewidth": 0,
            "ticks": ""
           }
          },
          "colorscale": {
           "diverging": [
            [
             0,
             "#8e0152"
            ],
            [
             0.1,
             "#c51b7d"
            ],
            [
             0.2,
             "#de77ae"
            ],
            [
             0.3,
             "#f1b6da"
            ],
            [
             0.4,
             "#fde0ef"
            ],
            [
             0.5,
             "#f7f7f7"
            ],
            [
             0.6,
             "#e6f5d0"
            ],
            [
             0.7,
             "#b8e186"
            ],
            [
             0.8,
             "#7fbc41"
            ],
            [
             0.9,
             "#4d9221"
            ],
            [
             1,
             "#276419"
            ]
           ],
           "sequential": [
            [
             0,
             "#0d0887"
            ],
            [
             0.1111111111111111,
             "#46039f"
            ],
            [
             0.2222222222222222,
             "#7201a8"
            ],
            [
             0.3333333333333333,
             "#9c179e"
            ],
            [
             0.4444444444444444,
             "#bd3786"
            ],
            [
             0.5555555555555556,
             "#d8576b"
            ],
            [
             0.6666666666666666,
             "#ed7953"
            ],
            [
             0.7777777777777778,
             "#fb9f3a"
            ],
            [
             0.8888888888888888,
             "#fdca26"
            ],
            [
             1,
             "#f0f921"
            ]
           ],
           "sequentialminus": [
            [
             0,
             "#0d0887"
            ],
            [
             0.1111111111111111,
             "#46039f"
            ],
            [
             0.2222222222222222,
             "#7201a8"
            ],
            [
             0.3333333333333333,
             "#9c179e"
            ],
            [
             0.4444444444444444,
             "#bd3786"
            ],
            [
             0.5555555555555556,
             "#d8576b"
            ],
            [
             0.6666666666666666,
             "#ed7953"
            ],
            [
             0.7777777777777778,
             "#fb9f3a"
            ],
            [
             0.8888888888888888,
             "#fdca26"
            ],
            [
             1,
             "#f0f921"
            ]
           ]
          },
          "colorway": [
           "#636efa",
           "#EF553B",
           "#00cc96",
           "#ab63fa",
           "#FFA15A",
           "#19d3f3",
           "#FF6692",
           "#B6E880",
           "#FF97FF",
           "#FECB52"
          ],
          "font": {
           "color": "#2a3f5f"
          },
          "geo": {
           "bgcolor": "white",
           "lakecolor": "white",
           "landcolor": "#E5ECF6",
           "showlakes": true,
           "showland": true,
           "subunitcolor": "white"
          },
          "hoverlabel": {
           "align": "left"
          },
          "hovermode": "closest",
          "mapbox": {
           "style": "light"
          },
          "paper_bgcolor": "white",
          "plot_bgcolor": "#E5ECF6",
          "polar": {
           "angularaxis": {
            "gridcolor": "white",
            "linecolor": "white",
            "ticks": ""
           },
           "bgcolor": "#E5ECF6",
           "radialaxis": {
            "gridcolor": "white",
            "linecolor": "white",
            "ticks": ""
           }
          },
          "scene": {
           "xaxis": {
            "backgroundcolor": "#E5ECF6",
            "gridcolor": "white",
            "gridwidth": 2,
            "linecolor": "white",
            "showbackground": true,
            "ticks": "",
            "zerolinecolor": "white"
           },
           "yaxis": {
            "backgroundcolor": "#E5ECF6",
            "gridcolor": "white",
            "gridwidth": 2,
            "linecolor": "white",
            "showbackground": true,
            "ticks": "",
            "zerolinecolor": "white"
           },
           "zaxis": {
            "backgroundcolor": "#E5ECF6",
            "gridcolor": "white",
            "gridwidth": 2,
            "linecolor": "white",
            "showbackground": true,
            "ticks": "",
            "zerolinecolor": "white"
           }
          },
          "shapedefaults": {
           "line": {
            "color": "#2a3f5f"
           }
          },
          "ternary": {
           "aaxis": {
            "gridcolor": "white",
            "linecolor": "white",
            "ticks": ""
           },
           "baxis": {
            "gridcolor": "white",
            "linecolor": "white",
            "ticks": ""
           },
           "bgcolor": "#E5ECF6",
           "caxis": {
            "gridcolor": "white",
            "linecolor": "white",
            "ticks": ""
           }
          },
          "title": {
           "x": 0.05
          },
          "xaxis": {
           "automargin": true,
           "gridcolor": "white",
           "linecolor": "white",
           "ticks": "",
           "title": {
            "standoff": 15
           },
           "zerolinecolor": "white",
           "zerolinewidth": 2
          },
          "yaxis": {
           "automargin": true,
           "gridcolor": "white",
           "linecolor": "white",
           "ticks": "",
           "title": {
            "standoff": 15
           },
           "zerolinecolor": "white",
           "zerolinewidth": 2
          }
         }
        },
        "title": {
         "text": "Distribution of Type of Attacks"
        }
       }
      }
     },
     "metadata": {},
     "output_type": "display_data"
    }
   ],
   "source": [
    "class_distribution = df['type_of_attack'].value_counts().reset_index()\n",
    "class_distribution.columns = ['type_of_attack', 'count']\n",
    "\n",
    "fig = px.treemap(class_distribution, \n",
    "                 path=['type_of_attack'], \n",
    "                 values='count', \n",
    "                 title='Distribution of Type of Attacks')\n",
    "fig.show()"
   ]
  },
  {
   "cell_type": "markdown",
   "metadata": {},
   "source": [
    "## 3. Data Normalization"
   ]
  },
  {
   "cell_type": "code",
   "execution_count": 108,
   "metadata": {},
   "outputs": [],
   "source": [
    "from sklearn import preprocessing\n",
    "from sklearn.preprocessing import StandardScaler"
   ]
  },
  {
   "cell_type": "code",
   "execution_count": 109,
   "metadata": {},
   "outputs": [],
   "source": [
    "# selecting numeric attributes columns from df\n",
    "numeric_col = df.select_dtypes(include='number').columns"
   ]
  },
  {
   "cell_type": "code",
   "execution_count": 110,
   "metadata": {},
   "outputs": [],
   "source": [
    "# using standard scaler for normalizing\n",
    "std_scaler = StandardScaler()\n",
    "def normalization(df,col):\n",
    "  for i in col:\n",
    "    arr = df[i]\n",
    "    arr = np.array(arr)\n",
    "    df[i] = std_scaler.fit_transform(arr.reshape(len(arr),1))\n",
    "  return df"
   ]
  },
  {
   "cell_type": "code",
   "execution_count": 111,
   "metadata": {},
   "outputs": [
    {
     "data": {
      "text/html": [
       "<div>\n",
       "<style scoped>\n",
       "    .dataframe tbody tr th:only-of-type {\n",
       "        vertical-align: middle;\n",
       "    }\n",
       "\n",
       "    .dataframe tbody tr th {\n",
       "        vertical-align: top;\n",
       "    }\n",
       "\n",
       "    .dataframe thead th {\n",
       "        text-align: right;\n",
       "    }\n",
       "</style>\n",
       "<table border=\"1\" class=\"dataframe\">\n",
       "  <thead>\n",
       "    <tr style=\"text-align: right;\">\n",
       "      <th></th>\n",
       "      <th>duration</th>\n",
       "      <th>protocol_type</th>\n",
       "      <th>service</th>\n",
       "      <th>flag</th>\n",
       "      <th>src_bytes</th>\n",
       "      <th>dst_bytes</th>\n",
       "      <th>wrong_fragment</th>\n",
       "      <th>hot</th>\n",
       "      <th>logged_in</th>\n",
       "      <th>num_compromised</th>\n",
       "      <th>...</th>\n",
       "      <th>dst_host_diff_srv_rate</th>\n",
       "      <th>dst_host_same_src_port_rate</th>\n",
       "      <th>dst_host_srv_diff_host_rate</th>\n",
       "      <th>dst_host_serror_rate</th>\n",
       "      <th>dst_host_srv_serror_rate</th>\n",
       "      <th>dst_host_rerror_rate</th>\n",
       "      <th>dst_host_srv_rerror_rate</th>\n",
       "      <th>target</th>\n",
       "      <th>attack</th>\n",
       "      <th>type_of_attack</th>\n",
       "    </tr>\n",
       "  </thead>\n",
       "  <tbody>\n",
       "    <tr>\n",
       "      <th>0</th>\n",
       "      <td>0</td>\n",
       "      <td>tcp</td>\n",
       "      <td>private</td>\n",
       "      <td>SH</td>\n",
       "      <td>0</td>\n",
       "      <td>0</td>\n",
       "      <td>0</td>\n",
       "      <td>0</td>\n",
       "      <td>0</td>\n",
       "      <td>0</td>\n",
       "      <td>...</td>\n",
       "      <td>0.94</td>\n",
       "      <td>0.95</td>\n",
       "      <td>0.0</td>\n",
       "      <td>0.95</td>\n",
       "      <td>1.0</td>\n",
       "      <td>0.0</td>\n",
       "      <td>0.0</td>\n",
       "      <td>anomaly</td>\n",
       "      <td>probe</td>\n",
       "      <td>nmap</td>\n",
       "    </tr>\n",
       "    <tr>\n",
       "      <th>1</th>\n",
       "      <td>0</td>\n",
       "      <td>tcp</td>\n",
       "      <td>private</td>\n",
       "      <td>S0</td>\n",
       "      <td>0</td>\n",
       "      <td>0</td>\n",
       "      <td>0</td>\n",
       "      <td>0</td>\n",
       "      <td>0</td>\n",
       "      <td>0</td>\n",
       "      <td>...</td>\n",
       "      <td>0.08</td>\n",
       "      <td>0.00</td>\n",
       "      <td>0.0</td>\n",
       "      <td>1.00</td>\n",
       "      <td>1.0</td>\n",
       "      <td>0.0</td>\n",
       "      <td>0.0</td>\n",
       "      <td>anomaly</td>\n",
       "      <td>dos</td>\n",
       "      <td>neptune</td>\n",
       "    </tr>\n",
       "    <tr>\n",
       "      <th>2</th>\n",
       "      <td>0</td>\n",
       "      <td>tcp</td>\n",
       "      <td>http</td>\n",
       "      <td>SF</td>\n",
       "      <td>285</td>\n",
       "      <td>3623</td>\n",
       "      <td>0</td>\n",
       "      <td>0</td>\n",
       "      <td>1</td>\n",
       "      <td>0</td>\n",
       "      <td>...</td>\n",
       "      <td>0.00</td>\n",
       "      <td>0.01</td>\n",
       "      <td>0.0</td>\n",
       "      <td>0.00</td>\n",
       "      <td>0.0</td>\n",
       "      <td>0.0</td>\n",
       "      <td>0.0</td>\n",
       "      <td>normal</td>\n",
       "      <td>normal</td>\n",
       "      <td>normal</td>\n",
       "    </tr>\n",
       "    <tr>\n",
       "      <th>3</th>\n",
       "      <td>0</td>\n",
       "      <td>tcp</td>\n",
       "      <td>http</td>\n",
       "      <td>SF</td>\n",
       "      <td>232</td>\n",
       "      <td>584</td>\n",
       "      <td>0</td>\n",
       "      <td>0</td>\n",
       "      <td>1</td>\n",
       "      <td>0</td>\n",
       "      <td>...</td>\n",
       "      <td>0.00</td>\n",
       "      <td>0.17</td>\n",
       "      <td>0.0</td>\n",
       "      <td>0.00</td>\n",
       "      <td>0.0</td>\n",
       "      <td>0.0</td>\n",
       "      <td>0.0</td>\n",
       "      <td>normal</td>\n",
       "      <td>normal</td>\n",
       "      <td>normal</td>\n",
       "    </tr>\n",
       "    <tr>\n",
       "      <th>4</th>\n",
       "      <td>1</td>\n",
       "      <td>tcp</td>\n",
       "      <td>smtp</td>\n",
       "      <td>SF</td>\n",
       "      <td>1080</td>\n",
       "      <td>327</td>\n",
       "      <td>0</td>\n",
       "      <td>0</td>\n",
       "      <td>1</td>\n",
       "      <td>0</td>\n",
       "      <td>...</td>\n",
       "      <td>0.02</td>\n",
       "      <td>0.00</td>\n",
       "      <td>0.0</td>\n",
       "      <td>0.00</td>\n",
       "      <td>0.0</td>\n",
       "      <td>0.0</td>\n",
       "      <td>0.0</td>\n",
       "      <td>normal</td>\n",
       "      <td>normal</td>\n",
       "      <td>normal</td>\n",
       "    </tr>\n",
       "  </tbody>\n",
       "</table>\n",
       "<p>5 rows × 36 columns</p>\n",
       "</div>"
      ],
      "text/plain": [
       "   duration protocol_type  service flag  src_bytes  dst_bytes  wrong_fragment  \\\n",
       "0         0           tcp  private   SH          0          0               0   \n",
       "1         0           tcp  private   S0          0          0               0   \n",
       "2         0           tcp     http   SF        285       3623               0   \n",
       "3         0           tcp     http   SF        232        584               0   \n",
       "4         1           tcp     smtp   SF       1080        327               0   \n",
       "\n",
       "   hot  logged_in  num_compromised  ...  dst_host_diff_srv_rate  \\\n",
       "0    0          0                0  ...                    0.94   \n",
       "1    0          0                0  ...                    0.08   \n",
       "2    0          1                0  ...                    0.00   \n",
       "3    0          1                0  ...                    0.00   \n",
       "4    0          1                0  ...                    0.02   \n",
       "\n",
       "   dst_host_same_src_port_rate  dst_host_srv_diff_host_rate  \\\n",
       "0                         0.95                          0.0   \n",
       "1                         0.00                          0.0   \n",
       "2                         0.01                          0.0   \n",
       "3                         0.17                          0.0   \n",
       "4                         0.00                          0.0   \n",
       "\n",
       "   dst_host_serror_rate  dst_host_srv_serror_rate  dst_host_rerror_rate  \\\n",
       "0                  0.95                       1.0                   0.0   \n",
       "1                  1.00                       1.0                   0.0   \n",
       "2                  0.00                       0.0                   0.0   \n",
       "3                  0.00                       0.0                   0.0   \n",
       "4                  0.00                       0.0                   0.0   \n",
       "\n",
       "   dst_host_srv_rerror_rate   target  attack  type_of_attack  \n",
       "0                       0.0  anomaly   probe            nmap  \n",
       "1                       0.0  anomaly     dos         neptune  \n",
       "2                       0.0   normal  normal          normal  \n",
       "3                       0.0   normal  normal          normal  \n",
       "4                       0.0   normal  normal          normal  \n",
       "\n",
       "[5 rows x 36 columns]"
      ]
     },
     "execution_count": 111,
     "metadata": {},
     "output_type": "execute_result"
    }
   ],
   "source": [
    "# data before normalization\n",
    "df.head()"
   ]
  },
  {
   "cell_type": "code",
   "execution_count": 112,
   "metadata": {},
   "outputs": [],
   "source": [
    "# calling the normalization() function\n",
    "df = normalization(df, numeric_col)"
   ]
  },
  {
   "cell_type": "code",
   "execution_count": 113,
   "metadata": {},
   "outputs": [
    {
     "data": {
      "text/html": [
       "<div>\n",
       "<style scoped>\n",
       "    .dataframe tbody tr th:only-of-type {\n",
       "        vertical-align: middle;\n",
       "    }\n",
       "\n",
       "    .dataframe tbody tr th {\n",
       "        vertical-align: top;\n",
       "    }\n",
       "\n",
       "    .dataframe thead th {\n",
       "        text-align: right;\n",
       "    }\n",
       "</style>\n",
       "<table border=\"1\" class=\"dataframe\">\n",
       "  <thead>\n",
       "    <tr style=\"text-align: right;\">\n",
       "      <th></th>\n",
       "      <th>duration</th>\n",
       "      <th>protocol_type</th>\n",
       "      <th>service</th>\n",
       "      <th>flag</th>\n",
       "      <th>src_bytes</th>\n",
       "      <th>dst_bytes</th>\n",
       "      <th>wrong_fragment</th>\n",
       "      <th>hot</th>\n",
       "      <th>logged_in</th>\n",
       "      <th>num_compromised</th>\n",
       "      <th>...</th>\n",
       "      <th>dst_host_diff_srv_rate</th>\n",
       "      <th>dst_host_same_src_port_rate</th>\n",
       "      <th>dst_host_srv_diff_host_rate</th>\n",
       "      <th>dst_host_serror_rate</th>\n",
       "      <th>dst_host_srv_serror_rate</th>\n",
       "      <th>dst_host_rerror_rate</th>\n",
       "      <th>dst_host_srv_rerror_rate</th>\n",
       "      <th>target</th>\n",
       "      <th>attack</th>\n",
       "      <th>type_of_attack</th>\n",
       "    </tr>\n",
       "  </thead>\n",
       "  <tbody>\n",
       "    <tr>\n",
       "      <th>0</th>\n",
       "      <td>-0.109923</td>\n",
       "      <td>tcp</td>\n",
       "      <td>private</td>\n",
       "      <td>SH</td>\n",
       "      <td>-0.006743</td>\n",
       "      <td>-0.005030</td>\n",
       "      <td>-0.08804</td>\n",
       "      <td>-0.08037</td>\n",
       "      <td>-0.807375</td>\n",
       "      <td>-0.010951</td>\n",
       "      <td>...</td>\n",
       "      <td>4.916170</td>\n",
       "      <td>2.683669</td>\n",
       "      <td>-0.156926</td>\n",
       "      <td>1.459975</td>\n",
       "      <td>1.584315</td>\n",
       "      <td>-0.325076</td>\n",
       "      <td>-0.33803</td>\n",
       "      <td>anomaly</td>\n",
       "      <td>probe</td>\n",
       "      <td>nmap</td>\n",
       "    </tr>\n",
       "    <tr>\n",
       "      <th>1</th>\n",
       "      <td>-0.109923</td>\n",
       "      <td>tcp</td>\n",
       "      <td>private</td>\n",
       "      <td>S0</td>\n",
       "      <td>-0.006743</td>\n",
       "      <td>-0.005030</td>\n",
       "      <td>-0.08804</td>\n",
       "      <td>-0.08037</td>\n",
       "      <td>-0.807375</td>\n",
       "      <td>-0.010951</td>\n",
       "      <td>...</td>\n",
       "      <td>0.012374</td>\n",
       "      <td>-0.469117</td>\n",
       "      <td>-0.156926</td>\n",
       "      <td>1.571182</td>\n",
       "      <td>1.584315</td>\n",
       "      <td>-0.325076</td>\n",
       "      <td>-0.33803</td>\n",
       "      <td>anomaly</td>\n",
       "      <td>dos</td>\n",
       "      <td>neptune</td>\n",
       "    </tr>\n",
       "    <tr>\n",
       "      <th>2</th>\n",
       "      <td>-0.109923</td>\n",
       "      <td>tcp</td>\n",
       "      <td>http</td>\n",
       "      <td>SF</td>\n",
       "      <td>-0.006687</td>\n",
       "      <td>-0.004194</td>\n",
       "      <td>-0.08804</td>\n",
       "      <td>-0.08037</td>\n",
       "      <td>1.238582</td>\n",
       "      <td>-0.010951</td>\n",
       "      <td>...</td>\n",
       "      <td>-0.443793</td>\n",
       "      <td>-0.435930</td>\n",
       "      <td>-0.156926</td>\n",
       "      <td>-0.652955</td>\n",
       "      <td>-0.632104</td>\n",
       "      <td>-0.325076</td>\n",
       "      <td>-0.33803</td>\n",
       "      <td>normal</td>\n",
       "      <td>normal</td>\n",
       "      <td>normal</td>\n",
       "    </tr>\n",
       "    <tr>\n",
       "      <th>3</th>\n",
       "      <td>-0.109923</td>\n",
       "      <td>tcp</td>\n",
       "      <td>http</td>\n",
       "      <td>SF</td>\n",
       "      <td>-0.006697</td>\n",
       "      <td>-0.004896</td>\n",
       "      <td>-0.08804</td>\n",
       "      <td>-0.08037</td>\n",
       "      <td>1.238582</td>\n",
       "      <td>-0.010951</td>\n",
       "      <td>...</td>\n",
       "      <td>-0.443793</td>\n",
       "      <td>0.095066</td>\n",
       "      <td>-0.156926</td>\n",
       "      <td>-0.652955</td>\n",
       "      <td>-0.632104</td>\n",
       "      <td>-0.325076</td>\n",
       "      <td>-0.33803</td>\n",
       "      <td>normal</td>\n",
       "      <td>normal</td>\n",
       "      <td>normal</td>\n",
       "    </tr>\n",
       "    <tr>\n",
       "      <th>4</th>\n",
       "      <td>-0.109544</td>\n",
       "      <td>tcp</td>\n",
       "      <td>smtp</td>\n",
       "      <td>SF</td>\n",
       "      <td>-0.006531</td>\n",
       "      <td>-0.004955</td>\n",
       "      <td>-0.08804</td>\n",
       "      <td>-0.08037</td>\n",
       "      <td>1.238582</td>\n",
       "      <td>-0.010951</td>\n",
       "      <td>...</td>\n",
       "      <td>-0.329751</td>\n",
       "      <td>-0.469117</td>\n",
       "      <td>-0.156926</td>\n",
       "      <td>-0.652955</td>\n",
       "      <td>-0.632104</td>\n",
       "      <td>-0.325076</td>\n",
       "      <td>-0.33803</td>\n",
       "      <td>normal</td>\n",
       "      <td>normal</td>\n",
       "      <td>normal</td>\n",
       "    </tr>\n",
       "  </tbody>\n",
       "</table>\n",
       "<p>5 rows × 36 columns</p>\n",
       "</div>"
      ],
      "text/plain": [
       "   duration protocol_type  service flag  src_bytes  dst_bytes  wrong_fragment  \\\n",
       "0 -0.109923           tcp  private   SH  -0.006743  -0.005030        -0.08804   \n",
       "1 -0.109923           tcp  private   S0  -0.006743  -0.005030        -0.08804   \n",
       "2 -0.109923           tcp     http   SF  -0.006687  -0.004194        -0.08804   \n",
       "3 -0.109923           tcp     http   SF  -0.006697  -0.004896        -0.08804   \n",
       "4 -0.109544           tcp     smtp   SF  -0.006531  -0.004955        -0.08804   \n",
       "\n",
       "       hot  logged_in  num_compromised  ...  dst_host_diff_srv_rate  \\\n",
       "0 -0.08037  -0.807375        -0.010951  ...                4.916170   \n",
       "1 -0.08037  -0.807375        -0.010951  ...                0.012374   \n",
       "2 -0.08037   1.238582        -0.010951  ...               -0.443793   \n",
       "3 -0.08037   1.238582        -0.010951  ...               -0.443793   \n",
       "4 -0.08037   1.238582        -0.010951  ...               -0.329751   \n",
       "\n",
       "   dst_host_same_src_port_rate  dst_host_srv_diff_host_rate  \\\n",
       "0                     2.683669                    -0.156926   \n",
       "1                    -0.469117                    -0.156926   \n",
       "2                    -0.435930                    -0.156926   \n",
       "3                     0.095066                    -0.156926   \n",
       "4                    -0.469117                    -0.156926   \n",
       "\n",
       "   dst_host_serror_rate  dst_host_srv_serror_rate  dst_host_rerror_rate  \\\n",
       "0              1.459975                  1.584315             -0.325076   \n",
       "1              1.571182                  1.584315             -0.325076   \n",
       "2             -0.652955                 -0.632104             -0.325076   \n",
       "3             -0.652955                 -0.632104             -0.325076   \n",
       "4             -0.652955                 -0.632104             -0.325076   \n",
       "\n",
       "   dst_host_srv_rerror_rate   target  attack  type_of_attack  \n",
       "0                  -0.33803  anomaly   probe            nmap  \n",
       "1                  -0.33803  anomaly     dos         neptune  \n",
       "2                  -0.33803   normal  normal          normal  \n",
       "3                  -0.33803   normal  normal          normal  \n",
       "4                  -0.33803   normal  normal          normal  \n",
       "\n",
       "[5 rows x 36 columns]"
      ]
     },
     "execution_count": 113,
     "metadata": {},
     "output_type": "execute_result"
    }
   ],
   "source": [
    "# data after normalization\n",
    "df.head()"
   ]
  },
  {
   "cell_type": "markdown",
   "metadata": {},
   "source": [
    "## 4. Correlation"
   ]
  },
  {
   "cell_type": "code",
   "execution_count": 114,
   "metadata": {},
   "outputs": [],
   "source": [
    "# feature\n",
    "numeric_col = df.select_dtypes(include='number').columns\n",
    "X = df[numeric_col]\n",
    "# label\n",
    "y = df[['target','attack','type_of_attack']]"
   ]
  },
  {
   "cell_type": "code",
   "execution_count": 115,
   "metadata": {},
   "outputs": [],
   "source": [
    "# Calculate the Spearman correlation matrix\n",
    "corr = X.corr(method='spearman')\n",
    "\n",
    "# Change the main diagonal (correlation of columns with themselves) to NaN\n",
    "for i in range(corr.shape[0]):\n",
    "    corr.iloc[i, i] = np.nan\n",
    "\n",
    "# Find columns with correlations > 0.95 or < -0.95\n",
    "high_corr_cols = (corr.abs() > 0.95).any()\n",
    "\n",
    "# Get the column names with high correlations and their correlation values\n",
    "high_corr_columns = X.columns[high_corr_cols]\n",
    "\n",
    "# Create a dictionary to store the correlated columns and their correlation values\n",
    "correlation_data = {}\n",
    "\n",
    "# Calculate and store the correlated columns and their correlation values\n",
    "for col in high_corr_columns:\n",
    "    correlated_cols = corr.index[corr[col].abs() > 0.8].tolist()\n",
    "    if col in correlated_cols:\n",
    "        correlated_cols.remove(col)  # Remove itself from the list if present\n",
    "    correlated_data = {}\n",
    "    for correlated_col in correlated_cols:\n",
    "        correlation_value, _ = spearmanr(X[col], X[correlated_col])\n",
    "        correlated_data[correlated_col] = correlation_value\n",
    "    correlation_data[col] = correlated_data"
   ]
  },
  {
   "cell_type": "code",
   "execution_count": 116,
   "metadata": {},
   "outputs": [],
   "source": [
    "# Define the file path where you want to save the output\n",
    "output_file_path = 'high_correlation.txt'\n",
    "\n",
    "# Open the file for writing\n",
    "with open(output_file_path, 'w') as file:\n",
    "    # Iterate through the correlation data dictionary and write it to the file\n",
    "    for col, correlated_data in correlation_data.items():\n",
    "        file.write(f\"Kolom '{col}' berkorelasi dengan kolom-kolom berikut:\\n\")\n",
    "        for correlated_col, correlation_value in correlated_data.items():\n",
    "            file.write(f\"{correlated_col}: {correlation_value:.2f}\\n\")\n",
    "        file.write('\\n')"
   ]
  },
  {
   "cell_type": "code",
   "execution_count": 117,
   "metadata": {},
   "outputs": [
    {
     "name": "stderr",
     "output_type": "stream",
     "text": [
      "C:\\Users\\nabha\\AppData\\Local\\Temp\\ipykernel_7692\\4102350295.py:3: SettingWithCopyWarning:\n",
      "\n",
      "\n",
      "A value is trying to be set on a copy of a slice from a DataFrame\n",
      "\n",
      "See the caveats in the documentation: https://pandas.pydata.org/pandas-docs/stable/user_guide/indexing.html#returning-a-view-versus-a-copy\n",
      "\n"
     ]
    }
   ],
   "source": [
    "high_corr_columns = ['serror_rate','srv_serror_rate','dst_host_srv_serror_rate']\n",
    "# drop features with high correlation\n",
    "X.drop(high_corr_columns, axis=1, inplace=True)\n",
    "df.drop(high_corr_columns, axis=1, inplace=True)"
   ]
  },
  {
   "cell_type": "code",
   "execution_count": 118,
   "metadata": {},
   "outputs": [
    {
     "data": {
      "text/plain": [
       "((108616, 27), (108616, 3), (108616, 33))"
      ]
     },
     "execution_count": 118,
     "metadata": {},
     "output_type": "execute_result"
    }
   ],
   "source": [
    "X.shape, y.shape, df.shape"
   ]
  },
  {
   "cell_type": "code",
   "execution_count": 119,
   "metadata": {},
   "outputs": [
    {
     "data": {
      "image/png": "[encoded data removed]",
      "text/plain": [
       "<Figure size 700x600 with 2 Axes>"
      ]
     },
     "metadata": {},
     "output_type": "display_data"
    }
   ],
   "source": [
    "# Check heat map with blue colormap\n",
    "corr_mat = X.corr(method='spearman')\n",
    "f, ax = plt.subplots(figsize=(7, 6))\n",
    "sns.heatmap(corr_mat, vmax=.8, square=True, cmap='Blues', ax=ax)\n",
    "plt.show()"
   ]
  },
  {
   "cell_type": "markdown",
   "metadata": {},
   "source": [
    "# **Feature Engineering**"
   ]
  },
  {
   "cell_type": "markdown",
   "metadata": {},
   "source": [
    "## 1. For Binary Classification"
   ]
  },
  {
   "cell_type": "code",
   "execution_count": 120,
   "metadata": {},
   "outputs": [
    {
     "data": {
      "text/html": [
       "<div>\n",
       "<style scoped>\n",
       "    .dataframe tbody tr th:only-of-type {\n",
       "        vertical-align: middle;\n",
       "    }\n",
       "\n",
       "    .dataframe tbody tr th {\n",
       "        vertical-align: top;\n",
       "    }\n",
       "\n",
       "    .dataframe thead th {\n",
       "        text-align: right;\n",
       "    }\n",
       "</style>\n",
       "<table border=\"1\" class=\"dataframe\">\n",
       "  <thead>\n",
       "    <tr style=\"text-align: right;\">\n",
       "      <th></th>\n",
       "      <th>duration</th>\n",
       "      <th>protocol_type</th>\n",
       "      <th>service</th>\n",
       "      <th>flag</th>\n",
       "      <th>src_bytes</th>\n",
       "      <th>dst_bytes</th>\n",
       "      <th>wrong_fragment</th>\n",
       "      <th>hot</th>\n",
       "      <th>logged_in</th>\n",
       "      <th>num_compromised</th>\n",
       "      <th>...</th>\n",
       "      <th>dst_host_count</th>\n",
       "      <th>dst_host_srv_count</th>\n",
       "      <th>dst_host_same_srv_rate</th>\n",
       "      <th>dst_host_diff_srv_rate</th>\n",
       "      <th>dst_host_same_src_port_rate</th>\n",
       "      <th>dst_host_srv_diff_host_rate</th>\n",
       "      <th>dst_host_serror_rate</th>\n",
       "      <th>dst_host_rerror_rate</th>\n",
       "      <th>dst_host_srv_rerror_rate</th>\n",
       "      <th>target</th>\n",
       "    </tr>\n",
       "  </thead>\n",
       "  <tbody>\n",
       "    <tr>\n",
       "      <th>0</th>\n",
       "      <td>-0.109923</td>\n",
       "      <td>tcp</td>\n",
       "      <td>private</td>\n",
       "      <td>SH</td>\n",
       "      <td>-0.006743</td>\n",
       "      <td>-0.005030</td>\n",
       "      <td>-0.08804</td>\n",
       "      <td>-0.08037</td>\n",
       "      <td>-0.807375</td>\n",
       "      <td>-0.010951</td>\n",
       "      <td>...</td>\n",
       "      <td>-0.082423</td>\n",
       "      <td>-1.038634</td>\n",
       "      <td>-1.132106</td>\n",
       "      <td>4.916170</td>\n",
       "      <td>2.683669</td>\n",
       "      <td>-0.156926</td>\n",
       "      <td>1.459975</td>\n",
       "      <td>-0.325076</td>\n",
       "      <td>-0.33803</td>\n",
       "      <td>anomaly</td>\n",
       "    </tr>\n",
       "    <tr>\n",
       "      <th>1</th>\n",
       "      <td>-0.109923</td>\n",
       "      <td>tcp</td>\n",
       "      <td>private</td>\n",
       "      <td>S0</td>\n",
       "      <td>-0.006743</td>\n",
       "      <td>-0.005030</td>\n",
       "      <td>-0.08804</td>\n",
       "      <td>-0.08037</td>\n",
       "      <td>-0.807375</td>\n",
       "      <td>-0.010951</td>\n",
       "      <td>...</td>\n",
       "      <td>0.724452</td>\n",
       "      <td>-1.002495</td>\n",
       "      <td>-1.109803</td>\n",
       "      <td>0.012374</td>\n",
       "      <td>-0.469117</td>\n",
       "      <td>-0.156926</td>\n",
       "      <td>1.571182</td>\n",
       "      <td>-0.325076</td>\n",
       "      <td>-0.33803</td>\n",
       "      <td>anomaly</td>\n",
       "    </tr>\n",
       "    <tr>\n",
       "      <th>2</th>\n",
       "      <td>-0.109923</td>\n",
       "      <td>tcp</td>\n",
       "      <td>http</td>\n",
       "      <td>SF</td>\n",
       "      <td>-0.006687</td>\n",
       "      <td>-0.004194</td>\n",
       "      <td>-0.08804</td>\n",
       "      <td>-0.08037</td>\n",
       "      <td>1.238582</td>\n",
       "      <td>-0.010951</td>\n",
       "      <td>...</td>\n",
       "      <td>-0.705454</td>\n",
       "      <td>1.012281</td>\n",
       "      <td>1.075846</td>\n",
       "      <td>-0.443793</td>\n",
       "      <td>-0.435930</td>\n",
       "      <td>-0.156926</td>\n",
       "      <td>-0.652955</td>\n",
       "      <td>-0.325076</td>\n",
       "      <td>-0.33803</td>\n",
       "      <td>normal</td>\n",
       "    </tr>\n",
       "    <tr>\n",
       "      <th>3</th>\n",
       "      <td>-0.109923</td>\n",
       "      <td>tcp</td>\n",
       "      <td>http</td>\n",
       "      <td>SF</td>\n",
       "      <td>-0.006697</td>\n",
       "      <td>-0.004896</td>\n",
       "      <td>-0.08804</td>\n",
       "      <td>-0.08037</td>\n",
       "      <td>1.238582</td>\n",
       "      <td>-0.010951</td>\n",
       "      <td>...</td>\n",
       "      <td>-1.818739</td>\n",
       "      <td>1.256222</td>\n",
       "      <td>1.075846</td>\n",
       "      <td>-0.443793</td>\n",
       "      <td>0.095066</td>\n",
       "      <td>-0.156926</td>\n",
       "      <td>-0.652955</td>\n",
       "      <td>-0.325076</td>\n",
       "      <td>-0.33803</td>\n",
       "      <td>normal</td>\n",
       "    </tr>\n",
       "    <tr>\n",
       "      <th>4</th>\n",
       "      <td>-0.109544</td>\n",
       "      <td>tcp</td>\n",
       "      <td>smtp</td>\n",
       "      <td>SF</td>\n",
       "      <td>-0.006531</td>\n",
       "      <td>-0.004955</td>\n",
       "      <td>-0.08804</td>\n",
       "      <td>-0.08037</td>\n",
       "      <td>1.238582</td>\n",
       "      <td>-0.010951</td>\n",
       "      <td>...</td>\n",
       "      <td>0.183131</td>\n",
       "      <td>0.343701</td>\n",
       "      <td>0.139139</td>\n",
       "      <td>-0.329751</td>\n",
       "      <td>-0.469117</td>\n",
       "      <td>-0.156926</td>\n",
       "      <td>-0.652955</td>\n",
       "      <td>-0.325076</td>\n",
       "      <td>-0.33803</td>\n",
       "      <td>normal</td>\n",
       "    </tr>\n",
       "  </tbody>\n",
       "</table>\n",
       "<p>5 rows × 31 columns</p>\n",
       "</div>"
      ],
      "text/plain": [
       "   duration protocol_type  service flag  src_bytes  dst_bytes  wrong_fragment  \\\n",
       "0 -0.109923           tcp  private   SH  -0.006743  -0.005030        -0.08804   \n",
       "1 -0.109923           tcp  private   S0  -0.006743  -0.005030        -0.08804   \n",
       "2 -0.109923           tcp     http   SF  -0.006687  -0.004194        -0.08804   \n",
       "3 -0.109923           tcp     http   SF  -0.006697  -0.004896        -0.08804   \n",
       "4 -0.109544           tcp     smtp   SF  -0.006531  -0.004955        -0.08804   \n",
       "\n",
       "       hot  logged_in  num_compromised  ...  dst_host_count  \\\n",
       "0 -0.08037  -0.807375        -0.010951  ...       -0.082423   \n",
       "1 -0.08037  -0.807375        -0.010951  ...        0.724452   \n",
       "2 -0.08037   1.238582        -0.010951  ...       -0.705454   \n",
       "3 -0.08037   1.238582        -0.010951  ...       -1.818739   \n",
       "4 -0.08037   1.238582        -0.010951  ...        0.183131   \n",
       "\n",
       "   dst_host_srv_count  dst_host_same_srv_rate  dst_host_diff_srv_rate  \\\n",
       "0           -1.038634               -1.132106                4.916170   \n",
       "1           -1.002495               -1.109803                0.012374   \n",
       "2            1.012281                1.075846               -0.443793   \n",
       "3            1.256222                1.075846               -0.443793   \n",
       "4            0.343701                0.139139               -0.329751   \n",
       "\n",
       "   dst_host_same_src_port_rate  dst_host_srv_diff_host_rate  \\\n",
       "0                     2.683669                    -0.156926   \n",
       "1                    -0.469117                    -0.156926   \n",
       "2                    -0.435930                    -0.156926   \n",
       "3                     0.095066                    -0.156926   \n",
       "4                    -0.469117                    -0.156926   \n",
       "\n",
       "   dst_host_serror_rate  dst_host_rerror_rate  dst_host_srv_rerror_rate  \\\n",
       "0              1.459975             -0.325076                  -0.33803   \n",
       "1              1.571182             -0.325076                  -0.33803   \n",
       "2             -0.652955             -0.325076                  -0.33803   \n",
       "3             -0.652955             -0.325076                  -0.33803   \n",
       "4             -0.652955             -0.325076                  -0.33803   \n",
       "\n",
       "    target  \n",
       "0  anomaly  \n",
       "1  anomaly  \n",
       "2   normal  \n",
       "3   normal  \n",
       "4   normal  \n",
       "\n",
       "[5 rows x 31 columns]"
      ]
     },
     "execution_count": 120,
     "metadata": {},
     "output_type": "execute_result"
    }
   ],
   "source": [
    "bin_df = df.copy()\n",
    "bin_df = bin_df.drop(['attack','type_of_attack'],axis=1)\n",
    "bin_df.head()"
   ]
  },
  {
   "cell_type": "markdown",
   "metadata": {},
   "source": [
    "### 1.1. Encoding"
   ]
  },
  {
   "cell_type": "markdown",
   "metadata": {},
   "source": [
    "#### Categorical Features to One Hot Encoding"
   ]
  },
  {
   "cell_type": "code",
   "execution_count": 121,
   "metadata": {},
   "outputs": [
    {
     "name": "stdout",
     "output_type": "stream",
     "text": [
      "Training Data:\n",
      "Feature 'protocol_type' has 3 categories\n",
      "Feature 'service' has 70 categories\n",
      "Feature 'flag' has 11 categories\n"
     ]
    }
   ],
   "source": [
    "# explore categorical features\n",
    "print('Training Data:')\n",
    "for col_name in bin_df.columns:\n",
    "    if col_name not in ['target', 'attack', 'type_of_attack'] and bin_df[col_name].dtype == 'object':\n",
    "        unique_cat = len(bin_df[col_name].unique())\n",
    "        print(f\"Feature '{col_name}' has {unique_cat} categories\")"
   ]
  },
  {
   "cell_type": "code",
   "execution_count": 122,
   "metadata": {},
   "outputs": [
    {
     "data": {
      "text/html": [
       "<div>\n",
       "<style scoped>\n",
       "    .dataframe tbody tr th:only-of-type {\n",
       "        vertical-align: middle;\n",
       "    }\n",
       "\n",
       "    .dataframe tbody tr th {\n",
       "        vertical-align: top;\n",
       "    }\n",
       "\n",
       "    .dataframe thead th {\n",
       "        text-align: right;\n",
       "    }\n",
       "</style>\n",
       "<table border=\"1\" class=\"dataframe\">\n",
       "  <thead>\n",
       "    <tr style=\"text-align: right;\">\n",
       "      <th></th>\n",
       "      <th>protocol_type</th>\n",
       "      <th>service</th>\n",
       "      <th>flag</th>\n",
       "    </tr>\n",
       "  </thead>\n",
       "  <tbody>\n",
       "    <tr>\n",
       "      <th>0</th>\n",
       "      <td>tcp</td>\n",
       "      <td>private</td>\n",
       "      <td>SH</td>\n",
       "    </tr>\n",
       "    <tr>\n",
       "      <th>1</th>\n",
       "      <td>tcp</td>\n",
       "      <td>private</td>\n",
       "      <td>S0</td>\n",
       "    </tr>\n",
       "    <tr>\n",
       "      <th>2</th>\n",
       "      <td>tcp</td>\n",
       "      <td>http</td>\n",
       "      <td>SF</td>\n",
       "    </tr>\n",
       "    <tr>\n",
       "      <th>3</th>\n",
       "      <td>tcp</td>\n",
       "      <td>http</td>\n",
       "      <td>SF</td>\n",
       "    </tr>\n",
       "    <tr>\n",
       "      <th>4</th>\n",
       "      <td>tcp</td>\n",
       "      <td>smtp</td>\n",
       "      <td>SF</td>\n",
       "    </tr>\n",
       "  </tbody>\n",
       "</table>\n",
       "</div>"
      ],
      "text/plain": [
       "  protocol_type  service flag\n",
       "0           tcp  private   SH\n",
       "1           tcp  private   S0\n",
       "2           tcp     http   SF\n",
       "3           tcp     http   SF\n",
       "4           tcp     smtp   SF"
      ]
     },
     "execution_count": 122,
     "metadata": {},
     "output_type": "execute_result"
    }
   ],
   "source": [
    "# selecting categorical data attributes\n",
    "cat_col = ['protocol_type','service','flag']\n",
    "\n",
    "# creating a dataframe with only categorical attributes\n",
    "cat_df = bin_df[cat_col]\n",
    "cat_df.head()"
   ]
  },
  {
   "cell_type": "code",
   "execution_count": 123,
   "metadata": {},
   "outputs": [
    {
     "data": {
      "text/html": [
       "<div>\n",
       "<style scoped>\n",
       "    .dataframe tbody tr th:only-of-type {\n",
       "        vertical-align: middle;\n",
       "    }\n",
       "\n",
       "    .dataframe tbody tr th {\n",
       "        vertical-align: top;\n",
       "    }\n",
       "\n",
       "    .dataframe thead th {\n",
       "        text-align: right;\n",
       "    }\n",
       "</style>\n",
       "<table border=\"1\" class=\"dataframe\">\n",
       "  <thead>\n",
       "    <tr style=\"text-align: right;\">\n",
       "      <th></th>\n",
       "      <th>protocol_type_icmp</th>\n",
       "      <th>protocol_type_tcp</th>\n",
       "      <th>protocol_type_udp</th>\n",
       "      <th>service_IRC</th>\n",
       "      <th>service_X11</th>\n",
       "      <th>service_Z39_50</th>\n",
       "      <th>service_aol</th>\n",
       "      <th>service_auth</th>\n",
       "      <th>service_bgp</th>\n",
       "      <th>service_courier</th>\n",
       "      <th>...</th>\n",
       "      <th>flag_REJ</th>\n",
       "      <th>flag_RSTO</th>\n",
       "      <th>flag_RSTOS0</th>\n",
       "      <th>flag_RSTR</th>\n",
       "      <th>flag_S0</th>\n",
       "      <th>flag_S1</th>\n",
       "      <th>flag_S2</th>\n",
       "      <th>flag_S3</th>\n",
       "      <th>flag_SF</th>\n",
       "      <th>flag_SH</th>\n",
       "    </tr>\n",
       "  </thead>\n",
       "  <tbody>\n",
       "    <tr>\n",
       "      <th>0</th>\n",
       "      <td>0</td>\n",
       "      <td>1</td>\n",
       "      <td>0</td>\n",
       "      <td>0</td>\n",
       "      <td>0</td>\n",
       "      <td>0</td>\n",
       "      <td>0</td>\n",
       "      <td>0</td>\n",
       "      <td>0</td>\n",
       "      <td>0</td>\n",
       "      <td>...</td>\n",
       "      <td>0</td>\n",
       "      <td>0</td>\n",
       "      <td>0</td>\n",
       "      <td>0</td>\n",
       "      <td>0</td>\n",
       "      <td>0</td>\n",
       "      <td>0</td>\n",
       "      <td>0</td>\n",
       "      <td>0</td>\n",
       "      <td>1</td>\n",
       "    </tr>\n",
       "    <tr>\n",
       "      <th>1</th>\n",
       "      <td>0</td>\n",
       "      <td>1</td>\n",
       "      <td>0</td>\n",
       "      <td>0</td>\n",
       "      <td>0</td>\n",
       "      <td>0</td>\n",
       "      <td>0</td>\n",
       "      <td>0</td>\n",
       "      <td>0</td>\n",
       "      <td>0</td>\n",
       "      <td>...</td>\n",
       "      <td>0</td>\n",
       "      <td>0</td>\n",
       "      <td>0</td>\n",
       "      <td>0</td>\n",
       "      <td>1</td>\n",
       "      <td>0</td>\n",
       "      <td>0</td>\n",
       "      <td>0</td>\n",
       "      <td>0</td>\n",
       "      <td>0</td>\n",
       "    </tr>\n",
       "    <tr>\n",
       "      <th>2</th>\n",
       "      <td>0</td>\n",
       "      <td>1</td>\n",
       "      <td>0</td>\n",
       "      <td>0</td>\n",
       "      <td>0</td>\n",
       "      <td>0</td>\n",
       "      <td>0</td>\n",
       "      <td>0</td>\n",
       "      <td>0</td>\n",
       "      <td>0</td>\n",
       "      <td>...</td>\n",
       "      <td>0</td>\n",
       "      <td>0</td>\n",
       "      <td>0</td>\n",
       "      <td>0</td>\n",
       "      <td>0</td>\n",
       "      <td>0</td>\n",
       "      <td>0</td>\n",
       "      <td>0</td>\n",
       "      <td>1</td>\n",
       "      <td>0</td>\n",
       "    </tr>\n",
       "    <tr>\n",
       "      <th>3</th>\n",
       "      <td>0</td>\n",
       "      <td>1</td>\n",
       "      <td>0</td>\n",
       "      <td>0</td>\n",
       "      <td>0</td>\n",
       "      <td>0</td>\n",
       "      <td>0</td>\n",
       "      <td>0</td>\n",
       "      <td>0</td>\n",
       "      <td>0</td>\n",
       "      <td>...</td>\n",
       "      <td>0</td>\n",
       "      <td>0</td>\n",
       "      <td>0</td>\n",
       "      <td>0</td>\n",
       "      <td>0</td>\n",
       "      <td>0</td>\n",
       "      <td>0</td>\n",
       "      <td>0</td>\n",
       "      <td>1</td>\n",
       "      <td>0</td>\n",
       "    </tr>\n",
       "    <tr>\n",
       "      <th>4</th>\n",
       "      <td>0</td>\n",
       "      <td>1</td>\n",
       "      <td>0</td>\n",
       "      <td>0</td>\n",
       "      <td>0</td>\n",
       "      <td>0</td>\n",
       "      <td>0</td>\n",
       "      <td>0</td>\n",
       "      <td>0</td>\n",
       "      <td>0</td>\n",
       "      <td>...</td>\n",
       "      <td>0</td>\n",
       "      <td>0</td>\n",
       "      <td>0</td>\n",
       "      <td>0</td>\n",
       "      <td>0</td>\n",
       "      <td>0</td>\n",
       "      <td>0</td>\n",
       "      <td>0</td>\n",
       "      <td>1</td>\n",
       "      <td>0</td>\n",
       "    </tr>\n",
       "  </tbody>\n",
       "</table>\n",
       "<p>5 rows × 84 columns</p>\n",
       "</div>"
      ],
      "text/plain": [
       "   protocol_type_icmp  protocol_type_tcp  protocol_type_udp  service_IRC  \\\n",
       "0                   0                  1                  0            0   \n",
       "1                   0                  1                  0            0   \n",
       "2                   0                  1                  0            0   \n",
       "3                   0                  1                  0            0   \n",
       "4                   0                  1                  0            0   \n",
       "\n",
       "   service_X11  service_Z39_50  service_aol  service_auth  service_bgp  \\\n",
       "0            0               0            0             0            0   \n",
       "1            0               0            0             0            0   \n",
       "2            0               0            0             0            0   \n",
       "3            0               0            0             0            0   \n",
       "4            0               0            0             0            0   \n",
       "\n",
       "   service_courier  ...  flag_REJ  flag_RSTO  flag_RSTOS0  flag_RSTR  flag_S0  \\\n",
       "0                0  ...         0          0            0          0        0   \n",
       "1                0  ...         0          0            0          0        1   \n",
       "2                0  ...         0          0            0          0        0   \n",
       "3                0  ...         0          0            0          0        0   \n",
       "4                0  ...         0          0            0          0        0   \n",
       "\n",
       "   flag_S1  flag_S2  flag_S3  flag_SF  flag_SH  \n",
       "0        0        0        0        0        1  \n",
       "1        0        0        0        0        0  \n",
       "2        0        0        0        1        0  \n",
       "3        0        0        0        1        0  \n",
       "4        0        0        0        1        0  \n",
       "\n",
       "[5 rows x 84 columns]"
      ]
     },
     "execution_count": 123,
     "metadata": {},
     "output_type": "execute_result"
    }
   ],
   "source": [
    "# one-hot-encoding categorical attributes using pandas.get_dummies() function\n",
    "cat_df = pd.get_dummies(cat_df, columns=cat_col, dtype=int)\n",
    "cat_df.head()"
   ]
  },
  {
   "cell_type": "markdown",
   "metadata": {},
   "source": [
    "Join encoded categorical dataframe with the non-categorical dataframe."
   ]
  },
  {
   "cell_type": "code",
   "execution_count": 124,
   "metadata": {},
   "outputs": [
    {
     "data": {
      "text/plain": [
       "(108616, 112)"
      ]
     },
     "execution_count": 124,
     "metadata": {},
     "output_type": "execute_result"
    }
   ],
   "source": [
    "# Simpan kolom 'target' dalam variabel terpisah\n",
    "target_col = bin_df['target']\n",
    "\n",
    "# Hapus kolom 'target' dan categorical column sebelum di-encoding dari DataFrame\n",
    "bin_df.drop('target', axis=1, inplace=True)\n",
    "bin_df.drop('flag', axis=1, inplace=True)\n",
    "bin_df.drop('protocol_type', axis=1, inplace=True)\n",
    "bin_df.drop('service', axis=1, inplace=True)\n",
    "\n",
    "# Gabungkan DataFrame cat_df ke dalam bin_df\n",
    "bin_df = bin_df.join(cat_df)\n",
    "\n",
    "# Sisipkan kolom 'target' kembali ke paling kanan DataFrame\n",
    "bin_df['target'] = target_col\n",
    "\n",
    "bin_df.shape"
   ]
  },
  {
   "cell_type": "code",
   "execution_count": 125,
   "metadata": {},
   "outputs": [
    {
     "data": {
      "text/html": [
       "<div>\n",
       "<style scoped>\n",
       "    .dataframe tbody tr th:only-of-type {\n",
       "        vertical-align: middle;\n",
       "    }\n",
       "\n",
       "    .dataframe tbody tr th {\n",
       "        vertical-align: top;\n",
       "    }\n",
       "\n",
       "    .dataframe thead th {\n",
       "        text-align: right;\n",
       "    }\n",
       "</style>\n",
       "<table border=\"1\" class=\"dataframe\">\n",
       "  <thead>\n",
       "    <tr style=\"text-align: right;\">\n",
       "      <th></th>\n",
       "      <th>duration</th>\n",
       "      <th>src_bytes</th>\n",
       "      <th>dst_bytes</th>\n",
       "      <th>wrong_fragment</th>\n",
       "      <th>hot</th>\n",
       "      <th>logged_in</th>\n",
       "      <th>num_compromised</th>\n",
       "      <th>num_root</th>\n",
       "      <th>num_file_creations</th>\n",
       "      <th>num_access_files</th>\n",
       "      <th>...</th>\n",
       "      <th>flag_RSTO</th>\n",
       "      <th>flag_RSTOS0</th>\n",
       "      <th>flag_RSTR</th>\n",
       "      <th>flag_S0</th>\n",
       "      <th>flag_S1</th>\n",
       "      <th>flag_S2</th>\n",
       "      <th>flag_S3</th>\n",
       "      <th>flag_SF</th>\n",
       "      <th>flag_SH</th>\n",
       "      <th>target</th>\n",
       "    </tr>\n",
       "  </thead>\n",
       "  <tbody>\n",
       "    <tr>\n",
       "      <th>0</th>\n",
       "      <td>-0.109923</td>\n",
       "      <td>-0.006743</td>\n",
       "      <td>-0.005030</td>\n",
       "      <td>-0.08804</td>\n",
       "      <td>-0.08037</td>\n",
       "      <td>-0.807375</td>\n",
       "      <td>-0.010951</td>\n",
       "      <td>-0.011706</td>\n",
       "      <td>-0.02543</td>\n",
       "      <td>-0.040703</td>\n",
       "      <td>...</td>\n",
       "      <td>0</td>\n",
       "      <td>0</td>\n",
       "      <td>0</td>\n",
       "      <td>0</td>\n",
       "      <td>0</td>\n",
       "      <td>0</td>\n",
       "      <td>0</td>\n",
       "      <td>0</td>\n",
       "      <td>1</td>\n",
       "      <td>anomaly</td>\n",
       "    </tr>\n",
       "    <tr>\n",
       "      <th>1</th>\n",
       "      <td>-0.109923</td>\n",
       "      <td>-0.006743</td>\n",
       "      <td>-0.005030</td>\n",
       "      <td>-0.08804</td>\n",
       "      <td>-0.08037</td>\n",
       "      <td>-0.807375</td>\n",
       "      <td>-0.010951</td>\n",
       "      <td>-0.011706</td>\n",
       "      <td>-0.02543</td>\n",
       "      <td>-0.040703</td>\n",
       "      <td>...</td>\n",
       "      <td>0</td>\n",
       "      <td>0</td>\n",
       "      <td>0</td>\n",
       "      <td>1</td>\n",
       "      <td>0</td>\n",
       "      <td>0</td>\n",
       "      <td>0</td>\n",
       "      <td>0</td>\n",
       "      <td>0</td>\n",
       "      <td>anomaly</td>\n",
       "    </tr>\n",
       "    <tr>\n",
       "      <th>2</th>\n",
       "      <td>-0.109923</td>\n",
       "      <td>-0.006687</td>\n",
       "      <td>-0.004194</td>\n",
       "      <td>-0.08804</td>\n",
       "      <td>-0.08037</td>\n",
       "      <td>1.238582</td>\n",
       "      <td>-0.010951</td>\n",
       "      <td>-0.011706</td>\n",
       "      <td>-0.02543</td>\n",
       "      <td>-0.040703</td>\n",
       "      <td>...</td>\n",
       "      <td>0</td>\n",
       "      <td>0</td>\n",
       "      <td>0</td>\n",
       "      <td>0</td>\n",
       "      <td>0</td>\n",
       "      <td>0</td>\n",
       "      <td>0</td>\n",
       "      <td>1</td>\n",
       "      <td>0</td>\n",
       "      <td>normal</td>\n",
       "    </tr>\n",
       "    <tr>\n",
       "      <th>3</th>\n",
       "      <td>-0.109923</td>\n",
       "      <td>-0.006697</td>\n",
       "      <td>-0.004896</td>\n",
       "      <td>-0.08804</td>\n",
       "      <td>-0.08037</td>\n",
       "      <td>1.238582</td>\n",
       "      <td>-0.010951</td>\n",
       "      <td>-0.011706</td>\n",
       "      <td>-0.02543</td>\n",
       "      <td>-0.040703</td>\n",
       "      <td>...</td>\n",
       "      <td>0</td>\n",
       "      <td>0</td>\n",
       "      <td>0</td>\n",
       "      <td>0</td>\n",
       "      <td>0</td>\n",
       "      <td>0</td>\n",
       "      <td>0</td>\n",
       "      <td>1</td>\n",
       "      <td>0</td>\n",
       "      <td>normal</td>\n",
       "    </tr>\n",
       "    <tr>\n",
       "      <th>4</th>\n",
       "      <td>-0.109544</td>\n",
       "      <td>-0.006531</td>\n",
       "      <td>-0.004955</td>\n",
       "      <td>-0.08804</td>\n",
       "      <td>-0.08037</td>\n",
       "      <td>1.238582</td>\n",
       "      <td>-0.010951</td>\n",
       "      <td>-0.011706</td>\n",
       "      <td>-0.02543</td>\n",
       "      <td>-0.040703</td>\n",
       "      <td>...</td>\n",
       "      <td>0</td>\n",
       "      <td>0</td>\n",
       "      <td>0</td>\n",
       "      <td>0</td>\n",
       "      <td>0</td>\n",
       "      <td>0</td>\n",
       "      <td>0</td>\n",
       "      <td>1</td>\n",
       "      <td>0</td>\n",
       "      <td>normal</td>\n",
       "    </tr>\n",
       "    <tr>\n",
       "      <th>...</th>\n",
       "      <td>...</td>\n",
       "      <td>...</td>\n",
       "      <td>...</td>\n",
       "      <td>...</td>\n",
       "      <td>...</td>\n",
       "      <td>...</td>\n",
       "      <td>...</td>\n",
       "      <td>...</td>\n",
       "      <td>...</td>\n",
       "      <td>...</td>\n",
       "      <td>...</td>\n",
       "      <td>...</td>\n",
       "      <td>...</td>\n",
       "      <td>...</td>\n",
       "      <td>...</td>\n",
       "      <td>...</td>\n",
       "      <td>...</td>\n",
       "      <td>...</td>\n",
       "      <td>...</td>\n",
       "      <td>...</td>\n",
       "      <td>...</td>\n",
       "    </tr>\n",
       "    <tr>\n",
       "      <th>112440</th>\n",
       "      <td>-0.108028</td>\n",
       "      <td>-0.006473</td>\n",
       "      <td>-0.004955</td>\n",
       "      <td>-0.08804</td>\n",
       "      <td>-0.08037</td>\n",
       "      <td>1.238582</td>\n",
       "      <td>-0.010951</td>\n",
       "      <td>-0.011706</td>\n",
       "      <td>-0.02543</td>\n",
       "      <td>-0.040703</td>\n",
       "      <td>...</td>\n",
       "      <td>0</td>\n",
       "      <td>0</td>\n",
       "      <td>0</td>\n",
       "      <td>0</td>\n",
       "      <td>0</td>\n",
       "      <td>0</td>\n",
       "      <td>0</td>\n",
       "      <td>1</td>\n",
       "      <td>0</td>\n",
       "      <td>normal</td>\n",
       "    </tr>\n",
       "    <tr>\n",
       "      <th>112442</th>\n",
       "      <td>-0.109923</td>\n",
       "      <td>-0.006682</td>\n",
       "      <td>-0.004855</td>\n",
       "      <td>-0.08804</td>\n",
       "      <td>-0.08037</td>\n",
       "      <td>1.238582</td>\n",
       "      <td>-0.010951</td>\n",
       "      <td>-0.011706</td>\n",
       "      <td>-0.02543</td>\n",
       "      <td>-0.040703</td>\n",
       "      <td>...</td>\n",
       "      <td>0</td>\n",
       "      <td>0</td>\n",
       "      <td>0</td>\n",
       "      <td>0</td>\n",
       "      <td>0</td>\n",
       "      <td>0</td>\n",
       "      <td>0</td>\n",
       "      <td>1</td>\n",
       "      <td>0</td>\n",
       "      <td>normal</td>\n",
       "    </tr>\n",
       "    <tr>\n",
       "      <th>112443</th>\n",
       "      <td>-0.109923</td>\n",
       "      <td>-0.006672</td>\n",
       "      <td>-0.004864</td>\n",
       "      <td>-0.08804</td>\n",
       "      <td>-0.08037</td>\n",
       "      <td>1.238582</td>\n",
       "      <td>-0.010951</td>\n",
       "      <td>-0.011706</td>\n",
       "      <td>-0.02543</td>\n",
       "      <td>-0.040703</td>\n",
       "      <td>...</td>\n",
       "      <td>0</td>\n",
       "      <td>0</td>\n",
       "      <td>0</td>\n",
       "      <td>0</td>\n",
       "      <td>0</td>\n",
       "      <td>0</td>\n",
       "      <td>0</td>\n",
       "      <td>1</td>\n",
       "      <td>0</td>\n",
       "      <td>normal</td>\n",
       "    </tr>\n",
       "    <tr>\n",
       "      <th>112444</th>\n",
       "      <td>-0.109923</td>\n",
       "      <td>-0.006743</td>\n",
       "      <td>-0.005030</td>\n",
       "      <td>-0.08804</td>\n",
       "      <td>-0.08037</td>\n",
       "      <td>-0.807375</td>\n",
       "      <td>-0.010951</td>\n",
       "      <td>-0.011706</td>\n",
       "      <td>-0.02543</td>\n",
       "      <td>-0.040703</td>\n",
       "      <td>...</td>\n",
       "      <td>1</td>\n",
       "      <td>0</td>\n",
       "      <td>0</td>\n",
       "      <td>0</td>\n",
       "      <td>0</td>\n",
       "      <td>0</td>\n",
       "      <td>0</td>\n",
       "      <td>0</td>\n",
       "      <td>0</td>\n",
       "      <td>anomaly</td>\n",
       "    </tr>\n",
       "    <tr>\n",
       "      <th>112445</th>\n",
       "      <td>-0.109923</td>\n",
       "      <td>-0.006697</td>\n",
       "      <td>-0.004444</td>\n",
       "      <td>-0.08804</td>\n",
       "      <td>-0.08037</td>\n",
       "      <td>1.238582</td>\n",
       "      <td>-0.010951</td>\n",
       "      <td>-0.011706</td>\n",
       "      <td>-0.02543</td>\n",
       "      <td>-0.040703</td>\n",
       "      <td>...</td>\n",
       "      <td>0</td>\n",
       "      <td>0</td>\n",
       "      <td>0</td>\n",
       "      <td>0</td>\n",
       "      <td>0</td>\n",
       "      <td>0</td>\n",
       "      <td>0</td>\n",
       "      <td>1</td>\n",
       "      <td>0</td>\n",
       "      <td>normal</td>\n",
       "    </tr>\n",
       "  </tbody>\n",
       "</table>\n",
       "<p>108616 rows × 112 columns</p>\n",
       "</div>"
      ],
      "text/plain": [
       "        duration  src_bytes  dst_bytes  wrong_fragment      hot  logged_in  \\\n",
       "0      -0.109923  -0.006743  -0.005030        -0.08804 -0.08037  -0.807375   \n",
       "1      -0.109923  -0.006743  -0.005030        -0.08804 -0.08037  -0.807375   \n",
       "2      -0.109923  -0.006687  -0.004194        -0.08804 -0.08037   1.238582   \n",
       "3      -0.109923  -0.006697  -0.004896        -0.08804 -0.08037   1.238582   \n",
       "4      -0.109544  -0.006531  -0.004955        -0.08804 -0.08037   1.238582   \n",
       "...          ...        ...        ...             ...      ...        ...   \n",
       "112440 -0.108028  -0.006473  -0.004955        -0.08804 -0.08037   1.238582   \n",
       "112442 -0.109923  -0.006682  -0.004855        -0.08804 -0.08037   1.238582   \n",
       "112443 -0.109923  -0.006672  -0.004864        -0.08804 -0.08037   1.238582   \n",
       "112444 -0.109923  -0.006743  -0.005030        -0.08804 -0.08037  -0.807375   \n",
       "112445 -0.109923  -0.006697  -0.004444        -0.08804 -0.08037   1.238582   \n",
       "\n",
       "        num_compromised  num_root  num_file_creations  num_access_files  ...  \\\n",
       "0             -0.010951 -0.011706            -0.02543         -0.040703  ...   \n",
       "1             -0.010951 -0.011706            -0.02543         -0.040703  ...   \n",
       "2             -0.010951 -0.011706            -0.02543         -0.040703  ...   \n",
       "3             -0.010951 -0.011706            -0.02543         -0.040703  ...   \n",
       "4             -0.010951 -0.011706            -0.02543         -0.040703  ...   \n",
       "...                 ...       ...                 ...               ...  ...   \n",
       "112440        -0.010951 -0.011706            -0.02543         -0.040703  ...   \n",
       "112442        -0.010951 -0.011706            -0.02543         -0.040703  ...   \n",
       "112443        -0.010951 -0.011706            -0.02543         -0.040703  ...   \n",
       "112444        -0.010951 -0.011706            -0.02543         -0.040703  ...   \n",
       "112445        -0.010951 -0.011706            -0.02543         -0.040703  ...   \n",
       "\n",
       "        flag_RSTO  flag_RSTOS0  flag_RSTR  flag_S0  flag_S1  flag_S2  flag_S3  \\\n",
       "0               0            0          0        0        0        0        0   \n",
       "1               0            0          0        1        0        0        0   \n",
       "2               0            0          0        0        0        0        0   \n",
       "3               0            0          0        0        0        0        0   \n",
       "4               0            0          0        0        0        0        0   \n",
       "...           ...          ...        ...      ...      ...      ...      ...   \n",
       "112440          0            0          0        0        0        0        0   \n",
       "112442          0            0          0        0        0        0        0   \n",
       "112443          0            0          0        0        0        0        0   \n",
       "112444          1            0          0        0        0        0        0   \n",
       "112445          0            0          0        0        0        0        0   \n",
       "\n",
       "        flag_SF  flag_SH   target  \n",
       "0             0        1  anomaly  \n",
       "1             0        0  anomaly  \n",
       "2             1        0   normal  \n",
       "3             1        0   normal  \n",
       "4             1        0   normal  \n",
       "...         ...      ...      ...  \n",
       "112440        1        0   normal  \n",
       "112442        1        0   normal  \n",
       "112443        1        0   normal  \n",
       "112444        0        0  anomaly  \n",
       "112445        1        0   normal  \n",
       "\n",
       "[108616 rows x 112 columns]"
      ]
     },
     "execution_count": 125,
     "metadata": {},
     "output_type": "execute_result"
    }
   ],
   "source": [
    "bin_df"
   ]
  },
  {
   "cell_type": "markdown",
   "metadata": {},
   "source": [
    "#### Label to Label Encoding"
   ]
  },
  {
   "cell_type": "code",
   "execution_count": 126,
   "metadata": {},
   "outputs": [],
   "source": [
    "# creating a dataframe with binary labels (normal, anomaly)\n",
    "bin_df['target_label'] = bin_df['target'].replace({'normal': 0, 'anomaly': 1})"
   ]
  },
  {
   "cell_type": "code",
   "execution_count": 127,
   "metadata": {},
   "outputs": [
    {
     "data": {
      "text/html": [
       "<div>\n",
       "<style scoped>\n",
       "    .dataframe tbody tr th:only-of-type {\n",
       "        vertical-align: middle;\n",
       "    }\n",
       "\n",
       "    .dataframe tbody tr th {\n",
       "        vertical-align: top;\n",
       "    }\n",
       "\n",
       "    .dataframe thead th {\n",
       "        text-align: right;\n",
       "    }\n",
       "</style>\n",
       "<table border=\"1\" class=\"dataframe\">\n",
       "  <thead>\n",
       "    <tr style=\"text-align: right;\">\n",
       "      <th></th>\n",
       "      <th>duration</th>\n",
       "      <th>src_bytes</th>\n",
       "      <th>dst_bytes</th>\n",
       "      <th>wrong_fragment</th>\n",
       "      <th>hot</th>\n",
       "      <th>logged_in</th>\n",
       "      <th>num_compromised</th>\n",
       "      <th>num_root</th>\n",
       "      <th>num_file_creations</th>\n",
       "      <th>num_access_files</th>\n",
       "      <th>...</th>\n",
       "      <th>flag_RSTOS0</th>\n",
       "      <th>flag_RSTR</th>\n",
       "      <th>flag_S0</th>\n",
       "      <th>flag_S1</th>\n",
       "      <th>flag_S2</th>\n",
       "      <th>flag_S3</th>\n",
       "      <th>flag_SF</th>\n",
       "      <th>flag_SH</th>\n",
       "      <th>target</th>\n",
       "      <th>target_label</th>\n",
       "    </tr>\n",
       "  </thead>\n",
       "  <tbody>\n",
       "    <tr>\n",
       "      <th>0</th>\n",
       "      <td>-0.109923</td>\n",
       "      <td>-0.006743</td>\n",
       "      <td>-0.005030</td>\n",
       "      <td>-0.08804</td>\n",
       "      <td>-0.08037</td>\n",
       "      <td>-0.807375</td>\n",
       "      <td>-0.010951</td>\n",
       "      <td>-0.011706</td>\n",
       "      <td>-0.02543</td>\n",
       "      <td>-0.040703</td>\n",
       "      <td>...</td>\n",
       "      <td>0</td>\n",
       "      <td>0</td>\n",
       "      <td>0</td>\n",
       "      <td>0</td>\n",
       "      <td>0</td>\n",
       "      <td>0</td>\n",
       "      <td>0</td>\n",
       "      <td>1</td>\n",
       "      <td>anomaly</td>\n",
       "      <td>1</td>\n",
       "    </tr>\n",
       "    <tr>\n",
       "      <th>1</th>\n",
       "      <td>-0.109923</td>\n",
       "      <td>-0.006743</td>\n",
       "      <td>-0.005030</td>\n",
       "      <td>-0.08804</td>\n",
       "      <td>-0.08037</td>\n",
       "      <td>-0.807375</td>\n",
       "      <td>-0.010951</td>\n",
       "      <td>-0.011706</td>\n",
       "      <td>-0.02543</td>\n",
       "      <td>-0.040703</td>\n",
       "      <td>...</td>\n",
       "      <td>0</td>\n",
       "      <td>0</td>\n",
       "      <td>1</td>\n",
       "      <td>0</td>\n",
       "      <td>0</td>\n",
       "      <td>0</td>\n",
       "      <td>0</td>\n",
       "      <td>0</td>\n",
       "      <td>anomaly</td>\n",
       "      <td>1</td>\n",
       "    </tr>\n",
       "    <tr>\n",
       "      <th>2</th>\n",
       "      <td>-0.109923</td>\n",
       "      <td>-0.006687</td>\n",
       "      <td>-0.004194</td>\n",
       "      <td>-0.08804</td>\n",
       "      <td>-0.08037</td>\n",
       "      <td>1.238582</td>\n",
       "      <td>-0.010951</td>\n",
       "      <td>-0.011706</td>\n",
       "      <td>-0.02543</td>\n",
       "      <td>-0.040703</td>\n",
       "      <td>...</td>\n",
       "      <td>0</td>\n",
       "      <td>0</td>\n",
       "      <td>0</td>\n",
       "      <td>0</td>\n",
       "      <td>0</td>\n",
       "      <td>0</td>\n",
       "      <td>1</td>\n",
       "      <td>0</td>\n",
       "      <td>normal</td>\n",
       "      <td>0</td>\n",
       "    </tr>\n",
       "    <tr>\n",
       "      <th>3</th>\n",
       "      <td>-0.109923</td>\n",
       "      <td>-0.006697</td>\n",
       "      <td>-0.004896</td>\n",
       "      <td>-0.08804</td>\n",
       "      <td>-0.08037</td>\n",
       "      <td>1.238582</td>\n",
       "      <td>-0.010951</td>\n",
       "      <td>-0.011706</td>\n",
       "      <td>-0.02543</td>\n",
       "      <td>-0.040703</td>\n",
       "      <td>...</td>\n",
       "      <td>0</td>\n",
       "      <td>0</td>\n",
       "      <td>0</td>\n",
       "      <td>0</td>\n",
       "      <td>0</td>\n",
       "      <td>0</td>\n",
       "      <td>1</td>\n",
       "      <td>0</td>\n",
       "      <td>normal</td>\n",
       "      <td>0</td>\n",
       "    </tr>\n",
       "    <tr>\n",
       "      <th>4</th>\n",
       "      <td>-0.109544</td>\n",
       "      <td>-0.006531</td>\n",
       "      <td>-0.004955</td>\n",
       "      <td>-0.08804</td>\n",
       "      <td>-0.08037</td>\n",
       "      <td>1.238582</td>\n",
       "      <td>-0.010951</td>\n",
       "      <td>-0.011706</td>\n",
       "      <td>-0.02543</td>\n",
       "      <td>-0.040703</td>\n",
       "      <td>...</td>\n",
       "      <td>0</td>\n",
       "      <td>0</td>\n",
       "      <td>0</td>\n",
       "      <td>0</td>\n",
       "      <td>0</td>\n",
       "      <td>0</td>\n",
       "      <td>1</td>\n",
       "      <td>0</td>\n",
       "      <td>normal</td>\n",
       "      <td>0</td>\n",
       "    </tr>\n",
       "    <tr>\n",
       "      <th>...</th>\n",
       "      <td>...</td>\n",
       "      <td>...</td>\n",
       "      <td>...</td>\n",
       "      <td>...</td>\n",
       "      <td>...</td>\n",
       "      <td>...</td>\n",
       "      <td>...</td>\n",
       "      <td>...</td>\n",
       "      <td>...</td>\n",
       "      <td>...</td>\n",
       "      <td>...</td>\n",
       "      <td>...</td>\n",
       "      <td>...</td>\n",
       "      <td>...</td>\n",
       "      <td>...</td>\n",
       "      <td>...</td>\n",
       "      <td>...</td>\n",
       "      <td>...</td>\n",
       "      <td>...</td>\n",
       "      <td>...</td>\n",
       "      <td>...</td>\n",
       "    </tr>\n",
       "    <tr>\n",
       "      <th>112440</th>\n",
       "      <td>-0.108028</td>\n",
       "      <td>-0.006473</td>\n",
       "      <td>-0.004955</td>\n",
       "      <td>-0.08804</td>\n",
       "      <td>-0.08037</td>\n",
       "      <td>1.238582</td>\n",
       "      <td>-0.010951</td>\n",
       "      <td>-0.011706</td>\n",
       "      <td>-0.02543</td>\n",
       "      <td>-0.040703</td>\n",
       "      <td>...</td>\n",
       "      <td>0</td>\n",
       "      <td>0</td>\n",
       "      <td>0</td>\n",
       "      <td>0</td>\n",
       "      <td>0</td>\n",
       "      <td>0</td>\n",
       "      <td>1</td>\n",
       "      <td>0</td>\n",
       "      <td>normal</td>\n",
       "      <td>0</td>\n",
       "    </tr>\n",
       "    <tr>\n",
       "      <th>112442</th>\n",
       "      <td>-0.109923</td>\n",
       "      <td>-0.006682</td>\n",
       "      <td>-0.004855</td>\n",
       "      <td>-0.08804</td>\n",
       "      <td>-0.08037</td>\n",
       "      <td>1.238582</td>\n",
       "      <td>-0.010951</td>\n",
       "      <td>-0.011706</td>\n",
       "      <td>-0.02543</td>\n",
       "      <td>-0.040703</td>\n",
       "      <td>...</td>\n",
       "      <td>0</td>\n",
       "      <td>0</td>\n",
       "      <td>0</td>\n",
       "      <td>0</td>\n",
       "      <td>0</td>\n",
       "      <td>0</td>\n",
       "      <td>1</td>\n",
       "      <td>0</td>\n",
       "      <td>normal</td>\n",
       "      <td>0</td>\n",
       "    </tr>\n",
       "    <tr>\n",
       "      <th>112443</th>\n",
       "      <td>-0.109923</td>\n",
       "      <td>-0.006672</td>\n",
       "      <td>-0.004864</td>\n",
       "      <td>-0.08804</td>\n",
       "      <td>-0.08037</td>\n",
       "      <td>1.238582</td>\n",
       "      <td>-0.010951</td>\n",
       "      <td>-0.011706</td>\n",
       "      <td>-0.02543</td>\n",
       "      <td>-0.040703</td>\n",
       "      <td>...</td>\n",
       "      <td>0</td>\n",
       "      <td>0</td>\n",
       "      <td>0</td>\n",
       "      <td>0</td>\n",
       "      <td>0</td>\n",
       "      <td>0</td>\n",
       "      <td>1</td>\n",
       "      <td>0</td>\n",
       "      <td>normal</td>\n",
       "      <td>0</td>\n",
       "    </tr>\n",
       "    <tr>\n",
       "      <th>112444</th>\n",
       "      <td>-0.109923</td>\n",
       "      <td>-0.006743</td>\n",
       "      <td>-0.005030</td>\n",
       "      <td>-0.08804</td>\n",
       "      <td>-0.08037</td>\n",
       "      <td>-0.807375</td>\n",
       "      <td>-0.010951</td>\n",
       "      <td>-0.011706</td>\n",
       "      <td>-0.02543</td>\n",
       "      <td>-0.040703</td>\n",
       "      <td>...</td>\n",
       "      <td>0</td>\n",
       "      <td>0</td>\n",
       "      <td>0</td>\n",
       "      <td>0</td>\n",
       "      <td>0</td>\n",
       "      <td>0</td>\n",
       "      <td>0</td>\n",
       "      <td>0</td>\n",
       "      <td>anomaly</td>\n",
       "      <td>1</td>\n",
       "    </tr>\n",
       "    <tr>\n",
       "      <th>112445</th>\n",
       "      <td>-0.109923</td>\n",
       "      <td>-0.006697</td>\n",
       "      <td>-0.004444</td>\n",
       "      <td>-0.08804</td>\n",
       "      <td>-0.08037</td>\n",
       "      <td>1.238582</td>\n",
       "      <td>-0.010951</td>\n",
       "      <td>-0.011706</td>\n",
       "      <td>-0.02543</td>\n",
       "      <td>-0.040703</td>\n",
       "      <td>...</td>\n",
       "      <td>0</td>\n",
       "      <td>0</td>\n",
       "      <td>0</td>\n",
       "      <td>0</td>\n",
       "      <td>0</td>\n",
       "      <td>0</td>\n",
       "      <td>1</td>\n",
       "      <td>0</td>\n",
       "      <td>normal</td>\n",
       "      <td>0</td>\n",
       "    </tr>\n",
       "  </tbody>\n",
       "</table>\n",
       "<p>108616 rows × 113 columns</p>\n",
       "</div>"
      ],
      "text/plain": [
       "        duration  src_bytes  dst_bytes  wrong_fragment      hot  logged_in  \\\n",
       "0      -0.109923  -0.006743  -0.005030        -0.08804 -0.08037  -0.807375   \n",
       "1      -0.109923  -0.006743  -0.005030        -0.08804 -0.08037  -0.807375   \n",
       "2      -0.109923  -0.006687  -0.004194        -0.08804 -0.08037   1.238582   \n",
       "3      -0.109923  -0.006697  -0.004896        -0.08804 -0.08037   1.238582   \n",
       "4      -0.109544  -0.006531  -0.004955        -0.08804 -0.08037   1.238582   \n",
       "...          ...        ...        ...             ...      ...        ...   \n",
       "112440 -0.108028  -0.006473  -0.004955        -0.08804 -0.08037   1.238582   \n",
       "112442 -0.109923  -0.006682  -0.004855        -0.08804 -0.08037   1.238582   \n",
       "112443 -0.109923  -0.006672  -0.004864        -0.08804 -0.08037   1.238582   \n",
       "112444 -0.109923  -0.006743  -0.005030        -0.08804 -0.08037  -0.807375   \n",
       "112445 -0.109923  -0.006697  -0.004444        -0.08804 -0.08037   1.238582   \n",
       "\n",
       "        num_compromised  num_root  num_file_creations  num_access_files  ...  \\\n",
       "0             -0.010951 -0.011706            -0.02543         -0.040703  ...   \n",
       "1             -0.010951 -0.011706            -0.02543         -0.040703  ...   \n",
       "2             -0.010951 -0.011706            -0.02543         -0.040703  ...   \n",
       "3             -0.010951 -0.011706            -0.02543         -0.040703  ...   \n",
       "4             -0.010951 -0.011706            -0.02543         -0.040703  ...   \n",
       "...                 ...       ...                 ...               ...  ...   \n",
       "112440        -0.010951 -0.011706            -0.02543         -0.040703  ...   \n",
       "112442        -0.010951 -0.011706            -0.02543         -0.040703  ...   \n",
       "112443        -0.010951 -0.011706            -0.02543         -0.040703  ...   \n",
       "112444        -0.010951 -0.011706            -0.02543         -0.040703  ...   \n",
       "112445        -0.010951 -0.011706            -0.02543         -0.040703  ...   \n",
       "\n",
       "        flag_RSTOS0  flag_RSTR  flag_S0  flag_S1  flag_S2  flag_S3  flag_SF  \\\n",
       "0                 0          0        0        0        0        0        0   \n",
       "1                 0          0        1        0        0        0        0   \n",
       "2                 0          0        0        0        0        0        1   \n",
       "3                 0          0        0        0        0        0        1   \n",
       "4                 0          0        0        0        0        0        1   \n",
       "...             ...        ...      ...      ...      ...      ...      ...   \n",
       "112440            0          0        0        0        0        0        1   \n",
       "112442            0          0        0        0        0        0        1   \n",
       "112443            0          0        0        0        0        0        1   \n",
       "112444            0          0        0        0        0        0        0   \n",
       "112445            0          0        0        0        0        0        1   \n",
       "\n",
       "        flag_SH   target  target_label  \n",
       "0             1  anomaly             1  \n",
       "1             0  anomaly             1  \n",
       "2             0   normal             0  \n",
       "3             0   normal             0  \n",
       "4             0   normal             0  \n",
       "...         ...      ...           ...  \n",
       "112440        0   normal             0  \n",
       "112442        0   normal             0  \n",
       "112443        0   normal             0  \n",
       "112444        0  anomaly             1  \n",
       "112445        0   normal             0  \n",
       "\n",
       "[108616 rows x 113 columns]"
      ]
     },
     "execution_count": 127,
     "metadata": {},
     "output_type": "execute_result"
    }
   ],
   "source": [
    "bin_df"
   ]
  },
  {
   "cell_type": "code",
   "execution_count": 128,
   "metadata": {},
   "outputs": [
    {
     "data": {
      "image/png": "[encoded data removed]",
      "text/plain": [
       "<Figure size 300x200 with 1 Axes>"
      ]
     },
     "metadata": {},
     "output_type": "display_data"
    }
   ],
   "source": [
    "# Menghitung jumlah 'normal' dan 'abnormal' dalam kolom 'label'\n",
    "label_counts = bin_df['target'].value_counts()\n",
    "\n",
    "# Membuat bar chart\n",
    "plt.figure(figsize=(3, 2))\n",
    "plt.bar(label_counts.index, label_counts.values)\n",
    "plt.xlabel('Label')\n",
    "plt.ylabel('Count')\n",
    "plt.title('Bar Chart Distribution of Normal and Anomaly Labels')\n",
    "plt.show()"
   ]
  },
  {
   "cell_type": "code",
   "execution_count": 129,
   "metadata": {},
   "outputs": [],
   "source": [
    "# # label encoder\n",
    "# def label_encoder(df):\n",
    "#     columns_to_encode = ['target', 'attack', 'type_of_attack']\n",
    "#     for col in columns_to_encode:\n",
    "#         if col in df.columns:\n",
    "#             label_encoder = LabelEncoder()\n",
    "#             df[f\"{col}_ohe\"] \n",
    "#             df[f\"{col}_ohe\"] = label_encoder.fit_transform(df[col])"
   ]
  },
  {
   "cell_type": "code",
   "execution_count": 130,
   "metadata": {},
   "outputs": [],
   "source": [
    "# # Membuat kolom 'target' dengan nilai awal 'anomaly'\n",
    "# df['target'] = 'anomaly'\n",
    "\n",
    "# # Mengganti nilai kolom 'target' berdasarkan nilai kolom 'type_of_attack'\n",
    "# df.loc[df['type_of_attack'] == 'normal', 'target'] = 'normal'\n",
    "\n",
    "# # Sisipkan kolom 'target' tepat sebelum kolom terakhir\n",
    "# df.insert(df.columns.get_loc('type_of_attack'), 'target', df.pop('target'))"
   ]
  },
  {
   "cell_type": "code",
   "execution_count": 131,
   "metadata": {},
   "outputs": [],
   "source": [
    "# label_encoder(bin_df1)"
   ]
  },
  {
   "cell_type": "markdown",
   "metadata": {},
   "source": [
    "### 1.2. Feature Scaling"
   ]
  },
  {
   "cell_type": "code",
   "execution_count": 132,
   "metadata": {},
   "outputs": [],
   "source": [
    "# feature\n",
    "X_bin = bin_df.drop(columns=['target','target_label'])\n",
    "# label\n",
    "y_bin = bin_df[['target','target_label']]"
   ]
  },
  {
   "cell_type": "code",
   "execution_count": 133,
   "metadata": {},
   "outputs": [
    {
     "data": {
      "text/plain": [
       "((108616, 111), (108616, 2))"
      ]
     },
     "execution_count": 133,
     "metadata": {},
     "output_type": "execute_result"
    }
   ],
   "source": [
    "X_bin.shape, y_bin.shape"
   ]
  },
  {
   "cell_type": "code",
   "execution_count": 134,
   "metadata": {},
   "outputs": [
    {
     "data": {
      "text/html": [
       "<div>\n",
       "<style scoped>\n",
       "    .dataframe tbody tr th:only-of-type {\n",
       "        vertical-align: middle;\n",
       "    }\n",
       "\n",
       "    .dataframe tbody tr th {\n",
       "        vertical-align: top;\n",
       "    }\n",
       "\n",
       "    .dataframe thead th {\n",
       "        text-align: right;\n",
       "    }\n",
       "</style>\n",
       "<table border=\"1\" class=\"dataframe\">\n",
       "  <thead>\n",
       "    <tr style=\"text-align: right;\">\n",
       "      <th></th>\n",
       "      <th>duration</th>\n",
       "      <th>src_bytes</th>\n",
       "      <th>dst_bytes</th>\n",
       "      <th>wrong_fragment</th>\n",
       "      <th>hot</th>\n",
       "      <th>logged_in</th>\n",
       "      <th>num_compromised</th>\n",
       "      <th>num_root</th>\n",
       "      <th>num_file_creations</th>\n",
       "      <th>num_access_files</th>\n",
       "      <th>...</th>\n",
       "      <th>flag_REJ</th>\n",
       "      <th>flag_RSTO</th>\n",
       "      <th>flag_RSTOS0</th>\n",
       "      <th>flag_RSTR</th>\n",
       "      <th>flag_S0</th>\n",
       "      <th>flag_S1</th>\n",
       "      <th>flag_S2</th>\n",
       "      <th>flag_S3</th>\n",
       "      <th>flag_SF</th>\n",
       "      <th>flag_SH</th>\n",
       "    </tr>\n",
       "  </thead>\n",
       "  <tbody>\n",
       "    <tr>\n",
       "      <th>0</th>\n",
       "      <td>-0.109923</td>\n",
       "      <td>-0.006743</td>\n",
       "      <td>-0.005030</td>\n",
       "      <td>-0.08804</td>\n",
       "      <td>-0.08037</td>\n",
       "      <td>-0.807375</td>\n",
       "      <td>-0.010951</td>\n",
       "      <td>-0.011706</td>\n",
       "      <td>-0.02543</td>\n",
       "      <td>-0.040703</td>\n",
       "      <td>...</td>\n",
       "      <td>-0.297215</td>\n",
       "      <td>-0.111806</td>\n",
       "      <td>-0.028475</td>\n",
       "      <td>-0.139694</td>\n",
       "      <td>-0.633367</td>\n",
       "      <td>-0.053413</td>\n",
       "      <td>-0.032271</td>\n",
       "      <td>-0.018952</td>\n",
       "      <td>-1.208739</td>\n",
       "      <td>22.506697</td>\n",
       "    </tr>\n",
       "    <tr>\n",
       "      <th>1</th>\n",
       "      <td>-0.109923</td>\n",
       "      <td>-0.006743</td>\n",
       "      <td>-0.005030</td>\n",
       "      <td>-0.08804</td>\n",
       "      <td>-0.08037</td>\n",
       "      <td>-0.807375</td>\n",
       "      <td>-0.010951</td>\n",
       "      <td>-0.011706</td>\n",
       "      <td>-0.02543</td>\n",
       "      <td>-0.040703</td>\n",
       "      <td>...</td>\n",
       "      <td>-0.297215</td>\n",
       "      <td>-0.111806</td>\n",
       "      <td>-0.028475</td>\n",
       "      <td>-0.139694</td>\n",
       "      <td>1.578864</td>\n",
       "      <td>-0.053413</td>\n",
       "      <td>-0.032271</td>\n",
       "      <td>-0.018952</td>\n",
       "      <td>-1.208739</td>\n",
       "      <td>-0.044431</td>\n",
       "    </tr>\n",
       "    <tr>\n",
       "      <th>2</th>\n",
       "      <td>-0.109923</td>\n",
       "      <td>-0.006687</td>\n",
       "      <td>-0.004194</td>\n",
       "      <td>-0.08804</td>\n",
       "      <td>-0.08037</td>\n",
       "      <td>1.238582</td>\n",
       "      <td>-0.010951</td>\n",
       "      <td>-0.011706</td>\n",
       "      <td>-0.02543</td>\n",
       "      <td>-0.040703</td>\n",
       "      <td>...</td>\n",
       "      <td>-0.297215</td>\n",
       "      <td>-0.111806</td>\n",
       "      <td>-0.028475</td>\n",
       "      <td>-0.139694</td>\n",
       "      <td>-0.633367</td>\n",
       "      <td>-0.053413</td>\n",
       "      <td>-0.032271</td>\n",
       "      <td>-0.018952</td>\n",
       "      <td>0.827308</td>\n",
       "      <td>-0.044431</td>\n",
       "    </tr>\n",
       "    <tr>\n",
       "      <th>3</th>\n",
       "      <td>-0.109923</td>\n",
       "      <td>-0.006697</td>\n",
       "      <td>-0.004896</td>\n",
       "      <td>-0.08804</td>\n",
       "      <td>-0.08037</td>\n",
       "      <td>1.238582</td>\n",
       "      <td>-0.010951</td>\n",
       "      <td>-0.011706</td>\n",
       "      <td>-0.02543</td>\n",
       "      <td>-0.040703</td>\n",
       "      <td>...</td>\n",
       "      <td>-0.297215</td>\n",
       "      <td>-0.111806</td>\n",
       "      <td>-0.028475</td>\n",
       "      <td>-0.139694</td>\n",
       "      <td>-0.633367</td>\n",
       "      <td>-0.053413</td>\n",
       "      <td>-0.032271</td>\n",
       "      <td>-0.018952</td>\n",
       "      <td>0.827308</td>\n",
       "      <td>-0.044431</td>\n",
       "    </tr>\n",
       "    <tr>\n",
       "      <th>4</th>\n",
       "      <td>-0.109544</td>\n",
       "      <td>-0.006531</td>\n",
       "      <td>-0.004955</td>\n",
       "      <td>-0.08804</td>\n",
       "      <td>-0.08037</td>\n",
       "      <td>1.238582</td>\n",
       "      <td>-0.010951</td>\n",
       "      <td>-0.011706</td>\n",
       "      <td>-0.02543</td>\n",
       "      <td>-0.040703</td>\n",
       "      <td>...</td>\n",
       "      <td>-0.297215</td>\n",
       "      <td>-0.111806</td>\n",
       "      <td>-0.028475</td>\n",
       "      <td>-0.139694</td>\n",
       "      <td>-0.633367</td>\n",
       "      <td>-0.053413</td>\n",
       "      <td>-0.032271</td>\n",
       "      <td>-0.018952</td>\n",
       "      <td>0.827308</td>\n",
       "      <td>-0.044431</td>\n",
       "    </tr>\n",
       "    <tr>\n",
       "      <th>...</th>\n",
       "      <td>...</td>\n",
       "      <td>...</td>\n",
       "      <td>...</td>\n",
       "      <td>...</td>\n",
       "      <td>...</td>\n",
       "      <td>...</td>\n",
       "      <td>...</td>\n",
       "      <td>...</td>\n",
       "      <td>...</td>\n",
       "      <td>...</td>\n",
       "      <td>...</td>\n",
       "      <td>...</td>\n",
       "      <td>...</td>\n",
       "      <td>...</td>\n",
       "      <td>...</td>\n",
       "      <td>...</td>\n",
       "      <td>...</td>\n",
       "      <td>...</td>\n",
       "      <td>...</td>\n",
       "      <td>...</td>\n",
       "      <td>...</td>\n",
       "    </tr>\n",
       "    <tr>\n",
       "      <th>108611</th>\n",
       "      <td>-0.108028</td>\n",
       "      <td>-0.006473</td>\n",
       "      <td>-0.004955</td>\n",
       "      <td>-0.08804</td>\n",
       "      <td>-0.08037</td>\n",
       "      <td>1.238582</td>\n",
       "      <td>-0.010951</td>\n",
       "      <td>-0.011706</td>\n",
       "      <td>-0.02543</td>\n",
       "      <td>-0.040703</td>\n",
       "      <td>...</td>\n",
       "      <td>-0.297215</td>\n",
       "      <td>-0.111806</td>\n",
       "      <td>-0.028475</td>\n",
       "      <td>-0.139694</td>\n",
       "      <td>-0.633367</td>\n",
       "      <td>-0.053413</td>\n",
       "      <td>-0.032271</td>\n",
       "      <td>-0.018952</td>\n",
       "      <td>0.827308</td>\n",
       "      <td>-0.044431</td>\n",
       "    </tr>\n",
       "    <tr>\n",
       "      <th>108612</th>\n",
       "      <td>-0.109923</td>\n",
       "      <td>-0.006682</td>\n",
       "      <td>-0.004855</td>\n",
       "      <td>-0.08804</td>\n",
       "      <td>-0.08037</td>\n",
       "      <td>1.238582</td>\n",
       "      <td>-0.010951</td>\n",
       "      <td>-0.011706</td>\n",
       "      <td>-0.02543</td>\n",
       "      <td>-0.040703</td>\n",
       "      <td>...</td>\n",
       "      <td>-0.297215</td>\n",
       "      <td>-0.111806</td>\n",
       "      <td>-0.028475</td>\n",
       "      <td>-0.139694</td>\n",
       "      <td>-0.633367</td>\n",
       "      <td>-0.053413</td>\n",
       "      <td>-0.032271</td>\n",
       "      <td>-0.018952</td>\n",
       "      <td>0.827308</td>\n",
       "      <td>-0.044431</td>\n",
       "    </tr>\n",
       "    <tr>\n",
       "      <th>108613</th>\n",
       "      <td>-0.109923</td>\n",
       "      <td>-0.006672</td>\n",
       "      <td>-0.004864</td>\n",
       "      <td>-0.08804</td>\n",
       "      <td>-0.08037</td>\n",
       "      <td>1.238582</td>\n",
       "      <td>-0.010951</td>\n",
       "      <td>-0.011706</td>\n",
       "      <td>-0.02543</td>\n",
       "      <td>-0.040703</td>\n",
       "      <td>...</td>\n",
       "      <td>-0.297215</td>\n",
       "      <td>-0.111806</td>\n",
       "      <td>-0.028475</td>\n",
       "      <td>-0.139694</td>\n",
       "      <td>-0.633367</td>\n",
       "      <td>-0.053413</td>\n",
       "      <td>-0.032271</td>\n",
       "      <td>-0.018952</td>\n",
       "      <td>0.827308</td>\n",
       "      <td>-0.044431</td>\n",
       "    </tr>\n",
       "    <tr>\n",
       "      <th>108614</th>\n",
       "      <td>-0.109923</td>\n",
       "      <td>-0.006743</td>\n",
       "      <td>-0.005030</td>\n",
       "      <td>-0.08804</td>\n",
       "      <td>-0.08037</td>\n",
       "      <td>-0.807375</td>\n",
       "      <td>-0.010951</td>\n",
       "      <td>-0.011706</td>\n",
       "      <td>-0.02543</td>\n",
       "      <td>-0.040703</td>\n",
       "      <td>...</td>\n",
       "      <td>-0.297215</td>\n",
       "      <td>8.944063</td>\n",
       "      <td>-0.028475</td>\n",
       "      <td>-0.139694</td>\n",
       "      <td>-0.633367</td>\n",
       "      <td>-0.053413</td>\n",
       "      <td>-0.032271</td>\n",
       "      <td>-0.018952</td>\n",
       "      <td>-1.208739</td>\n",
       "      <td>-0.044431</td>\n",
       "    </tr>\n",
       "    <tr>\n",
       "      <th>108615</th>\n",
       "      <td>-0.109923</td>\n",
       "      <td>-0.006697</td>\n",
       "      <td>-0.004444</td>\n",
       "      <td>-0.08804</td>\n",
       "      <td>-0.08037</td>\n",
       "      <td>1.238582</td>\n",
       "      <td>-0.010951</td>\n",
       "      <td>-0.011706</td>\n",
       "      <td>-0.02543</td>\n",
       "      <td>-0.040703</td>\n",
       "      <td>...</td>\n",
       "      <td>-0.297215</td>\n",
       "      <td>-0.111806</td>\n",
       "      <td>-0.028475</td>\n",
       "      <td>-0.139694</td>\n",
       "      <td>-0.633367</td>\n",
       "      <td>-0.053413</td>\n",
       "      <td>-0.032271</td>\n",
       "      <td>-0.018952</td>\n",
       "      <td>0.827308</td>\n",
       "      <td>-0.044431</td>\n",
       "    </tr>\n",
       "  </tbody>\n",
       "</table>\n",
       "<p>108616 rows × 111 columns</p>\n",
       "</div>"
      ],
      "text/plain": [
       "        duration  src_bytes  dst_bytes  wrong_fragment      hot  logged_in  \\\n",
       "0      -0.109923  -0.006743  -0.005030        -0.08804 -0.08037  -0.807375   \n",
       "1      -0.109923  -0.006743  -0.005030        -0.08804 -0.08037  -0.807375   \n",
       "2      -0.109923  -0.006687  -0.004194        -0.08804 -0.08037   1.238582   \n",
       "3      -0.109923  -0.006697  -0.004896        -0.08804 -0.08037   1.238582   \n",
       "4      -0.109544  -0.006531  -0.004955        -0.08804 -0.08037   1.238582   \n",
       "...          ...        ...        ...             ...      ...        ...   \n",
       "108611 -0.108028  -0.006473  -0.004955        -0.08804 -0.08037   1.238582   \n",
       "108612 -0.109923  -0.006682  -0.004855        -0.08804 -0.08037   1.238582   \n",
       "108613 -0.109923  -0.006672  -0.004864        -0.08804 -0.08037   1.238582   \n",
       "108614 -0.109923  -0.006743  -0.005030        -0.08804 -0.08037  -0.807375   \n",
       "108615 -0.109923  -0.006697  -0.004444        -0.08804 -0.08037   1.238582   \n",
       "\n",
       "        num_compromised  num_root  num_file_creations  num_access_files  ...  \\\n",
       "0             -0.010951 -0.011706            -0.02543         -0.040703  ...   \n",
       "1             -0.010951 -0.011706            -0.02543         -0.040703  ...   \n",
       "2             -0.010951 -0.011706            -0.02543         -0.040703  ...   \n",
       "3             -0.010951 -0.011706            -0.02543         -0.040703  ...   \n",
       "4             -0.010951 -0.011706            -0.02543         -0.040703  ...   \n",
       "...                 ...       ...                 ...               ...  ...   \n",
       "108611        -0.010951 -0.011706            -0.02543         -0.040703  ...   \n",
       "108612        -0.010951 -0.011706            -0.02543         -0.040703  ...   \n",
       "108613        -0.010951 -0.011706            -0.02543         -0.040703  ...   \n",
       "108614        -0.010951 -0.011706            -0.02543         -0.040703  ...   \n",
       "108615        -0.010951 -0.011706            -0.02543         -0.040703  ...   \n",
       "\n",
       "        flag_REJ  flag_RSTO  flag_RSTOS0  flag_RSTR   flag_S0   flag_S1  \\\n",
       "0      -0.297215  -0.111806    -0.028475  -0.139694 -0.633367 -0.053413   \n",
       "1      -0.297215  -0.111806    -0.028475  -0.139694  1.578864 -0.053413   \n",
       "2      -0.297215  -0.111806    -0.028475  -0.139694 -0.633367 -0.053413   \n",
       "3      -0.297215  -0.111806    -0.028475  -0.139694 -0.633367 -0.053413   \n",
       "4      -0.297215  -0.111806    -0.028475  -0.139694 -0.633367 -0.053413   \n",
       "...          ...        ...          ...        ...       ...       ...   \n",
       "108611 -0.297215  -0.111806    -0.028475  -0.139694 -0.633367 -0.053413   \n",
       "108612 -0.297215  -0.111806    -0.028475  -0.139694 -0.633367 -0.053413   \n",
       "108613 -0.297215  -0.111806    -0.028475  -0.139694 -0.633367 -0.053413   \n",
       "108614 -0.297215   8.944063    -0.028475  -0.139694 -0.633367 -0.053413   \n",
       "108615 -0.297215  -0.111806    -0.028475  -0.139694 -0.633367 -0.053413   \n",
       "\n",
       "         flag_S2   flag_S3   flag_SF    flag_SH  \n",
       "0      -0.032271 -0.018952 -1.208739  22.506697  \n",
       "1      -0.032271 -0.018952 -1.208739  -0.044431  \n",
       "2      -0.032271 -0.018952  0.827308  -0.044431  \n",
       "3      -0.032271 -0.018952  0.827308  -0.044431  \n",
       "4      -0.032271 -0.018952  0.827308  -0.044431  \n",
       "...          ...       ...       ...        ...  \n",
       "108611 -0.032271 -0.018952  0.827308  -0.044431  \n",
       "108612 -0.032271 -0.018952  0.827308  -0.044431  \n",
       "108613 -0.032271 -0.018952  0.827308  -0.044431  \n",
       "108614 -0.032271 -0.018952 -1.208739  -0.044431  \n",
       "108615 -0.032271 -0.018952  0.827308  -0.044431  \n",
       "\n",
       "[108616 rows x 111 columns]"
      ]
     },
     "execution_count": 134,
     "metadata": {},
     "output_type": "execute_result"
    }
   ],
   "source": [
    "from sklearn.preprocessing import StandardScaler\n",
    "\n",
    "# Inisialisasi objek StandardScaler\n",
    "scaler = StandardScaler()\n",
    "\n",
    "# Fit dan transformasi scaler pada DataFrame X_bin\n",
    "X_bin_scaled = scaler.fit_transform(X_bin)\n",
    "\n",
    "# Menghasilkan DataFrame baru dengan data yang telah diubah skala\n",
    "X_bin = pd.DataFrame(X_bin_scaled, columns=X_bin.columns)\n",
    "\n",
    "# Tampilkan DataFrame yang telah diubah skala\n",
    "X_bin"
   ]
  },
  {
   "cell_type": "markdown",
   "metadata": {},
   "source": [
    "### 1.3. Save Binary Data"
   ]
  },
  {
   "cell_type": "code",
   "execution_count": 135,
   "metadata": {},
   "outputs": [],
   "source": [
    "# Menggabungkan X_bin_scaled_df dengan y_bin\n",
    "binary_df = pd.concat([X_bin, y_bin], axis=1)\n",
    "\n",
    "# Simpan sebagai file CSV\n",
    "binary_df.to_csv('D:\\DAC-2023\\Dataset\\\\binary.csv', index=False)"
   ]
  },
  {
   "cell_type": "markdown",
   "metadata": {},
   "source": [
    "#### **SMOTEENN Method**"
   ]
  },
  {
   "cell_type": "code",
   "execution_count": 136,
   "metadata": {},
   "outputs": [],
   "source": [
    "# # Define the list of target columns in order\n",
    "# target_columns = ['target','attack','type_of_attack'] # Replace with your actual target column names\n",
    "\n",
    "# # Create an empty DataFrame to store the resampled data\n",
    "# resampled_df = pd.DataFrame()\n",
    "\n",
    "# # Loop through each target column\n",
    "# for target_col in target_columns:\n",
    "#     # Separate features and target for the current target\n",
    "#     X_target = X  # Features\n",
    "#     y_target = y[target_col] # Target\n",
    "    \n",
    "#     # Apply SMOTE-ENN to balance the current target\n",
    "#     smote_enn = SMOTEENN(sampling_strategy='auto', random_state=42)\n",
    "#     X_resampled, y_resampled = smote_enn.fit_resample(X_target, y_target)\n",
    "    \n",
    "#     # Combine the resampled data with the resampled_df\n",
    "#     resampled_data = pd.DataFrame(data=X_resampled, columns=X_target.columns)\n",
    "#     resampled_data[target_col] = y_resampled\n",
    "#     resampled_df = pd.concat([resampled_df, resampled_data], axis=0)\n",
    "\n",
    "# # At this point, 'resampled_df' should contain balanced data for all target columns\n",
    "\n",
    "# # Path to save the resampled data\n",
    "# file_path = 'resampled_data.csv'\n",
    "\n",
    "# # Save the resampled DataFrame to a CSV file\n",
    "# resampled_df.to_csv(file_path, index=False)"
   ]
  },
  {
   "cell_type": "code",
   "execution_count": 137,
   "metadata": {},
   "outputs": [],
   "source": [
    "# # Load resampled data\n",
    "# df = pd.read_csv('D:\\DAC-2023\\\\resampled_data.csv')"
   ]
  },
  {
   "cell_type": "code",
   "execution_count": 138,
   "metadata": {},
   "outputs": [],
   "source": [
    "# df"
   ]
  },
  {
   "cell_type": "code",
   "execution_count": 139,
   "metadata": {},
   "outputs": [],
   "source": [
    "# class_distribution = df['target'].value_counts().reset_index()\n",
    "# class_distribution.columns = ['target', 'count']\n",
    "\n",
    "# fig = px.treemap(class_distribution, \n",
    "#                  path=['target'], \n",
    "#                  values='count', \n",
    "#                  title='Distribution of Target')\n",
    "# fig.show()"
   ]
  },
  {
   "cell_type": "markdown",
   "metadata": {},
   "source": [
    "## 2. For Multiclass Classification"
   ]
  },
  {
   "cell_type": "code",
   "execution_count": 140,
   "metadata": {},
   "outputs": [
    {
     "data": {
      "text/html": [
       "<div>\n",
       "<style scoped>\n",
       "    .dataframe tbody tr th:only-of-type {\n",
       "        vertical-align: middle;\n",
       "    }\n",
       "\n",
       "    .dataframe tbody tr th {\n",
       "        vertical-align: top;\n",
       "    }\n",
       "\n",
       "    .dataframe thead th {\n",
       "        text-align: right;\n",
       "    }\n",
       "</style>\n",
       "<table border=\"1\" class=\"dataframe\">\n",
       "  <thead>\n",
       "    <tr style=\"text-align: right;\">\n",
       "      <th></th>\n",
       "      <th>duration</th>\n",
       "      <th>protocol_type</th>\n",
       "      <th>service</th>\n",
       "      <th>flag</th>\n",
       "      <th>src_bytes</th>\n",
       "      <th>dst_bytes</th>\n",
       "      <th>wrong_fragment</th>\n",
       "      <th>hot</th>\n",
       "      <th>logged_in</th>\n",
       "      <th>num_compromised</th>\n",
       "      <th>...</th>\n",
       "      <th>dst_host_count</th>\n",
       "      <th>dst_host_srv_count</th>\n",
       "      <th>dst_host_same_srv_rate</th>\n",
       "      <th>dst_host_diff_srv_rate</th>\n",
       "      <th>dst_host_same_src_port_rate</th>\n",
       "      <th>dst_host_srv_diff_host_rate</th>\n",
       "      <th>dst_host_serror_rate</th>\n",
       "      <th>dst_host_rerror_rate</th>\n",
       "      <th>dst_host_srv_rerror_rate</th>\n",
       "      <th>attack</th>\n",
       "    </tr>\n",
       "  </thead>\n",
       "  <tbody>\n",
       "    <tr>\n",
       "      <th>0</th>\n",
       "      <td>-0.109923</td>\n",
       "      <td>tcp</td>\n",
       "      <td>private</td>\n",
       "      <td>SH</td>\n",
       "      <td>-0.006743</td>\n",
       "      <td>-0.005030</td>\n",
       "      <td>-0.08804</td>\n",
       "      <td>-0.08037</td>\n",
       "      <td>-0.807375</td>\n",
       "      <td>-0.010951</td>\n",
       "      <td>...</td>\n",
       "      <td>-0.082423</td>\n",
       "      <td>-1.038634</td>\n",
       "      <td>-1.132106</td>\n",
       "      <td>4.916170</td>\n",
       "      <td>2.683669</td>\n",
       "      <td>-0.156926</td>\n",
       "      <td>1.459975</td>\n",
       "      <td>-0.325076</td>\n",
       "      <td>-0.33803</td>\n",
       "      <td>probe</td>\n",
       "    </tr>\n",
       "    <tr>\n",
       "      <th>1</th>\n",
       "      <td>-0.109923</td>\n",
       "      <td>tcp</td>\n",
       "      <td>private</td>\n",
       "      <td>S0</td>\n",
       "      <td>-0.006743</td>\n",
       "      <td>-0.005030</td>\n",
       "      <td>-0.08804</td>\n",
       "      <td>-0.08037</td>\n",
       "      <td>-0.807375</td>\n",
       "      <td>-0.010951</td>\n",
       "      <td>...</td>\n",
       "      <td>0.724452</td>\n",
       "      <td>-1.002495</td>\n",
       "      <td>-1.109803</td>\n",
       "      <td>0.012374</td>\n",
       "      <td>-0.469117</td>\n",
       "      <td>-0.156926</td>\n",
       "      <td>1.571182</td>\n",
       "      <td>-0.325076</td>\n",
       "      <td>-0.33803</td>\n",
       "      <td>dos</td>\n",
       "    </tr>\n",
       "    <tr>\n",
       "      <th>2</th>\n",
       "      <td>-0.109923</td>\n",
       "      <td>tcp</td>\n",
       "      <td>http</td>\n",
       "      <td>SF</td>\n",
       "      <td>-0.006687</td>\n",
       "      <td>-0.004194</td>\n",
       "      <td>-0.08804</td>\n",
       "      <td>-0.08037</td>\n",
       "      <td>1.238582</td>\n",
       "      <td>-0.010951</td>\n",
       "      <td>...</td>\n",
       "      <td>-0.705454</td>\n",
       "      <td>1.012281</td>\n",
       "      <td>1.075846</td>\n",
       "      <td>-0.443793</td>\n",
       "      <td>-0.435930</td>\n",
       "      <td>-0.156926</td>\n",
       "      <td>-0.652955</td>\n",
       "      <td>-0.325076</td>\n",
       "      <td>-0.33803</td>\n",
       "      <td>normal</td>\n",
       "    </tr>\n",
       "    <tr>\n",
       "      <th>3</th>\n",
       "      <td>-0.109923</td>\n",
       "      <td>tcp</td>\n",
       "      <td>http</td>\n",
       "      <td>SF</td>\n",
       "      <td>-0.006697</td>\n",
       "      <td>-0.004896</td>\n",
       "      <td>-0.08804</td>\n",
       "      <td>-0.08037</td>\n",
       "      <td>1.238582</td>\n",
       "      <td>-0.010951</td>\n",
       "      <td>...</td>\n",
       "      <td>-1.818739</td>\n",
       "      <td>1.256222</td>\n",
       "      <td>1.075846</td>\n",
       "      <td>-0.443793</td>\n",
       "      <td>0.095066</td>\n",
       "      <td>-0.156926</td>\n",
       "      <td>-0.652955</td>\n",
       "      <td>-0.325076</td>\n",
       "      <td>-0.33803</td>\n",
       "      <td>normal</td>\n",
       "    </tr>\n",
       "    <tr>\n",
       "      <th>4</th>\n",
       "      <td>-0.109544</td>\n",
       "      <td>tcp</td>\n",
       "      <td>smtp</td>\n",
       "      <td>SF</td>\n",
       "      <td>-0.006531</td>\n",
       "      <td>-0.004955</td>\n",
       "      <td>-0.08804</td>\n",
       "      <td>-0.08037</td>\n",
       "      <td>1.238582</td>\n",
       "      <td>-0.010951</td>\n",
       "      <td>...</td>\n",
       "      <td>0.183131</td>\n",
       "      <td>0.343701</td>\n",
       "      <td>0.139139</td>\n",
       "      <td>-0.329751</td>\n",
       "      <td>-0.469117</td>\n",
       "      <td>-0.156926</td>\n",
       "      <td>-0.652955</td>\n",
       "      <td>-0.325076</td>\n",
       "      <td>-0.33803</td>\n",
       "      <td>normal</td>\n",
       "    </tr>\n",
       "  </tbody>\n",
       "</table>\n",
       "<p>5 rows × 31 columns</p>\n",
       "</div>"
      ],
      "text/plain": [
       "   duration protocol_type  service flag  src_bytes  dst_bytes  wrong_fragment  \\\n",
       "0 -0.109923           tcp  private   SH  -0.006743  -0.005030        -0.08804   \n",
       "1 -0.109923           tcp  private   S0  -0.006743  -0.005030        -0.08804   \n",
       "2 -0.109923           tcp     http   SF  -0.006687  -0.004194        -0.08804   \n",
       "3 -0.109923           tcp     http   SF  -0.006697  -0.004896        -0.08804   \n",
       "4 -0.109544           tcp     smtp   SF  -0.006531  -0.004955        -0.08804   \n",
       "\n",
       "       hot  logged_in  num_compromised  ...  dst_host_count  \\\n",
       "0 -0.08037  -0.807375        -0.010951  ...       -0.082423   \n",
       "1 -0.08037  -0.807375        -0.010951  ...        0.724452   \n",
       "2 -0.08037   1.238582        -0.010951  ...       -0.705454   \n",
       "3 -0.08037   1.238582        -0.010951  ...       -1.818739   \n",
       "4 -0.08037   1.238582        -0.010951  ...        0.183131   \n",
       "\n",
       "   dst_host_srv_count  dst_host_same_srv_rate  dst_host_diff_srv_rate  \\\n",
       "0           -1.038634               -1.132106                4.916170   \n",
       "1           -1.002495               -1.109803                0.012374   \n",
       "2            1.012281                1.075846               -0.443793   \n",
       "3            1.256222                1.075846               -0.443793   \n",
       "4            0.343701                0.139139               -0.329751   \n",
       "\n",
       "   dst_host_same_src_port_rate  dst_host_srv_diff_host_rate  \\\n",
       "0                     2.683669                    -0.156926   \n",
       "1                    -0.469117                    -0.156926   \n",
       "2                    -0.435930                    -0.156926   \n",
       "3                     0.095066                    -0.156926   \n",
       "4                    -0.469117                    -0.156926   \n",
       "\n",
       "   dst_host_serror_rate  dst_host_rerror_rate  dst_host_srv_rerror_rate  \\\n",
       "0              1.459975             -0.325076                  -0.33803   \n",
       "1              1.571182             -0.325076                  -0.33803   \n",
       "2             -0.652955             -0.325076                  -0.33803   \n",
       "3             -0.652955             -0.325076                  -0.33803   \n",
       "4             -0.652955             -0.325076                  -0.33803   \n",
       "\n",
       "   attack  \n",
       "0   probe  \n",
       "1     dos  \n",
       "2  normal  \n",
       "3  normal  \n",
       "4  normal  \n",
       "\n",
       "[5 rows x 31 columns]"
      ]
     },
     "execution_count": 140,
     "metadata": {},
     "output_type": "execute_result"
    }
   ],
   "source": [
    "attack_df = df.copy()\n",
    "attack_df = attack_df.drop(['target','type_of_attack'],axis=1)\n",
    "attack_df.head()"
   ]
  },
  {
   "cell_type": "code",
   "execution_count": 141,
   "metadata": {},
   "outputs": [
    {
     "data": {
      "text/html": [
       "<div>\n",
       "<style scoped>\n",
       "    .dataframe tbody tr th:only-of-type {\n",
       "        vertical-align: middle;\n",
       "    }\n",
       "\n",
       "    .dataframe tbody tr th {\n",
       "        vertical-align: top;\n",
       "    }\n",
       "\n",
       "    .dataframe thead th {\n",
       "        text-align: right;\n",
       "    }\n",
       "</style>\n",
       "<table border=\"1\" class=\"dataframe\">\n",
       "  <thead>\n",
       "    <tr style=\"text-align: right;\">\n",
       "      <th></th>\n",
       "      <th>duration</th>\n",
       "      <th>protocol_type</th>\n",
       "      <th>service</th>\n",
       "      <th>flag</th>\n",
       "      <th>src_bytes</th>\n",
       "      <th>dst_bytes</th>\n",
       "      <th>wrong_fragment</th>\n",
       "      <th>hot</th>\n",
       "      <th>logged_in</th>\n",
       "      <th>num_compromised</th>\n",
       "      <th>...</th>\n",
       "      <th>dst_host_count</th>\n",
       "      <th>dst_host_srv_count</th>\n",
       "      <th>dst_host_same_srv_rate</th>\n",
       "      <th>dst_host_diff_srv_rate</th>\n",
       "      <th>dst_host_same_src_port_rate</th>\n",
       "      <th>dst_host_srv_diff_host_rate</th>\n",
       "      <th>dst_host_serror_rate</th>\n",
       "      <th>dst_host_rerror_rate</th>\n",
       "      <th>dst_host_srv_rerror_rate</th>\n",
       "      <th>type_of_attack</th>\n",
       "    </tr>\n",
       "  </thead>\n",
       "  <tbody>\n",
       "    <tr>\n",
       "      <th>0</th>\n",
       "      <td>-0.109923</td>\n",
       "      <td>tcp</td>\n",
       "      <td>private</td>\n",
       "      <td>SH</td>\n",
       "      <td>-0.006743</td>\n",
       "      <td>-0.005030</td>\n",
       "      <td>-0.08804</td>\n",
       "      <td>-0.08037</td>\n",
       "      <td>-0.807375</td>\n",
       "      <td>-0.010951</td>\n",
       "      <td>...</td>\n",
       "      <td>-0.082423</td>\n",
       "      <td>-1.038634</td>\n",
       "      <td>-1.132106</td>\n",
       "      <td>4.916170</td>\n",
       "      <td>2.683669</td>\n",
       "      <td>-0.156926</td>\n",
       "      <td>1.459975</td>\n",
       "      <td>-0.325076</td>\n",
       "      <td>-0.33803</td>\n",
       "      <td>nmap</td>\n",
       "    </tr>\n",
       "    <tr>\n",
       "      <th>1</th>\n",
       "      <td>-0.109923</td>\n",
       "      <td>tcp</td>\n",
       "      <td>private</td>\n",
       "      <td>S0</td>\n",
       "      <td>-0.006743</td>\n",
       "      <td>-0.005030</td>\n",
       "      <td>-0.08804</td>\n",
       "      <td>-0.08037</td>\n",
       "      <td>-0.807375</td>\n",
       "      <td>-0.010951</td>\n",
       "      <td>...</td>\n",
       "      <td>0.724452</td>\n",
       "      <td>-1.002495</td>\n",
       "      <td>-1.109803</td>\n",
       "      <td>0.012374</td>\n",
       "      <td>-0.469117</td>\n",
       "      <td>-0.156926</td>\n",
       "      <td>1.571182</td>\n",
       "      <td>-0.325076</td>\n",
       "      <td>-0.33803</td>\n",
       "      <td>neptune</td>\n",
       "    </tr>\n",
       "    <tr>\n",
       "      <th>2</th>\n",
       "      <td>-0.109923</td>\n",
       "      <td>tcp</td>\n",
       "      <td>http</td>\n",
       "      <td>SF</td>\n",
       "      <td>-0.006687</td>\n",
       "      <td>-0.004194</td>\n",
       "      <td>-0.08804</td>\n",
       "      <td>-0.08037</td>\n",
       "      <td>1.238582</td>\n",
       "      <td>-0.010951</td>\n",
       "      <td>...</td>\n",
       "      <td>-0.705454</td>\n",
       "      <td>1.012281</td>\n",
       "      <td>1.075846</td>\n",
       "      <td>-0.443793</td>\n",
       "      <td>-0.435930</td>\n",
       "      <td>-0.156926</td>\n",
       "      <td>-0.652955</td>\n",
       "      <td>-0.325076</td>\n",
       "      <td>-0.33803</td>\n",
       "      <td>normal</td>\n",
       "    </tr>\n",
       "    <tr>\n",
       "      <th>3</th>\n",
       "      <td>-0.109923</td>\n",
       "      <td>tcp</td>\n",
       "      <td>http</td>\n",
       "      <td>SF</td>\n",
       "      <td>-0.006697</td>\n",
       "      <td>-0.004896</td>\n",
       "      <td>-0.08804</td>\n",
       "      <td>-0.08037</td>\n",
       "      <td>1.238582</td>\n",
       "      <td>-0.010951</td>\n",
       "      <td>...</td>\n",
       "      <td>-1.818739</td>\n",
       "      <td>1.256222</td>\n",
       "      <td>1.075846</td>\n",
       "      <td>-0.443793</td>\n",
       "      <td>0.095066</td>\n",
       "      <td>-0.156926</td>\n",
       "      <td>-0.652955</td>\n",
       "      <td>-0.325076</td>\n",
       "      <td>-0.33803</td>\n",
       "      <td>normal</td>\n",
       "    </tr>\n",
       "    <tr>\n",
       "      <th>4</th>\n",
       "      <td>-0.109544</td>\n",
       "      <td>tcp</td>\n",
       "      <td>smtp</td>\n",
       "      <td>SF</td>\n",
       "      <td>-0.006531</td>\n",
       "      <td>-0.004955</td>\n",
       "      <td>-0.08804</td>\n",
       "      <td>-0.08037</td>\n",
       "      <td>1.238582</td>\n",
       "      <td>-0.010951</td>\n",
       "      <td>...</td>\n",
       "      <td>0.183131</td>\n",
       "      <td>0.343701</td>\n",
       "      <td>0.139139</td>\n",
       "      <td>-0.329751</td>\n",
       "      <td>-0.469117</td>\n",
       "      <td>-0.156926</td>\n",
       "      <td>-0.652955</td>\n",
       "      <td>-0.325076</td>\n",
       "      <td>-0.33803</td>\n",
       "      <td>normal</td>\n",
       "    </tr>\n",
       "  </tbody>\n",
       "</table>\n",
       "<p>5 rows × 31 columns</p>\n",
       "</div>"
      ],
      "text/plain": [
       "   duration protocol_type  service flag  src_bytes  dst_bytes  wrong_fragment  \\\n",
       "0 -0.109923           tcp  private   SH  -0.006743  -0.005030        -0.08804   \n",
       "1 -0.109923           tcp  private   S0  -0.006743  -0.005030        -0.08804   \n",
       "2 -0.109923           tcp     http   SF  -0.006687  -0.004194        -0.08804   \n",
       "3 -0.109923           tcp     http   SF  -0.006697  -0.004896        -0.08804   \n",
       "4 -0.109544           tcp     smtp   SF  -0.006531  -0.004955        -0.08804   \n",
       "\n",
       "       hot  logged_in  num_compromised  ...  dst_host_count  \\\n",
       "0 -0.08037  -0.807375        -0.010951  ...       -0.082423   \n",
       "1 -0.08037  -0.807375        -0.010951  ...        0.724452   \n",
       "2 -0.08037   1.238582        -0.010951  ...       -0.705454   \n",
       "3 -0.08037   1.238582        -0.010951  ...       -1.818739   \n",
       "4 -0.08037   1.238582        -0.010951  ...        0.183131   \n",
       "\n",
       "   dst_host_srv_count  dst_host_same_srv_rate  dst_host_diff_srv_rate  \\\n",
       "0           -1.038634               -1.132106                4.916170   \n",
       "1           -1.002495               -1.109803                0.012374   \n",
       "2            1.012281                1.075846               -0.443793   \n",
       "3            1.256222                1.075846               -0.443793   \n",
       "4            0.343701                0.139139               -0.329751   \n",
       "\n",
       "   dst_host_same_src_port_rate  dst_host_srv_diff_host_rate  \\\n",
       "0                     2.683669                    -0.156926   \n",
       "1                    -0.469117                    -0.156926   \n",
       "2                    -0.435930                    -0.156926   \n",
       "3                     0.095066                    -0.156926   \n",
       "4                    -0.469117                    -0.156926   \n",
       "\n",
       "   dst_host_serror_rate  dst_host_rerror_rate  dst_host_srv_rerror_rate  \\\n",
       "0              1.459975             -0.325076                  -0.33803   \n",
       "1              1.571182             -0.325076                  -0.33803   \n",
       "2             -0.652955             -0.325076                  -0.33803   \n",
       "3             -0.652955             -0.325076                  -0.33803   \n",
       "4             -0.652955             -0.325076                  -0.33803   \n",
       "\n",
       "   type_of_attack  \n",
       "0            nmap  \n",
       "1         neptune  \n",
       "2          normal  \n",
       "3          normal  \n",
       "4          normal  \n",
       "\n",
       "[5 rows x 31 columns]"
      ]
     },
     "execution_count": 141,
     "metadata": {},
     "output_type": "execute_result"
    }
   ],
   "source": [
    "toa_df = df.copy()\n",
    "toa_df = toa_df.drop(['target','attack'],axis=1)\n",
    "toa_df.head()"
   ]
  },
  {
   "cell_type": "markdown",
   "metadata": {},
   "source": [
    "### 2.1. Encoding"
   ]
  },
  {
   "cell_type": "markdown",
   "metadata": {},
   "source": [
    "#### Encoding for attack_df"
   ]
  },
  {
   "cell_type": "code",
   "execution_count": 142,
   "metadata": {},
   "outputs": [],
   "source": [
    "# creating a dataframe with labels (normal, dos, probe)\n",
    "attack_df['attack_label'] = attack_df['attack'].replace({'normal': 0, 'dos':1, 'probe':2})"
   ]
  },
  {
   "cell_type": "code",
   "execution_count": 143,
   "metadata": {},
   "outputs": [
    {
     "data": {
      "text/html": [
       "<div>\n",
       "<style scoped>\n",
       "    .dataframe tbody tr th:only-of-type {\n",
       "        vertical-align: middle;\n",
       "    }\n",
       "\n",
       "    .dataframe tbody tr th {\n",
       "        vertical-align: top;\n",
       "    }\n",
       "\n",
       "    .dataframe thead th {\n",
       "        text-align: right;\n",
       "    }\n",
       "</style>\n",
       "<table border=\"1\" class=\"dataframe\">\n",
       "  <thead>\n",
       "    <tr style=\"text-align: right;\">\n",
       "      <th></th>\n",
       "      <th>duration</th>\n",
       "      <th>protocol_type</th>\n",
       "      <th>service</th>\n",
       "      <th>flag</th>\n",
       "      <th>src_bytes</th>\n",
       "      <th>dst_bytes</th>\n",
       "      <th>wrong_fragment</th>\n",
       "      <th>hot</th>\n",
       "      <th>logged_in</th>\n",
       "      <th>num_compromised</th>\n",
       "      <th>...</th>\n",
       "      <th>dst_host_srv_count</th>\n",
       "      <th>dst_host_same_srv_rate</th>\n",
       "      <th>dst_host_diff_srv_rate</th>\n",
       "      <th>dst_host_same_src_port_rate</th>\n",
       "      <th>dst_host_srv_diff_host_rate</th>\n",
       "      <th>dst_host_serror_rate</th>\n",
       "      <th>dst_host_rerror_rate</th>\n",
       "      <th>dst_host_srv_rerror_rate</th>\n",
       "      <th>attack</th>\n",
       "      <th>attack_label</th>\n",
       "    </tr>\n",
       "  </thead>\n",
       "  <tbody>\n",
       "    <tr>\n",
       "      <th>0</th>\n",
       "      <td>-0.109923</td>\n",
       "      <td>tcp</td>\n",
       "      <td>private</td>\n",
       "      <td>SH</td>\n",
       "      <td>-0.006743</td>\n",
       "      <td>-0.005030</td>\n",
       "      <td>-0.08804</td>\n",
       "      <td>-0.08037</td>\n",
       "      <td>-0.807375</td>\n",
       "      <td>-0.010951</td>\n",
       "      <td>...</td>\n",
       "      <td>-1.038634</td>\n",
       "      <td>-1.132106</td>\n",
       "      <td>4.916170</td>\n",
       "      <td>2.683669</td>\n",
       "      <td>-0.156926</td>\n",
       "      <td>1.459975</td>\n",
       "      <td>-0.325076</td>\n",
       "      <td>-0.338030</td>\n",
       "      <td>probe</td>\n",
       "      <td>2</td>\n",
       "    </tr>\n",
       "    <tr>\n",
       "      <th>1</th>\n",
       "      <td>-0.109923</td>\n",
       "      <td>tcp</td>\n",
       "      <td>private</td>\n",
       "      <td>S0</td>\n",
       "      <td>-0.006743</td>\n",
       "      <td>-0.005030</td>\n",
       "      <td>-0.08804</td>\n",
       "      <td>-0.08037</td>\n",
       "      <td>-0.807375</td>\n",
       "      <td>-0.010951</td>\n",
       "      <td>...</td>\n",
       "      <td>-1.002495</td>\n",
       "      <td>-1.109803</td>\n",
       "      <td>0.012374</td>\n",
       "      <td>-0.469117</td>\n",
       "      <td>-0.156926</td>\n",
       "      <td>1.571182</td>\n",
       "      <td>-0.325076</td>\n",
       "      <td>-0.338030</td>\n",
       "      <td>dos</td>\n",
       "      <td>1</td>\n",
       "    </tr>\n",
       "    <tr>\n",
       "      <th>2</th>\n",
       "      <td>-0.109923</td>\n",
       "      <td>tcp</td>\n",
       "      <td>http</td>\n",
       "      <td>SF</td>\n",
       "      <td>-0.006687</td>\n",
       "      <td>-0.004194</td>\n",
       "      <td>-0.08804</td>\n",
       "      <td>-0.08037</td>\n",
       "      <td>1.238582</td>\n",
       "      <td>-0.010951</td>\n",
       "      <td>...</td>\n",
       "      <td>1.012281</td>\n",
       "      <td>1.075846</td>\n",
       "      <td>-0.443793</td>\n",
       "      <td>-0.435930</td>\n",
       "      <td>-0.156926</td>\n",
       "      <td>-0.652955</td>\n",
       "      <td>-0.325076</td>\n",
       "      <td>-0.338030</td>\n",
       "      <td>normal</td>\n",
       "      <td>0</td>\n",
       "    </tr>\n",
       "    <tr>\n",
       "      <th>3</th>\n",
       "      <td>-0.109923</td>\n",
       "      <td>tcp</td>\n",
       "      <td>http</td>\n",
       "      <td>SF</td>\n",
       "      <td>-0.006697</td>\n",
       "      <td>-0.004896</td>\n",
       "      <td>-0.08804</td>\n",
       "      <td>-0.08037</td>\n",
       "      <td>1.238582</td>\n",
       "      <td>-0.010951</td>\n",
       "      <td>...</td>\n",
       "      <td>1.256222</td>\n",
       "      <td>1.075846</td>\n",
       "      <td>-0.443793</td>\n",
       "      <td>0.095066</td>\n",
       "      <td>-0.156926</td>\n",
       "      <td>-0.652955</td>\n",
       "      <td>-0.325076</td>\n",
       "      <td>-0.338030</td>\n",
       "      <td>normal</td>\n",
       "      <td>0</td>\n",
       "    </tr>\n",
       "    <tr>\n",
       "      <th>4</th>\n",
       "      <td>-0.109544</td>\n",
       "      <td>tcp</td>\n",
       "      <td>smtp</td>\n",
       "      <td>SF</td>\n",
       "      <td>-0.006531</td>\n",
       "      <td>-0.004955</td>\n",
       "      <td>-0.08804</td>\n",
       "      <td>-0.08037</td>\n",
       "      <td>1.238582</td>\n",
       "      <td>-0.010951</td>\n",
       "      <td>...</td>\n",
       "      <td>0.343701</td>\n",
       "      <td>0.139139</td>\n",
       "      <td>-0.329751</td>\n",
       "      <td>-0.469117</td>\n",
       "      <td>-0.156926</td>\n",
       "      <td>-0.652955</td>\n",
       "      <td>-0.325076</td>\n",
       "      <td>-0.338030</td>\n",
       "      <td>normal</td>\n",
       "      <td>0</td>\n",
       "    </tr>\n",
       "    <tr>\n",
       "      <th>...</th>\n",
       "      <td>...</td>\n",
       "      <td>...</td>\n",
       "      <td>...</td>\n",
       "      <td>...</td>\n",
       "      <td>...</td>\n",
       "      <td>...</td>\n",
       "      <td>...</td>\n",
       "      <td>...</td>\n",
       "      <td>...</td>\n",
       "      <td>...</td>\n",
       "      <td>...</td>\n",
       "      <td>...</td>\n",
       "      <td>...</td>\n",
       "      <td>...</td>\n",
       "      <td>...</td>\n",
       "      <td>...</td>\n",
       "      <td>...</td>\n",
       "      <td>...</td>\n",
       "      <td>...</td>\n",
       "      <td>...</td>\n",
       "      <td>...</td>\n",
       "    </tr>\n",
       "    <tr>\n",
       "      <th>112440</th>\n",
       "      <td>-0.108028</td>\n",
       "      <td>tcp</td>\n",
       "      <td>smtp</td>\n",
       "      <td>SF</td>\n",
       "      <td>-0.006473</td>\n",
       "      <td>-0.004955</td>\n",
       "      <td>-0.08804</td>\n",
       "      <td>-0.08037</td>\n",
       "      <td>1.238582</td>\n",
       "      <td>-0.010951</td>\n",
       "      <td>...</td>\n",
       "      <td>0.009410</td>\n",
       "      <td>0.317560</td>\n",
       "      <td>-0.272730</td>\n",
       "      <td>-0.435930</td>\n",
       "      <td>-0.156926</td>\n",
       "      <td>-0.652955</td>\n",
       "      <td>-0.325076</td>\n",
       "      <td>-0.338030</td>\n",
       "      <td>normal</td>\n",
       "      <td>0</td>\n",
       "    </tr>\n",
       "    <tr>\n",
       "      <th>112442</th>\n",
       "      <td>-0.109923</td>\n",
       "      <td>tcp</td>\n",
       "      <td>http</td>\n",
       "      <td>SF</td>\n",
       "      <td>-0.006682</td>\n",
       "      <td>-0.004855</td>\n",
       "      <td>-0.08804</td>\n",
       "      <td>-0.08037</td>\n",
       "      <td>1.238582</td>\n",
       "      <td>-0.010951</td>\n",
       "      <td>...</td>\n",
       "      <td>1.256222</td>\n",
       "      <td>1.075846</td>\n",
       "      <td>-0.443793</td>\n",
       "      <td>-0.402743</td>\n",
       "      <td>-0.156926</td>\n",
       "      <td>-0.608472</td>\n",
       "      <td>-0.325076</td>\n",
       "      <td>-0.338030</td>\n",
       "      <td>normal</td>\n",
       "      <td>0</td>\n",
       "    </tr>\n",
       "    <tr>\n",
       "      <th>112443</th>\n",
       "      <td>-0.109923</td>\n",
       "      <td>tcp</td>\n",
       "      <td>http</td>\n",
       "      <td>SF</td>\n",
       "      <td>-0.006672</td>\n",
       "      <td>-0.004864</td>\n",
       "      <td>-0.08804</td>\n",
       "      <td>-0.08037</td>\n",
       "      <td>1.238582</td>\n",
       "      <td>-0.010951</td>\n",
       "      <td>...</td>\n",
       "      <td>1.256222</td>\n",
       "      <td>1.075846</td>\n",
       "      <td>-0.443793</td>\n",
       "      <td>-0.469117</td>\n",
       "      <td>-0.156926</td>\n",
       "      <td>-0.652955</td>\n",
       "      <td>-0.325076</td>\n",
       "      <td>-0.338030</td>\n",
       "      <td>normal</td>\n",
       "      <td>0</td>\n",
       "    </tr>\n",
       "    <tr>\n",
       "      <th>112444</th>\n",
       "      <td>-0.109923</td>\n",
       "      <td>tcp</td>\n",
       "      <td>discard</td>\n",
       "      <td>RSTO</td>\n",
       "      <td>-0.006743</td>\n",
       "      <td>-0.005030</td>\n",
       "      <td>-0.08804</td>\n",
       "      <td>-0.08037</td>\n",
       "      <td>-0.807375</td>\n",
       "      <td>-0.010951</td>\n",
       "      <td>...</td>\n",
       "      <td>-0.984425</td>\n",
       "      <td>-1.087501</td>\n",
       "      <td>-0.101668</td>\n",
       "      <td>-0.469117</td>\n",
       "      <td>-0.156926</td>\n",
       "      <td>-0.652955</td>\n",
       "      <td>3.106410</td>\n",
       "      <td>2.971509</td>\n",
       "      <td>dos</td>\n",
       "      <td>1</td>\n",
       "    </tr>\n",
       "    <tr>\n",
       "      <th>112445</th>\n",
       "      <td>-0.109923</td>\n",
       "      <td>tcp</td>\n",
       "      <td>http</td>\n",
       "      <td>SF</td>\n",
       "      <td>-0.006697</td>\n",
       "      <td>-0.004444</td>\n",
       "      <td>-0.08804</td>\n",
       "      <td>-0.08037</td>\n",
       "      <td>1.238582</td>\n",
       "      <td>-0.010951</td>\n",
       "      <td>...</td>\n",
       "      <td>1.256222</td>\n",
       "      <td>1.075846</td>\n",
       "      <td>-0.443793</td>\n",
       "      <td>-0.402743</td>\n",
       "      <td>-0.156926</td>\n",
       "      <td>-0.652955</td>\n",
       "      <td>-0.325076</td>\n",
       "      <td>-0.338030</td>\n",
       "      <td>normal</td>\n",
       "      <td>0</td>\n",
       "    </tr>\n",
       "  </tbody>\n",
       "</table>\n",
       "<p>108616 rows × 32 columns</p>\n",
       "</div>"
      ],
      "text/plain": [
       "        duration protocol_type  service  flag  src_bytes  dst_bytes  \\\n",
       "0      -0.109923           tcp  private    SH  -0.006743  -0.005030   \n",
       "1      -0.109923           tcp  private    S0  -0.006743  -0.005030   \n",
       "2      -0.109923           tcp     http    SF  -0.006687  -0.004194   \n",
       "3      -0.109923           tcp     http    SF  -0.006697  -0.004896   \n",
       "4      -0.109544           tcp     smtp    SF  -0.006531  -0.004955   \n",
       "...          ...           ...      ...   ...        ...        ...   \n",
       "112440 -0.108028           tcp     smtp    SF  -0.006473  -0.004955   \n",
       "112442 -0.109923           tcp     http    SF  -0.006682  -0.004855   \n",
       "112443 -0.109923           tcp     http    SF  -0.006672  -0.004864   \n",
       "112444 -0.109923           tcp  discard  RSTO  -0.006743  -0.005030   \n",
       "112445 -0.109923           tcp     http    SF  -0.006697  -0.004444   \n",
       "\n",
       "        wrong_fragment      hot  logged_in  num_compromised  ...  \\\n",
       "0             -0.08804 -0.08037  -0.807375        -0.010951  ...   \n",
       "1             -0.08804 -0.08037  -0.807375        -0.010951  ...   \n",
       "2             -0.08804 -0.08037   1.238582        -0.010951  ...   \n",
       "3             -0.08804 -0.08037   1.238582        -0.010951  ...   \n",
       "4             -0.08804 -0.08037   1.238582        -0.010951  ...   \n",
       "...                ...      ...        ...              ...  ...   \n",
       "112440        -0.08804 -0.08037   1.238582        -0.010951  ...   \n",
       "112442        -0.08804 -0.08037   1.238582        -0.010951  ...   \n",
       "112443        -0.08804 -0.08037   1.238582        -0.010951  ...   \n",
       "112444        -0.08804 -0.08037  -0.807375        -0.010951  ...   \n",
       "112445        -0.08804 -0.08037   1.238582        -0.010951  ...   \n",
       "\n",
       "        dst_host_srv_count  dst_host_same_srv_rate  dst_host_diff_srv_rate  \\\n",
       "0                -1.038634               -1.132106                4.916170   \n",
       "1                -1.002495               -1.109803                0.012374   \n",
       "2                 1.012281                1.075846               -0.443793   \n",
       "3                 1.256222                1.075846               -0.443793   \n",
       "4                 0.343701                0.139139               -0.329751   \n",
       "...                    ...                     ...                     ...   \n",
       "112440            0.009410                0.317560               -0.272730   \n",
       "112442            1.256222                1.075846               -0.443793   \n",
       "112443            1.256222                1.075846               -0.443793   \n",
       "112444           -0.984425               -1.087501               -0.101668   \n",
       "112445            1.256222                1.075846               -0.443793   \n",
       "\n",
       "        dst_host_same_src_port_rate  dst_host_srv_diff_host_rate  \\\n",
       "0                          2.683669                    -0.156926   \n",
       "1                         -0.469117                    -0.156926   \n",
       "2                         -0.435930                    -0.156926   \n",
       "3                          0.095066                    -0.156926   \n",
       "4                         -0.469117                    -0.156926   \n",
       "...                             ...                          ...   \n",
       "112440                    -0.435930                    -0.156926   \n",
       "112442                    -0.402743                    -0.156926   \n",
       "112443                    -0.469117                    -0.156926   \n",
       "112444                    -0.469117                    -0.156926   \n",
       "112445                    -0.402743                    -0.156926   \n",
       "\n",
       "        dst_host_serror_rate  dst_host_rerror_rate  dst_host_srv_rerror_rate  \\\n",
       "0                   1.459975             -0.325076                 -0.338030   \n",
       "1                   1.571182             -0.325076                 -0.338030   \n",
       "2                  -0.652955             -0.325076                 -0.338030   \n",
       "3                  -0.652955             -0.325076                 -0.338030   \n",
       "4                  -0.652955             -0.325076                 -0.338030   \n",
       "...                      ...                   ...                       ...   \n",
       "112440             -0.652955             -0.325076                 -0.338030   \n",
       "112442             -0.608472             -0.325076                 -0.338030   \n",
       "112443             -0.652955             -0.325076                 -0.338030   \n",
       "112444             -0.652955              3.106410                  2.971509   \n",
       "112445             -0.652955             -0.325076                 -0.338030   \n",
       "\n",
       "        attack  attack_label  \n",
       "0        probe             2  \n",
       "1          dos             1  \n",
       "2       normal             0  \n",
       "3       normal             0  \n",
       "4       normal             0  \n",
       "...        ...           ...  \n",
       "112440  normal             0  \n",
       "112442  normal             0  \n",
       "112443  normal             0  \n",
       "112444     dos             1  \n",
       "112445  normal             0  \n",
       "\n",
       "[108616 rows x 32 columns]"
      ]
     },
     "execution_count": 143,
     "metadata": {},
     "output_type": "execute_result"
    }
   ],
   "source": [
    "attack_df"
   ]
  },
  {
   "cell_type": "code",
   "execution_count": 144,
   "metadata": {},
   "outputs": [
    {
     "data": {
      "image/png": "[encoded data removed]",
      "text/plain": [
       "<Figure size 300x200 with 1 Axes>"
      ]
     },
     "metadata": {},
     "output_type": "display_data"
    }
   ],
   "source": [
    "# Menghitung jumlah 'normal' dan 'abnormal' dalam kolom 'label'\n",
    "label_counts = attack_df['attack'].value_counts()\n",
    "\n",
    "# Membuat bar chart\n",
    "plt.figure(figsize=(3, 2))\n",
    "plt.bar(label_counts.index, label_counts.values)\n",
    "plt.xlabel('Label')\n",
    "plt.ylabel('Count')\n",
    "plt.title('Distribution of Attack Labels')\n",
    "plt.show()"
   ]
  },
  {
   "cell_type": "markdown",
   "metadata": {},
   "source": [
    "#### Encoding for type_of_attack"
   ]
  },
  {
   "cell_type": "code",
   "execution_count": 145,
   "metadata": {},
   "outputs": [
    {
     "data": {
      "text/plain": [
       "array(['nmap', 'neptune', 'normal', 'Denial of Service Attack',\n",
       "       'portsweep', 'satan', 'ipsweep', 'smurf'], dtype=object)"
      ]
     },
     "execution_count": 145,
     "metadata": {},
     "output_type": "execute_result"
    }
   ],
   "source": [
    "toa_df.type_of_attack.unique()"
   ]
  },
  {
   "cell_type": "code",
   "execution_count": 146,
   "metadata": {},
   "outputs": [],
   "source": [
    "# creating a dataframe with labels (normal, dos, probe)\n",
    "toa_df['toa_label'] = toa_df['type_of_attack'].replace({'normal': 0, 'Denial of Service Attack':1, \n",
    "                                                        'neptune':2, 'smurf':3, 'nmap':4,\n",
    "                                                        'portsweep':5, 'satan':6, 'ipsweep':7})"
   ]
  },
  {
   "cell_type": "code",
   "execution_count": 147,
   "metadata": {},
   "outputs": [
    {
     "data": {
      "text/html": [
       "<div>\n",
       "<style scoped>\n",
       "    .dataframe tbody tr th:only-of-type {\n",
       "        vertical-align: middle;\n",
       "    }\n",
       "\n",
       "    .dataframe tbody tr th {\n",
       "        vertical-align: top;\n",
       "    }\n",
       "\n",
       "    .dataframe thead th {\n",
       "        text-align: right;\n",
       "    }\n",
       "</style>\n",
       "<table border=\"1\" class=\"dataframe\">\n",
       "  <thead>\n",
       "    <tr style=\"text-align: right;\">\n",
       "      <th></th>\n",
       "      <th>duration</th>\n",
       "      <th>protocol_type</th>\n",
       "      <th>service</th>\n",
       "      <th>flag</th>\n",
       "      <th>src_bytes</th>\n",
       "      <th>dst_bytes</th>\n",
       "      <th>wrong_fragment</th>\n",
       "      <th>hot</th>\n",
       "      <th>logged_in</th>\n",
       "      <th>num_compromised</th>\n",
       "      <th>...</th>\n",
       "      <th>dst_host_srv_count</th>\n",
       "      <th>dst_host_same_srv_rate</th>\n",
       "      <th>dst_host_diff_srv_rate</th>\n",
       "      <th>dst_host_same_src_port_rate</th>\n",
       "      <th>dst_host_srv_diff_host_rate</th>\n",
       "      <th>dst_host_serror_rate</th>\n",
       "      <th>dst_host_rerror_rate</th>\n",
       "      <th>dst_host_srv_rerror_rate</th>\n",
       "      <th>type_of_attack</th>\n",
       "      <th>toa_label</th>\n",
       "    </tr>\n",
       "  </thead>\n",
       "  <tbody>\n",
       "    <tr>\n",
       "      <th>0</th>\n",
       "      <td>-0.109923</td>\n",
       "      <td>tcp</td>\n",
       "      <td>private</td>\n",
       "      <td>SH</td>\n",
       "      <td>-0.006743</td>\n",
       "      <td>-0.005030</td>\n",
       "      <td>-0.08804</td>\n",
       "      <td>-0.08037</td>\n",
       "      <td>-0.807375</td>\n",
       "      <td>-0.010951</td>\n",
       "      <td>...</td>\n",
       "      <td>-1.038634</td>\n",
       "      <td>-1.132106</td>\n",
       "      <td>4.916170</td>\n",
       "      <td>2.683669</td>\n",
       "      <td>-0.156926</td>\n",
       "      <td>1.459975</td>\n",
       "      <td>-0.325076</td>\n",
       "      <td>-0.338030</td>\n",
       "      <td>nmap</td>\n",
       "      <td>4</td>\n",
       "    </tr>\n",
       "    <tr>\n",
       "      <th>1</th>\n",
       "      <td>-0.109923</td>\n",
       "      <td>tcp</td>\n",
       "      <td>private</td>\n",
       "      <td>S0</td>\n",
       "      <td>-0.006743</td>\n",
       "      <td>-0.005030</td>\n",
       "      <td>-0.08804</td>\n",
       "      <td>-0.08037</td>\n",
       "      <td>-0.807375</td>\n",
       "      <td>-0.010951</td>\n",
       "      <td>...</td>\n",
       "      <td>-1.002495</td>\n",
       "      <td>-1.109803</td>\n",
       "      <td>0.012374</td>\n",
       "      <td>-0.469117</td>\n",
       "      <td>-0.156926</td>\n",
       "      <td>1.571182</td>\n",
       "      <td>-0.325076</td>\n",
       "      <td>-0.338030</td>\n",
       "      <td>neptune</td>\n",
       "      <td>2</td>\n",
       "    </tr>\n",
       "    <tr>\n",
       "      <th>2</th>\n",
       "      <td>-0.109923</td>\n",
       "      <td>tcp</td>\n",
       "      <td>http</td>\n",
       "      <td>SF</td>\n",
       "      <td>-0.006687</td>\n",
       "      <td>-0.004194</td>\n",
       "      <td>-0.08804</td>\n",
       "      <td>-0.08037</td>\n",
       "      <td>1.238582</td>\n",
       "      <td>-0.010951</td>\n",
       "      <td>...</td>\n",
       "      <td>1.012281</td>\n",
       "      <td>1.075846</td>\n",
       "      <td>-0.443793</td>\n",
       "      <td>-0.435930</td>\n",
       "      <td>-0.156926</td>\n",
       "      <td>-0.652955</td>\n",
       "      <td>-0.325076</td>\n",
       "      <td>-0.338030</td>\n",
       "      <td>normal</td>\n",
       "      <td>0</td>\n",
       "    </tr>\n",
       "    <tr>\n",
       "      <th>3</th>\n",
       "      <td>-0.109923</td>\n",
       "      <td>tcp</td>\n",
       "      <td>http</td>\n",
       "      <td>SF</td>\n",
       "      <td>-0.006697</td>\n",
       "      <td>-0.004896</td>\n",
       "      <td>-0.08804</td>\n",
       "      <td>-0.08037</td>\n",
       "      <td>1.238582</td>\n",
       "      <td>-0.010951</td>\n",
       "      <td>...</td>\n",
       "      <td>1.256222</td>\n",
       "      <td>1.075846</td>\n",
       "      <td>-0.443793</td>\n",
       "      <td>0.095066</td>\n",
       "      <td>-0.156926</td>\n",
       "      <td>-0.652955</td>\n",
       "      <td>-0.325076</td>\n",
       "      <td>-0.338030</td>\n",
       "      <td>normal</td>\n",
       "      <td>0</td>\n",
       "    </tr>\n",
       "    <tr>\n",
       "      <th>4</th>\n",
       "      <td>-0.109544</td>\n",
       "      <td>tcp</td>\n",
       "      <td>smtp</td>\n",
       "      <td>SF</td>\n",
       "      <td>-0.006531</td>\n",
       "      <td>-0.004955</td>\n",
       "      <td>-0.08804</td>\n",
       "      <td>-0.08037</td>\n",
       "      <td>1.238582</td>\n",
       "      <td>-0.010951</td>\n",
       "      <td>...</td>\n",
       "      <td>0.343701</td>\n",
       "      <td>0.139139</td>\n",
       "      <td>-0.329751</td>\n",
       "      <td>-0.469117</td>\n",
       "      <td>-0.156926</td>\n",
       "      <td>-0.652955</td>\n",
       "      <td>-0.325076</td>\n",
       "      <td>-0.338030</td>\n",
       "      <td>normal</td>\n",
       "      <td>0</td>\n",
       "    </tr>\n",
       "    <tr>\n",
       "      <th>...</th>\n",
       "      <td>...</td>\n",
       "      <td>...</td>\n",
       "      <td>...</td>\n",
       "      <td>...</td>\n",
       "      <td>...</td>\n",
       "      <td>...</td>\n",
       "      <td>...</td>\n",
       "      <td>...</td>\n",
       "      <td>...</td>\n",
       "      <td>...</td>\n",
       "      <td>...</td>\n",
       "      <td>...</td>\n",
       "      <td>...</td>\n",
       "      <td>...</td>\n",
       "      <td>...</td>\n",
       "      <td>...</td>\n",
       "      <td>...</td>\n",
       "      <td>...</td>\n",
       "      <td>...</td>\n",
       "      <td>...</td>\n",
       "      <td>...</td>\n",
       "    </tr>\n",
       "    <tr>\n",
       "      <th>112440</th>\n",
       "      <td>-0.108028</td>\n",
       "      <td>tcp</td>\n",
       "      <td>smtp</td>\n",
       "      <td>SF</td>\n",
       "      <td>-0.006473</td>\n",
       "      <td>-0.004955</td>\n",
       "      <td>-0.08804</td>\n",
       "      <td>-0.08037</td>\n",
       "      <td>1.238582</td>\n",
       "      <td>-0.010951</td>\n",
       "      <td>...</td>\n",
       "      <td>0.009410</td>\n",
       "      <td>0.317560</td>\n",
       "      <td>-0.272730</td>\n",
       "      <td>-0.435930</td>\n",
       "      <td>-0.156926</td>\n",
       "      <td>-0.652955</td>\n",
       "      <td>-0.325076</td>\n",
       "      <td>-0.338030</td>\n",
       "      <td>normal</td>\n",
       "      <td>0</td>\n",
       "    </tr>\n",
       "    <tr>\n",
       "      <th>112442</th>\n",
       "      <td>-0.109923</td>\n",
       "      <td>tcp</td>\n",
       "      <td>http</td>\n",
       "      <td>SF</td>\n",
       "      <td>-0.006682</td>\n",
       "      <td>-0.004855</td>\n",
       "      <td>-0.08804</td>\n",
       "      <td>-0.08037</td>\n",
       "      <td>1.238582</td>\n",
       "      <td>-0.010951</td>\n",
       "      <td>...</td>\n",
       "      <td>1.256222</td>\n",
       "      <td>1.075846</td>\n",
       "      <td>-0.443793</td>\n",
       "      <td>-0.402743</td>\n",
       "      <td>-0.156926</td>\n",
       "      <td>-0.608472</td>\n",
       "      <td>-0.325076</td>\n",
       "      <td>-0.338030</td>\n",
       "      <td>normal</td>\n",
       "      <td>0</td>\n",
       "    </tr>\n",
       "    <tr>\n",
       "      <th>112443</th>\n",
       "      <td>-0.109923</td>\n",
       "      <td>tcp</td>\n",
       "      <td>http</td>\n",
       "      <td>SF</td>\n",
       "      <td>-0.006672</td>\n",
       "      <td>-0.004864</td>\n",
       "      <td>-0.08804</td>\n",
       "      <td>-0.08037</td>\n",
       "      <td>1.238582</td>\n",
       "      <td>-0.010951</td>\n",
       "      <td>...</td>\n",
       "      <td>1.256222</td>\n",
       "      <td>1.075846</td>\n",
       "      <td>-0.443793</td>\n",
       "      <td>-0.469117</td>\n",
       "      <td>-0.156926</td>\n",
       "      <td>-0.652955</td>\n",
       "      <td>-0.325076</td>\n",
       "      <td>-0.338030</td>\n",
       "      <td>normal</td>\n",
       "      <td>0</td>\n",
       "    </tr>\n",
       "    <tr>\n",
       "      <th>112444</th>\n",
       "      <td>-0.109923</td>\n",
       "      <td>tcp</td>\n",
       "      <td>discard</td>\n",
       "      <td>RSTO</td>\n",
       "      <td>-0.006743</td>\n",
       "      <td>-0.005030</td>\n",
       "      <td>-0.08804</td>\n",
       "      <td>-0.08037</td>\n",
       "      <td>-0.807375</td>\n",
       "      <td>-0.010951</td>\n",
       "      <td>...</td>\n",
       "      <td>-0.984425</td>\n",
       "      <td>-1.087501</td>\n",
       "      <td>-0.101668</td>\n",
       "      <td>-0.469117</td>\n",
       "      <td>-0.156926</td>\n",
       "      <td>-0.652955</td>\n",
       "      <td>3.106410</td>\n",
       "      <td>2.971509</td>\n",
       "      <td>neptune</td>\n",
       "      <td>2</td>\n",
       "    </tr>\n",
       "    <tr>\n",
       "      <th>112445</th>\n",
       "      <td>-0.109923</td>\n",
       "      <td>tcp</td>\n",
       "      <td>http</td>\n",
       "      <td>SF</td>\n",
       "      <td>-0.006697</td>\n",
       "      <td>-0.004444</td>\n",
       "      <td>-0.08804</td>\n",
       "      <td>-0.08037</td>\n",
       "      <td>1.238582</td>\n",
       "      <td>-0.010951</td>\n",
       "      <td>...</td>\n",
       "      <td>1.256222</td>\n",
       "      <td>1.075846</td>\n",
       "      <td>-0.443793</td>\n",
       "      <td>-0.402743</td>\n",
       "      <td>-0.156926</td>\n",
       "      <td>-0.652955</td>\n",
       "      <td>-0.325076</td>\n",
       "      <td>-0.338030</td>\n",
       "      <td>normal</td>\n",
       "      <td>0</td>\n",
       "    </tr>\n",
       "  </tbody>\n",
       "</table>\n",
       "<p>108616 rows × 32 columns</p>\n",
       "</div>"
      ],
      "text/plain": [
       "        duration protocol_type  service  flag  src_bytes  dst_bytes  \\\n",
       "0      -0.109923           tcp  private    SH  -0.006743  -0.005030   \n",
       "1      -0.109923           tcp  private    S0  -0.006743  -0.005030   \n",
       "2      -0.109923           tcp     http    SF  -0.006687  -0.004194   \n",
       "3      -0.109923           tcp     http    SF  -0.006697  -0.004896   \n",
       "4      -0.109544           tcp     smtp    SF  -0.006531  -0.004955   \n",
       "...          ...           ...      ...   ...        ...        ...   \n",
       "112440 -0.108028           tcp     smtp    SF  -0.006473  -0.004955   \n",
       "112442 -0.109923           tcp     http    SF  -0.006682  -0.004855   \n",
       "112443 -0.109923           tcp     http    SF  -0.006672  -0.004864   \n",
       "112444 -0.109923           tcp  discard  RSTO  -0.006743  -0.005030   \n",
       "112445 -0.109923           tcp     http    SF  -0.006697  -0.004444   \n",
       "\n",
       "        wrong_fragment      hot  logged_in  num_compromised  ...  \\\n",
       "0             -0.08804 -0.08037  -0.807375        -0.010951  ...   \n",
       "1             -0.08804 -0.08037  -0.807375        -0.010951  ...   \n",
       "2             -0.08804 -0.08037   1.238582        -0.010951  ...   \n",
       "3             -0.08804 -0.08037   1.238582        -0.010951  ...   \n",
       "4             -0.08804 -0.08037   1.238582        -0.010951  ...   \n",
       "...                ...      ...        ...              ...  ...   \n",
       "112440        -0.08804 -0.08037   1.238582        -0.010951  ...   \n",
       "112442        -0.08804 -0.08037   1.238582        -0.010951  ...   \n",
       "112443        -0.08804 -0.08037   1.238582        -0.010951  ...   \n",
       "112444        -0.08804 -0.08037  -0.807375        -0.010951  ...   \n",
       "112445        -0.08804 -0.08037   1.238582        -0.010951  ...   \n",
       "\n",
       "        dst_host_srv_count  dst_host_same_srv_rate  dst_host_diff_srv_rate  \\\n",
       "0                -1.038634               -1.132106                4.916170   \n",
       "1                -1.002495               -1.109803                0.012374   \n",
       "2                 1.012281                1.075846               -0.443793   \n",
       "3                 1.256222                1.075846               -0.443793   \n",
       "4                 0.343701                0.139139               -0.329751   \n",
       "...                    ...                     ...                     ...   \n",
       "112440            0.009410                0.317560               -0.272730   \n",
       "112442            1.256222                1.075846               -0.443793   \n",
       "112443            1.256222                1.075846               -0.443793   \n",
       "112444           -0.984425               -1.087501               -0.101668   \n",
       "112445            1.256222                1.075846               -0.443793   \n",
       "\n",
       "        dst_host_same_src_port_rate  dst_host_srv_diff_host_rate  \\\n",
       "0                          2.683669                    -0.156926   \n",
       "1                         -0.469117                    -0.156926   \n",
       "2                         -0.435930                    -0.156926   \n",
       "3                          0.095066                    -0.156926   \n",
       "4                         -0.469117                    -0.156926   \n",
       "...                             ...                          ...   \n",
       "112440                    -0.435930                    -0.156926   \n",
       "112442                    -0.402743                    -0.156926   \n",
       "112443                    -0.469117                    -0.156926   \n",
       "112444                    -0.469117                    -0.156926   \n",
       "112445                    -0.402743                    -0.156926   \n",
       "\n",
       "        dst_host_serror_rate  dst_host_rerror_rate  dst_host_srv_rerror_rate  \\\n",
       "0                   1.459975             -0.325076                 -0.338030   \n",
       "1                   1.571182             -0.325076                 -0.338030   \n",
       "2                  -0.652955             -0.325076                 -0.338030   \n",
       "3                  -0.652955             -0.325076                 -0.338030   \n",
       "4                  -0.652955             -0.325076                 -0.338030   \n",
       "...                      ...                   ...                       ...   \n",
       "112440             -0.652955             -0.325076                 -0.338030   \n",
       "112442             -0.608472             -0.325076                 -0.338030   \n",
       "112443             -0.652955             -0.325076                 -0.338030   \n",
       "112444             -0.652955              3.106410                  2.971509   \n",
       "112445             -0.652955             -0.325076                 -0.338030   \n",
       "\n",
       "        type_of_attack  toa_label  \n",
       "0                 nmap          4  \n",
       "1              neptune          2  \n",
       "2               normal          0  \n",
       "3               normal          0  \n",
       "4               normal          0  \n",
       "...                ...        ...  \n",
       "112440          normal          0  \n",
       "112442          normal          0  \n",
       "112443          normal          0  \n",
       "112444         neptune          2  \n",
       "112445          normal          0  \n",
       "\n",
       "[108616 rows x 32 columns]"
      ]
     },
     "execution_count": 147,
     "metadata": {},
     "output_type": "execute_result"
    }
   ],
   "source": [
    "toa_df"
   ]
  },
  {
   "cell_type": "code",
   "execution_count": 148,
   "metadata": {},
   "outputs": [
    {
     "data": {
      "image/png": "[encoded data removed]",
      "text/plain": [
       "<Figure size 300x200 with 1 Axes>"
      ]
     },
     "metadata": {},
     "output_type": "display_data"
    }
   ],
   "source": [
    "# Menghitung jumlah 'normal' dan 'abnormal' dalam kolom 'label'\n",
    "label_counts = toa_df['type_of_attack'].value_counts()\n",
    "\n",
    "# Membuat bar chart\n",
    "plt.figure(figsize=(3, 2))\n",
    "plt.bar(label_counts.index, label_counts.values)\n",
    "plt.xlabel('Label')\n",
    "plt.ylabel('Count')\n",
    "plt.title('Distribution of Type of Attack Labels')\n",
    "plt.xticks(rotation=90)\n",
    "plt.show()"
   ]
  },
  {
   "cell_type": "markdown",
   "metadata": {},
   "source": [
    "### 2.2. Save Multiclass Data"
   ]
  },
  {
   "cell_type": "markdown",
   "metadata": {},
   "source": [
    "#### attack.csv"
   ]
  },
  {
   "cell_type": "code",
   "execution_count": 149,
   "metadata": {},
   "outputs": [],
   "source": [
    "# Feature\n",
    "X_bin\n",
    "# Target\n",
    "y_attack = attack_df[['attack','attack_label']]"
   ]
  },
  {
   "cell_type": "code",
   "execution_count": 150,
   "metadata": {},
   "outputs": [],
   "source": [
    "# Menggabungkan X_bin dengan y_attack\n",
    "attack_df = pd.concat([X_bin, y_attack], axis=1)\n",
    "\n",
    "# Simpan sebagai file CSV\n",
    "attack_df.to_csv('D:\\DAC-2023\\Dataset\\\\attack.csv', index=False)"
   ]
  },
  {
   "cell_type": "markdown",
   "metadata": {},
   "source": [
    "#### toa.csv"
   ]
  },
  {
   "cell_type": "code",
   "execution_count": 151,
   "metadata": {},
   "outputs": [],
   "source": [
    "# Feature\n",
    "X_bin\n",
    "# Target\n",
    "y_toa = toa_df[['type_of_attack','toa_label']]"
   ]
  },
  {
   "cell_type": "code",
   "execution_count": 152,
   "metadata": {},
   "outputs": [],
   "source": [
    "# Menggabungkan X_bin dengan y_toa\n",
    "toa_df = pd.concat([X_bin, y_attack], axis=1)\n",
    "\n",
    "# Simpan sebagai file CSV\n",
    "toa_df.to_csv('D:\\DAC-2023\\Dataset\\\\toa.csv', index=False)"
   ]
  },
  {
   "cell_type": "markdown",
   "metadata": {},
   "source": [
    "# **Feature Selection**"
   ]
  },
  {
   "cell_type": "markdown",
   "metadata": {},
   "source": [
    "### 1. Train and Test Sets"
   ]
  },
  {
   "cell_type": "code",
   "execution_count": null,
   "metadata": {},
   "outputs": [],
   "source": [
    "# separate train and test sets\n",
    "X_train, X_test, y_train, y_test = train_test_split(\n",
    "    X,\n",
    "    y['target'],\n",
    "    test_size=0.2,\n",
    "    random_state=5)\n",
    "\n",
    "X_train.shape, X_test.shape, y_train.shape, y_test.shape"
   ]
  },
  {
   "cell_type": "markdown",
   "metadata": {},
   "source": [
    "### 2. RFE - Random Forest"
   ]
  },
  {
   "cell_type": "code",
   "execution_count": null,
   "metadata": {},
   "outputs": [],
   "source": [
    "# Initialize the RandomForestClassifier\n",
    "rfc = RandomForestClassifier()\n",
    "\n",
    "# Initialize the RFE with the RandomForestClassifier\n",
    "rfe = RFE(rfc, n_features_to_select=10)\n",
    "\n",
    "# Fit the RFE to the training data\n",
    "rfe = rfe.fit(X_train, y_train)\n",
    "\n",
    "# Get the support from RFE, indicating which features are selected\n",
    "support = rfe.support_\n",
    "\n",
    "# Get the ranking from RFE, indicating the importance ranking of features\n",
    "ranking = rfe.ranking_\n",
    "\n",
    "# Initialize a list to store selected features\n",
    "selected_features = []\n",
    "\n",
    "# Initialize a list to store AUC scores at each iteration\n",
    "auc_scores = []\n",
    "\n",
    "# Loop through the selected features and compute AUC at each iteration\n",
    "for i, (is_selected, feature) in enumerate(zip(support, X_train.columns)):\n",
    "    if is_selected:\n",
    "        selected_features.append(feature)\n",
    "        # Train a model with the selected features\n",
    "        rfc.fit(X_train[selected_features], y_train)\n",
    "        # Make predictions on the test set\n",
    "        y_pred = rfc.predict_proba(X_test[selected_features])[:, 1]\n",
    "        # Calculate the AUC score\n",
    "        auc = roc_auc_score(y_test, y_pred)\n",
    "        auc_scores.append(auc)\n",
    "        print(f\"Iteration {i + 1}: AUC = {auc:.4f}\")\n",
    "\n",
    "# Now 'selected_features' contains the final selected features\n",
    "# 'auc_scores' contains the AUC scores at each iteration\n"
   ]
  },
  {
   "cell_type": "code",
   "execution_count": null,
   "metadata": {},
   "outputs": [],
   "source": [
    "selected_features"
   ]
  },
  {
   "cell_type": "markdown",
   "metadata": {},
   "source": [
    "### 3. RFA - Random Forest"
   ]
  },
  {
   "cell_type": "code",
   "execution_count": null,
   "metadata": {},
   "outputs": [],
   "source": [
    "# Initialize the RandomForestClassifier\n",
    "rfc = RandomForestClassifier()\n",
    "\n",
    "# Initialize empty lists to store selected features and AUC scores\n",
    "selected_features = []\n",
    "auc_scores = []\n",
    "\n",
    "# Initialize a list of all features\n",
    "all_features = X_train.columns.tolist()\n",
    "\n",
    "# Initialize a variable to store the best AUC score\n",
    "best_auc = 0\n",
    "\n",
    "# Loop through the features and add them one by one based on AUC improvement\n",
    "while len(all_features) > 0:\n",
    "    best_feature = None\n",
    "    for feature in all_features:\n",
    "        # Try adding the feature to the selected features\n",
    "        current_features = selected_features + [feature]\n",
    "        # Train a model with the current selected features\n",
    "        rfc.fit(X_train[current_features], y_train)\n",
    "        # Make predictions on the test set\n",
    "        y_pred = rfc.predict_proba(X_test[current_features])[:, 1]\n",
    "        # Calculate the AUC score\n",
    "        auc = roc_auc_score(y_test, y_pred)\n",
    "        # Check if the AUC improved\n",
    "        if auc > best_auc:\n",
    "            best_auc = auc\n",
    "            best_feature = feature\n",
    "    if best_feature is not None:\n",
    "        selected_features.append(best_feature)\n",
    "        auc_scores.append(best_auc)\n",
    "        all_features.remove(best_feature)\n",
    "        print(f\"Selected Feature: {best_feature}, AUC = {best_auc:.4f}\")\n",
    "    else:\n",
    "        break\n",
    "\n",
    "# Now 'selected_features' contains the final selected features\n",
    "# 'auc_scores' contains the AUC scores at each iteration"
   ]
  },
  {
   "cell_type": "code",
   "execution_count": null,
   "metadata": {},
   "outputs": [],
   "source": [
    "selected_features"
   ]
  },
  {
   "cell_type": "markdown",
   "metadata": {},
   "source": [
    "### 4. RFE - Gradient Boosting"
   ]
  },
  {
   "cell_type": "code",
   "execution_count": null,
   "metadata": {},
   "outputs": [],
   "source": [
    "# the ML model for which we want to select features\n",
    "model = GradientBoostingClassifier(\n",
    "    n_estimators=10,\n",
    "    max_depth=2,\n",
    "    random_state=10\n",
    ")\n",
    "\n",
    "# Setup the RFE selector\n",
    "\n",
    "sel = RecursiveFeatureElimination(\n",
    "    variables=None, # automatically evaluate all numerical variables\n",
    "    estimator = model, # the ML model\n",
    "    scoring = 'roc_auc', # the metric we want to evalute\n",
    "    threshold = 0.0005, # the maximum performance drop allowed to remove a feature\n",
    "    cv=2, # cross-validation\n",
    ")\n",
    "\n",
    "# this may take quite a while, because\n",
    "# we are building a lot of models with cross-validation\n",
    "sel.fit(X_train, y_train)"
   ]
  },
  {
   "cell_type": "code",
   "execution_count": null,
   "metadata": {},
   "outputs": [],
   "source": [
    "# performance of model trained using all features\n",
    "sel.initial_model_performance_"
   ]
  },
  {
   "cell_type": "code",
   "execution_count": null,
   "metadata": {},
   "outputs": [],
   "source": [
    "all_columns = X_train.columns.tolist()\n",
    "\n",
    "# List of columns to be dropped\n",
    "columns_to_drop = sel.features_to_drop_\n",
    "\n",
    "# Find columns that are not in the list of columns to drop\n",
    "columns_to_keep = [col for col in all_columns if col not in columns_to_drop]\n",
    "\n",
    "# Now, 'columns_to_keep' contains the columns that are not in the list of columns to drop\n",
    "print(\"Columns to keep:\")\n",
    "print(columns_to_keep)"
   ]
  },
  {
   "cell_type": "markdown",
   "metadata": {},
   "source": [
    "### 4. RFA - Gradient Boosting"
   ]
  },
  {
   "cell_type": "code",
   "execution_count": null,
   "metadata": {},
   "outputs": [],
   "source": [
    "# Setup the RFA selector\n",
    "rfa = RecursiveFeatureAddition(\n",
    "    variables=None,  # automatically evaluate all numerical variables\n",
    "    estimator=model,  # the ML model\n",
    "    scoring='roc_auc',  # the metric we want to evalute\n",
    "    threshold=0.0001,  # the minimum performance increase needed to select a feature\n",
    "    cv=2,  # cross-validation\n",
    ")\n",
    "\n",
    "rfa.fit(X_train, y_train)"
   ]
  },
  {
   "cell_type": "code",
   "execution_count": null,
   "metadata": {},
   "outputs": [],
   "source": [
    "# performance of model trained using all features\n",
    "\n",
    "rfa.initial_model_performance_"
   ]
  },
  {
   "cell_type": "code",
   "execution_count": null,
   "metadata": {},
   "outputs": [],
   "source": [
    "all_columns = X_train.columns.tolist()\n",
    "\n",
    "# List of columns to be dropped\n",
    "columns_to_drop = sel.features_to_drop_\n",
    "\n",
    "# Find columns that are not in the list of columns to drop\n",
    "columns_to_keep = [col for col in all_columns if col not in columns_to_drop]\n",
    "\n",
    "# Now, 'columns_to_keep' contains the columns that are not in the list of columns to drop\n",
    "print(\"Columns to keep:\")\n",
    "print(columns_to_keep)"
   ]
  }
 ],
 "metadata": {
  "kernelspec": {
   "display_name": "dac23",
   "language": "python",
   "name": "python3"
  },
  "language_info": {
   "codemirror_mode": {
    "name": "ipython",
    "version": 3
   },
   "file_extension": ".py",
   "mimetype": "text/x-python",
   "name": "python",
   "nbconvert_exporter": "python",
   "pygments_lexer": "ipython3",
   "version": "3.9.0"
  },
  "orig_nbformat": 4
 },
 "nbformat": 4,
 "nbformat_minor": 2
}

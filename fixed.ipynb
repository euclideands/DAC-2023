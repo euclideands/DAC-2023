{
 "cells": [
  {
   "cell_type": "markdown",
   "metadata": {},
   "source": [
    "# Import Library"
   ]
  },
  {
   "cell_type": "code",
   "execution_count": 1,
   "metadata": {},
   "outputs": [],
   "source": [
    "import numpy as np\n",
    "import pandas as pd\n",
    "import matplotlib.pyplot as plt\n",
    "import seaborn as sns\n",
    "import matplotlib.pyplot as plt\n",
    "import plotly.express as px\n",
    "\n",
    "from scipy.stats import spearmanr\n",
    "from sklearn.preprocessing import MinMaxScaler\n",
    "from ydata_profiling import ProfileReport\n",
    "from scipy.interpolate import PchipInterpolator\n",
    "from imblearn.combine import SMOTEENN\n",
    "from sklearn.model_selection import train_test_split"
   ]
  },
  {
   "cell_type": "markdown",
   "metadata": {},
   "source": [
    "# Import Dataset"
   ]
  },
  {
   "cell_type": "code",
   "execution_count": 2,
   "metadata": {},
   "outputs": [
    {
     "data": {
      "text/plain": [
       "(112446, 42)"
      ]
     },
     "execution_count": 2,
     "metadata": {},
     "output_type": "execute_result"
    }
   ],
   "source": [
    "# Path to training dataset\n",
    "train_PATH = 'D:\\DAC-2023\\Dataset\\DataTrain_Preliminary.csv'\n",
    "\n",
    "# Load dataset\n",
    "df = pd.read_csv(train_PATH, delimiter=';')\n",
    "df.shape"
   ]
  },
  {
   "cell_type": "code",
   "execution_count": 3,
   "metadata": {},
   "outputs": [
    {
     "name": "stdout",
     "output_type": "stream",
     "text": [
      "<class 'pandas.core.frame.DataFrame'>\n",
      "RangeIndex: 112446 entries, 0 to 112445\n",
      "Data columns (total 42 columns):\n",
      " #   Column                       Non-Null Count   Dtype  \n",
      "---  ------                       --------------   -----  \n",
      " 0   duration                     112446 non-null  object \n",
      " 1   protocol_type                111778 non-null  object \n",
      " 2   service                      111426 non-null  object \n",
      " 3   flag                         111593 non-null  object \n",
      " 4   src_bytes                    112446 non-null  object \n",
      " 5   dst_bytes                    112446 non-null  object \n",
      " 6   land                         112446 non-null  object \n",
      " 7   wrong_fragment               112446 non-null  object \n",
      " 8   urgent                       112446 non-null  object \n",
      " 9   hot                          112446 non-null  object \n",
      " 10  num_failed_logins            112446 non-null  object \n",
      " 11  logged_in                    112446 non-null  object \n",
      " 12  num_compromised              112446 non-null  object \n",
      " 13  root_shell                   112446 non-null  object \n",
      " 14  su_attempted                 112446 non-null  object \n",
      " 15  num_root                     112446 non-null  object \n",
      " 16  num_file_creations           112446 non-null  object \n",
      " 17  num_shells                   112446 non-null  object \n",
      " 18  num_access_files             112446 non-null  object \n",
      " 19  num_outbound_cmds            112446 non-null  object \n",
      " 20  is_host_login                112446 non-null  object \n",
      " 21  is_guest_login               112446 non-null  object \n",
      " 22  count                        112446 non-null  object \n",
      " 23  srv_count                    112446 non-null  object \n",
      " 24  serror_rate                  112446 non-null  object \n",
      " 25  srv_serror_rate              112446 non-null  object \n",
      " 26  rerror_rate                  112446 non-null  object \n",
      " 27  srv_rerror_rate              112446 non-null  object \n",
      " 28  same_srv_rate                112446 non-null  object \n",
      " 29  diff_srv_rate                112446 non-null  object \n",
      " 30  srv_diff_host_rate           112446 non-null  object \n",
      " 31  dst_host_count               112446 non-null  object \n",
      " 32  dst_host_srv_count           112446 non-null  object \n",
      " 33  dst_host_same_srv_rate       112118 non-null  float64\n",
      " 34  dst_host_diff_srv_rate       112203 non-null  float64\n",
      " 35  dst_host_same_src_port_rate  112008 non-null  float64\n",
      " 36  dst_host_srv_diff_host_rate  112446 non-null  object \n",
      " 37  dst_host_serror_rate         112018 non-null  float64\n",
      " 38  dst_host_srv_serror_rate     112446 non-null  object \n",
      " 39  dst_host_rerror_rate         112446 non-null  object \n",
      " 40  dst_host_srv_rerror_rate     112446 non-null  object \n",
      " 41  type_of_attack               112446 non-null  object \n",
      "dtypes: float64(4), object(38)\n",
      "memory usage: 36.0+ MB\n"
     ]
    }
   ],
   "source": [
    "df.info()"
   ]
  },
  {
   "cell_type": "markdown",
   "metadata": {},
   "source": [
    "# Data Cleaning"
   ]
  },
  {
   "cell_type": "markdown",
   "metadata": {},
   "source": [
    "## 1. Investigate Unique Value"
   ]
  },
  {
   "cell_type": "code",
   "execution_count": 4,
   "metadata": {},
   "outputs": [
    {
     "name": "stdout",
     "output_type": "stream",
     "text": [
      "Unique types of missing values found in the DataFrame:\n",
      "{nan, '999', '99999', '*'}\n",
      "Rows containing unique missing value types:\n"
     ]
    },
    {
     "data": {
      "text/html": [
       "<div>\n",
       "<style scoped>\n",
       "    .dataframe tbody tr th:only-of-type {\n",
       "        vertical-align: middle;\n",
       "    }\n",
       "\n",
       "    .dataframe tbody tr th {\n",
       "        vertical-align: top;\n",
       "    }\n",
       "\n",
       "    .dataframe thead th {\n",
       "        text-align: right;\n",
       "    }\n",
       "</style>\n",
       "<table border=\"1\" class=\"dataframe\">\n",
       "  <thead>\n",
       "    <tr style=\"text-align: right;\">\n",
       "      <th></th>\n",
       "      <th>duration</th>\n",
       "      <th>protocol_type</th>\n",
       "      <th>service</th>\n",
       "      <th>flag</th>\n",
       "      <th>src_bytes</th>\n",
       "      <th>dst_bytes</th>\n",
       "      <th>land</th>\n",
       "      <th>wrong_fragment</th>\n",
       "      <th>urgent</th>\n",
       "      <th>hot</th>\n",
       "      <th>...</th>\n",
       "      <th>dst_host_srv_count</th>\n",
       "      <th>dst_host_same_srv_rate</th>\n",
       "      <th>dst_host_diff_srv_rate</th>\n",
       "      <th>dst_host_same_src_port_rate</th>\n",
       "      <th>dst_host_srv_diff_host_rate</th>\n",
       "      <th>dst_host_serror_rate</th>\n",
       "      <th>dst_host_srv_serror_rate</th>\n",
       "      <th>dst_host_rerror_rate</th>\n",
       "      <th>dst_host_srv_rerror_rate</th>\n",
       "      <th>type_of_attack</th>\n",
       "    </tr>\n",
       "  </thead>\n",
       "  <tbody>\n",
       "    <tr>\n",
       "      <th>1</th>\n",
       "      <td>0</td>\n",
       "      <td>tcp</td>\n",
       "      <td>private</td>\n",
       "      <td>S0</td>\n",
       "      <td>0</td>\n",
       "      <td>0</td>\n",
       "      <td>0</td>\n",
       "      <td>0</td>\n",
       "      <td>0</td>\n",
       "      <td>0</td>\n",
       "      <td>...</td>\n",
       "      <td>5</td>\n",
       "      <td>0.02</td>\n",
       "      <td>0.08</td>\n",
       "      <td>0.00</td>\n",
       "      <td>0</td>\n",
       "      <td>1.00</td>\n",
       "      <td>1</td>\n",
       "      <td>0</td>\n",
       "      <td>0</td>\n",
       "      <td>neptune</td>\n",
       "    </tr>\n",
       "    <tr>\n",
       "      <th>2</th>\n",
       "      <td>0</td>\n",
       "      <td>tcp</td>\n",
       "      <td>http</td>\n",
       "      <td>SF</td>\n",
       "      <td>285</td>\n",
       "      <td>3623</td>\n",
       "      <td>0</td>\n",
       "      <td>0</td>\n",
       "      <td>0</td>\n",
       "      <td>0</td>\n",
       "      <td>...</td>\n",
       "      <td>228</td>\n",
       "      <td>1.00</td>\n",
       "      <td>0.00</td>\n",
       "      <td>0.01</td>\n",
       "      <td>*</td>\n",
       "      <td>0.00</td>\n",
       "      <td>0</td>\n",
       "      <td>0</td>\n",
       "      <td>0</td>\n",
       "      <td>normal</td>\n",
       "    </tr>\n",
       "    <tr>\n",
       "      <th>3</th>\n",
       "      <td>0</td>\n",
       "      <td>tcp</td>\n",
       "      <td>http</td>\n",
       "      <td>SF</td>\n",
       "      <td>232</td>\n",
       "      <td>584</td>\n",
       "      <td>0</td>\n",
       "      <td>0</td>\n",
       "      <td>0</td>\n",
       "      <td>0</td>\n",
       "      <td>...</td>\n",
       "      <td>255</td>\n",
       "      <td>1.00</td>\n",
       "      <td>0.00</td>\n",
       "      <td>0.17</td>\n",
       "      <td>*</td>\n",
       "      <td>0.00</td>\n",
       "      <td>0</td>\n",
       "      <td>0</td>\n",
       "      <td>0</td>\n",
       "      <td>normal</td>\n",
       "    </tr>\n",
       "    <tr>\n",
       "      <th>4</th>\n",
       "      <td>1</td>\n",
       "      <td>tcp</td>\n",
       "      <td>smtp</td>\n",
       "      <td>SF</td>\n",
       "      <td>1080</td>\n",
       "      <td>327</td>\n",
       "      <td>0</td>\n",
       "      <td>0</td>\n",
       "      <td>0</td>\n",
       "      <td>0</td>\n",
       "      <td>...</td>\n",
       "      <td>154</td>\n",
       "      <td>0.58</td>\n",
       "      <td>0.02</td>\n",
       "      <td>0.00</td>\n",
       "      <td>*</td>\n",
       "      <td>0.00</td>\n",
       "      <td>0</td>\n",
       "      <td>0</td>\n",
       "      <td>0</td>\n",
       "      <td>normal</td>\n",
       "    </tr>\n",
       "    <tr>\n",
       "      <th>5</th>\n",
       "      <td>0</td>\n",
       "      <td>tcp</td>\n",
       "      <td>discard</td>\n",
       "      <td>S0</td>\n",
       "      <td>0</td>\n",
       "      <td>0</td>\n",
       "      <td>0</td>\n",
       "      <td>0</td>\n",
       "      <td>0</td>\n",
       "      <td>0</td>\n",
       "      <td>...</td>\n",
       "      <td>18</td>\n",
       "      <td>0.07</td>\n",
       "      <td>0.05</td>\n",
       "      <td>0.00</td>\n",
       "      <td>0</td>\n",
       "      <td>1.00</td>\n",
       "      <td>1</td>\n",
       "      <td>0</td>\n",
       "      <td>0</td>\n",
       "      <td>neptune</td>\n",
       "    </tr>\n",
       "    <tr>\n",
       "      <th>...</th>\n",
       "      <td>...</td>\n",
       "      <td>...</td>\n",
       "      <td>...</td>\n",
       "      <td>...</td>\n",
       "      <td>...</td>\n",
       "      <td>...</td>\n",
       "      <td>...</td>\n",
       "      <td>...</td>\n",
       "      <td>...</td>\n",
       "      <td>...</td>\n",
       "      <td>...</td>\n",
       "      <td>...</td>\n",
       "      <td>...</td>\n",
       "      <td>...</td>\n",
       "      <td>...</td>\n",
       "      <td>...</td>\n",
       "      <td>...</td>\n",
       "      <td>...</td>\n",
       "      <td>...</td>\n",
       "      <td>...</td>\n",
       "      <td>...</td>\n",
       "    </tr>\n",
       "    <tr>\n",
       "      <th>112441</th>\n",
       "      <td>0</td>\n",
       "      <td>tcp</td>\n",
       "      <td>http</td>\n",
       "      <td>REJ</td>\n",
       "      <td>0</td>\n",
       "      <td>0</td>\n",
       "      <td>0</td>\n",
       "      <td>0</td>\n",
       "      <td>0</td>\n",
       "      <td>0</td>\n",
       "      <td>...</td>\n",
       "      <td>255</td>\n",
       "      <td>1.00</td>\n",
       "      <td>0.00</td>\n",
       "      <td>0.14</td>\n",
       "      <td>*</td>\n",
       "      <td>0.00</td>\n",
       "      <td>0</td>\n",
       "      <td>*</td>\n",
       "      <td>*</td>\n",
       "      <td>normal</td>\n",
       "    </tr>\n",
       "    <tr>\n",
       "      <th>112442</th>\n",
       "      <td>0</td>\n",
       "      <td>tcp</td>\n",
       "      <td>http</td>\n",
       "      <td>SF</td>\n",
       "      <td>309</td>\n",
       "      <td>758</td>\n",
       "      <td>0</td>\n",
       "      <td>0</td>\n",
       "      <td>0</td>\n",
       "      <td>0</td>\n",
       "      <td>...</td>\n",
       "      <td>255</td>\n",
       "      <td>1.00</td>\n",
       "      <td>0.00</td>\n",
       "      <td>0.02</td>\n",
       "      <td>*</td>\n",
       "      <td>0.02</td>\n",
       "      <td>*</td>\n",
       "      <td>0</td>\n",
       "      <td>0</td>\n",
       "      <td>normal</td>\n",
       "    </tr>\n",
       "    <tr>\n",
       "      <th>112443</th>\n",
       "      <td>0</td>\n",
       "      <td>tcp</td>\n",
       "      <td>http</td>\n",
       "      <td>SF</td>\n",
       "      <td>363</td>\n",
       "      <td>721</td>\n",
       "      <td>0</td>\n",
       "      <td>0</td>\n",
       "      <td>0</td>\n",
       "      <td>0</td>\n",
       "      <td>...</td>\n",
       "      <td>255</td>\n",
       "      <td>1.00</td>\n",
       "      <td>0.00</td>\n",
       "      <td>0.00</td>\n",
       "      <td>0</td>\n",
       "      <td>0.00</td>\n",
       "      <td>0</td>\n",
       "      <td>0</td>\n",
       "      <td>0</td>\n",
       "      <td>normal</td>\n",
       "    </tr>\n",
       "    <tr>\n",
       "      <th>112444</th>\n",
       "      <td>0</td>\n",
       "      <td>tcp</td>\n",
       "      <td>discard</td>\n",
       "      <td>RSTO</td>\n",
       "      <td>0</td>\n",
       "      <td>0</td>\n",
       "      <td>0</td>\n",
       "      <td>0</td>\n",
       "      <td>0</td>\n",
       "      <td>0</td>\n",
       "      <td>...</td>\n",
       "      <td>7</td>\n",
       "      <td>0.03</td>\n",
       "      <td>0.06</td>\n",
       "      <td>0.00</td>\n",
       "      <td>0</td>\n",
       "      <td>0.00</td>\n",
       "      <td>0</td>\n",
       "      <td>1</td>\n",
       "      <td>1</td>\n",
       "      <td>neptune</td>\n",
       "    </tr>\n",
       "    <tr>\n",
       "      <th>112445</th>\n",
       "      <td>0</td>\n",
       "      <td>tcp</td>\n",
       "      <td>http</td>\n",
       "      <td>SF</td>\n",
       "      <td>233</td>\n",
       "      <td>2538</td>\n",
       "      <td>0</td>\n",
       "      <td>0</td>\n",
       "      <td>0</td>\n",
       "      <td>0</td>\n",
       "      <td>...</td>\n",
       "      <td>255</td>\n",
       "      <td>1.00</td>\n",
       "      <td>0.00</td>\n",
       "      <td>0.02</td>\n",
       "      <td>*</td>\n",
       "      <td>0.00</td>\n",
       "      <td>0</td>\n",
       "      <td>0</td>\n",
       "      <td>0</td>\n",
       "      <td>normal</td>\n",
       "    </tr>\n",
       "  </tbody>\n",
       "</table>\n",
       "<p>96224 rows × 42 columns</p>\n",
       "</div>"
      ],
      "text/plain": [
       "       duration protocol_type  service  flag src_bytes dst_bytes land  \\\n",
       "1             0           tcp  private    S0         0         0    0   \n",
       "2             0           tcp     http    SF       285      3623    0   \n",
       "3             0           tcp     http    SF       232       584    0   \n",
       "4             1           tcp     smtp    SF      1080       327    0   \n",
       "5             0           tcp  discard    S0         0         0    0   \n",
       "...         ...           ...      ...   ...       ...       ...  ...   \n",
       "112441        0           tcp     http   REJ         0         0    0   \n",
       "112442        0           tcp     http    SF       309       758    0   \n",
       "112443        0           tcp     http    SF       363       721    0   \n",
       "112444        0           tcp  discard  RSTO         0         0    0   \n",
       "112445        0           tcp     http    SF       233      2538    0   \n",
       "\n",
       "       wrong_fragment urgent hot  ... dst_host_srv_count  \\\n",
       "1                   0      0   0  ...                  5   \n",
       "2                   0      0   0  ...                228   \n",
       "3                   0      0   0  ...                255   \n",
       "4                   0      0   0  ...                154   \n",
       "5                   0      0   0  ...                 18   \n",
       "...               ...    ...  ..  ...                ...   \n",
       "112441              0      0   0  ...                255   \n",
       "112442              0      0   0  ...                255   \n",
       "112443              0      0   0  ...                255   \n",
       "112444              0      0   0  ...                  7   \n",
       "112445              0      0   0  ...                255   \n",
       "\n",
       "       dst_host_same_srv_rate dst_host_diff_srv_rate  \\\n",
       "1                        0.02                   0.08   \n",
       "2                        1.00                   0.00   \n",
       "3                        1.00                   0.00   \n",
       "4                        0.58                   0.02   \n",
       "5                        0.07                   0.05   \n",
       "...                       ...                    ...   \n",
       "112441                   1.00                   0.00   \n",
       "112442                   1.00                   0.00   \n",
       "112443                   1.00                   0.00   \n",
       "112444                   0.03                   0.06   \n",
       "112445                   1.00                   0.00   \n",
       "\n",
       "       dst_host_same_src_port_rate dst_host_srv_diff_host_rate  \\\n",
       "1                             0.00                           0   \n",
       "2                             0.01                           *   \n",
       "3                             0.17                           *   \n",
       "4                             0.00                           *   \n",
       "5                             0.00                           0   \n",
       "...                            ...                         ...   \n",
       "112441                        0.14                           *   \n",
       "112442                        0.02                           *   \n",
       "112443                        0.00                           0   \n",
       "112444                        0.00                           0   \n",
       "112445                        0.02                           *   \n",
       "\n",
       "       dst_host_serror_rate dst_host_srv_serror_rate dst_host_rerror_rate  \\\n",
       "1                      1.00                        1                    0   \n",
       "2                      0.00                        0                    0   \n",
       "3                      0.00                        0                    0   \n",
       "4                      0.00                        0                    0   \n",
       "5                      1.00                        1                    0   \n",
       "...                     ...                      ...                  ...   \n",
       "112441                 0.00                        0                    *   \n",
       "112442                 0.02                        *                    0   \n",
       "112443                 0.00                        0                    0   \n",
       "112444                 0.00                        0                    1   \n",
       "112445                 0.00                        0                    0   \n",
       "\n",
       "       dst_host_srv_rerror_rate type_of_attack  \n",
       "1                             0        neptune  \n",
       "2                             0         normal  \n",
       "3                             0         normal  \n",
       "4                             0         normal  \n",
       "5                             0        neptune  \n",
       "...                         ...            ...  \n",
       "112441                        *         normal  \n",
       "112442                        0         normal  \n",
       "112443                        0         normal  \n",
       "112444                        1        neptune  \n",
       "112445                        0         normal  \n",
       "\n",
       "[96224 rows x 42 columns]"
      ]
     },
     "execution_count": 4,
     "metadata": {},
     "output_type": "execute_result"
    }
   ],
   "source": [
    "# Initialize a dictionary to store missing value representations\n",
    "missing_value_representations = ['', ' ', '-', 'NA', 'N/A', '999', '-999', None, np.nan, '*', '9999', '-9999', '99999', '-99999']\n",
    "\n",
    "# Initialize a set to store unique types of missing values\n",
    "unique_missing_value_types = set()\n",
    "\n",
    "# Iterate through columns and check for missing value representations\n",
    "for column in df.columns:\n",
    "    for value in df[column]:\n",
    "        if value in missing_value_representations:\n",
    "            unique_missing_value_types.add(value)\n",
    "\n",
    "# Boolean indexing to filter rows with unique missing value types\n",
    "filtered_df = df[df.apply(lambda row: any(val in unique_missing_value_types for val in row), axis=1)]\n",
    "\n",
    "# Display the filtered DataFrame\n",
    "print(\"Unique types of missing values found in the DataFrame:\")\n",
    "print(unique_missing_value_types)\n",
    "print(\"Rows containing unique missing value types:\")\n",
    "filtered_df"
   ]
  },
  {
   "cell_type": "markdown",
   "metadata": {},
   "source": [
    "## 2. Remove NaN Value"
   ]
  },
  {
   "cell_type": "code",
   "execution_count": 5,
   "metadata": {},
   "outputs": [
    {
     "name": "stdout",
     "output_type": "stream",
     "text": [
      "Number of rows with NaN values in the specified columns: 2442\n"
     ]
    }
   ],
   "source": [
    "# Count rows with NaN values in specific columns\n",
    "columns_to_check = ['protocol_type', 'service', 'flag', 'type_of_attack']\n",
    "nan_rows_count = df[columns_to_check].isnull().any(axis=1).sum()\n",
    "\n",
    "print(\"Number of rows with NaN values in the specified columns:\", nan_rows_count)"
   ]
  },
  {
   "cell_type": "code",
   "execution_count": 6,
   "metadata": {},
   "outputs": [
    {
     "name": "stdout",
     "output_type": "stream",
     "text": [
      "Persentage of rows with NaN value/s: 2.17%\n"
     ]
    }
   ],
   "source": [
    "# Calculate the percentage of rows with missing values in column 'protocol_type', 'service', 'flag', 'type_of_attack'\n",
    "percentage_rows_with_missing = (nan_rows_count / len(df)) * 100\n",
    "print(f\"Persentage of rows with NaN value/s: {percentage_rows_with_missing:.2f}%\")"
   ]
  },
  {
   "cell_type": "markdown",
   "metadata": {},
   "source": [
    "Because it is less then 5%, so we could delete it."
   ]
  },
  {
   "cell_type": "code",
   "execution_count": 7,
   "metadata": {},
   "outputs": [
    {
     "data": {
      "text/plain": [
       "(110004, 42)"
      ]
     },
     "execution_count": 7,
     "metadata": {},
     "output_type": "execute_result"
    }
   ],
   "source": [
    "df = df.dropna(subset=columns_to_check)\n",
    "df.shape"
   ]
  },
  {
   "cell_type": "markdown",
   "metadata": {},
   "source": [
    "## 3. Imputation Method"
   ]
  },
  {
   "cell_type": "markdown",
   "metadata": {},
   "source": [
    "### 3.1. Binary Column"
   ]
  },
  {
   "cell_type": "code",
   "execution_count": 8,
   "metadata": {},
   "outputs": [],
   "source": [
    "# column that is binary (0=no, 1=yes)\n",
    "bin_df = df.copy()\n",
    "bin_df = bin_df[['land','logged_in','root_shell','su_attempted',\n",
    "                'is_host_login','is_guest_login','serror_rate', \n",
    "                'srv_serror_rate','rerror_rate','srv_rerror_rate',\n",
    "                'same_srv_rate','diff_srv_rate','srv_diff_host_rate',\n",
    "                'type_of_attack']]"
   ]
  },
  {
   "cell_type": "code",
   "execution_count": 9,
   "metadata": {},
   "outputs": [],
   "source": [
    "# Function to filter df based on type of attack\n",
    "def filtered_by_type_of_attack(df, values):\n",
    "    filtered = df[df['type_of_attack'] == values]\n",
    "    return filtered\n",
    "\n",
    "# List of unique attack types\n",
    "attack_types = bin_df['type_of_attack'].unique()\n",
    "\n",
    "# Initialize a dictionary to store probabilities for each attack type\n",
    "probability_dict = {}\n",
    "\n",
    "# Iterate through each attack type and store probabilities\n",
    "for attack_type in attack_types:\n",
    "    filtered_data = filtered_by_type_of_attack(bin_df, attack_type)\n",
    "\n",
    "    probability_land = filtered_data['land'].value_counts(normalize=True).get('0', 0)\n",
    "    probability_logged_in = filtered_data['logged_in'].value_counts(normalize=True).get('0', 0)\n",
    "    probability_root_shell = filtered_data['root_shell'].value_counts(normalize=True).get('0', 0)\n",
    "    probability_su_attempted = filtered_data['su_attempted'].value_counts(normalize=True).get('0', 0)\n",
    "    probability_is_host_login = filtered_data['is_host_login'].value_counts(normalize=True).get('0', 0)\n",
    "    probability_is_guest_login = filtered_data['is_guest_login'].value_counts(normalize=True).get('0', 0)\n",
    "    probability_serror_rate = filtered_data['serror_rate'].value_counts(normalize=True).get('0', 0)\n",
    "    probability_srv_serror_rate = filtered_data['srv_serror_rate'].value_counts(normalize=True).get('0', 0)\n",
    "    probability_rerror_rate = filtered_data['rerror_rate'].value_counts(normalize=True).get('0', 0)\n",
    "    probability_srv_rerror_rate = filtered_data['srv_rerror_rate'].value_counts(normalize=True).get('0', 0)\n",
    "    probability_same_srv_rate = filtered_data['same_srv_rate'].value_counts(normalize=True).get('0', 0)\n",
    "    probability_diff_srv_rate = filtered_data['diff_srv_rate'].value_counts(normalize=True).get('0', 0)\n",
    "    probability_srv_diff_host_rate = filtered_data['srv_diff_host_rate'].value_counts(normalize=True).get('0', 0)\n",
    "\n",
    "    # Store probabilities in the dictionary\n",
    "    probability_dict[attack_type] = {\n",
    "        'land': probability_land,\n",
    "        'logged_in': probability_logged_in,\n",
    "        'root_shell': probability_root_shell,\n",
    "        'su_attempted': probability_su_attempted,\n",
    "        'is_host_login': probability_is_host_login,\n",
    "        'is_guest_login': probability_is_guest_login,\n",
    "        'serror_rate': probability_serror_rate,\n",
    "        'srv_serror_rate': probability_srv_serror_rate,\n",
    "        'rerror_rate': probability_rerror_rate,\n",
    "        'srv_rerror_rate': probability_srv_rerror_rate,\n",
    "        'same_srv_rate': probability_same_srv_rate,\n",
    "        'diff_srv_rate': probability_diff_srv_rate,\n",
    "        'srv_diff_host_rate': probability_srv_diff_host_rate\n",
    "    }\n",
    "\n",
    "    # Function to convert '*' and '99999' based on probability\n",
    "    def convert_value(value, probability):\n",
    "      if value == '*' or value == '99999':\n",
    "        random_number = np.random.rand()\n",
    "        if random_number <= probability:\n",
    "          return '0'\n",
    "        else:\n",
    "          return '1'\n",
    "      else:\n",
    "        return value\n",
    "\n",
    "    for column in ['land', 'logged_in', 'root_shell', 'su_attempted', 'is_host_login', 'is_guest_login', \n",
    "                   'serror_rate', 'srv_serror_rate', 'rerror_rate', 'srv_rerror_rate', 'same_srv_rate', \n",
    "                   'diff_srv_rate', 'srv_diff_host_rate']:\n",
    "      # Ambil probabilitas yang sesuai dari dictionary\n",
    "      probability = probability_dict[attack_type][column]\n",
    "\n",
    "      # Terapkan konversi ke seluruh kolom dalam DataFrame yang sesuai dengan jenis serangan saat ini\n",
    "      bin_df.loc[bin_df['type_of_attack'] == attack_type, column] = bin_df.loc[bin_df['type_of_attack'] == attack_type, column].apply(lambda x: convert_value(x, probability))"
   ]
  },
  {
   "cell_type": "code",
   "execution_count": 10,
   "metadata": {},
   "outputs": [],
   "source": [
    "# Delete 'type_of_attack' column\n",
    "bin_df = bin_df.drop('type_of_attack', axis=1)\n",
    "\n",
    "# Mengubah tipe data menjadi numerik\n",
    "bin_df = bin_df.astype(int)"
   ]
  },
  {
   "cell_type": "code",
   "execution_count": 11,
   "metadata": {},
   "outputs": [
    {
     "name": "stdout",
     "output_type": "stream",
     "text": [
      "<class 'pandas.core.frame.DataFrame'>\n",
      "Index: 110004 entries, 0 to 112445\n",
      "Data columns (total 13 columns):\n",
      " #   Column              Non-Null Count   Dtype\n",
      "---  ------              --------------   -----\n",
      " 0   land                110004 non-null  int32\n",
      " 1   logged_in           110004 non-null  int32\n",
      " 2   root_shell          110004 non-null  int32\n",
      " 3   su_attempted        110004 non-null  int32\n",
      " 4   is_host_login       110004 non-null  int32\n",
      " 5   is_guest_login      110004 non-null  int32\n",
      " 6   serror_rate         110004 non-null  int32\n",
      " 7   srv_serror_rate     110004 non-null  int32\n",
      " 8   rerror_rate         110004 non-null  int32\n",
      " 9   srv_rerror_rate     110004 non-null  int32\n",
      " 10  same_srv_rate       110004 non-null  int32\n",
      " 11  diff_srv_rate       110004 non-null  int32\n",
      " 12  srv_diff_host_rate  110004 non-null  int32\n",
      "dtypes: int32(13)\n",
      "memory usage: 6.3 MB\n"
     ]
    }
   ],
   "source": [
    "bin_df.info()"
   ]
  },
  {
   "cell_type": "markdown",
   "metadata": {},
   "source": [
    "### 3.2. Int Column"
   ]
  },
  {
   "cell_type": "code",
   "execution_count": 12,
   "metadata": {},
   "outputs": [],
   "source": [
    "# column that has int value\n",
    "int_df = df.copy()\n",
    "int_df = int_df[['duration','src_bytes','dst_bytes','wrong_fragment',\n",
    "                 'urgent','hot','num_failed_logins','num_compromised',\n",
    "                 'num_root','num_file_creations','num_shells','num_access_files',\n",
    "                 'num_outbound_cmds','count','srv_count','dst_host_count',\n",
    "                 'dst_host_srv_count','type_of_attack']]"
   ]
  },
  {
   "cell_type": "code",
   "execution_count": 13,
   "metadata": {},
   "outputs": [
    {
     "name": "stderr",
     "output_type": "stream",
     "text": [
      "C:\\Users\\nabha\\AppData\\Local\\Temp\\ipykernel_23300\\2018956271.py:41: SettingWithCopyWarning: \n",
      "A value is trying to be set on a copy of a slice from a DataFrame\n",
      "\n",
      "See the caveats in the documentation: https://pandas.pydata.org/pandas-docs/stable/user_guide/indexing.html#returning-a-view-versus-a-copy\n",
      "  filtered_df[column].loc[missing_mask] = np.maximum(0, interpolated_values[missing_mask])\n",
      "C:\\Users\\nabha\\AppData\\Local\\Temp\\ipykernel_23300\\2018956271.py:41: SettingWithCopyWarning: \n",
      "A value is trying to be set on a copy of a slice from a DataFrame\n",
      "\n",
      "See the caveats in the documentation: https://pandas.pydata.org/pandas-docs/stable/user_guide/indexing.html#returning-a-view-versus-a-copy\n",
      "  filtered_df[column].loc[missing_mask] = np.maximum(0, interpolated_values[missing_mask])\n",
      "C:\\Users\\nabha\\AppData\\Local\\Temp\\ipykernel_23300\\2018956271.py:41: SettingWithCopyWarning: \n",
      "A value is trying to be set on a copy of a slice from a DataFrame\n",
      "\n",
      "See the caveats in the documentation: https://pandas.pydata.org/pandas-docs/stable/user_guide/indexing.html#returning-a-view-versus-a-copy\n",
      "  filtered_df[column].loc[missing_mask] = np.maximum(0, interpolated_values[missing_mask])\n",
      "C:\\Users\\nabha\\AppData\\Local\\Temp\\ipykernel_23300\\2018956271.py:41: SettingWithCopyWarning: \n",
      "A value is trying to be set on a copy of a slice from a DataFrame\n",
      "\n",
      "See the caveats in the documentation: https://pandas.pydata.org/pandas-docs/stable/user_guide/indexing.html#returning-a-view-versus-a-copy\n",
      "  filtered_df[column].loc[missing_mask] = np.maximum(0, interpolated_values[missing_mask])\n",
      "C:\\Users\\nabha\\AppData\\Local\\Temp\\ipykernel_23300\\2018956271.py:41: SettingWithCopyWarning: \n",
      "A value is trying to be set on a copy of a slice from a DataFrame\n",
      "\n",
      "See the caveats in the documentation: https://pandas.pydata.org/pandas-docs/stable/user_guide/indexing.html#returning-a-view-versus-a-copy\n",
      "  filtered_df[column].loc[missing_mask] = np.maximum(0, interpolated_values[missing_mask])\n",
      "C:\\Users\\nabha\\AppData\\Local\\Temp\\ipykernel_23300\\2018956271.py:41: SettingWithCopyWarning: \n",
      "A value is trying to be set on a copy of a slice from a DataFrame\n",
      "\n",
      "See the caveats in the documentation: https://pandas.pydata.org/pandas-docs/stable/user_guide/indexing.html#returning-a-view-versus-a-copy\n",
      "  filtered_df[column].loc[missing_mask] = np.maximum(0, interpolated_values[missing_mask])\n",
      "C:\\Users\\nabha\\AppData\\Local\\Temp\\ipykernel_23300\\2018956271.py:41: SettingWithCopyWarning: \n",
      "A value is trying to be set on a copy of a slice from a DataFrame\n",
      "\n",
      "See the caveats in the documentation: https://pandas.pydata.org/pandas-docs/stable/user_guide/indexing.html#returning-a-view-versus-a-copy\n",
      "  filtered_df[column].loc[missing_mask] = np.maximum(0, interpolated_values[missing_mask])\n",
      "C:\\Users\\nabha\\AppData\\Local\\Temp\\ipykernel_23300\\2018956271.py:41: SettingWithCopyWarning: \n",
      "A value is trying to be set on a copy of a slice from a DataFrame\n",
      "\n",
      "See the caveats in the documentation: https://pandas.pydata.org/pandas-docs/stable/user_guide/indexing.html#returning-a-view-versus-a-copy\n",
      "  filtered_df[column].loc[missing_mask] = np.maximum(0, interpolated_values[missing_mask])\n",
      "C:\\Users\\nabha\\AppData\\Local\\Temp\\ipykernel_23300\\2018956271.py:41: SettingWithCopyWarning: \n",
      "A value is trying to be set on a copy of a slice from a DataFrame\n",
      "\n",
      "See the caveats in the documentation: https://pandas.pydata.org/pandas-docs/stable/user_guide/indexing.html#returning-a-view-versus-a-copy\n",
      "  filtered_df[column].loc[missing_mask] = np.maximum(0, interpolated_values[missing_mask])\n",
      "C:\\Users\\nabha\\AppData\\Local\\Temp\\ipykernel_23300\\2018956271.py:41: SettingWithCopyWarning: \n",
      "A value is trying to be set on a copy of a slice from a DataFrame\n",
      "\n",
      "See the caveats in the documentation: https://pandas.pydata.org/pandas-docs/stable/user_guide/indexing.html#returning-a-view-versus-a-copy\n",
      "  filtered_df[column].loc[missing_mask] = np.maximum(0, interpolated_values[missing_mask])\n",
      "C:\\Users\\nabha\\AppData\\Local\\Temp\\ipykernel_23300\\2018956271.py:41: SettingWithCopyWarning: \n",
      "A value is trying to be set on a copy of a slice from a DataFrame\n",
      "\n",
      "See the caveats in the documentation: https://pandas.pydata.org/pandas-docs/stable/user_guide/indexing.html#returning-a-view-versus-a-copy\n",
      "  filtered_df[column].loc[missing_mask] = np.maximum(0, interpolated_values[missing_mask])\n",
      "C:\\Users\\nabha\\AppData\\Local\\Temp\\ipykernel_23300\\2018956271.py:41: SettingWithCopyWarning: \n",
      "A value is trying to be set on a copy of a slice from a DataFrame\n",
      "\n",
      "See the caveats in the documentation: https://pandas.pydata.org/pandas-docs/stable/user_guide/indexing.html#returning-a-view-versus-a-copy\n",
      "  filtered_df[column].loc[missing_mask] = np.maximum(0, interpolated_values[missing_mask])\n",
      "C:\\Users\\nabha\\AppData\\Local\\Temp\\ipykernel_23300\\2018956271.py:41: SettingWithCopyWarning: \n",
      "A value is trying to be set on a copy of a slice from a DataFrame\n",
      "\n",
      "See the caveats in the documentation: https://pandas.pydata.org/pandas-docs/stable/user_guide/indexing.html#returning-a-view-versus-a-copy\n",
      "  filtered_df[column].loc[missing_mask] = np.maximum(0, interpolated_values[missing_mask])\n",
      "C:\\Users\\nabha\\AppData\\Local\\Temp\\ipykernel_23300\\2018956271.py:41: SettingWithCopyWarning: \n",
      "A value is trying to be set on a copy of a slice from a DataFrame\n",
      "\n",
      "See the caveats in the documentation: https://pandas.pydata.org/pandas-docs/stable/user_guide/indexing.html#returning-a-view-versus-a-copy\n",
      "  filtered_df[column].loc[missing_mask] = np.maximum(0, interpolated_values[missing_mask])\n",
      "C:\\Users\\nabha\\AppData\\Local\\Temp\\ipykernel_23300\\2018956271.py:41: SettingWithCopyWarning: \n",
      "A value is trying to be set on a copy of a slice from a DataFrame\n",
      "\n",
      "See the caveats in the documentation: https://pandas.pydata.org/pandas-docs/stable/user_guide/indexing.html#returning-a-view-versus-a-copy\n",
      "  filtered_df[column].loc[missing_mask] = np.maximum(0, interpolated_values[missing_mask])\n",
      "C:\\Users\\nabha\\AppData\\Local\\Temp\\ipykernel_23300\\2018956271.py:41: SettingWithCopyWarning: \n",
      "A value is trying to be set on a copy of a slice from a DataFrame\n",
      "\n",
      "See the caveats in the documentation: https://pandas.pydata.org/pandas-docs/stable/user_guide/indexing.html#returning-a-view-versus-a-copy\n",
      "  filtered_df[column].loc[missing_mask] = np.maximum(0, interpolated_values[missing_mask])\n",
      "C:\\Users\\nabha\\AppData\\Local\\Temp\\ipykernel_23300\\2018956271.py:41: SettingWithCopyWarning: \n",
      "A value is trying to be set on a copy of a slice from a DataFrame\n",
      "\n",
      "See the caveats in the documentation: https://pandas.pydata.org/pandas-docs/stable/user_guide/indexing.html#returning-a-view-versus-a-copy\n",
      "  filtered_df[column].loc[missing_mask] = np.maximum(0, interpolated_values[missing_mask])\n",
      "C:\\Users\\nabha\\AppData\\Local\\Temp\\ipykernel_23300\\2018956271.py:41: SettingWithCopyWarning: \n",
      "A value is trying to be set on a copy of a slice from a DataFrame\n",
      "\n",
      "See the caveats in the documentation: https://pandas.pydata.org/pandas-docs/stable/user_guide/indexing.html#returning-a-view-versus-a-copy\n",
      "  filtered_df[column].loc[missing_mask] = np.maximum(0, interpolated_values[missing_mask])\n",
      "C:\\Users\\nabha\\AppData\\Local\\Temp\\ipykernel_23300\\2018956271.py:41: SettingWithCopyWarning: \n",
      "A value is trying to be set on a copy of a slice from a DataFrame\n",
      "\n",
      "See the caveats in the documentation: https://pandas.pydata.org/pandas-docs/stable/user_guide/indexing.html#returning-a-view-versus-a-copy\n",
      "  filtered_df[column].loc[missing_mask] = np.maximum(0, interpolated_values[missing_mask])\n",
      "C:\\Users\\nabha\\AppData\\Local\\Temp\\ipykernel_23300\\2018956271.py:41: SettingWithCopyWarning: \n",
      "A value is trying to be set on a copy of a slice from a DataFrame\n",
      "\n",
      "See the caveats in the documentation: https://pandas.pydata.org/pandas-docs/stable/user_guide/indexing.html#returning-a-view-versus-a-copy\n",
      "  filtered_df[column].loc[missing_mask] = np.maximum(0, interpolated_values[missing_mask])\n",
      "C:\\Users\\nabha\\AppData\\Local\\Temp\\ipykernel_23300\\2018956271.py:41: SettingWithCopyWarning: \n",
      "A value is trying to be set on a copy of a slice from a DataFrame\n",
      "\n",
      "See the caveats in the documentation: https://pandas.pydata.org/pandas-docs/stable/user_guide/indexing.html#returning-a-view-versus-a-copy\n",
      "  filtered_df[column].loc[missing_mask] = np.maximum(0, interpolated_values[missing_mask])\n",
      "C:\\Users\\nabha\\AppData\\Local\\Temp\\ipykernel_23300\\2018956271.py:41: SettingWithCopyWarning: \n",
      "A value is trying to be set on a copy of a slice from a DataFrame\n",
      "\n",
      "See the caveats in the documentation: https://pandas.pydata.org/pandas-docs/stable/user_guide/indexing.html#returning-a-view-versus-a-copy\n",
      "  filtered_df[column].loc[missing_mask] = np.maximum(0, interpolated_values[missing_mask])\n",
      "C:\\Users\\nabha\\AppData\\Local\\Temp\\ipykernel_23300\\2018956271.py:41: SettingWithCopyWarning: \n",
      "A value is trying to be set on a copy of a slice from a DataFrame\n",
      "\n",
      "See the caveats in the documentation: https://pandas.pydata.org/pandas-docs/stable/user_guide/indexing.html#returning-a-view-versus-a-copy\n",
      "  filtered_df[column].loc[missing_mask] = np.maximum(0, interpolated_values[missing_mask])\n",
      "C:\\Users\\nabha\\AppData\\Local\\Temp\\ipykernel_23300\\2018956271.py:41: SettingWithCopyWarning: \n",
      "A value is trying to be set on a copy of a slice from a DataFrame\n",
      "\n",
      "See the caveats in the documentation: https://pandas.pydata.org/pandas-docs/stable/user_guide/indexing.html#returning-a-view-versus-a-copy\n",
      "  filtered_df[column].loc[missing_mask] = np.maximum(0, interpolated_values[missing_mask])\n",
      "C:\\Users\\nabha\\AppData\\Local\\Temp\\ipykernel_23300\\2018956271.py:41: SettingWithCopyWarning: \n",
      "A value is trying to be set on a copy of a slice from a DataFrame\n",
      "\n",
      "See the caveats in the documentation: https://pandas.pydata.org/pandas-docs/stable/user_guide/indexing.html#returning-a-view-versus-a-copy\n",
      "  filtered_df[column].loc[missing_mask] = np.maximum(0, interpolated_values[missing_mask])\n",
      "C:\\Users\\nabha\\AppData\\Local\\Temp\\ipykernel_23300\\2018956271.py:41: SettingWithCopyWarning: \n",
      "A value is trying to be set on a copy of a slice from a DataFrame\n",
      "\n",
      "See the caveats in the documentation: https://pandas.pydata.org/pandas-docs/stable/user_guide/indexing.html#returning-a-view-versus-a-copy\n",
      "  filtered_df[column].loc[missing_mask] = np.maximum(0, interpolated_values[missing_mask])\n",
      "C:\\Users\\nabha\\AppData\\Local\\Temp\\ipykernel_23300\\2018956271.py:41: SettingWithCopyWarning: \n",
      "A value is trying to be set on a copy of a slice from a DataFrame\n",
      "\n",
      "See the caveats in the documentation: https://pandas.pydata.org/pandas-docs/stable/user_guide/indexing.html#returning-a-view-versus-a-copy\n",
      "  filtered_df[column].loc[missing_mask] = np.maximum(0, interpolated_values[missing_mask])\n",
      "C:\\Users\\nabha\\AppData\\Local\\Temp\\ipykernel_23300\\2018956271.py:41: SettingWithCopyWarning: \n",
      "A value is trying to be set on a copy of a slice from a DataFrame\n",
      "\n",
      "See the caveats in the documentation: https://pandas.pydata.org/pandas-docs/stable/user_guide/indexing.html#returning-a-view-versus-a-copy\n",
      "  filtered_df[column].loc[missing_mask] = np.maximum(0, interpolated_values[missing_mask])\n",
      "C:\\Users\\nabha\\AppData\\Local\\Temp\\ipykernel_23300\\2018956271.py:41: SettingWithCopyWarning: \n",
      "A value is trying to be set on a copy of a slice from a DataFrame\n",
      "\n",
      "See the caveats in the documentation: https://pandas.pydata.org/pandas-docs/stable/user_guide/indexing.html#returning-a-view-versus-a-copy\n",
      "  filtered_df[column].loc[missing_mask] = np.maximum(0, interpolated_values[missing_mask])\n",
      "C:\\Users\\nabha\\AppData\\Local\\Temp\\ipykernel_23300\\2018956271.py:41: SettingWithCopyWarning: \n",
      "A value is trying to be set on a copy of a slice from a DataFrame\n",
      "\n",
      "See the caveats in the documentation: https://pandas.pydata.org/pandas-docs/stable/user_guide/indexing.html#returning-a-view-versus-a-copy\n",
      "  filtered_df[column].loc[missing_mask] = np.maximum(0, interpolated_values[missing_mask])\n",
      "C:\\Users\\nabha\\AppData\\Local\\Temp\\ipykernel_23300\\2018956271.py:41: SettingWithCopyWarning: \n",
      "A value is trying to be set on a copy of a slice from a DataFrame\n",
      "\n",
      "See the caveats in the documentation: https://pandas.pydata.org/pandas-docs/stable/user_guide/indexing.html#returning-a-view-versus-a-copy\n",
      "  filtered_df[column].loc[missing_mask] = np.maximum(0, interpolated_values[missing_mask])\n",
      "C:\\Users\\nabha\\AppData\\Local\\Temp\\ipykernel_23300\\2018956271.py:41: SettingWithCopyWarning: \n",
      "A value is trying to be set on a copy of a slice from a DataFrame\n",
      "\n",
      "See the caveats in the documentation: https://pandas.pydata.org/pandas-docs/stable/user_guide/indexing.html#returning-a-view-versus-a-copy\n",
      "  filtered_df[column].loc[missing_mask] = np.maximum(0, interpolated_values[missing_mask])\n",
      "C:\\Users\\nabha\\AppData\\Local\\Temp\\ipykernel_23300\\2018956271.py:41: SettingWithCopyWarning: \n",
      "A value is trying to be set on a copy of a slice from a DataFrame\n",
      "\n",
      "See the caveats in the documentation: https://pandas.pydata.org/pandas-docs/stable/user_guide/indexing.html#returning-a-view-versus-a-copy\n",
      "  filtered_df[column].loc[missing_mask] = np.maximum(0, interpolated_values[missing_mask])\n",
      "C:\\Users\\nabha\\AppData\\Local\\Temp\\ipykernel_23300\\2018956271.py:41: SettingWithCopyWarning: \n",
      "A value is trying to be set on a copy of a slice from a DataFrame\n",
      "\n",
      "See the caveats in the documentation: https://pandas.pydata.org/pandas-docs/stable/user_guide/indexing.html#returning-a-view-versus-a-copy\n",
      "  filtered_df[column].loc[missing_mask] = np.maximum(0, interpolated_values[missing_mask])\n",
      "C:\\Users\\nabha\\AppData\\Local\\Temp\\ipykernel_23300\\2018956271.py:41: SettingWithCopyWarning: \n",
      "A value is trying to be set on a copy of a slice from a DataFrame\n",
      "\n",
      "See the caveats in the documentation: https://pandas.pydata.org/pandas-docs/stable/user_guide/indexing.html#returning-a-view-versus-a-copy\n",
      "  filtered_df[column].loc[missing_mask] = np.maximum(0, interpolated_values[missing_mask])\n",
      "C:\\Users\\nabha\\AppData\\Local\\Temp\\ipykernel_23300\\2018956271.py:41: SettingWithCopyWarning: \n",
      "A value is trying to be set on a copy of a slice from a DataFrame\n",
      "\n",
      "See the caveats in the documentation: https://pandas.pydata.org/pandas-docs/stable/user_guide/indexing.html#returning-a-view-versus-a-copy\n",
      "  filtered_df[column].loc[missing_mask] = np.maximum(0, interpolated_values[missing_mask])\n",
      "C:\\Users\\nabha\\AppData\\Local\\Temp\\ipykernel_23300\\2018956271.py:41: SettingWithCopyWarning: \n",
      "A value is trying to be set on a copy of a slice from a DataFrame\n",
      "\n",
      "See the caveats in the documentation: https://pandas.pydata.org/pandas-docs/stable/user_guide/indexing.html#returning-a-view-versus-a-copy\n",
      "  filtered_df[column].loc[missing_mask] = np.maximum(0, interpolated_values[missing_mask])\n",
      "C:\\Users\\nabha\\AppData\\Local\\Temp\\ipykernel_23300\\2018956271.py:41: SettingWithCopyWarning: \n",
      "A value is trying to be set on a copy of a slice from a DataFrame\n",
      "\n",
      "See the caveats in the documentation: https://pandas.pydata.org/pandas-docs/stable/user_guide/indexing.html#returning-a-view-versus-a-copy\n",
      "  filtered_df[column].loc[missing_mask] = np.maximum(0, interpolated_values[missing_mask])\n",
      "C:\\Users\\nabha\\AppData\\Local\\Temp\\ipykernel_23300\\2018956271.py:41: SettingWithCopyWarning: \n",
      "A value is trying to be set on a copy of a slice from a DataFrame\n",
      "\n",
      "See the caveats in the documentation: https://pandas.pydata.org/pandas-docs/stable/user_guide/indexing.html#returning-a-view-versus-a-copy\n",
      "  filtered_df[column].loc[missing_mask] = np.maximum(0, interpolated_values[missing_mask])\n",
      "C:\\Users\\nabha\\AppData\\Local\\Temp\\ipykernel_23300\\2018956271.py:41: SettingWithCopyWarning: \n",
      "A value is trying to be set on a copy of a slice from a DataFrame\n",
      "\n",
      "See the caveats in the documentation: https://pandas.pydata.org/pandas-docs/stable/user_guide/indexing.html#returning-a-view-versus-a-copy\n",
      "  filtered_df[column].loc[missing_mask] = np.maximum(0, interpolated_values[missing_mask])\n",
      "C:\\Users\\nabha\\AppData\\Local\\Temp\\ipykernel_23300\\2018956271.py:41: SettingWithCopyWarning: \n",
      "A value is trying to be set on a copy of a slice from a DataFrame\n",
      "\n",
      "See the caveats in the documentation: https://pandas.pydata.org/pandas-docs/stable/user_guide/indexing.html#returning-a-view-versus-a-copy\n",
      "  filtered_df[column].loc[missing_mask] = np.maximum(0, interpolated_values[missing_mask])\n",
      "C:\\Users\\nabha\\AppData\\Local\\Temp\\ipykernel_23300\\2018956271.py:41: SettingWithCopyWarning: \n",
      "A value is trying to be set on a copy of a slice from a DataFrame\n",
      "\n",
      "See the caveats in the documentation: https://pandas.pydata.org/pandas-docs/stable/user_guide/indexing.html#returning-a-view-versus-a-copy\n",
      "  filtered_df[column].loc[missing_mask] = np.maximum(0, interpolated_values[missing_mask])\n",
      "C:\\Users\\nabha\\AppData\\Local\\Temp\\ipykernel_23300\\2018956271.py:41: SettingWithCopyWarning: \n",
      "A value is trying to be set on a copy of a slice from a DataFrame\n",
      "\n",
      "See the caveats in the documentation: https://pandas.pydata.org/pandas-docs/stable/user_guide/indexing.html#returning-a-view-versus-a-copy\n",
      "  filtered_df[column].loc[missing_mask] = np.maximum(0, interpolated_values[missing_mask])\n",
      "C:\\Users\\nabha\\AppData\\Local\\Temp\\ipykernel_23300\\2018956271.py:41: SettingWithCopyWarning: \n",
      "A value is trying to be set on a copy of a slice from a DataFrame\n",
      "\n",
      "See the caveats in the documentation: https://pandas.pydata.org/pandas-docs/stable/user_guide/indexing.html#returning-a-view-versus-a-copy\n",
      "  filtered_df[column].loc[missing_mask] = np.maximum(0, interpolated_values[missing_mask])\n",
      "C:\\Users\\nabha\\AppData\\Local\\Temp\\ipykernel_23300\\2018956271.py:41: SettingWithCopyWarning: \n",
      "A value is trying to be set on a copy of a slice from a DataFrame\n",
      "\n",
      "See the caveats in the documentation: https://pandas.pydata.org/pandas-docs/stable/user_guide/indexing.html#returning-a-view-versus-a-copy\n",
      "  filtered_df[column].loc[missing_mask] = np.maximum(0, interpolated_values[missing_mask])\n",
      "C:\\Users\\nabha\\AppData\\Local\\Temp\\ipykernel_23300\\2018956271.py:41: SettingWithCopyWarning: \n",
      "A value is trying to be set on a copy of a slice from a DataFrame\n",
      "\n",
      "See the caveats in the documentation: https://pandas.pydata.org/pandas-docs/stable/user_guide/indexing.html#returning-a-view-versus-a-copy\n",
      "  filtered_df[column].loc[missing_mask] = np.maximum(0, interpolated_values[missing_mask])\n",
      "C:\\Users\\nabha\\AppData\\Local\\Temp\\ipykernel_23300\\2018956271.py:41: SettingWithCopyWarning: \n",
      "A value is trying to be set on a copy of a slice from a DataFrame\n",
      "\n",
      "See the caveats in the documentation: https://pandas.pydata.org/pandas-docs/stable/user_guide/indexing.html#returning-a-view-versus-a-copy\n",
      "  filtered_df[column].loc[missing_mask] = np.maximum(0, interpolated_values[missing_mask])\n",
      "C:\\Users\\nabha\\AppData\\Local\\Temp\\ipykernel_23300\\2018956271.py:41: SettingWithCopyWarning: \n",
      "A value is trying to be set on a copy of a slice from a DataFrame\n",
      "\n",
      "See the caveats in the documentation: https://pandas.pydata.org/pandas-docs/stable/user_guide/indexing.html#returning-a-view-versus-a-copy\n",
      "  filtered_df[column].loc[missing_mask] = np.maximum(0, interpolated_values[missing_mask])\n",
      "C:\\Users\\nabha\\AppData\\Local\\Temp\\ipykernel_23300\\2018956271.py:41: SettingWithCopyWarning: \n",
      "A value is trying to be set on a copy of a slice from a DataFrame\n",
      "\n",
      "See the caveats in the documentation: https://pandas.pydata.org/pandas-docs/stable/user_guide/indexing.html#returning-a-view-versus-a-copy\n",
      "  filtered_df[column].loc[missing_mask] = np.maximum(0, interpolated_values[missing_mask])\n",
      "C:\\Users\\nabha\\AppData\\Local\\Temp\\ipykernel_23300\\2018956271.py:41: SettingWithCopyWarning: \n",
      "A value is trying to be set on a copy of a slice from a DataFrame\n",
      "\n",
      "See the caveats in the documentation: https://pandas.pydata.org/pandas-docs/stable/user_guide/indexing.html#returning-a-view-versus-a-copy\n",
      "  filtered_df[column].loc[missing_mask] = np.maximum(0, interpolated_values[missing_mask])\n",
      "C:\\Users\\nabha\\AppData\\Local\\Temp\\ipykernel_23300\\2018956271.py:41: SettingWithCopyWarning: \n",
      "A value is trying to be set on a copy of a slice from a DataFrame\n",
      "\n",
      "See the caveats in the documentation: https://pandas.pydata.org/pandas-docs/stable/user_guide/indexing.html#returning-a-view-versus-a-copy\n",
      "  filtered_df[column].loc[missing_mask] = np.maximum(0, interpolated_values[missing_mask])\n",
      "C:\\Users\\nabha\\AppData\\Local\\Temp\\ipykernel_23300\\2018956271.py:41: SettingWithCopyWarning: \n",
      "A value is trying to be set on a copy of a slice from a DataFrame\n",
      "\n",
      "See the caveats in the documentation: https://pandas.pydata.org/pandas-docs/stable/user_guide/indexing.html#returning-a-view-versus-a-copy\n",
      "  filtered_df[column].loc[missing_mask] = np.maximum(0, interpolated_values[missing_mask])\n",
      "C:\\Users\\nabha\\AppData\\Local\\Temp\\ipykernel_23300\\2018956271.py:41: SettingWithCopyWarning: \n",
      "A value is trying to be set on a copy of a slice from a DataFrame\n",
      "\n",
      "See the caveats in the documentation: https://pandas.pydata.org/pandas-docs/stable/user_guide/indexing.html#returning-a-view-versus-a-copy\n",
      "  filtered_df[column].loc[missing_mask] = np.maximum(0, interpolated_values[missing_mask])\n",
      "C:\\Users\\nabha\\AppData\\Local\\Temp\\ipykernel_23300\\2018956271.py:41: SettingWithCopyWarning: \n",
      "A value is trying to be set on a copy of a slice from a DataFrame\n",
      "\n",
      "See the caveats in the documentation: https://pandas.pydata.org/pandas-docs/stable/user_guide/indexing.html#returning-a-view-versus-a-copy\n",
      "  filtered_df[column].loc[missing_mask] = np.maximum(0, interpolated_values[missing_mask])\n",
      "C:\\Users\\nabha\\AppData\\Local\\Temp\\ipykernel_23300\\2018956271.py:41: SettingWithCopyWarning: \n",
      "A value is trying to be set on a copy of a slice from a DataFrame\n",
      "\n",
      "See the caveats in the documentation: https://pandas.pydata.org/pandas-docs/stable/user_guide/indexing.html#returning-a-view-versus-a-copy\n",
      "  filtered_df[column].loc[missing_mask] = np.maximum(0, interpolated_values[missing_mask])\n",
      "C:\\Users\\nabha\\AppData\\Local\\Temp\\ipykernel_23300\\2018956271.py:41: SettingWithCopyWarning: \n",
      "A value is trying to be set on a copy of a slice from a DataFrame\n",
      "\n",
      "See the caveats in the documentation: https://pandas.pydata.org/pandas-docs/stable/user_guide/indexing.html#returning-a-view-versus-a-copy\n",
      "  filtered_df[column].loc[missing_mask] = np.maximum(0, interpolated_values[missing_mask])\n",
      "C:\\Users\\nabha\\AppData\\Local\\Temp\\ipykernel_23300\\2018956271.py:41: SettingWithCopyWarning: \n",
      "A value is trying to be set on a copy of a slice from a DataFrame\n",
      "\n",
      "See the caveats in the documentation: https://pandas.pydata.org/pandas-docs/stable/user_guide/indexing.html#returning-a-view-versus-a-copy\n",
      "  filtered_df[column].loc[missing_mask] = np.maximum(0, interpolated_values[missing_mask])\n",
      "C:\\Users\\nabha\\AppData\\Local\\Temp\\ipykernel_23300\\2018956271.py:41: SettingWithCopyWarning: \n",
      "A value is trying to be set on a copy of a slice from a DataFrame\n",
      "\n",
      "See the caveats in the documentation: https://pandas.pydata.org/pandas-docs/stable/user_guide/indexing.html#returning-a-view-versus-a-copy\n",
      "  filtered_df[column].loc[missing_mask] = np.maximum(0, interpolated_values[missing_mask])\n",
      "C:\\Users\\nabha\\AppData\\Local\\Temp\\ipykernel_23300\\2018956271.py:41: SettingWithCopyWarning: \n",
      "A value is trying to be set on a copy of a slice from a DataFrame\n",
      "\n",
      "See the caveats in the documentation: https://pandas.pydata.org/pandas-docs/stable/user_guide/indexing.html#returning-a-view-versus-a-copy\n",
      "  filtered_df[column].loc[missing_mask] = np.maximum(0, interpolated_values[missing_mask])\n",
      "C:\\Users\\nabha\\AppData\\Local\\Temp\\ipykernel_23300\\2018956271.py:41: SettingWithCopyWarning: \n",
      "A value is trying to be set on a copy of a slice from a DataFrame\n",
      "\n",
      "See the caveats in the documentation: https://pandas.pydata.org/pandas-docs/stable/user_guide/indexing.html#returning-a-view-versus-a-copy\n",
      "  filtered_df[column].loc[missing_mask] = np.maximum(0, interpolated_values[missing_mask])\n",
      "C:\\Users\\nabha\\AppData\\Local\\Temp\\ipykernel_23300\\2018956271.py:41: SettingWithCopyWarning: \n",
      "A value is trying to be set on a copy of a slice from a DataFrame\n",
      "\n",
      "See the caveats in the documentation: https://pandas.pydata.org/pandas-docs/stable/user_guide/indexing.html#returning-a-view-versus-a-copy\n",
      "  filtered_df[column].loc[missing_mask] = np.maximum(0, interpolated_values[missing_mask])\n",
      "C:\\Users\\nabha\\AppData\\Local\\Temp\\ipykernel_23300\\2018956271.py:41: SettingWithCopyWarning: \n",
      "A value is trying to be set on a copy of a slice from a DataFrame\n",
      "\n",
      "See the caveats in the documentation: https://pandas.pydata.org/pandas-docs/stable/user_guide/indexing.html#returning-a-view-versus-a-copy\n",
      "  filtered_df[column].loc[missing_mask] = np.maximum(0, interpolated_values[missing_mask])\n"
     ]
    }
   ],
   "source": [
    "# 1. konversi * dan 99999 jadi nan value\n",
    "int_df.replace(['*'], '99999', inplace=True)\n",
    "\n",
    "# 2. ubah tipe data\n",
    "# Mengubah tipe data menjadi numerik\n",
    "columns_to_convert = [col for col in int_df.columns if col != 'type_of_attack']\n",
    "int_df[columns_to_convert] = int_df[columns_to_convert].astype(int)\n",
    "\n",
    "# 3. parting based on type of attack\n",
    "# Function to filter df based on type of attack\n",
    "def filtered_by_type_of_attack(df, values):\n",
    "    filtered = df[df['type_of_attack'] == values]\n",
    "    return filtered\n",
    "\n",
    "nmap = filtered_by_type_of_attack(int_df, 'nmap')\n",
    "neptune = filtered_by_type_of_attack(int_df, 'neptune')\n",
    "normal = filtered_by_type_of_attack(int_df, 'normal')\n",
    "dos = filtered_by_type_of_attack(int_df, 'Denial of Service Attack')\n",
    "portsweep = filtered_by_type_of_attack(int_df, 'portsweep')\n",
    "satan = filtered_by_type_of_attack(int_df, 'satan')\n",
    "ipsweep = filtered_by_type_of_attack(int_df, 'ipsweep')\n",
    "smurf = filtered_by_type_of_attack(int_df, 'smurf')\n",
    "\n",
    "# stored df in list\n",
    "filtered_dfs = [nmap, neptune, normal, dos, portsweep, satan, ipsweep, smurf]\n",
    "\n",
    "# Loop through each filtered DataFrame and its corresponding index in the list\n",
    "for filtered_df, attack_type in zip(filtered_dfs, ['nmap', 'neptune', 'normal', 'Denial of Service Attack', 'portsweep', 'satan', 'ipsweep', 'smurf']):\n",
    "    for column in filtered_df.columns:\n",
    "        if pd.api.types.is_numeric_dtype(filtered_df[column]):\n",
    "            # Check if the column contains numeric data\n",
    "            missing_mask = filtered_df[column] == 99999\n",
    "            if missing_mask.any():\n",
    "                # If there are missing values, interpolate\n",
    "                x = filtered_df.index[~missing_mask]\n",
    "                y = filtered_df[column][~missing_mask]\n",
    "                pchip = PchipInterpolator(x, y, extrapolate='periodic')\n",
    "                # Replace NaN values with interpolated values in the same DataFrame (filtered_df)\n",
    "                interpolated_values = pchip(filtered_df.index)\n",
    "                # Ensure the interpolated values are non-negative\n",
    "                filtered_df[column].loc[missing_mask] = np.maximum(0, interpolated_values[missing_mask])\n",
    "\n",
    "    # Copy the interpolated values back to the corresponding rows in the original int_df\n",
    "    int_df.loc[int_df['type_of_attack'] == attack_type, filtered_df.columns] = filtered_df\n",
    "\n",
    "# Mengubah tipe data menjadi numerik\n",
    "columns_to_convert = [col for col in int_df.columns if col != 'type_of_attack']\n",
    "int_df[columns_to_convert] = int_df[columns_to_convert].astype(int)"
   ]
  },
  {
   "cell_type": "code",
   "execution_count": 14,
   "metadata": {},
   "outputs": [],
   "source": [
    "# Delete 'type_of_attack' column\n",
    "int_df = int_df.drop('type_of_attack', axis=1)"
   ]
  },
  {
   "cell_type": "code",
   "execution_count": 15,
   "metadata": {},
   "outputs": [
    {
     "name": "stdout",
     "output_type": "stream",
     "text": [
      "<class 'pandas.core.frame.DataFrame'>\n",
      "Index: 110004 entries, 0 to 112445\n",
      "Data columns (total 17 columns):\n",
      " #   Column              Non-Null Count   Dtype\n",
      "---  ------              --------------   -----\n",
      " 0   duration            110004 non-null  int32\n",
      " 1   src_bytes           110004 non-null  int32\n",
      " 2   dst_bytes           110004 non-null  int32\n",
      " 3   wrong_fragment      110004 non-null  int32\n",
      " 4   urgent              110004 non-null  int32\n",
      " 5   hot                 110004 non-null  int32\n",
      " 6   num_failed_logins   110004 non-null  int32\n",
      " 7   num_compromised     110004 non-null  int32\n",
      " 8   num_root            110004 non-null  int32\n",
      " 9   num_file_creations  110004 non-null  int32\n",
      " 10  num_shells          110004 non-null  int32\n",
      " 11  num_access_files    110004 non-null  int32\n",
      " 12  num_outbound_cmds   110004 non-null  int32\n",
      " 13  count               110004 non-null  int32\n",
      " 14  srv_count           110004 non-null  int32\n",
      " 15  dst_host_count      110004 non-null  int32\n",
      " 16  dst_host_srv_count  110004 non-null  int32\n",
      "dtypes: int32(17)\n",
      "memory usage: 8.0 MB\n"
     ]
    }
   ],
   "source": [
    "int_df.info()"
   ]
  },
  {
   "cell_type": "markdown",
   "metadata": {},
   "source": [
    "### 3.3. Float Column"
   ]
  },
  {
   "cell_type": "code",
   "execution_count": 16,
   "metadata": {},
   "outputs": [],
   "source": [
    "# column that has float value\n",
    "float_df = df.copy()\n",
    "float_df = float_df[['dst_host_same_srv_rate','dst_host_diff_srv_rate',\n",
    "                    'dst_host_same_src_port_rate','dst_host_srv_diff_host_rate',\n",
    "                    'dst_host_serror_rate','dst_host_srv_serror_rate',\n",
    "                    'dst_host_rerror_rate','dst_host_srv_rerror_rate',\n",
    "                    'type_of_attack']]"
   ]
  },
  {
   "cell_type": "code",
   "execution_count": 17,
   "metadata": {},
   "outputs": [
    {
     "name": "stderr",
     "output_type": "stream",
     "text": [
      "C:\\Users\\nabha\\AppData\\Local\\Temp\\ipykernel_23300\\2194527668.py:36: SettingWithCopyWarning: \n",
      "A value is trying to be set on a copy of a slice from a DataFrame\n",
      "\n",
      "See the caveats in the documentation: https://pandas.pydata.org/pandas-docs/stable/user_guide/indexing.html#returning-a-view-versus-a-copy\n",
      "  filtered_df[column].loc[missing_mask] = np.maximum(0, interpolated_values[missing_mask])\n",
      "C:\\Users\\nabha\\AppData\\Local\\Temp\\ipykernel_23300\\2194527668.py:36: SettingWithCopyWarning: \n",
      "A value is trying to be set on a copy of a slice from a DataFrame\n",
      "\n",
      "See the caveats in the documentation: https://pandas.pydata.org/pandas-docs/stable/user_guide/indexing.html#returning-a-view-versus-a-copy\n",
      "  filtered_df[column].loc[missing_mask] = np.maximum(0, interpolated_values[missing_mask])\n",
      "C:\\Users\\nabha\\AppData\\Local\\Temp\\ipykernel_23300\\2194527668.py:36: SettingWithCopyWarning: \n",
      "A value is trying to be set on a copy of a slice from a DataFrame\n",
      "\n",
      "See the caveats in the documentation: https://pandas.pydata.org/pandas-docs/stable/user_guide/indexing.html#returning-a-view-versus-a-copy\n",
      "  filtered_df[column].loc[missing_mask] = np.maximum(0, interpolated_values[missing_mask])\n",
      "C:\\Users\\nabha\\AppData\\Local\\Temp\\ipykernel_23300\\2194527668.py:36: SettingWithCopyWarning: \n",
      "A value is trying to be set on a copy of a slice from a DataFrame\n",
      "\n",
      "See the caveats in the documentation: https://pandas.pydata.org/pandas-docs/stable/user_guide/indexing.html#returning-a-view-versus-a-copy\n",
      "  filtered_df[column].loc[missing_mask] = np.maximum(0, interpolated_values[missing_mask])\n",
      "C:\\Users\\nabha\\AppData\\Local\\Temp\\ipykernel_23300\\2194527668.py:36: SettingWithCopyWarning: \n",
      "A value is trying to be set on a copy of a slice from a DataFrame\n",
      "\n",
      "See the caveats in the documentation: https://pandas.pydata.org/pandas-docs/stable/user_guide/indexing.html#returning-a-view-versus-a-copy\n",
      "  filtered_df[column].loc[missing_mask] = np.maximum(0, interpolated_values[missing_mask])\n",
      "C:\\Users\\nabha\\AppData\\Local\\Temp\\ipykernel_23300\\2194527668.py:36: SettingWithCopyWarning: \n",
      "A value is trying to be set on a copy of a slice from a DataFrame\n",
      "\n",
      "See the caveats in the documentation: https://pandas.pydata.org/pandas-docs/stable/user_guide/indexing.html#returning-a-view-versus-a-copy\n",
      "  filtered_df[column].loc[missing_mask] = np.maximum(0, interpolated_values[missing_mask])\n",
      "C:\\Users\\nabha\\AppData\\Local\\Temp\\ipykernel_23300\\2194527668.py:36: SettingWithCopyWarning: \n",
      "A value is trying to be set on a copy of a slice from a DataFrame\n",
      "\n",
      "See the caveats in the documentation: https://pandas.pydata.org/pandas-docs/stable/user_guide/indexing.html#returning-a-view-versus-a-copy\n",
      "  filtered_df[column].loc[missing_mask] = np.maximum(0, interpolated_values[missing_mask])\n",
      "C:\\Users\\nabha\\AppData\\Local\\Temp\\ipykernel_23300\\2194527668.py:36: SettingWithCopyWarning: \n",
      "A value is trying to be set on a copy of a slice from a DataFrame\n",
      "\n",
      "See the caveats in the documentation: https://pandas.pydata.org/pandas-docs/stable/user_guide/indexing.html#returning-a-view-versus-a-copy\n",
      "  filtered_df[column].loc[missing_mask] = np.maximum(0, interpolated_values[missing_mask])\n",
      "C:\\Users\\nabha\\AppData\\Local\\Temp\\ipykernel_23300\\2194527668.py:36: SettingWithCopyWarning: \n",
      "A value is trying to be set on a copy of a slice from a DataFrame\n",
      "\n",
      "See the caveats in the documentation: https://pandas.pydata.org/pandas-docs/stable/user_guide/indexing.html#returning-a-view-versus-a-copy\n",
      "  filtered_df[column].loc[missing_mask] = np.maximum(0, interpolated_values[missing_mask])\n",
      "C:\\Users\\nabha\\AppData\\Local\\Temp\\ipykernel_23300\\2194527668.py:36: SettingWithCopyWarning: \n",
      "A value is trying to be set on a copy of a slice from a DataFrame\n",
      "\n",
      "See the caveats in the documentation: https://pandas.pydata.org/pandas-docs/stable/user_guide/indexing.html#returning-a-view-versus-a-copy\n",
      "  filtered_df[column].loc[missing_mask] = np.maximum(0, interpolated_values[missing_mask])\n",
      "C:\\Users\\nabha\\AppData\\Local\\Temp\\ipykernel_23300\\2194527668.py:36: SettingWithCopyWarning: \n",
      "A value is trying to be set on a copy of a slice from a DataFrame\n",
      "\n",
      "See the caveats in the documentation: https://pandas.pydata.org/pandas-docs/stable/user_guide/indexing.html#returning-a-view-versus-a-copy\n",
      "  filtered_df[column].loc[missing_mask] = np.maximum(0, interpolated_values[missing_mask])\n",
      "C:\\Users\\nabha\\AppData\\Local\\Temp\\ipykernel_23300\\2194527668.py:36: SettingWithCopyWarning: \n",
      "A value is trying to be set on a copy of a slice from a DataFrame\n",
      "\n",
      "See the caveats in the documentation: https://pandas.pydata.org/pandas-docs/stable/user_guide/indexing.html#returning-a-view-versus-a-copy\n",
      "  filtered_df[column].loc[missing_mask] = np.maximum(0, interpolated_values[missing_mask])\n",
      "C:\\Users\\nabha\\AppData\\Local\\Temp\\ipykernel_23300\\2194527668.py:36: SettingWithCopyWarning: \n",
      "A value is trying to be set on a copy of a slice from a DataFrame\n",
      "\n",
      "See the caveats in the documentation: https://pandas.pydata.org/pandas-docs/stable/user_guide/indexing.html#returning-a-view-versus-a-copy\n",
      "  filtered_df[column].loc[missing_mask] = np.maximum(0, interpolated_values[missing_mask])\n",
      "C:\\Users\\nabha\\AppData\\Local\\Temp\\ipykernel_23300\\2194527668.py:36: SettingWithCopyWarning: \n",
      "A value is trying to be set on a copy of a slice from a DataFrame\n",
      "\n",
      "See the caveats in the documentation: https://pandas.pydata.org/pandas-docs/stable/user_guide/indexing.html#returning-a-view-versus-a-copy\n",
      "  filtered_df[column].loc[missing_mask] = np.maximum(0, interpolated_values[missing_mask])\n",
      "C:\\Users\\nabha\\AppData\\Local\\Temp\\ipykernel_23300\\2194527668.py:36: SettingWithCopyWarning: \n",
      "A value is trying to be set on a copy of a slice from a DataFrame\n",
      "\n",
      "See the caveats in the documentation: https://pandas.pydata.org/pandas-docs/stable/user_guide/indexing.html#returning-a-view-versus-a-copy\n",
      "  filtered_df[column].loc[missing_mask] = np.maximum(0, interpolated_values[missing_mask])\n",
      "C:\\Users\\nabha\\AppData\\Local\\Temp\\ipykernel_23300\\2194527668.py:36: SettingWithCopyWarning: \n",
      "A value is trying to be set on a copy of a slice from a DataFrame\n",
      "\n",
      "See the caveats in the documentation: https://pandas.pydata.org/pandas-docs/stable/user_guide/indexing.html#returning-a-view-versus-a-copy\n",
      "  filtered_df[column].loc[missing_mask] = np.maximum(0, interpolated_values[missing_mask])\n",
      "C:\\Users\\nabha\\AppData\\Local\\Temp\\ipykernel_23300\\2194527668.py:36: SettingWithCopyWarning: \n",
      "A value is trying to be set on a copy of a slice from a DataFrame\n",
      "\n",
      "See the caveats in the documentation: https://pandas.pydata.org/pandas-docs/stable/user_guide/indexing.html#returning-a-view-versus-a-copy\n",
      "  filtered_df[column].loc[missing_mask] = np.maximum(0, interpolated_values[missing_mask])\n",
      "C:\\Users\\nabha\\AppData\\Local\\Temp\\ipykernel_23300\\2194527668.py:36: SettingWithCopyWarning: \n",
      "A value is trying to be set on a copy of a slice from a DataFrame\n",
      "\n",
      "See the caveats in the documentation: https://pandas.pydata.org/pandas-docs/stable/user_guide/indexing.html#returning-a-view-versus-a-copy\n",
      "  filtered_df[column].loc[missing_mask] = np.maximum(0, interpolated_values[missing_mask])\n",
      "C:\\Users\\nabha\\AppData\\Local\\Temp\\ipykernel_23300\\2194527668.py:36: SettingWithCopyWarning: \n",
      "A value is trying to be set on a copy of a slice from a DataFrame\n",
      "\n",
      "See the caveats in the documentation: https://pandas.pydata.org/pandas-docs/stable/user_guide/indexing.html#returning-a-view-versus-a-copy\n",
      "  filtered_df[column].loc[missing_mask] = np.maximum(0, interpolated_values[missing_mask])\n",
      "C:\\Users\\nabha\\AppData\\Local\\Temp\\ipykernel_23300\\2194527668.py:36: SettingWithCopyWarning: \n",
      "A value is trying to be set on a copy of a slice from a DataFrame\n",
      "\n",
      "See the caveats in the documentation: https://pandas.pydata.org/pandas-docs/stable/user_guide/indexing.html#returning-a-view-versus-a-copy\n",
      "  filtered_df[column].loc[missing_mask] = np.maximum(0, interpolated_values[missing_mask])\n",
      "C:\\Users\\nabha\\AppData\\Local\\Temp\\ipykernel_23300\\2194527668.py:36: SettingWithCopyWarning: \n",
      "A value is trying to be set on a copy of a slice from a DataFrame\n",
      "\n",
      "See the caveats in the documentation: https://pandas.pydata.org/pandas-docs/stable/user_guide/indexing.html#returning-a-view-versus-a-copy\n",
      "  filtered_df[column].loc[missing_mask] = np.maximum(0, interpolated_values[missing_mask])\n",
      "C:\\Users\\nabha\\AppData\\Local\\Temp\\ipykernel_23300\\2194527668.py:36: SettingWithCopyWarning: \n",
      "A value is trying to be set on a copy of a slice from a DataFrame\n",
      "\n",
      "See the caveats in the documentation: https://pandas.pydata.org/pandas-docs/stable/user_guide/indexing.html#returning-a-view-versus-a-copy\n",
      "  filtered_df[column].loc[missing_mask] = np.maximum(0, interpolated_values[missing_mask])\n",
      "C:\\Users\\nabha\\AppData\\Local\\Temp\\ipykernel_23300\\2194527668.py:36: SettingWithCopyWarning: \n",
      "A value is trying to be set on a copy of a slice from a DataFrame\n",
      "\n",
      "See the caveats in the documentation: https://pandas.pydata.org/pandas-docs/stable/user_guide/indexing.html#returning-a-view-versus-a-copy\n",
      "  filtered_df[column].loc[missing_mask] = np.maximum(0, interpolated_values[missing_mask])\n",
      "C:\\Users\\nabha\\AppData\\Local\\Temp\\ipykernel_23300\\2194527668.py:36: SettingWithCopyWarning: \n",
      "A value is trying to be set on a copy of a slice from a DataFrame\n",
      "\n",
      "See the caveats in the documentation: https://pandas.pydata.org/pandas-docs/stable/user_guide/indexing.html#returning-a-view-versus-a-copy\n",
      "  filtered_df[column].loc[missing_mask] = np.maximum(0, interpolated_values[missing_mask])\n",
      "C:\\Users\\nabha\\AppData\\Local\\Temp\\ipykernel_23300\\2194527668.py:36: SettingWithCopyWarning: \n",
      "A value is trying to be set on a copy of a slice from a DataFrame\n",
      "\n",
      "See the caveats in the documentation: https://pandas.pydata.org/pandas-docs/stable/user_guide/indexing.html#returning-a-view-versus-a-copy\n",
      "  filtered_df[column].loc[missing_mask] = np.maximum(0, interpolated_values[missing_mask])\n",
      "C:\\Users\\nabha\\AppData\\Local\\Temp\\ipykernel_23300\\2194527668.py:36: SettingWithCopyWarning: \n",
      "A value is trying to be set on a copy of a slice from a DataFrame\n",
      "\n",
      "See the caveats in the documentation: https://pandas.pydata.org/pandas-docs/stable/user_guide/indexing.html#returning-a-view-versus-a-copy\n",
      "  filtered_df[column].loc[missing_mask] = np.maximum(0, interpolated_values[missing_mask])\n",
      "C:\\Users\\nabha\\AppData\\Local\\Temp\\ipykernel_23300\\2194527668.py:36: SettingWithCopyWarning: \n",
      "A value is trying to be set on a copy of a slice from a DataFrame\n",
      "\n",
      "See the caveats in the documentation: https://pandas.pydata.org/pandas-docs/stable/user_guide/indexing.html#returning-a-view-versus-a-copy\n",
      "  filtered_df[column].loc[missing_mask] = np.maximum(0, interpolated_values[missing_mask])\n",
      "C:\\Users\\nabha\\AppData\\Local\\Temp\\ipykernel_23300\\2194527668.py:36: SettingWithCopyWarning: \n",
      "A value is trying to be set on a copy of a slice from a DataFrame\n",
      "\n",
      "See the caveats in the documentation: https://pandas.pydata.org/pandas-docs/stable/user_guide/indexing.html#returning-a-view-versus-a-copy\n",
      "  filtered_df[column].loc[missing_mask] = np.maximum(0, interpolated_values[missing_mask])\n",
      "C:\\Users\\nabha\\AppData\\Local\\Temp\\ipykernel_23300\\2194527668.py:36: SettingWithCopyWarning: \n",
      "A value is trying to be set on a copy of a slice from a DataFrame\n",
      "\n",
      "See the caveats in the documentation: https://pandas.pydata.org/pandas-docs/stable/user_guide/indexing.html#returning-a-view-versus-a-copy\n",
      "  filtered_df[column].loc[missing_mask] = np.maximum(0, interpolated_values[missing_mask])\n",
      "C:\\Users\\nabha\\AppData\\Local\\Temp\\ipykernel_23300\\2194527668.py:36: SettingWithCopyWarning: \n",
      "A value is trying to be set on a copy of a slice from a DataFrame\n",
      "\n",
      "See the caveats in the documentation: https://pandas.pydata.org/pandas-docs/stable/user_guide/indexing.html#returning-a-view-versus-a-copy\n",
      "  filtered_df[column].loc[missing_mask] = np.maximum(0, interpolated_values[missing_mask])\n",
      "C:\\Users\\nabha\\AppData\\Local\\Temp\\ipykernel_23300\\2194527668.py:36: SettingWithCopyWarning: \n",
      "A value is trying to be set on a copy of a slice from a DataFrame\n",
      "\n",
      "See the caveats in the documentation: https://pandas.pydata.org/pandas-docs/stable/user_guide/indexing.html#returning-a-view-versus-a-copy\n",
      "  filtered_df[column].loc[missing_mask] = np.maximum(0, interpolated_values[missing_mask])\n",
      "C:\\Users\\nabha\\AppData\\Local\\Temp\\ipykernel_23300\\2194527668.py:36: SettingWithCopyWarning: \n",
      "A value is trying to be set on a copy of a slice from a DataFrame\n",
      "\n",
      "See the caveats in the documentation: https://pandas.pydata.org/pandas-docs/stable/user_guide/indexing.html#returning-a-view-versus-a-copy\n",
      "  filtered_df[column].loc[missing_mask] = np.maximum(0, interpolated_values[missing_mask])\n",
      "C:\\Users\\nabha\\AppData\\Local\\Temp\\ipykernel_23300\\2194527668.py:36: SettingWithCopyWarning: \n",
      "A value is trying to be set on a copy of a slice from a DataFrame\n",
      "\n",
      "See the caveats in the documentation: https://pandas.pydata.org/pandas-docs/stable/user_guide/indexing.html#returning-a-view-versus-a-copy\n",
      "  filtered_df[column].loc[missing_mask] = np.maximum(0, interpolated_values[missing_mask])\n",
      "C:\\Users\\nabha\\AppData\\Local\\Temp\\ipykernel_23300\\2194527668.py:36: SettingWithCopyWarning: \n",
      "A value is trying to be set on a copy of a slice from a DataFrame\n",
      "\n",
      "See the caveats in the documentation: https://pandas.pydata.org/pandas-docs/stable/user_guide/indexing.html#returning-a-view-versus-a-copy\n",
      "  filtered_df[column].loc[missing_mask] = np.maximum(0, interpolated_values[missing_mask])\n",
      "C:\\Users\\nabha\\AppData\\Local\\Temp\\ipykernel_23300\\2194527668.py:36: SettingWithCopyWarning: \n",
      "A value is trying to be set on a copy of a slice from a DataFrame\n",
      "\n",
      "See the caveats in the documentation: https://pandas.pydata.org/pandas-docs/stable/user_guide/indexing.html#returning-a-view-versus-a-copy\n",
      "  filtered_df[column].loc[missing_mask] = np.maximum(0, interpolated_values[missing_mask])\n",
      "C:\\Users\\nabha\\AppData\\Local\\Temp\\ipykernel_23300\\2194527668.py:36: SettingWithCopyWarning: \n",
      "A value is trying to be set on a copy of a slice from a DataFrame\n",
      "\n",
      "See the caveats in the documentation: https://pandas.pydata.org/pandas-docs/stable/user_guide/indexing.html#returning-a-view-versus-a-copy\n",
      "  filtered_df[column].loc[missing_mask] = np.maximum(0, interpolated_values[missing_mask])\n",
      "C:\\Users\\nabha\\AppData\\Local\\Temp\\ipykernel_23300\\2194527668.py:36: SettingWithCopyWarning: \n",
      "A value is trying to be set on a copy of a slice from a DataFrame\n",
      "\n",
      "See the caveats in the documentation: https://pandas.pydata.org/pandas-docs/stable/user_guide/indexing.html#returning-a-view-versus-a-copy\n",
      "  filtered_df[column].loc[missing_mask] = np.maximum(0, interpolated_values[missing_mask])\n",
      "C:\\Users\\nabha\\AppData\\Local\\Temp\\ipykernel_23300\\2194527668.py:36: SettingWithCopyWarning: \n",
      "A value is trying to be set on a copy of a slice from a DataFrame\n",
      "\n",
      "See the caveats in the documentation: https://pandas.pydata.org/pandas-docs/stable/user_guide/indexing.html#returning-a-view-versus-a-copy\n",
      "  filtered_df[column].loc[missing_mask] = np.maximum(0, interpolated_values[missing_mask])\n"
     ]
    }
   ],
   "source": [
    "# 1. konversi * dan 99999 jadi nan value\n",
    "float_df.replace(['*','99999',99999], np.nan, inplace=True)\n",
    "\n",
    "# 2. ubah tipe data\n",
    "# Mengubah tipe data menjadi numerik\n",
    "columns_to_convert = [col for col in float_df.columns if col != 'type_of_attack']\n",
    "float_df[columns_to_convert] = float_df[columns_to_convert].astype(float)\n",
    "\n",
    "# 3. parting based on type of attack\n",
    "nmap = filtered_by_type_of_attack(float_df, 'nmap')\n",
    "neptune = filtered_by_type_of_attack(float_df, 'neptune')\n",
    "normal = filtered_by_type_of_attack(float_df, 'normal')\n",
    "dos = filtered_by_type_of_attack(float_df, 'Denial of Service Attack')\n",
    "portsweep = filtered_by_type_of_attack(float_df, 'portsweep')\n",
    "satan = filtered_by_type_of_attack(float_df, 'satan')\n",
    "ipsweep = filtered_by_type_of_attack(float_df, 'ipsweep')\n",
    "smurf = filtered_by_type_of_attack(float_df, 'smurf')\n",
    "\n",
    "# stored df in list\n",
    "filtered_dfs = [nmap, neptune, normal, dos, portsweep, satan, ipsweep, smurf]\n",
    "\n",
    "# Loop through each filtered DataFrame and its corresponding index in the list\n",
    "for filtered_df, attack_type in zip(filtered_dfs, ['nmap', 'neptune', 'normal', 'Denial of Service Attack', 'portsweep', 'satan', 'ipsweep', 'smurf']):\n",
    "    for column in filtered_df.columns:\n",
    "        if pd.api.types.is_numeric_dtype(filtered_df[column]):\n",
    "            # Check if the column contains numeric data\n",
    "            missing_mask = filtered_df[column].isnull()\n",
    "            if missing_mask.any():\n",
    "                # If there are missing values, interpolate\n",
    "                x = filtered_df.index[~missing_mask]\n",
    "                y = filtered_df[column][~missing_mask]\n",
    "                pchip = PchipInterpolator(x, y, extrapolate='periodic')\n",
    "                # Replace NaN values with interpolated values in the same DataFrame (filtered_df)\n",
    "                interpolated_values = pchip(filtered_df.index)\n",
    "                # Ensure the interpolated values are non-negative\n",
    "                filtered_df[column].loc[missing_mask] = np.maximum(0, interpolated_values[missing_mask])\n",
    "\n",
    "    # Copy the interpolated values back to the corresponding rows in the original float_df\n",
    "    float_df.loc[float_df['type_of_attack'] == attack_type, filtered_df.columns] = filtered_df"
   ]
  },
  {
   "cell_type": "code",
   "execution_count": 18,
   "metadata": {},
   "outputs": [],
   "source": [
    "# Delete 'type_of_attack' column\n",
    "float_df = float_df.drop('type_of_attack', axis=1)"
   ]
  },
  {
   "cell_type": "code",
   "execution_count": 19,
   "metadata": {},
   "outputs": [
    {
     "name": "stdout",
     "output_type": "stream",
     "text": [
      "<class 'pandas.core.frame.DataFrame'>\n",
      "Index: 110004 entries, 0 to 112445\n",
      "Data columns (total 8 columns):\n",
      " #   Column                       Non-Null Count   Dtype  \n",
      "---  ------                       --------------   -----  \n",
      " 0   dst_host_same_srv_rate       110004 non-null  float64\n",
      " 1   dst_host_diff_srv_rate       110004 non-null  float64\n",
      " 2   dst_host_same_src_port_rate  110004 non-null  float64\n",
      " 3   dst_host_srv_diff_host_rate  110004 non-null  float64\n",
      " 4   dst_host_serror_rate         110004 non-null  float64\n",
      " 5   dst_host_srv_serror_rate     110004 non-null  float64\n",
      " 6   dst_host_rerror_rate         110004 non-null  float64\n",
      " 7   dst_host_srv_rerror_rate     110004 non-null  float64\n",
      "dtypes: float64(8)\n",
      "memory usage: 7.6 MB\n"
     ]
    }
   ],
   "source": [
    "float_df.info()"
   ]
  },
  {
   "cell_type": "markdown",
   "metadata": {},
   "source": [
    "### 3.4. Replace the Data in df"
   ]
  },
  {
   "cell_type": "code",
   "execution_count": 20,
   "metadata": {},
   "outputs": [],
   "source": [
    "# Create a dictionary where keys are column names and values are corresponding DataFrames\n",
    "replacement_data = {\n",
    "    'land': bin_df,\n",
    "    'logged_in': bin_df,\n",
    "    'root_shell': bin_df,\n",
    "    'su_attempted': bin_df,\n",
    "    'is_host_login': bin_df,\n",
    "    'is_guest_login': bin_df,\n",
    "    'serror_rate': bin_df,\n",
    "    'srv_serror_rate': bin_df,\n",
    "    'rerror_rate': bin_df,\n",
    "    'srv_rerror_rate': bin_df,\n",
    "    'same_srv_rate': bin_df,\n",
    "    'diff_srv_rate': bin_df,\n",
    "    'srv_diff_host_rate': bin_df,\n",
    "    'duration': int_df,\n",
    "    'src_bytes': int_df,\n",
    "    'dst_bytes': int_df,\n",
    "    'wrong_fragment': int_df,\n",
    "    'urgent': int_df,\n",
    "    'hot': int_df,\n",
    "    'num_failed_logins': int_df,\n",
    "    'num_compromised': int_df,\n",
    "    'num_root': int_df,\n",
    "    'num_file_creations': int_df,\n",
    "    'num_shells': int_df,\n",
    "    'num_access_files': int_df,\n",
    "    'num_outbound_cmds': int_df,\n",
    "    'count': int_df,\n",
    "    'srv_count': int_df,\n",
    "    'dst_host_count': int_df,\n",
    "    'dst_host_srv_count': int_df,\n",
    "    'dst_host_same_srv_rate': float_df,\n",
    "    'dst_host_diff_srv_rate': float_df,\n",
    "    'dst_host_same_src_port_rate': float_df,\n",
    "    'dst_host_srv_diff_host_rate': float_df,\n",
    "    'dst_host_serror_rate': float_df,\n",
    "    'dst_host_srv_serror_rate': float_df,\n",
    "    'dst_host_rerror_rate': float_df,\n",
    "    'dst_host_srv_rerror_rate': float_df,\n",
    "}\n",
    "\n",
    "# Iterate over the columns and replace data in 'df'\n",
    "for column_name, source_df in replacement_data.items():\n",
    "    df[column_name] = source_df[column_name]"
   ]
  },
  {
   "cell_type": "markdown",
   "metadata": {},
   "source": [
    "## 4. Feature Engineering - One Hot Encoding"
   ]
  },
  {
   "cell_type": "markdown",
   "metadata": {},
   "source": [
    "### 4.1. Change Categorical Data Into One Hot Encoding"
   ]
  },
  {
   "cell_type": "code",
   "execution_count": 21,
   "metadata": {},
   "outputs": [],
   "source": [
    "def one_hot_encoder(df, cols_to_encode):\n",
    "    df = df.copy()\n",
    "    one_hot_encoded = pd.get_dummies(df[cols_to_encode], columns=cols_to_encode, dtype=int)\n",
    "    df = df.drop(columns=cols_to_encode)\n",
    "    df = pd.concat([df, one_hot_encoded], axis=1)\n",
    "    return df"
   ]
  },
  {
   "cell_type": "code",
   "execution_count": 22,
   "metadata": {},
   "outputs": [],
   "source": [
    "# Kolom-kolom yang ingin di-one-hot encoding\n",
    "cols_to_encode = ['protocol_type', 'service', 'flag']\n",
    "\n",
    "# Terapkan one-hot encoding untuk kolom-kolom tersebut\n",
    "df = one_hot_encoder(df, cols_to_encode)"
   ]
  },
  {
   "cell_type": "code",
   "execution_count": 23,
   "metadata": {},
   "outputs": [
    {
     "data": {
      "text/plain": [
       "(110004, 123)"
      ]
     },
     "execution_count": 23,
     "metadata": {},
     "output_type": "execute_result"
    }
   ],
   "source": [
    "df.shape"
   ]
  },
  {
   "cell_type": "markdown",
   "metadata": {},
   "source": [
    "## 5. Remove Duplicate Data"
   ]
  },
  {
   "cell_type": "code",
   "execution_count": 24,
   "metadata": {},
   "outputs": [],
   "source": [
    "df = df.drop_duplicates()"
   ]
  },
  {
   "cell_type": "code",
   "execution_count": 25,
   "metadata": {},
   "outputs": [
    {
     "data": {
      "text/plain": [
       "(108489, 123)"
      ]
     },
     "execution_count": 25,
     "metadata": {},
     "output_type": "execute_result"
    }
   ],
   "source": [
    "df.shape"
   ]
  },
  {
   "cell_type": "markdown",
   "metadata": {},
   "source": [
    "## 6. Unbalanced Sampling"
   ]
  },
  {
   "cell_type": "code",
   "execution_count": 26,
   "metadata": {},
   "outputs": [],
   "source": [
    "clean_df = df.copy()\n",
    "# feature\n",
    "X = df.drop(columns=['type_of_attack'])\n",
    "# label\n",
    "y = df[['type_of_attack']]"
   ]
  },
  {
   "cell_type": "code",
   "execution_count": 27,
   "metadata": {},
   "outputs": [
    {
     "data": {
      "application/vnd.plotly.v1+json": {
       "config": {
        "plotlyServerURL": "https://plot.ly"
       },
       "data": [
        {
         "branchvalues": "total",
         "domain": {
          "x": [
           0,
           1
          ],
          "y": [
           0,
           1
          ]
         },
         "hovertemplate": "labels=%{label}<br>count=%{value}<br>parent=%{parent}<br>id=%{id}<extra></extra>",
         "ids": [
          "Denial of Service Attack",
          "ipsweep",
          "neptune",
          "nmap",
          "normal",
          "portsweep",
          "satan",
          "smurf"
         ],
         "labels": [
          "Denial of Service Attack",
          "ipsweep",
          "neptune",
          "nmap",
          "normal",
          "portsweep",
          "satan",
          "smurf"
         ],
         "name": "",
         "parents": [
          "",
          "",
          "",
          "",
          "",
          "",
          "",
          ""
         ],
         "type": "treemap",
         "values": [
          1638,
          2894,
          36468,
          1212,
          58756,
          2511,
          2761,
          2249
         ]
        }
       ],
       "layout": {
        "legend": {
         "tracegroupgap": 0
        },
        "margin": {
         "t": 60
        },
        "template": {
         "data": {
          "bar": [
           {
            "error_x": {
             "color": "#2a3f5f"
            },
            "error_y": {
             "color": "#2a3f5f"
            },
            "marker": {
             "line": {
              "color": "#E5ECF6",
              "width": 0.5
             },
             "pattern": {
              "fillmode": "overlay",
              "size": 10,
              "solidity": 0.2
             }
            },
            "type": "bar"
           }
          ],
          "barpolar": [
           {
            "marker": {
             "line": {
              "color": "#E5ECF6",
              "width": 0.5
             },
             "pattern": {
              "fillmode": "overlay",
              "size": 10,
              "solidity": 0.2
             }
            },
            "type": "barpolar"
           }
          ],
          "carpet": [
           {
            "aaxis": {
             "endlinecolor": "#2a3f5f",
             "gridcolor": "white",
             "linecolor": "white",
             "minorgridcolor": "white",
             "startlinecolor": "#2a3f5f"
            },
            "baxis": {
             "endlinecolor": "#2a3f5f",
             "gridcolor": "white",
             "linecolor": "white",
             "minorgridcolor": "white",
             "startlinecolor": "#2a3f5f"
            },
            "type": "carpet"
           }
          ],
          "choropleth": [
           {
            "colorbar": {
             "outlinewidth": 0,
             "ticks": ""
            },
            "type": "choropleth"
           }
          ],
          "contour": [
           {
            "colorbar": {
             "outlinewidth": 0,
             "ticks": ""
            },
            "colorscale": [
             [
              0,
              "#0d0887"
             ],
             [
              0.1111111111111111,
              "#46039f"
             ],
             [
              0.2222222222222222,
              "#7201a8"
             ],
             [
              0.3333333333333333,
              "#9c179e"
             ],
             [
              0.4444444444444444,
              "#bd3786"
             ],
             [
              0.5555555555555556,
              "#d8576b"
             ],
             [
              0.6666666666666666,
              "#ed7953"
             ],
             [
              0.7777777777777778,
              "#fb9f3a"
             ],
             [
              0.8888888888888888,
              "#fdca26"
             ],
             [
              1,
              "#f0f921"
             ]
            ],
            "type": "contour"
           }
          ],
          "contourcarpet": [
           {
            "colorbar": {
             "outlinewidth": 0,
             "ticks": ""
            },
            "type": "contourcarpet"
           }
          ],
          "heatmap": [
           {
            "colorbar": {
             "outlinewidth": 0,
             "ticks": ""
            },
            "colorscale": [
             [
              0,
              "#0d0887"
             ],
             [
              0.1111111111111111,
              "#46039f"
             ],
             [
              0.2222222222222222,
              "#7201a8"
             ],
             [
              0.3333333333333333,
              "#9c179e"
             ],
             [
              0.4444444444444444,
              "#bd3786"
             ],
             [
              0.5555555555555556,
              "#d8576b"
             ],
             [
              0.6666666666666666,
              "#ed7953"
             ],
             [
              0.7777777777777778,
              "#fb9f3a"
             ],
             [
              0.8888888888888888,
              "#fdca26"
             ],
             [
              1,
              "#f0f921"
             ]
            ],
            "type": "heatmap"
           }
          ],
          "heatmapgl": [
           {
            "colorbar": {
             "outlinewidth": 0,
             "ticks": ""
            },
            "colorscale": [
             [
              0,
              "#0d0887"
             ],
             [
              0.1111111111111111,
              "#46039f"
             ],
             [
              0.2222222222222222,
              "#7201a8"
             ],
             [
              0.3333333333333333,
              "#9c179e"
             ],
             [
              0.4444444444444444,
              "#bd3786"
             ],
             [
              0.5555555555555556,
              "#d8576b"
             ],
             [
              0.6666666666666666,
              "#ed7953"
             ],
             [
              0.7777777777777778,
              "#fb9f3a"
             ],
             [
              0.8888888888888888,
              "#fdca26"
             ],
             [
              1,
              "#f0f921"
             ]
            ],
            "type": "heatmapgl"
           }
          ],
          "histogram": [
           {
            "marker": {
             "pattern": {
              "fillmode": "overlay",
              "size": 10,
              "solidity": 0.2
             }
            },
            "type": "histogram"
           }
          ],
          "histogram2d": [
           {
            "colorbar": {
             "outlinewidth": 0,
             "ticks": ""
            },
            "colorscale": [
             [
              0,
              "#0d0887"
             ],
             [
              0.1111111111111111,
              "#46039f"
             ],
             [
              0.2222222222222222,
              "#7201a8"
             ],
             [
              0.3333333333333333,
              "#9c179e"
             ],
             [
              0.4444444444444444,
              "#bd3786"
             ],
             [
              0.5555555555555556,
              "#d8576b"
             ],
             [
              0.6666666666666666,
              "#ed7953"
             ],
             [
              0.7777777777777778,
              "#fb9f3a"
             ],
             [
              0.8888888888888888,
              "#fdca26"
             ],
             [
              1,
              "#f0f921"
             ]
            ],
            "type": "histogram2d"
           }
          ],
          "histogram2dcontour": [
           {
            "colorbar": {
             "outlinewidth": 0,
             "ticks": ""
            },
            "colorscale": [
             [
              0,
              "#0d0887"
             ],
             [
              0.1111111111111111,
              "#46039f"
             ],
             [
              0.2222222222222222,
              "#7201a8"
             ],
             [
              0.3333333333333333,
              "#9c179e"
             ],
             [
              0.4444444444444444,
              "#bd3786"
             ],
             [
              0.5555555555555556,
              "#d8576b"
             ],
             [
              0.6666666666666666,
              "#ed7953"
             ],
             [
              0.7777777777777778,
              "#fb9f3a"
             ],
             [
              0.8888888888888888,
              "#fdca26"
             ],
             [
              1,
              "#f0f921"
             ]
            ],
            "type": "histogram2dcontour"
           }
          ],
          "mesh3d": [
           {
            "colorbar": {
             "outlinewidth": 0,
             "ticks": ""
            },
            "type": "mesh3d"
           }
          ],
          "parcoords": [
           {
            "line": {
             "colorbar": {
              "outlinewidth": 0,
              "ticks": ""
             }
            },
            "type": "parcoords"
           }
          ],
          "pie": [
           {
            "automargin": true,
            "type": "pie"
           }
          ],
          "scatter": [
           {
            "fillpattern": {
             "fillmode": "overlay",
             "size": 10,
             "solidity": 0.2
            },
            "type": "scatter"
           }
          ],
          "scatter3d": [
           {
            "line": {
             "colorbar": {
              "outlinewidth": 0,
              "ticks": ""
             }
            },
            "marker": {
             "colorbar": {
              "outlinewidth": 0,
              "ticks": ""
             }
            },
            "type": "scatter3d"
           }
          ],
          "scattercarpet": [
           {
            "marker": {
             "colorbar": {
              "outlinewidth": 0,
              "ticks": ""
             }
            },
            "type": "scattercarpet"
           }
          ],
          "scattergeo": [
           {
            "marker": {
             "colorbar": {
              "outlinewidth": 0,
              "ticks": ""
             }
            },
            "type": "scattergeo"
           }
          ],
          "scattergl": [
           {
            "marker": {
             "colorbar": {
              "outlinewidth": 0,
              "ticks": ""
             }
            },
            "type": "scattergl"
           }
          ],
          "scattermapbox": [
           {
            "marker": {
             "colorbar": {
              "outlinewidth": 0,
              "ticks": ""
             }
            },
            "type": "scattermapbox"
           }
          ],
          "scatterpolar": [
           {
            "marker": {
             "colorbar": {
              "outlinewidth": 0,
              "ticks": ""
             }
            },
            "type": "scatterpolar"
           }
          ],
          "scatterpolargl": [
           {
            "marker": {
             "colorbar": {
              "outlinewidth": 0,
              "ticks": ""
             }
            },
            "type": "scatterpolargl"
           }
          ],
          "scatterternary": [
           {
            "marker": {
             "colorbar": {
              "outlinewidth": 0,
              "ticks": ""
             }
            },
            "type": "scatterternary"
           }
          ],
          "surface": [
           {
            "colorbar": {
             "outlinewidth": 0,
             "ticks": ""
            },
            "colorscale": [
             [
              0,
              "#0d0887"
             ],
             [
              0.1111111111111111,
              "#46039f"
             ],
             [
              0.2222222222222222,
              "#7201a8"
             ],
             [
              0.3333333333333333,
              "#9c179e"
             ],
             [
              0.4444444444444444,
              "#bd3786"
             ],
             [
              0.5555555555555556,
              "#d8576b"
             ],
             [
              0.6666666666666666,
              "#ed7953"
             ],
             [
              0.7777777777777778,
              "#fb9f3a"
             ],
             [
              0.8888888888888888,
              "#fdca26"
             ],
             [
              1,
              "#f0f921"
             ]
            ],
            "type": "surface"
           }
          ],
          "table": [
           {
            "cells": {
             "fill": {
              "color": "#EBF0F8"
             },
             "line": {
              "color": "white"
             }
            },
            "header": {
             "fill": {
              "color": "#C8D4E3"
             },
             "line": {
              "color": "white"
             }
            },
            "type": "table"
           }
          ]
         },
         "layout": {
          "annotationdefaults": {
           "arrowcolor": "#2a3f5f",
           "arrowhead": 0,
           "arrowwidth": 1
          },
          "autotypenumbers": "strict",
          "coloraxis": {
           "colorbar": {
            "outlinewidth": 0,
            "ticks": ""
           }
          },
          "colorscale": {
           "diverging": [
            [
             0,
             "#8e0152"
            ],
            [
             0.1,
             "#c51b7d"
            ],
            [
             0.2,
             "#de77ae"
            ],
            [
             0.3,
             "#f1b6da"
            ],
            [
             0.4,
             "#fde0ef"
            ],
            [
             0.5,
             "#f7f7f7"
            ],
            [
             0.6,
             "#e6f5d0"
            ],
            [
             0.7,
             "#b8e186"
            ],
            [
             0.8,
             "#7fbc41"
            ],
            [
             0.9,
             "#4d9221"
            ],
            [
             1,
             "#276419"
            ]
           ],
           "sequential": [
            [
             0,
             "#0d0887"
            ],
            [
             0.1111111111111111,
             "#46039f"
            ],
            [
             0.2222222222222222,
             "#7201a8"
            ],
            [
             0.3333333333333333,
             "#9c179e"
            ],
            [
             0.4444444444444444,
             "#bd3786"
            ],
            [
             0.5555555555555556,
             "#d8576b"
            ],
            [
             0.6666666666666666,
             "#ed7953"
            ],
            [
             0.7777777777777778,
             "#fb9f3a"
            ],
            [
             0.8888888888888888,
             "#fdca26"
            ],
            [
             1,
             "#f0f921"
            ]
           ],
           "sequentialminus": [
            [
             0,
             "#0d0887"
            ],
            [
             0.1111111111111111,
             "#46039f"
            ],
            [
             0.2222222222222222,
             "#7201a8"
            ],
            [
             0.3333333333333333,
             "#9c179e"
            ],
            [
             0.4444444444444444,
             "#bd3786"
            ],
            [
             0.5555555555555556,
             "#d8576b"
            ],
            [
             0.6666666666666666,
             "#ed7953"
            ],
            [
             0.7777777777777778,
             "#fb9f3a"
            ],
            [
             0.8888888888888888,
             "#fdca26"
            ],
            [
             1,
             "#f0f921"
            ]
           ]
          },
          "colorway": [
           "#636efa",
           "#EF553B",
           "#00cc96",
           "#ab63fa",
           "#FFA15A",
           "#19d3f3",
           "#FF6692",
           "#B6E880",
           "#FF97FF",
           "#FECB52"
          ],
          "font": {
           "color": "#2a3f5f"
          },
          "geo": {
           "bgcolor": "white",
           "lakecolor": "white",
           "landcolor": "#E5ECF6",
           "showlakes": true,
           "showland": true,
           "subunitcolor": "white"
          },
          "hoverlabel": {
           "align": "left"
          },
          "hovermode": "closest",
          "mapbox": {
           "style": "light"
          },
          "paper_bgcolor": "white",
          "plot_bgcolor": "#E5ECF6",
          "polar": {
           "angularaxis": {
            "gridcolor": "white",
            "linecolor": "white",
            "ticks": ""
           },
           "bgcolor": "#E5ECF6",
           "radialaxis": {
            "gridcolor": "white",
            "linecolor": "white",
            "ticks": ""
           }
          },
          "scene": {
           "xaxis": {
            "backgroundcolor": "#E5ECF6",
            "gridcolor": "white",
            "gridwidth": 2,
            "linecolor": "white",
            "showbackground": true,
            "ticks": "",
            "zerolinecolor": "white"
           },
           "yaxis": {
            "backgroundcolor": "#E5ECF6",
            "gridcolor": "white",
            "gridwidth": 2,
            "linecolor": "white",
            "showbackground": true,
            "ticks": "",
            "zerolinecolor": "white"
           },
           "zaxis": {
            "backgroundcolor": "#E5ECF6",
            "gridcolor": "white",
            "gridwidth": 2,
            "linecolor": "white",
            "showbackground": true,
            "ticks": "",
            "zerolinecolor": "white"
           }
          },
          "shapedefaults": {
           "line": {
            "color": "#2a3f5f"
           }
          },
          "ternary": {
           "aaxis": {
            "gridcolor": "white",
            "linecolor": "white",
            "ticks": ""
           },
           "baxis": {
            "gridcolor": "white",
            "linecolor": "white",
            "ticks": ""
           },
           "bgcolor": "#E5ECF6",
           "caxis": {
            "gridcolor": "white",
            "linecolor": "white",
            "ticks": ""
           }
          },
          "title": {
           "x": 0.05
          },
          "xaxis": {
           "automargin": true,
           "gridcolor": "white",
           "linecolor": "white",
           "ticks": "",
           "title": {
            "standoff": 15
           },
           "zerolinecolor": "white",
           "zerolinewidth": 2
          },
          "yaxis": {
           "automargin": true,
           "gridcolor": "white",
           "linecolor": "white",
           "ticks": "",
           "title": {
            "standoff": 15
           },
           "zerolinecolor": "white",
           "zerolinewidth": 2
          }
         }
        }
       }
      }
     },
     "metadata": {},
     "output_type": "display_data"
    }
   ],
   "source": [
    "# Create the TreeMap\n",
    "fig = px.treemap(data_frame=df, path=['type_of_attack'])\n",
    "fig.show()"
   ]
  },
  {
   "cell_type": "code",
   "execution_count": 28,
   "metadata": {},
   "outputs": [],
   "source": [
    "smote_enn = SMOTEENN(sampling_strategy='auto', random_state=42)\n",
    "X_resampled, y_resampled = smote_enn.fit_resample(X, y)"
   ]
  },
  {
   "cell_type": "code",
   "execution_count": null,
   "metadata": {},
   "outputs": [],
   "source": [
    "# Menggabungkan data yang sudah diresampling menjadi satu DataFrame\n",
    "resampled_df = pd.concat([X_resampled, y_resampled], axis=1)\n",
    "\n",
    "# Buat TreeMap dengan data resampled_df\n",
    "fig = px.treemap(\n",
    "    data_frame=resampled_df,\n",
    "    path=['type_of_attack'],\n",
    "    color='type_of_attack'\n",
    ")\n",
    "\n",
    "# Menampilkan plot\n",
    "fig.show()"
   ]
  },
  {
   "cell_type": "markdown",
   "metadata": {},
   "source": [
    "# Exploratory Data Analysis"
   ]
  },
  {
   "cell_type": "markdown",
   "metadata": {},
   "source": [
    "## 1. Normalization"
   ]
  },
  {
   "cell_type": "code",
   "execution_count": null,
   "metadata": {},
   "outputs": [],
   "source": [
    "# minMax = MinMaxScaler()\n",
    "# for col in X.columns:\n",
    "#     X[col] = minMax.fit_transform(X[[col]])\n",
    "# X.head()"
   ]
  },
  {
   "cell_type": "markdown",
   "metadata": {},
   "source": [
    "## 1. Check Correlation"
   ]
  },
  {
   "cell_type": "code",
   "execution_count": null,
   "metadata": {},
   "outputs": [],
   "source": [
    "# Calculate the Spearman correlation matrix\n",
    "corr = X.corr(method='spearman')\n",
    "\n",
    "# Change the main diagonal (correlation of columns with themselves) to NaN\n",
    "for i in range(corr.shape[0]):\n",
    "    corr.iloc[i, i] = np.nan\n",
    "\n",
    "# Find columns with correlations > 0.95 or < -0.95\n",
    "high_corr_cols = (corr.abs() > 0.95).any()\n",
    "\n",
    "# Get the column names with high correlations and their correlation values\n",
    "high_corr_columns = X.columns[high_corr_cols]\n",
    "\n",
    "# Create a dictionary to store the correlated columns and their correlation values\n",
    "correlation_data = {}\n",
    "\n",
    "# Calculate and store the correlated columns and their correlation values\n",
    "for col in high_corr_columns:\n",
    "    correlated_cols = corr.index[corr[col].abs() > 0.95].tolist()\n",
    "    if col in correlated_cols:\n",
    "        correlated_cols.remove(col)  # Remove itself from the list if present\n",
    "    correlated_data = {}\n",
    "    for correlated_col in correlated_cols:\n",
    "        correlation_value, _ = spearmanr(X[col], X[correlated_col])\n",
    "        correlated_data[correlated_col] = correlation_value\n",
    "    correlation_data[col] = correlated_data\n"
   ]
  },
  {
   "cell_type": "code",
   "execution_count": null,
   "metadata": {},
   "outputs": [],
   "source": [
    "# Define the file path where you want to save the output\n",
    "output_file_path = 'high_correlation.txt'\n",
    "\n",
    "# Open the file for writing\n",
    "with open(output_file_path, 'w') as file:\n",
    "    # Iterate through the correlation data dictionary and write it to the file\n",
    "    for col, correlated_data in correlation_data.items():\n",
    "        file.write(f\"Kolom '{col}' berkorelasi dengan kolom-kolom berikut:\\n\")\n",
    "        for correlated_col, correlation_value in correlated_data.items():\n",
    "            file.write(f\"{correlated_col}: {correlation_value:.2f}\\n\")\n",
    "        file.write('\\n')"
   ]
  },
  {
   "cell_type": "code",
   "execution_count": null,
   "metadata": {},
   "outputs": [],
   "source": [
    "# Check heat map with blue colormap\n",
    "corr_mat = X.corr(method='spearman')\n",
    "f, ax = plt.subplots(figsize=(12, 9))\n",
    "sns.heatmap(corr_mat, vmax=.8, square=True, cmap='Blues', ax=ax)\n",
    "plt.show()"
   ]
  },
  {
   "cell_type": "markdown",
   "metadata": {},
   "source": [
    "## 2. Unbalanced Sampling"
   ]
  },
  {
   "cell_type": "code",
   "execution_count": null,
   "metadata": {},
   "outputs": [],
   "source": [
    "# # percentage based on 'type_of_attack' in df\n",
    "# df['type_of_attack'].value_counts(normalize=True) * 100"
   ]
  },
  {
   "cell_type": "markdown",
   "metadata": {},
   "source": [
    "# Train Test Split"
   ]
  },
  {
   "cell_type": "code",
   "execution_count": null,
   "metadata": {},
   "outputs": [],
   "source": [
    "# # separate train and test sets\n",
    "# X_train, X_test, y_train, y_test = train_test_split(\n",
    "#     resampled_df.drop(labels=['type_of_attack'], axis=1),\n",
    "#     resampled_df['type_of_attack'],\n",
    "#     test_size=0.2, \n",
    "#     random_state=5)\n",
    "\n",
    "# X_train.shape, X_test.shape"
   ]
  },
  {
   "cell_type": "code",
   "execution_count": null,
   "metadata": {},
   "outputs": [],
   "source": []
  },
  {
   "cell_type": "markdown",
   "metadata": {},
   "source": []
  }
 ],
 "metadata": {
  "kernelspec": {
   "display_name": "dac23",
   "language": "python",
   "name": "python3"
  },
  "language_info": {
   "codemirror_mode": {
    "name": "ipython",
    "version": 3
   },
   "file_extension": ".py",
   "mimetype": "text/x-python",
   "name": "python",
   "nbconvert_exporter": "python",
   "pygments_lexer": "ipython3",
   "version": "3.9.0"
  },
  "orig_nbformat": 4
 },
 "nbformat": 4,
 "nbformat_minor": 2
}
